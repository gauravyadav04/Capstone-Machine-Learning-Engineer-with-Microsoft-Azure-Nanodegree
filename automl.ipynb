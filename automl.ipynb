{
 "cells": [
  {
   "cell_type": "markdown",
   "metadata": {},
   "source": [
    "# Automated ML\n",
    "\n",
    "TODO: Import Dependencies. In the cell below, import all the dependencies that you will need to complete the project."
   ]
  },
  {
   "cell_type": "code",
   "execution_count": 1,
   "metadata": {
    "gather": {
     "logged": 1612692985847
    },
    "jupyter": {
     "outputs_hidden": false,
     "source_hidden": false
    },
    "nteract": {
     "transient": {
      "deleting": false
     }
    }
   },
   "outputs": [
    {
     "name": "stdout",
     "output_type": "stream",
     "text": [
      "SDK version: 1.20.0\n"
     ]
    }
   ],
   "source": [
    "import logging\n",
    "import os\n",
    "import csv\n",
    "\n",
    "from matplotlib import pyplot as plt\n",
    "import numpy as np\n",
    "import pandas as pd\n",
    "from sklearn import datasets\n",
    "import pkg_resources\n",
    "\n",
    "import azureml.core\n",
    "from azureml.core.model import Model\n",
    "from azureml.core.experiment import Experiment\n",
    "from azureml.core.workspace import Workspace\n",
    "from azureml.train.automl import AutoMLConfig\n",
    "from azureml.core.dataset import Dataset\n",
    "\n",
    "from azureml.pipeline.steps import AutoMLStep\n",
    "\n",
    "# Check core SDK version number\n",
    "print(\"SDK version:\", azureml.core.VERSION)"
   ]
  },
  {
   "cell_type": "markdown",
   "metadata": {},
   "source": [
    "## Dataset - Heart Failure Clinical Records Dataset\n",
    "\n",
    "### Overview\n",
    "Cardiovascular diseases (CVDs) are the number 1 cause of death globally, taking an estimated 17.9 million lives each year, which accounts for 31% of all deaths worlwide.\n",
    "Heart failure is a common event caused by CVDs and this dataset contains 12 features that can be used to predict mortality by heart failure.\n",
    "\n",
    "Most cardiovascular diseases can be prevented by addressing behavioural risk factors such as tobacco use, unhealthy diet and obesity, physical inactivity and harmful use of alcohol using population-wide strategies.\n",
    "\n",
    "People with cardiovascular disease or who are at high cardiovascular risk (due to the presence of one or more risk factors such as hypertension, diabetes, hyperlipidaemia or already established disease) need early detection and management wherein a machine learning model can be of great help.\n",
    "\n",
    "### Objective\n",
    "Train a model to predict whether the person with Cardiovascular disease will survive or not"
   ]
  },
  {
   "cell_type": "code",
   "execution_count": null,
   "metadata": {
    "gather": {
     "logged": 1612693038856
    },
    "jupyter": {
     "outputs_hidden": false,
     "source_hidden": false
    },
    "nteract": {
     "transient": {
      "deleting": false
     }
    }
   },
   "outputs": [],
   "source": [
    "# Initialize Workspace\n",
    "ws = Workspace.from_config()\n",
    "print(ws.name, ws.resource_group, ws.location, ws.subscription_id, sep = '\\n')\n",
    "\n",
    "# choose a name for experiment\n",
    "experiment_name = 'automl_heart_failure_prediction'\n",
    "project_folder = './automl'\n",
    "\n",
    "experiment=Experiment(ws, experiment_name)"
   ]
  },
  {
   "cell_type": "code",
   "execution_count": 2,
   "metadata": {
    "gather": {
     "logged": 1612693038856
    },
    "jupyter": {
     "outputs_hidden": false,
     "source_hidden": false
    },
    "nteract": {
     "transient": {
      "deleting": false
     }
    }
   },
   "outputs": [
    {
     "name": "stdout",
     "output_type": "stream",
     "text": [
      "Performing interactive authentication. Please follow the instructions on the terminal.\n",
      "To sign in, use a web browser to open the page https://microsoft.com/devicelogin and enter the code F6YCPV7ZF to authenticate.\n",
      "You have logged in. Now let us find all the subscriptions to which you have access...\n",
      "Interactive authentication successfully completed.\n",
      "quick-starts-ws-137804\n",
      "aml-quickstarts-137804\n",
      "southcentralus\n",
      "f9d5a085-54dc-4215-9ba6-dad5d86e60a0\n"
     ]
    },
    {
     "data": {
      "text/html": [
       "<table style=\"width:100%\"><tr><th>Name</th><th>Workspace</th><th>Report Page</th><th>Docs Page</th></tr><tr><td>automl_heart_failure_prediction</td><td>quick-starts-ws-137804</td><td><a href=\"https://ml.azure.com/experiments/automl_heart_failure_prediction?wsid=/subscriptions/f9d5a085-54dc-4215-9ba6-dad5d86e60a0/resourcegroups/aml-quickstarts-137804/workspaces/quick-starts-ws-137804\" target=\"_blank\" rel=\"noopener\">Link to Azure Machine Learning studio</a></td><td><a href=\"https://docs.microsoft.com/en-us/python/api/azureml-core/azureml.core.experiment.Experiment?view=azure-ml-py\" target=\"_blank\" rel=\"noopener\">Link to Documentation</a></td></tr></table>"
      ],
      "text/plain": [
       "Experiment(Name: automl_heart_failure_prediction,\n",
       "Workspace: quick-starts-ws-137804)"
      ]
     },
     "execution_count": 2,
     "metadata": {},
     "output_type": "execute_result"
    }
   ],
   "source": [
    "print('Workspace name: ' + ws.name, \n",
    "      'Azure region: ' + ws.location, \n",
    "      'Subscription id: ' + ws.subscription_id, \n",
    "      'Resource group: ' + ws.resource_group, sep = '\\n')"
   ]
  },
  {
   "cell_type": "markdown",
   "metadata": {},
   "source": [
    "## Create or Attach an AmlCompute cluster"
   ]
  },
  {
   "cell_type": "code",
   "execution_count": 3,
   "metadata": {
    "gather": {
     "logged": 1612693674220
    }
   },
   "outputs": [
    {
     "name": "stdout",
     "output_type": "stream",
     "text": [
      "Creating\n",
      "Succeeded.................................................................................................................\n",
      "AmlCompute wait for completion finished\n",
      "\n",
      "Wait timeout has been reached\n",
      "Current provisioning state of AmlCompute is \"Succeeded\" and current node count is \"0\"\n"
     ]
    }
   ],
   "source": [
    "from azureml.core.compute import AmlCompute\n",
    "from azureml.core.compute import ComputeTarget\n",
    "from azureml.core.compute_target import ComputeTargetException\n",
    "\n",
    "compute_cluster_name = \"capstone-cluster\"\n",
    "\n",
    "# Verify that cluster does not exist already\n",
    "try:\n",
    "    compute_target = ComputeTarget(workspace = ws, name = compute_cluster_name)\n",
    "    print('Found existing cluster, use it.')\n",
    "    \n",
    "except ComputeTargetException:\n",
    "    compute_config = AmlCompute.provisioning_configuration(vm_size='STANDARD_D2_V2',# for GPU, use \"STANDARD_NC6\"\n",
    "                                                           #vm_priority = 'lowpriority', # optional\n",
    "                                                           max_nodes=4)\n",
    "    compute_target = ComputeTarget.create(ws, compute_cluster_name, compute_config)\n",
    "\n",
    "compute_target.wait_for_completion(show_output=True, min_node_count = 1, timeout_in_minutes = 10)\n",
    "# For a more detailed view of current AmlCompute status, use get_status()."
   ]
  },
  {
   "cell_type": "markdown",
   "metadata": {},
   "source": [
    "## Data"
   ]
  },
  {
   "cell_type": "code",
   "execution_count": 4,
   "metadata": {
    "gather": {
     "logged": 1612693680097
    }
   },
   "outputs": [
    {
     "data": {
      "text/html": [
       "<div>\n",
       "<style scoped>\n",
       "    .dataframe tbody tr th:only-of-type {\n",
       "        vertical-align: middle;\n",
       "    }\n",
       "\n",
       "    .dataframe tbody tr th {\n",
       "        vertical-align: top;\n",
       "    }\n",
       "\n",
       "    .dataframe thead th {\n",
       "        text-align: right;\n",
       "    }\n",
       "</style>\n",
       "<table border=\"1\" class=\"dataframe\">\n",
       "  <thead>\n",
       "    <tr style=\"text-align: right;\">\n",
       "      <th></th>\n",
       "      <th>age</th>\n",
       "      <th>anaemia</th>\n",
       "      <th>creatinine_phosphokinase</th>\n",
       "      <th>diabetes</th>\n",
       "      <th>ejection_fraction</th>\n",
       "      <th>high_blood_pressure</th>\n",
       "      <th>platelets</th>\n",
       "      <th>serum_creatinine</th>\n",
       "      <th>serum_sodium</th>\n",
       "      <th>sex</th>\n",
       "      <th>smoking</th>\n",
       "      <th>time</th>\n",
       "      <th>DEATH_EVENT</th>\n",
       "    </tr>\n",
       "  </thead>\n",
       "  <tbody>\n",
       "    <tr>\n",
       "      <th>0</th>\n",
       "      <td>75.0</td>\n",
       "      <td>0</td>\n",
       "      <td>582</td>\n",
       "      <td>0</td>\n",
       "      <td>20</td>\n",
       "      <td>1</td>\n",
       "      <td>265000.00</td>\n",
       "      <td>1.9</td>\n",
       "      <td>130</td>\n",
       "      <td>1</td>\n",
       "      <td>0</td>\n",
       "      <td>4</td>\n",
       "      <td>1</td>\n",
       "    </tr>\n",
       "    <tr>\n",
       "      <th>1</th>\n",
       "      <td>55.0</td>\n",
       "      <td>0</td>\n",
       "      <td>7861</td>\n",
       "      <td>0</td>\n",
       "      <td>38</td>\n",
       "      <td>0</td>\n",
       "      <td>263358.03</td>\n",
       "      <td>1.1</td>\n",
       "      <td>136</td>\n",
       "      <td>1</td>\n",
       "      <td>0</td>\n",
       "      <td>6</td>\n",
       "      <td>1</td>\n",
       "    </tr>\n",
       "    <tr>\n",
       "      <th>2</th>\n",
       "      <td>65.0</td>\n",
       "      <td>0</td>\n",
       "      <td>146</td>\n",
       "      <td>0</td>\n",
       "      <td>20</td>\n",
       "      <td>0</td>\n",
       "      <td>162000.00</td>\n",
       "      <td>1.3</td>\n",
       "      <td>129</td>\n",
       "      <td>1</td>\n",
       "      <td>1</td>\n",
       "      <td>7</td>\n",
       "      <td>1</td>\n",
       "    </tr>\n",
       "    <tr>\n",
       "      <th>3</th>\n",
       "      <td>50.0</td>\n",
       "      <td>1</td>\n",
       "      <td>111</td>\n",
       "      <td>0</td>\n",
       "      <td>20</td>\n",
       "      <td>0</td>\n",
       "      <td>210000.00</td>\n",
       "      <td>1.9</td>\n",
       "      <td>137</td>\n",
       "      <td>1</td>\n",
       "      <td>0</td>\n",
       "      <td>7</td>\n",
       "      <td>1</td>\n",
       "    </tr>\n",
       "    <tr>\n",
       "      <th>4</th>\n",
       "      <td>65.0</td>\n",
       "      <td>1</td>\n",
       "      <td>160</td>\n",
       "      <td>1</td>\n",
       "      <td>20</td>\n",
       "      <td>0</td>\n",
       "      <td>327000.00</td>\n",
       "      <td>2.7</td>\n",
       "      <td>116</td>\n",
       "      <td>0</td>\n",
       "      <td>0</td>\n",
       "      <td>8</td>\n",
       "      <td>1</td>\n",
       "    </tr>\n",
       "  </tbody>\n",
       "</table>\n",
       "</div>"
      ],
      "text/plain": [
       "    age  anaemia  creatinine_phosphokinase  diabetes  ejection_fraction  \\\n",
       "0  75.0        0                       582         0                 20   \n",
       "1  55.0        0                      7861         0                 38   \n",
       "2  65.0        0                       146         0                 20   \n",
       "3  50.0        1                       111         0                 20   \n",
       "4  65.0        1                       160         1                 20   \n",
       "\n",
       "   high_blood_pressure  platelets  serum_creatinine  serum_sodium  sex  \\\n",
       "0                    1  265000.00               1.9           130    1   \n",
       "1                    0  263358.03               1.1           136    1   \n",
       "2                    0  162000.00               1.3           129    1   \n",
       "3                    0  210000.00               1.9           137    1   \n",
       "4                    0  327000.00               2.7           116    0   \n",
       "\n",
       "   smoking  time  DEATH_EVENT  \n",
       "0        0     4            1  \n",
       "1        0     6            1  \n",
       "2        1     7            1  \n",
       "3        0     7            1  \n",
       "4        0     8            1  "
      ]
     },
     "execution_count": 4,
     "metadata": {},
     "output_type": "execute_result"
    }
   ],
   "source": [
    "dataset = Dataset.get_by_name(ws, name='Heart_Failure_Clinical_Records_Dataset')\n",
    "\n",
    "df = dataset.to_pandas_dataframe()\n",
    "\n",
    "df.head()"
   ]
  },
  {
   "cell_type": "code",
   "execution_count": 5,
   "metadata": {
    "gather": {
     "logged": 1612693778771
    }
   },
   "outputs": [
    {
     "data": {
      "text/html": [
       "<div>\n",
       "<style scoped>\n",
       "    .dataframe tbody tr th:only-of-type {\n",
       "        vertical-align: middle;\n",
       "    }\n",
       "\n",
       "    .dataframe tbody tr th {\n",
       "        vertical-align: top;\n",
       "    }\n",
       "\n",
       "    .dataframe thead th {\n",
       "        text-align: right;\n",
       "    }\n",
       "</style>\n",
       "<table border=\"1\" class=\"dataframe\">\n",
       "  <thead>\n",
       "    <tr style=\"text-align: right;\">\n",
       "      <th></th>\n",
       "      <th>age</th>\n",
       "      <th>anaemia</th>\n",
       "      <th>creatinine_phosphokinase</th>\n",
       "      <th>diabetes</th>\n",
       "      <th>ejection_fraction</th>\n",
       "      <th>high_blood_pressure</th>\n",
       "      <th>platelets</th>\n",
       "      <th>serum_creatinine</th>\n",
       "      <th>serum_sodium</th>\n",
       "      <th>sex</th>\n",
       "      <th>smoking</th>\n",
       "      <th>time</th>\n",
       "      <th>DEATH_EVENT</th>\n",
       "    </tr>\n",
       "  </thead>\n",
       "  <tbody>\n",
       "    <tr>\n",
       "      <th>count</th>\n",
       "      <td>299.000000</td>\n",
       "      <td>299.000000</td>\n",
       "      <td>299.000000</td>\n",
       "      <td>299.000000</td>\n",
       "      <td>299.000000</td>\n",
       "      <td>299.000000</td>\n",
       "      <td>299.000000</td>\n",
       "      <td>299.00000</td>\n",
       "      <td>299.000000</td>\n",
       "      <td>299.000000</td>\n",
       "      <td>299.00000</td>\n",
       "      <td>299.000000</td>\n",
       "      <td>299.00000</td>\n",
       "    </tr>\n",
       "    <tr>\n",
       "      <th>mean</th>\n",
       "      <td>60.833893</td>\n",
       "      <td>0.431438</td>\n",
       "      <td>581.839465</td>\n",
       "      <td>0.418060</td>\n",
       "      <td>38.083612</td>\n",
       "      <td>0.351171</td>\n",
       "      <td>263358.029264</td>\n",
       "      <td>1.39388</td>\n",
       "      <td>136.625418</td>\n",
       "      <td>0.648829</td>\n",
       "      <td>0.32107</td>\n",
       "      <td>130.260870</td>\n",
       "      <td>0.32107</td>\n",
       "    </tr>\n",
       "    <tr>\n",
       "      <th>std</th>\n",
       "      <td>11.894809</td>\n",
       "      <td>0.496107</td>\n",
       "      <td>970.287881</td>\n",
       "      <td>0.494067</td>\n",
       "      <td>11.834841</td>\n",
       "      <td>0.478136</td>\n",
       "      <td>97804.236869</td>\n",
       "      <td>1.03451</td>\n",
       "      <td>4.412477</td>\n",
       "      <td>0.478136</td>\n",
       "      <td>0.46767</td>\n",
       "      <td>77.614208</td>\n",
       "      <td>0.46767</td>\n",
       "    </tr>\n",
       "    <tr>\n",
       "      <th>min</th>\n",
       "      <td>40.000000</td>\n",
       "      <td>0.000000</td>\n",
       "      <td>23.000000</td>\n",
       "      <td>0.000000</td>\n",
       "      <td>14.000000</td>\n",
       "      <td>0.000000</td>\n",
       "      <td>25100.000000</td>\n",
       "      <td>0.50000</td>\n",
       "      <td>113.000000</td>\n",
       "      <td>0.000000</td>\n",
       "      <td>0.00000</td>\n",
       "      <td>4.000000</td>\n",
       "      <td>0.00000</td>\n",
       "    </tr>\n",
       "    <tr>\n",
       "      <th>25%</th>\n",
       "      <td>51.000000</td>\n",
       "      <td>0.000000</td>\n",
       "      <td>116.500000</td>\n",
       "      <td>0.000000</td>\n",
       "      <td>30.000000</td>\n",
       "      <td>0.000000</td>\n",
       "      <td>212500.000000</td>\n",
       "      <td>0.90000</td>\n",
       "      <td>134.000000</td>\n",
       "      <td>0.000000</td>\n",
       "      <td>0.00000</td>\n",
       "      <td>73.000000</td>\n",
       "      <td>0.00000</td>\n",
       "    </tr>\n",
       "    <tr>\n",
       "      <th>50%</th>\n",
       "      <td>60.000000</td>\n",
       "      <td>0.000000</td>\n",
       "      <td>250.000000</td>\n",
       "      <td>0.000000</td>\n",
       "      <td>38.000000</td>\n",
       "      <td>0.000000</td>\n",
       "      <td>262000.000000</td>\n",
       "      <td>1.10000</td>\n",
       "      <td>137.000000</td>\n",
       "      <td>1.000000</td>\n",
       "      <td>0.00000</td>\n",
       "      <td>115.000000</td>\n",
       "      <td>0.00000</td>\n",
       "    </tr>\n",
       "    <tr>\n",
       "      <th>75%</th>\n",
       "      <td>70.000000</td>\n",
       "      <td>1.000000</td>\n",
       "      <td>582.000000</td>\n",
       "      <td>1.000000</td>\n",
       "      <td>45.000000</td>\n",
       "      <td>1.000000</td>\n",
       "      <td>303500.000000</td>\n",
       "      <td>1.40000</td>\n",
       "      <td>140.000000</td>\n",
       "      <td>1.000000</td>\n",
       "      <td>1.00000</td>\n",
       "      <td>203.000000</td>\n",
       "      <td>1.00000</td>\n",
       "    </tr>\n",
       "    <tr>\n",
       "      <th>max</th>\n",
       "      <td>95.000000</td>\n",
       "      <td>1.000000</td>\n",
       "      <td>7861.000000</td>\n",
       "      <td>1.000000</td>\n",
       "      <td>80.000000</td>\n",
       "      <td>1.000000</td>\n",
       "      <td>850000.000000</td>\n",
       "      <td>9.40000</td>\n",
       "      <td>148.000000</td>\n",
       "      <td>1.000000</td>\n",
       "      <td>1.00000</td>\n",
       "      <td>285.000000</td>\n",
       "      <td>1.00000</td>\n",
       "    </tr>\n",
       "  </tbody>\n",
       "</table>\n",
       "</div>"
      ],
      "text/plain": [
       "              age     anaemia  creatinine_phosphokinase    diabetes  \\\n",
       "count  299.000000  299.000000                299.000000  299.000000   \n",
       "mean    60.833893    0.431438                581.839465    0.418060   \n",
       "std     11.894809    0.496107                970.287881    0.494067   \n",
       "min     40.000000    0.000000                 23.000000    0.000000   \n",
       "25%     51.000000    0.000000                116.500000    0.000000   \n",
       "50%     60.000000    0.000000                250.000000    0.000000   \n",
       "75%     70.000000    1.000000                582.000000    1.000000   \n",
       "max     95.000000    1.000000               7861.000000    1.000000   \n",
       "\n",
       "       ejection_fraction  high_blood_pressure      platelets  \\\n",
       "count         299.000000           299.000000     299.000000   \n",
       "mean           38.083612             0.351171  263358.029264   \n",
       "std            11.834841             0.478136   97804.236869   \n",
       "min            14.000000             0.000000   25100.000000   \n",
       "25%            30.000000             0.000000  212500.000000   \n",
       "50%            38.000000             0.000000  262000.000000   \n",
       "75%            45.000000             1.000000  303500.000000   \n",
       "max            80.000000             1.000000  850000.000000   \n",
       "\n",
       "       serum_creatinine  serum_sodium         sex    smoking        time  \\\n",
       "count         299.00000    299.000000  299.000000  299.00000  299.000000   \n",
       "mean            1.39388    136.625418    0.648829    0.32107  130.260870   \n",
       "std             1.03451      4.412477    0.478136    0.46767   77.614208   \n",
       "min             0.50000    113.000000    0.000000    0.00000    4.000000   \n",
       "25%             0.90000    134.000000    0.000000    0.00000   73.000000   \n",
       "50%             1.10000    137.000000    1.000000    0.00000  115.000000   \n",
       "75%             1.40000    140.000000    1.000000    1.00000  203.000000   \n",
       "max             9.40000    148.000000    1.000000    1.00000  285.000000   \n",
       "\n",
       "       DEATH_EVENT  \n",
       "count    299.00000  \n",
       "mean       0.32107  \n",
       "std        0.46767  \n",
       "min        0.00000  \n",
       "25%        0.00000  \n",
       "50%        0.00000  \n",
       "75%        1.00000  \n",
       "max        1.00000  "
      ]
     },
     "execution_count": 5,
     "metadata": {},
     "output_type": "execute_result"
    }
   ],
   "source": [
    "df.describe()"
   ]
  },
  {
   "cell_type": "markdown",
   "metadata": {},
   "source": [
    "## AutoML Configuration\n",
    "\n",
    "TODO: Explain why you chose the automl settings and cofiguration you used below."
   ]
  },
  {
   "cell_type": "code",
   "execution_count": 9,
   "metadata": {
    "collapsed": true,
    "gather": {
     "logged": 1612694131083
    },
    "jupyter": {
     "outputs_hidden": false,
     "source_hidden": false
    },
    "nteract": {
     "transient": {
      "deleting": false
     }
    }
   },
   "outputs": [],
   "source": [
    "project_folder = './automl'"
   ]
  },
  {
   "cell_type": "code",
   "execution_count": 20,
   "metadata": {
    "gather": {
     "logged": 1612700719217
    },
    "jupyter": {
     "outputs_hidden": false,
     "source_hidden": false
    },
    "nteract": {
     "transient": {
      "deleting": false
     }
    }
   },
   "outputs": [],
   "source": [
    "if \"automl\" not in os.listdir():\n",
    "    os.mkdir(\"./automl\")\n",
    "\n",
    "# TODO: Put your automl settings here\n",
    "automl_settings = {\"experiment_timeout_minutes\": 30,\n",
    "    \"max_concurrent_iterations\": 4,\n",
    "    \"n_cross_validations\":5,\n",
    "    \"primary_metric\" : 'accuracy'}\n",
    "\n",
    "# TODO: Put your automl config here\n",
    "automl_config = AutoMLConfig(compute_target=compute_target,\n",
    "                             task = \"classification\",\n",
    "                             training_data = dataset,\n",
    "                             label_column_name = \"DEATH_EVENT\",\n",
    "                             path = project_folder,\n",
    "                             enable_early_stopping = True,\n",
    "                             featurization= 'auto',\n",
    "                             debug_log = \"automl_errors.log\",\n",
    "                             **automl_settings)"
   ]
  },
  {
   "cell_type": "code",
   "execution_count": 21,
   "metadata": {
    "gather": {
     "logged": 1612700664306
    },
    "jupyter": {
     "outputs_hidden": false,
     "source_hidden": false
    },
    "nteract": {
     "transient": {
      "deleting": false
     }
    }
   },
   "outputs": [
    {
     "name": "stdout",
     "output_type": "stream",
     "text": [
      "Running on remote.\n"
     ]
    }
   ],
   "source": [
    "# TODO: Submit your experiment\n",
    "remote_run = experiment.submit(automl_config)"
   ]
  },
  {
   "cell_type": "markdown",
   "metadata": {},
   "source": [
    "## Run Details\n",
    "\n",
    "OPTIONAL: Write about the different models trained and their performance. Why do you think some models did better than others?\n",
    "\n",
    "TODO: In the cell below, use the `RunDetails` widget to show the different experiments."
   ]
  },
  {
   "cell_type": "code",
   "execution_count": 17,
   "metadata": {
    "gather": {
     "logged": 1612700585728
    },
    "jupyter": {
     "outputs_hidden": false,
     "source_hidden": false
    },
    "nteract": {
     "transient": {
      "deleting": false
     }
    }
   },
   "outputs": [
    {
     "data": {
      "application/vnd.jupyter.widget-view+json": {
       "model_id": "619a6f5267b14a9b9aaca7b817b2b864",
       "version_major": 2,
       "version_minor": 0
      },
      "text/plain": [
       "_AutoMLWidget(widget_settings={'childWidgetDisplay': 'popup', 'send_telemetry': False, 'log_level': 'INFO', 's…"
      ]
     },
     "metadata": {},
     "output_type": "display_data"
    },
    {
     "data": {
      "application/aml.mini.widget.v1": "{\"status\": \"Completed\", \"workbench_run_details_uri\": \"https://ml.azure.com/experiments/automl_heart_failure_prediction/runs/AutoML_62097164-b25d-43d6-9bc1-d749f6dfa2f9?wsid=/subscriptions/f9d5a085-54dc-4215-9ba6-dad5d86e60a0/resourcegroups/aml-quickstarts-137804/workspaces/quick-starts-ws-137804\", \"run_id\": \"AutoML_62097164-b25d-43d6-9bc1-d749f6dfa2f9\", \"run_properties\": {\"run_id\": \"AutoML_62097164-b25d-43d6-9bc1-d749f6dfa2f9\", \"created_utc\": \"2021-02-07T11:44:27.15309Z\", \"properties\": {\"num_iterations\": \"1000\", \"training_type\": \"TrainFull\", \"acquisition_function\": \"EI\", \"primary_metric\": \"accuracy\", \"train_split\": \"0\", \"acquisition_parameter\": \"0\", \"num_cross_validation\": null, \"target\": \"capstone-cluster\", \"AMLSettingsJsonString\": \"{\\\"path\\\":null,\\\"name\\\":\\\"automl_heart_failure_prediction\\\",\\\"subscription_id\\\":\\\"f9d5a085-54dc-4215-9ba6-dad5d86e60a0\\\",\\\"resource_group\\\":\\\"aml-quickstarts-137804\\\",\\\"workspace_name\\\":\\\"quick-starts-ws-137804\\\",\\\"region\\\":\\\"southcentralus\\\",\\\"compute_target\\\":\\\"capstone-cluster\\\",\\\"spark_service\\\":null,\\\"azure_service\\\":\\\"remote\\\",\\\"many_models\\\":false,\\\"pipeline_fetch_max_batch_size\\\":1,\\\"iterations\\\":1000,\\\"primary_metric\\\":\\\"accuracy\\\",\\\"task_type\\\":\\\"classification\\\",\\\"data_script\\\":null,\\\"validation_size\\\":0.0,\\\"n_cross_validations\\\":null,\\\"y_min\\\":null,\\\"y_max\\\":null,\\\"num_classes\\\":null,\\\"featurization\\\":\\\"auto\\\",\\\"_ignore_package_version_incompatibilities\\\":false,\\\"is_timeseries\\\":false,\\\"max_cores_per_iteration\\\":1,\\\"max_concurrent_iterations\\\":4,\\\"iteration_timeout_minutes\\\":null,\\\"mem_in_mb\\\":null,\\\"enforce_time_on_windows\\\":false,\\\"experiment_timeout_minutes\\\":30,\\\"experiment_exit_score\\\":null,\\\"whitelist_models\\\":null,\\\"blacklist_algos\\\":[\\\"TensorFlowLinearClassifier\\\",\\\"TensorFlowDNN\\\"],\\\"supported_models\\\":[\\\"LogisticRegression\\\",\\\"MultinomialNaiveBayes\\\",\\\"SGD\\\",\\\"RandomForest\\\",\\\"TensorFlowDNN\\\",\\\"XGBoostClassifier\\\",\\\"BernoulliNaiveBayes\\\",\\\"ExtremeRandomTrees\\\",\\\"GradientBoosting\\\",\\\"LightGBM\\\",\\\"DecisionTree\\\",\\\"KNN\\\",\\\"TensorFlowLinearClassifier\\\",\\\"SVM\\\",\\\"LinearSVM\\\",\\\"AveragedPerceptronClassifier\\\"],\\\"auto_blacklist\\\":true,\\\"blacklist_samples_reached\\\":false,\\\"exclude_nan_labels\\\":true,\\\"verbosity\\\":20,\\\"_debug_log\\\":\\\"azureml_automl.log\\\",\\\"show_warnings\\\":false,\\\"model_explainability\\\":true,\\\"service_url\\\":null,\\\"sdk_url\\\":null,\\\"sdk_packages\\\":null,\\\"enable_onnx_compatible_models\\\":false,\\\"enable_split_onnx_featurizer_estimator_models\\\":false,\\\"vm_type\\\":\\\"STANDARD_D2_V2\\\",\\\"telemetry_verbosity\\\":20,\\\"send_telemetry\\\":true,\\\"enable_dnn\\\":false,\\\"scenario\\\":\\\"SDK-1.13.0\\\",\\\"environment_label\\\":null,\\\"force_text_dnn\\\":false,\\\"enable_feature_sweeping\\\":true,\\\"enable_early_stopping\\\":true,\\\"early_stopping_n_iters\\\":10,\\\"metrics\\\":null,\\\"enable_ensembling\\\":true,\\\"enable_stack_ensembling\\\":true,\\\"ensemble_iterations\\\":15,\\\"enable_tf\\\":false,\\\"enable_subsampling\\\":null,\\\"subsample_seed\\\":null,\\\"enable_nimbusml\\\":false,\\\"enable_streaming\\\":false,\\\"force_streaming\\\":false,\\\"track_child_runs\\\":true,\\\"allowed_private_models\\\":[],\\\"label_column_name\\\":\\\"DEATH_EVENT\\\",\\\"weight_column_name\\\":null,\\\"cv_split_column_names\\\":null,\\\"enable_local_managed\\\":false,\\\"_local_managed_run_id\\\":null,\\\"cost_mode\\\":1,\\\"lag_length\\\":0,\\\"metric_operation\\\":\\\"maximize\\\",\\\"preprocess\\\":true,\\\"n_cross_validation\\\":5}\", \"DataPrepJsonString\": \"{\\\\\\\"training_data\\\\\\\": \\\\\\\"{\\\\\\\\\\\\\\\"blocks\\\\\\\\\\\\\\\": [{\\\\\\\\\\\\\\\"id\\\\\\\\\\\\\\\": \\\\\\\\\\\\\\\"83645637-3eb6-4e36-aae8-343c7cc5aad1\\\\\\\\\\\\\\\", \\\\\\\\\\\\\\\"type\\\\\\\\\\\\\\\": \\\\\\\\\\\\\\\"Microsoft.DPrep.GetDatastoreFilesBlock\\\\\\\\\\\\\\\", \\\\\\\\\\\\\\\"arguments\\\\\\\\\\\\\\\": {\\\\\\\\\\\\\\\"datastores\\\\\\\\\\\\\\\": [{\\\\\\\\\\\\\\\"datastoreName\\\\\\\\\\\\\\\": \\\\\\\\\\\\\\\"workspaceblobstore\\\\\\\\\\\\\\\", \\\\\\\\\\\\\\\"path\\\\\\\\\\\\\\\": \\\\\\\\\\\\\\\"UI/02-07-2021_101047_UTC/heart_failure_clinical_records_dataset.csv\\\\\\\\\\\\\\\", \\\\\\\\\\\\\\\"resourceGroup\\\\\\\\\\\\\\\": \\\\\\\\\\\\\\\"aml-quickstarts-137804\\\\\\\\\\\\\\\", \\\\\\\\\\\\\\\"subscription\\\\\\\\\\\\\\\": \\\\\\\\\\\\\\\"f9d5a085-54dc-4215-9ba6-dad5d86e60a0\\\\\\\\\\\\\\\", \\\\\\\\\\\\\\\"workspaceName\\\\\\\\\\\\\\\": \\\\\\\\\\\\\\\"quick-starts-ws-137804\\\\\\\\\\\\\\\"}]}, \\\\\\\\\\\\\\\"localData\\\\\\\\\\\\\\\": {}, \\\\\\\\\\\\\\\"isEnabled\\\\\\\\\\\\\\\": true, \\\\\\\\\\\\\\\"name\\\\\\\\\\\\\\\": null, \\\\\\\\\\\\\\\"annotation\\\\\\\\\\\\\\\": null}, {\\\\\\\\\\\\\\\"id\\\\\\\\\\\\\\\": \\\\\\\\\\\\\\\"261540ed-c88c-4eff-aabb-ebaf1a6d1df6\\\\\\\\\\\\\\\", \\\\\\\\\\\\\\\"type\\\\\\\\\\\\\\\": \\\\\\\\\\\\\\\"Microsoft.DPrep.ParseDelimitedBlock\\\\\\\\\\\\\\\", \\\\\\\\\\\\\\\"arguments\\\\\\\\\\\\\\\": {\\\\\\\\\\\\\\\"columnHeadersMode\\\\\\\\\\\\\\\": 1, \\\\\\\\\\\\\\\"fileEncoding\\\\\\\\\\\\\\\": 0, \\\\\\\\\\\\\\\"handleQuotedLineBreaks\\\\\\\\\\\\\\\": false, \\\\\\\\\\\\\\\"preview\\\\\\\\\\\\\\\": false, \\\\\\\\\\\\\\\"separator\\\\\\\\\\\\\\\": \\\\\\\\\\\\\\\",\\\\\\\\\\\\\\\", \\\\\\\\\\\\\\\"skipRows\\\\\\\\\\\\\\\": 0, \\\\\\\\\\\\\\\"skipRowsMode\\\\\\\\\\\\\\\": 0}, \\\\\\\\\\\\\\\"localData\\\\\\\\\\\\\\\": {}, \\\\\\\\\\\\\\\"isEnabled\\\\\\\\\\\\\\\": true, \\\\\\\\\\\\\\\"name\\\\\\\\\\\\\\\": null, \\\\\\\\\\\\\\\"annotation\\\\\\\\\\\\\\\": null}, {\\\\\\\\\\\\\\\"id\\\\\\\\\\\\\\\": \\\\\\\\\\\\\\\"d9530b38-9225-4e14-ba85-97b0e24d6699\\\\\\\\\\\\\\\", \\\\\\\\\\\\\\\"type\\\\\\\\\\\\\\\": \\\\\\\\\\\\\\\"Microsoft.DPrep.DropColumnsBlock\\\\\\\\\\\\\\\", \\\\\\\\\\\\\\\"arguments\\\\\\\\\\\\\\\": {\\\\\\\\\\\\\\\"columns\\\\\\\\\\\\\\\": {\\\\\\\\\\\\\\\"type\\\\\\\\\\\\\\\": 0, \\\\\\\\\\\\\\\"details\\\\\\\\\\\\\\\": {\\\\\\\\\\\\\\\"selectedColumns\\\\\\\\\\\\\\\": [\\\\\\\\\\\\\\\"Path\\\\\\\\\\\\\\\"]}}}, \\\\\\\\\\\\\\\"localData\\\\\\\\\\\\\\\": {}, \\\\\\\\\\\\\\\"isEnabled\\\\\\\\\\\\\\\": true, \\\\\\\\\\\\\\\"name\\\\\\\\\\\\\\\": null, \\\\\\\\\\\\\\\"annotation\\\\\\\\\\\\\\\": null}, {\\\\\\\\\\\\\\\"id\\\\\\\\\\\\\\\": \\\\\\\\\\\\\\\"fa4942fe-52b8-4bae-abf4-112de1d8b12e\\\\\\\\\\\\\\\", \\\\\\\\\\\\\\\"type\\\\\\\\\\\\\\\": \\\\\\\\\\\\\\\"Microsoft.DPrep.SetColumnTypesBlock\\\\\\\\\\\\\\\", \\\\\\\\\\\\\\\"arguments\\\\\\\\\\\\\\\": {\\\\\\\\\\\\\\\"columnConversion\\\\\\\\\\\\\\\": [{\\\\\\\\\\\\\\\"column\\\\\\\\\\\\\\\": {\\\\\\\\\\\\\\\"type\\\\\\\\\\\\\\\": 2, \\\\\\\\\\\\\\\"details\\\\\\\\\\\\\\\": {\\\\\\\\\\\\\\\"selectedColumn\\\\\\\\\\\\\\\": \\\\\\\\\\\\\\\"Path\\\\\\\\\\\\\\\"}}, \\\\\\\\\\\\\\\"typeProperty\\\\\\\\\\\\\\\": 0}, {\\\\\\\\\\\\\\\"column\\\\\\\\\\\\\\\": {\\\\\\\\\\\\\\\"type\\\\\\\\\\\\\\\": 2, \\\\\\\\\\\\\\\"details\\\\\\\\\\\\\\\": {\\\\\\\\\\\\\\\"selectedColumn\\\\\\\\\\\\\\\": \\\\\\\\\\\\\\\"age\\\\\\\\\\\\\\\"}}, \\\\\\\\\\\\\\\"typeProperty\\\\\\\\\\\\\\\": 3}, {\\\\\\\\\\\\\\\"column\\\\\\\\\\\\\\\": {\\\\\\\\\\\\\\\"type\\\\\\\\\\\\\\\": 2, \\\\\\\\\\\\\\\"details\\\\\\\\\\\\\\\": {\\\\\\\\\\\\\\\"selectedColumn\\\\\\\\\\\\\\\": \\\\\\\\\\\\\\\"anaemia\\\\\\\\\\\\\\\"}}, \\\\\\\\\\\\\\\"typeProperty\\\\\\\\\\\\\\\": 2}, {\\\\\\\\\\\\\\\"column\\\\\\\\\\\\\\\": {\\\\\\\\\\\\\\\"type\\\\\\\\\\\\\\\": 2, \\\\\\\\\\\\\\\"details\\\\\\\\\\\\\\\": {\\\\\\\\\\\\\\\"selectedColumn\\\\\\\\\\\\\\\": \\\\\\\\\\\\\\\"creatinine_phosphokinase\\\\\\\\\\\\\\\"}}, \\\\\\\\\\\\\\\"typeProperty\\\\\\\\\\\\\\\": 2}, {\\\\\\\\\\\\\\\"column\\\\\\\\\\\\\\\": {\\\\\\\\\\\\\\\"type\\\\\\\\\\\\\\\": 2, \\\\\\\\\\\\\\\"details\\\\\\\\\\\\\\\": {\\\\\\\\\\\\\\\"selectedColumn\\\\\\\\\\\\\\\": \\\\\\\\\\\\\\\"diabetes\\\\\\\\\\\\\\\"}}, \\\\\\\\\\\\\\\"typeProperty\\\\\\\\\\\\\\\": 2}, {\\\\\\\\\\\\\\\"column\\\\\\\\\\\\\\\": {\\\\\\\\\\\\\\\"type\\\\\\\\\\\\\\\": 2, \\\\\\\\\\\\\\\"details\\\\\\\\\\\\\\\": {\\\\\\\\\\\\\\\"selectedColumn\\\\\\\\\\\\\\\": \\\\\\\\\\\\\\\"ejection_fraction\\\\\\\\\\\\\\\"}}, \\\\\\\\\\\\\\\"typeProperty\\\\\\\\\\\\\\\": 2}, {\\\\\\\\\\\\\\\"column\\\\\\\\\\\\\\\": {\\\\\\\\\\\\\\\"type\\\\\\\\\\\\\\\": 2, \\\\\\\\\\\\\\\"details\\\\\\\\\\\\\\\": {\\\\\\\\\\\\\\\"selectedColumn\\\\\\\\\\\\\\\": \\\\\\\\\\\\\\\"high_blood_pressure\\\\\\\\\\\\\\\"}}, \\\\\\\\\\\\\\\"typeProperty\\\\\\\\\\\\\\\": 2}, {\\\\\\\\\\\\\\\"column\\\\\\\\\\\\\\\": {\\\\\\\\\\\\\\\"type\\\\\\\\\\\\\\\": 2, \\\\\\\\\\\\\\\"details\\\\\\\\\\\\\\\": {\\\\\\\\\\\\\\\"selectedColumn\\\\\\\\\\\\\\\": \\\\\\\\\\\\\\\"platelets\\\\\\\\\\\\\\\"}}, \\\\\\\\\\\\\\\"typeProperty\\\\\\\\\\\\\\\": 3}, {\\\\\\\\\\\\\\\"column\\\\\\\\\\\\\\\": {\\\\\\\\\\\\\\\"type\\\\\\\\\\\\\\\": 2, \\\\\\\\\\\\\\\"details\\\\\\\\\\\\\\\": {\\\\\\\\\\\\\\\"selectedColumn\\\\\\\\\\\\\\\": \\\\\\\\\\\\\\\"serum_creatinine\\\\\\\\\\\\\\\"}}, \\\\\\\\\\\\\\\"typeProperty\\\\\\\\\\\\\\\": 3}, {\\\\\\\\\\\\\\\"column\\\\\\\\\\\\\\\": {\\\\\\\\\\\\\\\"type\\\\\\\\\\\\\\\": 2, \\\\\\\\\\\\\\\"details\\\\\\\\\\\\\\\": {\\\\\\\\\\\\\\\"selectedColumn\\\\\\\\\\\\\\\": \\\\\\\\\\\\\\\"serum_sodium\\\\\\\\\\\\\\\"}}, \\\\\\\\\\\\\\\"typeProperty\\\\\\\\\\\\\\\": 2}, {\\\\\\\\\\\\\\\"column\\\\\\\\\\\\\\\": {\\\\\\\\\\\\\\\"type\\\\\\\\\\\\\\\": 2, \\\\\\\\\\\\\\\"details\\\\\\\\\\\\\\\": {\\\\\\\\\\\\\\\"selectedColumn\\\\\\\\\\\\\\\": \\\\\\\\\\\\\\\"sex\\\\\\\\\\\\\\\"}}, \\\\\\\\\\\\\\\"typeProperty\\\\\\\\\\\\\\\": 2}, {\\\\\\\\\\\\\\\"column\\\\\\\\\\\\\\\": {\\\\\\\\\\\\\\\"type\\\\\\\\\\\\\\\": 2, \\\\\\\\\\\\\\\"details\\\\\\\\\\\\\\\": {\\\\\\\\\\\\\\\"selectedColumn\\\\\\\\\\\\\\\": \\\\\\\\\\\\\\\"smoking\\\\\\\\\\\\\\\"}}, \\\\\\\\\\\\\\\"typeProperty\\\\\\\\\\\\\\\": 2}, {\\\\\\\\\\\\\\\"column\\\\\\\\\\\\\\\": {\\\\\\\\\\\\\\\"type\\\\\\\\\\\\\\\": 2, \\\\\\\\\\\\\\\"details\\\\\\\\\\\\\\\": {\\\\\\\\\\\\\\\"selectedColumn\\\\\\\\\\\\\\\": \\\\\\\\\\\\\\\"time\\\\\\\\\\\\\\\"}}, \\\\\\\\\\\\\\\"typeProperty\\\\\\\\\\\\\\\": 2}, {\\\\\\\\\\\\\\\"column\\\\\\\\\\\\\\\": {\\\\\\\\\\\\\\\"type\\\\\\\\\\\\\\\": 2, \\\\\\\\\\\\\\\"details\\\\\\\\\\\\\\\": {\\\\\\\\\\\\\\\"selectedColumn\\\\\\\\\\\\\\\": \\\\\\\\\\\\\\\"DEATH_EVENT\\\\\\\\\\\\\\\"}}, \\\\\\\\\\\\\\\"typeProperty\\\\\\\\\\\\\\\": 2}]}, \\\\\\\\\\\\\\\"localData\\\\\\\\\\\\\\\": {}, \\\\\\\\\\\\\\\"isEnabled\\\\\\\\\\\\\\\": true, \\\\\\\\\\\\\\\"name\\\\\\\\\\\\\\\": null, \\\\\\\\\\\\\\\"annotation\\\\\\\\\\\\\\\": null}], \\\\\\\\\\\\\\\"inspectors\\\\\\\\\\\\\\\": [], \\\\\\\\\\\\\\\"meta\\\\\\\\\\\\\\\": {\\\\\\\\\\\\\\\"savedDatasetId\\\\\\\\\\\\\\\": \\\\\\\\\\\\\\\"93276a6b-1f64-49fa-bd29-dcd15f5e53f9\\\\\\\\\\\\\\\", \\\\\\\\\\\\\\\"datasetType\\\\\\\\\\\\\\\": \\\\\\\\\\\\\\\"tabular\\\\\\\\\\\\\\\", \\\\\\\\\\\\\\\"subscriptionId\\\\\\\\\\\\\\\": \\\\\\\\\\\\\\\"f9d5a085-54dc-4215-9ba6-dad5d86e60a0\\\\\\\\\\\\\\\", \\\\\\\\\\\\\\\"workspaceId\\\\\\\\\\\\\\\": \\\\\\\\\\\\\\\"ffc0f144-bca6-41bb-9745-9f0d2add8a9b\\\\\\\\\\\\\\\", \\\\\\\\\\\\\\\"workspaceLocation\\\\\\\\\\\\\\\": \\\\\\\\\\\\\\\"southcentralus\\\\\\\\\\\\\\\"}}\\\\\\\", \\\\\\\"activities\\\\\\\": 0}\", \"EnableSubsampling\": null, \"runTemplate\": \"AutoML\", \"azureml.runsource\": \"automl\", \"display_task_type\": \"classification\", \"dependencies_versions\": \"{\\\"azureml-widgets\\\": \\\"1.20.0\\\", \\\"azureml-train\\\": \\\"1.20.0\\\", \\\"azureml-train-restclients-hyperdrive\\\": \\\"1.20.0\\\", \\\"azureml-train-core\\\": \\\"1.20.0\\\", \\\"azureml-train-automl\\\": \\\"1.20.0\\\", \\\"azureml-train-automl-runtime\\\": \\\"1.20.0\\\", \\\"azureml-train-automl-client\\\": \\\"1.20.0\\\", \\\"azureml-tensorboard\\\": \\\"1.20.0\\\", \\\"azureml-telemetry\\\": \\\"1.20.0\\\", \\\"azureml-sdk\\\": \\\"1.20.0\\\", \\\"azureml-samples\\\": \\\"0+unknown\\\", \\\"azureml-pipeline\\\": \\\"1.20.0\\\", \\\"azureml-pipeline-steps\\\": \\\"1.20.0\\\", \\\"azureml-pipeline-core\\\": \\\"1.20.0\\\", \\\"azureml-opendatasets\\\": \\\"1.20.0\\\", \\\"azureml-model-management-sdk\\\": \\\"1.0.1b6.post1\\\", \\\"azureml-mlflow\\\": \\\"1.20.0.post1\\\", \\\"azureml-interpret\\\": \\\"1.20.0\\\", \\\"azureml-explain-model\\\": \\\"1.20.0\\\", \\\"azureml-defaults\\\": \\\"1.20.0\\\", \\\"azureml-dataset-runtime\\\": \\\"1.20.0\\\", \\\"azureml-dataprep\\\": \\\"2.7.3\\\", \\\"azureml-dataprep-rslex\\\": \\\"1.5.0\\\", \\\"azureml-dataprep-native\\\": \\\"27.0.0\\\", \\\"azureml-datadrift\\\": \\\"1.20.0\\\", \\\"azureml-core\\\": \\\"1.20.0\\\", \\\"azureml-contrib-services\\\": \\\"1.20.0\\\", \\\"azureml-contrib-server\\\": \\\"1.20.0\\\", \\\"azureml-contrib-reinforcementlearning\\\": \\\"1.20.0\\\", \\\"azureml-contrib-pipeline-steps\\\": \\\"1.20.0\\\", \\\"azureml-contrib-notebook\\\": \\\"1.20.0\\\", \\\"azureml-contrib-interpret\\\": \\\"1.20.0\\\", \\\"azureml-contrib-gbdt\\\": \\\"1.20.0\\\", \\\"azureml-contrib-fairness\\\": \\\"1.20.0\\\", \\\"azureml-contrib-dataset\\\": \\\"1.20.0\\\", \\\"azureml-cli-common\\\": \\\"1.20.0\\\", \\\"azureml-automl-runtime\\\": \\\"1.20.0\\\", \\\"azureml-automl-core\\\": \\\"1.20.0\\\", \\\"azureml-accel-models\\\": \\\"1.20.0\\\"}\", \"_aml_system_scenario_identification\": \"Remote.Parent\", \"ClientType\": \"SDK\", \"environment_cpu_name\": \"AzureML-AutoML\", \"environment_cpu_label\": \"prod\", \"environment_gpu_name\": \"AzureML-AutoML-GPU\", \"environment_gpu_label\": \"prod\", \"root_attribution\": \"automl\", \"attribution\": \"AutoML\", \"Orchestrator\": \"AutoML\", \"CancelUri\": \"https://southcentralus.experiments.azureml.net/jasmine/v1.0/subscriptions/f9d5a085-54dc-4215-9ba6-dad5d86e60a0/resourceGroups/aml-quickstarts-137804/providers/Microsoft.MachineLearningServices/workspaces/quick-starts-ws-137804/experimentids/92aa8856-93fe-4796-ac10-d637f7f47b6a/cancel/AutoML_62097164-b25d-43d6-9bc1-d749f6dfa2f9\", \"ClientSdkVersion\": \"1.21.0\", \"snapshotId\": \"00000000-0000-0000-0000-000000000000\", \"SetupRunId\": \"AutoML_62097164-b25d-43d6-9bc1-d749f6dfa2f9_setup\", \"SetupRunContainerId\": \"dcid.AutoML_62097164-b25d-43d6-9bc1-d749f6dfa2f9_setup\", \"FeaturizationRunJsonPath\": \"featurizer_container.json\", \"FeaturizationRunId\": \"AutoML_62097164-b25d-43d6-9bc1-d749f6dfa2f9_featurize\", \"ProblemInfoJsonString\": \"{\\\"dataset_num_categorical\\\": 0, \\\"is_sparse\\\": false, \\\"subsampling\\\": false, \\\"dataset_classes\\\": 2, \\\"dataset_features\\\": 12, \\\"dataset_samples\\\": 299, \\\"single_frequency_class_detected\\\": false}\", \"ModelExplainRunId\": \"AutoML_62097164-b25d-43d6-9bc1-d749f6dfa2f9_ModelExplain\"}, \"tags\": {\"model_explain_run\": \"best_run\", \"_aml_system_azureml.automlComponent\": \"AutoML\", \"pipeline_id\": \"\", \"score\": \"\", \"predicted_cost\": \"\", \"fit_time\": \"\", \"training_percent\": \"\", \"iteration\": \"\", \"run_preprocessor\": \"\", \"run_algorithm\": \"\", \"dynamic_whitelisting_iterations\": \"<25>;<30>;<35>;\", \"automl_best_child_run_id\": \"AutoML_62097164-b25d-43d6-9bc1-d749f6dfa2f9_36\"}, \"end_time_utc\": \"2021-02-07T12:10:54.908614Z\", \"status\": \"Completed\", \"log_files\": {}, \"log_groups\": [], \"run_duration\": \"0:26:27\"}, \"child_runs\": [{\"run_id\": \"AutoML_62097164-b25d-43d6-9bc1-d749f6dfa2f9_0\", \"run_number\": 7, \"metric\": null, \"status\": \"Completed\", \"run_type\": \"azureml.scriptrun\", \"training_percent\": \"100\", \"start_time\": \"2021-02-07T11:55:19.816527Z\", \"end_time\": \"2021-02-07T11:56:11.685234Z\", \"created_time\": \"2021-02-07T11:53:14.002739Z\", \"created_time_dt\": \"2021-02-07T11:53:14.002739Z\", \"duration\": \"0:02:57\", \"iteration\": \"0\", \"goal\": \"accuracy_max\", \"run_name\": \"MaxAbsScaler, LightGBM\", \"run_properties\": \"copy=True\", \"primary_metric\": 0.83597701, \"best_metric\": 0.83597701}, {\"run_id\": \"AutoML_62097164-b25d-43d6-9bc1-d749f6dfa2f9_1\", \"run_number\": 8, \"metric\": null, \"status\": \"Completed\", \"run_type\": \"azureml.scriptrun\", \"training_percent\": \"100\", \"start_time\": \"2021-02-07T11:53:25.112385Z\", \"end_time\": \"2021-02-07T11:54:16.841195Z\", \"created_time\": \"2021-02-07T11:53:14.026509Z\", \"created_time_dt\": \"2021-02-07T11:53:14.026509Z\", \"duration\": \"0:01:02\", \"iteration\": \"1\", \"goal\": \"accuracy_max\", \"run_name\": \"MaxAbsScaler, XGBoostClassifier\", \"run_properties\": \"copy=True\", \"primary_metric\": 0.83586207, \"best_metric\": 0.83597701}, {\"run_id\": \"AutoML_62097164-b25d-43d6-9bc1-d749f6dfa2f9_3\", \"run_number\": 9, \"metric\": null, \"status\": \"Completed\", \"run_type\": \"azureml.scriptrun\", \"training_percent\": \"100\", \"start_time\": \"2021-02-07T11:54:19.11934Z\", \"end_time\": \"2021-02-07T11:55:14.831385Z\", \"created_time\": \"2021-02-07T11:53:14.036255Z\", \"created_time_dt\": \"2021-02-07T11:53:14.036255Z\", \"duration\": \"0:02:00\", \"iteration\": \"3\", \"goal\": \"accuracy_max\", \"run_name\": \"MinMaxScaler, RandomForest\", \"run_properties\": \"copy=True, feature_range=(0, 1\", \"primary_metric\": 0.84241379, \"best_metric\": 0.85609195}, {\"run_id\": \"AutoML_62097164-b25d-43d6-9bc1-d749f6dfa2f9_2\", \"run_number\": 10, \"metric\": null, \"status\": \"Completed\", \"run_type\": \"azureml.scriptrun\", \"training_percent\": \"100\", \"start_time\": \"2021-02-07T11:55:32.911627Z\", \"end_time\": \"2021-02-07T11:58:59.881922Z\", \"created_time\": \"2021-02-07T11:53:14.038235Z\", \"created_time_dt\": \"2021-02-07T11:53:14.038235Z\", \"duration\": \"0:05:45\", \"iteration\": \"2\", \"goal\": \"accuracy_max\", \"run_name\": \"MinMaxScaler, RandomForest\", \"run_properties\": \"copy=True, feature_range=(0, 1\", \"primary_metric\": 0.85609195, \"best_metric\": 0.85609195}, {\"run_id\": \"AutoML_62097164-b25d-43d6-9bc1-d749f6dfa2f9_4\", \"run_number\": 11, \"metric\": null, \"status\": \"Completed\", \"run_type\": \"azureml.scriptrun\", \"training_percent\": \"100\", \"start_time\": \"2021-02-07T11:55:31.488242Z\", \"end_time\": \"2021-02-07T11:58:59.060531Z\", \"created_time\": \"2021-02-07T11:54:18.070512Z\", \"created_time_dt\": \"2021-02-07T11:54:18.070512Z\", \"duration\": \"0:04:40\", \"iteration\": \"4\", \"goal\": \"accuracy_max\", \"run_name\": \"MinMaxScaler, RandomForest\", \"run_properties\": \"copy=True, feature_range=(0, 1\", \"primary_metric\": 0.82586207, \"best_metric\": 0.85609195}, {\"run_id\": \"AutoML_62097164-b25d-43d6-9bc1-d749f6dfa2f9_5\", \"run_number\": 12, \"metric\": null, \"status\": \"Completed\", \"run_type\": \"azureml.scriptrun\", \"training_percent\": \"100\", \"start_time\": \"2021-02-07T11:55:37.25358Z\", \"end_time\": \"2021-02-07T11:58:54.371825Z\", \"created_time\": \"2021-02-07T11:55:18.304915Z\", \"created_time_dt\": \"2021-02-07T11:55:18.304915Z\", \"duration\": \"0:03:36\", \"iteration\": \"5\", \"goal\": \"accuracy_max\", \"run_name\": \"RobustScaler, KNN\", \"run_properties\": \"copy=True, quantile_range=[10, 90], with_centering=True,\\n             with_scaling=True\", \"primary_metric\": 0.7262069, \"best_metric\": 0.85609195}, {\"run_id\": \"AutoML_62097164-b25d-43d6-9bc1-d749f6dfa2f9_6\", \"run_number\": 13, \"metric\": null, \"status\": \"Completed\", \"run_type\": \"azureml.scriptrun\", \"training_percent\": \"100\", \"start_time\": \"2021-02-07T11:56:27.797644Z\", \"end_time\": \"2021-02-07T11:57:16.687991Z\", \"created_time\": \"2021-02-07T11:56:14.45725Z\", \"created_time_dt\": \"2021-02-07T11:56:14.45725Z\", \"duration\": \"0:01:02\", \"iteration\": \"6\", \"goal\": \"accuracy_max\", \"run_name\": \"StandardScalerWrapper, LightGBM\", \"run_properties\": \"<azureml.automl.runtime.shared.model_wrappers.StandardScalerWrapper object at 0x7f3272b64eb8\", \"primary_metric\": 0.83252874, \"best_metric\": 0.85609195}, {\"run_id\": \"AutoML_62097164-b25d-43d6-9bc1-d749f6dfa2f9_7\", \"run_number\": 14, \"metric\": null, \"status\": \"Completed\", \"run_type\": \"azureml.scriptrun\", \"training_percent\": \"100\", \"start_time\": \"2021-02-07T11:57:32.332161Z\", \"end_time\": \"2021-02-07T11:58:22.330856Z\", \"created_time\": \"2021-02-07T11:57:19.760822Z\", \"created_time_dt\": \"2021-02-07T11:57:19.760822Z\", \"duration\": \"0:01:02\", \"iteration\": \"7\", \"goal\": \"accuracy_max\", \"run_name\": \"SparseNormalizer, XGBoostClassifier\", \"run_properties\": \"<azureml.automl.runtime.shared.model_wrappers.SparseNormalizer object at 0x7f5ee72cb940\", \"primary_metric\": 0.83275862, \"best_metric\": 0.85609195}, {\"run_id\": \"AutoML_62097164-b25d-43d6-9bc1-d749f6dfa2f9_8\", \"run_number\": 15, \"metric\": null, \"status\": \"Completed\", \"run_type\": \"azureml.scriptrun\", \"training_percent\": \"100\", \"start_time\": \"2021-02-07T11:58:36.949415Z\", \"end_time\": \"2021-02-07T11:59:28.927927Z\", \"created_time\": \"2021-02-07T11:58:24.989512Z\", \"created_time_dt\": \"2021-02-07T11:58:24.989512Z\", \"duration\": \"0:01:03\", \"iteration\": \"8\", \"goal\": \"accuracy_max\", \"run_name\": \"RobustScaler, RandomForest\", \"run_properties\": \"copy=True, quantile_range=[10, 90], with_centering=True,\\n             with_scaling=True\", \"primary_metric\": 0.81586207, \"best_metric\": 0.85609195}, {\"run_id\": \"AutoML_62097164-b25d-43d6-9bc1-d749f6dfa2f9_9\", \"run_number\": 16, \"metric\": null, \"status\": \"Completed\", \"run_type\": \"azureml.scriptrun\", \"training_percent\": \"100\", \"start_time\": \"2021-02-07T11:59:09.412965Z\", \"end_time\": \"2021-02-07T12:00:11.197373Z\", \"created_time\": \"2021-02-07T11:58:56.961188Z\", \"created_time_dt\": \"2021-02-07T11:58:56.961188Z\", \"duration\": \"0:01:14\", \"iteration\": \"9\", \"goal\": \"accuracy_max\", \"run_name\": \"RobustScaler, ExtremeRandomTrees\", \"run_properties\": \"copy=True, quantile_range=[10, 90], with_centering=True,\\n             with_scaling=False\", \"primary_metric\": 0.84942529, \"best_metric\": 0.85609195}, {\"run_id\": \"AutoML_62097164-b25d-43d6-9bc1-d749f6dfa2f9_10\", \"run_number\": 17, \"metric\": null, \"status\": \"Completed\", \"run_type\": \"azureml.scriptrun\", \"training_percent\": \"100\", \"start_time\": \"2021-02-07T11:59:14.137343Z\", \"end_time\": \"2021-02-07T12:00:10.553452Z\", \"created_time\": \"2021-02-07T11:59:01.202657Z\", \"created_time_dt\": \"2021-02-07T11:59:01.202657Z\", \"duration\": \"0:01:09\", \"iteration\": \"10\", \"goal\": \"accuracy_max\", \"run_name\": \"StandardScalerWrapper, RandomForest\", \"run_properties\": \"<azureml.automl.runtime.shared.model_wrappers.StandardScalerWrapper object at 0x7f3d0651a2b0\", \"primary_metric\": 0.83896552, \"best_metric\": 0.85609195}, {\"run_id\": \"AutoML_62097164-b25d-43d6-9bc1-d749f6dfa2f9_11\", \"run_number\": 18, \"metric\": null, \"status\": \"Completed\", \"run_type\": \"azureml.scriptrun\", \"training_percent\": \"100\", \"start_time\": \"2021-02-07T11:59:16.065357Z\", \"end_time\": \"2021-02-07T12:00:14.404809Z\", \"created_time\": \"2021-02-07T11:59:04.585607Z\", \"created_time_dt\": \"2021-02-07T11:59:04.585607Z\", \"duration\": \"0:01:09\", \"iteration\": \"11\", \"goal\": \"accuracy_max\", \"run_name\": \"MaxAbsScaler, GradientBoosting\", \"run_properties\": \"copy=True\", \"primary_metric\": 0.84931034, \"best_metric\": 0.85609195}, {\"run_id\": \"AutoML_62097164-b25d-43d6-9bc1-d749f6dfa2f9_12\", \"run_number\": 19, \"metric\": null, \"status\": \"Completed\", \"run_type\": \"azureml.scriptrun\", \"training_percent\": \"100\", \"start_time\": \"2021-02-07T11:59:44.768661Z\", \"end_time\": \"2021-02-07T12:00:36.398024Z\", \"created_time\": \"2021-02-07T11:59:32.35167Z\", \"created_time_dt\": \"2021-02-07T11:59:32.35167Z\", \"duration\": \"0:01:04\", \"iteration\": \"12\", \"goal\": \"accuracy_max\", \"run_name\": \"SparseNormalizer, XGBoostClassifier\", \"run_properties\": \"<azureml.automl.runtime.shared.model_wrappers.SparseNormalizer object at 0x7f974bf9f160\", \"primary_metric\": 0.8362069, \"best_metric\": 0.85609195}, {\"run_id\": \"AutoML_62097164-b25d-43d6-9bc1-d749f6dfa2f9_13\", \"run_number\": 20, \"metric\": null, \"status\": \"Completed\", \"run_type\": \"azureml.scriptrun\", \"training_percent\": \"100\", \"start_time\": \"2021-02-07T12:01:50.266797Z\", \"end_time\": \"2021-02-07T12:02:45.641357Z\", \"created_time\": \"2021-02-07T12:00:12.371942Z\", \"created_time_dt\": \"2021-02-07T12:00:12.371942Z\", \"duration\": \"0:02:33\", \"iteration\": \"13\", \"goal\": \"accuracy_max\", \"run_name\": \"StandardScalerWrapper, LogisticRegression\", \"run_properties\": \"<azureml.automl.runtime.shared.model_wrappers.StandardScalerWrapper object at 0x7fb6c6e1eda0\", \"primary_metric\": 0.82252874, \"best_metric\": 0.85609195}, {\"run_id\": \"AutoML_62097164-b25d-43d6-9bc1-d749f6dfa2f9_14\", \"run_number\": 21, \"metric\": null, \"status\": \"Completed\", \"run_type\": \"azureml.scriptrun\", \"training_percent\": \"100\", \"start_time\": \"2021-02-07T12:01:58.44087Z\", \"end_time\": \"2021-02-07T12:03:05.141096Z\", \"created_time\": \"2021-02-07T12:00:15.556879Z\", \"created_time_dt\": \"2021-02-07T12:00:15.556879Z\", \"duration\": \"0:02:49\", \"iteration\": \"14\", \"goal\": \"accuracy_max\", \"run_name\": \"SparseNormalizer, XGBoostClassifier\", \"run_properties\": \"<azureml.automl.runtime.shared.model_wrappers.SparseNormalizer object at 0x7f4982f220b8\", \"primary_metric\": 0.80931034, \"best_metric\": 0.85609195}, {\"run_id\": \"AutoML_62097164-b25d-43d6-9bc1-d749f6dfa2f9_15\", \"run_number\": 22, \"metric\": null, \"status\": \"Completed\", \"run_type\": \"azureml.scriptrun\", \"training_percent\": \"100\", \"start_time\": \"2021-02-07T12:01:58.287374Z\", \"end_time\": \"2021-02-07T12:02:57.920082Z\", \"created_time\": \"2021-02-07T12:00:19.128724Z\", \"created_time_dt\": \"2021-02-07T12:00:19.128724Z\", \"duration\": \"0:02:38\", \"iteration\": \"15\", \"goal\": \"accuracy_max\", \"run_name\": \"StandardScalerWrapper, LogisticRegression\", \"run_properties\": \"<azureml.automl.runtime.shared.model_wrappers.StandardScalerWrapper object at 0x7f80f0061e48\", \"primary_metric\": 0.82252874, \"best_metric\": 0.85609195}, {\"run_id\": \"AutoML_62097164-b25d-43d6-9bc1-d749f6dfa2f9_16\", \"run_number\": 23, \"metric\": null, \"status\": \"Completed\", \"run_type\": \"azureml.scriptrun\", \"training_percent\": \"100\", \"start_time\": \"2021-02-07T12:02:28.000044Z\", \"end_time\": \"2021-02-07T12:03:27.321597Z\", \"created_time\": \"2021-02-07T12:00:38.384615Z\", \"created_time_dt\": \"2021-02-07T12:00:38.384615Z\", \"duration\": \"0:02:48\", \"iteration\": \"16\", \"goal\": \"accuracy_max\", \"run_name\": \"MinMaxScaler, SVM\", \"run_properties\": \"copy=True, feature_range=(0, 1\", \"primary_metric\": 0.71609195, \"best_metric\": 0.85609195}, {\"run_id\": \"AutoML_62097164-b25d-43d6-9bc1-d749f6dfa2f9_17\", \"run_number\": 24, \"metric\": null, \"status\": \"Completed\", \"run_type\": \"azureml.scriptrun\", \"training_percent\": \"100\", \"start_time\": \"2021-02-07T12:03:18.115534Z\", \"end_time\": \"2021-02-07T12:04:15.954158Z\", \"created_time\": \"2021-02-07T12:02:48.824903Z\", \"created_time_dt\": \"2021-02-07T12:02:48.824903Z\", \"duration\": \"0:01:27\", \"iteration\": \"17\", \"goal\": \"accuracy_max\", \"run_name\": \"StandardScalerWrapper, LightGBM\", \"run_properties\": \"<azureml.automl.runtime.shared.model_wrappers.StandardScalerWrapper object at 0x7f6f98656f60\", \"primary_metric\": 0.82264368, \"best_metric\": 0.85609195}, {\"run_id\": \"AutoML_62097164-b25d-43d6-9bc1-d749f6dfa2f9_18\", \"run_number\": 25, \"metric\": null, \"status\": \"Completed\", \"run_type\": \"azureml.scriptrun\", \"training_percent\": \"100\", \"start_time\": \"2021-02-07T12:03:20.427704Z\", \"end_time\": \"2021-02-07T12:04:18.495542Z\", \"created_time\": \"2021-02-07T12:03:00.375033Z\", \"created_time_dt\": \"2021-02-07T12:03:00.375033Z\", \"duration\": \"0:01:18\", \"iteration\": \"18\", \"goal\": \"accuracy_max\", \"run_name\": \"SparseNormalizer, LightGBM\", \"run_properties\": \"<azureml.automl.runtime.shared.model_wrappers.SparseNormalizer object at 0x7f312eafc240\", \"primary_metric\": 0.84942529, \"best_metric\": 0.85609195}, {\"run_id\": \"AutoML_62097164-b25d-43d6-9bc1-d749f6dfa2f9_19\", \"run_number\": 26, \"metric\": null, \"status\": \"Completed\", \"run_type\": \"azureml.scriptrun\", \"training_percent\": \"100\", \"start_time\": \"2021-02-07T12:03:24.241603Z\", \"end_time\": \"2021-02-07T12:04:14.413352Z\", \"created_time\": \"2021-02-07T12:03:07.560163Z\", \"created_time_dt\": \"2021-02-07T12:03:07.560163Z\", \"duration\": \"0:01:06\", \"iteration\": \"19\", \"goal\": \"accuracy_max\", \"run_name\": \"SparseNormalizer, LightGBM\", \"run_properties\": \"<azureml.automl.runtime.shared.model_wrappers.SparseNormalizer object at 0x7f8a10311278\", \"primary_metric\": 0.83287356, \"best_metric\": 0.85609195}, {\"run_id\": \"AutoML_62097164-b25d-43d6-9bc1-d749f6dfa2f9_20\", \"run_number\": 27, \"metric\": null, \"status\": \"Completed\", \"run_type\": \"azureml.scriptrun\", \"training_percent\": \"100\", \"start_time\": \"2021-02-07T12:03:40.675533Z\", \"end_time\": \"2021-02-07T12:04:31.886452Z\", \"created_time\": \"2021-02-07T12:03:29.854401Z\", \"created_time_dt\": \"2021-02-07T12:03:29.854401Z\", \"duration\": \"0:01:02\", \"iteration\": \"20\", \"goal\": \"accuracy_max\", \"run_name\": \"StandardScalerWrapper, ExtremeRandomTrees\", \"run_properties\": \"<azureml.automl.runtime.shared.model_wrappers.StandardScalerWrapper object at 0x7f5e7574dcc0\", \"primary_metric\": 0.8362069, \"best_metric\": 0.85609195}, {\"run_id\": \"AutoML_62097164-b25d-43d6-9bc1-d749f6dfa2f9_21\", \"run_number\": 28, \"metric\": null, \"status\": \"Completed\", \"run_type\": \"azureml.scriptrun\", \"training_percent\": \"100\", \"start_time\": \"2021-02-07T12:04:28.314613Z\", \"end_time\": \"2021-02-07T12:05:20.635518Z\", \"created_time\": \"2021-02-07T12:04:17.039353Z\", \"created_time_dt\": \"2021-02-07T12:04:17.039353Z\", \"duration\": \"0:01:03\", \"iteration\": \"21\", \"goal\": \"accuracy_max\", \"run_name\": \"MinMaxScaler, LightGBM\", \"run_properties\": \"copy=True, feature_range=(0, 1\", \"primary_metric\": 0.84597701, \"best_metric\": 0.85609195}, {\"run_id\": \"AutoML_62097164-b25d-43d6-9bc1-d749f6dfa2f9_22\", \"run_number\": 29, \"metric\": null, \"status\": \"Completed\", \"run_type\": \"azureml.scriptrun\", \"training_percent\": \"100\", \"start_time\": \"2021-02-07T12:04:31.711274Z\", \"end_time\": \"2021-02-07T12:05:26.746827Z\", \"created_time\": \"2021-02-07T12:04:21.266991Z\", \"created_time_dt\": \"2021-02-07T12:04:21.266991Z\", \"duration\": \"0:01:05\", \"iteration\": \"22\", \"goal\": \"accuracy_max\", \"run_name\": \"SparseNormalizer, XGBoostClassifier\", \"run_properties\": \"<azureml.automl.runtime.shared.model_wrappers.SparseNormalizer object at 0x7f9f9d334ba8\", \"primary_metric\": 0.85287356, \"best_metric\": 0.85609195}, {\"run_id\": \"AutoML_62097164-b25d-43d6-9bc1-d749f6dfa2f9_23\", \"run_number\": 30, \"metric\": null, \"status\": \"Completed\", \"run_type\": \"azureml.scriptrun\", \"training_percent\": \"100\", \"start_time\": \"2021-02-07T12:04:32.32825Z\", \"end_time\": \"2021-02-07T12:05:18.759816Z\", \"created_time\": \"2021-02-07T12:04:21.418829Z\", \"created_time_dt\": \"2021-02-07T12:04:21.418829Z\", \"duration\": \"0:00:57\", \"iteration\": \"23\", \"goal\": \"accuracy_max\", \"run_name\": \"MaxAbsScaler, LightGBM\", \"run_properties\": \"copy=True\", \"primary_metric\": 0.83586207, \"best_metric\": 0.85609195}, {\"run_id\": \"AutoML_62097164-b25d-43d6-9bc1-d749f6dfa2f9_24\", \"run_number\": 31, \"metric\": null, \"status\": \"Completed\", \"run_type\": \"azureml.scriptrun\", \"training_percent\": \"100\", \"start_time\": \"2021-02-07T12:04:45.498439Z\", \"end_time\": \"2021-02-07T12:05:39.665941Z\", \"created_time\": \"2021-02-07T12:04:34.389013Z\", \"created_time_dt\": \"2021-02-07T12:04:34.389013Z\", \"duration\": \"0:01:05\", \"iteration\": \"24\", \"goal\": \"accuracy_max\", \"run_name\": \"SparseNormalizer, LightGBM\", \"run_properties\": \"<azureml.automl.runtime.shared.model_wrappers.SparseNormalizer object at 0x7f4a3e0399b0\", \"primary_metric\": 0.84609195, \"best_metric\": 0.85609195}, {\"run_id\": \"AutoML_62097164-b25d-43d6-9bc1-d749f6dfa2f9_25\", \"run_number\": 32, \"metric\": null, \"status\": \"Completed\", \"run_type\": \"azureml.scriptrun\", \"training_percent\": \"100\", \"start_time\": \"2021-02-07T12:05:34.520759Z\", \"end_time\": \"2021-02-07T12:06:39.523532Z\", \"created_time\": \"2021-02-07T12:05:21.948389Z\", \"created_time_dt\": \"2021-02-07T12:05:21.948389Z\", \"duration\": \"0:01:17\", \"iteration\": \"25\", \"goal\": \"accuracy_max\", \"run_name\": \"MinMaxScaler, RandomForest\", \"run_properties\": \"copy=True, feature_range=(0, 1\", \"primary_metric\": 0.6791954, \"best_metric\": 0.85609195}, {\"run_id\": \"AutoML_62097164-b25d-43d6-9bc1-d749f6dfa2f9_26\", \"run_number\": 33, \"metric\": null, \"status\": \"Completed\", \"run_type\": \"azureml.scriptrun\", \"training_percent\": \"100\", \"start_time\": \"2021-02-07T12:05:38.434095Z\", \"end_time\": \"2021-02-07T12:06:26.213497Z\", \"created_time\": \"2021-02-07T12:05:26.558827Z\", \"created_time_dt\": \"2021-02-07T12:05:26.558827Z\", \"duration\": \"0:00:59\", \"iteration\": \"26\", \"goal\": \"accuracy_max\", \"run_name\": \"MinMaxScaler, LightGBM\", \"run_properties\": \"copy=True, feature_range=(0, 1\", \"primary_metric\": 0.83931034, \"best_metric\": 0.85609195}, {\"run_id\": \"AutoML_62097164-b25d-43d6-9bc1-d749f6dfa2f9_27\", \"run_number\": 34, \"metric\": null, \"status\": \"Completed\", \"run_type\": \"azureml.scriptrun\", \"training_percent\": \"100\", \"start_time\": \"2021-02-07T12:05:42.864635Z\", \"end_time\": \"2021-02-07T12:06:38.549649Z\", \"created_time\": \"2021-02-07T12:05:30.821298Z\", \"created_time_dt\": \"2021-02-07T12:05:30.821298Z\", \"duration\": \"0:01:07\", \"iteration\": \"27\", \"goal\": \"accuracy_max\", \"run_name\": \"MaxAbsScaler, RandomForest\", \"run_properties\": \"copy=True\", \"primary_metric\": 0.8391954, \"best_metric\": 0.85609195}, {\"run_id\": \"AutoML_62097164-b25d-43d6-9bc1-d749f6dfa2f9_28\", \"run_number\": 35, \"metric\": null, \"status\": \"Completed\", \"run_type\": \"azureml.scriptrun\", \"training_percent\": \"100\", \"start_time\": \"2021-02-07T12:05:55.325394Z\", \"end_time\": \"2021-02-07T12:06:41.552966Z\", \"created_time\": \"2021-02-07T12:05:42.457698Z\", \"created_time_dt\": \"2021-02-07T12:05:42.457698Z\", \"duration\": \"0:00:59\", \"iteration\": \"28\", \"goal\": \"accuracy_max\", \"run_name\": \"RobustScaler, RandomForest\", \"run_properties\": \"copy=True, quantile_range=[10, 90], with_centering=True,\\n             with_scaling=True\", \"primary_metric\": 0.81229885, \"best_metric\": 0.85609195}, {\"run_id\": \"AutoML_62097164-b25d-43d6-9bc1-d749f6dfa2f9_29\", \"run_number\": 36, \"metric\": null, \"status\": \"Completed\", \"run_type\": \"azureml.scriptrun\", \"training_percent\": \"100\", \"start_time\": \"2021-02-07T12:06:41.854019Z\", \"end_time\": \"2021-02-07T12:07:34.913837Z\", \"created_time\": \"2021-02-07T12:06:29.233059Z\", \"created_time_dt\": \"2021-02-07T12:06:29.233059Z\", \"duration\": \"0:01:05\", \"iteration\": \"29\", \"goal\": \"accuracy_max\", \"run_name\": \"MaxAbsScaler, RandomForest\", \"run_properties\": \"copy=True\", \"primary_metric\": 0.8391954, \"best_metric\": 0.85609195}, {\"run_id\": \"AutoML_62097164-b25d-43d6-9bc1-d749f6dfa2f9_30\", \"run_number\": 37, \"metric\": null, \"status\": \"Completed\", \"run_type\": \"azureml.scriptrun\", \"training_percent\": \"100\", \"start_time\": \"2021-02-07T12:06:54.04633Z\", \"end_time\": \"2021-02-07T12:07:53.605381Z\", \"created_time\": \"2021-02-07T12:06:41.770099Z\", \"created_time_dt\": \"2021-02-07T12:06:41.770099Z\", \"duration\": \"0:01:11\", \"iteration\": \"30\", \"goal\": \"accuracy_max\", \"run_name\": \"MinMaxScaler, RandomForest\", \"run_properties\": \"copy=True, feature_range=(0, 1\", \"primary_metric\": 0.85275862, \"best_metric\": 0.85609195}, {\"run_id\": \"AutoML_62097164-b25d-43d6-9bc1-d749f6dfa2f9_31\", \"run_number\": 38, \"metric\": null, \"status\": \"Completed\", \"run_type\": \"azureml.scriptrun\", \"training_percent\": \"100\", \"start_time\": \"2021-02-07T12:06:56.653905Z\", \"end_time\": \"2021-02-07T12:07:48.215823Z\", \"created_time\": \"2021-02-07T12:06:46.138792Z\", \"created_time_dt\": \"2021-02-07T12:06:46.138792Z\", \"duration\": \"0:01:02\", \"iteration\": \"31\", \"goal\": \"accuracy_max\", \"run_name\": \"StandardScalerWrapper, XGBoostClassifier\", \"run_properties\": \"<azureml.automl.runtime.shared.model_wrappers.StandardScalerWrapper object at 0x7f0cf268d240\", \"primary_metric\": 0.8291954, \"best_metric\": 0.85609195}, {\"run_id\": \"AutoML_62097164-b25d-43d6-9bc1-d749f6dfa2f9_32\", \"run_number\": 39, \"metric\": null, \"status\": \"Completed\", \"run_type\": \"azureml.scriptrun\", \"training_percent\": \"100\", \"start_time\": \"2021-02-07T12:06:57.860702Z\", \"end_time\": \"2021-02-07T12:08:07.723658Z\", \"created_time\": \"2021-02-07T12:06:46.226376Z\", \"created_time_dt\": \"2021-02-07T12:06:46.226376Z\", \"duration\": \"0:01:21\", \"iteration\": \"32\", \"goal\": \"accuracy_max\", \"run_name\": \"StandardScalerWrapper, XGBoostClassifier\", \"run_properties\": \"<azureml.automl.runtime.shared.model_wrappers.StandardScalerWrapper object at 0x7f4ca415b780\", \"primary_metric\": 0.8391954, \"best_metric\": 0.85609195}, {\"run_id\": \"AutoML_62097164-b25d-43d6-9bc1-d749f6dfa2f9_33\", \"run_number\": 40, \"metric\": null, \"status\": \"Canceled\", \"run_type\": \"azureml.scriptrun\", \"training_percent\": \"100\", \"start_time\": \"2021-02-07T12:07:48.332789Z\", \"end_time\": \"2021-02-07T12:08:17.297817Z\", \"created_time\": \"2021-02-07T12:07:37.200224Z\", \"created_time_dt\": \"2021-02-07T12:07:37.200224Z\", \"duration\": \"0:00:40\", \"iteration\": \"33\", \"goal\": \"accuracy_max\", \"run_name\": \"StandardScalerWrapper, XGBoostClassifier\", \"run_properties\": \"<azureml.automl.runtime.shared.model_wrappers.StandardScalerWrapper object at 0x7f49aa2b1438\", \"primary_metric\": 0.83931034, \"best_metric\": 0.85609195}, {\"run_id\": \"AutoML_62097164-b25d-43d6-9bc1-d749f6dfa2f9_34\", \"run_number\": 41, \"metric\": null, \"status\": \"Canceled\", \"run_type\": \"azureml.scriptrun\", \"training_percent\": \"100\", \"start_time\": \"2021-02-07T12:08:02.202962Z\", \"end_time\": \"2021-02-07T12:08:16.488714Z\", \"created_time\": \"2021-02-07T12:07:50.663905Z\", \"created_time_dt\": \"2021-02-07T12:07:50.663905Z\", \"duration\": \"0:00:25\", \"iteration\": \"34\", \"goal\": null, \"run_name\": \"Canceled\", \"run_properties\": null}, {\"run_id\": \"AutoML_62097164-b25d-43d6-9bc1-d749f6dfa2f9_35\", \"run_number\": 42, \"metric\": null, \"status\": \"Canceled\", \"run_type\": \"azureml.scriptrun\", \"training_percent\": \"100\", \"start_time\": \"2021-02-07T12:08:08.660966Z\", \"end_time\": \"2021-02-07T12:08:16.255661Z\", \"created_time\": \"2021-02-07T12:07:57.448745Z\", \"created_time_dt\": \"2021-02-07T12:07:57.448745Z\", \"duration\": \"0:00:18\", \"iteration\": \"35\", \"goal\": null, \"run_name\": \"Canceled\", \"run_properties\": null}, {\"run_id\": \"AutoML_62097164-b25d-43d6-9bc1-d749f6dfa2f9_36\", \"run_number\": 43, \"metric\": null, \"status\": \"Completed\", \"run_type\": \"azureml.scriptrun\", \"training_percent\": \"100\", \"start_time\": \"2021-02-07T12:08:32.86124Z\", \"end_time\": \"2021-02-07T12:10:23.23663Z\", \"created_time\": \"2021-02-07T12:08:18.798152Z\", \"created_time_dt\": \"2021-02-07T12:08:18.798152Z\", \"duration\": \"0:02:04\", \"iteration\": \"36\", \"goal\": \"accuracy_max\", \"run_name\": \"VotingEnsemble\", \"run_properties\": \"classification_labels=None,\\n                              estimators=[('2',\\n                                           Pipeline(memory=None,\\n                                                    steps=[('minmaxscaler',\\n                                                            MinMaxScaler(copy=True,\\n                                                                         feature_range=(0,\\n                                                                                        1\", \"primary_metric\": 0.8762069, \"best_metric\": 0.8762069}, {\"run_id\": \"AutoML_62097164-b25d-43d6-9bc1-d749f6dfa2f9_37\", \"run_number\": 44, \"metric\": null, \"status\": \"Completed\", \"run_type\": \"azureml.scriptrun\", \"training_percent\": \"100\", \"start_time\": \"2021-02-07T12:08:32.368811Z\", \"end_time\": \"2021-02-07T12:10:43.201903Z\", \"created_time\": \"2021-02-07T12:08:18.987952Z\", \"created_time_dt\": \"2021-02-07T12:08:18.987952Z\", \"duration\": \"0:02:24\", \"iteration\": \"37\", \"goal\": \"accuracy_max\", \"run_name\": \"StackEnsemble\", \"run_properties\": \"base_learners=[('2',\\n                                        Pipeline(memory=None,\\n                                                 steps=[('minmaxscaler',\\n                                                         MinMaxScaler(copy=True,\\n                                                                      feature_range=(0,\\n                                                                                     1\", \"primary_metric\": 0.85275862, \"best_metric\": 0.8762069}], \"children_metrics\": {\"categories\": [0], \"series\": {\"AUC_macro\": [{\"categories\": [\"0\", \"1\", \"2\", \"3\", \"4\", \"5\", \"6\", \"7\", \"8\", \"9\", \"10\", \"11\", \"12\", \"13\", \"14\", \"15\", \"16\", \"17\", \"18\", \"19\", \"20\", \"21\", \"22\", \"23\", \"24\", \"25\", \"26\", \"27\", \"28\", \"29\", \"30\", \"31\", \"32\", \"33\", \"36\", \"37\"], \"mode\": \"markers\", \"name\": \"AUC_macro\", \"stepped\": false, \"type\": \"scatter\", \"data\": [0.8840955354735103, 0.8847369443591411, 0.9111108684370125, 0.9024921933456831, 0.9032646940969024, 0.7359517141971089, 0.8940799563687435, 0.900381358452125, 0.9008245155598701, 0.8953273545358785, 0.8930082393896466, 0.9080455066079779, 0.8879981568848561, 0.8638387105774978, 0.8608370342027666, 0.8638387105774978, 0.7119398945321143, 0.9041695342055182, 0.8973091952817924, 0.8877728841757445, 0.8985475162433973, 0.9090223809964085, 0.8965881292906179, 0.9036144070100592, 0.8828772879167616, 0.7893535942953563, 0.9065883651542117, 0.9055768191063958, 0.9001600361796014, 0.8993111751986465, 0.9035711247541339, 0.9012181378732294, 0.9025351216755106, 0.8890898286146856, 0.9130759779884492, 0.9114339003800674]}, {\"categories\": [\"0\", \"1\", \"2\", \"3\", \"4\", \"5\", \"6\", \"7\", \"8\", \"9\", \"10\", \"11\", \"12\", \"13\", \"14\", \"15\", \"16\", \"17\", \"18\", \"19\", \"20\", \"21\", \"22\", \"23\", \"24\", \"25\", \"26\", \"27\", \"28\", \"29\", \"30\", \"31\", \"32\", \"33\", \"36\", \"37\"], \"mode\": \"lines\", \"name\": \"AUC_macro_max\", \"stepped\": true, \"type\": \"scatter\", \"data\": [0.8840955354735103, 0.8847369443591411, 0.9111108684370125, 0.9111108684370125, 0.9111108684370125, 0.9111108684370125, 0.9111108684370125, 0.9111108684370125, 0.9111108684370125, 0.9111108684370125, 0.9111108684370125, 0.9111108684370125, 0.9111108684370125, 0.9111108684370125, 0.9111108684370125, 0.9111108684370125, 0.9111108684370125, 0.9111108684370125, 0.9111108684370125, 0.9111108684370125, 0.9111108684370125, 0.9111108684370125, 0.9111108684370125, 0.9111108684370125, 0.9111108684370125, 0.9111108684370125, 0.9111108684370125, 0.9111108684370125, 0.9111108684370125, 0.9111108684370125, 0.9111108684370125, 0.9111108684370125, 0.9111108684370125, 0.9111108684370125, 0.9130759779884492, 0.9130759779884492]}], \"AUC_micro\": [{\"categories\": [\"0\", \"1\", \"2\", \"3\", \"4\", \"5\", \"6\", \"7\", \"8\", \"9\", \"10\", \"11\", \"12\", \"13\", \"14\", \"15\", \"16\", \"17\", \"18\", \"19\", \"20\", \"21\", \"22\", \"23\", \"24\", \"25\", \"26\", \"27\", \"28\", \"29\", \"30\", \"31\", \"32\", \"33\", \"36\", \"37\"], \"mode\": \"markers\", \"name\": \"AUC_micro\", \"stepped\": false, \"type\": \"scatter\", \"data\": [0.9035422116527941, 0.9042166732725592, 0.9202790328973443, 0.9081621086008719, 0.9110607742105958, 0.789704056017968, 0.9086279561368741, 0.903497291584093, 0.9075012551195666, 0.9109301096578146, 0.9029672347734177, 0.9181425551592021, 0.8939495309816357, 0.8818229620821774, 0.8808599550799313, 0.8820451843043996, 0.768588122605364, 0.8919398863786497, 0.9048618047298191, 0.898694147179284, 0.9034291187739465, 0.9165869996036464, 0.9029007794953099, 0.9097370854802485, 0.8962282996432819, 0.8004819659135951, 0.9009379046109128, 0.9173258026159334, 0.8985579336768398, 0.9117898005020478, 0.9148657682652926, 0.9089612894702075, 0.9108189985467037, 0.8984388954947814, 0.9212536662703131, 0.9175168450257629]}, {\"categories\": [\"0\", \"1\", \"2\", \"3\", \"4\", \"5\", \"6\", \"7\", \"8\", \"9\", \"10\", \"11\", \"12\", \"13\", \"14\", \"15\", \"16\", \"17\", \"18\", \"19\", \"20\", \"21\", \"22\", \"23\", \"24\", \"25\", \"26\", \"27\", \"28\", \"29\", \"30\", \"31\", \"32\", \"33\", \"36\", \"37\"], \"mode\": \"lines\", \"name\": \"AUC_micro_max\", \"stepped\": true, \"type\": \"scatter\", \"data\": [0.9035422116527941, 0.9042166732725592, 0.9202790328973443, 0.9202790328973443, 0.9202790328973443, 0.9202790328973443, 0.9202790328973443, 0.9202790328973443, 0.9202790328973443, 0.9202790328973443, 0.9202790328973443, 0.9202790328973443, 0.9202790328973443, 0.9202790328973443, 0.9202790328973443, 0.9202790328973443, 0.9202790328973443, 0.9202790328973443, 0.9202790328973443, 0.9202790328973443, 0.9202790328973443, 0.9202790328973443, 0.9202790328973443, 0.9202790328973443, 0.9202790328973443, 0.9202790328973443, 0.9202790328973443, 0.9202790328973443, 0.9202790328973443, 0.9202790328973443, 0.9202790328973443, 0.9202790328973443, 0.9202790328973443, 0.9202790328973443, 0.9212536662703131, 0.9212536662703131]}], \"recall_score_macro\": [{\"categories\": [\"0\", \"1\", \"2\", \"3\", \"4\", \"5\", \"6\", \"7\", \"8\", \"9\", \"10\", \"11\", \"12\", \"13\", \"14\", \"15\", \"16\", \"17\", \"18\", \"19\", \"20\", \"21\", \"22\", \"23\", \"24\", \"25\", \"26\", \"27\", \"28\", \"29\", \"30\", \"31\", \"32\", \"33\", \"36\", \"37\"], \"mode\": \"markers\", \"name\": \"recall_score_macro\", \"stepped\": false, \"type\": \"scatter\", \"data\": [0.8077082895810014, 0.8130249020938379, 0.822729690662757, 0.7973975031452148, 0.8112179130302699, 0.6430526798716157, 0.8093564316753674, 0.7918168440699906, 0.7956721831753296, 0.812244725367437, 0.8133160590045602, 0.821730169049105, 0.8095071398852862, 0.7878200375774747, 0.758680183247975, 0.7878200375774747, 0.609231526609673, 0.7647936289174846, 0.8163366853398317, 0.7999603913439726, 0.774127778685845, 0.8142464977496442, 0.8180298671580134, 0.8151234818766284, 0.8198671373757186, 0.5, 0.7913579374160038, 0.7992017011402023, 0.8173148161906744, 0.8023943418328429, 0.82053067409961, 0.8097687379681087, 0.815290775109711, 0.8059589161474173, 0.8421964702599712, 0.8169596376481388]}, {\"categories\": [\"0\", \"1\", \"2\", \"3\", \"4\", \"5\", \"6\", \"7\", \"8\", \"9\", \"10\", \"11\", \"12\", \"13\", \"14\", \"15\", \"16\", \"17\", \"18\", \"19\", \"20\", \"21\", \"22\", \"23\", \"24\", \"25\", \"26\", \"27\", \"28\", \"29\", \"30\", \"31\", \"32\", \"33\", \"36\", \"37\"], \"mode\": \"lines\", \"name\": \"recall_score_macro_max\", \"stepped\": true, \"type\": \"scatter\", \"data\": [0.8077082895810014, 0.8130249020938379, 0.822729690662757, 0.822729690662757, 0.822729690662757, 0.822729690662757, 0.822729690662757, 0.822729690662757, 0.822729690662757, 0.822729690662757, 0.822729690662757, 0.822729690662757, 0.822729690662757, 0.822729690662757, 0.822729690662757, 0.822729690662757, 0.822729690662757, 0.822729690662757, 0.822729690662757, 0.822729690662757, 0.822729690662757, 0.822729690662757, 0.822729690662757, 0.822729690662757, 0.822729690662757, 0.822729690662757, 0.822729690662757, 0.822729690662757, 0.822729690662757, 0.822729690662757, 0.822729690662757, 0.822729690662757, 0.822729690662757, 0.822729690662757, 0.8421964702599712, 0.8421964702599712]}], \"matthews_correlation\": [{\"categories\": [\"0\", \"1\", \"2\", \"3\", \"4\", \"5\", \"6\", \"7\", \"8\", \"9\", \"10\", \"11\", \"12\", \"13\", \"14\", \"15\", \"16\", \"17\", \"18\", \"19\", \"20\", \"21\", \"22\", \"23\", \"24\", \"25\", \"26\", \"27\", \"28\", \"29\", \"30\", \"31\", \"32\", \"33\", \"36\", \"37\"], \"mode\": \"markers\", \"name\": \"matthews_correlation\", \"stepped\": false, \"type\": \"scatter\", \"data\": [0.6231314496952846, 0.6345538749068885, 0.6624552413880023, 0.6130370555513872, 0.6084815503471733, 0.3252423338239472, 0.6229764080746383, 0.6181804708226917, 0.588684423392069, 0.6571634121600045, 0.6351794976369048, 0.6567506325519609, 0.6291702367253744, 0.5986771914346563, 0.5420631828594559, 0.5986771914346563, 0.29063133737332203, 0.5839565871463948, 0.6639600430898185, 0.6251514690683962, 0.6289952229142294, 0.6503857475516441, 0.6703217914352484, 0.6288391971759815, 0.6600602030443277, 0.0, 0.6218145550736728, 0.6261809398001988, 0.5999987873077238, 0.6242300946480055, 0.6602405198511816, 0.6279903312859025, 0.6363864927603576, 0.6284918095534159, 0.7249283491496528, 0.6655202595218739]}, {\"categories\": [\"0\", \"1\", \"2\", \"3\", \"4\", \"5\", \"6\", \"7\", \"8\", \"9\", \"10\", \"11\", \"12\", \"13\", \"14\", \"15\", \"16\", \"17\", \"18\", \"19\", \"20\", \"21\", \"22\", \"23\", \"24\", \"25\", \"26\", \"27\", \"28\", \"29\", \"30\", \"31\", \"32\", \"33\", \"36\", \"37\"], \"mode\": \"lines\", \"name\": \"matthews_correlation_max\", \"stepped\": true, \"type\": \"scatter\", \"data\": [0.6231314496952846, 0.6345538749068885, 0.6624552413880023, 0.6624552413880023, 0.6624552413880023, 0.6624552413880023, 0.6624552413880023, 0.6624552413880023, 0.6624552413880023, 0.6624552413880023, 0.6624552413880023, 0.6624552413880023, 0.6624552413880023, 0.6624552413880023, 0.6624552413880023, 0.6624552413880023, 0.6624552413880023, 0.6624552413880023, 0.6639600430898185, 0.6639600430898185, 0.6639600430898185, 0.6639600430898185, 0.6703217914352484, 0.6703217914352484, 0.6703217914352484, 0.6703217914352484, 0.6703217914352484, 0.6703217914352484, 0.6703217914352484, 0.6703217914352484, 0.6703217914352484, 0.6703217914352484, 0.6703217914352484, 0.6703217914352484, 0.7249283491496528, 0.7249283491496528]}], \"f1_score_micro\": [{\"categories\": [\"0\", \"1\", \"2\", \"3\", \"4\", \"5\", \"6\", \"7\", \"8\", \"9\", \"10\", \"11\", \"12\", \"13\", \"14\", \"15\", \"16\", \"17\", \"18\", \"19\", \"20\", \"21\", \"22\", \"23\", \"24\", \"25\", \"26\", \"27\", \"28\", \"29\", \"30\", \"31\", \"32\", \"33\", \"36\", \"37\"], \"mode\": \"markers\", \"name\": \"f1_score_micro\", \"stepped\": false, \"type\": \"scatter\", \"data\": [0.8359770114942527, 0.8358620689655172, 0.8560919540229885, 0.8424137931034483, 0.8258620689655173, 0.7262068965517241, 0.8325287356321839, 0.8327586206896551, 0.8158620689655172, 0.849425287356322, 0.8389655172413792, 0.8493103448275864, 0.8362068965517242, 0.822528735632184, 0.8093103448275862, 0.822528735632184, 0.7160919540229884, 0.8226436781609194, 0.849425287356322, 0.8328735632183909, 0.8362068965517242, 0.8459770114942529, 0.852873563218391, 0.8358620689655172, 0.8460919540229886, 0.6791954022988507, 0.8393103448275863, 0.8391954022988506, 0.8122988505747127, 0.8391954022988507, 0.8527586206896552, 0.8291954022988506, 0.8391954022988507, 0.8393103448275863, 0.8762068965517242, 0.8527586206896552]}, {\"categories\": [\"0\", \"1\", \"2\", \"3\", \"4\", \"5\", \"6\", \"7\", \"8\", \"9\", \"10\", \"11\", \"12\", \"13\", \"14\", \"15\", \"16\", \"17\", \"18\", \"19\", \"20\", \"21\", \"22\", \"23\", \"24\", \"25\", \"26\", \"27\", \"28\", \"29\", \"30\", \"31\", \"32\", \"33\", \"36\", \"37\"], \"mode\": \"lines\", \"name\": \"f1_score_micro_max\", \"stepped\": true, \"type\": \"scatter\", \"data\": [0.8359770114942527, 0.8359770114942527, 0.8560919540229885, 0.8560919540229885, 0.8560919540229885, 0.8560919540229885, 0.8560919540229885, 0.8560919540229885, 0.8560919540229885, 0.8560919540229885, 0.8560919540229885, 0.8560919540229885, 0.8560919540229885, 0.8560919540229885, 0.8560919540229885, 0.8560919540229885, 0.8560919540229885, 0.8560919540229885, 0.8560919540229885, 0.8560919540229885, 0.8560919540229885, 0.8560919540229885, 0.8560919540229885, 0.8560919540229885, 0.8560919540229885, 0.8560919540229885, 0.8560919540229885, 0.8560919540229885, 0.8560919540229885, 0.8560919540229885, 0.8560919540229885, 0.8560919540229885, 0.8560919540229885, 0.8560919540229885, 0.8762068965517242, 0.8762068965517242]}], \"f1_score_macro\": [{\"categories\": [\"0\", \"1\", \"2\", \"3\", \"4\", \"5\", \"6\", \"7\", \"8\", \"9\", \"10\", \"11\", \"12\", \"13\", \"14\", \"15\", \"16\", \"17\", \"18\", \"19\", \"20\", \"21\", \"22\", \"23\", \"24\", \"25\", \"26\", \"27\", \"28\", \"29\", \"30\", \"31\", \"32\", \"33\", \"36\", \"37\"], \"mode\": \"markers\", \"name\": \"f1_score_macro\", \"stepped\": false, \"type\": \"scatter\", \"data\": [0.8043314151248963, 0.8078501228997539, 0.824505773272854, 0.7969948596542942, 0.7960380364667421, 0.6329160648400556, 0.8019093932201301, 0.795801446434647, 0.782102043506537, 0.8153722128532394, 0.8089636622667721, 0.8183538959042455, 0.8062936525373925, 0.7859665734784926, 0.7603669925285953, 0.7859665734784926, 0.5907868658468629, 0.7728404384842704, 0.8206630046614964, 0.7985142741080727, 0.7928589620340178, 0.8144346489551493, 0.8209707287435173, 0.8043202694352758, 0.8174652149872671, 0.4024893878511494, 0.7980241222188162, 0.8019286990917426, 0.7876678593563604, 0.8038122239763169, 0.8203697176717771, 0.801266417055623, 0.8090357782069268, 0.8026096581295047, 0.8488463971927152, 0.8196972204591395]}, {\"categories\": [\"0\", \"1\", \"2\", \"3\", \"4\", \"5\", \"6\", \"7\", \"8\", \"9\", \"10\", \"11\", \"12\", \"13\", \"14\", \"15\", \"16\", \"17\", \"18\", \"19\", \"20\", \"21\", \"22\", \"23\", \"24\", \"25\", \"26\", \"27\", \"28\", \"29\", \"30\", \"31\", \"32\", \"33\", \"36\", \"37\"], \"mode\": \"lines\", \"name\": \"f1_score_macro_max\", \"stepped\": true, \"type\": \"scatter\", \"data\": [0.8043314151248963, 0.8078501228997539, 0.824505773272854, 0.824505773272854, 0.824505773272854, 0.824505773272854, 0.824505773272854, 0.824505773272854, 0.824505773272854, 0.824505773272854, 0.824505773272854, 0.824505773272854, 0.824505773272854, 0.824505773272854, 0.824505773272854, 0.824505773272854, 0.824505773272854, 0.824505773272854, 0.824505773272854, 0.824505773272854, 0.824505773272854, 0.824505773272854, 0.824505773272854, 0.824505773272854, 0.824505773272854, 0.824505773272854, 0.824505773272854, 0.824505773272854, 0.824505773272854, 0.824505773272854, 0.824505773272854, 0.824505773272854, 0.824505773272854, 0.824505773272854, 0.8488463971927152, 0.8488463971927152]}], \"f1_score_weighted\": [{\"categories\": [\"0\", \"1\", \"2\", \"3\", \"4\", \"5\", \"6\", \"7\", \"8\", \"9\", \"10\", \"11\", \"12\", \"13\", \"14\", \"15\", \"16\", \"17\", \"18\", \"19\", \"20\", \"21\", \"22\", \"23\", \"24\", \"25\", \"26\", \"27\", \"28\", \"29\", \"30\", \"31\", \"32\", \"33\", \"36\", \"37\"], \"mode\": \"markers\", \"name\": \"f1_score_weighted\", \"stepped\": false, \"type\": \"scatter\", \"data\": [0.8333388901455894, 0.8342588560383983, 0.8536994733477064, 0.8359113840526365, 0.8271912794745552, 0.7000993980711374, 0.8306410325365379, 0.8268845927520065, 0.8136410495405453, 0.8435402048858796, 0.8377779207980878, 0.8467346233855348, 0.8330919162782356, 0.81906121720746, 0.8048217845216165, 0.81906121720746, 0.6715713461002728, 0.8099817042890736, 0.8450858403833926, 0.8280418148453291, 0.825168775577583, 0.8425169294116059, 0.8478132557070246, 0.8342261633979355, 0.8425788304529572, 0.5534120288954022, 0.8322110432877636, 0.8337742945370381, 0.8189816804976605, 0.8349190461845108, 0.8494699807851311, 0.8263090440363461, 0.8375150759323203, 0.8341644215726021, 0.8709046344608076, 0.846821573210726]}, {\"categories\": [\"0\", \"1\", \"2\", \"3\", \"4\", \"5\", \"6\", \"7\", \"8\", \"9\", \"10\", \"11\", \"12\", \"13\", \"14\", \"15\", \"16\", \"17\", \"18\", \"19\", \"20\", \"21\", \"22\", \"23\", \"24\", \"25\", \"26\", \"27\", \"28\", \"29\", \"30\", \"31\", \"32\", \"33\", \"36\", \"37\"], \"mode\": \"lines\", \"name\": \"f1_score_weighted_max\", \"stepped\": true, \"type\": \"scatter\", \"data\": [0.8333388901455894, 0.8342588560383983, 0.8536994733477064, 0.8536994733477064, 0.8536994733477064, 0.8536994733477064, 0.8536994733477064, 0.8536994733477064, 0.8536994733477064, 0.8536994733477064, 0.8536994733477064, 0.8536994733477064, 0.8536994733477064, 0.8536994733477064, 0.8536994733477064, 0.8536994733477064, 0.8536994733477064, 0.8536994733477064, 0.8536994733477064, 0.8536994733477064, 0.8536994733477064, 0.8536994733477064, 0.8536994733477064, 0.8536994733477064, 0.8536994733477064, 0.8536994733477064, 0.8536994733477064, 0.8536994733477064, 0.8536994733477064, 0.8536994733477064, 0.8536994733477064, 0.8536994733477064, 0.8536994733477064, 0.8536994733477064, 0.8709046344608076, 0.8709046344608076]}], \"AUC_weighted\": [{\"categories\": [\"0\", \"1\", \"2\", \"3\", \"4\", \"5\", \"6\", \"7\", \"8\", \"9\", \"10\", \"11\", \"12\", \"13\", \"14\", \"15\", \"16\", \"17\", \"18\", \"19\", \"20\", \"21\", \"22\", \"23\", \"24\", \"25\", \"26\", \"27\", \"28\", \"29\", \"30\", \"31\", \"32\", \"33\", \"36\", \"37\"], \"mode\": \"markers\", \"name\": \"AUC_weighted\", \"stepped\": false, \"type\": \"scatter\", \"data\": [0.8840955354735103, 0.8847369443591411, 0.9111108684370126, 0.9024921933456831, 0.9032646940969024, 0.7359517141971089, 0.8940799563687435, 0.900381358452125, 0.9008245155598702, 0.8953273545358786, 0.8930082393896466, 0.908045506607978, 0.8879981568848561, 0.8638387105774978, 0.8608370342027666, 0.8638387105774978, 0.7119398945321143, 0.9041695342055182, 0.8973091952817928, 0.8877728841757445, 0.8985475162433973, 0.9090223809964085, 0.8965881292906179, 0.9036144070100592, 0.8828772879167616, 0.7893535942953563, 0.9065883651542119, 0.9055768191063958, 0.9001600361796014, 0.8993111751986467, 0.9035711247541339, 0.9012181378732294, 0.9025351216755106, 0.8890898286146856, 0.9130759779884494, 0.9114339003800674]}, {\"categories\": [\"0\", \"1\", \"2\", \"3\", \"4\", \"5\", \"6\", \"7\", \"8\", \"9\", \"10\", \"11\", \"12\", \"13\", \"14\", \"15\", \"16\", \"17\", \"18\", \"19\", \"20\", \"21\", \"22\", \"23\", \"24\", \"25\", \"26\", \"27\", \"28\", \"29\", \"30\", \"31\", \"32\", \"33\", \"36\", \"37\"], \"mode\": \"lines\", \"name\": \"AUC_weighted_max\", \"stepped\": true, \"type\": \"scatter\", \"data\": [0.8840955354735103, 0.8847369443591411, 0.9111108684370126, 0.9111108684370126, 0.9111108684370126, 0.9111108684370126, 0.9111108684370126, 0.9111108684370126, 0.9111108684370126, 0.9111108684370126, 0.9111108684370126, 0.9111108684370126, 0.9111108684370126, 0.9111108684370126, 0.9111108684370126, 0.9111108684370126, 0.9111108684370126, 0.9111108684370126, 0.9111108684370126, 0.9111108684370126, 0.9111108684370126, 0.9111108684370126, 0.9111108684370126, 0.9111108684370126, 0.9111108684370126, 0.9111108684370126, 0.9111108684370126, 0.9111108684370126, 0.9111108684370126, 0.9111108684370126, 0.9111108684370126, 0.9111108684370126, 0.9111108684370126, 0.9111108684370126, 0.9130759779884494, 0.9130759779884494]}], \"precision_score_weighted\": [{\"categories\": [\"0\", \"1\", \"2\", \"3\", \"4\", \"5\", \"6\", \"7\", \"8\", \"9\", \"10\", \"11\", \"12\", \"13\", \"14\", \"15\", \"16\", \"17\", \"18\", \"19\", \"20\", \"21\", \"22\", \"23\", \"24\", \"25\", \"26\", \"27\", \"28\", \"29\", \"30\", \"31\", \"32\", \"33\", \"36\", \"37\"], \"mode\": \"markers\", \"name\": \"precision_score_weighted\", \"stepped\": false, \"type\": \"scatter\", \"data\": [0.8443308716969533, 0.8506678986628277, 0.8637424734640351, 0.8470757949626411, 0.8438163925650907, 0.7310701411765078, 0.8475817488081356, 0.8471991704876658, 0.8350987833980602, 0.8636804304557678, 0.8530977020223844, 0.8632372087044502, 0.8464264202888815, 0.8413501419573877, 0.8214794960088856, 0.8413501419573877, 0.7400560957172652, 0.8349369327241142, 0.8626079327399061, 0.8490463978799812, 0.8538976690725566, 0.8597752077424492, 0.8707417698291184, 0.852041990446766, 0.8640407109964832, 0.47055053507728895, 0.8502132820295252, 0.8509148798616565, 0.8462817353379967, 0.8472274484482526, 0.864708661129139, 0.8479459264984003, 0.8539720179592744, 0.8520676351939469, 0.8924424394251981, 0.8666923905272244]}, {\"categories\": [\"0\", \"1\", \"2\", \"3\", \"4\", \"5\", \"6\", \"7\", \"8\", \"9\", \"10\", \"11\", \"12\", \"13\", \"14\", \"15\", \"16\", \"17\", \"18\", \"19\", \"20\", \"21\", \"22\", \"23\", \"24\", \"25\", \"26\", \"27\", \"28\", \"29\", \"30\", \"31\", \"32\", \"33\", \"36\", \"37\"], \"mode\": \"lines\", \"name\": \"precision_score_weighted_max\", \"stepped\": true, \"type\": \"scatter\", \"data\": [0.8443308716969533, 0.8506678986628277, 0.8637424734640351, 0.8637424734640351, 0.8637424734640351, 0.8637424734640351, 0.8637424734640351, 0.8637424734640351, 0.8637424734640351, 0.8637424734640351, 0.8637424734640351, 0.8637424734640351, 0.8637424734640351, 0.8637424734640351, 0.8637424734640351, 0.8637424734640351, 0.8637424734640351, 0.8637424734640351, 0.8637424734640351, 0.8637424734640351, 0.8637424734640351, 0.8637424734640351, 0.8707417698291184, 0.8707417698291184, 0.8707417698291184, 0.8707417698291184, 0.8707417698291184, 0.8707417698291184, 0.8707417698291184, 0.8707417698291184, 0.8707417698291184, 0.8707417698291184, 0.8707417698291184, 0.8707417698291184, 0.8924424394251981, 0.8924424394251981]}], \"log_loss\": [{\"categories\": [\"0\", \"1\", \"2\", \"3\", \"4\", \"5\", \"6\", \"7\", \"8\", \"9\", \"10\", \"11\", \"12\", \"13\", \"14\", \"15\", \"16\", \"17\", \"18\", \"19\", \"20\", \"21\", \"22\", \"23\", \"24\", \"25\", \"26\", \"27\", \"28\", \"29\", \"30\", \"31\", \"32\", \"33\", \"36\", \"37\"], \"mode\": \"markers\", \"name\": \"log_loss\", \"stepped\": false, \"type\": \"scatter\", \"data\": [0.4772179826627182, 0.41764279466886123, 0.3752393900268839, 0.3975018849631961, 0.37995770757570063, 1.4028043697495771, 0.38052282640082535, 0.394405483274961, 0.5842380369495193, 0.38439334692346316, 0.4048053844919304, 0.3604154115811441, 0.4182362547689416, 0.42907816523006315, 0.488972342400222, 0.43213098366772257, 0.5932476663819714, 0.45853779779480364, 0.38755114891001663, 0.412689902302552, 0.42072726524405246, 0.3609895081671881, 0.3950105882414105, 0.3696132647988505, 0.4024118773673833, 0.5759475522178836, 0.4246953814244687, 0.38259963914629225, 0.49525126897520455, 0.37978943002304827, 0.37889395320732133, 0.415656714007262, 0.3884747675793009, 0.4630721184303791, 0.3696592527544054, 0.38440063330855667]}, {\"categories\": [\"0\", \"1\", \"2\", \"3\", \"4\", \"5\", \"6\", \"7\", \"8\", \"9\", \"10\", \"11\", \"12\", \"13\", \"14\", \"15\", \"16\", \"17\", \"18\", \"19\", \"20\", \"21\", \"22\", \"23\", \"24\", \"25\", \"26\", \"27\", \"28\", \"29\", \"30\", \"31\", \"32\", \"33\", \"36\", \"37\"], \"mode\": \"lines\", \"name\": \"log_loss_min\", \"stepped\": true, \"type\": \"scatter\", \"data\": [0.4772179826627182, 0.41764279466886123, 0.3752393900268839, 0.3752393900268839, 0.3752393900268839, 0.3752393900268839, 0.3752393900268839, 0.3752393900268839, 0.3752393900268839, 0.3752393900268839, 0.3752393900268839, 0.3604154115811441, 0.3604154115811441, 0.3604154115811441, 0.3604154115811441, 0.3604154115811441, 0.3604154115811441, 0.3604154115811441, 0.3604154115811441, 0.3604154115811441, 0.3604154115811441, 0.3604154115811441, 0.3604154115811441, 0.3604154115811441, 0.3604154115811441, 0.3604154115811441, 0.3604154115811441, 0.3604154115811441, 0.3604154115811441, 0.3604154115811441, 0.3604154115811441, 0.3604154115811441, 0.3604154115811441, 0.3604154115811441, 0.3604154115811441, 0.3604154115811441]}], \"average_precision_score_macro\": [{\"categories\": [\"0\", \"1\", \"2\", \"3\", \"4\", \"5\", \"6\", \"7\", \"8\", \"9\", \"10\", \"11\", \"12\", \"13\", \"14\", \"15\", \"16\", \"17\", \"18\", \"19\", \"20\", \"21\", \"22\", \"23\", \"24\", \"25\", \"26\", \"27\", \"28\", \"29\", \"30\", \"31\", \"32\", \"33\", \"36\", \"37\"], \"mode\": \"markers\", \"name\": \"average_precision_score_macro\", \"stepped\": false, \"type\": \"scatter\", \"data\": [0.8807888197525153, 0.8807340475847678, 0.9136879215244053, 0.8791026467408358, 0.8908344048360084, 0.7358064991774024, 0.8841953963316088, 0.8918330319186867, 0.8871932135919811, 0.893323594964372, 0.8845344268557118, 0.9005160564405716, 0.8819949781809319, 0.8531397251050148, 0.8401142754782065, 0.8534565890945919, 0.7079447085299803, 0.8893073017964932, 0.8914768827177127, 0.8793971710929904, 0.8952212174125835, 0.8978589526588057, 0.8888692722532514, 0.8869287413361138, 0.8789470191790112, 0.8047255854333439, 0.8934173095931126, 0.901857006610312, 0.8910444567124974, 0.8987615468852599, 0.8966534271828828, 0.892020754496268, 0.8945543768817907, 0.8670051871471305, 0.9073182065755914, 0.90147205069344]}, {\"categories\": [\"0\", \"1\", \"2\", \"3\", \"4\", \"5\", \"6\", \"7\", \"8\", \"9\", \"10\", \"11\", \"12\", \"13\", \"14\", \"15\", \"16\", \"17\", \"18\", \"19\", \"20\", \"21\", \"22\", \"23\", \"24\", \"25\", \"26\", \"27\", \"28\", \"29\", \"30\", \"31\", \"32\", \"33\", \"36\", \"37\"], \"mode\": \"lines\", \"name\": \"average_precision_score_macro_max\", \"stepped\": true, \"type\": \"scatter\", \"data\": [0.8807888197525153, 0.8807888197525153, 0.9136879215244053, 0.9136879215244053, 0.9136879215244053, 0.9136879215244053, 0.9136879215244053, 0.9136879215244053, 0.9136879215244053, 0.9136879215244053, 0.9136879215244053, 0.9136879215244053, 0.9136879215244053, 0.9136879215244053, 0.9136879215244053, 0.9136879215244053, 0.9136879215244053, 0.9136879215244053, 0.9136879215244053, 0.9136879215244053, 0.9136879215244053, 0.9136879215244053, 0.9136879215244053, 0.9136879215244053, 0.9136879215244053, 0.9136879215244053, 0.9136879215244053, 0.9136879215244053, 0.9136879215244053, 0.9136879215244053, 0.9136879215244053, 0.9136879215244053, 0.9136879215244053, 0.9136879215244053, 0.9136879215244053, 0.9136879215244053]}], \"balanced_accuracy\": [{\"categories\": [\"0\", \"1\", \"2\", \"3\", \"4\", \"5\", \"6\", \"7\", \"8\", \"9\", \"10\", \"11\", \"12\", \"13\", \"14\", \"15\", \"16\", \"17\", \"18\", \"19\", \"20\", \"21\", \"22\", \"23\", \"24\", \"25\", \"26\", \"27\", \"28\", \"29\", \"30\", \"31\", \"32\", \"33\", \"36\", \"37\"], \"mode\": \"markers\", \"name\": \"balanced_accuracy\", \"stepped\": false, \"type\": \"scatter\", \"data\": [0.8077082895810014, 0.8130249020938379, 0.822729690662757, 0.7973975031452148, 0.8112179130302699, 0.6430526798716157, 0.8093564316753674, 0.7918168440699906, 0.7956721831753296, 0.812244725367437, 0.8133160590045602, 0.821730169049105, 0.8095071398852862, 0.7878200375774747, 0.758680183247975, 0.7878200375774747, 0.609231526609673, 0.7647936289174846, 0.8163366853398317, 0.7999603913439726, 0.774127778685845, 0.8142464977496442, 0.8180298671580134, 0.8151234818766284, 0.8198671373757186, 0.5, 0.7913579374160038, 0.7992017011402023, 0.8173148161906744, 0.8023943418328429, 0.82053067409961, 0.8097687379681087, 0.815290775109711, 0.8059589161474173, 0.8421964702599712, 0.8169596376481388]}, {\"categories\": [\"0\", \"1\", \"2\", \"3\", \"4\", \"5\", \"6\", \"7\", \"8\", \"9\", \"10\", \"11\", \"12\", \"13\", \"14\", \"15\", \"16\", \"17\", \"18\", \"19\", \"20\", \"21\", \"22\", \"23\", \"24\", \"25\", \"26\", \"27\", \"28\", \"29\", \"30\", \"31\", \"32\", \"33\", \"36\", \"37\"], \"mode\": \"lines\", \"name\": \"balanced_accuracy_max\", \"stepped\": true, \"type\": \"scatter\", \"data\": [0.8077082895810014, 0.8130249020938379, 0.822729690662757, 0.822729690662757, 0.822729690662757, 0.822729690662757, 0.822729690662757, 0.822729690662757, 0.822729690662757, 0.822729690662757, 0.822729690662757, 0.822729690662757, 0.822729690662757, 0.822729690662757, 0.822729690662757, 0.822729690662757, 0.822729690662757, 0.822729690662757, 0.822729690662757, 0.822729690662757, 0.822729690662757, 0.822729690662757, 0.822729690662757, 0.822729690662757, 0.822729690662757, 0.822729690662757, 0.822729690662757, 0.822729690662757, 0.822729690662757, 0.822729690662757, 0.822729690662757, 0.822729690662757, 0.822729690662757, 0.822729690662757, 0.8421964702599712, 0.8421964702599712]}], \"recall_score_micro\": [{\"categories\": [\"0\", \"1\", \"2\", \"3\", \"4\", \"5\", \"6\", \"7\", \"8\", \"9\", \"10\", \"11\", \"12\", \"13\", \"14\", \"15\", \"16\", \"17\", \"18\", \"19\", \"20\", \"21\", \"22\", \"23\", \"24\", \"25\", \"26\", \"27\", \"28\", \"29\", \"30\", \"31\", \"32\", \"33\", \"36\", \"37\"], \"mode\": \"markers\", \"name\": \"recall_score_micro\", \"stepped\": false, \"type\": \"scatter\", \"data\": [0.8359770114942527, 0.8358620689655172, 0.8560919540229885, 0.8424137931034483, 0.8258620689655173, 0.7262068965517241, 0.8325287356321839, 0.8327586206896551, 0.8158620689655172, 0.849425287356322, 0.8389655172413792, 0.8493103448275864, 0.8362068965517242, 0.822528735632184, 0.8093103448275862, 0.822528735632184, 0.7160919540229884, 0.8226436781609194, 0.849425287356322, 0.8328735632183909, 0.8362068965517242, 0.8459770114942529, 0.8528735632183908, 0.8358620689655172, 0.8460919540229884, 0.6791954022988507, 0.8393103448275863, 0.8391954022988506, 0.8122988505747127, 0.8391954022988507, 0.8527586206896552, 0.8291954022988506, 0.8391954022988507, 0.8393103448275863, 0.8762068965517242, 0.8527586206896552]}, {\"categories\": [\"0\", \"1\", \"2\", \"3\", \"4\", \"5\", \"6\", \"7\", \"8\", \"9\", \"10\", \"11\", \"12\", \"13\", \"14\", \"15\", \"16\", \"17\", \"18\", \"19\", \"20\", \"21\", \"22\", \"23\", \"24\", \"25\", \"26\", \"27\", \"28\", \"29\", \"30\", \"31\", \"32\", \"33\", \"36\", \"37\"], \"mode\": \"lines\", \"name\": \"recall_score_micro_max\", \"stepped\": true, \"type\": \"scatter\", \"data\": [0.8359770114942527, 0.8359770114942527, 0.8560919540229885, 0.8560919540229885, 0.8560919540229885, 0.8560919540229885, 0.8560919540229885, 0.8560919540229885, 0.8560919540229885, 0.8560919540229885, 0.8560919540229885, 0.8560919540229885, 0.8560919540229885, 0.8560919540229885, 0.8560919540229885, 0.8560919540229885, 0.8560919540229885, 0.8560919540229885, 0.8560919540229885, 0.8560919540229885, 0.8560919540229885, 0.8560919540229885, 0.8560919540229885, 0.8560919540229885, 0.8560919540229885, 0.8560919540229885, 0.8560919540229885, 0.8560919540229885, 0.8560919540229885, 0.8560919540229885, 0.8560919540229885, 0.8560919540229885, 0.8560919540229885, 0.8560919540229885, 0.8762068965517242, 0.8762068965517242]}], \"average_precision_score_weighted\": [{\"categories\": [\"0\", \"1\", \"2\", \"3\", \"4\", \"5\", \"6\", \"7\", \"8\", \"9\", \"10\", \"11\", \"12\", \"13\", \"14\", \"15\", \"16\", \"17\", \"18\", \"19\", \"20\", \"21\", \"22\", \"23\", \"24\", \"25\", \"26\", \"27\", \"28\", \"29\", \"30\", \"31\", \"32\", \"33\", \"36\", \"37\"], \"mode\": \"markers\", \"name\": \"average_precision_score_weighted\", \"stepped\": false, \"type\": \"scatter\", \"data\": [0.9061112830231934, 0.907154018724502, 0.9305049592075209, 0.9163070368144695, 0.9178595394038046, 0.7811305826080381, 0.9122154590308812, 0.9165549146745361, 0.9127416344787063, 0.9154523875744605, 0.9086503570524938, 0.9241409367677107, 0.9051350361494794, 0.8879444208863108, 0.8764764478120824, 0.8880513236037834, 0.7624576146547808, 0.916358520578126, 0.9136407010191354, 0.9042677325897064, 0.918201379376715, 0.9220590986319068, 0.9121562223672438, 0.9160419972151503, 0.9028978492295302, 0.8394730993131558, 0.9198638783854, 0.9243650645183124, 0.9174806027068811, 0.9207741281490733, 0.9211014496086257, 0.9180641655533419, 0.9204138218073037, 0.8970735335670106, 0.9283060553258929, 0.9254251876243093]}, {\"categories\": [\"0\", \"1\", \"2\", \"3\", \"4\", \"5\", \"6\", \"7\", \"8\", \"9\", \"10\", \"11\", \"12\", \"13\", \"14\", \"15\", \"16\", \"17\", \"18\", \"19\", \"20\", \"21\", \"22\", \"23\", \"24\", \"25\", \"26\", \"27\", \"28\", \"29\", \"30\", \"31\", \"32\", \"33\", \"36\", \"37\"], \"mode\": \"lines\", \"name\": \"average_precision_score_weighted_max\", \"stepped\": true, \"type\": \"scatter\", \"data\": [0.9061112830231934, 0.907154018724502, 0.9305049592075209, 0.9305049592075209, 0.9305049592075209, 0.9305049592075209, 0.9305049592075209, 0.9305049592075209, 0.9305049592075209, 0.9305049592075209, 0.9305049592075209, 0.9305049592075209, 0.9305049592075209, 0.9305049592075209, 0.9305049592075209, 0.9305049592075209, 0.9305049592075209, 0.9305049592075209, 0.9305049592075209, 0.9305049592075209, 0.9305049592075209, 0.9305049592075209, 0.9305049592075209, 0.9305049592075209, 0.9305049592075209, 0.9305049592075209, 0.9305049592075209, 0.9305049592075209, 0.9305049592075209, 0.9305049592075209, 0.9305049592075209, 0.9305049592075209, 0.9305049592075209, 0.9305049592075209, 0.9305049592075209, 0.9305049592075209]}], \"precision_score_macro\": [{\"categories\": [\"0\", \"1\", \"2\", \"3\", \"4\", \"5\", \"6\", \"7\", \"8\", \"9\", \"10\", \"11\", \"12\", \"13\", \"14\", \"15\", \"16\", \"17\", \"18\", \"19\", \"20\", \"21\", \"22\", \"23\", \"24\", \"25\", \"26\", \"27\", \"28\", \"29\", \"30\", \"31\", \"32\", \"33\", \"36\", \"37\"], \"mode\": \"markers\", \"name\": \"precision_score_macro\", \"stepped\": false, \"type\": \"scatter\", \"data\": [0.8167365852764965, 0.8232986049897815, 0.8417283434211352, 0.8172351151899206, 0.7986175067939942, 0.6900069947003585, 0.8150161735035878, 0.8294928031541303, 0.7954318582099912, 0.8480567319154277, 0.8232924925951242, 0.8373818542568543, 0.8208112856094415, 0.8133497194072137, 0.7853385886633968, 0.8133497194072137, 0.7167059254810378, 0.8236542443064183, 0.8501165453539595, 0.8302320007731906, 0.863114664321186, 0.8387031024531024, 0.8556105986152762, 0.8153809942189099, 0.8428556889969933, 0.33959770114942534, 0.8332607457378625, 0.8289169333082377, 0.7847498481051113, 0.8230704453822304, 0.8420926122045047, 0.8207625237716771, 0.8226497584541063, 0.82479852876592, 0.8861829836829835, 0.8516294193982983]}, {\"categories\": [\"0\", \"1\", \"2\", \"3\", \"4\", \"5\", \"6\", \"7\", \"8\", \"9\", \"10\", \"11\", \"12\", \"13\", \"14\", \"15\", \"16\", \"17\", \"18\", \"19\", \"20\", \"21\", \"22\", \"23\", \"24\", \"25\", \"26\", \"27\", \"28\", \"29\", \"30\", \"31\", \"32\", \"33\", \"36\", \"37\"], \"mode\": \"lines\", \"name\": \"precision_score_macro_max\", \"stepped\": true, \"type\": \"scatter\", \"data\": [0.8167365852764965, 0.8232986049897815, 0.8417283434211352, 0.8417283434211352, 0.8417283434211352, 0.8417283434211352, 0.8417283434211352, 0.8417283434211352, 0.8417283434211352, 0.8480567319154277, 0.8480567319154277, 0.8480567319154277, 0.8480567319154277, 0.8480567319154277, 0.8480567319154277, 0.8480567319154277, 0.8480567319154277, 0.8480567319154277, 0.8501165453539595, 0.8501165453539595, 0.863114664321186, 0.863114664321186, 0.863114664321186, 0.863114664321186, 0.863114664321186, 0.863114664321186, 0.863114664321186, 0.863114664321186, 0.863114664321186, 0.863114664321186, 0.863114664321186, 0.863114664321186, 0.863114664321186, 0.863114664321186, 0.8861829836829835, 0.8861829836829835]}], \"weighted_accuracy\": [{\"categories\": [\"0\", \"1\", \"2\", \"3\", \"4\", \"5\", \"6\", \"7\", \"8\", \"9\", \"10\", \"11\", \"12\", \"13\", \"14\", \"15\", \"16\", \"17\", \"18\", \"19\", \"20\", \"21\", \"22\", \"23\", \"24\", \"25\", \"26\", \"27\", \"28\", \"29\", \"30\", \"31\", \"32\", \"33\", \"36\", \"37\"], \"mode\": \"markers\", \"name\": \"weighted_accuracy\", \"stepped\": false, \"type\": \"scatter\", \"data\": [0.8541321922200625, 0.8502962163535492, 0.8775496668019453, 0.870812115323303, 0.8346008577292817, 0.7828050215082403, 0.8471576234049815, 0.8595287859119706, 0.8300893127832696, 0.8736934563050145, 0.8556882611966448, 0.8668326988780228, 0.8535480316158818, 0.8451681878460313, 0.8385082313085942, 0.8451681878460313, 0.7859769876446128, 0.8613850227996014, 0.8708673495008605, 0.8537749403572639, 0.8772097945549892, 0.8668309256831824, 0.8755109020626423, 0.8492565769569482, 0.8626472087332806, 0.7931711479234276, 0.870662080112988, 0.8645648324484766, 0.8078194754240144, 0.8631013466321249, 0.8733465784469141, 0.8422103336626291, 0.8545679862095351, 0.8613171490646818, 0.8977124163657718, 0.8765311164692035]}, {\"categories\": [\"0\", \"1\", \"2\", \"3\", \"4\", \"5\", \"6\", \"7\", \"8\", \"9\", \"10\", \"11\", \"12\", \"13\", \"14\", \"15\", \"16\", \"17\", \"18\", \"19\", \"20\", \"21\", \"22\", \"23\", \"24\", \"25\", \"26\", \"27\", \"28\", \"29\", \"30\", \"31\", \"32\", \"33\", \"36\", \"37\"], \"mode\": \"lines\", \"name\": \"weighted_accuracy_max\", \"stepped\": true, \"type\": \"scatter\", \"data\": [0.8541321922200625, 0.8541321922200625, 0.8775496668019453, 0.8775496668019453, 0.8775496668019453, 0.8775496668019453, 0.8775496668019453, 0.8775496668019453, 0.8775496668019453, 0.8775496668019453, 0.8775496668019453, 0.8775496668019453, 0.8775496668019453, 0.8775496668019453, 0.8775496668019453, 0.8775496668019453, 0.8775496668019453, 0.8775496668019453, 0.8775496668019453, 0.8775496668019453, 0.8775496668019453, 0.8775496668019453, 0.8775496668019453, 0.8775496668019453, 0.8775496668019453, 0.8775496668019453, 0.8775496668019453, 0.8775496668019453, 0.8775496668019453, 0.8775496668019453, 0.8775496668019453, 0.8775496668019453, 0.8775496668019453, 0.8775496668019453, 0.8977124163657718, 0.8977124163657718]}], \"norm_macro_recall\": [{\"categories\": [\"0\", \"1\", \"2\", \"3\", \"4\", \"5\", \"6\", \"7\", \"8\", \"9\", \"10\", \"11\", \"12\", \"13\", \"14\", \"15\", \"16\", \"17\", \"18\", \"19\", \"20\", \"21\", \"22\", \"23\", \"24\", \"25\", \"26\", \"27\", \"28\", \"29\", \"30\", \"31\", \"32\", \"33\", \"36\", \"37\"], \"mode\": \"markers\", \"name\": \"norm_macro_recall\", \"stepped\": false, \"type\": \"scatter\", \"data\": [0.6154165791620023, 0.626049804187676, 0.6454593813255141, 0.5947950062904297, 0.62243582606054, 0.2861053597432316, 0.618712863350735, 0.5836336881399811, 0.5913443663506592, 0.624489450734874, 0.6266321180091203, 0.64346033809821, 0.6190142797705727, 0.5756400751549493, 0.5173603664959501, 0.5756400751549493, 0.23042477570738437, 0.5295872578349694, 0.6326733706796636, 0.5999207826879452, 0.5482555573716901, 0.6284929954992883, 0.6360597343160272, 0.6302469637532567, 0.6397342747514372, 0.0, 0.5827158748320075, 0.5984034022804046, 0.6346296323813487, 0.6047886836656859, 0.64106134819922, 0.6195374759362173, 0.6305815502194221, 0.6119178322948345, 0.6843929405199429, 0.6339192752962776]}, {\"categories\": [\"0\", \"1\", \"2\", \"3\", \"4\", \"5\", \"6\", \"7\", \"8\", \"9\", \"10\", \"11\", \"12\", \"13\", \"14\", \"15\", \"16\", \"17\", \"18\", \"19\", \"20\", \"21\", \"22\", \"23\", \"24\", \"25\", \"26\", \"27\", \"28\", \"29\", \"30\", \"31\", \"32\", \"33\", \"36\", \"37\"], \"mode\": \"lines\", \"name\": \"norm_macro_recall_max\", \"stepped\": true, \"type\": \"scatter\", \"data\": [0.6154165791620023, 0.626049804187676, 0.6454593813255141, 0.6454593813255141, 0.6454593813255141, 0.6454593813255141, 0.6454593813255141, 0.6454593813255141, 0.6454593813255141, 0.6454593813255141, 0.6454593813255141, 0.6454593813255141, 0.6454593813255141, 0.6454593813255141, 0.6454593813255141, 0.6454593813255141, 0.6454593813255141, 0.6454593813255141, 0.6454593813255141, 0.6454593813255141, 0.6454593813255141, 0.6454593813255141, 0.6454593813255141, 0.6454593813255141, 0.6454593813255141, 0.6454593813255141, 0.6454593813255141, 0.6454593813255141, 0.6454593813255141, 0.6454593813255141, 0.6454593813255141, 0.6454593813255141, 0.6454593813255141, 0.6454593813255141, 0.6843929405199429, 0.6843929405199429]}], \"recall_score_weighted\": [{\"categories\": [\"0\", \"1\", \"2\", \"3\", \"4\", \"5\", \"6\", \"7\", \"8\", \"9\", \"10\", \"11\", \"12\", \"13\", \"14\", \"15\", \"16\", \"17\", \"18\", \"19\", \"20\", \"21\", \"22\", \"23\", \"24\", \"25\", \"26\", \"27\", \"28\", \"29\", \"30\", \"31\", \"32\", \"33\", \"36\", \"37\"], \"mode\": \"markers\", \"name\": \"recall_score_weighted\", \"stepped\": false, \"type\": \"scatter\", \"data\": [0.8359770114942527, 0.8358620689655172, 0.8560919540229885, 0.8424137931034483, 0.8258620689655173, 0.7262068965517241, 0.8325287356321839, 0.8327586206896551, 0.8158620689655172, 0.849425287356322, 0.8389655172413792, 0.8493103448275864, 0.8362068965517242, 0.822528735632184, 0.8093103448275862, 0.822528735632184, 0.7160919540229884, 0.8226436781609194, 0.849425287356322, 0.8328735632183909, 0.8362068965517242, 0.8459770114942529, 0.8528735632183908, 0.8358620689655172, 0.8460919540229884, 0.6791954022988507, 0.8393103448275863, 0.8391954022988506, 0.8122988505747127, 0.8391954022988507, 0.8527586206896552, 0.8291954022988506, 0.8391954022988507, 0.8393103448275863, 0.8762068965517242, 0.8527586206896552]}, {\"categories\": [\"0\", \"1\", \"2\", \"3\", \"4\", \"5\", \"6\", \"7\", \"8\", \"9\", \"10\", \"11\", \"12\", \"13\", \"14\", \"15\", \"16\", \"17\", \"18\", \"19\", \"20\", \"21\", \"22\", \"23\", \"24\", \"25\", \"26\", \"27\", \"28\", \"29\", \"30\", \"31\", \"32\", \"33\", \"36\", \"37\"], \"mode\": \"lines\", \"name\": \"recall_score_weighted_max\", \"stepped\": true, \"type\": \"scatter\", \"data\": [0.8359770114942527, 0.8359770114942527, 0.8560919540229885, 0.8560919540229885, 0.8560919540229885, 0.8560919540229885, 0.8560919540229885, 0.8560919540229885, 0.8560919540229885, 0.8560919540229885, 0.8560919540229885, 0.8560919540229885, 0.8560919540229885, 0.8560919540229885, 0.8560919540229885, 0.8560919540229885, 0.8560919540229885, 0.8560919540229885, 0.8560919540229885, 0.8560919540229885, 0.8560919540229885, 0.8560919540229885, 0.8560919540229885, 0.8560919540229885, 0.8560919540229885, 0.8560919540229885, 0.8560919540229885, 0.8560919540229885, 0.8560919540229885, 0.8560919540229885, 0.8560919540229885, 0.8560919540229885, 0.8560919540229885, 0.8560919540229885, 0.8762068965517242, 0.8762068965517242]}], \"accuracy\": [{\"categories\": [\"0\", \"1\", \"2\", \"3\", \"4\", \"5\", \"6\", \"7\", \"8\", \"9\", \"10\", \"11\", \"12\", \"13\", \"14\", \"15\", \"16\", \"17\", \"18\", \"19\", \"20\", \"21\", \"22\", \"23\", \"24\", \"25\", \"26\", \"27\", \"28\", \"29\", \"30\", \"31\", \"32\", \"33\", \"36\", \"37\"], \"mode\": \"markers\", \"name\": \"accuracy\", \"stepped\": false, \"type\": \"scatter\", \"data\": [0.8359770114942527, 0.8358620689655172, 0.8560919540229885, 0.8424137931034483, 0.8258620689655173, 0.7262068965517241, 0.8325287356321839, 0.8327586206896551, 0.8158620689655172, 0.849425287356322, 0.8389655172413792, 0.8493103448275864, 0.8362068965517242, 0.822528735632184, 0.8093103448275862, 0.822528735632184, 0.7160919540229884, 0.8226436781609194, 0.849425287356322, 0.8328735632183909, 0.8362068965517242, 0.8459770114942529, 0.8528735632183908, 0.8358620689655172, 0.8460919540229884, 0.6791954022988507, 0.8393103448275863, 0.8391954022988506, 0.8122988505747127, 0.8391954022988507, 0.8527586206896552, 0.8291954022988506, 0.8391954022988507, 0.8393103448275863, 0.8762068965517242, 0.8527586206896552]}, {\"categories\": [\"0\", \"1\", \"2\", \"3\", \"4\", \"5\", \"6\", \"7\", \"8\", \"9\", \"10\", \"11\", \"12\", \"13\", \"14\", \"15\", \"16\", \"17\", \"18\", \"19\", \"20\", \"21\", \"22\", \"23\", \"24\", \"25\", \"26\", \"27\", \"28\", \"29\", \"30\", \"31\", \"32\", \"33\", \"36\", \"37\"], \"mode\": \"lines\", \"name\": \"accuracy_max\", \"stepped\": true, \"type\": \"scatter\", \"data\": [0.8359770114942527, 0.8359770114942527, 0.8560919540229885, 0.8560919540229885, 0.8560919540229885, 0.8560919540229885, 0.8560919540229885, 0.8560919540229885, 0.8560919540229885, 0.8560919540229885, 0.8560919540229885, 0.8560919540229885, 0.8560919540229885, 0.8560919540229885, 0.8560919540229885, 0.8560919540229885, 0.8560919540229885, 0.8560919540229885, 0.8560919540229885, 0.8560919540229885, 0.8560919540229885, 0.8560919540229885, 0.8560919540229885, 0.8560919540229885, 0.8560919540229885, 0.8560919540229885, 0.8560919540229885, 0.8560919540229885, 0.8560919540229885, 0.8560919540229885, 0.8560919540229885, 0.8560919540229885, 0.8560919540229885, 0.8560919540229885, 0.8762068965517242, 0.8762068965517242]}], \"precision_score_micro\": [{\"categories\": [\"0\", \"1\", \"2\", \"3\", \"4\", \"5\", \"6\", \"7\", \"8\", \"9\", \"10\", \"11\", \"12\", \"13\", \"14\", \"15\", \"16\", \"17\", \"18\", \"19\", \"20\", \"21\", \"22\", \"23\", \"24\", \"25\", \"26\", \"27\", \"28\", \"29\", \"30\", \"31\", \"32\", \"33\", \"36\", \"37\"], \"mode\": \"markers\", \"name\": \"precision_score_micro\", \"stepped\": false, \"type\": \"scatter\", \"data\": [0.8359770114942527, 0.8358620689655172, 0.8560919540229885, 0.8424137931034483, 0.8258620689655173, 0.7262068965517241, 0.8325287356321839, 0.8327586206896551, 0.8158620689655172, 0.849425287356322, 0.8389655172413792, 0.8493103448275864, 0.8362068965517242, 0.822528735632184, 0.8093103448275862, 0.822528735632184, 0.7160919540229884, 0.8226436781609194, 0.849425287356322, 0.8328735632183909, 0.8362068965517242, 0.8459770114942529, 0.8528735632183908, 0.8358620689655172, 0.8460919540229884, 0.6791954022988507, 0.8393103448275863, 0.8391954022988506, 0.8122988505747127, 0.8391954022988507, 0.8527586206896552, 0.8291954022988506, 0.8391954022988507, 0.8393103448275863, 0.8762068965517242, 0.8527586206896552]}, {\"categories\": [\"0\", \"1\", \"2\", \"3\", \"4\", \"5\", \"6\", \"7\", \"8\", \"9\", \"10\", \"11\", \"12\", \"13\", \"14\", \"15\", \"16\", \"17\", \"18\", \"19\", \"20\", \"21\", \"22\", \"23\", \"24\", \"25\", \"26\", \"27\", \"28\", \"29\", \"30\", \"31\", \"32\", \"33\", \"36\", \"37\"], \"mode\": \"lines\", \"name\": \"precision_score_micro_max\", \"stepped\": true, \"type\": \"scatter\", \"data\": [0.8359770114942527, 0.8359770114942527, 0.8560919540229885, 0.8560919540229885, 0.8560919540229885, 0.8560919540229885, 0.8560919540229885, 0.8560919540229885, 0.8560919540229885, 0.8560919540229885, 0.8560919540229885, 0.8560919540229885, 0.8560919540229885, 0.8560919540229885, 0.8560919540229885, 0.8560919540229885, 0.8560919540229885, 0.8560919540229885, 0.8560919540229885, 0.8560919540229885, 0.8560919540229885, 0.8560919540229885, 0.8560919540229885, 0.8560919540229885, 0.8560919540229885, 0.8560919540229885, 0.8560919540229885, 0.8560919540229885, 0.8560919540229885, 0.8560919540229885, 0.8560919540229885, 0.8560919540229885, 0.8560919540229885, 0.8560919540229885, 0.8762068965517242, 0.8762068965517242]}], \"average_precision_score_micro\": [{\"categories\": [\"0\", \"1\", \"2\", \"3\", \"4\", \"5\", \"6\", \"7\", \"8\", \"9\", \"10\", \"11\", \"12\", \"13\", \"14\", \"15\", \"16\", \"17\", \"18\", \"19\", \"20\", \"21\", \"22\", \"23\", \"24\", \"25\", \"26\", \"27\", \"28\", \"29\", \"30\", \"31\", \"32\", \"33\", \"36\", \"37\"], \"mode\": \"markers\", \"name\": \"average_precision_score_micro\", \"stepped\": false, \"type\": \"scatter\", \"data\": [0.9020054536251629, 0.9033793522124445, 0.9213415018756617, 0.9110460317170643, 0.9124218662994295, 0.7826339780389098, 0.9119475721134279, 0.9076713764950277, 0.9047586513601479, 0.9115740701473662, 0.9039491634517196, 0.9217125158130355, 0.8969673089031585, 0.8848467763709579, 0.876380860099481, 0.8849777094640485, 0.7534107071896095, 0.8974845578120805, 0.9071702220255219, 0.9019692978998345, 0.9053087102060567, 0.9192593556912805, 0.905583818664644, 0.9138480568763893, 0.8981311222062354, 0.8109684633985925, 0.9068440409830769, 0.9203991946557366, 0.9006715463033996, 0.9145736600164618, 0.9185865505407163, 0.9122746631056735, 0.9134012007396297, 0.8950673049215215, 0.9235233024563063, 0.920529451990445]}, {\"categories\": [\"0\", \"1\", \"2\", \"3\", \"4\", \"5\", \"6\", \"7\", \"8\", \"9\", \"10\", \"11\", \"12\", \"13\", \"14\", \"15\", \"16\", \"17\", \"18\", \"19\", \"20\", \"21\", \"22\", \"23\", \"24\", \"25\", \"26\", \"27\", \"28\", \"29\", \"30\", \"31\", \"32\", \"33\", \"36\", \"37\"], \"mode\": \"lines\", \"name\": \"average_precision_score_micro_max\", \"stepped\": true, \"type\": \"scatter\", \"data\": [0.9020054536251629, 0.9033793522124445, 0.9213415018756617, 0.9213415018756617, 0.9213415018756617, 0.9213415018756617, 0.9213415018756617, 0.9213415018756617, 0.9213415018756617, 0.9213415018756617, 0.9213415018756617, 0.9217125158130355, 0.9217125158130355, 0.9217125158130355, 0.9217125158130355, 0.9217125158130355, 0.9217125158130355, 0.9217125158130355, 0.9217125158130355, 0.9217125158130355, 0.9217125158130355, 0.9217125158130355, 0.9217125158130355, 0.9217125158130355, 0.9217125158130355, 0.9217125158130355, 0.9217125158130355, 0.9217125158130355, 0.9217125158130355, 0.9217125158130355, 0.9217125158130355, 0.9217125158130355, 0.9217125158130355, 0.9217125158130355, 0.9235233024563063, 0.9235233024563063]}]}, \"metricName\": null, \"primaryMetricName\": \"accuracy\", \"showLegend\": false}, \"run_metrics\": [{\"name\": \"experiment_status\", \"run_id\": \"AutoML_62097164-b25d-43d6-9bc1-d749f6dfa2f9\", \"categories\": [0, 1, 2, 3, 4, 5], \"series\": [{\"data\": [\"DatasetEvaluation\", \"FeaturesGeneration\", \"DatasetFeaturization\", \"DatasetFeaturizationCompleted\", \"DatasetCrossValidationSplit\", \"ModelSelection\"]}]}, {\"name\": \"experiment_status_description\", \"run_id\": \"AutoML_62097164-b25d-43d6-9bc1-d749f6dfa2f9\", \"categories\": [0, 1, 2, 3, 4, 5], \"series\": [{\"data\": [\"Gathering dataset statistics.\", \"Generating features for the dataset.\", \"Beginning to fit featurizers and featurize the dataset.\", \"Completed fit featurizers and featurizing the dataset.\", \"Generating individually featurized CV splits.\", \"Beginning model selection.\"]}]}, {\"name\": \"log_loss\", \"run_id\": \"AutoML_62097164-b25d-43d6-9bc1-d749f6dfa2f9\", \"categories\": [0], \"series\": [{\"data\": [0.3696592527544054]}]}, {\"name\": \"precision_score_macro\", \"run_id\": \"AutoML_62097164-b25d-43d6-9bc1-d749f6dfa2f9\", \"categories\": [0], \"series\": [{\"data\": [0.8861829836829835]}]}, {\"name\": \"f1_score_macro\", \"run_id\": \"AutoML_62097164-b25d-43d6-9bc1-d749f6dfa2f9\", \"categories\": [0], \"series\": [{\"data\": [0.8488463971927152]}]}, {\"name\": \"weighted_accuracy\", \"run_id\": \"AutoML_62097164-b25d-43d6-9bc1-d749f6dfa2f9\", \"categories\": [0], \"series\": [{\"data\": [0.8977124163657718]}]}, {\"name\": \"precision_score_micro\", \"run_id\": \"AutoML_62097164-b25d-43d6-9bc1-d749f6dfa2f9\", \"categories\": [0], \"series\": [{\"data\": [0.8762068965517242]}]}, {\"name\": \"recall_score_micro\", \"run_id\": \"AutoML_62097164-b25d-43d6-9bc1-d749f6dfa2f9\", \"categories\": [0], \"series\": [{\"data\": [0.8762068965517242]}]}, {\"name\": \"f1_score_weighted\", \"run_id\": \"AutoML_62097164-b25d-43d6-9bc1-d749f6dfa2f9\", \"categories\": [0], \"series\": [{\"data\": [0.8709046344608076]}]}, {\"name\": \"AUC_micro\", \"run_id\": \"AutoML_62097164-b25d-43d6-9bc1-d749f6dfa2f9\", \"categories\": [0], \"series\": [{\"data\": [0.9212536662703131]}]}, {\"name\": \"matthews_correlation\", \"run_id\": \"AutoML_62097164-b25d-43d6-9bc1-d749f6dfa2f9\", \"categories\": [0], \"series\": [{\"data\": [0.7249283491496528]}]}, {\"name\": \"accuracy\", \"run_id\": \"AutoML_62097164-b25d-43d6-9bc1-d749f6dfa2f9\", \"categories\": [0], \"series\": [{\"data\": [0.8762068965517242]}]}, {\"name\": \"precision_score_weighted\", \"run_id\": \"AutoML_62097164-b25d-43d6-9bc1-d749f6dfa2f9\", \"categories\": [0], \"series\": [{\"data\": [0.8924424394251981]}]}, {\"name\": \"balanced_accuracy\", \"run_id\": \"AutoML_62097164-b25d-43d6-9bc1-d749f6dfa2f9\", \"categories\": [0], \"series\": [{\"data\": [0.8421964702599712]}]}, {\"name\": \"recall_score_macro\", \"run_id\": \"AutoML_62097164-b25d-43d6-9bc1-d749f6dfa2f9\", \"categories\": [0], \"series\": [{\"data\": [0.8421964702599712]}]}, {\"name\": \"AUC_weighted\", \"run_id\": \"AutoML_62097164-b25d-43d6-9bc1-d749f6dfa2f9\", \"categories\": [0], \"series\": [{\"data\": [0.9130759779884494]}]}, {\"name\": \"average_precision_score_micro\", \"run_id\": \"AutoML_62097164-b25d-43d6-9bc1-d749f6dfa2f9\", \"categories\": [0], \"series\": [{\"data\": [0.9235233024563063]}]}, {\"name\": \"average_precision_score_weighted\", \"run_id\": \"AutoML_62097164-b25d-43d6-9bc1-d749f6dfa2f9\", \"categories\": [0], \"series\": [{\"data\": [0.9283060553258929]}]}, {\"name\": \"recall_score_weighted\", \"run_id\": \"AutoML_62097164-b25d-43d6-9bc1-d749f6dfa2f9\", \"categories\": [0], \"series\": [{\"data\": [0.8762068965517242]}]}, {\"name\": \"norm_macro_recall\", \"run_id\": \"AutoML_62097164-b25d-43d6-9bc1-d749f6dfa2f9\", \"categories\": [0], \"series\": [{\"data\": [0.6843929405199429]}]}, {\"name\": \"f1_score_micro\", \"run_id\": \"AutoML_62097164-b25d-43d6-9bc1-d749f6dfa2f9\", \"categories\": [0], \"series\": [{\"data\": [0.8762068965517242]}]}, {\"name\": \"average_precision_score_macro\", \"run_id\": \"AutoML_62097164-b25d-43d6-9bc1-d749f6dfa2f9\", \"categories\": [0], \"series\": [{\"data\": [0.9073182065755914]}]}, {\"name\": \"AUC_macro\", \"run_id\": \"AutoML_62097164-b25d-43d6-9bc1-d749f6dfa2f9\", \"categories\": [0], \"series\": [{\"data\": [0.9130759779884492]}]}], \"run_logs\": \"\\nRun is completed.\", \"graph\": {}, \"widget_settings\": {\"childWidgetDisplay\": \"popup\", \"send_telemetry\": false, \"log_level\": \"INFO\", \"sdk_version\": \"1.20.0\"}, \"loading\": false}"
     },
     "metadata": {},
     "output_type": "display_data"
    },
    {
     "name": "stdout",
     "output_type": "stream",
     "text": [
      "\n",
      "\n",
      "****************************************************************************************************\n",
      "DATA GUARDRAILS: \n",
      "\n",
      "TYPE:         Cross validation\n",
      "STATUS:       DONE\n",
      "DESCRIPTION:  Each iteration of the trained model was validated through cross-validation.\n",
      "              \n",
      "DETAILS:      \n",
      "+---------------------------------+\n",
      "|Number of folds                  |\n",
      "+=================================+\n",
      "|10                               |\n",
      "+---------------------------------+\n",
      "\n",
      "****************************************************************************************************\n",
      "\n",
      "TYPE:         Class balancing detection\n",
      "STATUS:       PASSED\n",
      "DESCRIPTION:  Your inputs were analyzed, and all classes are balanced in your training data.\n",
      "              Learn more about imbalanced data: https://aka.ms/AutomatedMLImbalancedData\n",
      "\n",
      "****************************************************************************************************\n",
      "\n",
      "TYPE:         Missing feature values imputation\n",
      "STATUS:       PASSED\n",
      "DESCRIPTION:  No feature missing values were detected in the training data.\n",
      "              Learn more about missing value imputation: https://aka.ms/AutomatedMLFeaturization\n",
      "\n",
      "****************************************************************************************************\n",
      "\n",
      "TYPE:         High cardinality feature detection\n",
      "STATUS:       PASSED\n",
      "DESCRIPTION:  Your inputs were analyzed, and no high cardinality features were detected.\n",
      "              Learn more about high cardinality feature handling: https://aka.ms/AutomatedMLFeaturization\n",
      "\n",
      "****************************************************************************************************\n",
      "\n",
      "****************************************************************************************************\n",
      "ITERATION: The iteration being evaluated.\n",
      "PIPELINE: A summary description of the pipeline being evaluated.\n",
      "DURATION: Time taken for the current iteration.\n",
      "METRIC: The result of computing score on the fitted pipeline.\n",
      "BEST: The best observed score thus far.\n",
      "****************************************************************************************************\n",
      "\n",
      " ITERATION   PIPELINE                                       DURATION      METRIC      BEST\n",
      "         0   MaxAbsScaler LightGBM                          0:00:52       0.8360    0.8360\n",
      "         1   MaxAbsScaler XGBoostClassifier                 0:00:52       0.8359    0.8360\n",
      "         2   MinMaxScaler RandomForest                      0:03:27       0.8561    0.8561\n",
      "         3   MinMaxScaler RandomForest                      0:00:56       0.8424    0.8561\n",
      "         4   MinMaxScaler RandomForest                      0:03:28       0.8259    0.8561\n",
      "         5   RobustScaler KNN                               0:03:17       0.7262    0.8561\n",
      "         6   StandardScalerWrapper LightGBM                 0:00:49       0.8325    0.8561\n",
      "         7   SparseNormalizer XGBoostClassifier             0:00:50       0.8328    0.8561\n",
      "        10   StandardScalerWrapper RandomForest             0:00:56       0.8390    0.8561\n",
      "        11   MaxAbsScaler GradientBoosting                  0:00:58       0.8493    0.8561\n",
      "         8   RobustScaler RandomForest                      0:00:52       0.8159    0.8561\n",
      "         9   RobustScaler ExtremeRandomTrees                0:01:02       0.8494    0.8561\n",
      "        12   SparseNormalizer XGBoostClassifier             0:00:52       0.8362    0.8561\n",
      "        13   StandardScalerWrapper LogisticRegression       0:00:55       0.8225    0.8561\n",
      "        14   SparseNormalizer XGBoostClassifier             0:01:07       0.8093    0.8561\n",
      "        15   StandardScalerWrapper LogisticRegression       0:01:00       0.8225    0.8561\n",
      "        16   MinMaxScaler SVM                               0:00:59       0.7161    0.8561\n",
      "        17   StandardScalerWrapper LightGBM                 0:00:58       0.8226    0.8561\n",
      "        18   SparseNormalizer LightGBM                      0:00:58       0.8494    0.8561\n",
      "        19   SparseNormalizer LightGBM                      0:00:50       0.8329    0.8561\n",
      "        20   StandardScalerWrapper ExtremeRandomTrees       0:00:51       0.8362    0.8561\n",
      "        21   MinMaxScaler LightGBM                          0:00:52       0.8460    0.8561\n",
      "        22   SparseNormalizer XGBoostClassifier             0:00:55       0.8529    0.8561\n",
      "        23   MaxAbsScaler LightGBM                          0:00:46       0.8359    0.8561\n",
      "        24   SparseNormalizer LightGBM                      0:00:54       0.8461    0.8561\n",
      "        25   MinMaxScaler RandomForest                      0:01:05       0.6792    0.8561\n",
      "        26   MinMaxScaler LightGBM                          0:00:48       0.8393    0.8561\n",
      "        27   MaxAbsScaler RandomForest                      0:00:56       0.8392    0.8561\n",
      "        28   RobustScaler RandomForest                      0:00:46       0.8123    0.8561\n",
      "        29   MaxAbsScaler RandomForest                      0:00:53       0.8392    0.8561\n",
      "        30   MinMaxScaler RandomForest                      0:01:00       0.8528    0.8561\n",
      "        31   StandardScalerWrapper XGBoostClassifier        0:00:52       0.8292    0.8561\n",
      "        32   StandardScalerWrapper XGBoostClassifier        0:01:10       0.8392    0.8561\n",
      "        33   StandardScalerWrapper XGBoostClassifier        0:00:29       0.8393    0.8561\n",
      "        34                                                  0:00:14          nan    0.8561\n",
      "        35                                                  0:00:08          nan    0.8561\n",
      "        36    VotingEnsemble                                0:01:50       0.8762    0.8762\n",
      "        37    StackEnsemble                                 0:02:11       0.8528    0.8762\n"
     ]
    },
    {
     "name": "stderr",
     "output_type": "stream",
     "text": [
      "WARNING:root:Received unrecognized parameter n_cross_validation\n"
     ]
    },
    {
     "data": {
      "text/plain": [
       "{'runId': 'AutoML_62097164-b25d-43d6-9bc1-d749f6dfa2f9',\n",
       " 'target': 'capstone-cluster',\n",
       " 'status': 'Completed',\n",
       " 'startTimeUtc': '2021-02-07T11:44:42.575945Z',\n",
       " 'endTimeUtc': '2021-02-07T12:10:54.908614Z',\n",
       " 'properties': {'num_iterations': '1000',\n",
       "  'training_type': 'TrainFull',\n",
       "  'acquisition_function': 'EI',\n",
       "  'primary_metric': 'accuracy',\n",
       "  'train_split': '0',\n",
       "  'acquisition_parameter': '0',\n",
       "  'num_cross_validation': None,\n",
       "  'target': 'capstone-cluster',\n",
       "  'AMLSettingsJsonString': '{\"path\":null,\"name\":\"automl_heart_failure_prediction\",\"subscription_id\":\"f9d5a085-54dc-4215-9ba6-dad5d86e60a0\",\"resource_group\":\"aml-quickstarts-137804\",\"workspace_name\":\"quick-starts-ws-137804\",\"region\":\"southcentralus\",\"compute_target\":\"capstone-cluster\",\"spark_service\":null,\"azure_service\":\"remote\",\"many_models\":false,\"pipeline_fetch_max_batch_size\":1,\"iterations\":1000,\"primary_metric\":\"accuracy\",\"task_type\":\"classification\",\"data_script\":null,\"validation_size\":0.0,\"n_cross_validations\":null,\"y_min\":null,\"y_max\":null,\"num_classes\":null,\"featurization\":\"auto\",\"_ignore_package_version_incompatibilities\":false,\"is_timeseries\":false,\"max_cores_per_iteration\":1,\"max_concurrent_iterations\":4,\"iteration_timeout_minutes\":null,\"mem_in_mb\":null,\"enforce_time_on_windows\":false,\"experiment_timeout_minutes\":30,\"experiment_exit_score\":null,\"whitelist_models\":null,\"blacklist_algos\":[\"TensorFlowLinearClassifier\",\"TensorFlowDNN\"],\"supported_models\":[\"LogisticRegression\",\"MultinomialNaiveBayes\",\"SGD\",\"RandomForest\",\"TensorFlowDNN\",\"XGBoostClassifier\",\"BernoulliNaiveBayes\",\"ExtremeRandomTrees\",\"GradientBoosting\",\"LightGBM\",\"DecisionTree\",\"KNN\",\"TensorFlowLinearClassifier\",\"SVM\",\"LinearSVM\",\"AveragedPerceptronClassifier\"],\"auto_blacklist\":true,\"blacklist_samples_reached\":false,\"exclude_nan_labels\":true,\"verbosity\":20,\"_debug_log\":\"azureml_automl.log\",\"show_warnings\":false,\"model_explainability\":true,\"service_url\":null,\"sdk_url\":null,\"sdk_packages\":null,\"enable_onnx_compatible_models\":false,\"enable_split_onnx_featurizer_estimator_models\":false,\"vm_type\":\"STANDARD_D2_V2\",\"telemetry_verbosity\":20,\"send_telemetry\":true,\"enable_dnn\":false,\"scenario\":\"SDK-1.13.0\",\"environment_label\":null,\"force_text_dnn\":false,\"enable_feature_sweeping\":true,\"enable_early_stopping\":true,\"early_stopping_n_iters\":10,\"metrics\":null,\"enable_ensembling\":true,\"enable_stack_ensembling\":true,\"ensemble_iterations\":15,\"enable_tf\":false,\"enable_subsampling\":null,\"subsample_seed\":null,\"enable_nimbusml\":false,\"enable_streaming\":false,\"force_streaming\":false,\"track_child_runs\":true,\"allowed_private_models\":[],\"label_column_name\":\"DEATH_EVENT\",\"weight_column_name\":null,\"cv_split_column_names\":null,\"enable_local_managed\":false,\"_local_managed_run_id\":null,\"cost_mode\":1,\"lag_length\":0,\"metric_operation\":\"maximize\",\"preprocess\":true,\"n_cross_validation\":5}',\n",
       "  'DataPrepJsonString': '{\\\\\"training_data\\\\\": \\\\\"{\\\\\\\\\\\\\"blocks\\\\\\\\\\\\\": [{\\\\\\\\\\\\\"id\\\\\\\\\\\\\": \\\\\\\\\\\\\"83645637-3eb6-4e36-aae8-343c7cc5aad1\\\\\\\\\\\\\", \\\\\\\\\\\\\"type\\\\\\\\\\\\\": \\\\\\\\\\\\\"Microsoft.DPrep.GetDatastoreFilesBlock\\\\\\\\\\\\\", \\\\\\\\\\\\\"arguments\\\\\\\\\\\\\": {\\\\\\\\\\\\\"datastores\\\\\\\\\\\\\": [{\\\\\\\\\\\\\"datastoreName\\\\\\\\\\\\\": \\\\\\\\\\\\\"workspaceblobstore\\\\\\\\\\\\\", \\\\\\\\\\\\\"path\\\\\\\\\\\\\": \\\\\\\\\\\\\"UI/02-07-2021_101047_UTC/heart_failure_clinical_records_dataset.csv\\\\\\\\\\\\\", \\\\\\\\\\\\\"resourceGroup\\\\\\\\\\\\\": \\\\\\\\\\\\\"aml-quickstarts-137804\\\\\\\\\\\\\", \\\\\\\\\\\\\"subscription\\\\\\\\\\\\\": \\\\\\\\\\\\\"f9d5a085-54dc-4215-9ba6-dad5d86e60a0\\\\\\\\\\\\\", \\\\\\\\\\\\\"workspaceName\\\\\\\\\\\\\": \\\\\\\\\\\\\"quick-starts-ws-137804\\\\\\\\\\\\\"}]}, \\\\\\\\\\\\\"localData\\\\\\\\\\\\\": {}, \\\\\\\\\\\\\"isEnabled\\\\\\\\\\\\\": true, \\\\\\\\\\\\\"name\\\\\\\\\\\\\": null, \\\\\\\\\\\\\"annotation\\\\\\\\\\\\\": null}, {\\\\\\\\\\\\\"id\\\\\\\\\\\\\": \\\\\\\\\\\\\"261540ed-c88c-4eff-aabb-ebaf1a6d1df6\\\\\\\\\\\\\", \\\\\\\\\\\\\"type\\\\\\\\\\\\\": \\\\\\\\\\\\\"Microsoft.DPrep.ParseDelimitedBlock\\\\\\\\\\\\\", \\\\\\\\\\\\\"arguments\\\\\\\\\\\\\": {\\\\\\\\\\\\\"columnHeadersMode\\\\\\\\\\\\\": 1, \\\\\\\\\\\\\"fileEncoding\\\\\\\\\\\\\": 0, \\\\\\\\\\\\\"handleQuotedLineBreaks\\\\\\\\\\\\\": false, \\\\\\\\\\\\\"preview\\\\\\\\\\\\\": false, \\\\\\\\\\\\\"separator\\\\\\\\\\\\\": \\\\\\\\\\\\\",\\\\\\\\\\\\\", \\\\\\\\\\\\\"skipRows\\\\\\\\\\\\\": 0, \\\\\\\\\\\\\"skipRowsMode\\\\\\\\\\\\\": 0}, \\\\\\\\\\\\\"localData\\\\\\\\\\\\\": {}, \\\\\\\\\\\\\"isEnabled\\\\\\\\\\\\\": true, \\\\\\\\\\\\\"name\\\\\\\\\\\\\": null, \\\\\\\\\\\\\"annotation\\\\\\\\\\\\\": null}, {\\\\\\\\\\\\\"id\\\\\\\\\\\\\": \\\\\\\\\\\\\"d9530b38-9225-4e14-ba85-97b0e24d6699\\\\\\\\\\\\\", \\\\\\\\\\\\\"type\\\\\\\\\\\\\": \\\\\\\\\\\\\"Microsoft.DPrep.DropColumnsBlock\\\\\\\\\\\\\", \\\\\\\\\\\\\"arguments\\\\\\\\\\\\\": {\\\\\\\\\\\\\"columns\\\\\\\\\\\\\": {\\\\\\\\\\\\\"type\\\\\\\\\\\\\": 0, \\\\\\\\\\\\\"details\\\\\\\\\\\\\": {\\\\\\\\\\\\\"selectedColumns\\\\\\\\\\\\\": [\\\\\\\\\\\\\"Path\\\\\\\\\\\\\"]}}}, \\\\\\\\\\\\\"localData\\\\\\\\\\\\\": {}, \\\\\\\\\\\\\"isEnabled\\\\\\\\\\\\\": true, \\\\\\\\\\\\\"name\\\\\\\\\\\\\": null, \\\\\\\\\\\\\"annotation\\\\\\\\\\\\\": null}, {\\\\\\\\\\\\\"id\\\\\\\\\\\\\": \\\\\\\\\\\\\"fa4942fe-52b8-4bae-abf4-112de1d8b12e\\\\\\\\\\\\\", \\\\\\\\\\\\\"type\\\\\\\\\\\\\": \\\\\\\\\\\\\"Microsoft.DPrep.SetColumnTypesBlock\\\\\\\\\\\\\", \\\\\\\\\\\\\"arguments\\\\\\\\\\\\\": {\\\\\\\\\\\\\"columnConversion\\\\\\\\\\\\\": [{\\\\\\\\\\\\\"column\\\\\\\\\\\\\": {\\\\\\\\\\\\\"type\\\\\\\\\\\\\": 2, \\\\\\\\\\\\\"details\\\\\\\\\\\\\": {\\\\\\\\\\\\\"selectedColumn\\\\\\\\\\\\\": \\\\\\\\\\\\\"Path\\\\\\\\\\\\\"}}, \\\\\\\\\\\\\"typeProperty\\\\\\\\\\\\\": 0}, {\\\\\\\\\\\\\"column\\\\\\\\\\\\\": {\\\\\\\\\\\\\"type\\\\\\\\\\\\\": 2, \\\\\\\\\\\\\"details\\\\\\\\\\\\\": {\\\\\\\\\\\\\"selectedColumn\\\\\\\\\\\\\": \\\\\\\\\\\\\"age\\\\\\\\\\\\\"}}, \\\\\\\\\\\\\"typeProperty\\\\\\\\\\\\\": 3}, {\\\\\\\\\\\\\"column\\\\\\\\\\\\\": {\\\\\\\\\\\\\"type\\\\\\\\\\\\\": 2, \\\\\\\\\\\\\"details\\\\\\\\\\\\\": {\\\\\\\\\\\\\"selectedColumn\\\\\\\\\\\\\": \\\\\\\\\\\\\"anaemia\\\\\\\\\\\\\"}}, \\\\\\\\\\\\\"typeProperty\\\\\\\\\\\\\": 2}, {\\\\\\\\\\\\\"column\\\\\\\\\\\\\": {\\\\\\\\\\\\\"type\\\\\\\\\\\\\": 2, \\\\\\\\\\\\\"details\\\\\\\\\\\\\": {\\\\\\\\\\\\\"selectedColumn\\\\\\\\\\\\\": \\\\\\\\\\\\\"creatinine_phosphokinase\\\\\\\\\\\\\"}}, \\\\\\\\\\\\\"typeProperty\\\\\\\\\\\\\": 2}, {\\\\\\\\\\\\\"column\\\\\\\\\\\\\": {\\\\\\\\\\\\\"type\\\\\\\\\\\\\": 2, \\\\\\\\\\\\\"details\\\\\\\\\\\\\": {\\\\\\\\\\\\\"selectedColumn\\\\\\\\\\\\\": \\\\\\\\\\\\\"diabetes\\\\\\\\\\\\\"}}, \\\\\\\\\\\\\"typeProperty\\\\\\\\\\\\\": 2}, {\\\\\\\\\\\\\"column\\\\\\\\\\\\\": {\\\\\\\\\\\\\"type\\\\\\\\\\\\\": 2, \\\\\\\\\\\\\"details\\\\\\\\\\\\\": {\\\\\\\\\\\\\"selectedColumn\\\\\\\\\\\\\": \\\\\\\\\\\\\"ejection_fraction\\\\\\\\\\\\\"}}, \\\\\\\\\\\\\"typeProperty\\\\\\\\\\\\\": 2}, {\\\\\\\\\\\\\"column\\\\\\\\\\\\\": {\\\\\\\\\\\\\"type\\\\\\\\\\\\\": 2, \\\\\\\\\\\\\"details\\\\\\\\\\\\\": {\\\\\\\\\\\\\"selectedColumn\\\\\\\\\\\\\": \\\\\\\\\\\\\"high_blood_pressure\\\\\\\\\\\\\"}}, \\\\\\\\\\\\\"typeProperty\\\\\\\\\\\\\": 2}, {\\\\\\\\\\\\\"column\\\\\\\\\\\\\": {\\\\\\\\\\\\\"type\\\\\\\\\\\\\": 2, \\\\\\\\\\\\\"details\\\\\\\\\\\\\": {\\\\\\\\\\\\\"selectedColumn\\\\\\\\\\\\\": \\\\\\\\\\\\\"platelets\\\\\\\\\\\\\"}}, \\\\\\\\\\\\\"typeProperty\\\\\\\\\\\\\": 3}, {\\\\\\\\\\\\\"column\\\\\\\\\\\\\": {\\\\\\\\\\\\\"type\\\\\\\\\\\\\": 2, \\\\\\\\\\\\\"details\\\\\\\\\\\\\": {\\\\\\\\\\\\\"selectedColumn\\\\\\\\\\\\\": \\\\\\\\\\\\\"serum_creatinine\\\\\\\\\\\\\"}}, \\\\\\\\\\\\\"typeProperty\\\\\\\\\\\\\": 3}, {\\\\\\\\\\\\\"column\\\\\\\\\\\\\": {\\\\\\\\\\\\\"type\\\\\\\\\\\\\": 2, \\\\\\\\\\\\\"details\\\\\\\\\\\\\": {\\\\\\\\\\\\\"selectedColumn\\\\\\\\\\\\\": \\\\\\\\\\\\\"serum_sodium\\\\\\\\\\\\\"}}, \\\\\\\\\\\\\"typeProperty\\\\\\\\\\\\\": 2}, {\\\\\\\\\\\\\"column\\\\\\\\\\\\\": {\\\\\\\\\\\\\"type\\\\\\\\\\\\\": 2, \\\\\\\\\\\\\"details\\\\\\\\\\\\\": {\\\\\\\\\\\\\"selectedColumn\\\\\\\\\\\\\": \\\\\\\\\\\\\"sex\\\\\\\\\\\\\"}}, \\\\\\\\\\\\\"typeProperty\\\\\\\\\\\\\": 2}, {\\\\\\\\\\\\\"column\\\\\\\\\\\\\": {\\\\\\\\\\\\\"type\\\\\\\\\\\\\": 2, \\\\\\\\\\\\\"details\\\\\\\\\\\\\": {\\\\\\\\\\\\\"selectedColumn\\\\\\\\\\\\\": \\\\\\\\\\\\\"smoking\\\\\\\\\\\\\"}}, \\\\\\\\\\\\\"typeProperty\\\\\\\\\\\\\": 2}, {\\\\\\\\\\\\\"column\\\\\\\\\\\\\": {\\\\\\\\\\\\\"type\\\\\\\\\\\\\": 2, \\\\\\\\\\\\\"details\\\\\\\\\\\\\": {\\\\\\\\\\\\\"selectedColumn\\\\\\\\\\\\\": \\\\\\\\\\\\\"time\\\\\\\\\\\\\"}}, \\\\\\\\\\\\\"typeProperty\\\\\\\\\\\\\": 2}, {\\\\\\\\\\\\\"column\\\\\\\\\\\\\": {\\\\\\\\\\\\\"type\\\\\\\\\\\\\": 2, \\\\\\\\\\\\\"details\\\\\\\\\\\\\": {\\\\\\\\\\\\\"selectedColumn\\\\\\\\\\\\\": \\\\\\\\\\\\\"DEATH_EVENT\\\\\\\\\\\\\"}}, \\\\\\\\\\\\\"typeProperty\\\\\\\\\\\\\": 2}]}, \\\\\\\\\\\\\"localData\\\\\\\\\\\\\": {}, \\\\\\\\\\\\\"isEnabled\\\\\\\\\\\\\": true, \\\\\\\\\\\\\"name\\\\\\\\\\\\\": null, \\\\\\\\\\\\\"annotation\\\\\\\\\\\\\": null}], \\\\\\\\\\\\\"inspectors\\\\\\\\\\\\\": [], \\\\\\\\\\\\\"meta\\\\\\\\\\\\\": {\\\\\\\\\\\\\"savedDatasetId\\\\\\\\\\\\\": \\\\\\\\\\\\\"93276a6b-1f64-49fa-bd29-dcd15f5e53f9\\\\\\\\\\\\\", \\\\\\\\\\\\\"datasetType\\\\\\\\\\\\\": \\\\\\\\\\\\\"tabular\\\\\\\\\\\\\", \\\\\\\\\\\\\"subscriptionId\\\\\\\\\\\\\": \\\\\\\\\\\\\"f9d5a085-54dc-4215-9ba6-dad5d86e60a0\\\\\\\\\\\\\", \\\\\\\\\\\\\"workspaceId\\\\\\\\\\\\\": \\\\\\\\\\\\\"ffc0f144-bca6-41bb-9745-9f0d2add8a9b\\\\\\\\\\\\\", \\\\\\\\\\\\\"workspaceLocation\\\\\\\\\\\\\": \\\\\\\\\\\\\"southcentralus\\\\\\\\\\\\\"}}\\\\\", \\\\\"activities\\\\\": 0}',\n",
       "  'EnableSubsampling': None,\n",
       "  'runTemplate': 'AutoML',\n",
       "  'azureml.runsource': 'automl',\n",
       "  'display_task_type': 'classification',\n",
       "  'dependencies_versions': '{\"azureml-widgets\": \"1.20.0\", \"azureml-train\": \"1.20.0\", \"azureml-train-restclients-hyperdrive\": \"1.20.0\", \"azureml-train-core\": \"1.20.0\", \"azureml-train-automl\": \"1.20.0\", \"azureml-train-automl-runtime\": \"1.20.0\", \"azureml-train-automl-client\": \"1.20.0\", \"azureml-tensorboard\": \"1.20.0\", \"azureml-telemetry\": \"1.20.0\", \"azureml-sdk\": \"1.20.0\", \"azureml-samples\": \"0+unknown\", \"azureml-pipeline\": \"1.20.0\", \"azureml-pipeline-steps\": \"1.20.0\", \"azureml-pipeline-core\": \"1.20.0\", \"azureml-opendatasets\": \"1.20.0\", \"azureml-model-management-sdk\": \"1.0.1b6.post1\", \"azureml-mlflow\": \"1.20.0.post1\", \"azureml-interpret\": \"1.20.0\", \"azureml-explain-model\": \"1.20.0\", \"azureml-defaults\": \"1.20.0\", \"azureml-dataset-runtime\": \"1.20.0\", \"azureml-dataprep\": \"2.7.3\", \"azureml-dataprep-rslex\": \"1.5.0\", \"azureml-dataprep-native\": \"27.0.0\", \"azureml-datadrift\": \"1.20.0\", \"azureml-core\": \"1.20.0\", \"azureml-contrib-services\": \"1.20.0\", \"azureml-contrib-server\": \"1.20.0\", \"azureml-contrib-reinforcementlearning\": \"1.20.0\", \"azureml-contrib-pipeline-steps\": \"1.20.0\", \"azureml-contrib-notebook\": \"1.20.0\", \"azureml-contrib-interpret\": \"1.20.0\", \"azureml-contrib-gbdt\": \"1.20.0\", \"azureml-contrib-fairness\": \"1.20.0\", \"azureml-contrib-dataset\": \"1.20.0\", \"azureml-cli-common\": \"1.20.0\", \"azureml-automl-runtime\": \"1.20.0\", \"azureml-automl-core\": \"1.20.0\", \"azureml-accel-models\": \"1.20.0\"}',\n",
       "  '_aml_system_scenario_identification': 'Remote.Parent',\n",
       "  'ClientType': 'SDK',\n",
       "  'environment_cpu_name': 'AzureML-AutoML',\n",
       "  'environment_cpu_label': 'prod',\n",
       "  'environment_gpu_name': 'AzureML-AutoML-GPU',\n",
       "  'environment_gpu_label': 'prod',\n",
       "  'root_attribution': 'automl',\n",
       "  'attribution': 'AutoML',\n",
       "  'Orchestrator': 'AutoML',\n",
       "  'CancelUri': 'https://southcentralus.experiments.azureml.net/jasmine/v1.0/subscriptions/f9d5a085-54dc-4215-9ba6-dad5d86e60a0/resourceGroups/aml-quickstarts-137804/providers/Microsoft.MachineLearningServices/workspaces/quick-starts-ws-137804/experimentids/92aa8856-93fe-4796-ac10-d637f7f47b6a/cancel/AutoML_62097164-b25d-43d6-9bc1-d749f6dfa2f9',\n",
       "  'ClientSdkVersion': '1.21.0',\n",
       "  'snapshotId': '00000000-0000-0000-0000-000000000000',\n",
       "  'SetupRunId': 'AutoML_62097164-b25d-43d6-9bc1-d749f6dfa2f9_setup',\n",
       "  'SetupRunContainerId': 'dcid.AutoML_62097164-b25d-43d6-9bc1-d749f6dfa2f9_setup',\n",
       "  'FeaturizationRunJsonPath': 'featurizer_container.json',\n",
       "  'FeaturizationRunId': 'AutoML_62097164-b25d-43d6-9bc1-d749f6dfa2f9_featurize',\n",
       "  'ProblemInfoJsonString': '{\"dataset_num_categorical\": 0, \"is_sparse\": false, \"subsampling\": false, \"dataset_classes\": 2, \"dataset_features\": 12, \"dataset_samples\": 299, \"single_frequency_class_detected\": false}',\n",
       "  'ModelExplainRunId': 'AutoML_62097164-b25d-43d6-9bc1-d749f6dfa2f9_ModelExplain'},\n",
       " 'inputDatasets': [{'dataset': {'id': '93276a6b-1f64-49fa-bd29-dcd15f5e53f9'}, 'consumptionDetails': {'type': 'RunInput', 'inputName': 'training_data', 'mechanism': 'Direct'}}],\n",
       " 'outputDatasets': [],\n",
       " 'logFiles': {},\n",
       " 'submittedBy': 'ODL_User 137804'}"
      ]
     },
     "execution_count": 17,
     "metadata": {},
     "output_type": "execute_result"
    }
   ],
   "source": [
    "from azureml.widgets import RunDetails\n",
    "RunDetails(remote_run).show()\n",
    "\n",
    "remote_run.wait_for_completion(show_output=True)"
   ]
  },
  {
   "cell_type": "markdown",
   "metadata": {},
   "source": [
    "## Best Model\n",
    "\n",
    "TODO: In the cell below, get the best model from the automl experiments and display all the properties of the model.\n",
    "\n"
   ]
  },
  {
   "cell_type": "code",
   "execution_count": null,
   "metadata": {
    "gather": {
     "logged": 1598431425670
    },
    "jupyter": {
     "outputs_hidden": false,
     "source_hidden": false
    },
    "nteract": {
     "transient": {
      "deleting": false
     }
    }
   },
   "outputs": [],
   "source": [
    "automl_best_run, automl_fitted_model = remote_run.get_output()"
   ]
  },
  {
   "cell_type": "code",
   "execution_count": null,
   "metadata": {},
   "outputs": [],
   "source": [
    "automl_best_run.get_metrics()"
   ]
  },
  {
   "cell_type": "code",
   "execution_count": null,
   "metadata": {},
   "outputs": [],
   "source": [
    "print(automl_best_run)"
   ]
  },
  {
   "cell_type": "code",
   "execution_count": null,
   "metadata": {},
   "outputs": [],
   "source": [
    "print(automl_fitted_model)"
   ]
  },
  {
   "cell_type": "code",
   "execution_count": null,
   "metadata": {},
   "outputs": [],
   "source": [
    "# Retrieve and save your best automl model.\n",
    "\n",
    "os.makedirs('outputs', exist_ok=True)\n",
    "\n",
    "joblib.dump(value = automl_fitted_model, filename = 'output/best-automl.pkl')\n",
    "\n",
    "# from azureml.automl.runtime.onnx_convert import OnnxConverter\n",
    "\n",
    "# automl_best_run_onnx, automl_fitted_model_onnx = remote_run.get_output(return_onnx_model=True)\n",
    "\n",
    "# OnnxConverter.save_onnx_model(automl_fitted_model_onnx, './outputs/best_automl_model.onnx')"
   ]
  },
  {
   "cell_type": "code",
   "execution_count": null,
   "metadata": {},
   "outputs": [],
   "source": []
  },
  {
   "cell_type": "markdown",
   "metadata": {},
   "source": [
    "## Model Deployment\n",
    "\n",
    "Remember you have to deploy only one of the two models you trained.. Perform the steps in the rest of this notebook only if you wish to deploy this model.\n",
    "\n",
    "TODO: In the cell below, register the model, create an inference config and deploy the model as a web service."
   ]
  },
  {
   "cell_type": "code",
   "execution_count": null,
   "metadata": {
    "gather": {
     "logged": 1598431435189
    },
    "jupyter": {
     "outputs_hidden": false,
     "source_hidden": false
    },
    "nteract": {
     "transient": {
      "deleting": false
     }
    }
   },
   "outputs": [],
   "source": [
    "model = Model.register(workspace = ws,\n",
    "                        model_path = 'output/best-automl.pkl',\n",
    "                        model_name = 'automl-best-model')\n",
    "\n",
    "best_run.download_file(constants.CONDA_ENV_FILE_PATH, 'automl-env.yml')"
   ]
  },
  {
   "cell_type": "code",
   "execution_count": null,
   "metadata": {},
   "outputs": [],
   "source": [
    "env = Environment.from_conda_specification('automl-env', 'automl-env.yml')\n",
    "\n",
    "inference_config = InferenceConfig(entry_script='score.py', environment=env)\n",
    "\n",
    "aci_config = AciWebservice.deploy_configuration(cpu_cores = 1, \n",
    "                                                memory_gb = 1,\n",
    "                                                auth_enabled = True, \n",
    "                                                enable_app_insights = True,\n",
    "                                                tags = {'name':'Heart failure prediction'},\n",
    "                                                description='Heart failure prediction model')\n",
    "\n",
    "service = model.deploy(workspace = ws, \n",
    "                       name = 'predict-heart-failure', \n",
    "                       models = [model], \n",
    "                       inference_config = inference_config,\n",
    "                       deployment_config = aci_config)\n",
    "\n",
    "service.wait_for_deployment(show_output=True)"
   ]
  },
  {
   "cell_type": "code",
   "execution_count": null,
   "metadata": {},
   "outputs": [],
   "source": [
    "print(service.state)"
   ]
  },
  {
   "cell_type": "code",
   "execution_count": null,
   "metadata": {},
   "outputs": [],
   "source": [
    "print(\"scoring URI: \" + service.scoring_uri)\n",
    "\n",
    "print(\"Swagger URI: \" + service.swagger_uri)\n",
    "\n",
    "print(\"Authetication Key: \" + service.get_keys()[0])"
   ]
  },
  {
   "cell_type": "markdown",
   "metadata": {
    "collapsed": true,
    "gather": {
     "logged": 1598431657736
    },
    "jupyter": {
     "outputs_hidden": false,
     "source_hidden": false
    },
    "nteract": {
     "transient": {
      "deleting": false
     }
    }
   },
   "source": [
    "TODO: In the cell below, send a request to the web service you deployed to test it."
   ]
  },
  {
   "cell_type": "code",
   "execution_count": null,
   "metadata": {
    "gather": {
     "logged": 1598432707604
    },
    "jupyter": {
     "outputs_hidden": false,
     "source_hidden": false
    },
    "nteract": {
     "transient": {
      "deleting": false
     }
    }
   },
   "outputs": [],
   "source": [
    "import requests\n",
    "import json\n",
    "\n",
    "scoringuri = service.scoring_uri\n",
    "key = service.get_keys()[0]\n",
    "\n",
    "data= { \"data\":\n",
    "       [\n",
    "           {\n",
    "               'age': 74,\n",
    "               'anaemia': 1,\n",
    "               'creatinine_phosphokinase': 1618,\n",
    "               'diabetes': 1,\n",
    "               'ejection_fraction': 27,\n",
    "               'high_blood_pressure': 1,\n",
    "               'platelets': 275095,\n",
    "               'serum_creatinine': 2.3,\n",
    "               'serum_sodium': 133,\n",
    "               'sex': 1,\n",
    "               'smoking': 0,\n",
    "               'time': 9\n",
    "               \n",
    "           },\n",
    "           {\n",
    "               'age': 52,\n",
    "               'anaemia': 0,\n",
    "               'creatinine_phosphokinase': 141,\n",
    "               'diabetes': 0,\n",
    "               'ejection_fraction': 19,\n",
    "               'high_blood_pressure': 0,\n",
    "               'platelets': 253000,\n",
    "               'serum_creatinine': 0.9,\n",
    "               'serum_sodium': 129,\n",
    "               'sex': 0,\n",
    "               'smoking': 1,\n",
    "               'time': 10\n",
    "           }\n",
    "       ]\n",
    "    }\n",
    "input_data = json.dumps(data)\n",
    "\n",
    "headers = {'Content-Type': 'application/json'}\n",
    "headers['Authorization'] = f'Bearer {key}'\n",
    "\n",
    "response = requests.post(scoringuri, input_data, headers = headers)\n",
    "print(response.text)"
   ]
  },
  {
   "cell_type": "markdown",
   "metadata": {
    "collapsed": true,
    "gather": {
     "logged": 1598432765711
    },
    "jupyter": {
     "outputs_hidden": false,
     "source_hidden": false
    },
    "nteract": {
     "transient": {
      "deleting": false
     }
    }
   },
   "source": [
    "TODO: In the cell below, print the logs of the web service and delete the service"
   ]
  },
  {
   "cell_type": "code",
   "execution_count": null,
   "metadata": {
    "jupyter": {
     "outputs_hidden": false,
     "source_hidden": false
    },
    "nteract": {
     "transient": {
      "deleting": false
     }
    }
   },
   "outputs": [],
   "source": [
    "print(service.get_logs())"
   ]
  },
  {
   "cell_type": "code",
   "execution_count": 1,
   "metadata": {},
   "outputs": [],
   "source": [
    "service.delete()"
   ]
  },
  {
   "cell_type": "code",
   "execution_count": 2,
   "metadata": {},
   "outputs": [],
   "source": []
  }
 ],
 "metadata": {
  "kernel_info": {
   "name": "python3"
  },
  "kernelspec": {
   "display_name": "Python 3",
   "language": "python",
   "name": "python3"
  },
  "language_info": {
   "codemirror_mode": {
    "name": "ipython",
    "version": 3
   },
   "file_extension": ".py",
   "mimetype": "text/x-python",
   "name": "python",
   "nbconvert_exporter": "python",
   "pygments_lexer": "ipython3",
   "version": "3.8.5"
  },
  "nteract": {
   "version": "nteract-front-end@1.0.0"
  }
 },
 "nbformat": 4,
 "nbformat_minor": 2
}
