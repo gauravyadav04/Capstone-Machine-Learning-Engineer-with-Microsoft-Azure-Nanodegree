{
 "cells": [
  {
   "cell_type": "markdown",
   "metadata": {},
   "source": [
    "# Automated ML\n",
    "\n",
    "Import Dependencies. In the cell below, import all the dependencies that you will need to complete the project."
   ]
  },
  {
   "cell_type": "code",
   "execution_count": 1,
   "metadata": {
    "gather": {
     "logged": 1613060687506
    },
    "jupyter": {
     "outputs_hidden": false,
     "source_hidden": false
    },
    "nteract": {
     "transient": {
      "deleting": false
     }
    }
   },
   "outputs": [
    {
     "name": "stdout",
     "output_type": "stream",
     "text": [
      "SDK version: 1.20.0\n"
     ]
    }
   ],
   "source": [
    "import logging\n",
    "import os\n",
    "import csv\n",
    "\n",
    "from matplotlib import pyplot as plt\n",
    "import numpy as np\n",
    "import pandas as pd\n",
    "from sklearn import datasets\n",
    "import pkg_resources\n",
    "\n",
    "import azureml.core\n",
    "from azureml.core.model import Model\n",
    "from azureml.core.experiment import Experiment\n",
    "from azureml.core.workspace import Workspace\n",
    "from azureml.train.automl import AutoMLConfig\n",
    "from azureml.core.dataset import Dataset\n",
    "\n",
    "from azureml.pipeline.steps import AutoMLStep\n",
    "from azureml.automl.core.shared import constants\n",
    "from azureml.core.environment import Environment\n",
    "from azureml.core.model import InferenceConfig\n",
    "from azureml.core.webservice import LocalWebservice, AciWebservice\n",
    "from azureml.core.environment import CondaDependencies\n",
    "\n",
    "\n",
    "import joblib\n",
    "\n",
    "# Check core SDK version number\n",
    "print(\"SDK version:\", azureml.core.VERSION)"
   ]
  },
  {
   "cell_type": "markdown",
   "metadata": {},
   "source": [
    "## Dataset - Heart Failure Clinical Records Dataset\n",
    "\n",
    "### Overview\n",
    "Cardiovascular diseases (CVDs) are the number 1 cause of death globally, taking an estimated 17.9 million lives each year, which accounts for 31% of all deaths worlwide.\n",
    "Heart failure is a common event caused by CVDs and this dataset contains 12 features that can be used to predict mortality by heart failure.\n",
    "\n",
    "Most cardiovascular diseases can be prevented by addressing behavioural risk factors such as tobacco use, unhealthy diet and obesity, physical inactivity and harmful use of alcohol using population-wide strategies.\n",
    "\n",
    "People with cardiovascular disease or who are at high cardiovascular risk (due to the presence of one or more risk factors such as hypertension, diabetes, hyperlipidaemia or already established disease) need early detection and management wherein a machine learning model can be of great help.\n",
    "\n",
    "### Objective\n",
    "Train a model to predict whether the person with Cardiovascular disease will survive or not"
   ]
  },
  {
   "cell_type": "code",
   "execution_count": 2,
   "metadata": {
    "gather": {
     "logged": 1613060827819
    },
    "jupyter": {
     "outputs_hidden": false,
     "source_hidden": false
    },
    "nteract": {
     "transient": {
      "deleting": false
     }
    }
   },
   "outputs": [
    {
     "name": "stdout",
     "output_type": "stream",
     "text": [
      "quick-starts-ws-138760\n",
      "aml-quickstarts-138760\n",
      "southcentralus\n",
      "aa7cf8e8-d23f-4bce-a7b9-1f0b4e0ac8ee\n"
     ]
    }
   ],
   "source": [
    "# Initialize Workspace\n",
    "ws = Workspace.from_config()\n",
    "print(ws.name, ws.resource_group, ws.location, ws.subscription_id, sep = '\\n')"
   ]
  },
  {
   "cell_type": "code",
   "execution_count": 3,
   "metadata": {
    "gather": {
     "logged": 1613060827819
    },
    "jupyter": {
     "outputs_hidden": false,
     "source_hidden": false
    },
    "nteract": {
     "transient": {
      "deleting": false
     }
    }
   },
   "outputs": [],
   "source": [
    "# choose a name for experiment\n",
    "experiment_name = 'automl_heart_failure_prediction'\n",
    "\n",
    "if \"automl\" not in os.listdir():\n",
    "    os.mkdir(\"./automl\")\n",
    "\n",
    "project_folder = './automl'\n",
    "\n",
    "experiment=Experiment(ws, experiment_name)"
   ]
  },
  {
   "cell_type": "code",
   "execution_count": 4,
   "metadata": {
    "gather": {
     "logged": 1613060831954
    },
    "jupyter": {
     "outputs_hidden": false,
     "source_hidden": false
    },
    "nteract": {
     "transient": {
      "deleting": false
     }
    }
   },
   "outputs": [
    {
     "name": "stdout",
     "output_type": "stream",
     "text": [
      "Workspace name: quick-starts-ws-138760\n",
      "Azure region: southcentralus\n",
      "Subscription id: aa7cf8e8-d23f-4bce-a7b9-1f0b4e0ac8ee\n",
      "Resource group: aml-quickstarts-138760\n"
     ]
    }
   ],
   "source": [
    "print('Workspace name: ' + ws.name, \n",
    "      'Azure region: ' + ws.location, \n",
    "      'Subscription id: ' + ws.subscription_id, \n",
    "      'Resource group: ' + ws.resource_group, sep = '\\n')"
   ]
  },
  {
   "cell_type": "markdown",
   "metadata": {},
   "source": [
    "## Create or Attach an AmlCompute cluster"
   ]
  },
  {
   "cell_type": "code",
   "execution_count": 5,
   "metadata": {
    "gather": {
     "logged": 1613062364220
    }
   },
   "outputs": [
    {
     "name": "stdout",
     "output_type": "stream",
     "text": [
      "Found existing cluster, use it.\n"
     ]
    }
   ],
   "source": [
    "from azureml.core.compute import AmlCompute\n",
    "from azureml.core.compute import ComputeTarget\n",
    "from azureml.core.compute_target import ComputeTargetException\n",
    "\n",
    "compute_cluster_name = \"capstone-cluster\"\n",
    "\n",
    "# Verify that cluster does not exist already\n",
    "try:\n",
    "    compute_target = ComputeTarget(workspace = ws, name = compute_cluster_name)\n",
    "    print('Found existing cluster, use it.')\n",
    "    \n",
    "except ComputeTargetException:\n",
    "    compute_config = AmlCompute.provisioning_configuration(vm_size='STANDARD_D2_V2',# for GPU, use \"STANDARD_NC6\"\n",
    "                                                           #vm_priority = 'lowpriority', # optional\n",
    "                                                           max_nodes=4)\n",
    "    compute_target = ComputeTarget.create(ws, compute_cluster_name, compute_config)\n",
    "    \n",
    "    compute_target.wait_for_completion(show_output=True, min_node_count = 1, timeout_in_minutes = 10)\n",
    "# For a more detailed view of current AmlCompute status, use get_status()."
   ]
  },
  {
   "cell_type": "markdown",
   "metadata": {},
   "source": [
    "## Data"
   ]
  },
  {
   "cell_type": "code",
   "execution_count": 6,
   "metadata": {
    "gather": {
     "logged": 1613062414138
    }
   },
   "outputs": [
    {
     "data": {
      "text/html": [
       "<div>\n",
       "<style scoped>\n",
       "    .dataframe tbody tr th:only-of-type {\n",
       "        vertical-align: middle;\n",
       "    }\n",
       "\n",
       "    .dataframe tbody tr th {\n",
       "        vertical-align: top;\n",
       "    }\n",
       "\n",
       "    .dataframe thead th {\n",
       "        text-align: right;\n",
       "    }\n",
       "</style>\n",
       "<table border=\"1\" class=\"dataframe\">\n",
       "  <thead>\n",
       "    <tr style=\"text-align: right;\">\n",
       "      <th></th>\n",
       "      <th>age</th>\n",
       "      <th>anaemia</th>\n",
       "      <th>creatinine_phosphokinase</th>\n",
       "      <th>diabetes</th>\n",
       "      <th>ejection_fraction</th>\n",
       "      <th>high_blood_pressure</th>\n",
       "      <th>platelets</th>\n",
       "      <th>serum_creatinine</th>\n",
       "      <th>serum_sodium</th>\n",
       "      <th>sex</th>\n",
       "      <th>smoking</th>\n",
       "      <th>time</th>\n",
       "      <th>DEATH_EVENT</th>\n",
       "    </tr>\n",
       "  </thead>\n",
       "  <tbody>\n",
       "    <tr>\n",
       "      <th>0</th>\n",
       "      <td>75.0</td>\n",
       "      <td>0</td>\n",
       "      <td>582</td>\n",
       "      <td>0</td>\n",
       "      <td>20</td>\n",
       "      <td>1</td>\n",
       "      <td>265000.00</td>\n",
       "      <td>1.9</td>\n",
       "      <td>130</td>\n",
       "      <td>1</td>\n",
       "      <td>0</td>\n",
       "      <td>4</td>\n",
       "      <td>1</td>\n",
       "    </tr>\n",
       "    <tr>\n",
       "      <th>1</th>\n",
       "      <td>55.0</td>\n",
       "      <td>0</td>\n",
       "      <td>7861</td>\n",
       "      <td>0</td>\n",
       "      <td>38</td>\n",
       "      <td>0</td>\n",
       "      <td>263358.03</td>\n",
       "      <td>1.1</td>\n",
       "      <td>136</td>\n",
       "      <td>1</td>\n",
       "      <td>0</td>\n",
       "      <td>6</td>\n",
       "      <td>1</td>\n",
       "    </tr>\n",
       "    <tr>\n",
       "      <th>2</th>\n",
       "      <td>65.0</td>\n",
       "      <td>0</td>\n",
       "      <td>146</td>\n",
       "      <td>0</td>\n",
       "      <td>20</td>\n",
       "      <td>0</td>\n",
       "      <td>162000.00</td>\n",
       "      <td>1.3</td>\n",
       "      <td>129</td>\n",
       "      <td>1</td>\n",
       "      <td>1</td>\n",
       "      <td>7</td>\n",
       "      <td>1</td>\n",
       "    </tr>\n",
       "    <tr>\n",
       "      <th>3</th>\n",
       "      <td>50.0</td>\n",
       "      <td>1</td>\n",
       "      <td>111</td>\n",
       "      <td>0</td>\n",
       "      <td>20</td>\n",
       "      <td>0</td>\n",
       "      <td>210000.00</td>\n",
       "      <td>1.9</td>\n",
       "      <td>137</td>\n",
       "      <td>1</td>\n",
       "      <td>0</td>\n",
       "      <td>7</td>\n",
       "      <td>1</td>\n",
       "    </tr>\n",
       "    <tr>\n",
       "      <th>4</th>\n",
       "      <td>65.0</td>\n",
       "      <td>1</td>\n",
       "      <td>160</td>\n",
       "      <td>1</td>\n",
       "      <td>20</td>\n",
       "      <td>0</td>\n",
       "      <td>327000.00</td>\n",
       "      <td>2.7</td>\n",
       "      <td>116</td>\n",
       "      <td>0</td>\n",
       "      <td>0</td>\n",
       "      <td>8</td>\n",
       "      <td>1</td>\n",
       "    </tr>\n",
       "  </tbody>\n",
       "</table>\n",
       "</div>"
      ],
      "text/plain": [
       "    age  anaemia  creatinine_phosphokinase  diabetes  ejection_fraction  \\\n",
       "0  75.0        0                       582         0                 20   \n",
       "1  55.0        0                      7861         0                 38   \n",
       "2  65.0        0                       146         0                 20   \n",
       "3  50.0        1                       111         0                 20   \n",
       "4  65.0        1                       160         1                 20   \n",
       "\n",
       "   high_blood_pressure  platelets  serum_creatinine  serum_sodium  sex  \\\n",
       "0                    1  265000.00               1.9           130    1   \n",
       "1                    0  263358.03               1.1           136    1   \n",
       "2                    0  162000.00               1.3           129    1   \n",
       "3                    0  210000.00               1.9           137    1   \n",
       "4                    0  327000.00               2.7           116    0   \n",
       "\n",
       "   smoking  time  DEATH_EVENT  \n",
       "0        0     4            1  \n",
       "1        0     6            1  \n",
       "2        1     7            1  \n",
       "3        0     7            1  \n",
       "4        0     8            1  "
      ]
     },
     "execution_count": 6,
     "metadata": {},
     "output_type": "execute_result"
    }
   ],
   "source": [
    "dataset = Dataset.get_by_name(ws, name='Heart_Failure_Clinical_Records_Dataset')\n",
    "\n",
    "df = dataset.to_pandas_dataframe()\n",
    "\n",
    "df.head()"
   ]
  },
  {
   "cell_type": "code",
   "execution_count": 7,
   "metadata": {
    "gather": {
     "logged": 1613062418516
    }
   },
   "outputs": [
    {
     "data": {
      "text/html": [
       "<div>\n",
       "<style scoped>\n",
       "    .dataframe tbody tr th:only-of-type {\n",
       "        vertical-align: middle;\n",
       "    }\n",
       "\n",
       "    .dataframe tbody tr th {\n",
       "        vertical-align: top;\n",
       "    }\n",
       "\n",
       "    .dataframe thead th {\n",
       "        text-align: right;\n",
       "    }\n",
       "</style>\n",
       "<table border=\"1\" class=\"dataframe\">\n",
       "  <thead>\n",
       "    <tr style=\"text-align: right;\">\n",
       "      <th></th>\n",
       "      <th>age</th>\n",
       "      <th>anaemia</th>\n",
       "      <th>creatinine_phosphokinase</th>\n",
       "      <th>diabetes</th>\n",
       "      <th>ejection_fraction</th>\n",
       "      <th>high_blood_pressure</th>\n",
       "      <th>platelets</th>\n",
       "      <th>serum_creatinine</th>\n",
       "      <th>serum_sodium</th>\n",
       "      <th>sex</th>\n",
       "      <th>smoking</th>\n",
       "      <th>time</th>\n",
       "      <th>DEATH_EVENT</th>\n",
       "    </tr>\n",
       "  </thead>\n",
       "  <tbody>\n",
       "    <tr>\n",
       "      <th>count</th>\n",
       "      <td>299.000000</td>\n",
       "      <td>299.000000</td>\n",
       "      <td>299.000000</td>\n",
       "      <td>299.000000</td>\n",
       "      <td>299.000000</td>\n",
       "      <td>299.000000</td>\n",
       "      <td>299.000000</td>\n",
       "      <td>299.00000</td>\n",
       "      <td>299.000000</td>\n",
       "      <td>299.000000</td>\n",
       "      <td>299.00000</td>\n",
       "      <td>299.000000</td>\n",
       "      <td>299.00000</td>\n",
       "    </tr>\n",
       "    <tr>\n",
       "      <th>mean</th>\n",
       "      <td>60.833893</td>\n",
       "      <td>0.431438</td>\n",
       "      <td>581.839465</td>\n",
       "      <td>0.418060</td>\n",
       "      <td>38.083612</td>\n",
       "      <td>0.351171</td>\n",
       "      <td>263358.029264</td>\n",
       "      <td>1.39388</td>\n",
       "      <td>136.625418</td>\n",
       "      <td>0.648829</td>\n",
       "      <td>0.32107</td>\n",
       "      <td>130.260870</td>\n",
       "      <td>0.32107</td>\n",
       "    </tr>\n",
       "    <tr>\n",
       "      <th>std</th>\n",
       "      <td>11.894809</td>\n",
       "      <td>0.496107</td>\n",
       "      <td>970.287881</td>\n",
       "      <td>0.494067</td>\n",
       "      <td>11.834841</td>\n",
       "      <td>0.478136</td>\n",
       "      <td>97804.236869</td>\n",
       "      <td>1.03451</td>\n",
       "      <td>4.412477</td>\n",
       "      <td>0.478136</td>\n",
       "      <td>0.46767</td>\n",
       "      <td>77.614208</td>\n",
       "      <td>0.46767</td>\n",
       "    </tr>\n",
       "    <tr>\n",
       "      <th>min</th>\n",
       "      <td>40.000000</td>\n",
       "      <td>0.000000</td>\n",
       "      <td>23.000000</td>\n",
       "      <td>0.000000</td>\n",
       "      <td>14.000000</td>\n",
       "      <td>0.000000</td>\n",
       "      <td>25100.000000</td>\n",
       "      <td>0.50000</td>\n",
       "      <td>113.000000</td>\n",
       "      <td>0.000000</td>\n",
       "      <td>0.00000</td>\n",
       "      <td>4.000000</td>\n",
       "      <td>0.00000</td>\n",
       "    </tr>\n",
       "    <tr>\n",
       "      <th>25%</th>\n",
       "      <td>51.000000</td>\n",
       "      <td>0.000000</td>\n",
       "      <td>116.500000</td>\n",
       "      <td>0.000000</td>\n",
       "      <td>30.000000</td>\n",
       "      <td>0.000000</td>\n",
       "      <td>212500.000000</td>\n",
       "      <td>0.90000</td>\n",
       "      <td>134.000000</td>\n",
       "      <td>0.000000</td>\n",
       "      <td>0.00000</td>\n",
       "      <td>73.000000</td>\n",
       "      <td>0.00000</td>\n",
       "    </tr>\n",
       "    <tr>\n",
       "      <th>50%</th>\n",
       "      <td>60.000000</td>\n",
       "      <td>0.000000</td>\n",
       "      <td>250.000000</td>\n",
       "      <td>0.000000</td>\n",
       "      <td>38.000000</td>\n",
       "      <td>0.000000</td>\n",
       "      <td>262000.000000</td>\n",
       "      <td>1.10000</td>\n",
       "      <td>137.000000</td>\n",
       "      <td>1.000000</td>\n",
       "      <td>0.00000</td>\n",
       "      <td>115.000000</td>\n",
       "      <td>0.00000</td>\n",
       "    </tr>\n",
       "    <tr>\n",
       "      <th>75%</th>\n",
       "      <td>70.000000</td>\n",
       "      <td>1.000000</td>\n",
       "      <td>582.000000</td>\n",
       "      <td>1.000000</td>\n",
       "      <td>45.000000</td>\n",
       "      <td>1.000000</td>\n",
       "      <td>303500.000000</td>\n",
       "      <td>1.40000</td>\n",
       "      <td>140.000000</td>\n",
       "      <td>1.000000</td>\n",
       "      <td>1.00000</td>\n",
       "      <td>203.000000</td>\n",
       "      <td>1.00000</td>\n",
       "    </tr>\n",
       "    <tr>\n",
       "      <th>max</th>\n",
       "      <td>95.000000</td>\n",
       "      <td>1.000000</td>\n",
       "      <td>7861.000000</td>\n",
       "      <td>1.000000</td>\n",
       "      <td>80.000000</td>\n",
       "      <td>1.000000</td>\n",
       "      <td>850000.000000</td>\n",
       "      <td>9.40000</td>\n",
       "      <td>148.000000</td>\n",
       "      <td>1.000000</td>\n",
       "      <td>1.00000</td>\n",
       "      <td>285.000000</td>\n",
       "      <td>1.00000</td>\n",
       "    </tr>\n",
       "  </tbody>\n",
       "</table>\n",
       "</div>"
      ],
      "text/plain": [
       "              age     anaemia  creatinine_phosphokinase    diabetes  \\\n",
       "count  299.000000  299.000000                299.000000  299.000000   \n",
       "mean    60.833893    0.431438                581.839465    0.418060   \n",
       "std     11.894809    0.496107                970.287881    0.494067   \n",
       "min     40.000000    0.000000                 23.000000    0.000000   \n",
       "25%     51.000000    0.000000                116.500000    0.000000   \n",
       "50%     60.000000    0.000000                250.000000    0.000000   \n",
       "75%     70.000000    1.000000                582.000000    1.000000   \n",
       "max     95.000000    1.000000               7861.000000    1.000000   \n",
       "\n",
       "       ejection_fraction  high_blood_pressure      platelets  \\\n",
       "count         299.000000           299.000000     299.000000   \n",
       "mean           38.083612             0.351171  263358.029264   \n",
       "std            11.834841             0.478136   97804.236869   \n",
       "min            14.000000             0.000000   25100.000000   \n",
       "25%            30.000000             0.000000  212500.000000   \n",
       "50%            38.000000             0.000000  262000.000000   \n",
       "75%            45.000000             1.000000  303500.000000   \n",
       "max            80.000000             1.000000  850000.000000   \n",
       "\n",
       "       serum_creatinine  serum_sodium         sex    smoking        time  \\\n",
       "count         299.00000    299.000000  299.000000  299.00000  299.000000   \n",
       "mean            1.39388    136.625418    0.648829    0.32107  130.260870   \n",
       "std             1.03451      4.412477    0.478136    0.46767   77.614208   \n",
       "min             0.50000    113.000000    0.000000    0.00000    4.000000   \n",
       "25%             0.90000    134.000000    0.000000    0.00000   73.000000   \n",
       "50%             1.10000    137.000000    1.000000    0.00000  115.000000   \n",
       "75%             1.40000    140.000000    1.000000    1.00000  203.000000   \n",
       "max             9.40000    148.000000    1.000000    1.00000  285.000000   \n",
       "\n",
       "       DEATH_EVENT  \n",
       "count    299.00000  \n",
       "mean       0.32107  \n",
       "std        0.46767  \n",
       "min        0.00000  \n",
       "25%        0.00000  \n",
       "50%        0.00000  \n",
       "75%        1.00000  \n",
       "max        1.00000  "
      ]
     },
     "execution_count": 7,
     "metadata": {},
     "output_type": "execute_result"
    }
   ],
   "source": [
    "df.describe()"
   ]
  },
  {
   "cell_type": "markdown",
   "metadata": {},
   "source": [
    "## AutoML Configuration\n",
    "\n",
    "Explain why you chose the automl settings and cofiguration you used below."
   ]
  },
  {
   "cell_type": "code",
   "execution_count": 8,
   "metadata": {
    "gather": {
     "logged": 1613062470136
    },
    "jupyter": {
     "outputs_hidden": false,
     "source_hidden": false
    },
    "nteract": {
     "transient": {
      "deleting": false
     }
    }
   },
   "outputs": [],
   "source": [
    "# Put your automl settings here\n",
    "automl_settings = {\"experiment_timeout_minutes\": 30,\n",
    "    \"max_concurrent_iterations\": 4,\n",
    "    \"n_cross_validations\": 5,\n",
    "    \"primary_metric\" : 'accuracy'}\n",
    "\n",
    "# Put your automl config here\n",
    "automl_config = AutoMLConfig(compute_target = compute_target,\n",
    "                             task = \"classification\",\n",
    "                             training_data = dataset,\n",
    "                             label_column_name = \"DEATH_EVENT\",\n",
    "                             path = project_folder,\n",
    "                             enable_early_stopping = True,\n",
    "                             enable_onnx_compatible_models = True,\n",
    "                             featurization = 'auto',\n",
    "                             debug_log = \"automl_errors.log\",\n",
    "                             **automl_settings)"
   ]
  },
  {
   "cell_type": "code",
   "execution_count": 9,
   "metadata": {
    "gather": {
     "logged": 1612986475851
    },
    "jupyter": {
     "outputs_hidden": false,
     "source_hidden": false
    },
    "nteract": {
     "transient": {
      "deleting": false
     }
    }
   },
   "outputs": [
    {
     "name": "stdout",
     "output_type": "stream",
     "text": [
      "Running on remote.\n"
     ]
    }
   ],
   "source": [
    "# Submit your experiment\n",
    "remote_run = experiment.submit(automl_config)"
   ]
  },
  {
   "cell_type": "markdown",
   "metadata": {},
   "source": [
    "## Run Details\n",
    "\n",
    "The cell below uses `RunDetails` widget to show the different experiments."
   ]
  },
  {
   "cell_type": "code",
   "execution_count": 10,
   "metadata": {
    "gather": {
     "logged": 1612987778649
    },
    "jupyter": {
     "outputs_hidden": false,
     "source_hidden": false
    },
    "nteract": {
     "transient": {
      "deleting": false
     }
    },
    "scrolled": false
   },
   "outputs": [
    {
     "data": {
      "application/vnd.jupyter.widget-view+json": {
       "model_id": "69f3680370ae41f59aa269069e7a09e2",
       "version_major": 2,
       "version_minor": 0
      },
      "text/plain": [
       "_AutoMLWidget(widget_settings={'childWidgetDisplay': 'popup', 'send_telemetry': False, 'log_level': 'INFO', 's…"
      ]
     },
     "metadata": {},
     "output_type": "display_data"
    },
    {
     "data": {
      "application/aml.mini.widget.v1": "{\"status\": \"Completed\", \"workbench_run_details_uri\": \"https://ml.azure.com/experiments/automl_heart_failure_prediction/runs/AutoML_925f25fb-20b8-408b-a136-ef8483b71d39?wsid=/subscriptions/aa7cf8e8-d23f-4bce-a7b9-1f0b4e0ac8ee/resourcegroups/aml-quickstarts-138760/workspaces/quick-starts-ws-138760\", \"run_id\": \"AutoML_925f25fb-20b8-408b-a136-ef8483b71d39\", \"run_properties\": {\"run_id\": \"AutoML_925f25fb-20b8-408b-a136-ef8483b71d39\", \"created_utc\": \"2021-02-13T06:28:37.41318Z\", \"properties\": {\"num_iterations\": \"1000\", \"training_type\": \"TrainFull\", \"acquisition_function\": \"EI\", \"primary_metric\": \"accuracy\", \"train_split\": \"0\", \"acquisition_parameter\": \"0\", \"num_cross_validation\": \"5\", \"target\": \"capstone-cluster\", \"AMLSettingsJsonString\": \"{\\\"path\\\":null,\\\"name\\\":\\\"automl_heart_failure_prediction\\\",\\\"subscription_id\\\":\\\"aa7cf8e8-d23f-4bce-a7b9-1f0b4e0ac8ee\\\",\\\"resource_group\\\":\\\"aml-quickstarts-138760\\\",\\\"workspace_name\\\":\\\"quick-starts-ws-138760\\\",\\\"region\\\":\\\"southcentralus\\\",\\\"compute_target\\\":\\\"capstone-cluster\\\",\\\"spark_service\\\":null,\\\"azure_service\\\":\\\"remote\\\",\\\"many_models\\\":false,\\\"pipeline_fetch_max_batch_size\\\":1,\\\"iterations\\\":1000,\\\"primary_metric\\\":\\\"accuracy\\\",\\\"task_type\\\":\\\"classification\\\",\\\"data_script\\\":null,\\\"validation_size\\\":0.0,\\\"n_cross_validations\\\":5,\\\"y_min\\\":null,\\\"y_max\\\":null,\\\"num_classes\\\":null,\\\"featurization\\\":\\\"auto\\\",\\\"_ignore_package_version_incompatibilities\\\":false,\\\"is_timeseries\\\":false,\\\"max_cores_per_iteration\\\":1,\\\"max_concurrent_iterations\\\":4,\\\"iteration_timeout_minutes\\\":null,\\\"mem_in_mb\\\":null,\\\"enforce_time_on_windows\\\":false,\\\"experiment_timeout_minutes\\\":30,\\\"experiment_exit_score\\\":null,\\\"whitelist_models\\\":null,\\\"blacklist_algos\\\":[\\\"TensorFlowLinearClassifier\\\",\\\"TensorFlowDNN\\\"],\\\"supported_models\\\":[\\\"SVM\\\",\\\"LinearSVM\\\",\\\"GradientBoosting\\\",\\\"RandomForest\\\",\\\"LightGBM\\\",\\\"ExtremeRandomTrees\\\",\\\"TensorFlowLinearClassifier\\\",\\\"BernoulliNaiveBayes\\\",\\\"XGBoostClassifier\\\",\\\"SGD\\\",\\\"AveragedPerceptronClassifier\\\",\\\"TensorFlowDNN\\\",\\\"MultinomialNaiveBayes\\\",\\\"LogisticRegression\\\",\\\"KNN\\\",\\\"DecisionTree\\\"],\\\"auto_blacklist\\\":true,\\\"blacklist_samples_reached\\\":false,\\\"exclude_nan_labels\\\":true,\\\"verbosity\\\":20,\\\"_debug_log\\\":\\\"azureml_automl.log\\\",\\\"show_warnings\\\":false,\\\"model_explainability\\\":true,\\\"service_url\\\":null,\\\"sdk_url\\\":null,\\\"sdk_packages\\\":null,\\\"enable_onnx_compatible_models\\\":true,\\\"enable_split_onnx_featurizer_estimator_models\\\":false,\\\"vm_type\\\":\\\"STANDARD_D2_V2\\\",\\\"telemetry_verbosity\\\":20,\\\"send_telemetry\\\":true,\\\"enable_dnn\\\":false,\\\"scenario\\\":\\\"SDK-1.13.0\\\",\\\"environment_label\\\":null,\\\"force_text_dnn\\\":false,\\\"enable_feature_sweeping\\\":false,\\\"enable_early_stopping\\\":true,\\\"early_stopping_n_iters\\\":10,\\\"metrics\\\":null,\\\"enable_ensembling\\\":true,\\\"enable_stack_ensembling\\\":false,\\\"ensemble_iterations\\\":15,\\\"enable_tf\\\":false,\\\"enable_subsampling\\\":null,\\\"subsample_seed\\\":null,\\\"enable_nimbusml\\\":false,\\\"enable_streaming\\\":false,\\\"force_streaming\\\":false,\\\"track_child_runs\\\":true,\\\"allowed_private_models\\\":[],\\\"label_column_name\\\":\\\"DEATH_EVENT\\\",\\\"weight_column_name\\\":null,\\\"cv_split_column_names\\\":null,\\\"enable_local_managed\\\":false,\\\"_local_managed_run_id\\\":null,\\\"cost_mode\\\":1,\\\"lag_length\\\":0,\\\"metric_operation\\\":\\\"maximize\\\",\\\"preprocess\\\":true}\", \"DataPrepJsonString\": \"{\\\\\\\"training_data\\\\\\\": \\\\\\\"{\\\\\\\\\\\\\\\"blocks\\\\\\\\\\\\\\\": [{\\\\\\\\\\\\\\\"id\\\\\\\\\\\\\\\": \\\\\\\\\\\\\\\"40ee74ab-4efb-4f5e-a490-8a83d5b6bfff\\\\\\\\\\\\\\\", \\\\\\\\\\\\\\\"type\\\\\\\\\\\\\\\": \\\\\\\\\\\\\\\"Microsoft.DPrep.GetDatastoreFilesBlock\\\\\\\\\\\\\\\", \\\\\\\\\\\\\\\"arguments\\\\\\\\\\\\\\\": {\\\\\\\\\\\\\\\"datastores\\\\\\\\\\\\\\\": [{\\\\\\\\\\\\\\\"datastoreName\\\\\\\\\\\\\\\": \\\\\\\\\\\\\\\"workspaceblobstore\\\\\\\\\\\\\\\", \\\\\\\\\\\\\\\"path\\\\\\\\\\\\\\\": \\\\\\\\\\\\\\\"UI/02-13-2021_041807_UTC/heart_failure_clinical_records_dataset.csv\\\\\\\\\\\\\\\", \\\\\\\\\\\\\\\"resourceGroup\\\\\\\\\\\\\\\": \\\\\\\\\\\\\\\"aml-quickstarts-138760\\\\\\\\\\\\\\\", \\\\\\\\\\\\\\\"subscription\\\\\\\\\\\\\\\": \\\\\\\\\\\\\\\"aa7cf8e8-d23f-4bce-a7b9-1f0b4e0ac8ee\\\\\\\\\\\\\\\", \\\\\\\\\\\\\\\"workspaceName\\\\\\\\\\\\\\\": \\\\\\\\\\\\\\\"quick-starts-ws-138760\\\\\\\\\\\\\\\"}]}, \\\\\\\\\\\\\\\"localData\\\\\\\\\\\\\\\": {}, \\\\\\\\\\\\\\\"isEnabled\\\\\\\\\\\\\\\": true, \\\\\\\\\\\\\\\"name\\\\\\\\\\\\\\\": null, \\\\\\\\\\\\\\\"annotation\\\\\\\\\\\\\\\": null}, {\\\\\\\\\\\\\\\"id\\\\\\\\\\\\\\\": \\\\\\\\\\\\\\\"6a3a9c23-3694-4786-a32b-65d2253dd96d\\\\\\\\\\\\\\\", \\\\\\\\\\\\\\\"type\\\\\\\\\\\\\\\": \\\\\\\\\\\\\\\"Microsoft.DPrep.ParseDelimitedBlock\\\\\\\\\\\\\\\", \\\\\\\\\\\\\\\"arguments\\\\\\\\\\\\\\\": {\\\\\\\\\\\\\\\"columnHeadersMode\\\\\\\\\\\\\\\": 1, \\\\\\\\\\\\\\\"fileEncoding\\\\\\\\\\\\\\\": 0, \\\\\\\\\\\\\\\"handleQuotedLineBreaks\\\\\\\\\\\\\\\": false, \\\\\\\\\\\\\\\"preview\\\\\\\\\\\\\\\": false, \\\\\\\\\\\\\\\"separator\\\\\\\\\\\\\\\": \\\\\\\\\\\\\\\",\\\\\\\\\\\\\\\", \\\\\\\\\\\\\\\"skipRows\\\\\\\\\\\\\\\": 0, \\\\\\\\\\\\\\\"skipRowsMode\\\\\\\\\\\\\\\": 0}, \\\\\\\\\\\\\\\"localData\\\\\\\\\\\\\\\": {}, \\\\\\\\\\\\\\\"isEnabled\\\\\\\\\\\\\\\": true, \\\\\\\\\\\\\\\"name\\\\\\\\\\\\\\\": null, \\\\\\\\\\\\\\\"annotation\\\\\\\\\\\\\\\": null}, {\\\\\\\\\\\\\\\"id\\\\\\\\\\\\\\\": \\\\\\\\\\\\\\\"d895aece-1636-4103-bbe8-4a4ced922796\\\\\\\\\\\\\\\", \\\\\\\\\\\\\\\"type\\\\\\\\\\\\\\\": \\\\\\\\\\\\\\\"Microsoft.DPrep.DropColumnsBlock\\\\\\\\\\\\\\\", \\\\\\\\\\\\\\\"arguments\\\\\\\\\\\\\\\": {\\\\\\\\\\\\\\\"columns\\\\\\\\\\\\\\\": {\\\\\\\\\\\\\\\"type\\\\\\\\\\\\\\\": 0, \\\\\\\\\\\\\\\"details\\\\\\\\\\\\\\\": {\\\\\\\\\\\\\\\"selectedColumns\\\\\\\\\\\\\\\": [\\\\\\\\\\\\\\\"Path\\\\\\\\\\\\\\\"]}}}, \\\\\\\\\\\\\\\"localData\\\\\\\\\\\\\\\": {}, \\\\\\\\\\\\\\\"isEnabled\\\\\\\\\\\\\\\": true, \\\\\\\\\\\\\\\"name\\\\\\\\\\\\\\\": null, \\\\\\\\\\\\\\\"annotation\\\\\\\\\\\\\\\": null}, {\\\\\\\\\\\\\\\"id\\\\\\\\\\\\\\\": \\\\\\\\\\\\\\\"da6e6f8d-249e-4be5-95a5-8077512f0e78\\\\\\\\\\\\\\\", \\\\\\\\\\\\\\\"type\\\\\\\\\\\\\\\": \\\\\\\\\\\\\\\"Microsoft.DPrep.SetColumnTypesBlock\\\\\\\\\\\\\\\", \\\\\\\\\\\\\\\"arguments\\\\\\\\\\\\\\\": {\\\\\\\\\\\\\\\"columnConversion\\\\\\\\\\\\\\\": [{\\\\\\\\\\\\\\\"column\\\\\\\\\\\\\\\": {\\\\\\\\\\\\\\\"type\\\\\\\\\\\\\\\": 2, \\\\\\\\\\\\\\\"details\\\\\\\\\\\\\\\": {\\\\\\\\\\\\\\\"selectedColumn\\\\\\\\\\\\\\\": \\\\\\\\\\\\\\\"Path\\\\\\\\\\\\\\\"}}, \\\\\\\\\\\\\\\"typeProperty\\\\\\\\\\\\\\\": 0}, {\\\\\\\\\\\\\\\"column\\\\\\\\\\\\\\\": {\\\\\\\\\\\\\\\"type\\\\\\\\\\\\\\\": 2, \\\\\\\\\\\\\\\"details\\\\\\\\\\\\\\\": {\\\\\\\\\\\\\\\"selectedColumn\\\\\\\\\\\\\\\": \\\\\\\\\\\\\\\"age\\\\\\\\\\\\\\\"}}, \\\\\\\\\\\\\\\"typeProperty\\\\\\\\\\\\\\\": 3}, {\\\\\\\\\\\\\\\"column\\\\\\\\\\\\\\\": {\\\\\\\\\\\\\\\"type\\\\\\\\\\\\\\\": 2, \\\\\\\\\\\\\\\"details\\\\\\\\\\\\\\\": {\\\\\\\\\\\\\\\"selectedColumn\\\\\\\\\\\\\\\": \\\\\\\\\\\\\\\"anaemia\\\\\\\\\\\\\\\"}}, \\\\\\\\\\\\\\\"typeProperty\\\\\\\\\\\\\\\": 2}, {\\\\\\\\\\\\\\\"column\\\\\\\\\\\\\\\": {\\\\\\\\\\\\\\\"type\\\\\\\\\\\\\\\": 2, \\\\\\\\\\\\\\\"details\\\\\\\\\\\\\\\": {\\\\\\\\\\\\\\\"selectedColumn\\\\\\\\\\\\\\\": \\\\\\\\\\\\\\\"creatinine_phosphokinase\\\\\\\\\\\\\\\"}}, \\\\\\\\\\\\\\\"typeProperty\\\\\\\\\\\\\\\": 2}, {\\\\\\\\\\\\\\\"column\\\\\\\\\\\\\\\": {\\\\\\\\\\\\\\\"type\\\\\\\\\\\\\\\": 2, \\\\\\\\\\\\\\\"details\\\\\\\\\\\\\\\": {\\\\\\\\\\\\\\\"selectedColumn\\\\\\\\\\\\\\\": \\\\\\\\\\\\\\\"diabetes\\\\\\\\\\\\\\\"}}, \\\\\\\\\\\\\\\"typeProperty\\\\\\\\\\\\\\\": 2}, {\\\\\\\\\\\\\\\"column\\\\\\\\\\\\\\\": {\\\\\\\\\\\\\\\"type\\\\\\\\\\\\\\\": 2, \\\\\\\\\\\\\\\"details\\\\\\\\\\\\\\\": {\\\\\\\\\\\\\\\"selectedColumn\\\\\\\\\\\\\\\": \\\\\\\\\\\\\\\"ejection_fraction\\\\\\\\\\\\\\\"}}, \\\\\\\\\\\\\\\"typeProperty\\\\\\\\\\\\\\\": 2}, {\\\\\\\\\\\\\\\"column\\\\\\\\\\\\\\\": {\\\\\\\\\\\\\\\"type\\\\\\\\\\\\\\\": 2, \\\\\\\\\\\\\\\"details\\\\\\\\\\\\\\\": {\\\\\\\\\\\\\\\"selectedColumn\\\\\\\\\\\\\\\": \\\\\\\\\\\\\\\"high_blood_pressure\\\\\\\\\\\\\\\"}}, \\\\\\\\\\\\\\\"typeProperty\\\\\\\\\\\\\\\": 2}, {\\\\\\\\\\\\\\\"column\\\\\\\\\\\\\\\": {\\\\\\\\\\\\\\\"type\\\\\\\\\\\\\\\": 2, \\\\\\\\\\\\\\\"details\\\\\\\\\\\\\\\": {\\\\\\\\\\\\\\\"selectedColumn\\\\\\\\\\\\\\\": \\\\\\\\\\\\\\\"platelets\\\\\\\\\\\\\\\"}}, \\\\\\\\\\\\\\\"typeProperty\\\\\\\\\\\\\\\": 3}, {\\\\\\\\\\\\\\\"column\\\\\\\\\\\\\\\": {\\\\\\\\\\\\\\\"type\\\\\\\\\\\\\\\": 2, \\\\\\\\\\\\\\\"details\\\\\\\\\\\\\\\": {\\\\\\\\\\\\\\\"selectedColumn\\\\\\\\\\\\\\\": \\\\\\\\\\\\\\\"serum_creatinine\\\\\\\\\\\\\\\"}}, \\\\\\\\\\\\\\\"typeProperty\\\\\\\\\\\\\\\": 3}, {\\\\\\\\\\\\\\\"column\\\\\\\\\\\\\\\": {\\\\\\\\\\\\\\\"type\\\\\\\\\\\\\\\": 2, \\\\\\\\\\\\\\\"details\\\\\\\\\\\\\\\": {\\\\\\\\\\\\\\\"selectedColumn\\\\\\\\\\\\\\\": \\\\\\\\\\\\\\\"serum_sodium\\\\\\\\\\\\\\\"}}, \\\\\\\\\\\\\\\"typeProperty\\\\\\\\\\\\\\\": 2}, {\\\\\\\\\\\\\\\"column\\\\\\\\\\\\\\\": {\\\\\\\\\\\\\\\"type\\\\\\\\\\\\\\\": 2, \\\\\\\\\\\\\\\"details\\\\\\\\\\\\\\\": {\\\\\\\\\\\\\\\"selectedColumn\\\\\\\\\\\\\\\": \\\\\\\\\\\\\\\"sex\\\\\\\\\\\\\\\"}}, \\\\\\\\\\\\\\\"typeProperty\\\\\\\\\\\\\\\": 2}, {\\\\\\\\\\\\\\\"column\\\\\\\\\\\\\\\": {\\\\\\\\\\\\\\\"type\\\\\\\\\\\\\\\": 2, \\\\\\\\\\\\\\\"details\\\\\\\\\\\\\\\": {\\\\\\\\\\\\\\\"selectedColumn\\\\\\\\\\\\\\\": \\\\\\\\\\\\\\\"smoking\\\\\\\\\\\\\\\"}}, \\\\\\\\\\\\\\\"typeProperty\\\\\\\\\\\\\\\": 2}, {\\\\\\\\\\\\\\\"column\\\\\\\\\\\\\\\": {\\\\\\\\\\\\\\\"type\\\\\\\\\\\\\\\": 2, \\\\\\\\\\\\\\\"details\\\\\\\\\\\\\\\": {\\\\\\\\\\\\\\\"selectedColumn\\\\\\\\\\\\\\\": \\\\\\\\\\\\\\\"time\\\\\\\\\\\\\\\"}}, \\\\\\\\\\\\\\\"typeProperty\\\\\\\\\\\\\\\": 2}, {\\\\\\\\\\\\\\\"column\\\\\\\\\\\\\\\": {\\\\\\\\\\\\\\\"type\\\\\\\\\\\\\\\": 2, \\\\\\\\\\\\\\\"details\\\\\\\\\\\\\\\": {\\\\\\\\\\\\\\\"selectedColumn\\\\\\\\\\\\\\\": \\\\\\\\\\\\\\\"DEATH_EVENT\\\\\\\\\\\\\\\"}}, \\\\\\\\\\\\\\\"typeProperty\\\\\\\\\\\\\\\": 2}]}, \\\\\\\\\\\\\\\"localData\\\\\\\\\\\\\\\": {}, \\\\\\\\\\\\\\\"isEnabled\\\\\\\\\\\\\\\": true, \\\\\\\\\\\\\\\"name\\\\\\\\\\\\\\\": null, \\\\\\\\\\\\\\\"annotation\\\\\\\\\\\\\\\": null}], \\\\\\\\\\\\\\\"inspectors\\\\\\\\\\\\\\\": [], \\\\\\\\\\\\\\\"meta\\\\\\\\\\\\\\\": {\\\\\\\\\\\\\\\"savedDatasetId\\\\\\\\\\\\\\\": \\\\\\\\\\\\\\\"53a96e41-69a5-40a5-94c7-3c95c28e8884\\\\\\\\\\\\\\\", \\\\\\\\\\\\\\\"datasetType\\\\\\\\\\\\\\\": \\\\\\\\\\\\\\\"tabular\\\\\\\\\\\\\\\", \\\\\\\\\\\\\\\"subscriptionId\\\\\\\\\\\\\\\": \\\\\\\\\\\\\\\"aa7cf8e8-d23f-4bce-a7b9-1f0b4e0ac8ee\\\\\\\\\\\\\\\", \\\\\\\\\\\\\\\"workspaceId\\\\\\\\\\\\\\\": \\\\\\\\\\\\\\\"e8a2dd03-e9d1-4961-8956-eb9893fb28c0\\\\\\\\\\\\\\\", \\\\\\\\\\\\\\\"workspaceLocation\\\\\\\\\\\\\\\": \\\\\\\\\\\\\\\"southcentralus\\\\\\\\\\\\\\\"}}\\\\\\\", \\\\\\\"activities\\\\\\\": 0}\", \"EnableSubsampling\": null, \"runTemplate\": \"AutoML\", \"azureml.runsource\": \"automl\", \"display_task_type\": \"classification\", \"dependencies_versions\": \"{\\\"azureml-widgets\\\": \\\"1.20.0\\\", \\\"azureml-train\\\": \\\"1.20.0\\\", \\\"azureml-train-restclients-hyperdrive\\\": \\\"1.20.0\\\", \\\"azureml-train-core\\\": \\\"1.20.0\\\", \\\"azureml-train-automl\\\": \\\"1.20.0\\\", \\\"azureml-train-automl-runtime\\\": \\\"1.20.0\\\", \\\"azureml-train-automl-client\\\": \\\"1.20.0\\\", \\\"azureml-tensorboard\\\": \\\"1.20.0\\\", \\\"azureml-telemetry\\\": \\\"1.20.0\\\", \\\"azureml-sdk\\\": \\\"1.20.0\\\", \\\"azureml-samples\\\": \\\"0+unknown\\\", \\\"azureml-pipeline\\\": \\\"1.20.0\\\", \\\"azureml-pipeline-steps\\\": \\\"1.20.0\\\", \\\"azureml-pipeline-core\\\": \\\"1.20.0\\\", \\\"azureml-opendatasets\\\": \\\"1.20.0\\\", \\\"azureml-model-management-sdk\\\": \\\"1.0.1b6.post1\\\", \\\"azureml-mlflow\\\": \\\"1.20.0.post1\\\", \\\"azureml-interpret\\\": \\\"1.20.0\\\", \\\"azureml-explain-model\\\": \\\"1.20.0\\\", \\\"azureml-defaults\\\": \\\"1.20.0\\\", \\\"azureml-dataset-runtime\\\": \\\"1.20.0\\\", \\\"azureml-dataprep\\\": \\\"2.7.3\\\", \\\"azureml-dataprep-rslex\\\": \\\"1.5.0\\\", \\\"azureml-dataprep-native\\\": \\\"27.0.0\\\", \\\"azureml-datadrift\\\": \\\"1.20.0\\\", \\\"azureml-core\\\": \\\"1.20.0\\\", \\\"azureml-contrib-services\\\": \\\"1.20.0\\\", \\\"azureml-contrib-server\\\": \\\"1.20.0\\\", \\\"azureml-contrib-reinforcementlearning\\\": \\\"1.20.0\\\", \\\"azureml-contrib-pipeline-steps\\\": \\\"1.20.0\\\", \\\"azureml-contrib-notebook\\\": \\\"1.20.0\\\", \\\"azureml-contrib-interpret\\\": \\\"1.20.0\\\", \\\"azureml-contrib-gbdt\\\": \\\"1.20.0\\\", \\\"azureml-contrib-fairness\\\": \\\"1.20.0\\\", \\\"azureml-contrib-dataset\\\": \\\"1.20.0\\\", \\\"azureml-cli-common\\\": \\\"1.20.0\\\", \\\"azureml-automl-runtime\\\": \\\"1.20.0\\\", \\\"azureml-automl-core\\\": \\\"1.20.0\\\", \\\"azureml-accel-models\\\": \\\"1.20.0\\\"}\", \"_aml_system_scenario_identification\": \"Remote.Parent\", \"ClientType\": \"SDK\", \"environment_cpu_name\": \"AzureML-AutoML\", \"environment_cpu_label\": \"prod\", \"environment_gpu_name\": \"AzureML-AutoML-GPU\", \"environment_gpu_label\": \"prod\", \"root_attribution\": \"automl\", \"attribution\": \"AutoML\", \"Orchestrator\": \"AutoML\", \"CancelUri\": \"https://southcentralus.experiments.azureml.net/jasmine/v1.0/subscriptions/aa7cf8e8-d23f-4bce-a7b9-1f0b4e0ac8ee/resourceGroups/aml-quickstarts-138760/providers/Microsoft.MachineLearningServices/workspaces/quick-starts-ws-138760/experimentids/a72b5d05-8c6e-4f1a-a13b-471b8a34b241/cancel/AutoML_925f25fb-20b8-408b-a136-ef8483b71d39\", \"ClientSdkVersion\": \"1.21.0\", \"snapshotId\": \"00000000-0000-0000-0000-000000000000\", \"SetupRunId\": \"AutoML_925f25fb-20b8-408b-a136-ef8483b71d39_setup\", \"SetupRunContainerId\": \"dcid.AutoML_925f25fb-20b8-408b-a136-ef8483b71d39_setup\", \"FeaturizationRunJsonPath\": \"featurizer_container.json\", \"FeaturizationRunId\": \"AutoML_925f25fb-20b8-408b-a136-ef8483b71d39_featurize\", \"ProblemInfoJsonString\": \"{\\\"dataset_num_categorical\\\": 0, \\\"is_sparse\\\": false, \\\"subsampling\\\": false, \\\"dataset_classes\\\": 2, \\\"dataset_features\\\": 12, \\\"dataset_samples\\\": 299, \\\"single_frequency_class_detected\\\": false}\", \"ModelExplainRunId\": \"AutoML_925f25fb-20b8-408b-a136-ef8483b71d39_ModelExplain\"}, \"tags\": {\"model_explain_run\": \"best_run\", \"_aml_system_azureml.automlComponent\": \"AutoML\", \"pipeline_id\": \"\", \"score\": \"\", \"predicted_cost\": \"\", \"fit_time\": \"\", \"training_percent\": \"\", \"iteration\": \"\", \"run_preprocessor\": \"\", \"run_algorithm\": \"\", \"dynamic_whitelisting_iterations\": \"<25>;<30>;<35>;\", \"automl_best_child_run_id\": \"AutoML_925f25fb-20b8-408b-a136-ef8483b71d39_36\", \"model_explain_best_run_child_id\": \"AutoML_925f25fb-20b8-408b-a136-ef8483b71d39_36\"}, \"end_time_utc\": \"2021-02-13T06:53:10.824599Z\", \"status\": \"Completed\", \"log_files\": {}, \"log_groups\": [], \"run_duration\": \"0:24:33\"}, \"child_runs\": [{\"run_id\": \"AutoML_925f25fb-20b8-408b-a136-ef8483b71d39_0\", \"run_number\": 48, \"metric\": null, \"status\": \"Completed\", \"run_type\": \"azureml.scriptrun\", \"training_percent\": \"100\", \"start_time\": \"2021-02-13T06:40:22.832486Z\", \"end_time\": \"2021-02-13T06:43:49.652023Z\", \"created_time\": \"2021-02-13T06:37:42.332043Z\", \"created_time_dt\": \"2021-02-13T06:37:42.332043Z\", \"duration\": \"0:06:07\", \"iteration\": \"0\", \"goal\": \"accuracy_max\", \"run_name\": \"MaxAbsScaler, LightGBM\", \"run_properties\": \"copy=True\", \"primary_metric\": 0.8059887, \"best_metric\": 0.8059887}, {\"run_id\": \"AutoML_925f25fb-20b8-408b-a136-ef8483b71d39_3\", \"run_number\": 49, \"metric\": null, \"status\": \"Completed\", \"run_type\": \"azureml.scriptrun\", \"training_percent\": \"100\", \"start_time\": \"2021-02-13T06:38:56.440729Z\", \"end_time\": \"2021-02-13T06:39:53.919566Z\", \"created_time\": \"2021-02-13T06:37:42.43844Z\", \"created_time_dt\": \"2021-02-13T06:37:42.43844Z\", \"duration\": \"0:02:11\", \"iteration\": \"3\", \"goal\": \"accuracy_max\", \"run_name\": \"MinMaxScaler, RandomForest\", \"run_properties\": \"copy=True, feature_range=(0, 1\", \"primary_metric\": 0.84587571, \"best_metric\": 0.84587571}, {\"run_id\": \"AutoML_925f25fb-20b8-408b-a136-ef8483b71d39_1\", \"run_number\": 50, \"metric\": null, \"status\": \"Completed\", \"run_type\": \"azureml.scriptrun\", \"training_percent\": \"100\", \"start_time\": \"2021-02-13T06:37:53.494894Z\", \"end_time\": \"2021-02-13T06:38:53.365971Z\", \"created_time\": \"2021-02-13T06:37:42.492207Z\", \"created_time_dt\": \"2021-02-13T06:37:42.492207Z\", \"duration\": \"0:01:10\", \"iteration\": \"1\", \"goal\": \"accuracy_max\", \"run_name\": \"MaxAbsScaler, XGBoostClassifier\", \"run_properties\": \"copy=True\", \"primary_metric\": 0.8259322, \"best_metric\": 0.8259322}, {\"run_id\": \"AutoML_925f25fb-20b8-408b-a136-ef8483b71d39_2\", \"run_number\": 51, \"metric\": null, \"status\": \"Completed\", \"run_type\": \"azureml.scriptrun\", \"training_percent\": \"100\", \"start_time\": \"2021-02-13T06:39:56.967489Z\", \"end_time\": \"2021-02-13T06:41:00.63163Z\", \"created_time\": \"2021-02-13T06:37:42.503566Z\", \"created_time_dt\": \"2021-02-13T06:37:42.503566Z\", \"duration\": \"0:03:18\", \"iteration\": \"2\", \"goal\": \"accuracy_max\", \"run_name\": \"MinMaxScaler, RandomForest\", \"run_properties\": \"copy=True, feature_range=(0, 1\", \"primary_metric\": 0.80920904, \"best_metric\": 0.8259322}, {\"run_id\": \"AutoML_925f25fb-20b8-408b-a136-ef8483b71d39_4\", \"run_number\": 52, \"metric\": null, \"status\": \"Completed\", \"run_type\": \"azureml.scriptrun\", \"training_percent\": \"100\", \"start_time\": \"2021-02-13T06:40:22.794179Z\", \"end_time\": \"2021-02-13T06:43:46.566549Z\", \"created_time\": \"2021-02-13T06:38:55.5598Z\", \"created_time_dt\": \"2021-02-13T06:38:55.5598Z\", \"duration\": \"0:04:51\", \"iteration\": \"4\", \"goal\": \"accuracy_max\", \"run_name\": \"MinMaxScaler, RandomForest\", \"run_properties\": \"copy=True, feature_range=(0, 1\", \"primary_metric\": 0.8459322, \"best_metric\": 0.8459322}, {\"run_id\": \"AutoML_925f25fb-20b8-408b-a136-ef8483b71d39_5\", \"run_number\": 53, \"metric\": null, \"status\": \"Completed\", \"run_type\": \"azureml.scriptrun\", \"training_percent\": \"100\", \"start_time\": \"2021-02-13T06:40:23.925891Z\", \"end_time\": \"2021-02-13T06:44:02.877021Z\", \"created_time\": \"2021-02-13T06:39:57.339894Z\", \"created_time_dt\": \"2021-02-13T06:39:57.339894Z\", \"duration\": \"0:04:05\", \"iteration\": \"5\", \"goal\": \"accuracy_max\", \"run_name\": \"StandardScalerWrapper, XGBoostClassifier\", \"run_properties\": \"<azureml.automl.runtime.shared.model_wrappers.StandardScalerWrapper object at 0x7fc3b3390630\", \"primary_metric\": 0.81915254, \"best_metric\": 0.8459322}, {\"run_id\": \"AutoML_925f25fb-20b8-408b-a136-ef8483b71d39_6\", \"run_number\": 54, \"metric\": null, \"status\": \"Completed\", \"run_type\": \"azureml.scriptrun\", \"training_percent\": \"100\", \"start_time\": \"2021-02-13T06:41:14.233378Z\", \"end_time\": \"2021-02-13T06:42:16.729629Z\", \"created_time\": \"2021-02-13T06:41:03.671397Z\", \"created_time_dt\": \"2021-02-13T06:41:03.671397Z\", \"duration\": \"0:01:13\", \"iteration\": \"6\", \"goal\": \"accuracy_max\", \"run_name\": \"MinMaxScaler, SVM\", \"run_properties\": \"copy=True, feature_range=(0, 1\", \"primary_metric\": 0.71242938, \"best_metric\": 0.8459322}, {\"run_id\": \"AutoML_925f25fb-20b8-408b-a136-ef8483b71d39_7\", \"run_number\": 55, \"metric\": null, \"status\": \"Completed\", \"run_type\": \"azureml.scriptrun\", \"training_percent\": \"100\", \"start_time\": \"2021-02-13T06:42:36.669408Z\", \"end_time\": \"2021-02-13T06:43:26.330442Z\", \"created_time\": \"2021-02-13T06:42:20.507135Z\", \"created_time_dt\": \"2021-02-13T06:42:20.507135Z\", \"duration\": \"0:01:05\", \"iteration\": \"7\", \"goal\": \"accuracy_max\", \"run_name\": \"MaxAbsScaler, GradientBoosting\", \"run_properties\": \"copy=True\", \"primary_metric\": 0.8260452, \"best_metric\": 0.8459322}, {\"run_id\": \"AutoML_925f25fb-20b8-408b-a136-ef8483b71d39_8\", \"run_number\": 56, \"metric\": null, \"status\": \"Completed\", \"run_type\": \"azureml.scriptrun\", \"training_percent\": \"100\", \"start_time\": \"2021-02-13T06:43:43.430135Z\", \"end_time\": \"2021-02-13T06:44:32.908915Z\", \"created_time\": \"2021-02-13T06:43:29.752001Z\", \"created_time_dt\": \"2021-02-13T06:43:29.752001Z\", \"duration\": \"0:01:03\", \"iteration\": \"8\", \"goal\": \"accuracy_max\", \"run_name\": \"SparseNormalizer, LightGBM\", \"run_properties\": \"<azureml.automl.runtime.shared.model_wrappers.SparseNormalizer object at 0x7f39f5ddf2e8\", \"primary_metric\": 0.7360452, \"best_metric\": 0.8459322}, {\"run_id\": \"AutoML_925f25fb-20b8-408b-a136-ef8483b71d39_9\", \"run_number\": 57, \"metric\": null, \"status\": \"Completed\", \"run_type\": \"azureml.scriptrun\", \"training_percent\": \"100\", \"start_time\": \"2021-02-13T06:43:59.669167Z\", \"end_time\": \"2021-02-13T06:44:51.189377Z\", \"created_time\": \"2021-02-13T06:43:48.227683Z\", \"created_time_dt\": \"2021-02-13T06:43:48.227683Z\", \"duration\": \"0:01:02\", \"iteration\": \"9\", \"goal\": \"accuracy_max\", \"run_name\": \"StandardScalerWrapper, RandomForest\", \"run_properties\": \"<azureml.automl.runtime.shared.model_wrappers.StandardScalerWrapper object at 0x7fdf58e2ccf8\", \"primary_metric\": 0.84271186, \"best_metric\": 0.8459322}, {\"run_id\": \"AutoML_925f25fb-20b8-408b-a136-ef8483b71d39_10\", \"run_number\": 58, \"metric\": null, \"status\": \"Completed\", \"run_type\": \"azureml.scriptrun\", \"training_percent\": \"100\", \"start_time\": \"2021-02-13T06:44:01.694476Z\", \"end_time\": \"2021-02-13T06:44:55.439826Z\", \"created_time\": \"2021-02-13T06:43:51.356626Z\", \"created_time_dt\": \"2021-02-13T06:43:51.356626Z\", \"duration\": \"0:01:04\", \"iteration\": \"10\", \"goal\": \"accuracy_max\", \"run_name\": \"SparseNormalizer, XGBoostClassifier\", \"run_properties\": \"<azureml.automl.runtime.shared.model_wrappers.SparseNormalizer object at 0x7f4d3ffa56a0\", \"primary_metric\": 0.84960452, \"best_metric\": 0.84960452}, {\"run_id\": \"AutoML_925f25fb-20b8-408b-a136-ef8483b71d39_11\", \"run_number\": 59, \"metric\": null, \"status\": \"Completed\", \"run_type\": \"azureml.scriptrun\", \"training_percent\": \"100\", \"start_time\": \"2021-02-13T06:44:17.63252Z\", \"end_time\": \"2021-02-13T06:45:09.501804Z\", \"created_time\": \"2021-02-13T06:44:04.714189Z\", \"created_time_dt\": \"2021-02-13T06:44:04.714189Z\", \"duration\": \"0:01:04\", \"iteration\": \"11\", \"goal\": \"accuracy_max\", \"run_name\": \"StandardScalerWrapper, XGBoostClassifier\", \"run_properties\": \"<azureml.automl.runtime.shared.model_wrappers.StandardScalerWrapper object at 0x7f3aa87d2d30\", \"primary_metric\": 0.82265537, \"best_metric\": 0.84960452}, {\"run_id\": \"AutoML_925f25fb-20b8-408b-a136-ef8483b71d39_12\", \"run_number\": 60, \"metric\": null, \"status\": \"Completed\", \"run_type\": \"azureml.scriptrun\", \"training_percent\": \"100\", \"start_time\": \"2021-02-13T06:44:47.406744Z\", \"end_time\": \"2021-02-13T06:45:37.146254Z\", \"created_time\": \"2021-02-13T06:44:35.384581Z\", \"created_time_dt\": \"2021-02-13T06:44:35.384581Z\", \"duration\": \"0:01:01\", \"iteration\": \"12\", \"goal\": \"accuracy_max\", \"run_name\": \"RobustScaler, ExtremeRandomTrees\", \"run_properties\": \"copy=True, quantile_range=[25, 75], with_centering=True,\\n             with_scaling=False\", \"primary_metric\": 0.85282486, \"best_metric\": 0.85282486}, {\"run_id\": \"AutoML_925f25fb-20b8-408b-a136-ef8483b71d39_13\", \"run_number\": 61, \"metric\": null, \"status\": \"Completed\", \"run_type\": \"azureml.scriptrun\", \"training_percent\": \"100\", \"start_time\": \"2021-02-13T06:45:05.213139Z\", \"end_time\": \"2021-02-13T06:46:00.788663Z\", \"created_time\": \"2021-02-13T06:44:52.816893Z\", \"created_time_dt\": \"2021-02-13T06:44:52.816893Z\", \"duration\": \"0:01:07\", \"iteration\": \"13\", \"goal\": \"accuracy_max\", \"run_name\": \"RobustScaler, ExtremeRandomTrees\", \"run_properties\": \"copy=True, quantile_range=[25, 75], with_centering=True,\\n             with_scaling=False\", \"primary_metric\": 0.85954802, \"best_metric\": 0.85954802}, {\"run_id\": \"AutoML_925f25fb-20b8-408b-a136-ef8483b71d39_14\", \"run_number\": 62, \"metric\": null, \"status\": \"Completed\", \"run_type\": \"azureml.scriptrun\", \"training_percent\": \"100\", \"start_time\": \"2021-02-13T06:45:09.838634Z\", \"end_time\": \"2021-02-13T06:46:13.461094Z\", \"created_time\": \"2021-02-13T06:44:58.257403Z\", \"created_time_dt\": \"2021-02-13T06:44:58.257403Z\", \"duration\": \"0:01:15\", \"iteration\": \"14\", \"goal\": \"accuracy_max\", \"run_name\": \"StandardScalerWrapper, LightGBM\", \"run_properties\": \"<azureml.automl.runtime.shared.model_wrappers.StandardScalerWrapper object at 0x7f38c4741240\", \"primary_metric\": 0.80254237, \"best_metric\": 0.85954802}, {\"run_id\": \"AutoML_925f25fb-20b8-408b-a136-ef8483b71d39_15\", \"run_number\": 63, \"metric\": null, \"status\": \"Completed\", \"run_type\": \"azureml.scriptrun\", \"training_percent\": \"100\", \"start_time\": \"2021-02-13T06:45:24.039074Z\", \"end_time\": \"2021-02-13T06:46:14.600585Z\", \"created_time\": \"2021-02-13T06:45:12.548389Z\", \"created_time_dt\": \"2021-02-13T06:45:12.548389Z\", \"duration\": \"0:01:02\", \"iteration\": \"15\", \"goal\": \"accuracy_max\", \"run_name\": \"RobustScaler, RandomForest\", \"run_properties\": \"copy=True, quantile_range=[10, 90], with_centering=True,\\n             with_scaling=True\", \"primary_metric\": 0.83276836, \"best_metric\": 0.85954802}, {\"run_id\": \"AutoML_925f25fb-20b8-408b-a136-ef8483b71d39_16\", \"run_number\": 64, \"metric\": null, \"status\": \"Completed\", \"run_type\": \"azureml.scriptrun\", \"training_percent\": \"100\", \"start_time\": \"2021-02-13T06:45:49.201781Z\", \"end_time\": \"2021-02-13T06:46:42.658861Z\", \"created_time\": \"2021-02-13T06:45:38.90269Z\", \"created_time_dt\": \"2021-02-13T06:45:38.90269Z\", \"duration\": \"0:01:03\", \"iteration\": \"16\", \"goal\": \"accuracy_max\", \"run_name\": \"MinMaxScaler, LightGBM\", \"run_properties\": \"copy=True, feature_range=(0, 1\", \"primary_metric\": 0.80909605, \"best_metric\": 0.85954802}, {\"run_id\": \"AutoML_925f25fb-20b8-408b-a136-ef8483b71d39_17\", \"run_number\": 65, \"metric\": null, \"status\": \"Completed\", \"run_type\": \"azureml.scriptrun\", \"training_percent\": \"100\", \"start_time\": \"2021-02-13T06:46:15.357754Z\", \"end_time\": \"2021-02-13T06:47:07.51753Z\", \"created_time\": \"2021-02-13T06:46:02.564476Z\", \"created_time_dt\": \"2021-02-13T06:46:02.564476Z\", \"duration\": \"0:01:04\", \"iteration\": \"17\", \"goal\": \"accuracy_max\", \"run_name\": \"RobustScaler, LightGBM\", \"run_properties\": \"copy=True, quantile_range=[10, 90], with_centering=False,\\n             with_scaling=False\", \"primary_metric\": 0.78282486, \"best_metric\": 0.85954802}, {\"run_id\": \"AutoML_925f25fb-20b8-408b-a136-ef8483b71d39_18\", \"run_number\": 66, \"metric\": null, \"status\": \"Completed\", \"run_type\": \"azureml.scriptrun\", \"training_percent\": \"100\", \"start_time\": \"2021-02-13T06:46:28.571709Z\", \"end_time\": \"2021-02-13T06:47:30.653818Z\", \"created_time\": \"2021-02-13T06:46:15.184408Z\", \"created_time_dt\": \"2021-02-13T06:46:15.184408Z\", \"duration\": \"0:01:15\", \"iteration\": \"18\", \"goal\": \"accuracy_max\", \"run_name\": \"StandardScalerWrapper, LightGBM\", \"run_properties\": \"<azureml.automl.runtime.shared.model_wrappers.StandardScalerWrapper object at 0x7f54d45567f0\", \"primary_metric\": 0.83265537, \"best_metric\": 0.85954802}, {\"run_id\": \"AutoML_925f25fb-20b8-408b-a136-ef8483b71d39_19\", \"run_number\": 67, \"metric\": null, \"status\": \"Completed\", \"run_type\": \"azureml.scriptrun\", \"training_percent\": \"100\", \"start_time\": \"2021-02-13T06:46:31.005513Z\", \"end_time\": \"2021-02-13T06:47:22.911545Z\", \"created_time\": \"2021-02-13T06:46:18.626351Z\", \"created_time_dt\": \"2021-02-13T06:46:18.626351Z\", \"duration\": \"0:01:04\", \"iteration\": \"19\", \"goal\": \"accuracy_max\", \"run_name\": \"StandardScalerWrapper, ExtremeRandomTrees\", \"run_properties\": \"<azureml.automl.runtime.shared.model_wrappers.StandardScalerWrapper object at 0x7fa57f471208\", \"primary_metric\": 0.68248588, \"best_metric\": 0.85954802}, {\"run_id\": \"AutoML_925f25fb-20b8-408b-a136-ef8483b71d39_20\", \"run_number\": 68, \"metric\": null, \"status\": \"Completed\", \"run_type\": \"azureml.scriptrun\", \"training_percent\": \"100\", \"start_time\": \"2021-02-13T06:46:55.463442Z\", \"end_time\": \"2021-02-13T06:47:49.349595Z\", \"created_time\": \"2021-02-13T06:46:44.244578Z\", \"created_time_dt\": \"2021-02-13T06:46:44.244578Z\", \"duration\": \"0:01:05\", \"iteration\": \"20\", \"goal\": \"accuracy_max\", \"run_name\": \"MinMaxScaler, RandomForest\", \"run_properties\": \"copy=True, feature_range=(0, 1\", \"primary_metric\": 0.82932203, \"best_metric\": 0.85954802}, {\"run_id\": \"AutoML_925f25fb-20b8-408b-a136-ef8483b71d39_21\", \"run_number\": 69, \"metric\": null, \"status\": \"Completed\", \"run_type\": \"azureml.scriptrun\", \"training_percent\": \"100\", \"start_time\": \"2021-02-13T06:47:21.667874Z\", \"end_time\": \"2021-02-13T06:48:11.366786Z\", \"created_time\": \"2021-02-13T06:47:09.267785Z\", \"created_time_dt\": \"2021-02-13T06:47:09.267785Z\", \"duration\": \"0:01:02\", \"iteration\": \"21\", \"goal\": \"accuracy_max\", \"run_name\": \"MaxAbsScaler, ExtremeRandomTrees\", \"run_properties\": \"copy=True\", \"primary_metric\": 0.84276836, \"best_metric\": 0.85954802}, {\"run_id\": \"AutoML_925f25fb-20b8-408b-a136-ef8483b71d39_22\", \"run_number\": 70, \"metric\": null, \"status\": \"Completed\", \"run_type\": \"azureml.scriptrun\", \"training_percent\": \"100\", \"start_time\": \"2021-02-13T06:47:37.813144Z\", \"end_time\": \"2021-02-13T06:48:31.301743Z\", \"created_time\": \"2021-02-13T06:47:25.20525Z\", \"created_time_dt\": \"2021-02-13T06:47:25.20525Z\", \"duration\": \"0:01:06\", \"iteration\": \"22\", \"goal\": \"accuracy_max\", \"run_name\": \"StandardScalerWrapper, LightGBM\", \"run_properties\": \"<azureml.automl.runtime.shared.model_wrappers.StandardScalerWrapper object at 0x7f375f5db978\", \"primary_metric\": 0.83265537, \"best_metric\": 0.85954802}, {\"run_id\": \"AutoML_925f25fb-20b8-408b-a136-ef8483b71d39_23\", \"run_number\": 71, \"metric\": null, \"status\": \"Completed\", \"run_type\": \"azureml.scriptrun\", \"training_percent\": \"100\", \"start_time\": \"2021-02-13T06:47:43.470448Z\", \"end_time\": \"2021-02-13T06:48:36.836944Z\", \"created_time\": \"2021-02-13T06:47:32.459887Z\", \"created_time_dt\": \"2021-02-13T06:47:32.459887Z\", \"duration\": \"0:01:04\", \"iteration\": \"23\", \"goal\": \"accuracy_max\", \"run_name\": \"MaxAbsScaler, LightGBM\", \"run_properties\": \"copy=True\", \"primary_metric\": 0.82937853, \"best_metric\": 0.85954802}, {\"run_id\": \"AutoML_925f25fb-20b8-408b-a136-ef8483b71d39_24\", \"run_number\": 72, \"metric\": null, \"status\": \"Completed\", \"run_type\": \"azureml.scriptrun\", \"training_percent\": \"100\", \"start_time\": \"2021-02-13T06:48:02.454196Z\", \"end_time\": \"2021-02-13T06:48:52.90932Z\", \"created_time\": \"2021-02-13T06:47:51.157879Z\", \"created_time_dt\": \"2021-02-13T06:47:51.157879Z\", \"duration\": \"0:01:01\", \"iteration\": \"24\", \"goal\": \"accuracy_max\", \"run_name\": \"StandardScalerWrapper, RandomForest\", \"run_properties\": \"<azureml.automl.runtime.shared.model_wrappers.StandardScalerWrapper object at 0x7f52e1b617f0\", \"primary_metric\": 0.81242938, \"best_metric\": 0.85954802}, {\"run_id\": \"AutoML_925f25fb-20b8-408b-a136-ef8483b71d39_25\", \"run_number\": 73, \"metric\": null, \"status\": \"Completed\", \"run_type\": \"azureml.scriptrun\", \"training_percent\": \"100\", \"start_time\": \"2021-02-13T06:48:27.965658Z\", \"end_time\": \"2021-02-13T06:49:29.051514Z\", \"created_time\": \"2021-02-13T06:48:14.046689Z\", \"created_time_dt\": \"2021-02-13T06:48:14.046689Z\", \"duration\": \"0:01:15\", \"iteration\": \"25\", \"goal\": \"accuracy_max\", \"run_name\": \"SparseNormalizer, ExtremeRandomTrees\", \"run_properties\": \"<azureml.automl.runtime.shared.model_wrappers.SparseNormalizer object at 0x7fb712da42b0\", \"primary_metric\": 0.53186441, \"best_metric\": 0.85954802}, {\"run_id\": \"AutoML_925f25fb-20b8-408b-a136-ef8483b71d39_26\", \"run_number\": 74, \"metric\": null, \"status\": \"Completed\", \"run_type\": \"azureml.scriptrun\", \"training_percent\": \"100\", \"start_time\": \"2021-02-13T06:48:43.809851Z\", \"end_time\": \"2021-02-13T06:49:37.172943Z\", \"created_time\": \"2021-02-13T06:48:32.970102Z\", \"created_time_dt\": \"2021-02-13T06:48:32.970102Z\", \"duration\": \"0:01:04\", \"iteration\": \"26\", \"goal\": \"accuracy_max\", \"run_name\": \"StandardScalerWrapper, XGBoostClassifier\", \"run_properties\": \"<azureml.automl.runtime.shared.model_wrappers.StandardScalerWrapper object at 0x7fdf16782828\", \"primary_metric\": 0.81271186, \"best_metric\": 0.85954802}, {\"run_id\": \"AutoML_925f25fb-20b8-408b-a136-ef8483b71d39_27\", \"run_number\": 75, \"metric\": null, \"status\": \"Completed\", \"run_type\": \"azureml.scriptrun\", \"training_percent\": \"100\", \"start_time\": \"2021-02-13T06:48:50.233393Z\", \"end_time\": \"2021-02-13T06:49:45.37888Z\", \"created_time\": \"2021-02-13T06:48:38.56225Z\", \"created_time_dt\": \"2021-02-13T06:48:38.56225Z\", \"duration\": \"0:01:06\", \"iteration\": \"27\", \"goal\": \"accuracy_max\", \"run_name\": \"MaxAbsScaler, RandomForest\", \"run_properties\": \"copy=True\", \"primary_metric\": 0.80242938, \"best_metric\": 0.85954802}, {\"run_id\": \"AutoML_925f25fb-20b8-408b-a136-ef8483b71d39_28\", \"run_number\": 76, \"metric\": null, \"status\": \"Completed\", \"run_type\": \"azureml.scriptrun\", \"training_percent\": \"100\", \"start_time\": \"2021-02-13T06:49:06.971016Z\", \"end_time\": \"2021-02-13T06:50:02.736419Z\", \"created_time\": \"2021-02-13T06:48:54.618112Z\", \"created_time_dt\": \"2021-02-13T06:48:54.618112Z\", \"duration\": \"0:01:08\", \"iteration\": \"28\", \"goal\": \"accuracy_max\", \"run_name\": \"StandardScalerWrapper, LightGBM\", \"run_properties\": \"<azureml.automl.runtime.shared.model_wrappers.StandardScalerWrapper object at 0x7f03b5a4e198\", \"primary_metric\": 0.83610169, \"best_metric\": 0.85954802}, {\"run_id\": \"AutoML_925f25fb-20b8-408b-a136-ef8483b71d39_29\", \"run_number\": 77, \"metric\": null, \"status\": \"Completed\", \"run_type\": \"azureml.scriptrun\", \"training_percent\": \"100\", \"start_time\": \"2021-02-13T06:49:43.080166Z\", \"end_time\": \"2021-02-13T06:50:35.112777Z\", \"created_time\": \"2021-02-13T06:49:30.846674Z\", \"created_time_dt\": \"2021-02-13T06:49:30.846674Z\", \"duration\": \"0:01:04\", \"iteration\": \"29\", \"goal\": \"accuracy_max\", \"run_name\": \"StandardScalerWrapper, ExtremeRandomTrees\", \"run_properties\": \"<azureml.automl.runtime.shared.model_wrappers.StandardScalerWrapper object at 0x7f80a57f16d8\", \"primary_metric\": 0.85282486, \"best_metric\": 0.85954802}, {\"run_id\": \"AutoML_925f25fb-20b8-408b-a136-ef8483b71d39_30\", \"run_number\": 78, \"metric\": null, \"status\": \"Completed\", \"run_type\": \"azureml.scriptrun\", \"training_percent\": \"100\", \"start_time\": \"2021-02-13T06:49:52.854563Z\", \"end_time\": \"2021-02-13T06:50:39.143537Z\", \"created_time\": \"2021-02-13T06:49:39.914825Z\", \"created_time_dt\": \"2021-02-13T06:49:39.914825Z\", \"duration\": \"0:00:59\", \"iteration\": \"30\", \"goal\": \"accuracy_max\", \"run_name\": \"MaxAbsScaler, ExtremeRandomTrees\", \"run_properties\": \"copy=True\", \"primary_metric\": 0.67909605, \"best_metric\": 0.85954802}, {\"run_id\": \"AutoML_925f25fb-20b8-408b-a136-ef8483b71d39_31\", \"run_number\": 79, \"metric\": null, \"status\": \"Completed\", \"run_type\": \"azureml.scriptrun\", \"training_percent\": \"100\", \"start_time\": \"2021-02-13T06:49:57.861222Z\", \"end_time\": \"2021-02-13T06:50:46.226279Z\", \"created_time\": \"2021-02-13T06:49:47.130172Z\", \"created_time_dt\": \"2021-02-13T06:49:47.130172Z\", \"duration\": \"0:00:59\", \"iteration\": \"31\", \"goal\": \"accuracy_max\", \"run_name\": \"StandardScalerWrapper, XGBoostClassifier\", \"run_properties\": \"<azureml.automl.runtime.shared.model_wrappers.StandardScalerWrapper object at 0x7f45be724c88\", \"primary_metric\": 0.83937853, \"best_metric\": 0.85954802}, {\"run_id\": \"AutoML_925f25fb-20b8-408b-a136-ef8483b71d39_32\", \"run_number\": 80, \"metric\": null, \"status\": \"Completed\", \"run_type\": \"azureml.scriptrun\", \"training_percent\": \"100\", \"start_time\": \"2021-02-13T06:50:15.302041Z\", \"end_time\": \"2021-02-13T06:51:06.640469Z\", \"created_time\": \"2021-02-13T06:50:04.807977Z\", \"created_time_dt\": \"2021-02-13T06:50:04.807977Z\", \"duration\": \"0:01:01\", \"iteration\": \"32\", \"goal\": \"accuracy_max\", \"run_name\": \"MaxAbsScaler, LightGBM\", \"run_properties\": \"copy=True\", \"primary_metric\": 0.8359887, \"best_metric\": 0.85954802}, {\"run_id\": \"AutoML_925f25fb-20b8-408b-a136-ef8483b71d39_33\", \"run_number\": 81, \"metric\": null, \"status\": \"Canceled\", \"run_type\": \"azureml.scriptrun\", \"training_percent\": \"100\", \"start_time\": \"2021-02-13T06:50:47.992096Z\", \"end_time\": \"2021-02-13T06:51:14.196792Z\", \"created_time\": \"2021-02-13T06:50:37.498213Z\", \"created_time_dt\": \"2021-02-13T06:50:37.498213Z\", \"duration\": \"0:00:36\", \"iteration\": \"33\", \"goal\": null, \"run_name\": \"MaxAbsScaler, LightGBM\", \"run_properties\": null}, {\"run_id\": \"AutoML_925f25fb-20b8-408b-a136-ef8483b71d39_34\", \"run_number\": 82, \"metric\": null, \"status\": \"Canceled\", \"run_type\": \"azureml.scriptrun\", \"training_percent\": \"100\", \"start_time\": \"2021-02-13T06:50:54.746308Z\", \"end_time\": \"2021-02-13T06:51:14.664866Z\", \"created_time\": \"2021-02-13T06:50:41.732512Z\", \"created_time_dt\": \"2021-02-13T06:50:41.732512Z\", \"duration\": \"0:00:32\", \"iteration\": \"34\", \"goal\": null, \"run_name\": \"Canceled\", \"run_properties\": null}, {\"run_id\": \"AutoML_925f25fb-20b8-408b-a136-ef8483b71d39_35\", \"run_number\": 83, \"metric\": null, \"status\": \"Canceled\", \"run_type\": \"azureml.scriptrun\", \"training_percent\": \"100\", \"start_time\": \"2021-02-13T06:51:02.656556Z\", \"end_time\": \"2021-02-13T06:51:14.644402Z\", \"created_time\": \"2021-02-13T06:50:51.840196Z\", \"created_time_dt\": \"2021-02-13T06:50:51.840196Z\", \"duration\": \"0:00:22\", \"iteration\": \"35\", \"goal\": null, \"run_name\": \"Canceled\", \"run_properties\": null}, {\"run_id\": \"AutoML_925f25fb-20b8-408b-a136-ef8483b71d39_36\", \"run_number\": 84, \"metric\": null, \"status\": \"Completed\", \"run_type\": \"azureml.scriptrun\", \"training_percent\": \"100\", \"start_time\": \"2021-02-13T06:51:26.660288Z\", \"end_time\": \"2021-02-13T06:52:56.578955Z\", \"created_time\": \"2021-02-13T06:51:16.046382Z\", \"created_time_dt\": \"2021-02-13T06:51:16.046382Z\", \"duration\": \"0:01:40\", \"iteration\": \"36\", \"goal\": \"accuracy_max\", \"run_name\": \"VotingEnsemble\", \"run_properties\": \"classification_labels=None,\\n                              estimators=[('13',\\n                                           Pipeline(memory=None,\\n                                                    steps=[('robustscaler',\\n                                                            RobustScaler(copy=True,\\n                                                                         quantile_range=[25,\\n                                                                                         75],\\n                                                                         with_centering=True,\\n                                                                         with_scaling=False\", \"primary_metric\": 0.86627119, \"best_metric\": 0.86627119}], \"children_metrics\": {\"categories\": [0], \"series\": {\"AUC_macro\": [{\"categories\": [\"0\", \"1\", \"2\", \"3\", \"4\", \"5\", \"6\", \"7\", \"8\", \"9\", \"10\", \"11\", \"12\", \"13\", \"14\", \"15\", \"16\", \"17\", \"18\", \"19\", \"20\", \"21\", \"22\", \"23\", \"24\", \"25\", \"26\", \"27\", \"28\", \"29\", \"30\", \"31\", \"32\", \"36\"], \"mode\": \"markers\", \"name\": \"AUC_macro\", \"stepped\": false, \"type\": \"scatter\", \"data\": [0.8811331210778885, 0.8929591177556295, 0.8922031884459211, 0.902796373200443, 0.9017861295681063, 0.9039791435954229, 0.7395696982281285, 0.9044613556662975, 0.8303234588409006, 0.903265596160945, 0.8940481035437431, 0.8888375899778517, 0.8832271133259505, 0.8962490771502398, 0.8927271594684386, 0.9089544112218532, 0.8980745431893687, 0.8896257613510521, 0.9047342423403469, 0.8588682631967515, 0.9056608296419343, 0.8992062569213732, 0.8984595099667775, 0.9054859726836471, 0.9087915743816908, 0.5141341362126246, 0.887544942783315, 0.9057936046511628, 0.8906933370247323, 0.8974034929863418, 0.5, 0.8783569352159469, 0.8935165420819491, 0.9116371354743448]}, {\"categories\": [\"0\", \"1\", \"2\", \"3\", \"4\", \"5\", \"6\", \"7\", \"8\", \"9\", \"10\", \"11\", \"12\", \"13\", \"14\", \"15\", \"16\", \"17\", \"18\", \"19\", \"20\", \"21\", \"22\", \"23\", \"24\", \"25\", \"26\", \"27\", \"28\", \"29\", \"30\", \"31\", \"32\", \"36\"], \"mode\": \"lines\", \"name\": \"AUC_macro_max\", \"stepped\": true, \"type\": \"scatter\", \"data\": [0.8811331210778885, 0.8929591177556295, 0.8929591177556295, 0.902796373200443, 0.902796373200443, 0.9039791435954229, 0.9039791435954229, 0.9044613556662975, 0.9044613556662975, 0.9044613556662975, 0.9044613556662975, 0.9044613556662975, 0.9044613556662975, 0.9044613556662975, 0.9044613556662975, 0.9089544112218532, 0.9089544112218532, 0.9089544112218532, 0.9089544112218532, 0.9089544112218532, 0.9089544112218532, 0.9089544112218532, 0.9089544112218532, 0.9089544112218532, 0.9089544112218532, 0.9089544112218532, 0.9089544112218532, 0.9089544112218532, 0.9089544112218532, 0.9089544112218532, 0.9089544112218532, 0.9089544112218532, 0.9089544112218532, 0.9116371354743448]}], \"norm_macro_recall\": [{\"categories\": [\"0\", \"1\", \"2\", \"3\", \"4\", \"5\", \"6\", \"7\", \"8\", \"9\", \"10\", \"11\", \"12\", \"13\", \"14\", \"15\", \"16\", \"17\", \"18\", \"19\", \"20\", \"21\", \"22\", \"23\", \"24\", \"25\", \"26\", \"27\", \"28\", \"29\", \"30\", \"31\", \"32\", \"36\"], \"mode\": \"markers\", \"name\": \"norm_macro_recall\", \"stepped\": false, \"type\": \"scatter\", \"data\": [0.5520418050941306, 0.6120251937984496, 0.5558347176079734, 0.6349418604651162, 0.6526204318936878, 0.5920764119601329, 0.23318936877076407, 0.5896691583610189, 0.275952380952381, 0.6005703211517165, 0.6224916943521595, 0.5280703211517166, 0.6094559800664452, 0.6212500000000001, 0.5053156146179403, 0.6138358250276855, 0.5341763565891473, 0.37035714285714283, 0.6000179955703212, 0.0125, 0.5978668327796235, 0.5877893133997786, 0.6195334994462902, 0.5924584717607972, 0.6139050387596899, 0.06178571428571424, 0.5453156146179403, 0.6122978959025469, 0.6030024916943522, 0.635281007751938, 0.0, 0.5979941860465117, 0.6201370431893688, 0.6524404761904762]}, {\"categories\": [\"0\", \"1\", \"2\", \"3\", \"4\", \"5\", \"6\", \"7\", \"8\", \"9\", \"10\", \"11\", \"12\", \"13\", \"14\", \"15\", \"16\", \"17\", \"18\", \"19\", \"20\", \"21\", \"22\", \"23\", \"24\", \"25\", \"26\", \"27\", \"28\", \"29\", \"30\", \"31\", \"32\", \"36\"], \"mode\": \"lines\", \"name\": \"norm_macro_recall_max\", \"stepped\": true, \"type\": \"scatter\", \"data\": [0.5520418050941306, 0.6120251937984496, 0.6120251937984496, 0.6349418604651162, 0.6526204318936878, 0.6526204318936878, 0.6526204318936878, 0.6526204318936878, 0.6526204318936878, 0.6526204318936878, 0.6526204318936878, 0.6526204318936878, 0.6526204318936878, 0.6526204318936878, 0.6526204318936878, 0.6526204318936878, 0.6526204318936878, 0.6526204318936878, 0.6526204318936878, 0.6526204318936878, 0.6526204318936878, 0.6526204318936878, 0.6526204318936878, 0.6526204318936878, 0.6526204318936878, 0.6526204318936878, 0.6526204318936878, 0.6526204318936878, 0.6526204318936878, 0.6526204318936878, 0.6526204318936878, 0.6526204318936878, 0.6526204318936878, 0.6526204318936878]}], \"matthews_correlation\": [{\"categories\": [\"0\", \"1\", \"2\", \"3\", \"4\", \"5\", \"6\", \"7\", \"8\", \"9\", \"10\", \"11\", \"12\", \"13\", \"14\", \"15\", \"16\", \"17\", \"18\", \"19\", \"20\", \"21\", \"22\", \"23\", \"24\", \"25\", \"26\", \"27\", \"28\", \"29\", \"30\", \"31\", \"32\", \"36\"], \"mode\": \"markers\", \"name\": \"matthews_correlation\", \"stepped\": false, \"type\": \"scatter\", \"data\": [0.5628617041183437, 0.6132552509330647, 0.5598472448328748, 0.6490586484741641, 0.648087056730665, 0.5882216743505098, 0.2923571922454488, 0.6002953431594065, 0.37006932289245953, 0.637117982192189, 0.6568903004948619, 0.5832835639254463, 0.6654917504239121, 0.6833073504106979, 0.5413735838838376, 0.6216406047544042, 0.5483941592250209, 0.4971790607440004, 0.6174019003823129, 0.04305169306615094, 0.6128082286020528, 0.6383953157117739, 0.6223891755444748, 0.6151513880247248, 0.5886866449792596, 0.013350438778869387, 0.5763688508079631, 0.5782586909441532, 0.6251022832698401, 0.6656196945271357, 0.0, 0.6268458045618089, 0.6242126983606076, 0.7008386048686714]}, {\"categories\": [\"0\", \"1\", \"2\", \"3\", \"4\", \"5\", \"6\", \"7\", \"8\", \"9\", \"10\", \"11\", \"12\", \"13\", \"14\", \"15\", \"16\", \"17\", \"18\", \"19\", \"20\", \"21\", \"22\", \"23\", \"24\", \"25\", \"26\", \"27\", \"28\", \"29\", \"30\", \"31\", \"32\", \"36\"], \"mode\": \"lines\", \"name\": \"matthews_correlation_max\", \"stepped\": true, \"type\": \"scatter\", \"data\": [0.5628617041183437, 0.6132552509330647, 0.6132552509330647, 0.6490586484741641, 0.6490586484741641, 0.6490586484741641, 0.6490586484741641, 0.6490586484741641, 0.6490586484741641, 0.6490586484741641, 0.6568903004948619, 0.6568903004948619, 0.6654917504239121, 0.6833073504106979, 0.6833073504106979, 0.6833073504106979, 0.6833073504106979, 0.6833073504106979, 0.6833073504106979, 0.6833073504106979, 0.6833073504106979, 0.6833073504106979, 0.6833073504106979, 0.6833073504106979, 0.6833073504106979, 0.6833073504106979, 0.6833073504106979, 0.6833073504106979, 0.6833073504106979, 0.6833073504106979, 0.6833073504106979, 0.6833073504106979, 0.6833073504106979, 0.7008386048686714]}], \"precision_score_micro\": [{\"categories\": [\"0\", \"1\", \"2\", \"3\", \"4\", \"5\", \"6\", \"7\", \"8\", \"9\", \"10\", \"11\", \"12\", \"13\", \"14\", \"15\", \"16\", \"17\", \"18\", \"19\", \"20\", \"21\", \"22\", \"23\", \"24\", \"25\", \"26\", \"27\", \"28\", \"29\", \"30\", \"31\", \"32\", \"36\"], \"mode\": \"markers\", \"name\": \"precision_score_micro\", \"stepped\": false, \"type\": \"scatter\", \"data\": [0.8059887005649717, 0.8259322033898304, 0.8092090395480227, 0.8458757062146892, 0.8459322033898304, 0.8191525423728814, 0.7124293785310735, 0.8260451977401131, 0.736045197740113, 0.8427118644067797, 0.8496045197740113, 0.8226553672316385, 0.8528248587570622, 0.85954802259887, 0.8025423728813559, 0.8327683615819209, 0.8090960451977403, 0.7828248587570622, 0.8326553672316385, 0.6824858757062147, 0.8293220338983052, 0.8427683615819209, 0.8326553672316385, 0.8293785310734464, 0.8124293785310733, 0.531864406779661, 0.8127118644067798, 0.8024293785310734, 0.8361016949152542, 0.8528248587570623, 0.67909604519774, 0.8393785310734463, 0.8359887005649718, 0.8662711864406779]}, {\"categories\": [\"0\", \"1\", \"2\", \"3\", \"4\", \"5\", \"6\", \"7\", \"8\", \"9\", \"10\", \"11\", \"12\", \"13\", \"14\", \"15\", \"16\", \"17\", \"18\", \"19\", \"20\", \"21\", \"22\", \"23\", \"24\", \"25\", \"26\", \"27\", \"28\", \"29\", \"30\", \"31\", \"32\", \"36\"], \"mode\": \"lines\", \"name\": \"precision_score_micro_max\", \"stepped\": true, \"type\": \"scatter\", \"data\": [0.8059887005649717, 0.8259322033898304, 0.8259322033898304, 0.8458757062146892, 0.8459322033898304, 0.8459322033898304, 0.8459322033898304, 0.8459322033898304, 0.8459322033898304, 0.8459322033898304, 0.8496045197740113, 0.8496045197740113, 0.8528248587570622, 0.85954802259887, 0.85954802259887, 0.85954802259887, 0.85954802259887, 0.85954802259887, 0.85954802259887, 0.85954802259887, 0.85954802259887, 0.85954802259887, 0.85954802259887, 0.85954802259887, 0.85954802259887, 0.85954802259887, 0.85954802259887, 0.85954802259887, 0.85954802259887, 0.85954802259887, 0.85954802259887, 0.85954802259887, 0.85954802259887, 0.8662711864406779]}], \"average_precision_score_macro\": [{\"categories\": [\"0\", \"1\", \"2\", \"3\", \"4\", \"5\", \"6\", \"7\", \"8\", \"9\", \"10\", \"11\", \"12\", \"13\", \"14\", \"15\", \"16\", \"17\", \"18\", \"19\", \"20\", \"21\", \"22\", \"23\", \"24\", \"25\", \"26\", \"27\", \"28\", \"29\", \"30\", \"31\", \"32\", \"36\"], \"mode\": \"markers\", \"name\": \"average_precision_score_macro\", \"stepped\": false, \"type\": \"scatter\", \"data\": [0.8655792376041671, 0.8826936933050062, 0.8821760526900301, 0.8995365982140209, 0.8927655731816833, 0.8956769584282082, 0.7184634262666745, 0.8921345461995751, 0.799425832504898, 0.8941247772515502, 0.8802531433544377, 0.8701786665611053, 0.8744822483916831, 0.8829297718811082, 0.8773379269334891, 0.8950591637573557, 0.8833324282258908, 0.8784589484531675, 0.8949484146327167, 0.8346855748165318, 0.890383536024429, 0.8889114345127961, 0.8902634553693931, 0.896699507236988, 0.9021750344360095, 0.5183418860102845, 0.8794237569572543, 0.8956920820754801, 0.8819556674146056, 0.8855365817519385, 0.5, 0.8428810989814897, 0.8820157578846333, 0.8996546676398515]}, {\"categories\": [\"0\", \"1\", \"2\", \"3\", \"4\", \"5\", \"6\", \"7\", \"8\", \"9\", \"10\", \"11\", \"12\", \"13\", \"14\", \"15\", \"16\", \"17\", \"18\", \"19\", \"20\", \"21\", \"22\", \"23\", \"24\", \"25\", \"26\", \"27\", \"28\", \"29\", \"30\", \"31\", \"32\", \"36\"], \"mode\": \"lines\", \"name\": \"average_precision_score_macro_max\", \"stepped\": true, \"type\": \"scatter\", \"data\": [0.8655792376041671, 0.8826936933050062, 0.8826936933050062, 0.8995365982140209, 0.8995365982140209, 0.8995365982140209, 0.8995365982140209, 0.8995365982140209, 0.8995365982140209, 0.8995365982140209, 0.8995365982140209, 0.8995365982140209, 0.8995365982140209, 0.8995365982140209, 0.8995365982140209, 0.8995365982140209, 0.8995365982140209, 0.8995365982140209, 0.8995365982140209, 0.8995365982140209, 0.8995365982140209, 0.8995365982140209, 0.8995365982140209, 0.8995365982140209, 0.9021750344360095, 0.9021750344360095, 0.9021750344360095, 0.9021750344360095, 0.9021750344360095, 0.9021750344360095, 0.9021750344360095, 0.9021750344360095, 0.9021750344360095, 0.9021750344360095]}], \"accuracy\": [{\"categories\": [\"0\", \"1\", \"2\", \"3\", \"4\", \"5\", \"6\", \"7\", \"8\", \"9\", \"10\", \"11\", \"12\", \"13\", \"14\", \"15\", \"16\", \"17\", \"18\", \"19\", \"20\", \"21\", \"22\", \"23\", \"24\", \"25\", \"26\", \"27\", \"28\", \"29\", \"30\", \"31\", \"32\", \"36\"], \"mode\": \"markers\", \"name\": \"accuracy\", \"stepped\": false, \"type\": \"scatter\", \"data\": [0.8059887005649717, 0.8259322033898304, 0.8092090395480227, 0.8458757062146892, 0.8459322033898304, 0.8191525423728814, 0.7124293785310735, 0.8260451977401131, 0.736045197740113, 0.8427118644067797, 0.8496045197740113, 0.8226553672316385, 0.8528248587570622, 0.85954802259887, 0.8025423728813559, 0.8327683615819209, 0.8090960451977403, 0.7828248587570622, 0.8326553672316385, 0.6824858757062147, 0.8293220338983052, 0.8427683615819209, 0.8326553672316385, 0.8293785310734464, 0.8124293785310733, 0.531864406779661, 0.8127118644067798, 0.8024293785310734, 0.8361016949152542, 0.8528248587570623, 0.67909604519774, 0.8393785310734463, 0.8359887005649718, 0.8662711864406779]}, {\"categories\": [\"0\", \"1\", \"2\", \"3\", \"4\", \"5\", \"6\", \"7\", \"8\", \"9\", \"10\", \"11\", \"12\", \"13\", \"14\", \"15\", \"16\", \"17\", \"18\", \"19\", \"20\", \"21\", \"22\", \"23\", \"24\", \"25\", \"26\", \"27\", \"28\", \"29\", \"30\", \"31\", \"32\", \"36\"], \"mode\": \"lines\", \"name\": \"accuracy_max\", \"stepped\": true, \"type\": \"scatter\", \"data\": [0.8059887005649717, 0.8259322033898304, 0.8259322033898304, 0.8458757062146892, 0.8459322033898304, 0.8459322033898304, 0.8459322033898304, 0.8459322033898304, 0.8459322033898304, 0.8459322033898304, 0.8496045197740113, 0.8496045197740113, 0.8528248587570622, 0.85954802259887, 0.85954802259887, 0.85954802259887, 0.85954802259887, 0.85954802259887, 0.85954802259887, 0.85954802259887, 0.85954802259887, 0.85954802259887, 0.85954802259887, 0.85954802259887, 0.85954802259887, 0.85954802259887, 0.85954802259887, 0.85954802259887, 0.85954802259887, 0.85954802259887, 0.85954802259887, 0.85954802259887, 0.85954802259887, 0.8662711864406779]}], \"precision_score_weighted\": [{\"categories\": [\"0\", \"1\", \"2\", \"3\", \"4\", \"5\", \"6\", \"7\", \"8\", \"9\", \"10\", \"11\", \"12\", \"13\", \"14\", \"15\", \"16\", \"17\", \"18\", \"19\", \"20\", \"21\", \"22\", \"23\", \"24\", \"25\", \"26\", \"27\", \"28\", \"29\", \"30\", \"31\", \"32\", \"36\"], \"mode\": \"markers\", \"name\": \"precision_score_weighted\", \"stepped\": false, \"type\": \"scatter\", \"data\": [0.8237683758533973, 0.8403871377947292, 0.822447881602654, 0.861587691491892, 0.8567043142657262, 0.8301003250876555, 0.7236713775966327, 0.8397344886644037, 0.7792163027878148, 0.8564696948510251, 0.8634172995690739, 0.8353061511935346, 0.8655360710104368, 0.874061599096067, 0.8180345629300609, 0.8472018026439951, 0.8174279910877423, 0.8195201764128317, 0.8439344285644792, 0.5249694135982856, 0.8415160183494589, 0.8559044969458395, 0.8478800845433122, 0.8474389144294214, 0.834717574107702, 0.5908808373847871, 0.8324171699600693, 0.830204626754765, 0.8480247880963226, 0.8638181459898677, 0.4689005075169971, 0.8491374846120608, 0.8469957018228167, 0.8811703456667364]}, {\"categories\": [\"0\", \"1\", \"2\", \"3\", \"4\", \"5\", \"6\", \"7\", \"8\", \"9\", \"10\", \"11\", \"12\", \"13\", \"14\", \"15\", \"16\", \"17\", \"18\", \"19\", \"20\", \"21\", \"22\", \"23\", \"24\", \"25\", \"26\", \"27\", \"28\", \"29\", \"30\", \"31\", \"32\", \"36\"], \"mode\": \"lines\", \"name\": \"precision_score_weighted_max\", \"stepped\": true, \"type\": \"scatter\", \"data\": [0.8237683758533973, 0.8403871377947292, 0.8403871377947292, 0.861587691491892, 0.861587691491892, 0.861587691491892, 0.861587691491892, 0.861587691491892, 0.861587691491892, 0.861587691491892, 0.8634172995690739, 0.8634172995690739, 0.8655360710104368, 0.874061599096067, 0.874061599096067, 0.874061599096067, 0.874061599096067, 0.874061599096067, 0.874061599096067, 0.874061599096067, 0.874061599096067, 0.874061599096067, 0.874061599096067, 0.874061599096067, 0.874061599096067, 0.874061599096067, 0.874061599096067, 0.874061599096067, 0.874061599096067, 0.874061599096067, 0.874061599096067, 0.874061599096067, 0.874061599096067, 0.8811703456667364]}], \"log_loss\": [{\"categories\": [\"0\", \"1\", \"2\", \"3\", \"4\", \"5\", \"6\", \"7\", \"8\", \"9\", \"10\", \"11\", \"12\", \"13\", \"14\", \"15\", \"16\", \"17\", \"18\", \"19\", \"20\", \"21\", \"22\", \"23\", \"24\", \"25\", \"26\", \"27\", \"28\", \"29\", \"30\", \"31\", \"32\", \"36\"], \"mode\": \"markers\", \"name\": \"log_loss\", \"stepped\": false, \"type\": \"scatter\", \"data\": [0.5282491261622873, 0.43217688137359717, 0.41004323837309453, 0.4025064445942846, 0.3904229467838962, 0.4475712720719004, 0.5851103624179723, 0.37820751807589004, 0.5184056250785269, 0.40925115905705967, 0.38995629857272407, 0.5044404800443761, 0.4205279449517806, 0.4124110986928864, 0.43546851362189176, 0.37842516244046054, 0.3942650461328258, 0.4849891849008321, 0.3997407425109225, 0.5765428648270647, 0.38135166476878285, 0.425398527047448, 0.3920238410510928, 0.4032981689389158, 0.4480382452090382, 0.6927611525102766, 0.5047083212177668, 0.4526710634098534, 0.43199461094092906, 0.39944645371283405, 0.6376482650950654, 0.47417662098118657, 0.38553723643570936, 0.4105244365076951]}, {\"categories\": [\"0\", \"1\", \"2\", \"3\", \"4\", \"5\", \"6\", \"7\", \"8\", \"9\", \"10\", \"11\", \"12\", \"13\", \"14\", \"15\", \"16\", \"17\", \"18\", \"19\", \"20\", \"21\", \"22\", \"23\", \"24\", \"25\", \"26\", \"27\", \"28\", \"29\", \"30\", \"31\", \"32\", \"36\"], \"mode\": \"lines\", \"name\": \"log_loss_min\", \"stepped\": true, \"type\": \"scatter\", \"data\": [0.5282491261622873, 0.43217688137359717, 0.41004323837309453, 0.4025064445942846, 0.3904229467838962, 0.3904229467838962, 0.3904229467838962, 0.37820751807589004, 0.37820751807589004, 0.37820751807589004, 0.37820751807589004, 0.37820751807589004, 0.37820751807589004, 0.37820751807589004, 0.37820751807589004, 0.37820751807589004, 0.37820751807589004, 0.37820751807589004, 0.37820751807589004, 0.37820751807589004, 0.37820751807589004, 0.37820751807589004, 0.37820751807589004, 0.37820751807589004, 0.37820751807589004, 0.37820751807589004, 0.37820751807589004, 0.37820751807589004, 0.37820751807589004, 0.37820751807589004, 0.37820751807589004, 0.37820751807589004, 0.37820751807589004, 0.37820751807589004]}], \"recall_score_macro\": [{\"categories\": [\"0\", \"1\", \"2\", \"3\", \"4\", \"5\", \"6\", \"7\", \"8\", \"9\", \"10\", \"11\", \"12\", \"13\", \"14\", \"15\", \"16\", \"17\", \"18\", \"19\", \"20\", \"21\", \"22\", \"23\", \"24\", \"25\", \"26\", \"27\", \"28\", \"29\", \"30\", \"31\", \"32\", \"36\"], \"mode\": \"markers\", \"name\": \"recall_score_macro\", \"stepped\": false, \"type\": \"scatter\", \"data\": [0.7760209025470652, 0.8060125968992248, 0.7779173588039867, 0.8174709302325581, 0.8263102159468438, 0.7960382059800665, 0.616594684385382, 0.7948345791805094, 0.6379761904761905, 0.8002851605758583, 0.8112458471760797, 0.7640351605758582, 0.8047279900332225, 0.8106249999999999, 0.75265780730897, 0.8069179125138428, 0.7670881782945737, 0.6851785714285714, 0.8000089977851607, 0.50625, 0.7989334163898117, 0.7938946566998893, 0.8097667497231452, 0.7962292358803987, 0.806952519379845, 0.5035091362126246, 0.7726578073089702, 0.8061489479512736, 0.8015012458471761, 0.817640503875969, 0.5, 0.7989970930232558, 0.8100685215946845, 0.8262202380952381]}, {\"categories\": [\"0\", \"1\", \"2\", \"3\", \"4\", \"5\", \"6\", \"7\", \"8\", \"9\", \"10\", \"11\", \"12\", \"13\", \"14\", \"15\", \"16\", \"17\", \"18\", \"19\", \"20\", \"21\", \"22\", \"23\", \"24\", \"25\", \"26\", \"27\", \"28\", \"29\", \"30\", \"31\", \"32\", \"36\"], \"mode\": \"lines\", \"name\": \"recall_score_macro_max\", \"stepped\": true, \"type\": \"scatter\", \"data\": [0.7760209025470652, 0.8060125968992248, 0.8060125968992248, 0.8174709302325581, 0.8263102159468438, 0.8263102159468438, 0.8263102159468438, 0.8263102159468438, 0.8263102159468438, 0.8263102159468438, 0.8263102159468438, 0.8263102159468438, 0.8263102159468438, 0.8263102159468438, 0.8263102159468438, 0.8263102159468438, 0.8263102159468438, 0.8263102159468438, 0.8263102159468438, 0.8263102159468438, 0.8263102159468438, 0.8263102159468438, 0.8263102159468438, 0.8263102159468438, 0.8263102159468438, 0.8263102159468438, 0.8263102159468438, 0.8263102159468438, 0.8263102159468438, 0.8263102159468438, 0.8263102159468438, 0.8263102159468438, 0.8263102159468438, 0.8263102159468438]}], \"average_precision_score_weighted\": [{\"categories\": [\"0\", \"1\", \"2\", \"3\", \"4\", \"5\", \"6\", \"7\", \"8\", \"9\", \"10\", \"11\", \"12\", \"13\", \"14\", \"15\", \"16\", \"17\", \"18\", \"19\", \"20\", \"21\", \"22\", \"23\", \"24\", \"25\", \"26\", \"27\", \"28\", \"29\", \"30\", \"31\", \"32\", \"36\"], \"mode\": \"markers\", \"name\": \"average_precision_score_weighted\", \"stepped\": false, \"type\": \"scatter\", \"data\": [0.8955370396295249, 0.9103506263314479, 0.9080297841452607, 0.9180129872537194, 0.9158707946184534, 0.919574654528199, 0.7675756738587172, 0.9162681582575836, 0.8458920762759519, 0.9182133228462336, 0.9044364305652293, 0.8948959997609753, 0.8998447696743413, 0.9081491782753858, 0.9052300829814242, 0.9203145282088151, 0.9111091832389391, 0.9027295052958386, 0.9181596860653727, 0.8758599143525391, 0.9160812331630475, 0.912188841138011, 0.9126555046213316, 0.9176279369284794, 0.9243196541616543, 0.5976472846315094, 0.901383643926031, 0.919297186561453, 0.9057894515886135, 0.9091746815088195, 0.5796089246385138, 0.8763490620151906, 0.9094684488588843, 0.92233211415239]}, {\"categories\": [\"0\", \"1\", \"2\", \"3\", \"4\", \"5\", \"6\", \"7\", \"8\", \"9\", \"10\", \"11\", \"12\", \"13\", \"14\", \"15\", \"16\", \"17\", \"18\", \"19\", \"20\", \"21\", \"22\", \"23\", \"24\", \"25\", \"26\", \"27\", \"28\", \"29\", \"30\", \"31\", \"32\", \"36\"], \"mode\": \"lines\", \"name\": \"average_precision_score_weighted_max\", \"stepped\": true, \"type\": \"scatter\", \"data\": [0.8955370396295249, 0.9103506263314479, 0.9103506263314479, 0.9180129872537194, 0.9180129872537194, 0.919574654528199, 0.919574654528199, 0.919574654528199, 0.919574654528199, 0.919574654528199, 0.919574654528199, 0.919574654528199, 0.919574654528199, 0.919574654528199, 0.919574654528199, 0.9203145282088151, 0.9203145282088151, 0.9203145282088151, 0.9203145282088151, 0.9203145282088151, 0.9203145282088151, 0.9203145282088151, 0.9203145282088151, 0.9203145282088151, 0.9243196541616543, 0.9243196541616543, 0.9243196541616543, 0.9243196541616543, 0.9243196541616543, 0.9243196541616543, 0.9243196541616543, 0.9243196541616543, 0.9243196541616543, 0.9243196541616543]}], \"precision_score_macro\": [{\"categories\": [\"0\", \"1\", \"2\", \"3\", \"4\", \"5\", \"6\", \"7\", \"8\", \"9\", \"10\", \"11\", \"12\", \"13\", \"14\", \"15\", \"16\", \"17\", \"18\", \"19\", \"20\", \"21\", \"22\", \"23\", \"24\", \"25\", \"26\", \"27\", \"28\", \"29\", \"30\", \"31\", \"32\", \"36\"], \"mode\": \"markers\", \"name\": \"precision_score_macro\", \"stepped\": false, \"type\": \"scatter\", \"data\": [0.7889041743265773, 0.8086642059265495, 0.7832018294502994, 0.8334819723305568, 0.8225105924123289, 0.7929249619328299, 0.688005054314418, 0.8073378566513579, 0.7693400768179093, 0.8398414452821747, 0.848492463658258, 0.8233427852120861, 0.8652570021420953, 0.8786556137606558, 0.7924821022648049, 0.8166961444228844, 0.7827466203925384, 0.8374109686609685, 0.8190090010719058, 0.44080459770114944, 0.815391288035588, 0.8498839378815758, 0.814451246989164, 0.8219294143127953, 0.782904048193522, 0.5091148569635778, 0.8079154454930851, 0.7738498996187279, 0.8255238812747884, 0.8501897736766157, 0.33954802259887, 0.829294733044733, 0.815327505891007, 0.8792346219915288]}, {\"categories\": [\"0\", \"1\", \"2\", \"3\", \"4\", \"5\", \"6\", \"7\", \"8\", \"9\", \"10\", \"11\", \"12\", \"13\", \"14\", \"15\", \"16\", \"17\", \"18\", \"19\", \"20\", \"21\", \"22\", \"23\", \"24\", \"25\", \"26\", \"27\", \"28\", \"29\", \"30\", \"31\", \"32\", \"36\"], \"mode\": \"lines\", \"name\": \"precision_score_macro_max\", \"stepped\": true, \"type\": \"scatter\", \"data\": [0.7889041743265773, 0.8086642059265495, 0.8086642059265495, 0.8334819723305568, 0.8334819723305568, 0.8334819723305568, 0.8334819723305568, 0.8334819723305568, 0.8334819723305568, 0.8398414452821747, 0.848492463658258, 0.848492463658258, 0.8652570021420953, 0.8786556137606558, 0.8786556137606558, 0.8786556137606558, 0.8786556137606558, 0.8786556137606558, 0.8786556137606558, 0.8786556137606558, 0.8786556137606558, 0.8786556137606558, 0.8786556137606558, 0.8786556137606558, 0.8786556137606558, 0.8786556137606558, 0.8786556137606558, 0.8786556137606558, 0.8786556137606558, 0.8786556137606558, 0.8786556137606558, 0.8786556137606558, 0.8786556137606558, 0.8792346219915288]}], \"recall_score_weighted\": [{\"categories\": [\"0\", \"1\", \"2\", \"3\", \"4\", \"5\", \"6\", \"7\", \"8\", \"9\", \"10\", \"11\", \"12\", \"13\", \"14\", \"15\", \"16\", \"17\", \"18\", \"19\", \"20\", \"21\", \"22\", \"23\", \"24\", \"25\", \"26\", \"27\", \"28\", \"29\", \"30\", \"31\", \"32\", \"36\"], \"mode\": \"markers\", \"name\": \"recall_score_weighted\", \"stepped\": false, \"type\": \"scatter\", \"data\": [0.8059887005649717, 0.8259322033898304, 0.8092090395480227, 0.8458757062146892, 0.8459322033898304, 0.8191525423728814, 0.7124293785310735, 0.8260451977401131, 0.736045197740113, 0.8427118644067797, 0.8496045197740113, 0.8226553672316385, 0.8528248587570622, 0.85954802259887, 0.8025423728813559, 0.8327683615819209, 0.8090960451977403, 0.7828248587570622, 0.8326553672316385, 0.6824858757062147, 0.8293220338983052, 0.8427683615819209, 0.8326553672316385, 0.8293785310734464, 0.8124293785310733, 0.531864406779661, 0.8127118644067798, 0.8024293785310734, 0.8361016949152542, 0.8528248587570623, 0.67909604519774, 0.8393785310734463, 0.8359887005649718, 0.8662711864406779]}, {\"categories\": [\"0\", \"1\", \"2\", \"3\", \"4\", \"5\", \"6\", \"7\", \"8\", \"9\", \"10\", \"11\", \"12\", \"13\", \"14\", \"15\", \"16\", \"17\", \"18\", \"19\", \"20\", \"21\", \"22\", \"23\", \"24\", \"25\", \"26\", \"27\", \"28\", \"29\", \"30\", \"31\", \"32\", \"36\"], \"mode\": \"lines\", \"name\": \"recall_score_weighted_max\", \"stepped\": true, \"type\": \"scatter\", \"data\": [0.8059887005649717, 0.8259322033898304, 0.8259322033898304, 0.8458757062146892, 0.8459322033898304, 0.8459322033898304, 0.8459322033898304, 0.8459322033898304, 0.8459322033898304, 0.8459322033898304, 0.8496045197740113, 0.8496045197740113, 0.8528248587570622, 0.85954802259887, 0.85954802259887, 0.85954802259887, 0.85954802259887, 0.85954802259887, 0.85954802259887, 0.85954802259887, 0.85954802259887, 0.85954802259887, 0.85954802259887, 0.85954802259887, 0.85954802259887, 0.85954802259887, 0.85954802259887, 0.85954802259887, 0.85954802259887, 0.85954802259887, 0.85954802259887, 0.85954802259887, 0.85954802259887, 0.8662711864406779]}], \"recall_score_micro\": [{\"categories\": [\"0\", \"1\", \"2\", \"3\", \"4\", \"5\", \"6\", \"7\", \"8\", \"9\", \"10\", \"11\", \"12\", \"13\", \"14\", \"15\", \"16\", \"17\", \"18\", \"19\", \"20\", \"21\", \"22\", \"23\", \"24\", \"25\", \"26\", \"27\", \"28\", \"29\", \"30\", \"31\", \"32\", \"36\"], \"mode\": \"markers\", \"name\": \"recall_score_micro\", \"stepped\": false, \"type\": \"scatter\", \"data\": [0.8059887005649717, 0.8259322033898304, 0.8092090395480227, 0.8458757062146892, 0.8459322033898304, 0.8191525423728814, 0.7124293785310735, 0.8260451977401131, 0.736045197740113, 0.8427118644067797, 0.8496045197740113, 0.8226553672316385, 0.8528248587570622, 0.85954802259887, 0.8025423728813559, 0.8327683615819209, 0.8090960451977403, 0.7828248587570622, 0.8326553672316385, 0.6824858757062147, 0.8293220338983052, 0.8427683615819209, 0.8326553672316385, 0.8293785310734464, 0.8124293785310733, 0.531864406779661, 0.8127118644067798, 0.8024293785310734, 0.8361016949152542, 0.8528248587570623, 0.67909604519774, 0.8393785310734463, 0.8359887005649718, 0.8662711864406779]}, {\"categories\": [\"0\", \"1\", \"2\", \"3\", \"4\", \"5\", \"6\", \"7\", \"8\", \"9\", \"10\", \"11\", \"12\", \"13\", \"14\", \"15\", \"16\", \"17\", \"18\", \"19\", \"20\", \"21\", \"22\", \"23\", \"24\", \"25\", \"26\", \"27\", \"28\", \"29\", \"30\", \"31\", \"32\", \"36\"], \"mode\": \"lines\", \"name\": \"recall_score_micro_max\", \"stepped\": true, \"type\": \"scatter\", \"data\": [0.8059887005649717, 0.8259322033898304, 0.8259322033898304, 0.8458757062146892, 0.8459322033898304, 0.8459322033898304, 0.8459322033898304, 0.8459322033898304, 0.8459322033898304, 0.8459322033898304, 0.8496045197740113, 0.8496045197740113, 0.8528248587570622, 0.85954802259887, 0.85954802259887, 0.85954802259887, 0.85954802259887, 0.85954802259887, 0.85954802259887, 0.85954802259887, 0.85954802259887, 0.85954802259887, 0.85954802259887, 0.85954802259887, 0.85954802259887, 0.85954802259887, 0.85954802259887, 0.85954802259887, 0.85954802259887, 0.85954802259887, 0.85954802259887, 0.85954802259887, 0.85954802259887, 0.8662711864406779]}], \"AUC_weighted\": [{\"categories\": [\"0\", \"1\", \"2\", \"3\", \"4\", \"5\", \"6\", \"7\", \"8\", \"9\", \"10\", \"11\", \"12\", \"13\", \"14\", \"15\", \"16\", \"17\", \"18\", \"19\", \"20\", \"21\", \"22\", \"23\", \"24\", \"25\", \"26\", \"27\", \"28\", \"29\", \"30\", \"31\", \"32\", \"36\"], \"mode\": \"markers\", \"name\": \"AUC_weighted\", \"stepped\": false, \"type\": \"scatter\", \"data\": [0.8811331210778885, 0.8929591177556293, 0.8922031884459211, 0.902796373200443, 0.9017861295681063, 0.9039791435954229, 0.7395696982281285, 0.9044613556662975, 0.8303234588409006, 0.903265596160945, 0.8940481035437431, 0.8888375899778517, 0.8832271133259505, 0.8962490771502398, 0.8927271594684386, 0.9089544112218529, 0.8980745431893687, 0.8896257613510521, 0.904734242340347, 0.8588682631967515, 0.9056608296419343, 0.8992062569213732, 0.8984595099667775, 0.9054859726836471, 0.9087915743816908, 0.5141341362126246, 0.887544942783315, 0.9057936046511628, 0.8906933370247323, 0.8974034929863418, 0.5, 0.8783569352159469, 0.8935165420819491, 0.9116371354743448]}, {\"categories\": [\"0\", \"1\", \"2\", \"3\", \"4\", \"5\", \"6\", \"7\", \"8\", \"9\", \"10\", \"11\", \"12\", \"13\", \"14\", \"15\", \"16\", \"17\", \"18\", \"19\", \"20\", \"21\", \"22\", \"23\", \"24\", \"25\", \"26\", \"27\", \"28\", \"29\", \"30\", \"31\", \"32\", \"36\"], \"mode\": \"lines\", \"name\": \"AUC_weighted_max\", \"stepped\": true, \"type\": \"scatter\", \"data\": [0.8811331210778885, 0.8929591177556293, 0.8929591177556293, 0.902796373200443, 0.902796373200443, 0.9039791435954229, 0.9039791435954229, 0.9044613556662975, 0.9044613556662975, 0.9044613556662975, 0.9044613556662975, 0.9044613556662975, 0.9044613556662975, 0.9044613556662975, 0.9044613556662975, 0.9089544112218529, 0.9089544112218529, 0.9089544112218529, 0.9089544112218529, 0.9089544112218529, 0.9089544112218529, 0.9089544112218529, 0.9089544112218529, 0.9089544112218529, 0.9089544112218529, 0.9089544112218529, 0.9089544112218529, 0.9089544112218529, 0.9089544112218529, 0.9089544112218529, 0.9089544112218529, 0.9089544112218529, 0.9089544112218529, 0.9116371354743448]}], \"f1_score_micro\": [{\"categories\": [\"0\", \"1\", \"2\", \"3\", \"4\", \"5\", \"6\", \"7\", \"8\", \"9\", \"10\", \"11\", \"12\", \"13\", \"14\", \"15\", \"16\", \"17\", \"18\", \"19\", \"20\", \"21\", \"22\", \"23\", \"24\", \"25\", \"26\", \"27\", \"28\", \"29\", \"30\", \"31\", \"32\", \"36\"], \"mode\": \"markers\", \"name\": \"f1_score_micro\", \"stepped\": false, \"type\": \"scatter\", \"data\": [0.8059887005649718, 0.8259322033898304, 0.8092090395480227, 0.8458757062146892, 0.8459322033898304, 0.8191525423728814, 0.7124293785310735, 0.8260451977401131, 0.736045197740113, 0.8427118644067797, 0.8496045197740113, 0.8226553672316385, 0.8528248587570622, 0.8595480225988702, 0.8025423728813559, 0.8327683615819209, 0.8090960451977403, 0.7828248587570622, 0.8326553672316385, 0.6824858757062147, 0.8293220338983052, 0.8427683615819209, 0.8326553672316385, 0.8293785310734464, 0.8124293785310733, 0.531864406779661, 0.8127118644067798, 0.8024293785310735, 0.8361016949152542, 0.8528248587570623, 0.67909604519774, 0.8393785310734463, 0.8359887005649718, 0.8662711864406779]}, {\"categories\": [\"0\", \"1\", \"2\", \"3\", \"4\", \"5\", \"6\", \"7\", \"8\", \"9\", \"10\", \"11\", \"12\", \"13\", \"14\", \"15\", \"16\", \"17\", \"18\", \"19\", \"20\", \"21\", \"22\", \"23\", \"24\", \"25\", \"26\", \"27\", \"28\", \"29\", \"30\", \"31\", \"32\", \"36\"], \"mode\": \"lines\", \"name\": \"f1_score_micro_max\", \"stepped\": true, \"type\": \"scatter\", \"data\": [0.8059887005649718, 0.8259322033898304, 0.8259322033898304, 0.8458757062146892, 0.8459322033898304, 0.8459322033898304, 0.8459322033898304, 0.8459322033898304, 0.8459322033898304, 0.8459322033898304, 0.8496045197740113, 0.8496045197740113, 0.8528248587570622, 0.8595480225988702, 0.8595480225988702, 0.8595480225988702, 0.8595480225988702, 0.8595480225988702, 0.8595480225988702, 0.8595480225988702, 0.8595480225988702, 0.8595480225988702, 0.8595480225988702, 0.8595480225988702, 0.8595480225988702, 0.8595480225988702, 0.8595480225988702, 0.8595480225988702, 0.8595480225988702, 0.8595480225988702, 0.8595480225988702, 0.8595480225988702, 0.8595480225988702, 0.8662711864406779]}], \"f1_score_macro\": [{\"categories\": [\"0\", \"1\", \"2\", \"3\", \"4\", \"5\", \"6\", \"7\", \"8\", \"9\", \"10\", \"11\", \"12\", \"13\", \"14\", \"15\", \"16\", \"17\", \"18\", \"19\", \"20\", \"21\", \"22\", \"23\", \"24\", \"25\", \"26\", \"27\", \"28\", \"29\", \"30\", \"31\", \"32\", \"36\"], \"mode\": \"markers\", \"name\": \"f1_score_macro\", \"stepped\": false, \"type\": \"scatter\", \"data\": [0.7682096405971308, 0.7972526241921125, 0.771579995039685, 0.8136224302952373, 0.8183109088913116, 0.7880115907418344, 0.6079063708095965, 0.7891738334007663, 0.6252048522662619, 0.8047048699354964, 0.8161275803155832, 0.7744146297219825, 0.8170234993851239, 0.8251007653060632, 0.7538489296370823, 0.7997501005565522, 0.7645286327979106, 0.6954283489899218, 0.7983400661454317, 0.4153673270140314, 0.7963665659851886, 0.8023195775855351, 0.8006420207980061, 0.7930568170646767, 0.7867688035024129, 0.4914180632205891, 0.7700766337162243, 0.7792963054117857, 0.8013715046110628, 0.8218423995474925, 0.40276783177038933, 0.8037034495746317, 0.8040168462340327, 0.8353344862258757]}, {\"categories\": [\"0\", \"1\", \"2\", \"3\", \"4\", \"5\", \"6\", \"7\", \"8\", \"9\", \"10\", \"11\", \"12\", \"13\", \"14\", \"15\", \"16\", \"17\", \"18\", \"19\", \"20\", \"21\", \"22\", \"23\", \"24\", \"25\", \"26\", \"27\", \"28\", \"29\", \"30\", \"31\", \"32\", \"36\"], \"mode\": \"lines\", \"name\": \"f1_score_macro_max\", \"stepped\": true, \"type\": \"scatter\", \"data\": [0.7682096405971308, 0.7972526241921125, 0.7972526241921125, 0.8136224302952373, 0.8183109088913116, 0.8183109088913116, 0.8183109088913116, 0.8183109088913116, 0.8183109088913116, 0.8183109088913116, 0.8183109088913116, 0.8183109088913116, 0.8183109088913116, 0.8251007653060632, 0.8251007653060632, 0.8251007653060632, 0.8251007653060632, 0.8251007653060632, 0.8251007653060632, 0.8251007653060632, 0.8251007653060632, 0.8251007653060632, 0.8251007653060632, 0.8251007653060632, 0.8251007653060632, 0.8251007653060632, 0.8251007653060632, 0.8251007653060632, 0.8251007653060632, 0.8251007653060632, 0.8251007653060632, 0.8251007653060632, 0.8251007653060632, 0.8353344862258757]}], \"weighted_accuracy\": [{\"categories\": [\"0\", \"1\", \"2\", \"3\", \"4\", \"5\", \"6\", \"7\", \"8\", \"9\", \"10\", \"11\", \"12\", \"13\", \"14\", \"15\", \"16\", \"17\", \"18\", \"19\", \"20\", \"21\", \"22\", \"23\", \"24\", \"25\", \"26\", \"27\", \"28\", \"29\", \"30\", \"31\", \"32\", \"36\"], \"mode\": \"markers\", \"name\": \"weighted_accuracy\", \"stepped\": false, \"type\": \"scatter\", \"data\": [0.8252063202764133, 0.8406325321291572, 0.8304841970420691, 0.8657502043299401, 0.8590226067430736, 0.8347797378888917, 0.7763870361463064, 0.8464676074705417, 0.8032567402089587, 0.8703374570268274, 0.876880803619453, 0.8628172670030745, 0.8858706161799637, 0.8930534720015432, 0.8365299867324645, 0.8509681896511575, 0.836754929781805, 0.8482943439246929, 0.8552056261934704, 0.7987067800445385, 0.8506403055283871, 0.8764288575287598, 0.8487971682734854, 0.8532467254658785, 0.8153123179526366, 0.5493872327481852, 0.8421493803331351, 0.7999286636059423, 0.8608897582786085, 0.8764810720201728, 0.7971865900207855, 0.866842769193104, 0.8534787478315062, 0.8935547482651017]}, {\"categories\": [\"0\", \"1\", \"2\", \"3\", \"4\", \"5\", \"6\", \"7\", \"8\", \"9\", \"10\", \"11\", \"12\", \"13\", \"14\", \"15\", \"16\", \"17\", \"18\", \"19\", \"20\", \"21\", \"22\", \"23\", \"24\", \"25\", \"26\", \"27\", \"28\", \"29\", \"30\", \"31\", \"32\", \"36\"], \"mode\": \"lines\", \"name\": \"weighted_accuracy_max\", \"stepped\": true, \"type\": \"scatter\", \"data\": [0.8252063202764133, 0.8406325321291572, 0.8406325321291572, 0.8657502043299401, 0.8657502043299401, 0.8657502043299401, 0.8657502043299401, 0.8657502043299401, 0.8657502043299401, 0.8703374570268274, 0.876880803619453, 0.876880803619453, 0.8858706161799637, 0.8930534720015432, 0.8930534720015432, 0.8930534720015432, 0.8930534720015432, 0.8930534720015432, 0.8930534720015432, 0.8930534720015432, 0.8930534720015432, 0.8930534720015432, 0.8930534720015432, 0.8930534720015432, 0.8930534720015432, 0.8930534720015432, 0.8930534720015432, 0.8930534720015432, 0.8930534720015432, 0.8930534720015432, 0.8930534720015432, 0.8930534720015432, 0.8930534720015432, 0.8935547482651017]}], \"f1_score_weighted\": [{\"categories\": [\"0\", \"1\", \"2\", \"3\", \"4\", \"5\", \"6\", \"7\", \"8\", \"9\", \"10\", \"11\", \"12\", \"13\", \"14\", \"15\", \"16\", \"17\", \"18\", \"19\", \"20\", \"21\", \"22\", \"23\", \"24\", \"25\", \"26\", \"27\", \"28\", \"29\", \"30\", \"31\", \"32\", \"36\"], \"mode\": \"markers\", \"name\": \"f1_score_weighted\", \"stepped\": false, \"type\": \"scatter\", \"data\": [0.8014398448329555, 0.8237396450256732, 0.8076080208585117, 0.8425600140862803, 0.8456819301860667, 0.8186995382356969, 0.6806427291464653, 0.8218533623086494, 0.6920924975909098, 0.835607744380708, 0.8445786473037667, 0.8120819514951683, 0.8442103197187633, 0.8514559162343265, 0.7927356471104344, 0.8289346242927434, 0.8036005957596233, 0.7496145898483952, 0.8277041636824469, 0.560254095893789, 0.8250885326968964, 0.8334125699866775, 0.8296487355801642, 0.8233410628989694, 0.8169517490203789, 0.5475651303202205, 0.8038725301688572, 0.8080660476774051, 0.8308159120176024, 0.8475846716076882, 0.5526564268547016, 0.8344309368668685, 0.8334410774846926, 0.8593020825771605]}, {\"categories\": [\"0\", \"1\", \"2\", \"3\", \"4\", \"5\", \"6\", \"7\", \"8\", \"9\", \"10\", \"11\", \"12\", \"13\", \"14\", \"15\", \"16\", \"17\", \"18\", \"19\", \"20\", \"21\", \"22\", \"23\", \"24\", \"25\", \"26\", \"27\", \"28\", \"29\", \"30\", \"31\", \"32\", \"36\"], \"mode\": \"lines\", \"name\": \"f1_score_weighted_max\", \"stepped\": true, \"type\": \"scatter\", \"data\": [0.8014398448329555, 0.8237396450256732, 0.8237396450256732, 0.8425600140862803, 0.8456819301860667, 0.8456819301860667, 0.8456819301860667, 0.8456819301860667, 0.8456819301860667, 0.8456819301860667, 0.8456819301860667, 0.8456819301860667, 0.8456819301860667, 0.8514559162343265, 0.8514559162343265, 0.8514559162343265, 0.8514559162343265, 0.8514559162343265, 0.8514559162343265, 0.8514559162343265, 0.8514559162343265, 0.8514559162343265, 0.8514559162343265, 0.8514559162343265, 0.8514559162343265, 0.8514559162343265, 0.8514559162343265, 0.8514559162343265, 0.8514559162343265, 0.8514559162343265, 0.8514559162343265, 0.8514559162343265, 0.8514559162343265, 0.8593020825771605]}], \"AUC_micro\": [{\"categories\": [\"0\", \"1\", \"2\", \"3\", \"4\", \"5\", \"6\", \"7\", \"8\", \"9\", \"10\", \"11\", \"12\", \"13\", \"14\", \"15\", \"16\", \"17\", \"18\", \"19\", \"20\", \"21\", \"22\", \"23\", \"24\", \"25\", \"26\", \"27\", \"28\", \"29\", \"30\", \"31\", \"32\", \"36\"], \"mode\": \"markers\", \"name\": \"AUC_micro\", \"stepped\": false, \"type\": \"scatter\", \"data\": [0.8880105014523284, 0.8999905678444892, 0.8988723387276965, 0.9092222860608382, 0.9102707236107122, 0.9056496377158542, 0.7791083660506241, 0.9126752689201698, 0.8328210603594114, 0.9052911360081713, 0.9057792460659453, 0.8911529573238852, 0.8942460180663284, 0.9011557981422962, 0.8944535254875674, 0.9140608382010278, 0.9043348175811549, 0.8692911360081714, 0.9082023364933448, 0.8302854543713492, 0.9116339653356317, 0.9007023364933449, 0.9048163043825209, 0.9048808771425836, 0.9062118484471255, 0.48528231031951224, 0.8887426984582975, 0.8971154680966515, 0.8983120271952505, 0.9036220913530595, 0.6790960451977401, 0.88928353921287, 0.9071895208911871, 0.9112991956334386]}, {\"categories\": [\"0\", \"1\", \"2\", \"3\", \"4\", \"5\", \"6\", \"7\", \"8\", \"9\", \"10\", \"11\", \"12\", \"13\", \"14\", \"15\", \"16\", \"17\", \"18\", \"19\", \"20\", \"21\", \"22\", \"23\", \"24\", \"25\", \"26\", \"27\", \"28\", \"29\", \"30\", \"31\", \"32\", \"36\"], \"mode\": \"lines\", \"name\": \"AUC_micro_max\", \"stepped\": true, \"type\": \"scatter\", \"data\": [0.8880105014523284, 0.8999905678444892, 0.8999905678444892, 0.9092222860608382, 0.9102707236107122, 0.9102707236107122, 0.9102707236107122, 0.9126752689201698, 0.9126752689201698, 0.9126752689201698, 0.9126752689201698, 0.9126752689201698, 0.9126752689201698, 0.9126752689201698, 0.9126752689201698, 0.9140608382010278, 0.9140608382010278, 0.9140608382010278, 0.9140608382010278, 0.9140608382010278, 0.9140608382010278, 0.9140608382010278, 0.9140608382010278, 0.9140608382010278, 0.9140608382010278, 0.9140608382010278, 0.9140608382010278, 0.9140608382010278, 0.9140608382010278, 0.9140608382010278, 0.9140608382010278, 0.9140608382010278, 0.9140608382010278, 0.9140608382010278]}], \"average_precision_score_micro\": [{\"categories\": [\"0\", \"1\", \"2\", \"3\", \"4\", \"5\", \"6\", \"7\", \"8\", \"9\", \"10\", \"11\", \"12\", \"13\", \"14\", \"15\", \"16\", \"17\", \"18\", \"19\", \"20\", \"21\", \"22\", \"23\", \"24\", \"25\", \"26\", \"27\", \"28\", \"29\", \"30\", \"31\", \"32\", \"36\"], \"mode\": \"markers\", \"name\": \"average_precision_score_micro\", \"stepped\": false, \"type\": \"scatter\", \"data\": [0.887958292631032, 0.9018582931163117, 0.8993674843071282, 0.9057613982292325, 0.9084377284250825, 0.9098123800018036, 0.7610897541932384, 0.9117684859086598, 0.8377483843872803, 0.9078441719593636, 0.9026020432426062, 0.8857281642392479, 0.8933097941290737, 0.9046979320452891, 0.8973084466373693, 0.9162758930016928, 0.9069311129985611, 0.873901049972404, 0.9111581298001014, 0.8415387998975767, 0.9131676536469862, 0.9025355940751986, 0.9038220916734886, 0.9045483793416466, 0.9107648372363325, 0.5227340925559909, 0.8858318521818223, 0.9010660264870765, 0.8978341700643646, 0.9023808642147559, 0.6293524849181271, 0.8749159226001982, 0.9082565385495045, 0.9131728832870595]}, {\"categories\": [\"0\", \"1\", \"2\", \"3\", \"4\", \"5\", \"6\", \"7\", \"8\", \"9\", \"10\", \"11\", \"12\", \"13\", \"14\", \"15\", \"16\", \"17\", \"18\", \"19\", \"20\", \"21\", \"22\", \"23\", \"24\", \"25\", \"26\", \"27\", \"28\", \"29\", \"30\", \"31\", \"32\", \"36\"], \"mode\": \"lines\", \"name\": \"average_precision_score_micro_max\", \"stepped\": true, \"type\": \"scatter\", \"data\": [0.887958292631032, 0.9018582931163117, 0.9018582931163117, 0.9057613982292325, 0.9084377284250825, 0.9098123800018036, 0.9098123800018036, 0.9117684859086598, 0.9117684859086598, 0.9117684859086598, 0.9117684859086598, 0.9117684859086598, 0.9117684859086598, 0.9117684859086598, 0.9117684859086598, 0.9162758930016928, 0.9162758930016928, 0.9162758930016928, 0.9162758930016928, 0.9162758930016928, 0.9162758930016928, 0.9162758930016928, 0.9162758930016928, 0.9162758930016928, 0.9162758930016928, 0.9162758930016928, 0.9162758930016928, 0.9162758930016928, 0.9162758930016928, 0.9162758930016928, 0.9162758930016928, 0.9162758930016928, 0.9162758930016928, 0.9162758930016928]}], \"balanced_accuracy\": [{\"categories\": [\"0\", \"1\", \"2\", \"3\", \"4\", \"5\", \"6\", \"7\", \"8\", \"9\", \"10\", \"11\", \"12\", \"13\", \"14\", \"15\", \"16\", \"17\", \"18\", \"19\", \"20\", \"21\", \"22\", \"23\", \"24\", \"25\", \"26\", \"27\", \"28\", \"29\", \"30\", \"31\", \"32\", \"36\"], \"mode\": \"markers\", \"name\": \"balanced_accuracy\", \"stepped\": false, \"type\": \"scatter\", \"data\": [0.7760209025470652, 0.8060125968992248, 0.7779173588039867, 0.8174709302325581, 0.8263102159468438, 0.7960382059800665, 0.616594684385382, 0.7948345791805094, 0.6379761904761905, 0.8002851605758583, 0.8112458471760797, 0.7640351605758582, 0.8047279900332225, 0.8106249999999999, 0.75265780730897, 0.8069179125138428, 0.7670881782945737, 0.6851785714285714, 0.8000089977851607, 0.50625, 0.7989334163898117, 0.7938946566998893, 0.8097667497231452, 0.7962292358803987, 0.806952519379845, 0.5035091362126246, 0.7726578073089702, 0.8061489479512736, 0.8015012458471761, 0.817640503875969, 0.5, 0.7989970930232558, 0.8100685215946845, 0.8262202380952381]}, {\"categories\": [\"0\", \"1\", \"2\", \"3\", \"4\", \"5\", \"6\", \"7\", \"8\", \"9\", \"10\", \"11\", \"12\", \"13\", \"14\", \"15\", \"16\", \"17\", \"18\", \"19\", \"20\", \"21\", \"22\", \"23\", \"24\", \"25\", \"26\", \"27\", \"28\", \"29\", \"30\", \"31\", \"32\", \"36\"], \"mode\": \"lines\", \"name\": \"balanced_accuracy_max\", \"stepped\": true, \"type\": \"scatter\", \"data\": [0.7760209025470652, 0.8060125968992248, 0.8060125968992248, 0.8174709302325581, 0.8263102159468438, 0.8263102159468438, 0.8263102159468438, 0.8263102159468438, 0.8263102159468438, 0.8263102159468438, 0.8263102159468438, 0.8263102159468438, 0.8263102159468438, 0.8263102159468438, 0.8263102159468438, 0.8263102159468438, 0.8263102159468438, 0.8263102159468438, 0.8263102159468438, 0.8263102159468438, 0.8263102159468438, 0.8263102159468438, 0.8263102159468438, 0.8263102159468438, 0.8263102159468438, 0.8263102159468438, 0.8263102159468438, 0.8263102159468438, 0.8263102159468438, 0.8263102159468438, 0.8263102159468438, 0.8263102159468438, 0.8263102159468438, 0.8263102159468438]}]}, \"metricName\": null, \"primaryMetricName\": \"accuracy\", \"showLegend\": false}, \"run_metrics\": [{\"name\": \"experiment_status\", \"run_id\": \"AutoML_925f25fb-20b8-408b-a136-ef8483b71d39\", \"categories\": [0, 1, 2, 3, 4, 5, 6, 7, 8, 9, 10, 11, 12, 13], \"series\": [{\"data\": [\"DatasetEvaluation\", \"FeaturesGeneration\", \"DatasetFeaturization\", \"DatasetFeaturizationCompleted\", \"DatasetCrossValidationSplit\", \"ModelSelection\", \"BestRunExplainModel\", \"ModelExplanationDataSetSetup\", \"PickSurrogateModel\", \"EngineeredFeatureExplanations\", \"EngineeredFeatureExplanations\", \"RawFeaturesExplanations\", \"RawFeaturesExplanations\", \"BestRunExplainModel\"]}]}, {\"name\": \"experiment_status_description\", \"run_id\": \"AutoML_925f25fb-20b8-408b-a136-ef8483b71d39\", \"categories\": [0, 1, 2, 3, 4, 5, 6, 7, 8, 9, 10, 11, 12, 13], \"series\": [{\"data\": [\"Gathering dataset statistics.\", \"Generating features for the dataset.\", \"Beginning to fit featurizers and featurize the dataset.\", \"Completed fit featurizers and featurizing the dataset.\", \"Generating individually featurized CV splits.\", \"Beginning model selection.\", \"Best run model explanations started\", \"Model explanations data setup completed\", \"Choosing LightGBM as the surrogate model for explanations\", \"Computation of engineered features started\", \"Computation of engineered features completed\", \"Computation of raw features started\", \"Computation of raw features completed\", \"Best run model explanations completed\"]}]}, {\"name\": \"recall_score_macro\", \"run_id\": \"AutoML_925f25fb-20b8-408b-a136-ef8483b71d39\", \"categories\": [0], \"series\": [{\"data\": [0.8262202380952381]}]}, {\"name\": \"precision_score_weighted\", \"run_id\": \"AutoML_925f25fb-20b8-408b-a136-ef8483b71d39\", \"categories\": [0], \"series\": [{\"data\": [0.8811703456667364]}]}, {\"name\": \"norm_macro_recall\", \"run_id\": \"AutoML_925f25fb-20b8-408b-a136-ef8483b71d39\", \"categories\": [0], \"series\": [{\"data\": [0.6524404761904762]}]}, {\"name\": \"AUC_micro\", \"run_id\": \"AutoML_925f25fb-20b8-408b-a136-ef8483b71d39\", \"categories\": [0], \"series\": [{\"data\": [0.9112991956334386]}]}, {\"name\": \"weighted_accuracy\", \"run_id\": \"AutoML_925f25fb-20b8-408b-a136-ef8483b71d39\", \"categories\": [0], \"series\": [{\"data\": [0.8935547482651017]}]}, {\"name\": \"accuracy\", \"run_id\": \"AutoML_925f25fb-20b8-408b-a136-ef8483b71d39\", \"categories\": [0], \"series\": [{\"data\": [0.8662711864406779]}]}, {\"name\": \"recall_score_micro\", \"run_id\": \"AutoML_925f25fb-20b8-408b-a136-ef8483b71d39\", \"categories\": [0], \"series\": [{\"data\": [0.8662711864406779]}]}, {\"name\": \"AUC_weighted\", \"run_id\": \"AutoML_925f25fb-20b8-408b-a136-ef8483b71d39\", \"categories\": [0], \"series\": [{\"data\": [0.9116371354743448]}]}, {\"name\": \"recall_score_weighted\", \"run_id\": \"AutoML_925f25fb-20b8-408b-a136-ef8483b71d39\", \"categories\": [0], \"series\": [{\"data\": [0.8662711864406779]}]}, {\"name\": \"f1_score_weighted\", \"run_id\": \"AutoML_925f25fb-20b8-408b-a136-ef8483b71d39\", \"categories\": [0], \"series\": [{\"data\": [0.8593020825771605]}]}, {\"name\": \"AUC_macro\", \"run_id\": \"AutoML_925f25fb-20b8-408b-a136-ef8483b71d39\", \"categories\": [0], \"series\": [{\"data\": [0.9116371354743448]}]}, {\"name\": \"matthews_correlation\", \"run_id\": \"AutoML_925f25fb-20b8-408b-a136-ef8483b71d39\", \"categories\": [0], \"series\": [{\"data\": [0.7008386048686714]}]}, {\"name\": \"average_precision_score_weighted\", \"run_id\": \"AutoML_925f25fb-20b8-408b-a136-ef8483b71d39\", \"categories\": [0], \"series\": [{\"data\": [0.92233211415239]}]}, {\"name\": \"f1_score_micro\", \"run_id\": \"AutoML_925f25fb-20b8-408b-a136-ef8483b71d39\", \"categories\": [0], \"series\": [{\"data\": [0.8662711864406779]}]}, {\"name\": \"average_precision_score_macro\", \"run_id\": \"AutoML_925f25fb-20b8-408b-a136-ef8483b71d39\", \"categories\": [0], \"series\": [{\"data\": [0.8996546676398515]}]}, {\"name\": \"f1_score_macro\", \"run_id\": \"AutoML_925f25fb-20b8-408b-a136-ef8483b71d39\", \"categories\": [0], \"series\": [{\"data\": [0.8353344862258757]}]}, {\"name\": \"average_precision_score_micro\", \"run_id\": \"AutoML_925f25fb-20b8-408b-a136-ef8483b71d39\", \"categories\": [0], \"series\": [{\"data\": [0.9131728832870595]}]}, {\"name\": \"balanced_accuracy\", \"run_id\": \"AutoML_925f25fb-20b8-408b-a136-ef8483b71d39\", \"categories\": [0], \"series\": [{\"data\": [0.8262202380952381]}]}, {\"name\": \"log_loss\", \"run_id\": \"AutoML_925f25fb-20b8-408b-a136-ef8483b71d39\", \"categories\": [0], \"series\": [{\"data\": [0.4105244365076951]}]}, {\"name\": \"precision_score_micro\", \"run_id\": \"AutoML_925f25fb-20b8-408b-a136-ef8483b71d39\", \"categories\": [0], \"series\": [{\"data\": [0.8662711864406779]}]}, {\"name\": \"precision_score_macro\", \"run_id\": \"AutoML_925f25fb-20b8-408b-a136-ef8483b71d39\", \"categories\": [0], \"series\": [{\"data\": [0.8792346219915288]}]}], \"run_logs\": \"\\nRun is completed.\", \"graph\": {}, \"widget_settings\": {\"childWidgetDisplay\": \"popup\", \"send_telemetry\": false, \"log_level\": \"INFO\", \"sdk_version\": \"1.20.0\"}, \"loading\": false}"
     },
     "metadata": {},
     "output_type": "display_data"
    },
    {
     "name": "stdout",
     "output_type": "stream",
     "text": [
      "\n",
      "Current status: FeaturesGeneration. Generating features for the dataset.\n",
      "Current status: DatasetCrossValidationSplit. Generating individually featurized CV splits.\n",
      "Current status: ModelSelection. Beginning model selection.\n",
      "\n",
      "****************************************************************************************************\n",
      "DATA GUARDRAILS: \n",
      "\n",
      "TYPE:         Class balancing detection\n",
      "STATUS:       PASSED\n",
      "DESCRIPTION:  Your inputs were analyzed, and all classes are balanced in your training data.\n",
      "              Learn more about imbalanced data: https://aka.ms/AutomatedMLImbalancedData\n",
      "\n",
      "****************************************************************************************************\n",
      "\n",
      "TYPE:         Missing feature values imputation\n",
      "STATUS:       PASSED\n",
      "DESCRIPTION:  No feature missing values were detected in the training data.\n",
      "              Learn more about missing value imputation: https://aka.ms/AutomatedMLFeaturization\n",
      "\n",
      "****************************************************************************************************\n",
      "\n",
      "TYPE:         High cardinality feature detection\n",
      "STATUS:       PASSED\n",
      "DESCRIPTION:  Your inputs were analyzed, and no high cardinality features were detected.\n",
      "              Learn more about high cardinality feature handling: https://aka.ms/AutomatedMLFeaturization\n",
      "\n",
      "****************************************************************************************************\n",
      "\n",
      "****************************************************************************************************\n",
      "ITERATION: The iteration being evaluated.\n",
      "PIPELINE: A summary description of the pipeline being evaluated.\n",
      "DURATION: Time taken for the current iteration.\n",
      "METRIC: The result of computing score on the fitted pipeline.\n",
      "BEST: The best observed score thus far.\n",
      "****************************************************************************************************\n",
      "\n",
      " ITERATION   PIPELINE                                       DURATION      METRIC      BEST\n",
      "         1   MaxAbsScaler XGBoostClassifier                 0:01:00       0.8259    0.8259\n",
      "         3   MinMaxScaler RandomForest                      0:00:57       0.8459    0.8459\n",
      "         2   MinMaxScaler RandomForest                      0:01:04       0.8092    0.8459\n",
      "         6   MinMaxScaler SVM                               0:01:02       0.7124    0.8459\n",
      "         7   MaxAbsScaler GradientBoosting                  0:00:50       0.8260    0.8459\n",
      "         0   MaxAbsScaler LightGBM                          0:03:27       0.8060    0.8459\n",
      "         4   MinMaxScaler RandomForest                      0:03:24       0.8459    0.8459\n",
      "         5   StandardScalerWrapper XGBoostClassifier        0:03:39       0.8192    0.8459\n",
      "         8   SparseNormalizer LightGBM                      0:00:49       0.7360    0.8459\n",
      "        10   SparseNormalizer XGBoostClassifier             0:00:54       0.8496    0.8496\n",
      "         9   StandardScalerWrapper RandomForest             0:00:52       0.8427    0.8496\n",
      "        11   StandardScalerWrapper XGBoostClassifier        0:00:52       0.8227    0.8496\n",
      "        12   RobustScaler ExtremeRandomTrees                0:00:50       0.8528    0.8528\n",
      "        13   RobustScaler ExtremeRandomTrees                0:00:56       0.8595    0.8595\n",
      "        14   StandardScalerWrapper LightGBM                 0:01:04       0.8025    0.8595\n",
      "        15   RobustScaler RandomForest                      0:00:51       0.8328    0.8595\n",
      "        16   MinMaxScaler LightGBM                          0:00:53       0.8091    0.8595\n",
      "        17   RobustScaler LightGBM                          0:00:52       0.7828    0.8595\n",
      "        18   StandardScalerWrapper LightGBM                 0:01:02       0.8327    0.8595\n",
      "        19   StandardScalerWrapper ExtremeRandomTrees       0:00:52       0.6825    0.8595\n",
      "        20   MinMaxScaler RandomForest                      0:00:54       0.8293    0.8595\n",
      "        21   MaxAbsScaler ExtremeRandomTrees                0:00:50       0.8428    0.8595\n",
      "        22   StandardScalerWrapper LightGBM                 0:00:53       0.8327    0.8595\n",
      "        23   MaxAbsScaler LightGBM                          0:00:53       0.8294    0.8595\n",
      "        24   StandardScalerWrapper RandomForest             0:00:50       0.8124    0.8595\n",
      "        25   SparseNormalizer ExtremeRandomTrees            0:01:01       0.5319    0.8595\n",
      "        26   StandardScalerWrapper XGBoostClassifier        0:00:53       0.8127    0.8595\n",
      "        27   MaxAbsScaler RandomForest                      0:00:55       0.8024    0.8595\n",
      "        28   StandardScalerWrapper LightGBM                 0:00:56       0.8361    0.8595\n",
      "        29   StandardScalerWrapper ExtremeRandomTrees       0:00:52       0.8528    0.8595\n",
      "        30   MaxAbsScaler ExtremeRandomTrees                0:00:46       0.6791    0.8595\n",
      "        31   StandardScalerWrapper XGBoostClassifier        0:00:48       0.8394    0.8595\n",
      "        32   MaxAbsScaler LightGBM                          0:00:51       0.8360    0.8595\n",
      "        33   MaxAbsScaler LightGBM                          0:00:26          nan    0.8595\n",
      "        34                                                  0:00:20          nan    0.8595\n",
      "        35                                                  0:00:12          nan    0.8595\n",
      "        36    VotingEnsemble                                0:01:30       0.8663    0.8663\n"
     ]
    },
    {
     "data": {
      "text/plain": [
       "{'runId': 'AutoML_925f25fb-20b8-408b-a136-ef8483b71d39',\n",
       " 'target': 'capstone-cluster',\n",
       " 'status': 'Completed',\n",
       " 'startTimeUtc': '2021-02-13T06:28:52.065317Z',\n",
       " 'endTimeUtc': '2021-02-13T06:53:10.824599Z',\n",
       " 'properties': {'num_iterations': '1000',\n",
       "  'training_type': 'TrainFull',\n",
       "  'acquisition_function': 'EI',\n",
       "  'primary_metric': 'accuracy',\n",
       "  'train_split': '0',\n",
       "  'acquisition_parameter': '0',\n",
       "  'num_cross_validation': '5',\n",
       "  'target': 'capstone-cluster',\n",
       "  'AMLSettingsJsonString': '{\"path\":null,\"name\":\"automl_heart_failure_prediction\",\"subscription_id\":\"aa7cf8e8-d23f-4bce-a7b9-1f0b4e0ac8ee\",\"resource_group\":\"aml-quickstarts-138760\",\"workspace_name\":\"quick-starts-ws-138760\",\"region\":\"southcentralus\",\"compute_target\":\"capstone-cluster\",\"spark_service\":null,\"azure_service\":\"remote\",\"many_models\":false,\"pipeline_fetch_max_batch_size\":1,\"iterations\":1000,\"primary_metric\":\"accuracy\",\"task_type\":\"classification\",\"data_script\":null,\"validation_size\":0.0,\"n_cross_validations\":5,\"y_min\":null,\"y_max\":null,\"num_classes\":null,\"featurization\":\"auto\",\"_ignore_package_version_incompatibilities\":false,\"is_timeseries\":false,\"max_cores_per_iteration\":1,\"max_concurrent_iterations\":4,\"iteration_timeout_minutes\":null,\"mem_in_mb\":null,\"enforce_time_on_windows\":false,\"experiment_timeout_minutes\":30,\"experiment_exit_score\":null,\"whitelist_models\":null,\"blacklist_algos\":[\"TensorFlowLinearClassifier\",\"TensorFlowDNN\"],\"supported_models\":[\"SVM\",\"LinearSVM\",\"GradientBoosting\",\"RandomForest\",\"LightGBM\",\"ExtremeRandomTrees\",\"TensorFlowLinearClassifier\",\"BernoulliNaiveBayes\",\"XGBoostClassifier\",\"SGD\",\"AveragedPerceptronClassifier\",\"TensorFlowDNN\",\"MultinomialNaiveBayes\",\"LogisticRegression\",\"KNN\",\"DecisionTree\"],\"auto_blacklist\":true,\"blacklist_samples_reached\":false,\"exclude_nan_labels\":true,\"verbosity\":20,\"_debug_log\":\"azureml_automl.log\",\"show_warnings\":false,\"model_explainability\":true,\"service_url\":null,\"sdk_url\":null,\"sdk_packages\":null,\"enable_onnx_compatible_models\":true,\"enable_split_onnx_featurizer_estimator_models\":false,\"vm_type\":\"STANDARD_D2_V2\",\"telemetry_verbosity\":20,\"send_telemetry\":true,\"enable_dnn\":false,\"scenario\":\"SDK-1.13.0\",\"environment_label\":null,\"force_text_dnn\":false,\"enable_feature_sweeping\":false,\"enable_early_stopping\":true,\"early_stopping_n_iters\":10,\"metrics\":null,\"enable_ensembling\":true,\"enable_stack_ensembling\":false,\"ensemble_iterations\":15,\"enable_tf\":false,\"enable_subsampling\":null,\"subsample_seed\":null,\"enable_nimbusml\":false,\"enable_streaming\":false,\"force_streaming\":false,\"track_child_runs\":true,\"allowed_private_models\":[],\"label_column_name\":\"DEATH_EVENT\",\"weight_column_name\":null,\"cv_split_column_names\":null,\"enable_local_managed\":false,\"_local_managed_run_id\":null,\"cost_mode\":1,\"lag_length\":0,\"metric_operation\":\"maximize\",\"preprocess\":true}',\n",
       "  'DataPrepJsonString': '{\\\\\"training_data\\\\\": \\\\\"{\\\\\\\\\\\\\"blocks\\\\\\\\\\\\\": [{\\\\\\\\\\\\\"id\\\\\\\\\\\\\": \\\\\\\\\\\\\"40ee74ab-4efb-4f5e-a490-8a83d5b6bfff\\\\\\\\\\\\\", \\\\\\\\\\\\\"type\\\\\\\\\\\\\": \\\\\\\\\\\\\"Microsoft.DPrep.GetDatastoreFilesBlock\\\\\\\\\\\\\", \\\\\\\\\\\\\"arguments\\\\\\\\\\\\\": {\\\\\\\\\\\\\"datastores\\\\\\\\\\\\\": [{\\\\\\\\\\\\\"datastoreName\\\\\\\\\\\\\": \\\\\\\\\\\\\"workspaceblobstore\\\\\\\\\\\\\", \\\\\\\\\\\\\"path\\\\\\\\\\\\\": \\\\\\\\\\\\\"UI/02-13-2021_041807_UTC/heart_failure_clinical_records_dataset.csv\\\\\\\\\\\\\", \\\\\\\\\\\\\"resourceGroup\\\\\\\\\\\\\": \\\\\\\\\\\\\"aml-quickstarts-138760\\\\\\\\\\\\\", \\\\\\\\\\\\\"subscription\\\\\\\\\\\\\": \\\\\\\\\\\\\"aa7cf8e8-d23f-4bce-a7b9-1f0b4e0ac8ee\\\\\\\\\\\\\", \\\\\\\\\\\\\"workspaceName\\\\\\\\\\\\\": \\\\\\\\\\\\\"quick-starts-ws-138760\\\\\\\\\\\\\"}]}, \\\\\\\\\\\\\"localData\\\\\\\\\\\\\": {}, \\\\\\\\\\\\\"isEnabled\\\\\\\\\\\\\": true, \\\\\\\\\\\\\"name\\\\\\\\\\\\\": null, \\\\\\\\\\\\\"annotation\\\\\\\\\\\\\": null}, {\\\\\\\\\\\\\"id\\\\\\\\\\\\\": \\\\\\\\\\\\\"6a3a9c23-3694-4786-a32b-65d2253dd96d\\\\\\\\\\\\\", \\\\\\\\\\\\\"type\\\\\\\\\\\\\": \\\\\\\\\\\\\"Microsoft.DPrep.ParseDelimitedBlock\\\\\\\\\\\\\", \\\\\\\\\\\\\"arguments\\\\\\\\\\\\\": {\\\\\\\\\\\\\"columnHeadersMode\\\\\\\\\\\\\": 1, \\\\\\\\\\\\\"fileEncoding\\\\\\\\\\\\\": 0, \\\\\\\\\\\\\"handleQuotedLineBreaks\\\\\\\\\\\\\": false, \\\\\\\\\\\\\"preview\\\\\\\\\\\\\": false, \\\\\\\\\\\\\"separator\\\\\\\\\\\\\": \\\\\\\\\\\\\",\\\\\\\\\\\\\", \\\\\\\\\\\\\"skipRows\\\\\\\\\\\\\": 0, \\\\\\\\\\\\\"skipRowsMode\\\\\\\\\\\\\": 0}, \\\\\\\\\\\\\"localData\\\\\\\\\\\\\": {}, \\\\\\\\\\\\\"isEnabled\\\\\\\\\\\\\": true, \\\\\\\\\\\\\"name\\\\\\\\\\\\\": null, \\\\\\\\\\\\\"annotation\\\\\\\\\\\\\": null}, {\\\\\\\\\\\\\"id\\\\\\\\\\\\\": \\\\\\\\\\\\\"d895aece-1636-4103-bbe8-4a4ced922796\\\\\\\\\\\\\", \\\\\\\\\\\\\"type\\\\\\\\\\\\\": \\\\\\\\\\\\\"Microsoft.DPrep.DropColumnsBlock\\\\\\\\\\\\\", \\\\\\\\\\\\\"arguments\\\\\\\\\\\\\": {\\\\\\\\\\\\\"columns\\\\\\\\\\\\\": {\\\\\\\\\\\\\"type\\\\\\\\\\\\\": 0, \\\\\\\\\\\\\"details\\\\\\\\\\\\\": {\\\\\\\\\\\\\"selectedColumns\\\\\\\\\\\\\": [\\\\\\\\\\\\\"Path\\\\\\\\\\\\\"]}}}, \\\\\\\\\\\\\"localData\\\\\\\\\\\\\": {}, \\\\\\\\\\\\\"isEnabled\\\\\\\\\\\\\": true, \\\\\\\\\\\\\"name\\\\\\\\\\\\\": null, \\\\\\\\\\\\\"annotation\\\\\\\\\\\\\": null}, {\\\\\\\\\\\\\"id\\\\\\\\\\\\\": \\\\\\\\\\\\\"da6e6f8d-249e-4be5-95a5-8077512f0e78\\\\\\\\\\\\\", \\\\\\\\\\\\\"type\\\\\\\\\\\\\": \\\\\\\\\\\\\"Microsoft.DPrep.SetColumnTypesBlock\\\\\\\\\\\\\", \\\\\\\\\\\\\"arguments\\\\\\\\\\\\\": {\\\\\\\\\\\\\"columnConversion\\\\\\\\\\\\\": [{\\\\\\\\\\\\\"column\\\\\\\\\\\\\": {\\\\\\\\\\\\\"type\\\\\\\\\\\\\": 2, \\\\\\\\\\\\\"details\\\\\\\\\\\\\": {\\\\\\\\\\\\\"selectedColumn\\\\\\\\\\\\\": \\\\\\\\\\\\\"Path\\\\\\\\\\\\\"}}, \\\\\\\\\\\\\"typeProperty\\\\\\\\\\\\\": 0}, {\\\\\\\\\\\\\"column\\\\\\\\\\\\\": {\\\\\\\\\\\\\"type\\\\\\\\\\\\\": 2, \\\\\\\\\\\\\"details\\\\\\\\\\\\\": {\\\\\\\\\\\\\"selectedColumn\\\\\\\\\\\\\": \\\\\\\\\\\\\"age\\\\\\\\\\\\\"}}, \\\\\\\\\\\\\"typeProperty\\\\\\\\\\\\\": 3}, {\\\\\\\\\\\\\"column\\\\\\\\\\\\\": {\\\\\\\\\\\\\"type\\\\\\\\\\\\\": 2, \\\\\\\\\\\\\"details\\\\\\\\\\\\\": {\\\\\\\\\\\\\"selectedColumn\\\\\\\\\\\\\": \\\\\\\\\\\\\"anaemia\\\\\\\\\\\\\"}}, \\\\\\\\\\\\\"typeProperty\\\\\\\\\\\\\": 2}, {\\\\\\\\\\\\\"column\\\\\\\\\\\\\": {\\\\\\\\\\\\\"type\\\\\\\\\\\\\": 2, \\\\\\\\\\\\\"details\\\\\\\\\\\\\": {\\\\\\\\\\\\\"selectedColumn\\\\\\\\\\\\\": \\\\\\\\\\\\\"creatinine_phosphokinase\\\\\\\\\\\\\"}}, \\\\\\\\\\\\\"typeProperty\\\\\\\\\\\\\": 2}, {\\\\\\\\\\\\\"column\\\\\\\\\\\\\": {\\\\\\\\\\\\\"type\\\\\\\\\\\\\": 2, \\\\\\\\\\\\\"details\\\\\\\\\\\\\": {\\\\\\\\\\\\\"selectedColumn\\\\\\\\\\\\\": \\\\\\\\\\\\\"diabetes\\\\\\\\\\\\\"}}, \\\\\\\\\\\\\"typeProperty\\\\\\\\\\\\\": 2}, {\\\\\\\\\\\\\"column\\\\\\\\\\\\\": {\\\\\\\\\\\\\"type\\\\\\\\\\\\\": 2, \\\\\\\\\\\\\"details\\\\\\\\\\\\\": {\\\\\\\\\\\\\"selectedColumn\\\\\\\\\\\\\": \\\\\\\\\\\\\"ejection_fraction\\\\\\\\\\\\\"}}, \\\\\\\\\\\\\"typeProperty\\\\\\\\\\\\\": 2}, {\\\\\\\\\\\\\"column\\\\\\\\\\\\\": {\\\\\\\\\\\\\"type\\\\\\\\\\\\\": 2, \\\\\\\\\\\\\"details\\\\\\\\\\\\\": {\\\\\\\\\\\\\"selectedColumn\\\\\\\\\\\\\": \\\\\\\\\\\\\"high_blood_pressure\\\\\\\\\\\\\"}}, \\\\\\\\\\\\\"typeProperty\\\\\\\\\\\\\": 2}, {\\\\\\\\\\\\\"column\\\\\\\\\\\\\": {\\\\\\\\\\\\\"type\\\\\\\\\\\\\": 2, \\\\\\\\\\\\\"details\\\\\\\\\\\\\": {\\\\\\\\\\\\\"selectedColumn\\\\\\\\\\\\\": \\\\\\\\\\\\\"platelets\\\\\\\\\\\\\"}}, \\\\\\\\\\\\\"typeProperty\\\\\\\\\\\\\": 3}, {\\\\\\\\\\\\\"column\\\\\\\\\\\\\": {\\\\\\\\\\\\\"type\\\\\\\\\\\\\": 2, \\\\\\\\\\\\\"details\\\\\\\\\\\\\": {\\\\\\\\\\\\\"selectedColumn\\\\\\\\\\\\\": \\\\\\\\\\\\\"serum_creatinine\\\\\\\\\\\\\"}}, \\\\\\\\\\\\\"typeProperty\\\\\\\\\\\\\": 3}, {\\\\\\\\\\\\\"column\\\\\\\\\\\\\": {\\\\\\\\\\\\\"type\\\\\\\\\\\\\": 2, \\\\\\\\\\\\\"details\\\\\\\\\\\\\": {\\\\\\\\\\\\\"selectedColumn\\\\\\\\\\\\\": \\\\\\\\\\\\\"serum_sodium\\\\\\\\\\\\\"}}, \\\\\\\\\\\\\"typeProperty\\\\\\\\\\\\\": 2}, {\\\\\\\\\\\\\"column\\\\\\\\\\\\\": {\\\\\\\\\\\\\"type\\\\\\\\\\\\\": 2, \\\\\\\\\\\\\"details\\\\\\\\\\\\\": {\\\\\\\\\\\\\"selectedColumn\\\\\\\\\\\\\": \\\\\\\\\\\\\"sex\\\\\\\\\\\\\"}}, \\\\\\\\\\\\\"typeProperty\\\\\\\\\\\\\": 2}, {\\\\\\\\\\\\\"column\\\\\\\\\\\\\": {\\\\\\\\\\\\\"type\\\\\\\\\\\\\": 2, \\\\\\\\\\\\\"details\\\\\\\\\\\\\": {\\\\\\\\\\\\\"selectedColumn\\\\\\\\\\\\\": \\\\\\\\\\\\\"smoking\\\\\\\\\\\\\"}}, \\\\\\\\\\\\\"typeProperty\\\\\\\\\\\\\": 2}, {\\\\\\\\\\\\\"column\\\\\\\\\\\\\": {\\\\\\\\\\\\\"type\\\\\\\\\\\\\": 2, \\\\\\\\\\\\\"details\\\\\\\\\\\\\": {\\\\\\\\\\\\\"selectedColumn\\\\\\\\\\\\\": \\\\\\\\\\\\\"time\\\\\\\\\\\\\"}}, \\\\\\\\\\\\\"typeProperty\\\\\\\\\\\\\": 2}, {\\\\\\\\\\\\\"column\\\\\\\\\\\\\": {\\\\\\\\\\\\\"type\\\\\\\\\\\\\": 2, \\\\\\\\\\\\\"details\\\\\\\\\\\\\": {\\\\\\\\\\\\\"selectedColumn\\\\\\\\\\\\\": \\\\\\\\\\\\\"DEATH_EVENT\\\\\\\\\\\\\"}}, \\\\\\\\\\\\\"typeProperty\\\\\\\\\\\\\": 2}]}, \\\\\\\\\\\\\"localData\\\\\\\\\\\\\": {}, \\\\\\\\\\\\\"isEnabled\\\\\\\\\\\\\": true, \\\\\\\\\\\\\"name\\\\\\\\\\\\\": null, \\\\\\\\\\\\\"annotation\\\\\\\\\\\\\": null}], \\\\\\\\\\\\\"inspectors\\\\\\\\\\\\\": [], \\\\\\\\\\\\\"meta\\\\\\\\\\\\\": {\\\\\\\\\\\\\"savedDatasetId\\\\\\\\\\\\\": \\\\\\\\\\\\\"53a96e41-69a5-40a5-94c7-3c95c28e8884\\\\\\\\\\\\\", \\\\\\\\\\\\\"datasetType\\\\\\\\\\\\\": \\\\\\\\\\\\\"tabular\\\\\\\\\\\\\", \\\\\\\\\\\\\"subscriptionId\\\\\\\\\\\\\": \\\\\\\\\\\\\"aa7cf8e8-d23f-4bce-a7b9-1f0b4e0ac8ee\\\\\\\\\\\\\", \\\\\\\\\\\\\"workspaceId\\\\\\\\\\\\\": \\\\\\\\\\\\\"e8a2dd03-e9d1-4961-8956-eb9893fb28c0\\\\\\\\\\\\\", \\\\\\\\\\\\\"workspaceLocation\\\\\\\\\\\\\": \\\\\\\\\\\\\"southcentralus\\\\\\\\\\\\\"}}\\\\\", \\\\\"activities\\\\\": 0}',\n",
       "  'EnableSubsampling': None,\n",
       "  'runTemplate': 'AutoML',\n",
       "  'azureml.runsource': 'automl',\n",
       "  'display_task_type': 'classification',\n",
       "  'dependencies_versions': '{\"azureml-widgets\": \"1.20.0\", \"azureml-train\": \"1.20.0\", \"azureml-train-restclients-hyperdrive\": \"1.20.0\", \"azureml-train-core\": \"1.20.0\", \"azureml-train-automl\": \"1.20.0\", \"azureml-train-automl-runtime\": \"1.20.0\", \"azureml-train-automl-client\": \"1.20.0\", \"azureml-tensorboard\": \"1.20.0\", \"azureml-telemetry\": \"1.20.0\", \"azureml-sdk\": \"1.20.0\", \"azureml-samples\": \"0+unknown\", \"azureml-pipeline\": \"1.20.0\", \"azureml-pipeline-steps\": \"1.20.0\", \"azureml-pipeline-core\": \"1.20.0\", \"azureml-opendatasets\": \"1.20.0\", \"azureml-model-management-sdk\": \"1.0.1b6.post1\", \"azureml-mlflow\": \"1.20.0.post1\", \"azureml-interpret\": \"1.20.0\", \"azureml-explain-model\": \"1.20.0\", \"azureml-defaults\": \"1.20.0\", \"azureml-dataset-runtime\": \"1.20.0\", \"azureml-dataprep\": \"2.7.3\", \"azureml-dataprep-rslex\": \"1.5.0\", \"azureml-dataprep-native\": \"27.0.0\", \"azureml-datadrift\": \"1.20.0\", \"azureml-core\": \"1.20.0\", \"azureml-contrib-services\": \"1.20.0\", \"azureml-contrib-server\": \"1.20.0\", \"azureml-contrib-reinforcementlearning\": \"1.20.0\", \"azureml-contrib-pipeline-steps\": \"1.20.0\", \"azureml-contrib-notebook\": \"1.20.0\", \"azureml-contrib-interpret\": \"1.20.0\", \"azureml-contrib-gbdt\": \"1.20.0\", \"azureml-contrib-fairness\": \"1.20.0\", \"azureml-contrib-dataset\": \"1.20.0\", \"azureml-cli-common\": \"1.20.0\", \"azureml-automl-runtime\": \"1.20.0\", \"azureml-automl-core\": \"1.20.0\", \"azureml-accel-models\": \"1.20.0\"}',\n",
       "  '_aml_system_scenario_identification': 'Remote.Parent',\n",
       "  'ClientType': 'SDK',\n",
       "  'environment_cpu_name': 'AzureML-AutoML',\n",
       "  'environment_cpu_label': 'prod',\n",
       "  'environment_gpu_name': 'AzureML-AutoML-GPU',\n",
       "  'environment_gpu_label': 'prod',\n",
       "  'root_attribution': 'automl',\n",
       "  'attribution': 'AutoML',\n",
       "  'Orchestrator': 'AutoML',\n",
       "  'CancelUri': 'https://southcentralus.experiments.azureml.net/jasmine/v1.0/subscriptions/aa7cf8e8-d23f-4bce-a7b9-1f0b4e0ac8ee/resourceGroups/aml-quickstarts-138760/providers/Microsoft.MachineLearningServices/workspaces/quick-starts-ws-138760/experimentids/a72b5d05-8c6e-4f1a-a13b-471b8a34b241/cancel/AutoML_925f25fb-20b8-408b-a136-ef8483b71d39',\n",
       "  'ClientSdkVersion': '1.21.0',\n",
       "  'snapshotId': '00000000-0000-0000-0000-000000000000',\n",
       "  'SetupRunId': 'AutoML_925f25fb-20b8-408b-a136-ef8483b71d39_setup',\n",
       "  'SetupRunContainerId': 'dcid.AutoML_925f25fb-20b8-408b-a136-ef8483b71d39_setup',\n",
       "  'FeaturizationRunJsonPath': 'featurizer_container.json',\n",
       "  'FeaturizationRunId': 'AutoML_925f25fb-20b8-408b-a136-ef8483b71d39_featurize',\n",
       "  'ProblemInfoJsonString': '{\"dataset_num_categorical\": 0, \"is_sparse\": false, \"subsampling\": false, \"dataset_classes\": 2, \"dataset_features\": 12, \"dataset_samples\": 299, \"single_frequency_class_detected\": false}',\n",
       "  'ModelExplainRunId': 'AutoML_925f25fb-20b8-408b-a136-ef8483b71d39_ModelExplain'},\n",
       " 'inputDatasets': [{'dataset': {'id': '53a96e41-69a5-40a5-94c7-3c95c28e8884'}, 'consumptionDetails': {'type': 'RunInput', 'inputName': 'training_data', 'mechanism': 'Direct'}}],\n",
       " 'outputDatasets': [],\n",
       " 'logFiles': {},\n",
       " 'submittedBy': 'ODL_User 138760'}"
      ]
     },
     "execution_count": 10,
     "metadata": {},
     "output_type": "execute_result"
    }
   ],
   "source": [
    "from azureml.widgets import RunDetails\n",
    "RunDetails(remote_run).show()\n",
    "\n",
    "remote_run.wait_for_completion(show_output=True)"
   ]
  },
  {
   "cell_type": "markdown",
   "metadata": {},
   "source": [
    "## Best Model\n",
    "\n",
    "Get the best model from the automl experiments and display all the properties of the model."
   ]
  },
  {
   "cell_type": "code",
   "execution_count": null,
   "metadata": {
    "gather": {
     "logged": 1612988291119
    },
    "jupyter": {
     "outputs_hidden": false,
     "source_hidden": false
    },
    "nteract": {
     "transient": {
      "deleting": false
     }
    }
   },
   "outputs": [],
   "source": [
    "automl_best_run, automl_fitted_model = remote_run.get_output()"
   ]
  },
  {
   "cell_type": "code",
   "execution_count": null,
   "metadata": {
    "gather": {
     "logged": 1612982851959
    }
   },
   "outputs": [],
   "source": [
    "automl_best_run.get_metrics()"
   ]
  },
  {
   "cell_type": "code",
   "execution_count": null,
   "metadata": {
    "gather": {
     "logged": 1612982864390
    }
   },
   "outputs": [],
   "source": [
    "print(automl_best_run)"
   ]
  },
  {
   "cell_type": "code",
   "execution_count": null,
   "metadata": {
    "gather": {
     "logged": 1612982869417
    }
   },
   "outputs": [],
   "source": [
    "print(automl_fitted_model)"
   ]
  },
  {
   "cell_type": "code",
   "execution_count": null,
   "metadata": {
    "gather": {
     "logged": 1612982878939
    }
   },
   "outputs": [],
   "source": [
    "# Retrieve and save your best automl model.\n",
    "\n",
    "os.makedirs('output', exist_ok=True)\n",
    "\n",
    "joblib.dump(value = automl_fitted_model, filename = 'output/best-automl.pkl')\n",
    "\n",
    "# from azureml.automl.runtime.onnx_convert import OnnxConverter\n",
    "\n",
    "# automl_best_run_onnx, automl_fitted_model_onnx = remote_run.get_output(return_onnx_model=True)\n",
    "\n",
    "# OnnxConverter.save_onnx_model(automl_fitted_model_onnx, './outputs/best_automl_model.onnx')"
   ]
  },
  {
   "cell_type": "code",
   "execution_count": null,
   "metadata": {
    "gather": {
     "logged": 1612728442620
    },
    "jupyter": {
     "outputs_hidden": false,
     "source_hidden": false
    },
    "nteract": {
     "transient": {
      "deleting": false
     }
    }
   },
   "outputs": [],
   "source": [
    "model = Model.register(workspace = ws,\n",
    "                        model_path = 'output/best-automl.pkl',\n",
    "                        model_name = 'automl-best-model')\n",
    "\n",
    "automl_best_run.download_file(constants.CONDA_ENV_FILE_PATH, 'my-conda-env.yml')"
   ]
  },
  {
   "cell_type": "markdown",
   "metadata": {},
   "source": [
    "## Model Deployment\n",
    "\n",
    "Register the model, create an inference config and deploy the model as a web service."
   ]
  },
  {
   "cell_type": "code",
   "execution_count": null,
   "metadata": {
    "gather": {
     "logged": 1612729545664
    }
   },
   "outputs": [],
   "source": [
    "env = Environment.from_conda_specification('my-conda-env', 'my-conda-env.yml')\n",
    "\n",
    "inference_config = InferenceConfig(entry_script='score.py', environment=env)\n",
    "\n",
    "aci_config = AciWebservice.deploy_configuration(cpu_cores = 1, \n",
    "                                                memory_gb = 1,\n",
    "                                                auth_enabled = True, \n",
    "                                                enable_app_insights = True,\n",
    "                                                tags = {'name':'Heart failure prediction'},\n",
    "                                                description='Heart failure prediction model')\n",
    "\n",
    "service = model.deploy(workspace = ws, \n",
    "                       name = 'predict-heart-failure', \n",
    "                       models = [model], \n",
    "                       inference_config = inference_config,\n",
    "                       deployment_config = aci_config)\n",
    "\n",
    "service.wait_for_deployment(show_output=True)"
   ]
  },
  {
   "cell_type": "code",
   "execution_count": null,
   "metadata": {
    "gather": {
     "logged": 1612729545977
    }
   },
   "outputs": [],
   "source": [
    "print(service.state)"
   ]
  },
  {
   "cell_type": "code",
   "execution_count": null,
   "metadata": {
    "gather": {
     "logged": 1612729552754
    }
   },
   "outputs": [],
   "source": [
    "print(\"scoring URI: \" + service.scoring_uri)\n",
    "\n",
    "print(\"Swagger URI: \" + service.swagger_uri)\n",
    "\n",
    "print(\"Authetication Key: \" + service.get_keys()[0])"
   ]
  },
  {
   "cell_type": "markdown",
   "metadata": {
    "collapsed": true,
    "gather": {
     "logged": 1598431657736
    },
    "jupyter": {
     "outputs_hidden": false,
     "source_hidden": false
    },
    "nteract": {
     "transient": {
      "deleting": false
     }
    }
   },
   "source": [
    "Send a request to the web service you deployed to test it."
   ]
  },
  {
   "cell_type": "code",
   "execution_count": null,
   "metadata": {
    "gather": {
     "logged": 1612729826957
    },
    "jupyter": {
     "outputs_hidden": false,
     "source_hidden": false
    },
    "nteract": {
     "transient": {
      "deleting": false
     }
    }
   },
   "outputs": [],
   "source": [
    "import requests\n",
    "import json\n",
    "\n",
    "scoringuri = service.scoring_uri\n",
    "key = service.get_keys()[0]\n",
    "\n",
    "data= { \"data\":\n",
    "       [\n",
    "           {\n",
    "               'age': 74,\n",
    "               'anaemia': 1,\n",
    "               'creatinine_phosphokinase': 1618,\n",
    "               'diabetes': 1,\n",
    "               'ejection_fraction': 27,\n",
    "               'high_blood_pressure': 1,\n",
    "               'platelets': 275095,\n",
    "               'serum_creatinine': 2.3,\n",
    "               'serum_sodium': 133,\n",
    "               'sex': 0,\n",
    "               'smoking': 0,\n",
    "               'time': 9\n",
    "               \n",
    "           },\n",
    "           {\n",
    "               'age': 46,\n",
    "               'anaemia': 0,\n",
    "               'creatinine_phosphokinase': 800,\n",
    "               'diabetes': 0,\n",
    "               'ejection_fraction': 48,\n",
    "               'high_blood_pressure': 1,\n",
    "               'platelets': 259000,\n",
    "               'serum_creatinine': 1.79,\n",
    "               'serum_sodium': 135,\n",
    "               'sex': 1,\n",
    "               'smoking': 0,\n",
    "               'time': 107\n",
    "           }\n",
    "       ]\n",
    "    }\n",
    "input_data = json.dumps(data)\n",
    "\n",
    "headers = {'Content-Type': 'application/json'}\n",
    "headers['Authorization'] = f'Bearer {key}'\n",
    "\n",
    "response = requests.post(scoringuri, input_data, headers = headers)\n",
    "print(response.text)"
   ]
  },
  {
   "cell_type": "markdown",
   "metadata": {
    "collapsed": true,
    "gather": {
     "logged": 1598432765711
    },
    "jupyter": {
     "outputs_hidden": false,
     "source_hidden": false
    },
    "nteract": {
     "transient": {
      "deleting": false
     }
    }
   },
   "source": [
    "Print the logs of the web service and delete the service"
   ]
  },
  {
   "cell_type": "code",
   "execution_count": null,
   "metadata": {
    "gather": {
     "logged": 1612729854945
    },
    "jupyter": {
     "outputs_hidden": false,
     "source_hidden": false
    },
    "nteract": {
     "transient": {
      "deleting": false
     }
    }
   },
   "outputs": [],
   "source": [
    "print(service.get_logs())"
   ]
  },
  {
   "cell_type": "code",
   "execution_count": null,
   "metadata": {},
   "outputs": [],
   "source": [
    "service.delete()"
   ]
  },
  {
   "cell_type": "code",
   "execution_count": null,
   "metadata": {},
   "outputs": [],
   "source": []
  }
 ],
 "metadata": {
  "kernel_info": {
   "name": "python3"
  },
  "kernelspec": {
   "display_name": "Python 3",
   "language": "python",
   "name": "python3"
  },
  "language_info": {
   "codemirror_mode": {
    "name": "ipython",
    "version": 3
   },
   "file_extension": ".py",
   "mimetype": "text/x-python",
   "name": "python",
   "nbconvert_exporter": "python",
   "pygments_lexer": "ipython3",
   "version": "3.6.9"
  },
  "nteract": {
   "version": "nteract-front-end@1.0.0"
  }
 },
 "nbformat": 4,
 "nbformat_minor": 2
}
