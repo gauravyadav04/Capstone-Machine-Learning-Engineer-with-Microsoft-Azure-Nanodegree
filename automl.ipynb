{
 "cells": [
  {
   "cell_type": "markdown",
   "metadata": {},
   "source": [
    "# Automated ML\n",
    "\n",
    "Import Dependencies. In the cell below, import all the dependencies that you will need to complete the project."
   ]
  },
  {
   "cell_type": "code",
   "execution_count": 1,
   "metadata": {
    "gather": {
     "logged": 1613060687506
    },
    "jupyter": {
     "outputs_hidden": false,
     "source_hidden": false
    },
    "nteract": {
     "transient": {
      "deleting": false
     }
    }
   },
   "outputs": [
    {
     "name": "stdout",
     "output_type": "stream",
     "text": [
      "SDK version: 1.20.0\n"
     ]
    }
   ],
   "source": [
    "import logging\n",
    "import os\n",
    "import csv\n",
    "\n",
    "from matplotlib import pyplot as plt\n",
    "import numpy as np\n",
    "import pandas as pd\n",
    "from sklearn import datasets\n",
    "import pkg_resources\n",
    "\n",
    "import azureml.core\n",
    "from azureml.core.model import Model\n",
    "from azureml.core.experiment import Experiment\n",
    "from azureml.core.workspace import Workspace\n",
    "from azureml.train.automl import AutoMLConfig\n",
    "from azureml.core.dataset import Dataset\n",
    "\n",
    "from azureml.pipeline.steps import AutoMLStep\n",
    "from azureml.automl.core.shared import constants\n",
    "from azureml.core.environment import Environment\n",
    "from azureml.core.model import InferenceConfig\n",
    "from azureml.core.webservice import LocalWebservice, AciWebservice\n",
    "from azureml.core.environment import CondaDependencies\n",
    "\n",
    "\n",
    "import joblib\n",
    "\n",
    "# Check core SDK version number\n",
    "print(\"SDK version:\", azureml.core.VERSION)"
   ]
  },
  {
   "cell_type": "markdown",
   "metadata": {},
   "source": [
    "## Dataset - Heart Failure Clinical Records Dataset\n",
    "\n",
    "### Overview\n",
    "Cardiovascular diseases (CVDs) are the number 1 cause of death globally, taking an estimated 17.9 million lives each year, which accounts for 31% of all deaths worlwide.\n",
    "Heart failure is a common event caused by CVDs and this dataset contains 12 features that can be used to predict mortality by heart failure.\n",
    "\n",
    "Most cardiovascular diseases can be prevented by addressing behavioural risk factors such as tobacco use, unhealthy diet and obesity, physical inactivity and harmful use of alcohol using population-wide strategies.\n",
    "\n",
    "People with cardiovascular disease or who are at high cardiovascular risk (due to the presence of one or more risk factors such as hypertension, diabetes, hyperlipidaemia or already established disease) need early detection and management wherein a machine learning model can be of great help.\n",
    "\n",
    "### Objective\n",
    "Train a model to predict whether the person with Cardiovascular disease will survive or not"
   ]
  },
  {
   "cell_type": "code",
   "execution_count": 2,
   "metadata": {
    "gather": {
     "logged": 1613060827819
    },
    "jupyter": {
     "outputs_hidden": false,
     "source_hidden": false
    },
    "nteract": {
     "transient": {
      "deleting": false
     }
    }
   },
   "outputs": [
    {
     "name": "stdout",
     "output_type": "stream",
     "text": [
      "quick-starts-ws-138866\n",
      "aml-quickstarts-138866\n",
      "southcentralus\n",
      "d4ad7261-832d-46b2-b093-22156001df5b\n"
     ]
    }
   ],
   "source": [
    "# Initialize Workspace\n",
    "ws = Workspace.from_config()\n",
    "print(ws.name, ws.resource_group, ws.location, ws.subscription_id, sep = '\\n')"
   ]
  },
  {
   "cell_type": "code",
   "execution_count": 3,
   "metadata": {
    "gather": {
     "logged": 1613060827819
    },
    "jupyter": {
     "outputs_hidden": false,
     "source_hidden": false
    },
    "nteract": {
     "transient": {
      "deleting": false
     }
    }
   },
   "outputs": [],
   "source": [
    "# choose a name for experiment\n",
    "experiment_name = 'automl_heart_failure_prediction'\n",
    "\n",
    "if \"automl\" not in os.listdir():\n",
    "    os.mkdir(\"./automl\")\n",
    "\n",
    "project_folder = './automl'\n",
    "\n",
    "experiment=Experiment(ws, experiment_name)"
   ]
  },
  {
   "cell_type": "code",
   "execution_count": 4,
   "metadata": {
    "gather": {
     "logged": 1613060831954
    },
    "jupyter": {
     "outputs_hidden": false,
     "source_hidden": false
    },
    "nteract": {
     "transient": {
      "deleting": false
     }
    }
   },
   "outputs": [
    {
     "name": "stdout",
     "output_type": "stream",
     "text": [
      "Workspace name: quick-starts-ws-138866\n",
      "Azure region: southcentralus\n",
      "Subscription id: d4ad7261-832d-46b2-b093-22156001df5b\n",
      "Resource group: aml-quickstarts-138866\n"
     ]
    }
   ],
   "source": [
    "print('Workspace name: ' + ws.name, \n",
    "      'Azure region: ' + ws.location, \n",
    "      'Subscription id: ' + ws.subscription_id, \n",
    "      'Resource group: ' + ws.resource_group, sep = '\\n')"
   ]
  },
  {
   "cell_type": "markdown",
   "metadata": {},
   "source": [
    "## Create or Attach an AmlCompute cluster"
   ]
  },
  {
   "cell_type": "code",
   "execution_count": 5,
   "metadata": {
    "gather": {
     "logged": 1613062364220
    }
   },
   "outputs": [
    {
     "name": "stdout",
     "output_type": "stream",
     "text": [
      "Creating\n",
      "Succeeded................................................................................................................\n",
      "AmlCompute wait for completion finished\n",
      "\n",
      "Wait timeout has been reached\n",
      "Current provisioning state of AmlCompute is \"Succeeded\" and current node count is \"0\"\n"
     ]
    }
   ],
   "source": [
    "from azureml.core.compute import AmlCompute\n",
    "from azureml.core.compute import ComputeTarget\n",
    "from azureml.core.compute_target import ComputeTargetException\n",
    "\n",
    "compute_cluster_name = \"capstone-cluster\"\n",
    "\n",
    "# Verify that cluster does not exist already\n",
    "try:\n",
    "    compute_target = ComputeTarget(workspace = ws, name = compute_cluster_name)\n",
    "    print('Found existing cluster, use it.')\n",
    "    \n",
    "except ComputeTargetException:\n",
    "    compute_config = AmlCompute.provisioning_configuration(vm_size='STANDARD_D2_V2',# for GPU, use \"STANDARD_NC6\"\n",
    "                                                           #vm_priority = 'lowpriority', # optional\n",
    "                                                           max_nodes=4)\n",
    "    compute_target = ComputeTarget.create(ws, compute_cluster_name, compute_config)\n",
    "    \n",
    "    compute_target.wait_for_completion(show_output=True, min_node_count = 1, timeout_in_minutes = 10)\n",
    "# For a more detailed view of current AmlCompute status, use get_status()."
   ]
  },
  {
   "cell_type": "markdown",
   "metadata": {},
   "source": [
    "## Data"
   ]
  },
  {
   "cell_type": "code",
   "execution_count": 6,
   "metadata": {
    "gather": {
     "logged": 1613062414138
    }
   },
   "outputs": [
    {
     "data": {
      "text/html": [
       "<div>\n",
       "<style scoped>\n",
       "    .dataframe tbody tr th:only-of-type {\n",
       "        vertical-align: middle;\n",
       "    }\n",
       "\n",
       "    .dataframe tbody tr th {\n",
       "        vertical-align: top;\n",
       "    }\n",
       "\n",
       "    .dataframe thead th {\n",
       "        text-align: right;\n",
       "    }\n",
       "</style>\n",
       "<table border=\"1\" class=\"dataframe\">\n",
       "  <thead>\n",
       "    <tr style=\"text-align: right;\">\n",
       "      <th></th>\n",
       "      <th>age</th>\n",
       "      <th>anaemia</th>\n",
       "      <th>creatinine_phosphokinase</th>\n",
       "      <th>diabetes</th>\n",
       "      <th>ejection_fraction</th>\n",
       "      <th>high_blood_pressure</th>\n",
       "      <th>platelets</th>\n",
       "      <th>serum_creatinine</th>\n",
       "      <th>serum_sodium</th>\n",
       "      <th>sex</th>\n",
       "      <th>smoking</th>\n",
       "      <th>time</th>\n",
       "      <th>DEATH_EVENT</th>\n",
       "    </tr>\n",
       "  </thead>\n",
       "  <tbody>\n",
       "    <tr>\n",
       "      <th>0</th>\n",
       "      <td>75.0</td>\n",
       "      <td>0</td>\n",
       "      <td>582</td>\n",
       "      <td>0</td>\n",
       "      <td>20</td>\n",
       "      <td>1</td>\n",
       "      <td>265000.00</td>\n",
       "      <td>1.9</td>\n",
       "      <td>130</td>\n",
       "      <td>1</td>\n",
       "      <td>0</td>\n",
       "      <td>4</td>\n",
       "      <td>1</td>\n",
       "    </tr>\n",
       "    <tr>\n",
       "      <th>1</th>\n",
       "      <td>55.0</td>\n",
       "      <td>0</td>\n",
       "      <td>7861</td>\n",
       "      <td>0</td>\n",
       "      <td>38</td>\n",
       "      <td>0</td>\n",
       "      <td>263358.03</td>\n",
       "      <td>1.1</td>\n",
       "      <td>136</td>\n",
       "      <td>1</td>\n",
       "      <td>0</td>\n",
       "      <td>6</td>\n",
       "      <td>1</td>\n",
       "    </tr>\n",
       "    <tr>\n",
       "      <th>2</th>\n",
       "      <td>65.0</td>\n",
       "      <td>0</td>\n",
       "      <td>146</td>\n",
       "      <td>0</td>\n",
       "      <td>20</td>\n",
       "      <td>0</td>\n",
       "      <td>162000.00</td>\n",
       "      <td>1.3</td>\n",
       "      <td>129</td>\n",
       "      <td>1</td>\n",
       "      <td>1</td>\n",
       "      <td>7</td>\n",
       "      <td>1</td>\n",
       "    </tr>\n",
       "    <tr>\n",
       "      <th>3</th>\n",
       "      <td>50.0</td>\n",
       "      <td>1</td>\n",
       "      <td>111</td>\n",
       "      <td>0</td>\n",
       "      <td>20</td>\n",
       "      <td>0</td>\n",
       "      <td>210000.00</td>\n",
       "      <td>1.9</td>\n",
       "      <td>137</td>\n",
       "      <td>1</td>\n",
       "      <td>0</td>\n",
       "      <td>7</td>\n",
       "      <td>1</td>\n",
       "    </tr>\n",
       "    <tr>\n",
       "      <th>4</th>\n",
       "      <td>65.0</td>\n",
       "      <td>1</td>\n",
       "      <td>160</td>\n",
       "      <td>1</td>\n",
       "      <td>20</td>\n",
       "      <td>0</td>\n",
       "      <td>327000.00</td>\n",
       "      <td>2.7</td>\n",
       "      <td>116</td>\n",
       "      <td>0</td>\n",
       "      <td>0</td>\n",
       "      <td>8</td>\n",
       "      <td>1</td>\n",
       "    </tr>\n",
       "  </tbody>\n",
       "</table>\n",
       "</div>"
      ],
      "text/plain": [
       "    age  anaemia  creatinine_phosphokinase  diabetes  ejection_fraction  \\\n",
       "0  75.0        0                       582         0                 20   \n",
       "1  55.0        0                      7861         0                 38   \n",
       "2  65.0        0                       146         0                 20   \n",
       "3  50.0        1                       111         0                 20   \n",
       "4  65.0        1                       160         1                 20   \n",
       "\n",
       "   high_blood_pressure  platelets  serum_creatinine  serum_sodium  sex  \\\n",
       "0                    1  265000.00               1.9           130    1   \n",
       "1                    0  263358.03               1.1           136    1   \n",
       "2                    0  162000.00               1.3           129    1   \n",
       "3                    0  210000.00               1.9           137    1   \n",
       "4                    0  327000.00               2.7           116    0   \n",
       "\n",
       "   smoking  time  DEATH_EVENT  \n",
       "0        0     4            1  \n",
       "1        0     6            1  \n",
       "2        1     7            1  \n",
       "3        0     7            1  \n",
       "4        0     8            1  "
      ]
     },
     "execution_count": 6,
     "metadata": {},
     "output_type": "execute_result"
    }
   ],
   "source": [
    "dataset = Dataset.get_by_name(ws, name='Heart_Failure_Clinical_Records_Dataset')\n",
    "\n",
    "df = dataset.to_pandas_dataframe()\n",
    "\n",
    "df.head()"
   ]
  },
  {
   "cell_type": "code",
   "execution_count": 7,
   "metadata": {
    "gather": {
     "logged": 1613062418516
    }
   },
   "outputs": [
    {
     "data": {
      "text/html": [
       "<div>\n",
       "<style scoped>\n",
       "    .dataframe tbody tr th:only-of-type {\n",
       "        vertical-align: middle;\n",
       "    }\n",
       "\n",
       "    .dataframe tbody tr th {\n",
       "        vertical-align: top;\n",
       "    }\n",
       "\n",
       "    .dataframe thead th {\n",
       "        text-align: right;\n",
       "    }\n",
       "</style>\n",
       "<table border=\"1\" class=\"dataframe\">\n",
       "  <thead>\n",
       "    <tr style=\"text-align: right;\">\n",
       "      <th></th>\n",
       "      <th>age</th>\n",
       "      <th>anaemia</th>\n",
       "      <th>creatinine_phosphokinase</th>\n",
       "      <th>diabetes</th>\n",
       "      <th>ejection_fraction</th>\n",
       "      <th>high_blood_pressure</th>\n",
       "      <th>platelets</th>\n",
       "      <th>serum_creatinine</th>\n",
       "      <th>serum_sodium</th>\n",
       "      <th>sex</th>\n",
       "      <th>smoking</th>\n",
       "      <th>time</th>\n",
       "      <th>DEATH_EVENT</th>\n",
       "    </tr>\n",
       "  </thead>\n",
       "  <tbody>\n",
       "    <tr>\n",
       "      <th>count</th>\n",
       "      <td>299.000000</td>\n",
       "      <td>299.000000</td>\n",
       "      <td>299.000000</td>\n",
       "      <td>299.000000</td>\n",
       "      <td>299.000000</td>\n",
       "      <td>299.000000</td>\n",
       "      <td>299.000000</td>\n",
       "      <td>299.00000</td>\n",
       "      <td>299.000000</td>\n",
       "      <td>299.000000</td>\n",
       "      <td>299.00000</td>\n",
       "      <td>299.000000</td>\n",
       "      <td>299.00000</td>\n",
       "    </tr>\n",
       "    <tr>\n",
       "      <th>mean</th>\n",
       "      <td>60.833893</td>\n",
       "      <td>0.431438</td>\n",
       "      <td>581.839465</td>\n",
       "      <td>0.418060</td>\n",
       "      <td>38.083612</td>\n",
       "      <td>0.351171</td>\n",
       "      <td>263358.029264</td>\n",
       "      <td>1.39388</td>\n",
       "      <td>136.625418</td>\n",
       "      <td>0.648829</td>\n",
       "      <td>0.32107</td>\n",
       "      <td>130.260870</td>\n",
       "      <td>0.32107</td>\n",
       "    </tr>\n",
       "    <tr>\n",
       "      <th>std</th>\n",
       "      <td>11.894809</td>\n",
       "      <td>0.496107</td>\n",
       "      <td>970.287881</td>\n",
       "      <td>0.494067</td>\n",
       "      <td>11.834841</td>\n",
       "      <td>0.478136</td>\n",
       "      <td>97804.236869</td>\n",
       "      <td>1.03451</td>\n",
       "      <td>4.412477</td>\n",
       "      <td>0.478136</td>\n",
       "      <td>0.46767</td>\n",
       "      <td>77.614208</td>\n",
       "      <td>0.46767</td>\n",
       "    </tr>\n",
       "    <tr>\n",
       "      <th>min</th>\n",
       "      <td>40.000000</td>\n",
       "      <td>0.000000</td>\n",
       "      <td>23.000000</td>\n",
       "      <td>0.000000</td>\n",
       "      <td>14.000000</td>\n",
       "      <td>0.000000</td>\n",
       "      <td>25100.000000</td>\n",
       "      <td>0.50000</td>\n",
       "      <td>113.000000</td>\n",
       "      <td>0.000000</td>\n",
       "      <td>0.00000</td>\n",
       "      <td>4.000000</td>\n",
       "      <td>0.00000</td>\n",
       "    </tr>\n",
       "    <tr>\n",
       "      <th>25%</th>\n",
       "      <td>51.000000</td>\n",
       "      <td>0.000000</td>\n",
       "      <td>116.500000</td>\n",
       "      <td>0.000000</td>\n",
       "      <td>30.000000</td>\n",
       "      <td>0.000000</td>\n",
       "      <td>212500.000000</td>\n",
       "      <td>0.90000</td>\n",
       "      <td>134.000000</td>\n",
       "      <td>0.000000</td>\n",
       "      <td>0.00000</td>\n",
       "      <td>73.000000</td>\n",
       "      <td>0.00000</td>\n",
       "    </tr>\n",
       "    <tr>\n",
       "      <th>50%</th>\n",
       "      <td>60.000000</td>\n",
       "      <td>0.000000</td>\n",
       "      <td>250.000000</td>\n",
       "      <td>0.000000</td>\n",
       "      <td>38.000000</td>\n",
       "      <td>0.000000</td>\n",
       "      <td>262000.000000</td>\n",
       "      <td>1.10000</td>\n",
       "      <td>137.000000</td>\n",
       "      <td>1.000000</td>\n",
       "      <td>0.00000</td>\n",
       "      <td>115.000000</td>\n",
       "      <td>0.00000</td>\n",
       "    </tr>\n",
       "    <tr>\n",
       "      <th>75%</th>\n",
       "      <td>70.000000</td>\n",
       "      <td>1.000000</td>\n",
       "      <td>582.000000</td>\n",
       "      <td>1.000000</td>\n",
       "      <td>45.000000</td>\n",
       "      <td>1.000000</td>\n",
       "      <td>303500.000000</td>\n",
       "      <td>1.40000</td>\n",
       "      <td>140.000000</td>\n",
       "      <td>1.000000</td>\n",
       "      <td>1.00000</td>\n",
       "      <td>203.000000</td>\n",
       "      <td>1.00000</td>\n",
       "    </tr>\n",
       "    <tr>\n",
       "      <th>max</th>\n",
       "      <td>95.000000</td>\n",
       "      <td>1.000000</td>\n",
       "      <td>7861.000000</td>\n",
       "      <td>1.000000</td>\n",
       "      <td>80.000000</td>\n",
       "      <td>1.000000</td>\n",
       "      <td>850000.000000</td>\n",
       "      <td>9.40000</td>\n",
       "      <td>148.000000</td>\n",
       "      <td>1.000000</td>\n",
       "      <td>1.00000</td>\n",
       "      <td>285.000000</td>\n",
       "      <td>1.00000</td>\n",
       "    </tr>\n",
       "  </tbody>\n",
       "</table>\n",
       "</div>"
      ],
      "text/plain": [
       "              age     anaemia  creatinine_phosphokinase    diabetes  \\\n",
       "count  299.000000  299.000000                299.000000  299.000000   \n",
       "mean    60.833893    0.431438                581.839465    0.418060   \n",
       "std     11.894809    0.496107                970.287881    0.494067   \n",
       "min     40.000000    0.000000                 23.000000    0.000000   \n",
       "25%     51.000000    0.000000                116.500000    0.000000   \n",
       "50%     60.000000    0.000000                250.000000    0.000000   \n",
       "75%     70.000000    1.000000                582.000000    1.000000   \n",
       "max     95.000000    1.000000               7861.000000    1.000000   \n",
       "\n",
       "       ejection_fraction  high_blood_pressure      platelets  \\\n",
       "count         299.000000           299.000000     299.000000   \n",
       "mean           38.083612             0.351171  263358.029264   \n",
       "std            11.834841             0.478136   97804.236869   \n",
       "min            14.000000             0.000000   25100.000000   \n",
       "25%            30.000000             0.000000  212500.000000   \n",
       "50%            38.000000             0.000000  262000.000000   \n",
       "75%            45.000000             1.000000  303500.000000   \n",
       "max            80.000000             1.000000  850000.000000   \n",
       "\n",
       "       serum_creatinine  serum_sodium         sex    smoking        time  \\\n",
       "count         299.00000    299.000000  299.000000  299.00000  299.000000   \n",
       "mean            1.39388    136.625418    0.648829    0.32107  130.260870   \n",
       "std             1.03451      4.412477    0.478136    0.46767   77.614208   \n",
       "min             0.50000    113.000000    0.000000    0.00000    4.000000   \n",
       "25%             0.90000    134.000000    0.000000    0.00000   73.000000   \n",
       "50%             1.10000    137.000000    1.000000    0.00000  115.000000   \n",
       "75%             1.40000    140.000000    1.000000    1.00000  203.000000   \n",
       "max             9.40000    148.000000    1.000000    1.00000  285.000000   \n",
       "\n",
       "       DEATH_EVENT  \n",
       "count    299.00000  \n",
       "mean       0.32107  \n",
       "std        0.46767  \n",
       "min        0.00000  \n",
       "25%        0.00000  \n",
       "50%        0.00000  \n",
       "75%        1.00000  \n",
       "max        1.00000  "
      ]
     },
     "execution_count": 7,
     "metadata": {},
     "output_type": "execute_result"
    }
   ],
   "source": [
    "df.describe()"
   ]
  },
  {
   "cell_type": "markdown",
   "metadata": {},
   "source": [
    "## AutoML Configuration\n",
    "\n",
    "Explain why you chose the automl settings and cofiguration you used below."
   ]
  },
  {
   "cell_type": "code",
   "execution_count": 8,
   "metadata": {
    "gather": {
     "logged": 1613062470136
    },
    "jupyter": {
     "outputs_hidden": false,
     "source_hidden": false
    },
    "nteract": {
     "transient": {
      "deleting": false
     }
    }
   },
   "outputs": [],
   "source": [
    "# Put your automl settings here\n",
    "automl_settings = {\"experiment_timeout_minutes\": 30,\n",
    "    \"max_concurrent_iterations\": 4,\n",
    "    \"n_cross_validations\": 5,\n",
    "    \"primary_metric\" : 'accuracy'}\n",
    "\n",
    "# Put your automl config here\n",
    "automl_config = AutoMLConfig(compute_target = compute_target,\n",
    "                             task = \"classification\",\n",
    "                             training_data = dataset,\n",
    "                             label_column_name = \"DEATH_EVENT\",\n",
    "                             path = project_folder,\n",
    "                             enable_early_stopping = True,\n",
    "                             enable_onnx_compatible_models = True,\n",
    "                             featurization = 'auto',\n",
    "                             debug_log = \"automl_errors.log\",\n",
    "                             **automl_settings)"
   ]
  },
  {
   "cell_type": "code",
   "execution_count": 9,
   "metadata": {
    "gather": {
     "logged": 1612986475851
    },
    "jupyter": {
     "outputs_hidden": false,
     "source_hidden": false
    },
    "nteract": {
     "transient": {
      "deleting": false
     }
    }
   },
   "outputs": [
    {
     "name": "stdout",
     "output_type": "stream",
     "text": [
      "Running on remote.\n"
     ]
    }
   ],
   "source": [
    "# Submit your experiment\n",
    "remote_run = experiment.submit(automl_config)"
   ]
  },
  {
   "cell_type": "markdown",
   "metadata": {},
   "source": [
    "## Run Details\n",
    "\n",
    "The cell below uses `RunDetails` widget to show the different experiments."
   ]
  },
  {
   "cell_type": "code",
   "execution_count": 10,
   "metadata": {
    "gather": {
     "logged": 1612987778649
    },
    "jupyter": {
     "outputs_hidden": false,
     "source_hidden": false
    },
    "nteract": {
     "transient": {
      "deleting": false
     }
    },
    "scrolled": false
   },
   "outputs": [
    {
     "data": {
      "application/vnd.jupyter.widget-view+json": {
       "model_id": "b28c358d41744d6b9d3a0edce3d8bddb",
       "version_major": 2,
       "version_minor": 0
      },
      "text/plain": [
       "_AutoMLWidget(widget_settings={'childWidgetDisplay': 'popup', 'send_telemetry': False, 'log_level': 'INFO', 's…"
      ]
     },
     "metadata": {},
     "output_type": "display_data"
    },
    {
     "data": {
      "application/aml.mini.widget.v1": "{\"status\": \"Completed\", \"workbench_run_details_uri\": \"https://ml.azure.com/experiments/automl_heart_failure_prediction/runs/AutoML_3b0e13c3-7b0d-43e0-b514-357905decf6d?wsid=/subscriptions/d4ad7261-832d-46b2-b093-22156001df5b/resourcegroups/aml-quickstarts-138866/workspaces/quick-starts-ws-138866\", \"run_id\": \"AutoML_3b0e13c3-7b0d-43e0-b514-357905decf6d\", \"run_properties\": {\"run_id\": \"AutoML_3b0e13c3-7b0d-43e0-b514-357905decf6d\", \"created_utc\": \"2021-02-14T07:57:05.951566Z\", \"properties\": {\"num_iterations\": \"1000\", \"training_type\": \"TrainFull\", \"acquisition_function\": \"EI\", \"primary_metric\": \"accuracy\", \"train_split\": \"0\", \"acquisition_parameter\": \"0\", \"num_cross_validation\": \"5\", \"target\": \"capstone-cluster\", \"AMLSettingsJsonString\": \"{\\\"path\\\":null,\\\"name\\\":\\\"automl_heart_failure_prediction\\\",\\\"subscription_id\\\":\\\"d4ad7261-832d-46b2-b093-22156001df5b\\\",\\\"resource_group\\\":\\\"aml-quickstarts-138866\\\",\\\"workspace_name\\\":\\\"quick-starts-ws-138866\\\",\\\"region\\\":\\\"southcentralus\\\",\\\"compute_target\\\":\\\"capstone-cluster\\\",\\\"spark_service\\\":null,\\\"azure_service\\\":\\\"remote\\\",\\\"many_models\\\":false,\\\"pipeline_fetch_max_batch_size\\\":1,\\\"iterations\\\":1000,\\\"primary_metric\\\":\\\"accuracy\\\",\\\"task_type\\\":\\\"classification\\\",\\\"data_script\\\":null,\\\"validation_size\\\":0.0,\\\"n_cross_validations\\\":5,\\\"y_min\\\":null,\\\"y_max\\\":null,\\\"num_classes\\\":null,\\\"featurization\\\":\\\"auto\\\",\\\"_ignore_package_version_incompatibilities\\\":false,\\\"is_timeseries\\\":false,\\\"max_cores_per_iteration\\\":1,\\\"max_concurrent_iterations\\\":4,\\\"iteration_timeout_minutes\\\":null,\\\"mem_in_mb\\\":null,\\\"enforce_time_on_windows\\\":false,\\\"experiment_timeout_minutes\\\":30,\\\"experiment_exit_score\\\":null,\\\"whitelist_models\\\":null,\\\"blacklist_algos\\\":[\\\"TensorFlowLinearClassifier\\\",\\\"TensorFlowDNN\\\"],\\\"supported_models\\\":[\\\"KNN\\\",\\\"DecisionTree\\\",\\\"LinearSVM\\\",\\\"BernoulliNaiveBayes\\\",\\\"AveragedPerceptronClassifier\\\",\\\"GradientBoosting\\\",\\\"SVM\\\",\\\"TensorFlowLinearClassifier\\\",\\\"RandomForest\\\",\\\"TensorFlowDNN\\\",\\\"MultinomialNaiveBayes\\\",\\\"XGBoostClassifier\\\",\\\"ExtremeRandomTrees\\\",\\\"LogisticRegression\\\",\\\"SGD\\\",\\\"LightGBM\\\"],\\\"auto_blacklist\\\":true,\\\"blacklist_samples_reached\\\":false,\\\"exclude_nan_labels\\\":true,\\\"verbosity\\\":20,\\\"_debug_log\\\":\\\"azureml_automl.log\\\",\\\"show_warnings\\\":false,\\\"model_explainability\\\":true,\\\"service_url\\\":null,\\\"sdk_url\\\":null,\\\"sdk_packages\\\":null,\\\"enable_onnx_compatible_models\\\":true,\\\"enable_split_onnx_featurizer_estimator_models\\\":false,\\\"vm_type\\\":\\\"STANDARD_D2_V2\\\",\\\"telemetry_verbosity\\\":20,\\\"send_telemetry\\\":true,\\\"enable_dnn\\\":false,\\\"scenario\\\":\\\"SDK-1.13.0\\\",\\\"environment_label\\\":null,\\\"force_text_dnn\\\":false,\\\"enable_feature_sweeping\\\":false,\\\"enable_early_stopping\\\":true,\\\"early_stopping_n_iters\\\":10,\\\"metrics\\\":null,\\\"enable_ensembling\\\":true,\\\"enable_stack_ensembling\\\":false,\\\"ensemble_iterations\\\":15,\\\"enable_tf\\\":false,\\\"enable_subsampling\\\":null,\\\"subsample_seed\\\":null,\\\"enable_nimbusml\\\":false,\\\"enable_streaming\\\":false,\\\"force_streaming\\\":false,\\\"track_child_runs\\\":true,\\\"allowed_private_models\\\":[],\\\"label_column_name\\\":\\\"DEATH_EVENT\\\",\\\"weight_column_name\\\":null,\\\"cv_split_column_names\\\":null,\\\"enable_local_managed\\\":false,\\\"_local_managed_run_id\\\":null,\\\"cost_mode\\\":1,\\\"lag_length\\\":0,\\\"metric_operation\\\":\\\"maximize\\\",\\\"preprocess\\\":true}\", \"DataPrepJsonString\": \"{\\\\\\\"training_data\\\\\\\": \\\\\\\"{\\\\\\\\\\\\\\\"blocks\\\\\\\\\\\\\\\": [{\\\\\\\\\\\\\\\"id\\\\\\\\\\\\\\\": \\\\\\\\\\\\\\\"30a416e9-a20a-486b-b174-ebfa91ef9b5b\\\\\\\\\\\\\\\", \\\\\\\\\\\\\\\"type\\\\\\\\\\\\\\\": \\\\\\\\\\\\\\\"Microsoft.DPrep.GetDatastoreFilesBlock\\\\\\\\\\\\\\\", \\\\\\\\\\\\\\\"arguments\\\\\\\\\\\\\\\": {\\\\\\\\\\\\\\\"datastores\\\\\\\\\\\\\\\": [{\\\\\\\\\\\\\\\"datastoreName\\\\\\\\\\\\\\\": \\\\\\\\\\\\\\\"workspaceblobstore\\\\\\\\\\\\\\\", \\\\\\\\\\\\\\\"path\\\\\\\\\\\\\\\": \\\\\\\\\\\\\\\"UI/02-14-2021_074700_UTC/heart_failure_clinical_records_dataset.csv\\\\\\\\\\\\\\\", \\\\\\\\\\\\\\\"resourceGroup\\\\\\\\\\\\\\\": \\\\\\\\\\\\\\\"aml-quickstarts-138866\\\\\\\\\\\\\\\", \\\\\\\\\\\\\\\"subscription\\\\\\\\\\\\\\\": \\\\\\\\\\\\\\\"d4ad7261-832d-46b2-b093-22156001df5b\\\\\\\\\\\\\\\", \\\\\\\\\\\\\\\"workspaceName\\\\\\\\\\\\\\\": \\\\\\\\\\\\\\\"quick-starts-ws-138866\\\\\\\\\\\\\\\"}]}, \\\\\\\\\\\\\\\"localData\\\\\\\\\\\\\\\": {}, \\\\\\\\\\\\\\\"isEnabled\\\\\\\\\\\\\\\": true, \\\\\\\\\\\\\\\"name\\\\\\\\\\\\\\\": null, \\\\\\\\\\\\\\\"annotation\\\\\\\\\\\\\\\": null}, {\\\\\\\\\\\\\\\"id\\\\\\\\\\\\\\\": \\\\\\\\\\\\\\\"5c547d34-5dc4-425b-a964-b8d2aae4632a\\\\\\\\\\\\\\\", \\\\\\\\\\\\\\\"type\\\\\\\\\\\\\\\": \\\\\\\\\\\\\\\"Microsoft.DPrep.ParseDelimitedBlock\\\\\\\\\\\\\\\", \\\\\\\\\\\\\\\"arguments\\\\\\\\\\\\\\\": {\\\\\\\\\\\\\\\"columnHeadersMode\\\\\\\\\\\\\\\": 1, \\\\\\\\\\\\\\\"fileEncoding\\\\\\\\\\\\\\\": 0, \\\\\\\\\\\\\\\"handleQuotedLineBreaks\\\\\\\\\\\\\\\": false, \\\\\\\\\\\\\\\"preview\\\\\\\\\\\\\\\": false, \\\\\\\\\\\\\\\"separator\\\\\\\\\\\\\\\": \\\\\\\\\\\\\\\",\\\\\\\\\\\\\\\", \\\\\\\\\\\\\\\"skipRows\\\\\\\\\\\\\\\": 0, \\\\\\\\\\\\\\\"skipRowsMode\\\\\\\\\\\\\\\": 0}, \\\\\\\\\\\\\\\"localData\\\\\\\\\\\\\\\": {}, \\\\\\\\\\\\\\\"isEnabled\\\\\\\\\\\\\\\": true, \\\\\\\\\\\\\\\"name\\\\\\\\\\\\\\\": null, \\\\\\\\\\\\\\\"annotation\\\\\\\\\\\\\\\": null}, {\\\\\\\\\\\\\\\"id\\\\\\\\\\\\\\\": \\\\\\\\\\\\\\\"25f94529-d8d6-41d3-81b3-72dc24b3a221\\\\\\\\\\\\\\\", \\\\\\\\\\\\\\\"type\\\\\\\\\\\\\\\": \\\\\\\\\\\\\\\"Microsoft.DPrep.DropColumnsBlock\\\\\\\\\\\\\\\", \\\\\\\\\\\\\\\"arguments\\\\\\\\\\\\\\\": {\\\\\\\\\\\\\\\"columns\\\\\\\\\\\\\\\": {\\\\\\\\\\\\\\\"type\\\\\\\\\\\\\\\": 0, \\\\\\\\\\\\\\\"details\\\\\\\\\\\\\\\": {\\\\\\\\\\\\\\\"selectedColumns\\\\\\\\\\\\\\\": [\\\\\\\\\\\\\\\"Path\\\\\\\\\\\\\\\"]}}}, \\\\\\\\\\\\\\\"localData\\\\\\\\\\\\\\\": {}, \\\\\\\\\\\\\\\"isEnabled\\\\\\\\\\\\\\\": true, \\\\\\\\\\\\\\\"name\\\\\\\\\\\\\\\": null, \\\\\\\\\\\\\\\"annotation\\\\\\\\\\\\\\\": null}, {\\\\\\\\\\\\\\\"id\\\\\\\\\\\\\\\": \\\\\\\\\\\\\\\"27b2c016-a44d-4961-96ff-0b9c87ae4c0e\\\\\\\\\\\\\\\", \\\\\\\\\\\\\\\"type\\\\\\\\\\\\\\\": \\\\\\\\\\\\\\\"Microsoft.DPrep.SetColumnTypesBlock\\\\\\\\\\\\\\\", \\\\\\\\\\\\\\\"arguments\\\\\\\\\\\\\\\": {\\\\\\\\\\\\\\\"columnConversion\\\\\\\\\\\\\\\": [{\\\\\\\\\\\\\\\"column\\\\\\\\\\\\\\\": {\\\\\\\\\\\\\\\"type\\\\\\\\\\\\\\\": 2, \\\\\\\\\\\\\\\"details\\\\\\\\\\\\\\\": {\\\\\\\\\\\\\\\"selectedColumn\\\\\\\\\\\\\\\": \\\\\\\\\\\\\\\"Path\\\\\\\\\\\\\\\"}}, \\\\\\\\\\\\\\\"typeProperty\\\\\\\\\\\\\\\": 0}, {\\\\\\\\\\\\\\\"column\\\\\\\\\\\\\\\": {\\\\\\\\\\\\\\\"type\\\\\\\\\\\\\\\": 2, \\\\\\\\\\\\\\\"details\\\\\\\\\\\\\\\": {\\\\\\\\\\\\\\\"selectedColumn\\\\\\\\\\\\\\\": \\\\\\\\\\\\\\\"age\\\\\\\\\\\\\\\"}}, \\\\\\\\\\\\\\\"typeProperty\\\\\\\\\\\\\\\": 3}, {\\\\\\\\\\\\\\\"column\\\\\\\\\\\\\\\": {\\\\\\\\\\\\\\\"type\\\\\\\\\\\\\\\": 2, \\\\\\\\\\\\\\\"details\\\\\\\\\\\\\\\": {\\\\\\\\\\\\\\\"selectedColumn\\\\\\\\\\\\\\\": \\\\\\\\\\\\\\\"anaemia\\\\\\\\\\\\\\\"}}, \\\\\\\\\\\\\\\"typeProperty\\\\\\\\\\\\\\\": 2}, {\\\\\\\\\\\\\\\"column\\\\\\\\\\\\\\\": {\\\\\\\\\\\\\\\"type\\\\\\\\\\\\\\\": 2, \\\\\\\\\\\\\\\"details\\\\\\\\\\\\\\\": {\\\\\\\\\\\\\\\"selectedColumn\\\\\\\\\\\\\\\": \\\\\\\\\\\\\\\"creatinine_phosphokinase\\\\\\\\\\\\\\\"}}, \\\\\\\\\\\\\\\"typeProperty\\\\\\\\\\\\\\\": 2}, {\\\\\\\\\\\\\\\"column\\\\\\\\\\\\\\\": {\\\\\\\\\\\\\\\"type\\\\\\\\\\\\\\\": 2, \\\\\\\\\\\\\\\"details\\\\\\\\\\\\\\\": {\\\\\\\\\\\\\\\"selectedColumn\\\\\\\\\\\\\\\": \\\\\\\\\\\\\\\"diabetes\\\\\\\\\\\\\\\"}}, \\\\\\\\\\\\\\\"typeProperty\\\\\\\\\\\\\\\": 2}, {\\\\\\\\\\\\\\\"column\\\\\\\\\\\\\\\": {\\\\\\\\\\\\\\\"type\\\\\\\\\\\\\\\": 2, \\\\\\\\\\\\\\\"details\\\\\\\\\\\\\\\": {\\\\\\\\\\\\\\\"selectedColumn\\\\\\\\\\\\\\\": \\\\\\\\\\\\\\\"ejection_fraction\\\\\\\\\\\\\\\"}}, \\\\\\\\\\\\\\\"typeProperty\\\\\\\\\\\\\\\": 2}, {\\\\\\\\\\\\\\\"column\\\\\\\\\\\\\\\": {\\\\\\\\\\\\\\\"type\\\\\\\\\\\\\\\": 2, \\\\\\\\\\\\\\\"details\\\\\\\\\\\\\\\": {\\\\\\\\\\\\\\\"selectedColumn\\\\\\\\\\\\\\\": \\\\\\\\\\\\\\\"high_blood_pressure\\\\\\\\\\\\\\\"}}, \\\\\\\\\\\\\\\"typeProperty\\\\\\\\\\\\\\\": 2}, {\\\\\\\\\\\\\\\"column\\\\\\\\\\\\\\\": {\\\\\\\\\\\\\\\"type\\\\\\\\\\\\\\\": 2, \\\\\\\\\\\\\\\"details\\\\\\\\\\\\\\\": {\\\\\\\\\\\\\\\"selectedColumn\\\\\\\\\\\\\\\": \\\\\\\\\\\\\\\"platelets\\\\\\\\\\\\\\\"}}, \\\\\\\\\\\\\\\"typeProperty\\\\\\\\\\\\\\\": 3}, {\\\\\\\\\\\\\\\"column\\\\\\\\\\\\\\\": {\\\\\\\\\\\\\\\"type\\\\\\\\\\\\\\\": 2, \\\\\\\\\\\\\\\"details\\\\\\\\\\\\\\\": {\\\\\\\\\\\\\\\"selectedColumn\\\\\\\\\\\\\\\": \\\\\\\\\\\\\\\"serum_creatinine\\\\\\\\\\\\\\\"}}, \\\\\\\\\\\\\\\"typeProperty\\\\\\\\\\\\\\\": 3}, {\\\\\\\\\\\\\\\"column\\\\\\\\\\\\\\\": {\\\\\\\\\\\\\\\"type\\\\\\\\\\\\\\\": 2, \\\\\\\\\\\\\\\"details\\\\\\\\\\\\\\\": {\\\\\\\\\\\\\\\"selectedColumn\\\\\\\\\\\\\\\": \\\\\\\\\\\\\\\"serum_sodium\\\\\\\\\\\\\\\"}}, \\\\\\\\\\\\\\\"typeProperty\\\\\\\\\\\\\\\": 2}, {\\\\\\\\\\\\\\\"column\\\\\\\\\\\\\\\": {\\\\\\\\\\\\\\\"type\\\\\\\\\\\\\\\": 2, \\\\\\\\\\\\\\\"details\\\\\\\\\\\\\\\": {\\\\\\\\\\\\\\\"selectedColumn\\\\\\\\\\\\\\\": \\\\\\\\\\\\\\\"sex\\\\\\\\\\\\\\\"}}, \\\\\\\\\\\\\\\"typeProperty\\\\\\\\\\\\\\\": 2}, {\\\\\\\\\\\\\\\"column\\\\\\\\\\\\\\\": {\\\\\\\\\\\\\\\"type\\\\\\\\\\\\\\\": 2, \\\\\\\\\\\\\\\"details\\\\\\\\\\\\\\\": {\\\\\\\\\\\\\\\"selectedColumn\\\\\\\\\\\\\\\": \\\\\\\\\\\\\\\"smoking\\\\\\\\\\\\\\\"}}, \\\\\\\\\\\\\\\"typeProperty\\\\\\\\\\\\\\\": 2}, {\\\\\\\\\\\\\\\"column\\\\\\\\\\\\\\\": {\\\\\\\\\\\\\\\"type\\\\\\\\\\\\\\\": 2, \\\\\\\\\\\\\\\"details\\\\\\\\\\\\\\\": {\\\\\\\\\\\\\\\"selectedColumn\\\\\\\\\\\\\\\": \\\\\\\\\\\\\\\"time\\\\\\\\\\\\\\\"}}, \\\\\\\\\\\\\\\"typeProperty\\\\\\\\\\\\\\\": 2}, {\\\\\\\\\\\\\\\"column\\\\\\\\\\\\\\\": {\\\\\\\\\\\\\\\"type\\\\\\\\\\\\\\\": 2, \\\\\\\\\\\\\\\"details\\\\\\\\\\\\\\\": {\\\\\\\\\\\\\\\"selectedColumn\\\\\\\\\\\\\\\": \\\\\\\\\\\\\\\"DEATH_EVENT\\\\\\\\\\\\\\\"}}, \\\\\\\\\\\\\\\"typeProperty\\\\\\\\\\\\\\\": 2}]}, \\\\\\\\\\\\\\\"localData\\\\\\\\\\\\\\\": {}, \\\\\\\\\\\\\\\"isEnabled\\\\\\\\\\\\\\\": true, \\\\\\\\\\\\\\\"name\\\\\\\\\\\\\\\": null, \\\\\\\\\\\\\\\"annotation\\\\\\\\\\\\\\\": null}], \\\\\\\\\\\\\\\"inspectors\\\\\\\\\\\\\\\": [], \\\\\\\\\\\\\\\"meta\\\\\\\\\\\\\\\": {\\\\\\\\\\\\\\\"savedDatasetId\\\\\\\\\\\\\\\": \\\\\\\\\\\\\\\"a13c2169-1d1b-4380-a158-2904f4478081\\\\\\\\\\\\\\\", \\\\\\\\\\\\\\\"datasetType\\\\\\\\\\\\\\\": \\\\\\\\\\\\\\\"tabular\\\\\\\\\\\\\\\", \\\\\\\\\\\\\\\"subscriptionId\\\\\\\\\\\\\\\": \\\\\\\\\\\\\\\"d4ad7261-832d-46b2-b093-22156001df5b\\\\\\\\\\\\\\\", \\\\\\\\\\\\\\\"workspaceId\\\\\\\\\\\\\\\": \\\\\\\\\\\\\\\"ed0e6e2d-e71d-4f85-8e17-ac37a98b4176\\\\\\\\\\\\\\\", \\\\\\\\\\\\\\\"workspaceLocation\\\\\\\\\\\\\\\": \\\\\\\\\\\\\\\"southcentralus\\\\\\\\\\\\\\\"}}\\\\\\\", \\\\\\\"activities\\\\\\\": 0}\", \"EnableSubsampling\": null, \"runTemplate\": \"AutoML\", \"azureml.runsource\": \"automl\", \"display_task_type\": \"classification\", \"dependencies_versions\": \"{\\\"azureml-widgets\\\": \\\"1.20.0\\\", \\\"azureml-train\\\": \\\"1.20.0\\\", \\\"azureml-train-restclients-hyperdrive\\\": \\\"1.20.0\\\", \\\"azureml-train-core\\\": \\\"1.20.0\\\", \\\"azureml-train-automl\\\": \\\"1.20.0\\\", \\\"azureml-train-automl-runtime\\\": \\\"1.20.0\\\", \\\"azureml-train-automl-client\\\": \\\"1.20.0\\\", \\\"azureml-tensorboard\\\": \\\"1.20.0\\\", \\\"azureml-telemetry\\\": \\\"1.20.0\\\", \\\"azureml-sdk\\\": \\\"1.20.0\\\", \\\"azureml-samples\\\": \\\"0+unknown\\\", \\\"azureml-pipeline\\\": \\\"1.20.0\\\", \\\"azureml-pipeline-steps\\\": \\\"1.20.0\\\", \\\"azureml-pipeline-core\\\": \\\"1.20.0\\\", \\\"azureml-opendatasets\\\": \\\"1.20.0\\\", \\\"azureml-model-management-sdk\\\": \\\"1.0.1b6.post1\\\", \\\"azureml-mlflow\\\": \\\"1.20.0.post1\\\", \\\"azureml-interpret\\\": \\\"1.20.0\\\", \\\"azureml-explain-model\\\": \\\"1.20.0\\\", \\\"azureml-defaults\\\": \\\"1.20.0\\\", \\\"azureml-dataset-runtime\\\": \\\"1.20.0\\\", \\\"azureml-dataprep\\\": \\\"2.7.3\\\", \\\"azureml-dataprep-rslex\\\": \\\"1.5.0\\\", \\\"azureml-dataprep-native\\\": \\\"27.0.0\\\", \\\"azureml-datadrift\\\": \\\"1.20.0\\\", \\\"azureml-core\\\": \\\"1.20.0\\\", \\\"azureml-contrib-services\\\": \\\"1.20.0\\\", \\\"azureml-contrib-server\\\": \\\"1.20.0\\\", \\\"azureml-contrib-reinforcementlearning\\\": \\\"1.20.0\\\", \\\"azureml-contrib-pipeline-steps\\\": \\\"1.20.0\\\", \\\"azureml-contrib-notebook\\\": \\\"1.20.0\\\", \\\"azureml-contrib-interpret\\\": \\\"1.20.0\\\", \\\"azureml-contrib-gbdt\\\": \\\"1.20.0\\\", \\\"azureml-contrib-fairness\\\": \\\"1.20.0\\\", \\\"azureml-contrib-dataset\\\": \\\"1.20.0\\\", \\\"azureml-cli-common\\\": \\\"1.20.0\\\", \\\"azureml-automl-runtime\\\": \\\"1.20.0\\\", \\\"azureml-automl-core\\\": \\\"1.20.0\\\", \\\"azureml-accel-models\\\": \\\"1.20.0\\\"}\", \"_aml_system_scenario_identification\": \"Remote.Parent\", \"ClientType\": \"SDK\", \"environment_cpu_name\": \"AzureML-AutoML\", \"environment_cpu_label\": \"prod\", \"environment_gpu_name\": \"AzureML-AutoML-GPU\", \"environment_gpu_label\": \"prod\", \"root_attribution\": \"automl\", \"attribution\": \"AutoML\", \"Orchestrator\": \"AutoML\", \"CancelUri\": \"https://southcentralus.experiments.azureml.net/jasmine/v1.0/subscriptions/d4ad7261-832d-46b2-b093-22156001df5b/resourceGroups/aml-quickstarts-138866/providers/Microsoft.MachineLearningServices/workspaces/quick-starts-ws-138866/experimentids/f8487855-67ec-44b8-900a-a2d46416f4c5/cancel/AutoML_3b0e13c3-7b0d-43e0-b514-357905decf6d\", \"ClientSdkVersion\": \"1.21.0\", \"snapshotId\": \"00000000-0000-0000-0000-000000000000\", \"SetupRunId\": \"AutoML_3b0e13c3-7b0d-43e0-b514-357905decf6d_setup\", \"SetupRunContainerId\": \"dcid.AutoML_3b0e13c3-7b0d-43e0-b514-357905decf6d_setup\", \"FeaturizationRunJsonPath\": \"featurizer_container.json\", \"FeaturizationRunId\": \"AutoML_3b0e13c3-7b0d-43e0-b514-357905decf6d_featurize\", \"ProblemInfoJsonString\": \"{\\\"dataset_num_categorical\\\": 0, \\\"is_sparse\\\": false, \\\"subsampling\\\": false, \\\"dataset_classes\\\": 2, \\\"dataset_features\\\": 12, \\\"dataset_samples\\\": 299, \\\"single_frequency_class_detected\\\": false}\", \"ModelExplainRunId\": \"AutoML_3b0e13c3-7b0d-43e0-b514-357905decf6d_ModelExplain\"}, \"tags\": {\"model_explain_run\": \"best_run\", \"_aml_system_azureml.automlComponent\": \"AutoML\", \"pipeline_id\": \"\", \"score\": \"\", \"predicted_cost\": \"\", \"fit_time\": \"\", \"training_percent\": \"\", \"iteration\": \"\", \"run_preprocessor\": \"\", \"run_algorithm\": \"\", \"dynamic_whitelisting_iterations\": \"<25>;<30>;<35>;\", \"automl_best_child_run_id\": \"AutoML_3b0e13c3-7b0d-43e0-b514-357905decf6d_36\", \"model_explain_best_run_child_id\": \"AutoML_3b0e13c3-7b0d-43e0-b514-357905decf6d_36\"}, \"end_time_utc\": \"2021-02-14T08:20:36.095287Z\", \"status\": \"Completed\", \"log_files\": {}, \"log_groups\": [], \"run_duration\": \"0:23:30\"}, \"child_runs\": [{\"run_id\": \"AutoML_3b0e13c3-7b0d-43e0-b514-357905decf6d_3\", \"run_number\": 5, \"metric\": null, \"status\": \"Completed\", \"run_type\": \"azureml.scriptrun\", \"training_percent\": \"100\", \"start_time\": \"2021-02-14T08:08:03.029764Z\", \"end_time\": \"2021-02-14T08:11:25.143939Z\", \"created_time\": \"2021-02-14T08:06:09.448853Z\", \"created_time_dt\": \"2021-02-14T08:06:09.448853Z\", \"duration\": \"0:05:15\", \"iteration\": \"3\", \"goal\": \"accuracy_max\", \"run_name\": \"MinMaxScaler, RandomForest\", \"run_properties\": \"copy=True, feature_range=(0, 1\", \"primary_metric\": 0.8360452, \"best_metric\": 0.8360452}, {\"run_id\": \"AutoML_3b0e13c3-7b0d-43e0-b514-357905decf6d_1\", \"run_number\": 6, \"metric\": null, \"status\": \"Completed\", \"run_type\": \"azureml.scriptrun\", \"training_percent\": \"100\", \"start_time\": \"2021-02-14T08:06:21.340491Z\", \"end_time\": \"2021-02-14T08:07:04.602423Z\", \"created_time\": \"2021-02-14T08:06:09.766405Z\", \"created_time_dt\": \"2021-02-14T08:06:09.766405Z\", \"duration\": \"0:00:54\", \"iteration\": \"1\", \"goal\": \"accuracy_max\", \"run_name\": \"MaxAbsScaler, XGBoostClassifier\", \"run_properties\": \"copy=True\", \"primary_metric\": 0.8259322, \"best_metric\": 0.8259322}, {\"run_id\": \"AutoML_3b0e13c3-7b0d-43e0-b514-357905decf6d_2\", \"run_number\": 7, \"metric\": null, \"status\": \"Completed\", \"run_type\": \"azureml.scriptrun\", \"training_percent\": \"100\", \"start_time\": \"2021-02-14T08:07:07.833536Z\", \"end_time\": \"2021-02-14T08:08:07.569732Z\", \"created_time\": \"2021-02-14T08:06:09.458674Z\", \"created_time_dt\": \"2021-02-14T08:06:09.458674Z\", \"duration\": \"0:01:58\", \"iteration\": \"2\", \"goal\": \"accuracy_max\", \"run_name\": \"MinMaxScaler, RandomForest\", \"run_properties\": \"copy=True, feature_range=(0, 1\", \"primary_metric\": 0.81254237, \"best_metric\": 0.8259322}, {\"run_id\": \"AutoML_3b0e13c3-7b0d-43e0-b514-357905decf6d_0\", \"run_number\": 8, \"metric\": null, \"status\": \"Completed\", \"run_type\": \"azureml.scriptrun\", \"training_percent\": \"100\", \"start_time\": \"2021-02-14T08:08:05.27729Z\", \"end_time\": \"2021-02-14T08:11:45.809979Z\", \"created_time\": \"2021-02-14T08:06:11.436493Z\", \"created_time_dt\": \"2021-02-14T08:06:11.436493Z\", \"duration\": \"0:05:34\", \"iteration\": \"0\", \"goal\": \"accuracy_max\", \"run_name\": \"MaxAbsScaler, LightGBM\", \"run_properties\": \"copy=True\", \"primary_metric\": 0.8059887, \"best_metric\": 0.8059887}, {\"run_id\": \"AutoML_3b0e13c3-7b0d-43e0-b514-357905decf6d_4\", \"run_number\": 9, \"metric\": null, \"status\": \"Completed\", \"run_type\": \"azureml.scriptrun\", \"training_percent\": \"100\", \"start_time\": \"2021-02-14T08:08:05.113884Z\", \"end_time\": \"2021-02-14T08:11:39.284531Z\", \"created_time\": \"2021-02-14T08:07:06.402726Z\", \"created_time_dt\": \"2021-02-14T08:07:06.402726Z\", \"duration\": \"0:04:32\", \"iteration\": \"4\", \"goal\": \"accuracy_max\", \"run_name\": \"MinMaxScaler, RandomForest\", \"run_properties\": \"copy=True, feature_range=(0, 1\", \"primary_metric\": 0.8159322, \"best_metric\": 0.8360452}, {\"run_id\": \"AutoML_3b0e13c3-7b0d-43e0-b514-357905decf6d_5\", \"run_number\": 10, \"metric\": null, \"status\": \"Completed\", \"run_type\": \"azureml.scriptrun\", \"training_percent\": \"100\", \"start_time\": \"2021-02-14T08:08:23.525469Z\", \"end_time\": \"2021-02-14T08:09:18.688652Z\", \"created_time\": \"2021-02-14T08:08:11.271779Z\", \"created_time_dt\": \"2021-02-14T08:08:11.271779Z\", \"duration\": \"0:01:07\", \"iteration\": \"5\", \"goal\": \"accuracy_max\", \"run_name\": \"SparseNormalizer, KNN\", \"run_properties\": \"<azureml.automl.runtime.shared.model_wrappers.SparseNormalizer object at 0x7fe7b0fdf5f8\", \"primary_metric\": 0.72915254, \"best_metric\": 0.8360452}, {\"run_id\": \"AutoML_3b0e13c3-7b0d-43e0-b514-357905decf6d_6\", \"run_number\": 11, \"metric\": null, \"status\": \"Completed\", \"run_type\": \"azureml.scriptrun\", \"training_percent\": \"100\", \"start_time\": \"2021-02-14T08:09:31.651706Z\", \"end_time\": \"2021-02-14T08:10:25.848507Z\", \"created_time\": \"2021-02-14T08:09:21.011892Z\", \"created_time_dt\": \"2021-02-14T08:09:21.011892Z\", \"duration\": \"0:01:04\", \"iteration\": \"6\", \"goal\": \"accuracy_max\", \"run_name\": \"MinMaxScaler, SVM\", \"run_properties\": \"copy=True, feature_range=(0, 1\", \"primary_metric\": 0.70909605, \"best_metric\": 0.8360452}, {\"run_id\": \"AutoML_3b0e13c3-7b0d-43e0-b514-357905decf6d_7\", \"run_number\": 12, \"metric\": null, \"status\": \"Completed\", \"run_type\": \"azureml.scriptrun\", \"training_percent\": \"100\", \"start_time\": \"2021-02-14T08:10:42.224522Z\", \"end_time\": \"2021-02-14T08:11:26.267943Z\", \"created_time\": \"2021-02-14T08:10:28.396452Z\", \"created_time_dt\": \"2021-02-14T08:10:28.396452Z\", \"duration\": \"0:00:57\", \"iteration\": \"7\", \"goal\": \"accuracy_max\", \"run_name\": \"MaxAbsScaler, GradientBoosting\", \"run_properties\": \"copy=True\", \"primary_metric\": 0.8260452, \"best_metric\": 0.8360452}, {\"run_id\": \"AutoML_3b0e13c3-7b0d-43e0-b514-357905decf6d_8\", \"run_number\": 13, \"metric\": null, \"status\": \"Completed\", \"run_type\": \"azureml.scriptrun\", \"training_percent\": \"100\", \"start_time\": \"2021-02-14T08:11:37.605676Z\", \"end_time\": \"2021-02-14T08:12:19.626278Z\", \"created_time\": \"2021-02-14T08:11:27.11672Z\", \"created_time_dt\": \"2021-02-14T08:11:27.11672Z\", \"duration\": \"0:00:52\", \"iteration\": \"8\", \"goal\": \"accuracy_max\", \"run_name\": \"SparseNormalizer, XGBoostClassifier\", \"run_properties\": \"<azureml.automl.runtime.shared.model_wrappers.SparseNormalizer object at 0x7f6e083ccb38\", \"primary_metric\": 0.80937853, \"best_metric\": 0.8360452}, {\"run_id\": \"AutoML_3b0e13c3-7b0d-43e0-b514-357905decf6d_9\", \"run_number\": 14, \"metric\": null, \"status\": \"Completed\", \"run_type\": \"azureml.scriptrun\", \"training_percent\": \"100\", \"start_time\": \"2021-02-14T08:11:42.734411Z\", \"end_time\": \"2021-02-14T08:12:33.621398Z\", \"created_time\": \"2021-02-14T08:11:32.372251Z\", \"created_time_dt\": \"2021-02-14T08:11:32.372251Z\", \"duration\": \"0:01:01\", \"iteration\": \"9\", \"goal\": \"accuracy_max\", \"run_name\": \"SparseNormalizer, LightGBM\", \"run_properties\": \"<azureml.automl.runtime.shared.model_wrappers.SparseNormalizer object at 0x7f06ecf3cbe0\", \"primary_metric\": 0.7360452, \"best_metric\": 0.8360452}, {\"run_id\": \"AutoML_3b0e13c3-7b0d-43e0-b514-357905decf6d_10\", \"run_number\": 15, \"metric\": null, \"status\": \"Completed\", \"run_type\": \"azureml.scriptrun\", \"training_percent\": \"100\", \"start_time\": \"2021-02-14T08:11:51.204452Z\", \"end_time\": \"2021-02-14T08:12:38.840483Z\", \"created_time\": \"2021-02-14T08:11:40.933189Z\", \"created_time_dt\": \"2021-02-14T08:11:40.933189Z\", \"duration\": \"0:00:57\", \"iteration\": \"10\", \"goal\": \"accuracy_max\", \"run_name\": \"StandardScalerWrapper, RandomForest\", \"run_properties\": \"<azureml.automl.runtime.shared.model_wrappers.StandardScalerWrapper object at 0x7f9da6cf89b0\", \"primary_metric\": 0.83265537, \"best_metric\": 0.8360452}, {\"run_id\": \"AutoML_3b0e13c3-7b0d-43e0-b514-357905decf6d_11\", \"run_number\": 16, \"metric\": null, \"status\": \"Completed\", \"run_type\": \"azureml.scriptrun\", \"training_percent\": \"100\", \"start_time\": \"2021-02-14T08:11:59.3395Z\", \"end_time\": \"2021-02-14T08:12:51.591445Z\", \"created_time\": \"2021-02-14T08:11:47.711706Z\", \"created_time_dt\": \"2021-02-14T08:11:47.711706Z\", \"duration\": \"0:01:03\", \"iteration\": \"11\", \"goal\": \"accuracy_max\", \"run_name\": \"SparseNormalizer, XGBoostClassifier\", \"run_properties\": \"<azureml.automl.runtime.shared.model_wrappers.SparseNormalizer object at 0x7f4f639cadd8\", \"primary_metric\": 0.84960452, \"best_metric\": 0.84960452}, {\"run_id\": \"AutoML_3b0e13c3-7b0d-43e0-b514-357905decf6d_12\", \"run_number\": 17, \"metric\": null, \"status\": \"Completed\", \"run_type\": \"azureml.scriptrun\", \"training_percent\": \"100\", \"start_time\": \"2021-02-14T08:12:32.950286Z\", \"end_time\": \"2021-02-14T08:13:22.278398Z\", \"created_time\": \"2021-02-14T08:12:21.578813Z\", \"created_time_dt\": \"2021-02-14T08:12:21.578813Z\", \"duration\": \"0:01:00\", \"iteration\": \"12\", \"goal\": \"accuracy_max\", \"run_name\": \"MaxAbsScaler, LightGBM\", \"run_properties\": \"copy=True\", \"primary_metric\": 0.82271186, \"best_metric\": 0.84960452}, {\"run_id\": \"AutoML_3b0e13c3-7b0d-43e0-b514-357905decf6d_13\", \"run_number\": 18, \"metric\": null, \"status\": \"Completed\", \"run_type\": \"azureml.scriptrun\", \"training_percent\": \"100\", \"start_time\": \"2021-02-14T08:12:46.562076Z\", \"end_time\": \"2021-02-14T08:13:37.805164Z\", \"created_time\": \"2021-02-14T08:12:35.776323Z\", \"created_time_dt\": \"2021-02-14T08:12:35.776323Z\", \"duration\": \"0:01:02\", \"iteration\": \"13\", \"goal\": \"accuracy_max\", \"run_name\": \"MinMaxScaler, LightGBM\", \"run_properties\": \"copy=True, feature_range=(0, 1\", \"primary_metric\": 0.81615819, \"best_metric\": 0.84960452}, {\"run_id\": \"AutoML_3b0e13c3-7b0d-43e0-b514-357905decf6d_14\", \"run_number\": 19, \"metric\": null, \"status\": \"Completed\", \"run_type\": \"azureml.scriptrun\", \"training_percent\": \"100\", \"start_time\": \"2021-02-14T08:12:52.97945Z\", \"end_time\": \"2021-02-14T08:13:38.732521Z\", \"created_time\": \"2021-02-14T08:12:40.685995Z\", \"created_time_dt\": \"2021-02-14T08:12:40.685995Z\", \"duration\": \"0:00:58\", \"iteration\": \"14\", \"goal\": \"accuracy_max\", \"run_name\": \"RobustScaler, ExtremeRandomTrees\", \"run_properties\": \"copy=True, quantile_range=[25, 75], with_centering=True,\\n             with_scaling=False\", \"primary_metric\": 0.85615819, \"best_metric\": 0.85615819}, {\"run_id\": \"AutoML_3b0e13c3-7b0d-43e0-b514-357905decf6d_15\", \"run_number\": 20, \"metric\": null, \"status\": \"Completed\", \"run_type\": \"azureml.scriptrun\", \"training_percent\": \"100\", \"start_time\": \"2021-02-14T08:13:07.002079Z\", \"end_time\": \"2021-02-14T08:13:56.19256Z\", \"created_time\": \"2021-02-14T08:12:53.659833Z\", \"created_time_dt\": \"2021-02-14T08:12:53.659833Z\", \"duration\": \"0:01:02\", \"iteration\": \"15\", \"goal\": \"accuracy_max\", \"run_name\": \"RobustScaler, ExtremeRandomTrees\", \"run_properties\": \"copy=True, quantile_range=[25, 75], with_centering=True,\\n             with_scaling=False\", \"primary_metric\": 0.84276836, \"best_metric\": 0.85615819}, {\"run_id\": \"AutoML_3b0e13c3-7b0d-43e0-b514-357905decf6d_16\", \"run_number\": 21, \"metric\": null, \"status\": \"Completed\", \"run_type\": \"azureml.scriptrun\", \"training_percent\": \"100\", \"start_time\": \"2021-02-14T08:13:37.177743Z\", \"end_time\": \"2021-02-14T08:14:26.222084Z\", \"created_time\": \"2021-02-14T08:13:25.620882Z\", \"created_time_dt\": \"2021-02-14T08:13:25.620882Z\", \"duration\": \"0:01:00\", \"iteration\": \"16\", \"goal\": \"accuracy_max\", \"run_name\": \"MaxAbsScaler, LightGBM\", \"run_properties\": \"copy=True\", \"primary_metric\": 0.8460452, \"best_metric\": 0.85615819}, {\"run_id\": \"AutoML_3b0e13c3-7b0d-43e0-b514-357905decf6d_17\", \"run_number\": 22, \"metric\": null, \"status\": \"Completed\", \"run_type\": \"azureml.scriptrun\", \"training_percent\": \"100\", \"start_time\": \"2021-02-14T08:13:49.748301Z\", \"end_time\": \"2021-02-14T08:14:38.29377Z\", \"created_time\": \"2021-02-14T08:13:39.919449Z\", \"created_time_dt\": \"2021-02-14T08:13:39.919449Z\", \"duration\": \"0:00:58\", \"iteration\": \"17\", \"goal\": \"accuracy_max\", \"run_name\": \"StandardScalerWrapper, LightGBM\", \"run_properties\": \"<azureml.automl.runtime.shared.model_wrappers.StandardScalerWrapper object at 0x7f2184cf4da0\", \"primary_metric\": 0.8160452, \"best_metric\": 0.85615819}, {\"run_id\": \"AutoML_3b0e13c3-7b0d-43e0-b514-357905decf6d_18\", \"run_number\": 23, \"metric\": null, \"status\": \"Completed\", \"run_type\": \"azureml.scriptrun\", \"training_percent\": \"100\", \"start_time\": \"2021-02-14T08:13:55.488547Z\", \"end_time\": \"2021-02-14T08:14:41.577346Z\", \"created_time\": \"2021-02-14T08:13:42.936254Z\", \"created_time_dt\": \"2021-02-14T08:13:42.936254Z\", \"duration\": \"0:00:58\", \"iteration\": \"18\", \"goal\": \"accuracy_max\", \"run_name\": \"RobustScaler, LightGBM\", \"run_properties\": \"copy=True, quantile_range=[10, 90], with_centering=False,\\n             with_scaling=False\", \"primary_metric\": 0.78282486, \"best_metric\": 0.85615819}, {\"run_id\": \"AutoML_3b0e13c3-7b0d-43e0-b514-357905decf6d_19\", \"run_number\": 24, \"metric\": null, \"status\": \"Completed\", \"run_type\": \"azureml.scriptrun\", \"training_percent\": \"100\", \"start_time\": \"2021-02-14T08:14:10.349871Z\", \"end_time\": \"2021-02-14T08:14:57.706Z\", \"created_time\": \"2021-02-14T08:13:58.810102Z\", \"created_time_dt\": \"2021-02-14T08:13:58.810102Z\", \"duration\": \"0:00:58\", \"iteration\": \"19\", \"goal\": \"accuracy_max\", \"run_name\": \"SparseNormalizer, XGBoostClassifier\", \"run_properties\": \"<azureml.automl.runtime.shared.model_wrappers.SparseNormalizer object at 0x7f4a156b8d30\", \"primary_metric\": 0.84271186, \"best_metric\": 0.85615819}, {\"run_id\": \"AutoML_3b0e13c3-7b0d-43e0-b514-357905decf6d_20\", \"run_number\": 25, \"metric\": null, \"status\": \"Completed\", \"run_type\": \"azureml.scriptrun\", \"training_percent\": \"100\", \"start_time\": \"2021-02-14T08:14:42.009123Z\", \"end_time\": \"2021-02-14T08:15:28.280672Z\", \"created_time\": \"2021-02-14T08:14:28.96739Z\", \"created_time_dt\": \"2021-02-14T08:14:28.96739Z\", \"duration\": \"0:00:59\", \"iteration\": \"20\", \"goal\": \"accuracy_max\", \"run_name\": \"SparseNormalizer, LightGBM\", \"run_properties\": \"<azureml.automl.runtime.shared.model_wrappers.SparseNormalizer object at 0x7f509a472438\", \"primary_metric\": 0.83299435, \"best_metric\": 0.85615819}, {\"run_id\": \"AutoML_3b0e13c3-7b0d-43e0-b514-357905decf6d_21\", \"run_number\": 26, \"metric\": null, \"status\": \"Completed\", \"run_type\": \"azureml.scriptrun\", \"training_percent\": \"100\", \"start_time\": \"2021-02-14T08:14:54.450483Z\", \"end_time\": \"2021-02-14T08:15:51.274675Z\", \"created_time\": \"2021-02-14T08:14:41.67828Z\", \"created_time_dt\": \"2021-02-14T08:14:41.67828Z\", \"duration\": \"0:01:09\", \"iteration\": \"21\", \"goal\": \"accuracy_max\", \"run_name\": \"SparseNormalizer, XGBoostClassifier\", \"run_properties\": \"<azureml.automl.runtime.shared.model_wrappers.SparseNormalizer object at 0x7ff2bbcbb7f0\", \"primary_metric\": 0.84615819, \"best_metric\": 0.85615819}, {\"run_id\": \"AutoML_3b0e13c3-7b0d-43e0-b514-357905decf6d_22\", \"run_number\": 27, \"metric\": null, \"status\": \"Completed\", \"run_type\": \"azureml.scriptrun\", \"training_percent\": \"100\", \"start_time\": \"2021-02-14T08:14:58.660696Z\", \"end_time\": \"2021-02-14T08:15:52.46018Z\", \"created_time\": \"2021-02-14T08:14:45.912733Z\", \"created_time_dt\": \"2021-02-14T08:14:45.912733Z\", \"duration\": \"0:01:06\", \"iteration\": \"22\", \"goal\": \"accuracy_max\", \"run_name\": \"StandardScalerWrapper, ExtremeRandomTrees\", \"run_properties\": \"<azureml.automl.runtime.shared.model_wrappers.StandardScalerWrapper object at 0x7f4da379c8d0\", \"primary_metric\": 0.80937853, \"best_metric\": 0.85615819}, {\"run_id\": \"AutoML_3b0e13c3-7b0d-43e0-b514-357905decf6d_23\", \"run_number\": 28, \"metric\": null, \"status\": \"Completed\", \"run_type\": \"azureml.scriptrun\", \"training_percent\": \"100\", \"start_time\": \"2021-02-14T08:15:09.842107Z\", \"end_time\": \"2021-02-14T08:16:00.090478Z\", \"created_time\": \"2021-02-14T08:14:59.915403Z\", \"created_time_dt\": \"2021-02-14T08:14:59.915403Z\", \"duration\": \"0:01:00\", \"iteration\": \"23\", \"goal\": \"accuracy_max\", \"run_name\": \"MaxAbsScaler, LightGBM\", \"run_properties\": \"copy=True\", \"primary_metric\": 0.79587571, \"best_metric\": 0.85615819}, {\"run_id\": \"AutoML_3b0e13c3-7b0d-43e0-b514-357905decf6d_24\", \"run_number\": 29, \"metric\": null, \"status\": \"Completed\", \"run_type\": \"azureml.scriptrun\", \"training_percent\": \"100\", \"start_time\": \"2021-02-14T08:15:41.93832Z\", \"end_time\": \"2021-02-14T08:16:34.309777Z\", \"created_time\": \"2021-02-14T08:15:30.040656Z\", \"created_time_dt\": \"2021-02-14T08:15:30.040656Z\", \"duration\": \"0:01:04\", \"iteration\": \"24\", \"goal\": \"accuracy_max\", \"run_name\": \"MaxAbsScaler, GradientBoosting\", \"run_properties\": \"copy=True\", \"primary_metric\": 0.83932203, \"best_metric\": 0.85615819}, {\"run_id\": \"AutoML_3b0e13c3-7b0d-43e0-b514-357905decf6d_25\", \"run_number\": 30, \"metric\": null, \"status\": \"Completed\", \"run_type\": \"azureml.scriptrun\", \"training_percent\": \"100\", \"start_time\": \"2021-02-14T08:16:06.635487Z\", \"end_time\": \"2021-02-14T08:16:59.447329Z\", \"created_time\": \"2021-02-14T08:15:54.01148Z\", \"created_time_dt\": \"2021-02-14T08:15:54.01148Z\", \"duration\": \"0:01:05\", \"iteration\": \"25\", \"goal\": \"accuracy_max\", \"run_name\": \"PCA, ExtremeRandomTrees\", \"run_properties\": \"copy=True, iterated_power='auto', n_components=0.3068421052631579,\\n    random_state=None, svd_solver='auto', tol=0.0, whiten=True\", \"primary_metric\": 0.67909605, \"best_metric\": 0.85615819}, {\"run_id\": \"AutoML_3b0e13c3-7b0d-43e0-b514-357905decf6d_26\", \"run_number\": 31, \"metric\": null, \"status\": \"Completed\", \"run_type\": \"azureml.scriptrun\", \"training_percent\": \"100\", \"start_time\": \"2021-02-14T08:16:06.79152Z\", \"end_time\": \"2021-02-14T08:17:01.07292Z\", \"created_time\": \"2021-02-14T08:15:57.287458Z\", \"created_time_dt\": \"2021-02-14T08:15:57.287458Z\", \"duration\": \"0:01:03\", \"iteration\": \"26\", \"goal\": \"accuracy_max\", \"run_name\": \"SparseNormalizer, XGBoostClassifier\", \"run_properties\": \"<azureml.automl.runtime.shared.model_wrappers.SparseNormalizer object at 0x7f093d8ae668\", \"primary_metric\": 0.83276836, \"best_metric\": 0.85615819}, {\"run_id\": \"AutoML_3b0e13c3-7b0d-43e0-b514-357905decf6d_27\", \"run_number\": 32, \"metric\": null, \"status\": \"Completed\", \"run_type\": \"azureml.scriptrun\", \"training_percent\": \"100\", \"start_time\": \"2021-02-14T08:16:13.997347Z\", \"end_time\": \"2021-02-14T08:17:06.079703Z\", \"created_time\": \"2021-02-14T08:16:01.986358Z\", \"created_time_dt\": \"2021-02-14T08:16:01.986358Z\", \"duration\": \"0:01:04\", \"iteration\": \"27\", \"goal\": \"accuracy_max\", \"run_name\": \"StandardScalerWrapper, LightGBM\", \"run_properties\": \"<azureml.automl.runtime.shared.model_wrappers.StandardScalerWrapper object at 0x7f3386869908\", \"primary_metric\": 0.83610169, \"best_metric\": 0.85615819}, {\"run_id\": \"AutoML_3b0e13c3-7b0d-43e0-b514-357905decf6d_28\", \"run_number\": 33, \"metric\": null, \"status\": \"Completed\", \"run_type\": \"azureml.scriptrun\", \"training_percent\": \"100\", \"start_time\": \"2021-02-14T08:16:47.206452Z\", \"end_time\": \"2021-02-14T08:17:40.623277Z\", \"created_time\": \"2021-02-14T08:16:36.067387Z\", \"created_time_dt\": \"2021-02-14T08:16:36.067387Z\", \"duration\": \"0:01:04\", \"iteration\": \"28\", \"goal\": \"accuracy_max\", \"run_name\": \"RobustScaler, RandomForest\", \"run_properties\": \"copy=True, quantile_range=[10, 90], with_centering=True,\\n             with_scaling=False\", \"primary_metric\": 0.85259887, \"best_metric\": 0.85615819}, {\"run_id\": \"AutoML_3b0e13c3-7b0d-43e0-b514-357905decf6d_29\", \"run_number\": 34, \"metric\": null, \"status\": \"Completed\", \"run_type\": \"azureml.scriptrun\", \"training_percent\": \"100\", \"start_time\": \"2021-02-14T08:17:16.183316Z\", \"end_time\": \"2021-02-14T08:18:05.277487Z\", \"created_time\": \"2021-02-14T08:17:03.62815Z\", \"created_time_dt\": \"2021-02-14T08:17:03.62815Z\", \"duration\": \"0:01:01\", \"iteration\": \"29\", \"goal\": \"accuracy_max\", \"run_name\": \"StandardScalerWrapper, XGBoostClassifier\", \"run_properties\": \"<azureml.automl.runtime.shared.model_wrappers.StandardScalerWrapper object at 0x7f7de46b7ef0\", \"primary_metric\": 0.8360452, \"best_metric\": 0.85615819}, {\"run_id\": \"AutoML_3b0e13c3-7b0d-43e0-b514-357905decf6d_30\", \"run_number\": 35, \"metric\": null, \"status\": \"Completed\", \"run_type\": \"azureml.scriptrun\", \"training_percent\": \"100\", \"start_time\": \"2021-02-14T08:17:21.738921Z\", \"end_time\": \"2021-02-14T08:18:05.099416Z\", \"created_time\": \"2021-02-14T08:17:10.33399Z\", \"created_time_dt\": \"2021-02-14T08:17:10.33399Z\", \"duration\": \"0:00:54\", \"iteration\": \"30\", \"goal\": \"accuracy_max\", \"run_name\": \"MaxAbsScaler, ExtremeRandomTrees\", \"run_properties\": \"copy=True\", \"primary_metric\": 0.85282486, \"best_metric\": 0.85615819}, {\"run_id\": \"AutoML_3b0e13c3-7b0d-43e0-b514-357905decf6d_31\", \"run_number\": 36, \"metric\": null, \"status\": \"Completed\", \"run_type\": \"azureml.scriptrun\", \"training_percent\": \"100\", \"start_time\": \"2021-02-14T08:17:22.279063Z\", \"end_time\": \"2021-02-14T08:18:11.639465Z\", \"created_time\": \"2021-02-14T08:17:10.669881Z\", \"created_time_dt\": \"2021-02-14T08:17:10.669881Z\", \"duration\": \"0:01:00\", \"iteration\": \"31\", \"goal\": \"accuracy_max\", \"run_name\": \"RobustScaler, RandomForest\", \"run_properties\": \"copy=True, quantile_range=[25, 75], with_centering=True,\\n             with_scaling=False\", \"primary_metric\": 0.83276836, \"best_metric\": 0.85615819}, {\"run_id\": \"AutoML_3b0e13c3-7b0d-43e0-b514-357905decf6d_32\", \"run_number\": 37, \"metric\": null, \"status\": \"Completed\", \"run_type\": \"azureml.scriptrun\", \"training_percent\": \"100\", \"start_time\": \"2021-02-14T08:17:57.193757Z\", \"end_time\": \"2021-02-14T08:18:43.186298Z\", \"created_time\": \"2021-02-14T08:17:43.389814Z\", \"created_time_dt\": \"2021-02-14T08:17:43.389814Z\", \"duration\": \"0:00:59\", \"iteration\": \"32\", \"goal\": \"accuracy_max\", \"run_name\": \"StandardScalerWrapper, XGBoostClassifier\", \"run_properties\": \"<azureml.automl.runtime.shared.model_wrappers.StandardScalerWrapper object at 0x7f73f514a550\", \"primary_metric\": 0.84282486, \"best_metric\": 0.85615819}, {\"run_id\": \"AutoML_3b0e13c3-7b0d-43e0-b514-357905decf6d_33\", \"run_number\": 38, \"metric\": null, \"status\": \"Canceled\", \"run_type\": \"azureml.scriptrun\", \"training_percent\": \"100\", \"start_time\": \"2021-02-14T08:18:17.028135Z\", \"end_time\": \"2021-02-14T08:18:50.437016Z\", \"created_time\": \"2021-02-14T08:18:06.925542Z\", \"created_time_dt\": \"2021-02-14T08:18:06.925542Z\", \"duration\": \"0:00:43\", \"iteration\": \"33\", \"goal\": \"accuracy_max\", \"run_name\": \"SparseNormalizer, XGBoostClassifier\", \"run_properties\": \"<azureml.automl.runtime.shared.model_wrappers.SparseNormalizer object at 0x7fe5b00d75f8\", \"primary_metric\": 0.83960452, \"best_metric\": 0.85615819}, {\"run_id\": \"AutoML_3b0e13c3-7b0d-43e0-b514-357905decf6d_34\", \"run_number\": 39, \"metric\": null, \"status\": \"Canceled\", \"run_type\": \"azureml.scriptrun\", \"training_percent\": \"100\", \"start_time\": \"2021-02-14T08:18:19.91128Z\", \"end_time\": \"2021-02-14T08:18:50.712187Z\", \"created_time\": \"2021-02-14T08:18:06.991832Z\", \"created_time_dt\": \"2021-02-14T08:18:06.991832Z\", \"duration\": \"0:00:43\", \"iteration\": \"34\", \"goal\": \"accuracy_max\", \"run_name\": \"SparseNormalizer, LightGBM\", \"run_properties\": \"<azureml.automl.runtime.shared.model_wrappers.SparseNormalizer object at 0x7f3495bdfd68\", \"primary_metric\": 0.84621469, \"best_metric\": 0.85615819}, {\"run_id\": \"AutoML_3b0e13c3-7b0d-43e0-b514-357905decf6d_35\", \"run_number\": 40, \"metric\": null, \"status\": \"Canceled\", \"run_type\": \"azureml.scriptrun\", \"training_percent\": \"100\", \"start_time\": \"2021-02-14T08:18:23.647782Z\", \"end_time\": \"2021-02-14T08:18:49.859326Z\", \"created_time\": \"2021-02-14T08:18:14.155938Z\", \"created_time_dt\": \"2021-02-14T08:18:14.155938Z\", \"duration\": \"0:00:35\", \"iteration\": \"35\", \"goal\": \"accuracy_max\", \"run_name\": \"SparseNormalizer, ExtremeRandomTrees\", \"run_properties\": \"<azureml.automl.runtime.shared.model_wrappers.SparseNormalizer object at 0x7f0c7e9d4588\", \"primary_metric\": 0.67909605, \"best_metric\": 0.85615819}, {\"run_id\": \"AutoML_3b0e13c3-7b0d-43e0-b514-357905decf6d_36\", \"run_number\": 41, \"metric\": null, \"status\": \"Completed\", \"run_type\": \"azureml.scriptrun\", \"training_percent\": \"100\", \"start_time\": \"2021-02-14T08:19:04.901561Z\", \"end_time\": \"2021-02-14T08:20:29.01522Z\", \"created_time\": \"2021-02-14T08:18:52.278107Z\", \"created_time_dt\": \"2021-02-14T08:18:52.278107Z\", \"duration\": \"0:01:36\", \"iteration\": \"36\", \"goal\": \"accuracy_max\", \"run_name\": \"VotingEnsemble\", \"run_properties\": \"classification_labels=None,\\n                              estimators=[('14',\\n                                           Pipeline(memory=None,\\n                                                    steps=[('robustscaler',\\n                                                            RobustScaler(copy=True,\\n                                                                         quantile_range=[25,\\n                                                                                         75],\\n                                                                         with_centering=True,\\n                                                                         with_scaling=False\", \"primary_metric\": 0.87299435, \"best_metric\": 0.87299435}], \"children_metrics\": {\"categories\": [0], \"series\": {\"matthews_correlation\": [{\"categories\": [\"0\", \"1\", \"2\", \"3\", \"4\", \"5\", \"6\", \"7\", \"8\", \"9\", \"10\", \"11\", \"12\", \"13\", \"14\", \"15\", \"16\", \"17\", \"18\", \"19\", \"20\", \"21\", \"22\", \"23\", \"24\", \"25\", \"26\", \"27\", \"28\", \"29\", \"30\", \"31\", \"32\", \"33\", \"34\", \"35\", \"36\"], \"mode\": \"markers\", \"name\": \"matthews_correlation\", \"stepped\": false, \"type\": \"scatter\", \"data\": [0.5628617041183437, 0.6132552509330647, 0.5742984306365971, 0.6266232947374907, 0.594757460320716, 0.32025572059278146, 0.295405969411106, 0.6027867597071751, 0.5428697166604373, 0.37006932289245953, 0.6140426765424488, 0.6568903004948619, 0.5894205461764175, 0.5731686693141919, 0.6733697034632289, 0.640457178151012, 0.6434829400534046, 0.577377585520883, 0.4971790607440004, 0.6368962197433861, 0.6311991764150848, 0.6451955059526496, 0.5533803769449569, 0.5241174584965578, 0.6325080213857579, 0.0, 0.6226348862652756, 0.6251022832698401, 0.6668848703407718, 0.6279938389599077, 0.6619095699091744, 0.6121367748592493, 0.6470603521367773, 0.6290582354256522, 0.649556463408713, 0.0, 0.7210402592750885]}, {\"categories\": [\"0\", \"1\", \"2\", \"3\", \"4\", \"5\", \"6\", \"7\", \"8\", \"9\", \"10\", \"11\", \"12\", \"13\", \"14\", \"15\", \"16\", \"17\", \"18\", \"19\", \"20\", \"21\", \"22\", \"23\", \"24\", \"25\", \"26\", \"27\", \"28\", \"29\", \"30\", \"31\", \"32\", \"33\", \"34\", \"35\", \"36\"], \"mode\": \"lines\", \"name\": \"matthews_correlation_max\", \"stepped\": true, \"type\": \"scatter\", \"data\": [0.5628617041183437, 0.6132552509330647, 0.6132552509330647, 0.6266232947374907, 0.6266232947374907, 0.6266232947374907, 0.6266232947374907, 0.6266232947374907, 0.6266232947374907, 0.6266232947374907, 0.6266232947374907, 0.6568903004948619, 0.6568903004948619, 0.6568903004948619, 0.6733697034632289, 0.6733697034632289, 0.6733697034632289, 0.6733697034632289, 0.6733697034632289, 0.6733697034632289, 0.6733697034632289, 0.6733697034632289, 0.6733697034632289, 0.6733697034632289, 0.6733697034632289, 0.6733697034632289, 0.6733697034632289, 0.6733697034632289, 0.6733697034632289, 0.6733697034632289, 0.6733697034632289, 0.6733697034632289, 0.6733697034632289, 0.6733697034632289, 0.6733697034632289, 0.6733697034632289, 0.7210402592750885]}], \"recall_score_macro\": [{\"categories\": [\"0\", \"1\", \"2\", \"3\", \"4\", \"5\", \"6\", \"7\", \"8\", \"9\", \"10\", \"11\", \"12\", \"13\", \"14\", \"15\", \"16\", \"17\", \"18\", \"19\", \"20\", \"21\", \"22\", \"23\", \"24\", \"25\", \"26\", \"27\", \"28\", \"29\", \"30\", \"31\", \"32\", \"33\", \"34\", \"35\", \"36\"], \"mode\": \"markers\", \"name\": \"recall_score_macro\", \"stepped\": false, \"type\": \"scatter\", \"data\": [0.7760209025470652, 0.8060125968992248, 0.7832745016611297, 0.7987292358803987, 0.8035721207087485, 0.6165351605758582, 0.6207613510520488, 0.7962631506090808, 0.7602512458471761, 0.6379761904761905, 0.8002470930232558, 0.8112458471760797, 0.7812631506090808, 0.7494601328903654, 0.8097279900332225, 0.7963268272425249, 0.8090607696566998, 0.7672155315614617, 0.6851785714285714, 0.8001744186046512, 0.8043410852713178, 0.8053488372093023, 0.7271387043189368, 0.7311738648947952, 0.804626245847176, 0.5, 0.8033720930232559, 0.8015012458471761, 0.8283340254706534, 0.8026875692137321, 0.8013946566998893, 0.7967393410852713, 0.8140988372093023, 0.7962160852713177, 0.8072279900332227, 0.5, 0.8380952380952381]}, {\"categories\": [\"0\", \"1\", \"2\", \"3\", \"4\", \"5\", \"6\", \"7\", \"8\", \"9\", \"10\", \"11\", \"12\", \"13\", \"14\", \"15\", \"16\", \"17\", \"18\", \"19\", \"20\", \"21\", \"22\", \"23\", \"24\", \"25\", \"26\", \"27\", \"28\", \"29\", \"30\", \"31\", \"32\", \"33\", \"34\", \"35\", \"36\"], \"mode\": \"lines\", \"name\": \"recall_score_macro_max\", \"stepped\": true, \"type\": \"scatter\", \"data\": [0.7760209025470652, 0.8060125968992248, 0.8060125968992248, 0.8060125968992248, 0.8060125968992248, 0.8060125968992248, 0.8060125968992248, 0.8060125968992248, 0.8060125968992248, 0.8060125968992248, 0.8060125968992248, 0.8112458471760797, 0.8112458471760797, 0.8112458471760797, 0.8112458471760797, 0.8112458471760797, 0.8112458471760797, 0.8112458471760797, 0.8112458471760797, 0.8112458471760797, 0.8112458471760797, 0.8112458471760797, 0.8112458471760797, 0.8112458471760797, 0.8112458471760797, 0.8112458471760797, 0.8112458471760797, 0.8112458471760797, 0.8283340254706534, 0.8283340254706534, 0.8283340254706534, 0.8283340254706534, 0.8283340254706534, 0.8283340254706534, 0.8283340254706534, 0.8283340254706534, 0.8380952380952381]}], \"log_loss\": [{\"categories\": [\"0\", \"1\", \"2\", \"3\", \"4\", \"5\", \"6\", \"7\", \"8\", \"9\", \"10\", \"11\", \"12\", \"13\", \"14\", \"15\", \"16\", \"17\", \"18\", \"19\", \"20\", \"21\", \"22\", \"23\", \"24\", \"25\", \"26\", \"27\", \"28\", \"29\", \"30\", \"31\", \"32\", \"33\", \"34\", \"35\", \"36\"], \"mode\": \"markers\", \"name\": \"log_loss\", \"stepped\": false, \"type\": \"scatter\", \"data\": [0.5282491261622873, 0.43217688137359717, 0.40298417687289073, 0.38667755980800844, 0.39477988208030707, 0.5545843849871857, 0.5925420283144216, 0.3706456565411491, 0.4899611430866921, 0.5184056250785269, 0.41344743858025723, 0.38995629857272407, 0.4583476083735859, 0.4331556229669603, 0.4106014451904073, 0.4154923512357085, 0.4249549102616344, 0.4727004574854833, 0.4849891849008321, 0.414322494277926, 0.41472333246893617, 0.39424331638853444, 0.45866972177684434, 0.4641793310729094, 0.403253071890496, 0.6382257454719192, 0.4600718451244279, 0.43199461094092906, 0.37845590884304203, 0.4205545022672602, 0.4472763741009172, 0.39736532548904435, 0.46067683861452957, 0.40554826216683126, 0.42475415144911965, 0.6398372595883954, 0.4099221262136351]}, {\"categories\": [\"0\", \"1\", \"2\", \"3\", \"4\", \"5\", \"6\", \"7\", \"8\", \"9\", \"10\", \"11\", \"12\", \"13\", \"14\", \"15\", \"16\", \"17\", \"18\", \"19\", \"20\", \"21\", \"22\", \"23\", \"24\", \"25\", \"26\", \"27\", \"28\", \"29\", \"30\", \"31\", \"32\", \"33\", \"34\", \"35\", \"36\"], \"mode\": \"lines\", \"name\": \"log_loss_min\", \"stepped\": true, \"type\": \"scatter\", \"data\": [0.5282491261622873, 0.43217688137359717, 0.40298417687289073, 0.38667755980800844, 0.38667755980800844, 0.38667755980800844, 0.38667755980800844, 0.3706456565411491, 0.3706456565411491, 0.3706456565411491, 0.3706456565411491, 0.3706456565411491, 0.3706456565411491, 0.3706456565411491, 0.3706456565411491, 0.3706456565411491, 0.3706456565411491, 0.3706456565411491, 0.3706456565411491, 0.3706456565411491, 0.3706456565411491, 0.3706456565411491, 0.3706456565411491, 0.3706456565411491, 0.3706456565411491, 0.3706456565411491, 0.3706456565411491, 0.3706456565411491, 0.3706456565411491, 0.3706456565411491, 0.3706456565411491, 0.3706456565411491, 0.3706456565411491, 0.3706456565411491, 0.3706456565411491, 0.3706456565411491, 0.3706456565411491]}], \"weighted_accuracy\": [{\"categories\": [\"0\", \"1\", \"2\", \"3\", \"4\", \"5\", \"6\", \"7\", \"8\", \"9\", \"10\", \"11\", \"12\", \"13\", \"14\", \"15\", \"16\", \"17\", \"18\", \"19\", \"20\", \"21\", \"22\", \"23\", \"24\", \"25\", \"26\", \"27\", \"28\", \"29\", \"30\", \"31\", \"32\", \"33\", \"34\", \"35\", \"36\"], \"mode\": \"markers\", \"name\": \"weighted_accuracy\", \"stepped\": false, \"type\": \"scatter\", \"data\": [0.8252063202764133, 0.8406325321291572, 0.8331130361883472, 0.8591290784070551, 0.8240821243554283, 0.8045752810026119, 0.7695242910482673, 0.8453702623377983, 0.8396048623725025, 0.8032567402089587, 0.8533225791693511, 0.876880803619453, 0.8513702623377982, 0.8613333959821501, 0.8878706161799638, 0.8752197848260443, 0.8714073957752442, 0.8499213641944703, 0.8482943439246929, 0.8717026983916979, 0.8533820798830117, 0.8731189342447088, 0.8641368472724892, 0.8408221857595117, 0.8633892012399519, 0.7971865900207855, 0.8519027822257064, 0.8608897582786085, 0.8686710537324889, 0.8596284710844799, 0.886890224023101, 0.857006711254489, 0.8621777577741205, 0.8692632433209975, 0.8736261003213637, 0.7971865900207855, 0.8966147612977042]}, {\"categories\": [\"0\", \"1\", \"2\", \"3\", \"4\", \"5\", \"6\", \"7\", \"8\", \"9\", \"10\", \"11\", \"12\", \"13\", \"14\", \"15\", \"16\", \"17\", \"18\", \"19\", \"20\", \"21\", \"22\", \"23\", \"24\", \"25\", \"26\", \"27\", \"28\", \"29\", \"30\", \"31\", \"32\", \"33\", \"34\", \"35\", \"36\"], \"mode\": \"lines\", \"name\": \"weighted_accuracy_max\", \"stepped\": true, \"type\": \"scatter\", \"data\": [0.8252063202764133, 0.8406325321291572, 0.8406325321291572, 0.8591290784070551, 0.8591290784070551, 0.8591290784070551, 0.8591290784070551, 0.8591290784070551, 0.8591290784070551, 0.8591290784070551, 0.8591290784070551, 0.876880803619453, 0.876880803619453, 0.876880803619453, 0.8878706161799638, 0.8878706161799638, 0.8878706161799638, 0.8878706161799638, 0.8878706161799638, 0.8878706161799638, 0.8878706161799638, 0.8878706161799638, 0.8878706161799638, 0.8878706161799638, 0.8878706161799638, 0.8878706161799638, 0.8878706161799638, 0.8878706161799638, 0.8878706161799638, 0.8878706161799638, 0.8878706161799638, 0.8878706161799638, 0.8878706161799638, 0.8878706161799638, 0.8878706161799638, 0.8878706161799638, 0.8966147612977042]}], \"precision_score_macro\": [{\"categories\": [\"0\", \"1\", \"2\", \"3\", \"4\", \"5\", \"6\", \"7\", \"8\", \"9\", \"10\", \"11\", \"12\", \"13\", \"14\", \"15\", \"16\", \"17\", \"18\", \"19\", \"20\", \"21\", \"22\", \"23\", \"24\", \"25\", \"26\", \"27\", \"28\", \"29\", \"30\", \"31\", \"32\", \"33\", \"34\", \"35\", \"36\"], \"mode\": \"markers\", \"name\": \"precision_score_macro\", \"stepped\": false, \"type\": \"scatter\", \"data\": [0.7889041743265773, 0.8086642059265495, 0.7926604278570337, 0.8308911088911088, 0.7926728111150135, 0.7227147116634987, 0.6884150971979109, 0.808798473059148, 0.7842618251313904, 0.7693400768179093, 0.815014437317069, 0.848492463658258, 0.8106583750313735, 0.8309955634427684, 0.8680007529193619, 0.8469338412347531, 0.8355654079460381, 0.8145149307214524, 0.8374109686609685, 0.8435179739053155, 0.8298263723233414, 0.8425044946309667, 0.8391911132345914, 0.8003172978758532, 0.8307966193670406, 0.33954802259887, 0.8209439634648869, 0.8255238812747884, 0.8394436287176792, 0.8273228335313828, 0.8651732946633321, 0.8166697437644915, 0.8358952910583346, 0.8353706199351191, 0.8459006211180125, 0.33954802259887, 0.8871634861302564]}, {\"categories\": [\"0\", \"1\", \"2\", \"3\", \"4\", \"5\", \"6\", \"7\", \"8\", \"9\", \"10\", \"11\", \"12\", \"13\", \"14\", \"15\", \"16\", \"17\", \"18\", \"19\", \"20\", \"21\", \"22\", \"23\", \"24\", \"25\", \"26\", \"27\", \"28\", \"29\", \"30\", \"31\", \"32\", \"33\", \"34\", \"35\", \"36\"], \"mode\": \"lines\", \"name\": \"precision_score_macro_max\", \"stepped\": true, \"type\": \"scatter\", \"data\": [0.7889041743265773, 0.8086642059265495, 0.8086642059265495, 0.8308911088911088, 0.8308911088911088, 0.8308911088911088, 0.8308911088911088, 0.8308911088911088, 0.8308911088911088, 0.8308911088911088, 0.8308911088911088, 0.848492463658258, 0.848492463658258, 0.848492463658258, 0.8680007529193619, 0.8680007529193619, 0.8680007529193619, 0.8680007529193619, 0.8680007529193619, 0.8680007529193619, 0.8680007529193619, 0.8680007529193619, 0.8680007529193619, 0.8680007529193619, 0.8680007529193619, 0.8680007529193619, 0.8680007529193619, 0.8680007529193619, 0.8680007529193619, 0.8680007529193619, 0.8680007529193619, 0.8680007529193619, 0.8680007529193619, 0.8680007529193619, 0.8680007529193619, 0.8680007529193619, 0.8871634861302564]}], \"AUC_macro\": [{\"categories\": [\"0\", \"1\", \"2\", \"3\", \"4\", \"5\", \"6\", \"7\", \"8\", \"9\", \"10\", \"11\", \"12\", \"13\", \"14\", \"15\", \"16\", \"17\", \"18\", \"19\", \"20\", \"21\", \"22\", \"23\", \"24\", \"25\", \"26\", \"27\", \"28\", \"29\", \"30\", \"31\", \"32\", \"33\", \"34\", \"35\", \"36\"], \"mode\": \"markers\", \"name\": \"AUC_macro\", \"stepped\": false, \"type\": \"scatter\", \"data\": [0.8811331210778885, 0.8929591177556295, 0.8939908637873755, 0.9091502168696936, 0.8960422665190106, 0.744813815060908, 0.7394446982281285, 0.9075524178663713, 0.8592381875230715, 0.8303234588409006, 0.8947109403839054, 0.8940481035437431, 0.8940475959763751, 0.8967023348098928, 0.8986825627537837, 0.8994038851974899, 0.9042281976744185, 0.8939186277224069, 0.8896257613510521, 0.8802835455887781, 0.8876433877814691, 0.8944780592469547, 0.8765484496124032, 0.8808052325581395, 0.895404900332226, 0.49752804309708376, 0.8742910322074566, 0.8906933370247323, 0.9179933785529715, 0.9037229143595423, 0.8742399409376154, 0.9025078211517166, 0.89862511535622, 0.8882437707641195, 0.893063030638612, 0.5, 0.9193279808047251]}, {\"categories\": [\"0\", \"1\", \"2\", \"3\", \"4\", \"5\", \"6\", \"7\", \"8\", \"9\", \"10\", \"11\", \"12\", \"13\", \"14\", \"15\", \"16\", \"17\", \"18\", \"19\", \"20\", \"21\", \"22\", \"23\", \"24\", \"25\", \"26\", \"27\", \"28\", \"29\", \"30\", \"31\", \"32\", \"33\", \"34\", \"35\", \"36\"], \"mode\": \"lines\", \"name\": \"AUC_macro_max\", \"stepped\": true, \"type\": \"scatter\", \"data\": [0.8811331210778885, 0.8929591177556295, 0.8939908637873755, 0.9091502168696936, 0.9091502168696936, 0.9091502168696936, 0.9091502168696936, 0.9091502168696936, 0.9091502168696936, 0.9091502168696936, 0.9091502168696936, 0.9091502168696936, 0.9091502168696936, 0.9091502168696936, 0.9091502168696936, 0.9091502168696936, 0.9091502168696936, 0.9091502168696936, 0.9091502168696936, 0.9091502168696936, 0.9091502168696936, 0.9091502168696936, 0.9091502168696936, 0.9091502168696936, 0.9091502168696936, 0.9091502168696936, 0.9091502168696936, 0.9091502168696936, 0.9179933785529715, 0.9179933785529715, 0.9179933785529715, 0.9179933785529715, 0.9179933785529715, 0.9179933785529715, 0.9179933785529715, 0.9179933785529715, 0.9193279808047251]}], \"AUC_weighted\": [{\"categories\": [\"0\", \"1\", \"2\", \"3\", \"4\", \"5\", \"6\", \"7\", \"8\", \"9\", \"10\", \"11\", \"12\", \"13\", \"14\", \"15\", \"16\", \"17\", \"18\", \"19\", \"20\", \"21\", \"22\", \"23\", \"24\", \"25\", \"26\", \"27\", \"28\", \"29\", \"30\", \"31\", \"32\", \"33\", \"34\", \"35\", \"36\"], \"mode\": \"markers\", \"name\": \"AUC_weighted\", \"stepped\": false, \"type\": \"scatter\", \"data\": [0.8811331210778885, 0.8929591177556293, 0.8939908637873755, 0.9091502168696936, 0.8960422665190109, 0.744813815060908, 0.7394446982281285, 0.9075524178663713, 0.8592381875230715, 0.8303234588409006, 0.8947109403839054, 0.8940481035437431, 0.8940475959763751, 0.8967023348098928, 0.8986825627537837, 0.8994038851974897, 0.9042281976744185, 0.8939186277224067, 0.8896257613510521, 0.8802835455887781, 0.8876433877814691, 0.8944780592469546, 0.876548449612403, 0.8808052325581395, 0.895404900332226, 0.49752804309708376, 0.8742910322074569, 0.8906933370247323, 0.9179933785529715, 0.9037229143595423, 0.8742399409376154, 0.9025078211517166, 0.89862511535622, 0.8882437707641195, 0.893063030638612, 0.5, 0.9193279808047251]}, {\"categories\": [\"0\", \"1\", \"2\", \"3\", \"4\", \"5\", \"6\", \"7\", \"8\", \"9\", \"10\", \"11\", \"12\", \"13\", \"14\", \"15\", \"16\", \"17\", \"18\", \"19\", \"20\", \"21\", \"22\", \"23\", \"24\", \"25\", \"26\", \"27\", \"28\", \"29\", \"30\", \"31\", \"32\", \"33\", \"34\", \"35\", \"36\"], \"mode\": \"lines\", \"name\": \"AUC_weighted_max\", \"stepped\": true, \"type\": \"scatter\", \"data\": [0.8811331210778885, 0.8929591177556293, 0.8939908637873755, 0.9091502168696936, 0.9091502168696936, 0.9091502168696936, 0.9091502168696936, 0.9091502168696936, 0.9091502168696936, 0.9091502168696936, 0.9091502168696936, 0.9091502168696936, 0.9091502168696936, 0.9091502168696936, 0.9091502168696936, 0.9091502168696936, 0.9091502168696936, 0.9091502168696936, 0.9091502168696936, 0.9091502168696936, 0.9091502168696936, 0.9091502168696936, 0.9091502168696936, 0.9091502168696936, 0.9091502168696936, 0.9091502168696936, 0.9091502168696936, 0.9091502168696936, 0.9179933785529715, 0.9179933785529715, 0.9179933785529715, 0.9179933785529715, 0.9179933785529715, 0.9179933785529715, 0.9179933785529715, 0.9179933785529715, 0.9193279808047251]}], \"balanced_accuracy\": [{\"categories\": [\"0\", \"1\", \"2\", \"3\", \"4\", \"5\", \"6\", \"7\", \"8\", \"9\", \"10\", \"11\", \"12\", \"13\", \"14\", \"15\", \"16\", \"17\", \"18\", \"19\", \"20\", \"21\", \"22\", \"23\", \"24\", \"25\", \"26\", \"27\", \"28\", \"29\", \"30\", \"31\", \"32\", \"33\", \"34\", \"35\", \"36\"], \"mode\": \"markers\", \"name\": \"balanced_accuracy\", \"stepped\": false, \"type\": \"scatter\", \"data\": [0.7760209025470652, 0.8060125968992248, 0.7832745016611297, 0.7987292358803987, 0.8035721207087485, 0.6165351605758582, 0.6207613510520488, 0.7962631506090808, 0.7602512458471761, 0.6379761904761905, 0.8002470930232558, 0.8112458471760797, 0.7812631506090808, 0.7494601328903654, 0.8097279900332225, 0.7963268272425249, 0.8090607696566998, 0.7672155315614617, 0.6851785714285714, 0.8001744186046512, 0.8043410852713178, 0.8053488372093023, 0.7271387043189368, 0.7311738648947952, 0.804626245847176, 0.5, 0.8033720930232559, 0.8015012458471761, 0.8283340254706534, 0.8026875692137321, 0.8013946566998893, 0.7967393410852713, 0.8140988372093023, 0.7962160852713177, 0.8072279900332227, 0.5, 0.8380952380952381]}, {\"categories\": [\"0\", \"1\", \"2\", \"3\", \"4\", \"5\", \"6\", \"7\", \"8\", \"9\", \"10\", \"11\", \"12\", \"13\", \"14\", \"15\", \"16\", \"17\", \"18\", \"19\", \"20\", \"21\", \"22\", \"23\", \"24\", \"25\", \"26\", \"27\", \"28\", \"29\", \"30\", \"31\", \"32\", \"33\", \"34\", \"35\", \"36\"], \"mode\": \"lines\", \"name\": \"balanced_accuracy_max\", \"stepped\": true, \"type\": \"scatter\", \"data\": [0.7760209025470652, 0.8060125968992248, 0.8060125968992248, 0.8060125968992248, 0.8060125968992248, 0.8060125968992248, 0.8060125968992248, 0.8060125968992248, 0.8060125968992248, 0.8060125968992248, 0.8060125968992248, 0.8112458471760797, 0.8112458471760797, 0.8112458471760797, 0.8112458471760797, 0.8112458471760797, 0.8112458471760797, 0.8112458471760797, 0.8112458471760797, 0.8112458471760797, 0.8112458471760797, 0.8112458471760797, 0.8112458471760797, 0.8112458471760797, 0.8112458471760797, 0.8112458471760797, 0.8112458471760797, 0.8112458471760797, 0.8283340254706534, 0.8283340254706534, 0.8283340254706534, 0.8283340254706534, 0.8283340254706534, 0.8283340254706534, 0.8283340254706534, 0.8283340254706534, 0.8380952380952381]}], \"f1_score_weighted\": [{\"categories\": [\"0\", \"1\", \"2\", \"3\", \"4\", \"5\", \"6\", \"7\", \"8\", \"9\", \"10\", \"11\", \"12\", \"13\", \"14\", \"15\", \"16\", \"17\", \"18\", \"19\", \"20\", \"21\", \"22\", \"23\", \"24\", \"25\", \"26\", \"27\", \"28\", \"29\", \"30\", \"31\", \"32\", \"33\", \"34\", \"35\", \"36\"], \"mode\": \"markers\", \"name\": \"f1_score_weighted\", \"stepped\": false, \"type\": \"scatter\", \"data\": [0.8014398448329555, 0.8237396450256732, 0.8090119303521417, 0.8299325869798109, 0.8168342995381044, 0.6869175612166681, 0.6785073880420203, 0.821086879640345, 0.8039757220257486, 0.6920924975909098, 0.8288933448627915, 0.8445786473037667, 0.8161214746749401, 0.8021759951947371, 0.8478659546996994, 0.8346770038224121, 0.8414895456242963, 0.8041176153746544, 0.7496145898483952, 0.8341702288093698, 0.8295428462047711, 0.8404266222721967, 0.7896639419736529, 0.7789750496433505, 0.8332461595787907, 0.5526564268547016, 0.8295439718459032, 0.8308159120176024, 0.8505101615120099, 0.830193893641739, 0.8442284600946695, 0.8286312650275806, 0.8385065237017718, 0.8339210607658917, 0.8396707170022832, 0.5526564268547016, 0.8668004716784138]}, {\"categories\": [\"0\", \"1\", \"2\", \"3\", \"4\", \"5\", \"6\", \"7\", \"8\", \"9\", \"10\", \"11\", \"12\", \"13\", \"14\", \"15\", \"16\", \"17\", \"18\", \"19\", \"20\", \"21\", \"22\", \"23\", \"24\", \"25\", \"26\", \"27\", \"28\", \"29\", \"30\", \"31\", \"32\", \"33\", \"34\", \"35\", \"36\"], \"mode\": \"lines\", \"name\": \"f1_score_weighted_max\", \"stepped\": true, \"type\": \"scatter\", \"data\": [0.8014398448329555, 0.8237396450256732, 0.8237396450256732, 0.8299325869798109, 0.8299325869798109, 0.8299325869798109, 0.8299325869798109, 0.8299325869798109, 0.8299325869798109, 0.8299325869798109, 0.8299325869798109, 0.8445786473037667, 0.8445786473037667, 0.8445786473037667, 0.8478659546996994, 0.8478659546996994, 0.8478659546996994, 0.8478659546996994, 0.8478659546996994, 0.8478659546996994, 0.8478659546996994, 0.8478659546996994, 0.8478659546996994, 0.8478659546996994, 0.8478659546996994, 0.8478659546996994, 0.8478659546996994, 0.8478659546996994, 0.8505101615120099, 0.8505101615120099, 0.8505101615120099, 0.8505101615120099, 0.8505101615120099, 0.8505101615120099, 0.8505101615120099, 0.8505101615120099, 0.8668004716784138]}], \"average_precision_score_macro\": [{\"categories\": [\"0\", \"1\", \"2\", \"3\", \"4\", \"5\", \"6\", \"7\", \"8\", \"9\", \"10\", \"11\", \"12\", \"13\", \"14\", \"15\", \"16\", \"17\", \"18\", \"19\", \"20\", \"21\", \"22\", \"23\", \"24\", \"25\", \"26\", \"27\", \"28\", \"29\", \"30\", \"31\", \"32\", \"33\", \"34\", \"35\", \"36\"], \"mode\": \"markers\", \"name\": \"average_precision_score_macro\", \"stepped\": false, \"type\": \"scatter\", \"data\": [0.8655792376041671, 0.8826936933050062, 0.8764494956535429, 0.8995791879582338, 0.8809541938234482, 0.7426482383036456, 0.7184634262666745, 0.9012710174150543, 0.8329476717741734, 0.799425832504898, 0.8908828839812818, 0.8802531433544377, 0.851284927554245, 0.8878516927812372, 0.887425688651599, 0.8866148686777064, 0.8949398558279773, 0.8821896413678351, 0.8784589484531675, 0.8619592063912815, 0.8756968477195303, 0.8827141677722498, 0.871037580302576, 0.8633923517976699, 0.8823343205636796, 0.5096159546796357, 0.8531136407218067, 0.8819556674146056, 0.9060084261504734, 0.897397513505806, 0.8650653544167412, 0.8927319864298378, 0.8683408731288071, 0.8757378392804872, 0.8809497611659742, 0.5, 0.907206233920841]}, {\"categories\": [\"0\", \"1\", \"2\", \"3\", \"4\", \"5\", \"6\", \"7\", \"8\", \"9\", \"10\", \"11\", \"12\", \"13\", \"14\", \"15\", \"16\", \"17\", \"18\", \"19\", \"20\", \"21\", \"22\", \"23\", \"24\", \"25\", \"26\", \"27\", \"28\", \"29\", \"30\", \"31\", \"32\", \"33\", \"34\", \"35\", \"36\"], \"mode\": \"lines\", \"name\": \"average_precision_score_macro_max\", \"stepped\": true, \"type\": \"scatter\", \"data\": [0.8655792376041671, 0.8826936933050062, 0.8826936933050062, 0.8995791879582338, 0.8995791879582338, 0.8995791879582338, 0.8995791879582338, 0.9012710174150543, 0.9012710174150543, 0.9012710174150543, 0.9012710174150543, 0.9012710174150543, 0.9012710174150543, 0.9012710174150543, 0.9012710174150543, 0.9012710174150543, 0.9012710174150543, 0.9012710174150543, 0.9012710174150543, 0.9012710174150543, 0.9012710174150543, 0.9012710174150543, 0.9012710174150543, 0.9012710174150543, 0.9012710174150543, 0.9012710174150543, 0.9012710174150543, 0.9012710174150543, 0.9060084261504734, 0.9060084261504734, 0.9060084261504734, 0.9060084261504734, 0.9060084261504734, 0.9060084261504734, 0.9060084261504734, 0.9060084261504734, 0.907206233920841]}], \"accuracy\": [{\"categories\": [\"0\", \"1\", \"2\", \"3\", \"4\", \"5\", \"6\", \"7\", \"8\", \"9\", \"10\", \"11\", \"12\", \"13\", \"14\", \"15\", \"16\", \"17\", \"18\", \"19\", \"20\", \"21\", \"22\", \"23\", \"24\", \"25\", \"26\", \"27\", \"28\", \"29\", \"30\", \"31\", \"32\", \"33\", \"34\", \"35\", \"36\"], \"mode\": \"markers\", \"name\": \"accuracy\", \"stepped\": false, \"type\": \"scatter\", \"data\": [0.8059887005649717, 0.8259322033898304, 0.812542372881356, 0.836045197740113, 0.8159322033898304, 0.7291525423728814, 0.7090960451977402, 0.8260451977401131, 0.8093785310734465, 0.736045197740113, 0.8326553672316385, 0.8496045197740113, 0.8227118644067797, 0.8161581920903955, 0.8561581920903955, 0.8427683615819209, 0.8460451977401131, 0.8160451977401131, 0.7828248587570622, 0.8427118644067797, 0.8329943502824859, 0.8461581920903954, 0.8093785310734465, 0.7958757062146893, 0.8393220338983051, 0.67909604519774, 0.8327683615819208, 0.8361016949152542, 0.8525988700564971, 0.836045197740113, 0.8528248587570622, 0.8327683615819209, 0.8428248587570621, 0.8396045197740113, 0.8462146892655367, 0.67909604519774, 0.872994350282486]}, {\"categories\": [\"0\", \"1\", \"2\", \"3\", \"4\", \"5\", \"6\", \"7\", \"8\", \"9\", \"10\", \"11\", \"12\", \"13\", \"14\", \"15\", \"16\", \"17\", \"18\", \"19\", \"20\", \"21\", \"22\", \"23\", \"24\", \"25\", \"26\", \"27\", \"28\", \"29\", \"30\", \"31\", \"32\", \"33\", \"34\", \"35\", \"36\"], \"mode\": \"lines\", \"name\": \"accuracy_max\", \"stepped\": true, \"type\": \"scatter\", \"data\": [0.8059887005649717, 0.8259322033898304, 0.8259322033898304, 0.836045197740113, 0.836045197740113, 0.836045197740113, 0.836045197740113, 0.836045197740113, 0.836045197740113, 0.836045197740113, 0.836045197740113, 0.8496045197740113, 0.8496045197740113, 0.8496045197740113, 0.8561581920903955, 0.8561581920903955, 0.8561581920903955, 0.8561581920903955, 0.8561581920903955, 0.8561581920903955, 0.8561581920903955, 0.8561581920903955, 0.8561581920903955, 0.8561581920903955, 0.8561581920903955, 0.8561581920903955, 0.8561581920903955, 0.8561581920903955, 0.8561581920903955, 0.8561581920903955, 0.8561581920903955, 0.8561581920903955, 0.8561581920903955, 0.8561581920903955, 0.8561581920903955, 0.8561581920903955, 0.872994350282486]}], \"f1_score_macro\": [{\"categories\": [\"0\", \"1\", \"2\", \"3\", \"4\", \"5\", \"6\", \"7\", \"8\", \"9\", \"10\", \"11\", \"12\", \"13\", \"14\", \"15\", \"16\", \"17\", \"18\", \"19\", \"20\", \"21\", \"22\", \"23\", \"24\", \"25\", \"26\", \"27\", \"28\", \"29\", \"30\", \"31\", \"32\", \"33\", \"34\", \"35\", \"36\"], \"mode\": \"markers\", \"name\": \"f1_score_macro\", \"stepped\": false, \"type\": \"scatter\", \"data\": [0.7682096405971308, 0.7972526241921125, 0.7769616167105436, 0.7991997198181549, 0.7868123487492851, 0.6108188233127855, 0.6074194405435127, 0.7888390853043634, 0.7611013563473851, 0.6252048522662619, 0.7981017420733687, 0.8161275803155832, 0.7815130779783559, 0.7625919451180303, 0.8214168772724776, 0.8065818819779709, 0.8136400838443922, 0.7695891912830867, 0.6954283489899218, 0.7999186947598323, 0.8017629707082936, 0.8101538122371454, 0.7430992897912403, 0.7362037085097459, 0.8021202312206788, 0.40276783177038933, 0.8005348979186188, 0.8013715046110628, 0.8259419935451927, 0.802086202953971, 0.8152896882036224, 0.7971943004635783, 0.8102335638342485, 0.8029704956751786, 0.8108496983686244, 0.40276783177038933, 0.8450019445068128]}, {\"categories\": [\"0\", \"1\", \"2\", \"3\", \"4\", \"5\", \"6\", \"7\", \"8\", \"9\", \"10\", \"11\", \"12\", \"13\", \"14\", \"15\", \"16\", \"17\", \"18\", \"19\", \"20\", \"21\", \"22\", \"23\", \"24\", \"25\", \"26\", \"27\", \"28\", \"29\", \"30\", \"31\", \"32\", \"33\", \"34\", \"35\", \"36\"], \"mode\": \"lines\", \"name\": \"f1_score_macro_max\", \"stepped\": true, \"type\": \"scatter\", \"data\": [0.7682096405971308, 0.7972526241921125, 0.7972526241921125, 0.7991997198181549, 0.7991997198181549, 0.7991997198181549, 0.7991997198181549, 0.7991997198181549, 0.7991997198181549, 0.7991997198181549, 0.7991997198181549, 0.8161275803155832, 0.8161275803155832, 0.8161275803155832, 0.8214168772724776, 0.8214168772724776, 0.8214168772724776, 0.8214168772724776, 0.8214168772724776, 0.8214168772724776, 0.8214168772724776, 0.8214168772724776, 0.8214168772724776, 0.8214168772724776, 0.8214168772724776, 0.8214168772724776, 0.8214168772724776, 0.8214168772724776, 0.8259419935451927, 0.8259419935451927, 0.8259419935451927, 0.8259419935451927, 0.8259419935451927, 0.8259419935451927, 0.8259419935451927, 0.8259419935451927, 0.8450019445068128]}], \"f1_score_micro\": [{\"categories\": [\"0\", \"1\", \"2\", \"3\", \"4\", \"5\", \"6\", \"7\", \"8\", \"9\", \"10\", \"11\", \"12\", \"13\", \"14\", \"15\", \"16\", \"17\", \"18\", \"19\", \"20\", \"21\", \"22\", \"23\", \"24\", \"25\", \"26\", \"27\", \"28\", \"29\", \"30\", \"31\", \"32\", \"33\", \"34\", \"35\", \"36\"], \"mode\": \"markers\", \"name\": \"f1_score_micro\", \"stepped\": false, \"type\": \"scatter\", \"data\": [0.8059887005649718, 0.8259322033898304, 0.812542372881356, 0.836045197740113, 0.8159322033898306, 0.7291525423728814, 0.7090960451977402, 0.8260451977401131, 0.8093785310734465, 0.736045197740113, 0.8326553672316385, 0.8496045197740113, 0.8227118644067797, 0.8161581920903955, 0.8561581920903955, 0.8427683615819209, 0.8460451977401131, 0.8160451977401131, 0.7828248587570622, 0.8427118644067797, 0.8329943502824859, 0.8461581920903954, 0.8093785310734465, 0.7958757062146893, 0.8393220338983051, 0.67909604519774, 0.8327683615819208, 0.8361016949152542, 0.8525988700564971, 0.836045197740113, 0.8528248587570622, 0.8327683615819209, 0.8428248587570621, 0.8396045197740113, 0.8462146892655367, 0.67909604519774, 0.872994350282486]}, {\"categories\": [\"0\", \"1\", \"2\", \"3\", \"4\", \"5\", \"6\", \"7\", \"8\", \"9\", \"10\", \"11\", \"12\", \"13\", \"14\", \"15\", \"16\", \"17\", \"18\", \"19\", \"20\", \"21\", \"22\", \"23\", \"24\", \"25\", \"26\", \"27\", \"28\", \"29\", \"30\", \"31\", \"32\", \"33\", \"34\", \"35\", \"36\"], \"mode\": \"lines\", \"name\": \"f1_score_micro_max\", \"stepped\": true, \"type\": \"scatter\", \"data\": [0.8059887005649718, 0.8259322033898304, 0.8259322033898304, 0.836045197740113, 0.836045197740113, 0.836045197740113, 0.836045197740113, 0.836045197740113, 0.836045197740113, 0.836045197740113, 0.836045197740113, 0.8496045197740113, 0.8496045197740113, 0.8496045197740113, 0.8561581920903955, 0.8561581920903955, 0.8561581920903955, 0.8561581920903955, 0.8561581920903955, 0.8561581920903955, 0.8561581920903955, 0.8561581920903955, 0.8561581920903955, 0.8561581920903955, 0.8561581920903955, 0.8561581920903955, 0.8561581920903955, 0.8561581920903955, 0.8561581920903955, 0.8561581920903955, 0.8561581920903955, 0.8561581920903955, 0.8561581920903955, 0.8561581920903955, 0.8561581920903955, 0.8561581920903955, 0.872994350282486]}], \"norm_macro_recall\": [{\"categories\": [\"0\", \"1\", \"2\", \"3\", \"4\", \"5\", \"6\", \"7\", \"8\", \"9\", \"10\", \"11\", \"12\", \"13\", \"14\", \"15\", \"16\", \"17\", \"18\", \"19\", \"20\", \"21\", \"22\", \"23\", \"24\", \"25\", \"26\", \"27\", \"28\", \"29\", \"30\", \"31\", \"32\", \"33\", \"34\", \"35\", \"36\"], \"mode\": \"markers\", \"name\": \"norm_macro_recall\", \"stepped\": false, \"type\": \"scatter\", \"data\": [0.5520418050941306, 0.6120251937984496, 0.5665490033222592, 0.5974584717607974, 0.6071442414174972, 0.2330703211517165, 0.2415227021040974, 0.5925263012181616, 0.5205024916943521, 0.275952380952381, 0.6004941860465116, 0.6224916943521595, 0.5625263012181616, 0.4989202657807309, 0.6194559800664452, 0.5926536544850498, 0.6181215393133997, 0.5344310631229235, 0.37035714285714283, 0.6003488372093024, 0.6086821705426356, 0.6106976744186047, 0.4542774086378737, 0.46234772978959027, 0.6092524916943521, 0.0, 0.6067441860465117, 0.6030024916943522, 0.6566680509413068, 0.605375138427464, 0.6027893133997785, 0.5934786821705426, 0.6281976744186046, 0.5924321705426356, 0.6144559800664452, 0.0, 0.6761904761904762]}, {\"categories\": [\"0\", \"1\", \"2\", \"3\", \"4\", \"5\", \"6\", \"7\", \"8\", \"9\", \"10\", \"11\", \"12\", \"13\", \"14\", \"15\", \"16\", \"17\", \"18\", \"19\", \"20\", \"21\", \"22\", \"23\", \"24\", \"25\", \"26\", \"27\", \"28\", \"29\", \"30\", \"31\", \"32\", \"33\", \"34\", \"35\", \"36\"], \"mode\": \"lines\", \"name\": \"norm_macro_recall_max\", \"stepped\": true, \"type\": \"scatter\", \"data\": [0.5520418050941306, 0.6120251937984496, 0.6120251937984496, 0.6120251937984496, 0.6120251937984496, 0.6120251937984496, 0.6120251937984496, 0.6120251937984496, 0.6120251937984496, 0.6120251937984496, 0.6120251937984496, 0.6224916943521595, 0.6224916943521595, 0.6224916943521595, 0.6224916943521595, 0.6224916943521595, 0.6224916943521595, 0.6224916943521595, 0.6224916943521595, 0.6224916943521595, 0.6224916943521595, 0.6224916943521595, 0.6224916943521595, 0.6224916943521595, 0.6224916943521595, 0.6224916943521595, 0.6224916943521595, 0.6224916943521595, 0.6566680509413068, 0.6566680509413068, 0.6566680509413068, 0.6566680509413068, 0.6566680509413068, 0.6566680509413068, 0.6566680509413068, 0.6566680509413068, 0.6761904761904762]}], \"precision_score_micro\": [{\"categories\": [\"0\", \"1\", \"2\", \"3\", \"4\", \"5\", \"6\", \"7\", \"8\", \"9\", \"10\", \"11\", \"12\", \"13\", \"14\", \"15\", \"16\", \"17\", \"18\", \"19\", \"20\", \"21\", \"22\", \"23\", \"24\", \"25\", \"26\", \"27\", \"28\", \"29\", \"30\", \"31\", \"32\", \"33\", \"34\", \"35\", \"36\"], \"mode\": \"markers\", \"name\": \"precision_score_micro\", \"stepped\": false, \"type\": \"scatter\", \"data\": [0.8059887005649717, 0.8259322033898304, 0.812542372881356, 0.836045197740113, 0.8159322033898304, 0.7291525423728814, 0.7090960451977402, 0.8260451977401131, 0.8093785310734465, 0.736045197740113, 0.8326553672316385, 0.8496045197740113, 0.8227118644067797, 0.8161581920903955, 0.8561581920903955, 0.8427683615819209, 0.8460451977401131, 0.8160451977401131, 0.7828248587570622, 0.8427118644067797, 0.8329943502824859, 0.8461581920903954, 0.8093785310734465, 0.7958757062146893, 0.8393220338983051, 0.67909604519774, 0.8327683615819208, 0.8361016949152542, 0.8525988700564971, 0.836045197740113, 0.8528248587570622, 0.8327683615819209, 0.8428248587570621, 0.8396045197740113, 0.8462146892655367, 0.67909604519774, 0.872994350282486]}, {\"categories\": [\"0\", \"1\", \"2\", \"3\", \"4\", \"5\", \"6\", \"7\", \"8\", \"9\", \"10\", \"11\", \"12\", \"13\", \"14\", \"15\", \"16\", \"17\", \"18\", \"19\", \"20\", \"21\", \"22\", \"23\", \"24\", \"25\", \"26\", \"27\", \"28\", \"29\", \"30\", \"31\", \"32\", \"33\", \"34\", \"35\", \"36\"], \"mode\": \"lines\", \"name\": \"precision_score_micro_max\", \"stepped\": true, \"type\": \"scatter\", \"data\": [0.8059887005649717, 0.8259322033898304, 0.8259322033898304, 0.836045197740113, 0.836045197740113, 0.836045197740113, 0.836045197740113, 0.836045197740113, 0.836045197740113, 0.836045197740113, 0.836045197740113, 0.8496045197740113, 0.8496045197740113, 0.8496045197740113, 0.8561581920903955, 0.8561581920903955, 0.8561581920903955, 0.8561581920903955, 0.8561581920903955, 0.8561581920903955, 0.8561581920903955, 0.8561581920903955, 0.8561581920903955, 0.8561581920903955, 0.8561581920903955, 0.8561581920903955, 0.8561581920903955, 0.8561581920903955, 0.8561581920903955, 0.8561581920903955, 0.8561581920903955, 0.8561581920903955, 0.8561581920903955, 0.8561581920903955, 0.8561581920903955, 0.8561581920903955, 0.872994350282486]}], \"average_precision_score_weighted\": [{\"categories\": [\"0\", \"1\", \"2\", \"3\", \"4\", \"5\", \"6\", \"7\", \"8\", \"9\", \"10\", \"11\", \"12\", \"13\", \"14\", \"15\", \"16\", \"17\", \"18\", \"19\", \"20\", \"21\", \"22\", \"23\", \"24\", \"25\", \"26\", \"27\", \"28\", \"29\", \"30\", \"31\", \"32\", \"33\", \"34\", \"35\", \"36\"], \"mode\": \"markers\", \"name\": \"average_precision_score_weighted\", \"stepped\": false, \"type\": \"scatter\", \"data\": [0.8955370396295249, 0.9103506263314479, 0.9064898042510935, 0.9233124818268277, 0.9100702603513348, 0.7915271035604994, 0.7675756738587173, 0.9232932678321065, 0.8720059756545379, 0.8458920762759519, 0.9140454209761305, 0.9044364305652293, 0.8899023871517153, 0.9128183909604417, 0.911216432936178, 0.9118283431233557, 0.9182639428948713, 0.9058607560878091, 0.9027295052958386, 0.8921101577103491, 0.9027199794815131, 0.9085203702370863, 0.896462738161496, 0.8967309145858726, 0.9071958614472642, 0.5839705789758132, 0.8807046536139994, 0.9057894515886135, 0.9280453950041719, 0.9164666173936918, 0.8914146537180582, 0.9160081349936512, 0.9027670188028939, 0.904046471678396, 0.906134722236349, 0.5796089246385138, 0.92963515066975]}, {\"categories\": [\"0\", \"1\", \"2\", \"3\", \"4\", \"5\", \"6\", \"7\", \"8\", \"9\", \"10\", \"11\", \"12\", \"13\", \"14\", \"15\", \"16\", \"17\", \"18\", \"19\", \"20\", \"21\", \"22\", \"23\", \"24\", \"25\", \"26\", \"27\", \"28\", \"29\", \"30\", \"31\", \"32\", \"33\", \"34\", \"35\", \"36\"], \"mode\": \"lines\", \"name\": \"average_precision_score_weighted_max\", \"stepped\": true, \"type\": \"scatter\", \"data\": [0.8955370396295249, 0.9103506263314479, 0.9103506263314479, 0.9233124818268277, 0.9233124818268277, 0.9233124818268277, 0.9233124818268277, 0.9233124818268277, 0.9233124818268277, 0.9233124818268277, 0.9233124818268277, 0.9233124818268277, 0.9233124818268277, 0.9233124818268277, 0.9233124818268277, 0.9233124818268277, 0.9233124818268277, 0.9233124818268277, 0.9233124818268277, 0.9233124818268277, 0.9233124818268277, 0.9233124818268277, 0.9233124818268277, 0.9233124818268277, 0.9233124818268277, 0.9233124818268277, 0.9233124818268277, 0.9233124818268277, 0.9280453950041719, 0.9280453950041719, 0.9280453950041719, 0.9280453950041719, 0.9280453950041719, 0.9280453950041719, 0.9280453950041719, 0.9280453950041719, 0.92963515066975]}], \"precision_score_weighted\": [{\"categories\": [\"0\", \"1\", \"2\", \"3\", \"4\", \"5\", \"6\", \"7\", \"8\", \"9\", \"10\", \"11\", \"12\", \"13\", \"14\", \"15\", \"16\", \"17\", \"18\", \"19\", \"20\", \"21\", \"22\", \"23\", \"24\", \"25\", \"26\", \"27\", \"28\", \"29\", \"30\", \"31\", \"32\", \"33\", \"34\", \"35\", \"36\"], \"mode\": \"markers\", \"name\": \"precision_score_weighted\", \"stepped\": false, \"type\": \"scatter\", \"data\": [0.8237683758533973, 0.8403871377947292, 0.8262711178887748, 0.8531855624601388, 0.8376223025482226, 0.7405562884202078, 0.7273236730506977, 0.8415626187168874, 0.8196810460480322, 0.7792163027878148, 0.8433218724315958, 0.8634172995690739, 0.8361078787627895, 0.8351820421085817, 0.868704209301694, 0.8534187443525717, 0.8531691259234815, 0.8315673124386462, 0.8195201764128317, 0.8602889885348265, 0.8531774663897151, 0.8595500654174952, 0.8338348056430591, 0.815052968737841, 0.855657739070829, 0.4689005075169971, 0.8486384069915097, 0.8480247880963226, 0.8637104639075013, 0.8488710831877853, 0.8652711851829556, 0.8425502373982765, 0.8603736590121999, 0.8506893418790439, 0.8599504041361079, 0.4689005075169971, 0.8913353100575503]}, {\"categories\": [\"0\", \"1\", \"2\", \"3\", \"4\", \"5\", \"6\", \"7\", \"8\", \"9\", \"10\", \"11\", \"12\", \"13\", \"14\", \"15\", \"16\", \"17\", \"18\", \"19\", \"20\", \"21\", \"22\", \"23\", \"24\", \"25\", \"26\", \"27\", \"28\", \"29\", \"30\", \"31\", \"32\", \"33\", \"34\", \"35\", \"36\"], \"mode\": \"lines\", \"name\": \"precision_score_weighted_max\", \"stepped\": true, \"type\": \"scatter\", \"data\": [0.8237683758533973, 0.8403871377947292, 0.8403871377947292, 0.8531855624601388, 0.8531855624601388, 0.8531855624601388, 0.8531855624601388, 0.8531855624601388, 0.8531855624601388, 0.8531855624601388, 0.8531855624601388, 0.8634172995690739, 0.8634172995690739, 0.8634172995690739, 0.868704209301694, 0.868704209301694, 0.868704209301694, 0.868704209301694, 0.868704209301694, 0.868704209301694, 0.868704209301694, 0.868704209301694, 0.868704209301694, 0.868704209301694, 0.868704209301694, 0.868704209301694, 0.868704209301694, 0.868704209301694, 0.868704209301694, 0.868704209301694, 0.868704209301694, 0.868704209301694, 0.868704209301694, 0.868704209301694, 0.868704209301694, 0.868704209301694, 0.8913353100575503]}], \"recall_score_weighted\": [{\"categories\": [\"0\", \"1\", \"2\", \"3\", \"4\", \"5\", \"6\", \"7\", \"8\", \"9\", \"10\", \"11\", \"12\", \"13\", \"14\", \"15\", \"16\", \"17\", \"18\", \"19\", \"20\", \"21\", \"22\", \"23\", \"24\", \"25\", \"26\", \"27\", \"28\", \"29\", \"30\", \"31\", \"32\", \"33\", \"34\", \"35\", \"36\"], \"mode\": \"markers\", \"name\": \"recall_score_weighted\", \"stepped\": false, \"type\": \"scatter\", \"data\": [0.8059887005649717, 0.8259322033898304, 0.812542372881356, 0.836045197740113, 0.8159322033898304, 0.7291525423728814, 0.7090960451977402, 0.8260451977401131, 0.8093785310734465, 0.736045197740113, 0.8326553672316385, 0.8496045197740113, 0.8227118644067797, 0.8161581920903955, 0.8561581920903955, 0.8427683615819209, 0.8460451977401131, 0.8160451977401131, 0.7828248587570622, 0.8427118644067797, 0.8329943502824859, 0.8461581920903954, 0.8093785310734465, 0.7958757062146893, 0.8393220338983051, 0.67909604519774, 0.8327683615819208, 0.8361016949152542, 0.8525988700564971, 0.836045197740113, 0.8528248587570622, 0.8327683615819209, 0.8428248587570621, 0.8396045197740113, 0.8462146892655367, 0.67909604519774, 0.872994350282486]}, {\"categories\": [\"0\", \"1\", \"2\", \"3\", \"4\", \"5\", \"6\", \"7\", \"8\", \"9\", \"10\", \"11\", \"12\", \"13\", \"14\", \"15\", \"16\", \"17\", \"18\", \"19\", \"20\", \"21\", \"22\", \"23\", \"24\", \"25\", \"26\", \"27\", \"28\", \"29\", \"30\", \"31\", \"32\", \"33\", \"34\", \"35\", \"36\"], \"mode\": \"lines\", \"name\": \"recall_score_weighted_max\", \"stepped\": true, \"type\": \"scatter\", \"data\": [0.8059887005649717, 0.8259322033898304, 0.8259322033898304, 0.836045197740113, 0.836045197740113, 0.836045197740113, 0.836045197740113, 0.836045197740113, 0.836045197740113, 0.836045197740113, 0.836045197740113, 0.8496045197740113, 0.8496045197740113, 0.8496045197740113, 0.8561581920903955, 0.8561581920903955, 0.8561581920903955, 0.8561581920903955, 0.8561581920903955, 0.8561581920903955, 0.8561581920903955, 0.8561581920903955, 0.8561581920903955, 0.8561581920903955, 0.8561581920903955, 0.8561581920903955, 0.8561581920903955, 0.8561581920903955, 0.8561581920903955, 0.8561581920903955, 0.8561581920903955, 0.8561581920903955, 0.8561581920903955, 0.8561581920903955, 0.8561581920903955, 0.8561581920903955, 0.872994350282486]}], \"average_precision_score_micro\": [{\"categories\": [\"0\", \"1\", \"2\", \"3\", \"4\", \"5\", \"6\", \"7\", \"8\", \"9\", \"10\", \"11\", \"12\", \"13\", \"14\", \"15\", \"16\", \"17\", \"18\", \"19\", \"20\", \"21\", \"22\", \"23\", \"24\", \"25\", \"26\", \"27\", \"28\", \"29\", \"30\", \"31\", \"32\", \"33\", \"34\", \"35\", \"36\"], \"mode\": \"markers\", \"name\": \"average_precision_score_micro\", \"stepped\": false, \"type\": \"scatter\", \"data\": [0.887958292631032, 0.9018582931163117, 0.9073816319911374, 0.9148279289631361, 0.9071491539712782, 0.795559558186622, 0.7575573166277481, 0.9165894762306156, 0.8723071880091318, 0.8377483843872803, 0.9037227276085144, 0.9026020432426062, 0.8859490806858659, 0.9000157462971572, 0.9052795680634412, 0.9025622383962031, 0.909216697909528, 0.8877787967043064, 0.873901049972404, 0.8872160781039942, 0.893386848713541, 0.9042447745018253, 0.8816114159075159, 0.8890918759776995, 0.9009829171565904, 0.6434720513855469, 0.8803170896692747, 0.8978341700643646, 0.9206563871899686, 0.9049639619944767, 0.8842898003013533, 0.9094760960517327, 0.9031634459094107, 0.9027889097180957, 0.9000224430720667, 0.6293524849181271, 0.92190307049369]}, {\"categories\": [\"0\", \"1\", \"2\", \"3\", \"4\", \"5\", \"6\", \"7\", \"8\", \"9\", \"10\", \"11\", \"12\", \"13\", \"14\", \"15\", \"16\", \"17\", \"18\", \"19\", \"20\", \"21\", \"22\", \"23\", \"24\", \"25\", \"26\", \"27\", \"28\", \"29\", \"30\", \"31\", \"32\", \"33\", \"34\", \"35\", \"36\"], \"mode\": \"lines\", \"name\": \"average_precision_score_micro_max\", \"stepped\": true, \"type\": \"scatter\", \"data\": [0.887958292631032, 0.9018582931163117, 0.9073816319911374, 0.9148279289631361, 0.9148279289631361, 0.9148279289631361, 0.9148279289631361, 0.9165894762306156, 0.9165894762306156, 0.9165894762306156, 0.9165894762306156, 0.9165894762306156, 0.9165894762306156, 0.9165894762306156, 0.9165894762306156, 0.9165894762306156, 0.9165894762306156, 0.9165894762306156, 0.9165894762306156, 0.9165894762306156, 0.9165894762306156, 0.9165894762306156, 0.9165894762306156, 0.9165894762306156, 0.9165894762306156, 0.9165894762306156, 0.9165894762306156, 0.9165894762306156, 0.9206563871899686, 0.9206563871899686, 0.9206563871899686, 0.9206563871899686, 0.9206563871899686, 0.9206563871899686, 0.9206563871899686, 0.9206563871899686, 0.92190307049369]}], \"AUC_micro\": [{\"categories\": [\"0\", \"1\", \"2\", \"3\", \"4\", \"5\", \"6\", \"7\", \"8\", \"9\", \"10\", \"11\", \"12\", \"13\", \"14\", \"15\", \"16\", \"17\", \"18\", \"19\", \"20\", \"21\", \"22\", \"23\", \"24\", \"25\", \"26\", \"27\", \"28\", \"29\", \"30\", \"31\", \"32\", \"33\", \"34\", \"35\", \"36\"], \"mode\": \"markers\", \"name\": \"AUC_micro\", \"stepped\": false, \"type\": \"scatter\", \"data\": [0.8880105014523284, 0.8999905678444892, 0.9044255162948069, 0.9114620639024544, 0.9042882951897603, 0.7961097705001755, 0.7750566088927193, 0.9163153468032814, 0.8762564716396948, 0.8328210603594114, 0.9017702448210922, 0.9057792460659453, 0.8854616010724887, 0.8947004372945194, 0.9036463021481694, 0.9000850489961378, 0.9068671039611861, 0.8864027259089022, 0.8692911360081714, 0.8893709023588368, 0.8939478119314372, 0.9027768680775001, 0.8800917041718535, 0.8822512528328386, 0.9035727121835999, 0.6767508378818348, 0.8904582655048039, 0.8983120271952505, 0.9173267419962337, 0.9059587442944237, 0.8827787832359795, 0.9092906572185516, 0.905217051294328, 0.8994093491653101, 0.9001282517795015, 0.6790960451977401, 0.9189402151361359]}, {\"categories\": [\"0\", \"1\", \"2\", \"3\", \"4\", \"5\", \"6\", \"7\", \"8\", \"9\", \"10\", \"11\", \"12\", \"13\", \"14\", \"15\", \"16\", \"17\", \"18\", \"19\", \"20\", \"21\", \"22\", \"23\", \"24\", \"25\", \"26\", \"27\", \"28\", \"29\", \"30\", \"31\", \"32\", \"33\", \"34\", \"35\", \"36\"], \"mode\": \"lines\", \"name\": \"AUC_micro_max\", \"stepped\": true, \"type\": \"scatter\", \"data\": [0.8880105014523284, 0.8999905678444892, 0.9044255162948069, 0.9114620639024544, 0.9114620639024544, 0.9114620639024544, 0.9114620639024544, 0.9163153468032814, 0.9163153468032814, 0.9163153468032814, 0.9163153468032814, 0.9163153468032814, 0.9163153468032814, 0.9163153468032814, 0.9163153468032814, 0.9163153468032814, 0.9163153468032814, 0.9163153468032814, 0.9163153468032814, 0.9163153468032814, 0.9163153468032814, 0.9163153468032814, 0.9163153468032814, 0.9163153468032814, 0.9163153468032814, 0.9163153468032814, 0.9163153468032814, 0.9163153468032814, 0.9173267419962337, 0.9173267419962337, 0.9173267419962337, 0.9173267419962337, 0.9173267419962337, 0.9173267419962337, 0.9173267419962337, 0.9173267419962337, 0.9189402151361359]}], \"recall_score_micro\": [{\"categories\": [\"0\", \"1\", \"2\", \"3\", \"4\", \"5\", \"6\", \"7\", \"8\", \"9\", \"10\", \"11\", \"12\", \"13\", \"14\", \"15\", \"16\", \"17\", \"18\", \"19\", \"20\", \"21\", \"22\", \"23\", \"24\", \"25\", \"26\", \"27\", \"28\", \"29\", \"30\", \"31\", \"32\", \"33\", \"34\", \"35\", \"36\"], \"mode\": \"markers\", \"name\": \"recall_score_micro\", \"stepped\": false, \"type\": \"scatter\", \"data\": [0.8059887005649717, 0.8259322033898304, 0.812542372881356, 0.836045197740113, 0.8159322033898304, 0.7291525423728814, 0.7090960451977402, 0.8260451977401131, 0.8093785310734465, 0.736045197740113, 0.8326553672316385, 0.8496045197740113, 0.8227118644067797, 0.8161581920903955, 0.8561581920903955, 0.8427683615819209, 0.8460451977401131, 0.8160451977401131, 0.7828248587570622, 0.8427118644067797, 0.8329943502824859, 0.8461581920903954, 0.8093785310734465, 0.7958757062146893, 0.8393220338983051, 0.67909604519774, 0.8327683615819208, 0.8361016949152542, 0.8525988700564971, 0.836045197740113, 0.8528248587570622, 0.8327683615819209, 0.8428248587570621, 0.8396045197740113, 0.8462146892655367, 0.67909604519774, 0.872994350282486]}, {\"categories\": [\"0\", \"1\", \"2\", \"3\", \"4\", \"5\", \"6\", \"7\", \"8\", \"9\", \"10\", \"11\", \"12\", \"13\", \"14\", \"15\", \"16\", \"17\", \"18\", \"19\", \"20\", \"21\", \"22\", \"23\", \"24\", \"25\", \"26\", \"27\", \"28\", \"29\", \"30\", \"31\", \"32\", \"33\", \"34\", \"35\", \"36\"], \"mode\": \"lines\", \"name\": \"recall_score_micro_max\", \"stepped\": true, \"type\": \"scatter\", \"data\": [0.8059887005649717, 0.8259322033898304, 0.8259322033898304, 0.836045197740113, 0.836045197740113, 0.836045197740113, 0.836045197740113, 0.836045197740113, 0.836045197740113, 0.836045197740113, 0.836045197740113, 0.8496045197740113, 0.8496045197740113, 0.8496045197740113, 0.8561581920903955, 0.8561581920903955, 0.8561581920903955, 0.8561581920903955, 0.8561581920903955, 0.8561581920903955, 0.8561581920903955, 0.8561581920903955, 0.8561581920903955, 0.8561581920903955, 0.8561581920903955, 0.8561581920903955, 0.8561581920903955, 0.8561581920903955, 0.8561581920903955, 0.8561581920903955, 0.8561581920903955, 0.8561581920903955, 0.8561581920903955, 0.8561581920903955, 0.8561581920903955, 0.8561581920903955, 0.872994350282486]}]}, \"metricName\": null, \"primaryMetricName\": \"accuracy\", \"showLegend\": false}, \"run_metrics\": [{\"name\": \"experiment_status\", \"run_id\": \"AutoML_3b0e13c3-7b0d-43e0-b514-357905decf6d\", \"categories\": [0, 1, 2, 3, 4, 5, 6, 7, 8, 9, 10, 11, 12, 13], \"series\": [{\"data\": [\"DatasetEvaluation\", \"FeaturesGeneration\", \"DatasetFeaturization\", \"DatasetFeaturizationCompleted\", \"DatasetCrossValidationSplit\", \"ModelSelection\", \"BestRunExplainModel\", \"ModelExplanationDataSetSetup\", \"PickSurrogateModel\", \"EngineeredFeatureExplanations\", \"EngineeredFeatureExplanations\", \"RawFeaturesExplanations\", \"RawFeaturesExplanations\", \"BestRunExplainModel\"]}]}, {\"name\": \"experiment_status_description\", \"run_id\": \"AutoML_3b0e13c3-7b0d-43e0-b514-357905decf6d\", \"categories\": [0, 1, 2, 3, 4, 5, 6, 7, 8, 9, 10, 11, 12, 13], \"series\": [{\"data\": [\"Gathering dataset statistics.\", \"Generating features for the dataset.\", \"Beginning to fit featurizers and featurize the dataset.\", \"Completed fit featurizers and featurizing the dataset.\", \"Generating individually featurized CV splits.\", \"Beginning model selection.\", \"Best run model explanations started\", \"Model explanations data setup completed\", \"Choosing LightGBM as the surrogate model for explanations\", \"Computation of engineered features started\", \"Computation of engineered features completed\", \"Computation of raw features started\", \"Computation of raw features completed\", \"Best run model explanations completed\"]}]}, {\"name\": \"accuracy\", \"run_id\": \"AutoML_3b0e13c3-7b0d-43e0-b514-357905decf6d\", \"categories\": [0], \"series\": [{\"data\": [0.872994350282486]}]}, {\"name\": \"average_precision_score_micro\", \"run_id\": \"AutoML_3b0e13c3-7b0d-43e0-b514-357905decf6d\", \"categories\": [0], \"series\": [{\"data\": [0.92190307049369]}]}, {\"name\": \"precision_score_weighted\", \"run_id\": \"AutoML_3b0e13c3-7b0d-43e0-b514-357905decf6d\", \"categories\": [0], \"series\": [{\"data\": [0.8913353100575503]}]}, {\"name\": \"f1_score_macro\", \"run_id\": \"AutoML_3b0e13c3-7b0d-43e0-b514-357905decf6d\", \"categories\": [0], \"series\": [{\"data\": [0.8450019445068128]}]}, {\"name\": \"precision_score_micro\", \"run_id\": \"AutoML_3b0e13c3-7b0d-43e0-b514-357905decf6d\", \"categories\": [0], \"series\": [{\"data\": [0.872994350282486]}]}, {\"name\": \"precision_score_macro\", \"run_id\": \"AutoML_3b0e13c3-7b0d-43e0-b514-357905decf6d\", \"categories\": [0], \"series\": [{\"data\": [0.8871634861302564]}]}, {\"name\": \"AUC_micro\", \"run_id\": \"AutoML_3b0e13c3-7b0d-43e0-b514-357905decf6d\", \"categories\": [0], \"series\": [{\"data\": [0.9189402151361359]}]}, {\"name\": \"recall_score_weighted\", \"run_id\": \"AutoML_3b0e13c3-7b0d-43e0-b514-357905decf6d\", \"categories\": [0], \"series\": [{\"data\": [0.872994350282486]}]}, {\"name\": \"average_precision_score_macro\", \"run_id\": \"AutoML_3b0e13c3-7b0d-43e0-b514-357905decf6d\", \"categories\": [0], \"series\": [{\"data\": [0.907206233920841]}]}, {\"name\": \"average_precision_score_weighted\", \"run_id\": \"AutoML_3b0e13c3-7b0d-43e0-b514-357905decf6d\", \"categories\": [0], \"series\": [{\"data\": [0.92963515066975]}]}, {\"name\": \"recall_score_macro\", \"run_id\": \"AutoML_3b0e13c3-7b0d-43e0-b514-357905decf6d\", \"categories\": [0], \"series\": [{\"data\": [0.8380952380952381]}]}, {\"name\": \"recall_score_micro\", \"run_id\": \"AutoML_3b0e13c3-7b0d-43e0-b514-357905decf6d\", \"categories\": [0], \"series\": [{\"data\": [0.872994350282486]}]}, {\"name\": \"log_loss\", \"run_id\": \"AutoML_3b0e13c3-7b0d-43e0-b514-357905decf6d\", \"categories\": [0], \"series\": [{\"data\": [0.4099221262136351]}]}, {\"name\": \"weighted_accuracy\", \"run_id\": \"AutoML_3b0e13c3-7b0d-43e0-b514-357905decf6d\", \"categories\": [0], \"series\": [{\"data\": [0.8966147612977042]}]}, {\"name\": \"AUC_macro\", \"run_id\": \"AutoML_3b0e13c3-7b0d-43e0-b514-357905decf6d\", \"categories\": [0], \"series\": [{\"data\": [0.9193279808047251]}]}, {\"name\": \"matthews_correlation\", \"run_id\": \"AutoML_3b0e13c3-7b0d-43e0-b514-357905decf6d\", \"categories\": [0], \"series\": [{\"data\": [0.7210402592750885]}]}, {\"name\": \"AUC_weighted\", \"run_id\": \"AutoML_3b0e13c3-7b0d-43e0-b514-357905decf6d\", \"categories\": [0], \"series\": [{\"data\": [0.9193279808047251]}]}, {\"name\": \"f1_score_weighted\", \"run_id\": \"AutoML_3b0e13c3-7b0d-43e0-b514-357905decf6d\", \"categories\": [0], \"series\": [{\"data\": [0.8668004716784138]}]}, {\"name\": \"norm_macro_recall\", \"run_id\": \"AutoML_3b0e13c3-7b0d-43e0-b514-357905decf6d\", \"categories\": [0], \"series\": [{\"data\": [0.6761904761904762]}]}, {\"name\": \"balanced_accuracy\", \"run_id\": \"AutoML_3b0e13c3-7b0d-43e0-b514-357905decf6d\", \"categories\": [0], \"series\": [{\"data\": [0.8380952380952381]}]}, {\"name\": \"f1_score_micro\", \"run_id\": \"AutoML_3b0e13c3-7b0d-43e0-b514-357905decf6d\", \"categories\": [0], \"series\": [{\"data\": [0.872994350282486]}]}], \"run_logs\": \"\\nRun is completed.\", \"graph\": {}, \"widget_settings\": {\"childWidgetDisplay\": \"popup\", \"send_telemetry\": false, \"log_level\": \"INFO\", \"sdk_version\": \"1.20.0\"}, \"loading\": false}"
     },
     "metadata": {},
     "output_type": "display_data"
    },
    {
     "name": "stdout",
     "output_type": "stream",
     "text": [
      "\n",
      "Current status: FeaturesGeneration. Generating features for the dataset.\n",
      "Current status: ModelSelection. Beginning model selection.\n",
      "\n",
      "****************************************************************************************************\n",
      "DATA GUARDRAILS: \n",
      "\n",
      "TYPE:         Class balancing detection\n",
      "STATUS:       PASSED\n",
      "DESCRIPTION:  Your inputs were analyzed, and all classes are balanced in your training data.\n",
      "              Learn more about imbalanced data: https://aka.ms/AutomatedMLImbalancedData\n",
      "\n",
      "****************************************************************************************************\n",
      "\n",
      "TYPE:         Missing feature values imputation\n",
      "STATUS:       PASSED\n",
      "DESCRIPTION:  No feature missing values were detected in the training data.\n",
      "              Learn more about missing value imputation: https://aka.ms/AutomatedMLFeaturization\n",
      "\n",
      "****************************************************************************************************\n",
      "\n",
      "TYPE:         High cardinality feature detection\n",
      "STATUS:       PASSED\n",
      "DESCRIPTION:  Your inputs were analyzed, and no high cardinality features were detected.\n",
      "              Learn more about high cardinality feature handling: https://aka.ms/AutomatedMLFeaturization\n",
      "\n",
      "****************************************************************************************************\n",
      "\n",
      "****************************************************************************************************\n",
      "ITERATION: The iteration being evaluated.\n",
      "PIPELINE: A summary description of the pipeline being evaluated.\n",
      "DURATION: Time taken for the current iteration.\n",
      "METRIC: The result of computing score on the fitted pipeline.\n",
      "BEST: The best observed score thus far.\n",
      "****************************************************************************************************\n",
      "\n",
      " ITERATION   PIPELINE                                       DURATION      METRIC      BEST\n",
      "         1   MaxAbsScaler XGBoostClassifier                 0:00:43       0.8259    0.8259\n",
      "         2   MinMaxScaler RandomForest                      0:01:00       0.8125    0.8259\n",
      "         5   SparseNormalizer KNN                           0:00:55       0.7292    0.8259\n",
      "         6   MinMaxScaler SVM                               0:00:54       0.7091    0.8259\n",
      "         3   MinMaxScaler RandomForest                      0:03:22       0.8360    0.8360\n",
      "         7   MaxAbsScaler GradientBoosting                  0:00:44       0.8260    0.8360\n",
      "         4   MinMaxScaler RandomForest                      0:03:34       0.8159    0.8360\n",
      "         0   MaxAbsScaler LightGBM                          0:03:41       0.8060    0.8360\n",
      "         8   SparseNormalizer XGBoostClassifier             0:00:42       0.8094    0.8360\n",
      "        10   StandardScalerWrapper RandomForest             0:00:48       0.8327    0.8360\n",
      "         9   SparseNormalizer LightGBM                      0:00:51       0.7360    0.8360\n",
      "        11   SparseNormalizer XGBoostClassifier             0:00:52       0.8496    0.8496\n",
      "        12   MaxAbsScaler LightGBM                          0:00:49       0.8227    0.8496\n",
      "        13   MinMaxScaler LightGBM                          0:00:51       0.8162    0.8496\n",
      "        14   RobustScaler ExtremeRandomTrees                0:00:46       0.8562    0.8562\n",
      "        15   RobustScaler ExtremeRandomTrees                0:00:49       0.8428    0.8562\n",
      "        16   MaxAbsScaler LightGBM                          0:00:49       0.8460    0.8562\n",
      "        17   StandardScalerWrapper LightGBM                 0:00:49       0.8160    0.8562\n",
      "        18   RobustScaler LightGBM                          0:00:46       0.7828    0.8562\n",
      "        19   SparseNormalizer XGBoostClassifier             0:00:47       0.8427    0.8562\n",
      "        20   SparseNormalizer LightGBM                      0:00:46       0.8330    0.8562\n",
      "        21   SparseNormalizer XGBoostClassifier             0:00:57       0.8462    0.8562\n",
      "        22   StandardScalerWrapper ExtremeRandomTrees       0:00:54       0.8094    0.8562\n",
      "        23   MaxAbsScaler LightGBM                          0:00:50       0.7959    0.8562\n",
      "        24   MaxAbsScaler GradientBoosting                  0:00:52       0.8393    0.8562\n",
      "        25   PCA ExtremeRandomTrees                         0:00:53       0.6791    0.8562\n",
      "        26   SparseNormalizer XGBoostClassifier             0:00:54       0.8328    0.8562\n",
      "        27   StandardScalerWrapper LightGBM                 0:00:52       0.8361    0.8562\n",
      "        28   RobustScaler RandomForest                      0:00:53       0.8526    0.8562\n",
      "        29   StandardScalerWrapper XGBoostClassifier        0:00:49       0.8360    0.8562\n",
      "        30   MaxAbsScaler ExtremeRandomTrees                0:00:43       0.8528    0.8562\n",
      "        31   RobustScaler RandomForest                      0:00:49       0.8328    0.8562\n",
      "        32   StandardScalerWrapper XGBoostClassifier        0:00:46       0.8428    0.8562\n",
      "        33   SparseNormalizer XGBoostClassifier             0:00:33       0.8396    0.8562\n",
      "        34   SparseNormalizer LightGBM                      0:00:31       0.8462    0.8562\n",
      "        35   SparseNormalizer ExtremeRandomTrees            0:00:26       0.6791    0.8562\n",
      "        36    VotingEnsemble                                0:01:24       0.8730    0.8730\n"
     ]
    },
    {
     "data": {
      "text/plain": [
       "{'runId': 'AutoML_3b0e13c3-7b0d-43e0-b514-357905decf6d',\n",
       " 'target': 'capstone-cluster',\n",
       " 'status': 'Completed',\n",
       " 'startTimeUtc': '2021-02-14T07:57:25.222748Z',\n",
       " 'endTimeUtc': '2021-02-14T08:20:36.095287Z',\n",
       " 'properties': {'num_iterations': '1000',\n",
       "  'training_type': 'TrainFull',\n",
       "  'acquisition_function': 'EI',\n",
       "  'primary_metric': 'accuracy',\n",
       "  'train_split': '0',\n",
       "  'acquisition_parameter': '0',\n",
       "  'num_cross_validation': '5',\n",
       "  'target': 'capstone-cluster',\n",
       "  'AMLSettingsJsonString': '{\"path\":null,\"name\":\"automl_heart_failure_prediction\",\"subscription_id\":\"d4ad7261-832d-46b2-b093-22156001df5b\",\"resource_group\":\"aml-quickstarts-138866\",\"workspace_name\":\"quick-starts-ws-138866\",\"region\":\"southcentralus\",\"compute_target\":\"capstone-cluster\",\"spark_service\":null,\"azure_service\":\"remote\",\"many_models\":false,\"pipeline_fetch_max_batch_size\":1,\"iterations\":1000,\"primary_metric\":\"accuracy\",\"task_type\":\"classification\",\"data_script\":null,\"validation_size\":0.0,\"n_cross_validations\":5,\"y_min\":null,\"y_max\":null,\"num_classes\":null,\"featurization\":\"auto\",\"_ignore_package_version_incompatibilities\":false,\"is_timeseries\":false,\"max_cores_per_iteration\":1,\"max_concurrent_iterations\":4,\"iteration_timeout_minutes\":null,\"mem_in_mb\":null,\"enforce_time_on_windows\":false,\"experiment_timeout_minutes\":30,\"experiment_exit_score\":null,\"whitelist_models\":null,\"blacklist_algos\":[\"TensorFlowLinearClassifier\",\"TensorFlowDNN\"],\"supported_models\":[\"KNN\",\"DecisionTree\",\"LinearSVM\",\"BernoulliNaiveBayes\",\"AveragedPerceptronClassifier\",\"GradientBoosting\",\"SVM\",\"TensorFlowLinearClassifier\",\"RandomForest\",\"TensorFlowDNN\",\"MultinomialNaiveBayes\",\"XGBoostClassifier\",\"ExtremeRandomTrees\",\"LogisticRegression\",\"SGD\",\"LightGBM\"],\"auto_blacklist\":true,\"blacklist_samples_reached\":false,\"exclude_nan_labels\":true,\"verbosity\":20,\"_debug_log\":\"azureml_automl.log\",\"show_warnings\":false,\"model_explainability\":true,\"service_url\":null,\"sdk_url\":null,\"sdk_packages\":null,\"enable_onnx_compatible_models\":true,\"enable_split_onnx_featurizer_estimator_models\":false,\"vm_type\":\"STANDARD_D2_V2\",\"telemetry_verbosity\":20,\"send_telemetry\":true,\"enable_dnn\":false,\"scenario\":\"SDK-1.13.0\",\"environment_label\":null,\"force_text_dnn\":false,\"enable_feature_sweeping\":false,\"enable_early_stopping\":true,\"early_stopping_n_iters\":10,\"metrics\":null,\"enable_ensembling\":true,\"enable_stack_ensembling\":false,\"ensemble_iterations\":15,\"enable_tf\":false,\"enable_subsampling\":null,\"subsample_seed\":null,\"enable_nimbusml\":false,\"enable_streaming\":false,\"force_streaming\":false,\"track_child_runs\":true,\"allowed_private_models\":[],\"label_column_name\":\"DEATH_EVENT\",\"weight_column_name\":null,\"cv_split_column_names\":null,\"enable_local_managed\":false,\"_local_managed_run_id\":null,\"cost_mode\":1,\"lag_length\":0,\"metric_operation\":\"maximize\",\"preprocess\":true}',\n",
       "  'DataPrepJsonString': '{\\\\\"training_data\\\\\": \\\\\"{\\\\\\\\\\\\\"blocks\\\\\\\\\\\\\": [{\\\\\\\\\\\\\"id\\\\\\\\\\\\\": \\\\\\\\\\\\\"30a416e9-a20a-486b-b174-ebfa91ef9b5b\\\\\\\\\\\\\", \\\\\\\\\\\\\"type\\\\\\\\\\\\\": \\\\\\\\\\\\\"Microsoft.DPrep.GetDatastoreFilesBlock\\\\\\\\\\\\\", \\\\\\\\\\\\\"arguments\\\\\\\\\\\\\": {\\\\\\\\\\\\\"datastores\\\\\\\\\\\\\": [{\\\\\\\\\\\\\"datastoreName\\\\\\\\\\\\\": \\\\\\\\\\\\\"workspaceblobstore\\\\\\\\\\\\\", \\\\\\\\\\\\\"path\\\\\\\\\\\\\": \\\\\\\\\\\\\"UI/02-14-2021_074700_UTC/heart_failure_clinical_records_dataset.csv\\\\\\\\\\\\\", \\\\\\\\\\\\\"resourceGroup\\\\\\\\\\\\\": \\\\\\\\\\\\\"aml-quickstarts-138866\\\\\\\\\\\\\", \\\\\\\\\\\\\"subscription\\\\\\\\\\\\\": \\\\\\\\\\\\\"d4ad7261-832d-46b2-b093-22156001df5b\\\\\\\\\\\\\", \\\\\\\\\\\\\"workspaceName\\\\\\\\\\\\\": \\\\\\\\\\\\\"quick-starts-ws-138866\\\\\\\\\\\\\"}]}, \\\\\\\\\\\\\"localData\\\\\\\\\\\\\": {}, \\\\\\\\\\\\\"isEnabled\\\\\\\\\\\\\": true, \\\\\\\\\\\\\"name\\\\\\\\\\\\\": null, \\\\\\\\\\\\\"annotation\\\\\\\\\\\\\": null}, {\\\\\\\\\\\\\"id\\\\\\\\\\\\\": \\\\\\\\\\\\\"5c547d34-5dc4-425b-a964-b8d2aae4632a\\\\\\\\\\\\\", \\\\\\\\\\\\\"type\\\\\\\\\\\\\": \\\\\\\\\\\\\"Microsoft.DPrep.ParseDelimitedBlock\\\\\\\\\\\\\", \\\\\\\\\\\\\"arguments\\\\\\\\\\\\\": {\\\\\\\\\\\\\"columnHeadersMode\\\\\\\\\\\\\": 1, \\\\\\\\\\\\\"fileEncoding\\\\\\\\\\\\\": 0, \\\\\\\\\\\\\"handleQuotedLineBreaks\\\\\\\\\\\\\": false, \\\\\\\\\\\\\"preview\\\\\\\\\\\\\": false, \\\\\\\\\\\\\"separator\\\\\\\\\\\\\": \\\\\\\\\\\\\",\\\\\\\\\\\\\", \\\\\\\\\\\\\"skipRows\\\\\\\\\\\\\": 0, \\\\\\\\\\\\\"skipRowsMode\\\\\\\\\\\\\": 0}, \\\\\\\\\\\\\"localData\\\\\\\\\\\\\": {}, \\\\\\\\\\\\\"isEnabled\\\\\\\\\\\\\": true, \\\\\\\\\\\\\"name\\\\\\\\\\\\\": null, \\\\\\\\\\\\\"annotation\\\\\\\\\\\\\": null}, {\\\\\\\\\\\\\"id\\\\\\\\\\\\\": \\\\\\\\\\\\\"25f94529-d8d6-41d3-81b3-72dc24b3a221\\\\\\\\\\\\\", \\\\\\\\\\\\\"type\\\\\\\\\\\\\": \\\\\\\\\\\\\"Microsoft.DPrep.DropColumnsBlock\\\\\\\\\\\\\", \\\\\\\\\\\\\"arguments\\\\\\\\\\\\\": {\\\\\\\\\\\\\"columns\\\\\\\\\\\\\": {\\\\\\\\\\\\\"type\\\\\\\\\\\\\": 0, \\\\\\\\\\\\\"details\\\\\\\\\\\\\": {\\\\\\\\\\\\\"selectedColumns\\\\\\\\\\\\\": [\\\\\\\\\\\\\"Path\\\\\\\\\\\\\"]}}}, \\\\\\\\\\\\\"localData\\\\\\\\\\\\\": {}, \\\\\\\\\\\\\"isEnabled\\\\\\\\\\\\\": true, \\\\\\\\\\\\\"name\\\\\\\\\\\\\": null, \\\\\\\\\\\\\"annotation\\\\\\\\\\\\\": null}, {\\\\\\\\\\\\\"id\\\\\\\\\\\\\": \\\\\\\\\\\\\"27b2c016-a44d-4961-96ff-0b9c87ae4c0e\\\\\\\\\\\\\", \\\\\\\\\\\\\"type\\\\\\\\\\\\\": \\\\\\\\\\\\\"Microsoft.DPrep.SetColumnTypesBlock\\\\\\\\\\\\\", \\\\\\\\\\\\\"arguments\\\\\\\\\\\\\": {\\\\\\\\\\\\\"columnConversion\\\\\\\\\\\\\": [{\\\\\\\\\\\\\"column\\\\\\\\\\\\\": {\\\\\\\\\\\\\"type\\\\\\\\\\\\\": 2, \\\\\\\\\\\\\"details\\\\\\\\\\\\\": {\\\\\\\\\\\\\"selectedColumn\\\\\\\\\\\\\": \\\\\\\\\\\\\"Path\\\\\\\\\\\\\"}}, \\\\\\\\\\\\\"typeProperty\\\\\\\\\\\\\": 0}, {\\\\\\\\\\\\\"column\\\\\\\\\\\\\": {\\\\\\\\\\\\\"type\\\\\\\\\\\\\": 2, \\\\\\\\\\\\\"details\\\\\\\\\\\\\": {\\\\\\\\\\\\\"selectedColumn\\\\\\\\\\\\\": \\\\\\\\\\\\\"age\\\\\\\\\\\\\"}}, \\\\\\\\\\\\\"typeProperty\\\\\\\\\\\\\": 3}, {\\\\\\\\\\\\\"column\\\\\\\\\\\\\": {\\\\\\\\\\\\\"type\\\\\\\\\\\\\": 2, \\\\\\\\\\\\\"details\\\\\\\\\\\\\": {\\\\\\\\\\\\\"selectedColumn\\\\\\\\\\\\\": \\\\\\\\\\\\\"anaemia\\\\\\\\\\\\\"}}, \\\\\\\\\\\\\"typeProperty\\\\\\\\\\\\\": 2}, {\\\\\\\\\\\\\"column\\\\\\\\\\\\\": {\\\\\\\\\\\\\"type\\\\\\\\\\\\\": 2, \\\\\\\\\\\\\"details\\\\\\\\\\\\\": {\\\\\\\\\\\\\"selectedColumn\\\\\\\\\\\\\": \\\\\\\\\\\\\"creatinine_phosphokinase\\\\\\\\\\\\\"}}, \\\\\\\\\\\\\"typeProperty\\\\\\\\\\\\\": 2}, {\\\\\\\\\\\\\"column\\\\\\\\\\\\\": {\\\\\\\\\\\\\"type\\\\\\\\\\\\\": 2, \\\\\\\\\\\\\"details\\\\\\\\\\\\\": {\\\\\\\\\\\\\"selectedColumn\\\\\\\\\\\\\": \\\\\\\\\\\\\"diabetes\\\\\\\\\\\\\"}}, \\\\\\\\\\\\\"typeProperty\\\\\\\\\\\\\": 2}, {\\\\\\\\\\\\\"column\\\\\\\\\\\\\": {\\\\\\\\\\\\\"type\\\\\\\\\\\\\": 2, \\\\\\\\\\\\\"details\\\\\\\\\\\\\": {\\\\\\\\\\\\\"selectedColumn\\\\\\\\\\\\\": \\\\\\\\\\\\\"ejection_fraction\\\\\\\\\\\\\"}}, \\\\\\\\\\\\\"typeProperty\\\\\\\\\\\\\": 2}, {\\\\\\\\\\\\\"column\\\\\\\\\\\\\": {\\\\\\\\\\\\\"type\\\\\\\\\\\\\": 2, \\\\\\\\\\\\\"details\\\\\\\\\\\\\": {\\\\\\\\\\\\\"selectedColumn\\\\\\\\\\\\\": \\\\\\\\\\\\\"high_blood_pressure\\\\\\\\\\\\\"}}, \\\\\\\\\\\\\"typeProperty\\\\\\\\\\\\\": 2}, {\\\\\\\\\\\\\"column\\\\\\\\\\\\\": {\\\\\\\\\\\\\"type\\\\\\\\\\\\\": 2, \\\\\\\\\\\\\"details\\\\\\\\\\\\\": {\\\\\\\\\\\\\"selectedColumn\\\\\\\\\\\\\": \\\\\\\\\\\\\"platelets\\\\\\\\\\\\\"}}, \\\\\\\\\\\\\"typeProperty\\\\\\\\\\\\\": 3}, {\\\\\\\\\\\\\"column\\\\\\\\\\\\\": {\\\\\\\\\\\\\"type\\\\\\\\\\\\\": 2, \\\\\\\\\\\\\"details\\\\\\\\\\\\\": {\\\\\\\\\\\\\"selectedColumn\\\\\\\\\\\\\": \\\\\\\\\\\\\"serum_creatinine\\\\\\\\\\\\\"}}, \\\\\\\\\\\\\"typeProperty\\\\\\\\\\\\\": 3}, {\\\\\\\\\\\\\"column\\\\\\\\\\\\\": {\\\\\\\\\\\\\"type\\\\\\\\\\\\\": 2, \\\\\\\\\\\\\"details\\\\\\\\\\\\\": {\\\\\\\\\\\\\"selectedColumn\\\\\\\\\\\\\": \\\\\\\\\\\\\"serum_sodium\\\\\\\\\\\\\"}}, \\\\\\\\\\\\\"typeProperty\\\\\\\\\\\\\": 2}, {\\\\\\\\\\\\\"column\\\\\\\\\\\\\": {\\\\\\\\\\\\\"type\\\\\\\\\\\\\": 2, \\\\\\\\\\\\\"details\\\\\\\\\\\\\": {\\\\\\\\\\\\\"selectedColumn\\\\\\\\\\\\\": \\\\\\\\\\\\\"sex\\\\\\\\\\\\\"}}, \\\\\\\\\\\\\"typeProperty\\\\\\\\\\\\\": 2}, {\\\\\\\\\\\\\"column\\\\\\\\\\\\\": {\\\\\\\\\\\\\"type\\\\\\\\\\\\\": 2, \\\\\\\\\\\\\"details\\\\\\\\\\\\\": {\\\\\\\\\\\\\"selectedColumn\\\\\\\\\\\\\": \\\\\\\\\\\\\"smoking\\\\\\\\\\\\\"}}, \\\\\\\\\\\\\"typeProperty\\\\\\\\\\\\\": 2}, {\\\\\\\\\\\\\"column\\\\\\\\\\\\\": {\\\\\\\\\\\\\"type\\\\\\\\\\\\\": 2, \\\\\\\\\\\\\"details\\\\\\\\\\\\\": {\\\\\\\\\\\\\"selectedColumn\\\\\\\\\\\\\": \\\\\\\\\\\\\"time\\\\\\\\\\\\\"}}, \\\\\\\\\\\\\"typeProperty\\\\\\\\\\\\\": 2}, {\\\\\\\\\\\\\"column\\\\\\\\\\\\\": {\\\\\\\\\\\\\"type\\\\\\\\\\\\\": 2, \\\\\\\\\\\\\"details\\\\\\\\\\\\\": {\\\\\\\\\\\\\"selectedColumn\\\\\\\\\\\\\": \\\\\\\\\\\\\"DEATH_EVENT\\\\\\\\\\\\\"}}, \\\\\\\\\\\\\"typeProperty\\\\\\\\\\\\\": 2}]}, \\\\\\\\\\\\\"localData\\\\\\\\\\\\\": {}, \\\\\\\\\\\\\"isEnabled\\\\\\\\\\\\\": true, \\\\\\\\\\\\\"name\\\\\\\\\\\\\": null, \\\\\\\\\\\\\"annotation\\\\\\\\\\\\\": null}], \\\\\\\\\\\\\"inspectors\\\\\\\\\\\\\": [], \\\\\\\\\\\\\"meta\\\\\\\\\\\\\": {\\\\\\\\\\\\\"savedDatasetId\\\\\\\\\\\\\": \\\\\\\\\\\\\"a13c2169-1d1b-4380-a158-2904f4478081\\\\\\\\\\\\\", \\\\\\\\\\\\\"datasetType\\\\\\\\\\\\\": \\\\\\\\\\\\\"tabular\\\\\\\\\\\\\", \\\\\\\\\\\\\"subscriptionId\\\\\\\\\\\\\": \\\\\\\\\\\\\"d4ad7261-832d-46b2-b093-22156001df5b\\\\\\\\\\\\\", \\\\\\\\\\\\\"workspaceId\\\\\\\\\\\\\": \\\\\\\\\\\\\"ed0e6e2d-e71d-4f85-8e17-ac37a98b4176\\\\\\\\\\\\\", \\\\\\\\\\\\\"workspaceLocation\\\\\\\\\\\\\": \\\\\\\\\\\\\"southcentralus\\\\\\\\\\\\\"}}\\\\\", \\\\\"activities\\\\\": 0}',\n",
       "  'EnableSubsampling': None,\n",
       "  'runTemplate': 'AutoML',\n",
       "  'azureml.runsource': 'automl',\n",
       "  'display_task_type': 'classification',\n",
       "  'dependencies_versions': '{\"azureml-widgets\": \"1.20.0\", \"azureml-train\": \"1.20.0\", \"azureml-train-restclients-hyperdrive\": \"1.20.0\", \"azureml-train-core\": \"1.20.0\", \"azureml-train-automl\": \"1.20.0\", \"azureml-train-automl-runtime\": \"1.20.0\", \"azureml-train-automl-client\": \"1.20.0\", \"azureml-tensorboard\": \"1.20.0\", \"azureml-telemetry\": \"1.20.0\", \"azureml-sdk\": \"1.20.0\", \"azureml-samples\": \"0+unknown\", \"azureml-pipeline\": \"1.20.0\", \"azureml-pipeline-steps\": \"1.20.0\", \"azureml-pipeline-core\": \"1.20.0\", \"azureml-opendatasets\": \"1.20.0\", \"azureml-model-management-sdk\": \"1.0.1b6.post1\", \"azureml-mlflow\": \"1.20.0.post1\", \"azureml-interpret\": \"1.20.0\", \"azureml-explain-model\": \"1.20.0\", \"azureml-defaults\": \"1.20.0\", \"azureml-dataset-runtime\": \"1.20.0\", \"azureml-dataprep\": \"2.7.3\", \"azureml-dataprep-rslex\": \"1.5.0\", \"azureml-dataprep-native\": \"27.0.0\", \"azureml-datadrift\": \"1.20.0\", \"azureml-core\": \"1.20.0\", \"azureml-contrib-services\": \"1.20.0\", \"azureml-contrib-server\": \"1.20.0\", \"azureml-contrib-reinforcementlearning\": \"1.20.0\", \"azureml-contrib-pipeline-steps\": \"1.20.0\", \"azureml-contrib-notebook\": \"1.20.0\", \"azureml-contrib-interpret\": \"1.20.0\", \"azureml-contrib-gbdt\": \"1.20.0\", \"azureml-contrib-fairness\": \"1.20.0\", \"azureml-contrib-dataset\": \"1.20.0\", \"azureml-cli-common\": \"1.20.0\", \"azureml-automl-runtime\": \"1.20.0\", \"azureml-automl-core\": \"1.20.0\", \"azureml-accel-models\": \"1.20.0\"}',\n",
       "  '_aml_system_scenario_identification': 'Remote.Parent',\n",
       "  'ClientType': 'SDK',\n",
       "  'environment_cpu_name': 'AzureML-AutoML',\n",
       "  'environment_cpu_label': 'prod',\n",
       "  'environment_gpu_name': 'AzureML-AutoML-GPU',\n",
       "  'environment_gpu_label': 'prod',\n",
       "  'root_attribution': 'automl',\n",
       "  'attribution': 'AutoML',\n",
       "  'Orchestrator': 'AutoML',\n",
       "  'CancelUri': 'https://southcentralus.experiments.azureml.net/jasmine/v1.0/subscriptions/d4ad7261-832d-46b2-b093-22156001df5b/resourceGroups/aml-quickstarts-138866/providers/Microsoft.MachineLearningServices/workspaces/quick-starts-ws-138866/experimentids/f8487855-67ec-44b8-900a-a2d46416f4c5/cancel/AutoML_3b0e13c3-7b0d-43e0-b514-357905decf6d',\n",
       "  'ClientSdkVersion': '1.21.0',\n",
       "  'snapshotId': '00000000-0000-0000-0000-000000000000',\n",
       "  'SetupRunId': 'AutoML_3b0e13c3-7b0d-43e0-b514-357905decf6d_setup',\n",
       "  'SetupRunContainerId': 'dcid.AutoML_3b0e13c3-7b0d-43e0-b514-357905decf6d_setup',\n",
       "  'FeaturizationRunJsonPath': 'featurizer_container.json',\n",
       "  'FeaturizationRunId': 'AutoML_3b0e13c3-7b0d-43e0-b514-357905decf6d_featurize',\n",
       "  'ProblemInfoJsonString': '{\"dataset_num_categorical\": 0, \"is_sparse\": false, \"subsampling\": false, \"dataset_classes\": 2, \"dataset_features\": 12, \"dataset_samples\": 299, \"single_frequency_class_detected\": false}',\n",
       "  'ModelExplainRunId': 'AutoML_3b0e13c3-7b0d-43e0-b514-357905decf6d_ModelExplain'},\n",
       " 'inputDatasets': [{'dataset': {'id': 'a13c2169-1d1b-4380-a158-2904f4478081'}, 'consumptionDetails': {'type': 'RunInput', 'inputName': 'training_data', 'mechanism': 'Direct'}}],\n",
       " 'outputDatasets': [],\n",
       " 'logFiles': {},\n",
       " 'submittedBy': 'ODL_User 138866'}"
      ]
     },
     "execution_count": 10,
     "metadata": {},
     "output_type": "execute_result"
    }
   ],
   "source": [
    "from azureml.widgets import RunDetails\n",
    "RunDetails(remote_run).show()\n",
    "\n",
    "remote_run.wait_for_completion(show_output=True)"
   ]
  },
  {
   "cell_type": "markdown",
   "metadata": {},
   "source": [
    "## Best Model\n",
    "\n",
    "Get the best model from the automl experiments and display all the properties of the model."
   ]
  },
  {
   "cell_type": "code",
   "execution_count": 11,
   "metadata": {
    "gather": {
     "logged": 1612988291119
    },
    "jupyter": {
     "outputs_hidden": false,
     "source_hidden": false
    },
    "nteract": {
     "transient": {
      "deleting": false
     }
    }
   },
   "outputs": [
    {
     "name": "stderr",
     "output_type": "stream",
     "text": [
      "WARNING:root:The version of the SDK does not match the version the model was trained on.\n",
      "WARNING:root:The consistency in the result may not be guaranteed.\n",
      "WARNING:root:Package:azureml-automl-core, training version:1.21.0, current version:1.20.0\n",
      "Package:azureml-automl-runtime, training version:1.21.0, current version:1.20.0\n",
      "Package:azureml-core, training version:1.21.0.post1, current version:1.20.0\n",
      "Package:azureml-dataprep, training version:2.8.2, current version:2.7.3\n",
      "Package:azureml-dataprep-native, training version:28.0.0, current version:27.0.0\n",
      "Package:azureml-dataprep-rslex, training version:1.6.0, current version:1.5.0\n",
      "Package:azureml-dataset-runtime, training version:1.21.0, current version:1.20.0\n",
      "Package:azureml-defaults, training version:1.21.0, current version:1.20.0\n",
      "Package:azureml-interpret, training version:1.21.0, current version:1.20.0\n",
      "Package:azureml-pipeline-core, training version:1.21.0, current version:1.20.0\n",
      "Package:azureml-telemetry, training version:1.21.0, current version:1.20.0\n",
      "Package:azureml-train-automl-client, training version:1.21.0, current version:1.20.0\n",
      "Package:azureml-train-automl-runtime, training version:1.21.0, current version:1.20.0\n",
      "WARNING:root:Please ensure the version of your local conda dependencies match the version on which your model was trained in order to properly retrieve your model.\n"
     ]
    }
   ],
   "source": [
    "automl_best_run, automl_fitted_model = remote_run.get_output()"
   ]
  },
  {
   "cell_type": "code",
   "execution_count": 12,
   "metadata": {
    "gather": {
     "logged": 1612982851959
    }
   },
   "outputs": [
    {
     "data": {
      "text/plain": [
       "{'f1_score_micro': 0.872994350282486,\n",
       " 'balanced_accuracy': 0.8380952380952381,\n",
       " 'recall_score_micro': 0.872994350282486,\n",
       " 'matthews_correlation': 0.7210402592750885,\n",
       " 'accuracy': 0.872994350282486,\n",
       " 'average_precision_score_weighted': 0.92963515066975,\n",
       " 'precision_score_macro': 0.8871634861302564,\n",
       " 'AUC_macro': 0.9193279808047251,\n",
       " 'weighted_accuracy': 0.8966147612977042,\n",
       " 'precision_score_micro': 0.872994350282486,\n",
       " 'log_loss': 0.4099221262136351,\n",
       " 'norm_macro_recall': 0.6761904761904762,\n",
       " 'f1_score_weighted': 0.8668004716784138,\n",
       " 'AUC_weighted': 0.9193279808047251,\n",
       " 'recall_score_macro': 0.8380952380952381,\n",
       " 'f1_score_macro': 0.8450019445068128,\n",
       " 'average_precision_score_macro': 0.907206233920841,\n",
       " 'AUC_micro': 0.9189402151361359,\n",
       " 'recall_score_weighted': 0.872994350282486,\n",
       " 'average_precision_score_micro': 0.92190307049369,\n",
       " 'precision_score_weighted': 0.8913353100575503,\n",
       " 'confusion_matrix': 'aml://artifactId/ExperimentRun/dcid.AutoML_3b0e13c3-7b0d-43e0-b514-357905decf6d_36/confusion_matrix',\n",
       " 'accuracy_table': 'aml://artifactId/ExperimentRun/dcid.AutoML_3b0e13c3-7b0d-43e0-b514-357905decf6d_36/accuracy_table'}"
      ]
     },
     "execution_count": 12,
     "metadata": {},
     "output_type": "execute_result"
    }
   ],
   "source": [
    "automl_best_run.get_metrics()"
   ]
  },
  {
   "cell_type": "code",
   "execution_count": 13,
   "metadata": {
    "gather": {
     "logged": 1612982864390
    }
   },
   "outputs": [
    {
     "name": "stdout",
     "output_type": "stream",
     "text": [
      "Run(Experiment: automl_heart_failure_prediction,\n",
      "Id: AutoML_3b0e13c3-7b0d-43e0-b514-357905decf6d_36,\n",
      "Type: azureml.scriptrun,\n",
      "Status: Completed)\n"
     ]
    }
   ],
   "source": [
    "print(automl_best_run)"
   ]
  },
  {
   "cell_type": "code",
   "execution_count": 14,
   "metadata": {},
   "outputs": [
    {
     "name": "stdout",
     "output_type": "stream",
     "text": [
      "datatransformer\n",
      "{'enable_dnn': None,\n",
      " 'enable_feature_sweeping': None,\n",
      " 'feature_sweeping_config': None,\n",
      " 'feature_sweeping_timeout': None,\n",
      " 'featurization_config': None,\n",
      " 'force_text_dnn': None,\n",
      " 'is_cross_validation': None,\n",
      " 'is_onnx_compatible': None,\n",
      " 'logger': None,\n",
      " 'observer': None,\n",
      " 'task': None,\n",
      " 'working_dir': None}\n",
      "\n",
      "prefittedsoftvotingclassifier\n",
      "{'estimators': ['14', '30', '28', '11', '34', '32'],\n",
      " 'weights': [0.14285714285714285,\n",
      "             0.14285714285714285,\n",
      "             0.14285714285714285,\n",
      "             0.14285714285714285,\n",
      "             0.14285714285714285,\n",
      "             0.2857142857142857]}\n",
      "\n",
      "14 - robustscaler\n",
      "{'copy': True,\n",
      " 'quantile_range': [25, 75],\n",
      " 'with_centering': True,\n",
      " 'with_scaling': False}\n",
      "\n",
      "14 - extratreesclassifier\n",
      "{'bootstrap': False,\n",
      " 'ccp_alpha': 0.0,\n",
      " 'class_weight': None,\n",
      " 'criterion': 'entropy',\n",
      " 'max_depth': None,\n",
      " 'max_features': 0.8,\n",
      " 'max_leaf_nodes': None,\n",
      " 'max_samples': None,\n",
      " 'min_impurity_decrease': 0.0,\n",
      " 'min_impurity_split': None,\n",
      " 'min_samples_leaf': 0.01,\n",
      " 'min_samples_split': 0.2442105263157895,\n",
      " 'min_weight_fraction_leaf': 0.0,\n",
      " 'n_estimators': 100,\n",
      " 'n_jobs': 1,\n",
      " 'oob_score': False,\n",
      " 'random_state': None,\n",
      " 'verbose': 0,\n",
      " 'warm_start': False}\n",
      "\n",
      "30 - maxabsscaler\n",
      "{'copy': True}\n",
      "\n",
      "30 - extratreesclassifier\n",
      "{'bootstrap': False,\n",
      " 'ccp_alpha': 0.0,\n",
      " 'class_weight': None,\n",
      " 'criterion': 'entropy',\n",
      " 'max_depth': None,\n",
      " 'max_features': 0.9,\n",
      " 'max_leaf_nodes': None,\n",
      " 'max_samples': None,\n",
      " 'min_impurity_decrease': 0.0,\n",
      " 'min_impurity_split': None,\n",
      " 'min_samples_leaf': 0.08736842105263157,\n",
      " 'min_samples_split': 0.19736842105263158,\n",
      " 'min_weight_fraction_leaf': 0.0,\n",
      " 'n_estimators': 25,\n",
      " 'n_jobs': 1,\n",
      " 'oob_score': False,\n",
      " 'random_state': None,\n",
      " 'verbose': 0,\n",
      " 'warm_start': False}\n",
      "\n",
      "28 - robustscaler\n",
      "{'copy': True,\n",
      " 'quantile_range': [10, 90],\n",
      " 'with_centering': True,\n",
      " 'with_scaling': False}\n",
      "\n",
      "28 - randomforestclassifier\n",
      "{'bootstrap': True,\n",
      " 'ccp_alpha': 0.0,\n",
      " 'class_weight': None,\n",
      " 'criterion': 'gini',\n",
      " 'max_depth': None,\n",
      " 'max_features': 0.4,\n",
      " 'max_leaf_nodes': None,\n",
      " 'max_samples': None,\n",
      " 'min_impurity_decrease': 0.0,\n",
      " 'min_impurity_split': None,\n",
      " 'min_samples_leaf': 0.035789473684210524,\n",
      " 'min_samples_split': 0.10368421052631578,\n",
      " 'min_weight_fraction_leaf': 0.0,\n",
      " 'n_estimators': 25,\n",
      " 'n_jobs': 1,\n",
      " 'oob_score': True,\n",
      " 'random_state': None,\n",
      " 'verbose': 0,\n",
      " 'warm_start': False}\n",
      "\n",
      "11 - sparsenormalizer\n",
      "{'copy': True, 'norm': 'max'}\n",
      "\n",
      "11 - xgboostclassifier\n",
      "{'base_score': 0.5,\n",
      " 'booster': 'gbtree',\n",
      " 'colsample_bylevel': 1,\n",
      " 'colsample_bynode': 1,\n",
      " 'colsample_bytree': 0.9,\n",
      " 'eta': 0.3,\n",
      " 'gamma': 0,\n",
      " 'learning_rate': 0.1,\n",
      " 'max_delta_step': 0,\n",
      " 'max_depth': 10,\n",
      " 'max_leaves': 15,\n",
      " 'min_child_weight': 1,\n",
      " 'missing': nan,\n",
      " 'n_estimators': 25,\n",
      " 'n_jobs': 1,\n",
      " 'nthread': None,\n",
      " 'objective': 'reg:logistic',\n",
      " 'random_state': 0,\n",
      " 'reg_alpha': 0,\n",
      " 'reg_lambda': 0.5208333333333334,\n",
      " 'scale_pos_weight': 1,\n",
      " 'seed': None,\n",
      " 'silent': None,\n",
      " 'subsample': 0.6,\n",
      " 'tree_method': 'auto',\n",
      " 'verbose': -10,\n",
      " 'verbosity': 0}\n",
      "\n",
      "34 - sparsenormalizer\n",
      "{'copy': True, 'norm': 'l1'}\n",
      "\n",
      "34 - lightgbmclassifier\n",
      "{'boosting_type': 'goss',\n",
      " 'class_weight': None,\n",
      " 'colsample_bytree': 0.4955555555555555,\n",
      " 'importance_type': 'split',\n",
      " 'learning_rate': 0.05263631578947369,\n",
      " 'max_bin': 10,\n",
      " 'max_depth': 10,\n",
      " 'min_child_samples': 9,\n",
      " 'min_child_weight': 2,\n",
      " 'min_split_gain': 1,\n",
      " 'n_estimators': 50,\n",
      " 'n_jobs': 1,\n",
      " 'num_leaves': 110,\n",
      " 'objective': None,\n",
      " 'random_state': None,\n",
      " 'reg_alpha': 0.5789473684210527,\n",
      " 'reg_lambda': 0.10526315789473684,\n",
      " 'silent': True,\n",
      " 'subsample': 1,\n",
      " 'subsample_for_bin': 200000,\n",
      " 'subsample_freq': 0,\n",
      " 'verbose': -10}\n",
      "\n",
      "32 - standardscalerwrapper\n",
      "{'class_name': 'StandardScaler',\n",
      " 'copy': True,\n",
      " 'module_name': 'sklearn.preprocessing._data',\n",
      " 'with_mean': False,\n",
      " 'with_std': False}\n",
      "\n",
      "32 - xgboostclassifier\n",
      "{'base_score': 0.5,\n",
      " 'booster': 'gbtree',\n",
      " 'colsample_bylevel': 1,\n",
      " 'colsample_bynode': 1,\n",
      " 'colsample_bytree': 0.6,\n",
      " 'eta': 0.4,\n",
      " 'gamma': 0,\n",
      " 'learning_rate': 0.1,\n",
      " 'max_delta_step': 0,\n",
      " 'max_depth': 6,\n",
      " 'max_leaves': 7,\n",
      " 'min_child_weight': 1,\n",
      " 'missing': nan,\n",
      " 'n_estimators': 10,\n",
      " 'n_jobs': 1,\n",
      " 'nthread': None,\n",
      " 'objective': 'reg:logistic',\n",
      " 'random_state': 0,\n",
      " 'reg_alpha': 0,\n",
      " 'reg_lambda': 0.20833333333333334,\n",
      " 'scale_pos_weight': 1,\n",
      " 'seed': None,\n",
      " 'silent': None,\n",
      " 'subsample': 0.6,\n",
      " 'tree_method': 'auto',\n",
      " 'verbose': -10,\n",
      " 'verbosity': 0}\n",
      "\n"
     ]
    }
   ],
   "source": [
    "from pprint import pprint\n",
    "\n",
    "# Function to list the hyperparameters \n",
    "\n",
    "def print_model(model, prefix=\"\"):\n",
    "    for step in model.steps:\n",
    "        print(prefix + step[0])\n",
    "        \n",
    "        if hasattr(step[1], 'estimators') and hasattr(step[1], 'weights'):\n",
    "            pprint({'estimators' : list(e[0] for e in step[1].estimators), 'weights' : step[1].weights})\n",
    "            print()\n",
    "\n",
    "            for estimator in step[1].estimators:\n",
    "                print_model(estimator[1], estimator[0] + ' - ')\n",
    "        \n",
    "        else:\n",
    "            pprint(step[1].get_params())\n",
    "            print()\n",
    "        \n",
    "print_model(automl_fitted_model)"
   ]
  },
  {
   "cell_type": "code",
   "execution_count": 15,
   "metadata": {
    "gather": {
     "logged": 1612982869417
    }
   },
   "outputs": [
    {
     "name": "stdout",
     "output_type": "stream",
     "text": [
      "Pipeline(memory=None,\n",
      "         steps=[('datatransformer',\n",
      "                 DataTransformer(enable_dnn=None, enable_feature_sweeping=None,\n",
      "                                 feature_sweeping_config=None,\n",
      "                                 feature_sweeping_timeout=None,\n",
      "                                 featurization_config=None, force_text_dnn=None,\n",
      "                                 is_cross_validation=None,\n",
      "                                 is_onnx_compatible=None, logger=None,\n",
      "                                 observer=None, task=None, working_dir=None)),\n",
      "                ('prefittedsoftvotingclassifier',...\n",
      "                                                                                               objective='reg:logistic',\n",
      "                                                                                               random_state=0,\n",
      "                                                                                               reg_alpha=0,\n",
      "                                                                                               reg_lambda=0.20833333333333334,\n",
      "                                                                                               scale_pos_weight=1,\n",
      "                                                                                               seed=None,\n",
      "                                                                                               silent=None,\n",
      "                                                                                               subsample=0.6,\n",
      "                                                                                               tree_method='auto',\n",
      "                                                                                               verbose=-10,\n",
      "                                                                                               verbosity=0))],\n",
      "                                                                     verbose=False))],\n",
      "                                               flatten_transform=None,\n",
      "                                               weights=[0.14285714285714285,\n",
      "                                                        0.14285714285714285,\n",
      "                                                        0.14285714285714285,\n",
      "                                                        0.14285714285714285,\n",
      "                                                        0.14285714285714285,\n",
      "                                                        0.2857142857142857]))],\n",
      "         verbose=False)\n"
     ]
    }
   ],
   "source": [
    "print(automl_fitted_model)"
   ]
  },
  {
   "cell_type": "code",
   "execution_count": 16,
   "metadata": {
    "gather": {
     "logged": 1612982878939
    }
   },
   "outputs": [
    {
     "data": {
      "text/plain": [
       "['output/best-automl.pkl']"
      ]
     },
     "execution_count": 16,
     "metadata": {},
     "output_type": "execute_result"
    }
   ],
   "source": [
    "# Retrieve and save your best automl model.\n",
    "\n",
    "os.makedirs('output', exist_ok=True)\n",
    "\n",
    "joblib.dump(value = automl_fitted_model, filename = 'output/best-automl.pkl')"
   ]
  },
  {
   "cell_type": "markdown",
   "metadata": {},
   "source": [
    "## Model Deployment\n",
    "\n",
    "Register the model, create an inference config and deploy the model as a web service."
   ]
  },
  {
   "cell_type": "code",
   "execution_count": 17,
   "metadata": {
    "gather": {
     "logged": 1612728442620
    },
    "jupyter": {
     "outputs_hidden": false,
     "source_hidden": false
    },
    "nteract": {
     "transient": {
      "deleting": false
     }
    }
   },
   "outputs": [
    {
     "name": "stdout",
     "output_type": "stream",
     "text": [
      "Registering model automl-best-model\n"
     ]
    }
   ],
   "source": [
    "model = Model.register(workspace = ws,\n",
    "                        model_path = 'output/best-automl.pkl',\n",
    "                        model_name = 'automl-best-model')\n",
    "\n",
    "automl_best_run.download_file(constants.CONDA_ENV_FILE_PATH, 'my-conda-env.yml')"
   ]
  },
  {
   "cell_type": "code",
   "execution_count": 20,
   "metadata": {},
   "outputs": [],
   "source": [
    "# # Download scoring file\n",
    "# # Note: update the score.py as\n",
    "# # model_path = os.path.join(os.getenv('AZUREML_MODEL_DIR'), 'best-automl.pkl') instead of\n",
    "# # model_path = os.path.join(os.getenv('AZUREML_MODEL_DIR'), 'model.pkl')\n",
    "\n",
    "# automl_best_run.download_file('outputs/scoring_file_v_1_0_0.py', 'score.py')"
   ]
  },
  {
   "cell_type": "code",
   "execution_count": 21,
   "metadata": {
    "gather": {
     "logged": 1612729545664
    }
   },
   "outputs": [
    {
     "name": "stdout",
     "output_type": "stream",
     "text": [
      "Tips: You can try get_logs(): https://aka.ms/debugimage#dockerlog or local deployment: https://aka.ms/debugimage#debug-locally to debug if deployment takes longer than 10 minutes.\n",
      "Running...............................................................................................................................................................................\n",
      "Succeeded\n",
      "ACI service creation operation finished, operation \"Succeeded\"\n"
     ]
    }
   ],
   "source": [
    "env = Environment.from_conda_specification('my-conda-env', 'my-conda-env.yml')\n",
    "\n",
    "inference_config = InferenceConfig(entry_script='score.py', environment=env)\n",
    "\n",
    "aci_config = AciWebservice.deploy_configuration(cpu_cores = 1, \n",
    "                                                memory_gb = 1,\n",
    "                                                auth_enabled = True, \n",
    "                                                enable_app_insights = True,\n",
    "                                                tags = {'name':'Heart failure prediction'},\n",
    "                                                description='Heart failure prediction model')\n",
    "\n",
    "service = model.deploy(workspace = ws, \n",
    "                       name = 'predict-heart-failure', \n",
    "                       models = [model], \n",
    "                       inference_config = inference_config,\n",
    "                       deployment_config = aci_config)\n",
    "\n",
    "service.wait_for_deployment(show_output=True)"
   ]
  },
  {
   "cell_type": "code",
   "execution_count": 22,
   "metadata": {
    "gather": {
     "logged": 1612729545977
    }
   },
   "outputs": [
    {
     "name": "stdout",
     "output_type": "stream",
     "text": [
      "Healthy\n"
     ]
    }
   ],
   "source": [
    "print(service.state)"
   ]
  },
  {
   "cell_type": "code",
   "execution_count": 23,
   "metadata": {
    "gather": {
     "logged": 1612729552754
    }
   },
   "outputs": [],
   "source": [
    "# print(\"scoring URI: \" + service.scoring_uri)\n",
    "\n",
    "# print(\"Swagger URI: \" + service.swagger_uri)\n",
    "\n",
    "# print(\"Authetication Key: \" + service.get_keys()[0])"
   ]
  },
  {
   "cell_type": "markdown",
   "metadata": {
    "collapsed": true,
    "gather": {
     "logged": 1598431657736
    },
    "jupyter": {
     "outputs_hidden": false,
     "source_hidden": false
    },
    "nteract": {
     "transient": {
      "deleting": false
     }
    }
   },
   "source": [
    "## Send a request to the web service you deployed to test it."
   ]
  },
  {
   "cell_type": "code",
   "execution_count": 24,
   "metadata": {
    "gather": {
     "logged": 1612729826957
    },
    "jupyter": {
     "outputs_hidden": false,
     "source_hidden": false
    },
    "nteract": {
     "transient": {
      "deleting": false
     }
    }
   },
   "outputs": [
    {
     "name": "stdout",
     "output_type": "stream",
     "text": [
      "\"{\\\"result\\\": [1, 0]}\"\n"
     ]
    }
   ],
   "source": [
    "import requests\n",
    "import json\n",
    "\n",
    "scoringuri = service.scoring_uri\n",
    "key = service.get_keys()[0]\n",
    "\n",
    "data= { \"data\":\n",
    "       [\n",
    "           {\n",
    "               'age': 74,\n",
    "               'anaemia': 1,\n",
    "               'creatinine_phosphokinase': 1618,\n",
    "               'diabetes': 1,\n",
    "               'ejection_fraction': 27,\n",
    "               'high_blood_pressure': 1,\n",
    "               'platelets': 275095,\n",
    "               'serum_creatinine': 2.3,\n",
    "               'serum_sodium': 133,\n",
    "               'sex': 0,\n",
    "               'smoking': 0,\n",
    "               'time': 9\n",
    "               \n",
    "           },\n",
    "           {\n",
    "               'age': 46,\n",
    "               'anaemia': 0,\n",
    "               'creatinine_phosphokinase': 800,\n",
    "               'diabetes': 0,\n",
    "               'ejection_fraction': 48,\n",
    "               'high_blood_pressure': 1,\n",
    "               'platelets': 259000,\n",
    "               'serum_creatinine': 1.79,\n",
    "               'serum_sodium': 135,\n",
    "               'sex': 1,\n",
    "               'smoking': 0,\n",
    "               'time': 107\n",
    "           }\n",
    "       ]\n",
    "    }\n",
    "input_data = json.dumps(data)\n",
    "\n",
    "headers = {'Content-Type': 'application/json'}\n",
    "headers['Authorization'] = f'Bearer {key}'\n",
    "\n",
    "response = requests.post(scoringuri, input_data, headers = headers)\n",
    "print(response.text)"
   ]
  },
  {
   "cell_type": "markdown",
   "metadata": {},
   "source": [
    "## Convert model to ONNX format"
   ]
  },
  {
   "cell_type": "code",
   "execution_count": 25,
   "metadata": {},
   "outputs": [],
   "source": [
    "from azureml.automl.runtime.onnx_convert import OnnxConverter\n",
    "\n",
    "automl_best_run_onnx, automl_fitted_model_onnx = remote_run.get_output(return_onnx_model=True)\n",
    "\n",
    "OnnxConverter.save_onnx_model(automl_fitted_model_onnx, './output/best_automl_model.onnx')"
   ]
  },
  {
   "cell_type": "markdown",
   "metadata": {
    "collapsed": true,
    "gather": {
     "logged": 1598432765711
    },
    "jupyter": {
     "outputs_hidden": false,
     "source_hidden": false
    },
    "nteract": {
     "transient": {
      "deleting": false
     }
    }
   },
   "source": [
    "## Print the logs of the web service and delete the service"
   ]
  },
  {
   "cell_type": "code",
   "execution_count": 26,
   "metadata": {
    "gather": {
     "logged": 1612729854945
    },
    "jupyter": {
     "outputs_hidden": false,
     "source_hidden": false
    },
    "nteract": {
     "transient": {
      "deleting": false
     }
    }
   },
   "outputs": [
    {
     "name": "stdout",
     "output_type": "stream",
     "text": [
      "2021-02-14T08:53:20,963542487+00:00 - gunicorn/run \n",
      "2021-02-14T08:53:20,964735391+00:00 - rsyslog/run \n",
      "2021-02-14T08:53:20,963676287+00:00 - iot-server/run \n",
      "rsyslogd: /azureml-envs/azureml_7785023fceb74e4facc1b1a577b1faf9/lib/libuuid.so.1: no version information available (required by rsyslogd)\n",
      "2021-02-14T08:53:20,977963539+00:00 - nginx/run \n",
      "/usr/sbin/nginx: /azureml-envs/azureml_7785023fceb74e4facc1b1a577b1faf9/lib/libcrypto.so.1.0.0: no version information available (required by /usr/sbin/nginx)\n",
      "/usr/sbin/nginx: /azureml-envs/azureml_7785023fceb74e4facc1b1a577b1faf9/lib/libcrypto.so.1.0.0: no version information available (required by /usr/sbin/nginx)\n",
      "/usr/sbin/nginx: /azureml-envs/azureml_7785023fceb74e4facc1b1a577b1faf9/lib/libssl.so.1.0.0: no version information available (required by /usr/sbin/nginx)\n",
      "/usr/sbin/nginx: /azureml-envs/azureml_7785023fceb74e4facc1b1a577b1faf9/lib/libssl.so.1.0.0: no version information available (required by /usr/sbin/nginx)\n",
      "/usr/sbin/nginx: /azureml-envs/azureml_7785023fceb74e4facc1b1a577b1faf9/lib/libssl.so.1.0.0: no version information available (required by /usr/sbin/nginx)\n",
      "EdgeHubConnectionString and IOTEDGE_IOTHUBHOSTNAME are not set. Exiting...\n",
      "2021-02-14T08:53:21,158352091+00:00 - iot-server/finish 1 0\n",
      "2021-02-14T08:53:21,159741396+00:00 - Exit code 1 is normal. Not restarting iot-server.\n",
      "Starting gunicorn 19.9.0\n",
      "Listening at: http://127.0.0.1:31311 (12)\n",
      "Using worker: sync\n",
      "worker timeout is set to 300\n",
      "Booting worker with pid: 42\n",
      "SPARK_HOME not set. Skipping PySpark Initialization.\n",
      "Generating new fontManager, this may take some time...\n",
      "Initializing logger\n",
      "2021-02-14 08:53:22,699 | root | INFO | Starting up app insights client\n",
      "2021-02-14 08:53:22,700 | root | INFO | Starting up request id generator\n",
      "2021-02-14 08:53:22,700 | root | INFO | Starting up app insight hooks\n",
      "2021-02-14 08:53:22,700 | root | INFO | Invoking user's init function\n",
      "2021-02-14 08:53:25,296 | root | INFO | Users's init has completed successfully\n",
      "2021-02-14 08:53:25,299 | root | INFO | Skipping middleware: dbg_model_info as it's not enabled.\n",
      "2021-02-14 08:53:25,299 | root | INFO | Skipping middleware: dbg_resource_usage as it's not enabled.\n",
      "2021-02-14 08:53:25,301 | root | INFO | Scoring timeout is found from os.environ: 60000 ms\n",
      "2021-02-14 08:53:33,876 | root | INFO | 200\n",
      "127.0.0.1 - - [14/Feb/2021:08:53:33 +0000] \"GET /swagger.json HTTP/1.0\" 200 2854 \"-\" \"Go-http-client/1.1\"\n",
      "2021-02-14 08:53:38,901 | root | INFO | 200\n",
      "127.0.0.1 - - [14/Feb/2021:08:53:38 +0000] \"GET /swagger.json HTTP/1.0\" 200 2854 \"-\" \"Go-http-client/1.1\"\n",
      "2021-02-14 08:54:06,680 | root | INFO | Validation Request Content-Type\n",
      "2021-02-14 08:54:06,681 | root | INFO | Scoring Timer is set to 60.0 seconds\n",
      "2021-02-14 08:54:06,776 | root | INFO | 200\n",
      "127.0.0.1 - - [14/Feb/2021:08:54:06 +0000] \"POST /score HTTP/1.0\" 200 22 \"-\" \"python-requests/2.25.1\"\n",
      "\n"
     ]
    }
   ],
   "source": [
    "print(service.get_logs())"
   ]
  },
  {
   "cell_type": "code",
   "execution_count": 27,
   "metadata": {},
   "outputs": [],
   "source": [
    "service.delete()"
   ]
  },
  {
   "cell_type": "code",
   "execution_count": null,
   "metadata": {},
   "outputs": [],
   "source": []
  }
 ],
 "metadata": {
  "kernel_info": {
   "name": "python3"
  },
  "kernelspec": {
   "display_name": "Python 3",
   "language": "python",
   "name": "python3"
  },
  "language_info": {
   "codemirror_mode": {
    "name": "ipython",
    "version": 3
   },
   "file_extension": ".py",
   "mimetype": "text/x-python",
   "name": "python",
   "nbconvert_exporter": "python",
   "pygments_lexer": "ipython3",
   "version": "3.6.9"
  },
  "nteract": {
   "version": "nteract-front-end@1.0.0"
  }
 },
 "nbformat": 4,
 "nbformat_minor": 2
}
