{
 "cells": [
  {
   "cell_type": "markdown",
   "metadata": {},
   "source": [
    "# Automated ML\n",
    "\n",
    "Import Dependencies. In the cell below, import all the dependencies that you will need to complete the project."
   ]
  },
  {
   "cell_type": "code",
   "execution_count": 1,
   "metadata": {
    "gather": {
     "logged": 1613060687506
    },
    "jupyter": {
     "outputs_hidden": false,
     "source_hidden": false
    },
    "nteract": {
     "transient": {
      "deleting": false
     }
    }
   },
   "outputs": [
    {
     "name": "stdout",
     "output_type": "stream",
     "text": [
      "SDK version: 1.20.0\n"
     ]
    }
   ],
   "source": [
    "import logging\n",
    "import os\n",
    "import csv\n",
    "\n",
    "from matplotlib import pyplot as plt\n",
    "import numpy as np\n",
    "import pandas as pd\n",
    "from sklearn import datasets\n",
    "import pkg_resources\n",
    "\n",
    "import azureml.core\n",
    "from azureml.core.model import Model\n",
    "from azureml.core.experiment import Experiment\n",
    "from azureml.core.workspace import Workspace\n",
    "from azureml.train.automl import AutoMLConfig\n",
    "from azureml.core.dataset import Dataset\n",
    "\n",
    "from azureml.pipeline.steps import AutoMLStep\n",
    "from azureml.automl.core.shared import constants\n",
    "from azureml.core.environment import Environment\n",
    "from azureml.core.model import InferenceConfig\n",
    "from azureml.core.webservice import LocalWebservice, AciWebservice\n",
    "from azureml.core.environment import CondaDependencies\n",
    "\n",
    "\n",
    "import joblib\n",
    "\n",
    "# Check core SDK version number\n",
    "print(\"SDK version:\", azureml.core.VERSION)"
   ]
  },
  {
   "cell_type": "markdown",
   "metadata": {},
   "source": [
    "## Dataset - Heart Failure Clinical Records Dataset\n",
    "\n",
    "### Overview\n",
    "Cardiovascular diseases (CVDs) are the number 1 cause of death globally, taking an estimated 17.9 million lives each year, which accounts for 31% of all deaths worlwide.\n",
    "Heart failure is a common event caused by CVDs and this dataset contains 12 features that can be used to predict mortality by heart failure.\n",
    "\n",
    "Most cardiovascular diseases can be prevented by addressing behavioural risk factors such as tobacco use, unhealthy diet and obesity, physical inactivity and harmful use of alcohol using population-wide strategies.\n",
    "\n",
    "People with cardiovascular disease or who are at high cardiovascular risk (due to the presence of one or more risk factors such as hypertension, diabetes, hyperlipidaemia or already established disease) need early detection and management wherein a machine learning model can be of great help.\n",
    "\n",
    "### Objective\n",
    "Train a model to predict whether the person with Cardiovascular disease will survive or not"
   ]
  },
  {
   "cell_type": "code",
   "execution_count": 2,
   "metadata": {
    "gather": {
     "logged": 1613060827819
    },
    "jupyter": {
     "outputs_hidden": false,
     "source_hidden": false
    },
    "nteract": {
     "transient": {
      "deleting": false
     }
    }
   },
   "outputs": [
    {
     "name": "stdout",
     "output_type": "stream",
     "text": [
      "quick-starts-ws-138775\n",
      "aml-quickstarts-138775\n",
      "southcentralus\n",
      "9a7511b8-150f-4a58-8528-3e7d50216c31\n"
     ]
    }
   ],
   "source": [
    "# Initialize Workspace\n",
    "ws = Workspace.from_config()\n",
    "print(ws.name, ws.resource_group, ws.location, ws.subscription_id, sep = '\\n')"
   ]
  },
  {
   "cell_type": "code",
   "execution_count": 3,
   "metadata": {
    "gather": {
     "logged": 1613060827819
    },
    "jupyter": {
     "outputs_hidden": false,
     "source_hidden": false
    },
    "nteract": {
     "transient": {
      "deleting": false
     }
    }
   },
   "outputs": [],
   "source": [
    "# choose a name for experiment\n",
    "experiment_name = 'automl_heart_failure_prediction'\n",
    "\n",
    "if \"automl\" not in os.listdir():\n",
    "    os.mkdir(\"./automl\")\n",
    "\n",
    "project_folder = './automl'\n",
    "\n",
    "experiment=Experiment(ws, experiment_name)"
   ]
  },
  {
   "cell_type": "code",
   "execution_count": 4,
   "metadata": {
    "gather": {
     "logged": 1613060831954
    },
    "jupyter": {
     "outputs_hidden": false,
     "source_hidden": false
    },
    "nteract": {
     "transient": {
      "deleting": false
     }
    }
   },
   "outputs": [
    {
     "name": "stdout",
     "output_type": "stream",
     "text": [
      "Workspace name: quick-starts-ws-138775\n",
      "Azure region: southcentralus\n",
      "Subscription id: 9a7511b8-150f-4a58-8528-3e7d50216c31\n",
      "Resource group: aml-quickstarts-138775\n"
     ]
    }
   ],
   "source": [
    "print('Workspace name: ' + ws.name, \n",
    "      'Azure region: ' + ws.location, \n",
    "      'Subscription id: ' + ws.subscription_id, \n",
    "      'Resource group: ' + ws.resource_group, sep = '\\n')"
   ]
  },
  {
   "cell_type": "markdown",
   "metadata": {},
   "source": [
    "## Create or Attach an AmlCompute cluster"
   ]
  },
  {
   "cell_type": "code",
   "execution_count": 5,
   "metadata": {
    "gather": {
     "logged": 1613062364220
    }
   },
   "outputs": [
    {
     "name": "stdout",
     "output_type": "stream",
     "text": [
      "Found existing cluster, use it.\n"
     ]
    }
   ],
   "source": [
    "from azureml.core.compute import AmlCompute\n",
    "from azureml.core.compute import ComputeTarget\n",
    "from azureml.core.compute_target import ComputeTargetException\n",
    "\n",
    "compute_cluster_name = \"capstone-cluster\"\n",
    "\n",
    "# Verify that cluster does not exist already\n",
    "try:\n",
    "    compute_target = ComputeTarget(workspace = ws, name = compute_cluster_name)\n",
    "    print('Found existing cluster, use it.')\n",
    "    \n",
    "except ComputeTargetException:\n",
    "    compute_config = AmlCompute.provisioning_configuration(vm_size='STANDARD_D2_V2',# for GPU, use \"STANDARD_NC6\"\n",
    "                                                           #vm_priority = 'lowpriority', # optional\n",
    "                                                           max_nodes=4)\n",
    "    compute_target = ComputeTarget.create(ws, compute_cluster_name, compute_config)\n",
    "    \n",
    "    compute_target.wait_for_completion(show_output=True, min_node_count = 1, timeout_in_minutes = 10)\n",
    "# For a more detailed view of current AmlCompute status, use get_status()."
   ]
  },
  {
   "cell_type": "markdown",
   "metadata": {},
   "source": [
    "## Data"
   ]
  },
  {
   "cell_type": "code",
   "execution_count": 6,
   "metadata": {
    "gather": {
     "logged": 1613062414138
    }
   },
   "outputs": [
    {
     "data": {
      "text/html": [
       "<div>\n",
       "<style scoped>\n",
       "    .dataframe tbody tr th:only-of-type {\n",
       "        vertical-align: middle;\n",
       "    }\n",
       "\n",
       "    .dataframe tbody tr th {\n",
       "        vertical-align: top;\n",
       "    }\n",
       "\n",
       "    .dataframe thead th {\n",
       "        text-align: right;\n",
       "    }\n",
       "</style>\n",
       "<table border=\"1\" class=\"dataframe\">\n",
       "  <thead>\n",
       "    <tr style=\"text-align: right;\">\n",
       "      <th></th>\n",
       "      <th>age</th>\n",
       "      <th>anaemia</th>\n",
       "      <th>creatinine_phosphokinase</th>\n",
       "      <th>diabetes</th>\n",
       "      <th>ejection_fraction</th>\n",
       "      <th>high_blood_pressure</th>\n",
       "      <th>platelets</th>\n",
       "      <th>serum_creatinine</th>\n",
       "      <th>serum_sodium</th>\n",
       "      <th>sex</th>\n",
       "      <th>smoking</th>\n",
       "      <th>time</th>\n",
       "      <th>DEATH_EVENT</th>\n",
       "    </tr>\n",
       "  </thead>\n",
       "  <tbody>\n",
       "    <tr>\n",
       "      <th>0</th>\n",
       "      <td>75.0</td>\n",
       "      <td>0</td>\n",
       "      <td>582</td>\n",
       "      <td>0</td>\n",
       "      <td>20</td>\n",
       "      <td>1</td>\n",
       "      <td>265000.00</td>\n",
       "      <td>1.9</td>\n",
       "      <td>130</td>\n",
       "      <td>1</td>\n",
       "      <td>0</td>\n",
       "      <td>4</td>\n",
       "      <td>1</td>\n",
       "    </tr>\n",
       "    <tr>\n",
       "      <th>1</th>\n",
       "      <td>55.0</td>\n",
       "      <td>0</td>\n",
       "      <td>7861</td>\n",
       "      <td>0</td>\n",
       "      <td>38</td>\n",
       "      <td>0</td>\n",
       "      <td>263358.03</td>\n",
       "      <td>1.1</td>\n",
       "      <td>136</td>\n",
       "      <td>1</td>\n",
       "      <td>0</td>\n",
       "      <td>6</td>\n",
       "      <td>1</td>\n",
       "    </tr>\n",
       "    <tr>\n",
       "      <th>2</th>\n",
       "      <td>65.0</td>\n",
       "      <td>0</td>\n",
       "      <td>146</td>\n",
       "      <td>0</td>\n",
       "      <td>20</td>\n",
       "      <td>0</td>\n",
       "      <td>162000.00</td>\n",
       "      <td>1.3</td>\n",
       "      <td>129</td>\n",
       "      <td>1</td>\n",
       "      <td>1</td>\n",
       "      <td>7</td>\n",
       "      <td>1</td>\n",
       "    </tr>\n",
       "    <tr>\n",
       "      <th>3</th>\n",
       "      <td>50.0</td>\n",
       "      <td>1</td>\n",
       "      <td>111</td>\n",
       "      <td>0</td>\n",
       "      <td>20</td>\n",
       "      <td>0</td>\n",
       "      <td>210000.00</td>\n",
       "      <td>1.9</td>\n",
       "      <td>137</td>\n",
       "      <td>1</td>\n",
       "      <td>0</td>\n",
       "      <td>7</td>\n",
       "      <td>1</td>\n",
       "    </tr>\n",
       "    <tr>\n",
       "      <th>4</th>\n",
       "      <td>65.0</td>\n",
       "      <td>1</td>\n",
       "      <td>160</td>\n",
       "      <td>1</td>\n",
       "      <td>20</td>\n",
       "      <td>0</td>\n",
       "      <td>327000.00</td>\n",
       "      <td>2.7</td>\n",
       "      <td>116</td>\n",
       "      <td>0</td>\n",
       "      <td>0</td>\n",
       "      <td>8</td>\n",
       "      <td>1</td>\n",
       "    </tr>\n",
       "  </tbody>\n",
       "</table>\n",
       "</div>"
      ],
      "text/plain": [
       "    age  anaemia  creatinine_phosphokinase  diabetes  ejection_fraction  \\\n",
       "0  75.0        0                       582         0                 20   \n",
       "1  55.0        0                      7861         0                 38   \n",
       "2  65.0        0                       146         0                 20   \n",
       "3  50.0        1                       111         0                 20   \n",
       "4  65.0        1                       160         1                 20   \n",
       "\n",
       "   high_blood_pressure  platelets  serum_creatinine  serum_sodium  sex  \\\n",
       "0                    1  265000.00               1.9           130    1   \n",
       "1                    0  263358.03               1.1           136    1   \n",
       "2                    0  162000.00               1.3           129    1   \n",
       "3                    0  210000.00               1.9           137    1   \n",
       "4                    0  327000.00               2.7           116    0   \n",
       "\n",
       "   smoking  time  DEATH_EVENT  \n",
       "0        0     4            1  \n",
       "1        0     6            1  \n",
       "2        1     7            1  \n",
       "3        0     7            1  \n",
       "4        0     8            1  "
      ]
     },
     "execution_count": 6,
     "metadata": {},
     "output_type": "execute_result"
    }
   ],
   "source": [
    "dataset = Dataset.get_by_name(ws, name='Heart_Failure_Clinical_Records_Dataset')\n",
    "\n",
    "df = dataset.to_pandas_dataframe()\n",
    "\n",
    "df.head()"
   ]
  },
  {
   "cell_type": "code",
   "execution_count": 7,
   "metadata": {
    "gather": {
     "logged": 1613062418516
    }
   },
   "outputs": [
    {
     "data": {
      "text/html": [
       "<div>\n",
       "<style scoped>\n",
       "    .dataframe tbody tr th:only-of-type {\n",
       "        vertical-align: middle;\n",
       "    }\n",
       "\n",
       "    .dataframe tbody tr th {\n",
       "        vertical-align: top;\n",
       "    }\n",
       "\n",
       "    .dataframe thead th {\n",
       "        text-align: right;\n",
       "    }\n",
       "</style>\n",
       "<table border=\"1\" class=\"dataframe\">\n",
       "  <thead>\n",
       "    <tr style=\"text-align: right;\">\n",
       "      <th></th>\n",
       "      <th>age</th>\n",
       "      <th>anaemia</th>\n",
       "      <th>creatinine_phosphokinase</th>\n",
       "      <th>diabetes</th>\n",
       "      <th>ejection_fraction</th>\n",
       "      <th>high_blood_pressure</th>\n",
       "      <th>platelets</th>\n",
       "      <th>serum_creatinine</th>\n",
       "      <th>serum_sodium</th>\n",
       "      <th>sex</th>\n",
       "      <th>smoking</th>\n",
       "      <th>time</th>\n",
       "      <th>DEATH_EVENT</th>\n",
       "    </tr>\n",
       "  </thead>\n",
       "  <tbody>\n",
       "    <tr>\n",
       "      <th>count</th>\n",
       "      <td>299.000000</td>\n",
       "      <td>299.000000</td>\n",
       "      <td>299.000000</td>\n",
       "      <td>299.000000</td>\n",
       "      <td>299.000000</td>\n",
       "      <td>299.000000</td>\n",
       "      <td>299.000000</td>\n",
       "      <td>299.00000</td>\n",
       "      <td>299.000000</td>\n",
       "      <td>299.000000</td>\n",
       "      <td>299.00000</td>\n",
       "      <td>299.000000</td>\n",
       "      <td>299.00000</td>\n",
       "    </tr>\n",
       "    <tr>\n",
       "      <th>mean</th>\n",
       "      <td>60.833893</td>\n",
       "      <td>0.431438</td>\n",
       "      <td>581.839465</td>\n",
       "      <td>0.418060</td>\n",
       "      <td>38.083612</td>\n",
       "      <td>0.351171</td>\n",
       "      <td>263358.029264</td>\n",
       "      <td>1.39388</td>\n",
       "      <td>136.625418</td>\n",
       "      <td>0.648829</td>\n",
       "      <td>0.32107</td>\n",
       "      <td>130.260870</td>\n",
       "      <td>0.32107</td>\n",
       "    </tr>\n",
       "    <tr>\n",
       "      <th>std</th>\n",
       "      <td>11.894809</td>\n",
       "      <td>0.496107</td>\n",
       "      <td>970.287881</td>\n",
       "      <td>0.494067</td>\n",
       "      <td>11.834841</td>\n",
       "      <td>0.478136</td>\n",
       "      <td>97804.236869</td>\n",
       "      <td>1.03451</td>\n",
       "      <td>4.412477</td>\n",
       "      <td>0.478136</td>\n",
       "      <td>0.46767</td>\n",
       "      <td>77.614208</td>\n",
       "      <td>0.46767</td>\n",
       "    </tr>\n",
       "    <tr>\n",
       "      <th>min</th>\n",
       "      <td>40.000000</td>\n",
       "      <td>0.000000</td>\n",
       "      <td>23.000000</td>\n",
       "      <td>0.000000</td>\n",
       "      <td>14.000000</td>\n",
       "      <td>0.000000</td>\n",
       "      <td>25100.000000</td>\n",
       "      <td>0.50000</td>\n",
       "      <td>113.000000</td>\n",
       "      <td>0.000000</td>\n",
       "      <td>0.00000</td>\n",
       "      <td>4.000000</td>\n",
       "      <td>0.00000</td>\n",
       "    </tr>\n",
       "    <tr>\n",
       "      <th>25%</th>\n",
       "      <td>51.000000</td>\n",
       "      <td>0.000000</td>\n",
       "      <td>116.500000</td>\n",
       "      <td>0.000000</td>\n",
       "      <td>30.000000</td>\n",
       "      <td>0.000000</td>\n",
       "      <td>212500.000000</td>\n",
       "      <td>0.90000</td>\n",
       "      <td>134.000000</td>\n",
       "      <td>0.000000</td>\n",
       "      <td>0.00000</td>\n",
       "      <td>73.000000</td>\n",
       "      <td>0.00000</td>\n",
       "    </tr>\n",
       "    <tr>\n",
       "      <th>50%</th>\n",
       "      <td>60.000000</td>\n",
       "      <td>0.000000</td>\n",
       "      <td>250.000000</td>\n",
       "      <td>0.000000</td>\n",
       "      <td>38.000000</td>\n",
       "      <td>0.000000</td>\n",
       "      <td>262000.000000</td>\n",
       "      <td>1.10000</td>\n",
       "      <td>137.000000</td>\n",
       "      <td>1.000000</td>\n",
       "      <td>0.00000</td>\n",
       "      <td>115.000000</td>\n",
       "      <td>0.00000</td>\n",
       "    </tr>\n",
       "    <tr>\n",
       "      <th>75%</th>\n",
       "      <td>70.000000</td>\n",
       "      <td>1.000000</td>\n",
       "      <td>582.000000</td>\n",
       "      <td>1.000000</td>\n",
       "      <td>45.000000</td>\n",
       "      <td>1.000000</td>\n",
       "      <td>303500.000000</td>\n",
       "      <td>1.40000</td>\n",
       "      <td>140.000000</td>\n",
       "      <td>1.000000</td>\n",
       "      <td>1.00000</td>\n",
       "      <td>203.000000</td>\n",
       "      <td>1.00000</td>\n",
       "    </tr>\n",
       "    <tr>\n",
       "      <th>max</th>\n",
       "      <td>95.000000</td>\n",
       "      <td>1.000000</td>\n",
       "      <td>7861.000000</td>\n",
       "      <td>1.000000</td>\n",
       "      <td>80.000000</td>\n",
       "      <td>1.000000</td>\n",
       "      <td>850000.000000</td>\n",
       "      <td>9.40000</td>\n",
       "      <td>148.000000</td>\n",
       "      <td>1.000000</td>\n",
       "      <td>1.00000</td>\n",
       "      <td>285.000000</td>\n",
       "      <td>1.00000</td>\n",
       "    </tr>\n",
       "  </tbody>\n",
       "</table>\n",
       "</div>"
      ],
      "text/plain": [
       "              age     anaemia  creatinine_phosphokinase    diabetes  \\\n",
       "count  299.000000  299.000000                299.000000  299.000000   \n",
       "mean    60.833893    0.431438                581.839465    0.418060   \n",
       "std     11.894809    0.496107                970.287881    0.494067   \n",
       "min     40.000000    0.000000                 23.000000    0.000000   \n",
       "25%     51.000000    0.000000                116.500000    0.000000   \n",
       "50%     60.000000    0.000000                250.000000    0.000000   \n",
       "75%     70.000000    1.000000                582.000000    1.000000   \n",
       "max     95.000000    1.000000               7861.000000    1.000000   \n",
       "\n",
       "       ejection_fraction  high_blood_pressure      platelets  \\\n",
       "count         299.000000           299.000000     299.000000   \n",
       "mean           38.083612             0.351171  263358.029264   \n",
       "std            11.834841             0.478136   97804.236869   \n",
       "min            14.000000             0.000000   25100.000000   \n",
       "25%            30.000000             0.000000  212500.000000   \n",
       "50%            38.000000             0.000000  262000.000000   \n",
       "75%            45.000000             1.000000  303500.000000   \n",
       "max            80.000000             1.000000  850000.000000   \n",
       "\n",
       "       serum_creatinine  serum_sodium         sex    smoking        time  \\\n",
       "count         299.00000    299.000000  299.000000  299.00000  299.000000   \n",
       "mean            1.39388    136.625418    0.648829    0.32107  130.260870   \n",
       "std             1.03451      4.412477    0.478136    0.46767   77.614208   \n",
       "min             0.50000    113.000000    0.000000    0.00000    4.000000   \n",
       "25%             0.90000    134.000000    0.000000    0.00000   73.000000   \n",
       "50%             1.10000    137.000000    1.000000    0.00000  115.000000   \n",
       "75%             1.40000    140.000000    1.000000    1.00000  203.000000   \n",
       "max             9.40000    148.000000    1.000000    1.00000  285.000000   \n",
       "\n",
       "       DEATH_EVENT  \n",
       "count    299.00000  \n",
       "mean       0.32107  \n",
       "std        0.46767  \n",
       "min        0.00000  \n",
       "25%        0.00000  \n",
       "50%        0.00000  \n",
       "75%        1.00000  \n",
       "max        1.00000  "
      ]
     },
     "execution_count": 7,
     "metadata": {},
     "output_type": "execute_result"
    }
   ],
   "source": [
    "df.describe()"
   ]
  },
  {
   "cell_type": "markdown",
   "metadata": {},
   "source": [
    "## AutoML Configuration\n",
    "\n",
    "Explain why you chose the automl settings and cofiguration you used below."
   ]
  },
  {
   "cell_type": "code",
   "execution_count": 8,
   "metadata": {
    "gather": {
     "logged": 1613062470136
    },
    "jupyter": {
     "outputs_hidden": false,
     "source_hidden": false
    },
    "nteract": {
     "transient": {
      "deleting": false
     }
    }
   },
   "outputs": [],
   "source": [
    "# Put your automl settings here\n",
    "automl_settings = {\"experiment_timeout_minutes\": 30,\n",
    "    \"max_concurrent_iterations\": 4,\n",
    "    \"n_cross_validations\": 5,\n",
    "    \"primary_metric\" : 'accuracy'}\n",
    "\n",
    "# Put your automl config here\n",
    "automl_config = AutoMLConfig(compute_target = compute_target,\n",
    "                             task = \"classification\",\n",
    "                             training_data = dataset,\n",
    "                             label_column_name = \"DEATH_EVENT\",\n",
    "                             path = project_folder,\n",
    "                             enable_early_stopping = True,\n",
    "                             enable_onnx_compatible_models = True,\n",
    "                             featurization = 'auto',\n",
    "                             debug_log = \"automl_errors.log\",\n",
    "                             **automl_settings)"
   ]
  },
  {
   "cell_type": "code",
   "execution_count": 9,
   "metadata": {
    "gather": {
     "logged": 1612986475851
    },
    "jupyter": {
     "outputs_hidden": false,
     "source_hidden": false
    },
    "nteract": {
     "transient": {
      "deleting": false
     }
    }
   },
   "outputs": [
    {
     "name": "stdout",
     "output_type": "stream",
     "text": [
      "Running on remote.\n"
     ]
    }
   ],
   "source": [
    "# Submit your experiment\n",
    "remote_run = experiment.submit(automl_config)"
   ]
  },
  {
   "cell_type": "markdown",
   "metadata": {},
   "source": [
    "## Run Details\n",
    "\n",
    "The cell below uses `RunDetails` widget to show the different experiments."
   ]
  },
  {
   "cell_type": "code",
   "execution_count": 10,
   "metadata": {
    "gather": {
     "logged": 1612987778649
    },
    "jupyter": {
     "outputs_hidden": false,
     "source_hidden": false
    },
    "nteract": {
     "transient": {
      "deleting": false
     }
    },
    "scrolled": false
   },
   "outputs": [
    {
     "data": {
      "application/vnd.jupyter.widget-view+json": {
       "model_id": "2ab2f79f9921487e9ac6e9660c4ea86e",
       "version_major": 2,
       "version_minor": 0
      },
      "text/plain": [
       "_AutoMLWidget(widget_settings={'childWidgetDisplay': 'popup', 'send_telemetry': False, 'log_level': 'INFO', 's…"
      ]
     },
     "metadata": {},
     "output_type": "display_data"
    },
    {
     "data": {
      "application/aml.mini.widget.v1": "{\"status\": \"Completed\", \"workbench_run_details_uri\": \"https://ml.azure.com/experiments/automl_heart_failure_prediction/runs/AutoML_7f0d0b56-e736-418e-811b-5b2c59d6c18b?wsid=/subscriptions/9a7511b8-150f-4a58-8528-3e7d50216c31/resourcegroups/aml-quickstarts-138775/workspaces/quick-starts-ws-138775\", \"run_id\": \"AutoML_7f0d0b56-e736-418e-811b-5b2c59d6c18b\", \"run_properties\": {\"run_id\": \"AutoML_7f0d0b56-e736-418e-811b-5b2c59d6c18b\", \"created_utc\": \"2021-02-13T10:29:45.81019Z\", \"properties\": {\"num_iterations\": \"1000\", \"training_type\": \"TrainFull\", \"acquisition_function\": \"EI\", \"primary_metric\": \"accuracy\", \"train_split\": \"0\", \"acquisition_parameter\": \"0\", \"num_cross_validation\": \"5\", \"target\": \"capstone-cluster\", \"AMLSettingsJsonString\": \"{\\\"path\\\":null,\\\"name\\\":\\\"automl_heart_failure_prediction\\\",\\\"subscription_id\\\":\\\"9a7511b8-150f-4a58-8528-3e7d50216c31\\\",\\\"resource_group\\\":\\\"aml-quickstarts-138775\\\",\\\"workspace_name\\\":\\\"quick-starts-ws-138775\\\",\\\"region\\\":\\\"southcentralus\\\",\\\"compute_target\\\":\\\"capstone-cluster\\\",\\\"spark_service\\\":null,\\\"azure_service\\\":\\\"remote\\\",\\\"many_models\\\":false,\\\"pipeline_fetch_max_batch_size\\\":1,\\\"iterations\\\":1000,\\\"primary_metric\\\":\\\"accuracy\\\",\\\"task_type\\\":\\\"classification\\\",\\\"data_script\\\":null,\\\"validation_size\\\":0.0,\\\"n_cross_validations\\\":5,\\\"y_min\\\":null,\\\"y_max\\\":null,\\\"num_classes\\\":null,\\\"featurization\\\":\\\"auto\\\",\\\"_ignore_package_version_incompatibilities\\\":false,\\\"is_timeseries\\\":false,\\\"max_cores_per_iteration\\\":1,\\\"max_concurrent_iterations\\\":4,\\\"iteration_timeout_minutes\\\":null,\\\"mem_in_mb\\\":null,\\\"enforce_time_on_windows\\\":false,\\\"experiment_timeout_minutes\\\":30,\\\"experiment_exit_score\\\":null,\\\"whitelist_models\\\":null,\\\"blacklist_algos\\\":[\\\"TensorFlowLinearClassifier\\\",\\\"TensorFlowDNN\\\"],\\\"supported_models\\\":[\\\"MultinomialNaiveBayes\\\",\\\"LogisticRegression\\\",\\\"LightGBM\\\",\\\"DecisionTree\\\",\\\"TensorFlowDNN\\\",\\\"KNN\\\",\\\"ExtremeRandomTrees\\\",\\\"GradientBoosting\\\",\\\"LinearSVM\\\",\\\"AveragedPerceptronClassifier\\\",\\\"BernoulliNaiveBayes\\\",\\\"RandomForest\\\",\\\"SGD\\\",\\\"XGBoostClassifier\\\",\\\"TensorFlowLinearClassifier\\\",\\\"SVM\\\"],\\\"auto_blacklist\\\":true,\\\"blacklist_samples_reached\\\":false,\\\"exclude_nan_labels\\\":true,\\\"verbosity\\\":20,\\\"_debug_log\\\":\\\"azureml_automl.log\\\",\\\"show_warnings\\\":false,\\\"model_explainability\\\":true,\\\"service_url\\\":null,\\\"sdk_url\\\":null,\\\"sdk_packages\\\":null,\\\"enable_onnx_compatible_models\\\":true,\\\"enable_split_onnx_featurizer_estimator_models\\\":false,\\\"vm_type\\\":\\\"STANDARD_D2_V2\\\",\\\"telemetry_verbosity\\\":20,\\\"send_telemetry\\\":true,\\\"enable_dnn\\\":false,\\\"scenario\\\":\\\"SDK-1.13.0\\\",\\\"environment_label\\\":null,\\\"force_text_dnn\\\":false,\\\"enable_feature_sweeping\\\":false,\\\"enable_early_stopping\\\":true,\\\"early_stopping_n_iters\\\":10,\\\"metrics\\\":null,\\\"enable_ensembling\\\":true,\\\"enable_stack_ensembling\\\":false,\\\"ensemble_iterations\\\":15,\\\"enable_tf\\\":false,\\\"enable_subsampling\\\":null,\\\"subsample_seed\\\":null,\\\"enable_nimbusml\\\":false,\\\"enable_streaming\\\":false,\\\"force_streaming\\\":false,\\\"track_child_runs\\\":true,\\\"allowed_private_models\\\":[],\\\"label_column_name\\\":\\\"DEATH_EVENT\\\",\\\"weight_column_name\\\":null,\\\"cv_split_column_names\\\":null,\\\"enable_local_managed\\\":false,\\\"_local_managed_run_id\\\":null,\\\"cost_mode\\\":1,\\\"lag_length\\\":0,\\\"metric_operation\\\":\\\"maximize\\\",\\\"preprocess\\\":true}\", \"DataPrepJsonString\": \"{\\\\\\\"training_data\\\\\\\": \\\\\\\"{\\\\\\\\\\\\\\\"blocks\\\\\\\\\\\\\\\": [{\\\\\\\\\\\\\\\"id\\\\\\\\\\\\\\\": \\\\\\\\\\\\\\\"aa523fcd-b697-4fc8-87f1-b016c14e6399\\\\\\\\\\\\\\\", \\\\\\\\\\\\\\\"type\\\\\\\\\\\\\\\": \\\\\\\\\\\\\\\"Microsoft.DPrep.GetDatastoreFilesBlock\\\\\\\\\\\\\\\", \\\\\\\\\\\\\\\"arguments\\\\\\\\\\\\\\\": {\\\\\\\\\\\\\\\"datastores\\\\\\\\\\\\\\\": [{\\\\\\\\\\\\\\\"datastoreName\\\\\\\\\\\\\\\": \\\\\\\\\\\\\\\"workspaceblobstore\\\\\\\\\\\\\\\", \\\\\\\\\\\\\\\"path\\\\\\\\\\\\\\\": \\\\\\\\\\\\\\\"UI/02-13-2021_084413_UTC/heart_failure_clinical_records_dataset.csv\\\\\\\\\\\\\\\", \\\\\\\\\\\\\\\"resourceGroup\\\\\\\\\\\\\\\": \\\\\\\\\\\\\\\"aml-quickstarts-138775\\\\\\\\\\\\\\\", \\\\\\\\\\\\\\\"subscription\\\\\\\\\\\\\\\": \\\\\\\\\\\\\\\"9a7511b8-150f-4a58-8528-3e7d50216c31\\\\\\\\\\\\\\\", \\\\\\\\\\\\\\\"workspaceName\\\\\\\\\\\\\\\": \\\\\\\\\\\\\\\"quick-starts-ws-138775\\\\\\\\\\\\\\\"}]}, \\\\\\\\\\\\\\\"localData\\\\\\\\\\\\\\\": {}, \\\\\\\\\\\\\\\"isEnabled\\\\\\\\\\\\\\\": true, \\\\\\\\\\\\\\\"name\\\\\\\\\\\\\\\": null, \\\\\\\\\\\\\\\"annotation\\\\\\\\\\\\\\\": null}, {\\\\\\\\\\\\\\\"id\\\\\\\\\\\\\\\": \\\\\\\\\\\\\\\"c2b2ce48-990c-45ae-9d30-a0cdb67c79b4\\\\\\\\\\\\\\\", \\\\\\\\\\\\\\\"type\\\\\\\\\\\\\\\": \\\\\\\\\\\\\\\"Microsoft.DPrep.ParseDelimitedBlock\\\\\\\\\\\\\\\", \\\\\\\\\\\\\\\"arguments\\\\\\\\\\\\\\\": {\\\\\\\\\\\\\\\"columnHeadersMode\\\\\\\\\\\\\\\": 1, \\\\\\\\\\\\\\\"fileEncoding\\\\\\\\\\\\\\\": 0, \\\\\\\\\\\\\\\"handleQuotedLineBreaks\\\\\\\\\\\\\\\": false, \\\\\\\\\\\\\\\"preview\\\\\\\\\\\\\\\": false, \\\\\\\\\\\\\\\"separator\\\\\\\\\\\\\\\": \\\\\\\\\\\\\\\",\\\\\\\\\\\\\\\", \\\\\\\\\\\\\\\"skipRows\\\\\\\\\\\\\\\": 0, \\\\\\\\\\\\\\\"skipRowsMode\\\\\\\\\\\\\\\": 0}, \\\\\\\\\\\\\\\"localData\\\\\\\\\\\\\\\": {}, \\\\\\\\\\\\\\\"isEnabled\\\\\\\\\\\\\\\": true, \\\\\\\\\\\\\\\"name\\\\\\\\\\\\\\\": null, \\\\\\\\\\\\\\\"annotation\\\\\\\\\\\\\\\": null}, {\\\\\\\\\\\\\\\"id\\\\\\\\\\\\\\\": \\\\\\\\\\\\\\\"f1e7afbf-86d6-47d0-b0df-7a83116d1940\\\\\\\\\\\\\\\", \\\\\\\\\\\\\\\"type\\\\\\\\\\\\\\\": \\\\\\\\\\\\\\\"Microsoft.DPrep.DropColumnsBlock\\\\\\\\\\\\\\\", \\\\\\\\\\\\\\\"arguments\\\\\\\\\\\\\\\": {\\\\\\\\\\\\\\\"columns\\\\\\\\\\\\\\\": {\\\\\\\\\\\\\\\"type\\\\\\\\\\\\\\\": 0, \\\\\\\\\\\\\\\"details\\\\\\\\\\\\\\\": {\\\\\\\\\\\\\\\"selectedColumns\\\\\\\\\\\\\\\": [\\\\\\\\\\\\\\\"Path\\\\\\\\\\\\\\\"]}}}, \\\\\\\\\\\\\\\"localData\\\\\\\\\\\\\\\": {}, \\\\\\\\\\\\\\\"isEnabled\\\\\\\\\\\\\\\": true, \\\\\\\\\\\\\\\"name\\\\\\\\\\\\\\\": null, \\\\\\\\\\\\\\\"annotation\\\\\\\\\\\\\\\": null}, {\\\\\\\\\\\\\\\"id\\\\\\\\\\\\\\\": \\\\\\\\\\\\\\\"fd8bf91a-0b1a-4ff9-8d02-b666ba0cd5f8\\\\\\\\\\\\\\\", \\\\\\\\\\\\\\\"type\\\\\\\\\\\\\\\": \\\\\\\\\\\\\\\"Microsoft.DPrep.SetColumnTypesBlock\\\\\\\\\\\\\\\", \\\\\\\\\\\\\\\"arguments\\\\\\\\\\\\\\\": {\\\\\\\\\\\\\\\"columnConversion\\\\\\\\\\\\\\\": [{\\\\\\\\\\\\\\\"column\\\\\\\\\\\\\\\": {\\\\\\\\\\\\\\\"type\\\\\\\\\\\\\\\": 2, \\\\\\\\\\\\\\\"details\\\\\\\\\\\\\\\": {\\\\\\\\\\\\\\\"selectedColumn\\\\\\\\\\\\\\\": \\\\\\\\\\\\\\\"Path\\\\\\\\\\\\\\\"}}, \\\\\\\\\\\\\\\"typeProperty\\\\\\\\\\\\\\\": 0}, {\\\\\\\\\\\\\\\"column\\\\\\\\\\\\\\\": {\\\\\\\\\\\\\\\"type\\\\\\\\\\\\\\\": 2, \\\\\\\\\\\\\\\"details\\\\\\\\\\\\\\\": {\\\\\\\\\\\\\\\"selectedColumn\\\\\\\\\\\\\\\": \\\\\\\\\\\\\\\"age\\\\\\\\\\\\\\\"}}, \\\\\\\\\\\\\\\"typeProperty\\\\\\\\\\\\\\\": 3}, {\\\\\\\\\\\\\\\"column\\\\\\\\\\\\\\\": {\\\\\\\\\\\\\\\"type\\\\\\\\\\\\\\\": 2, \\\\\\\\\\\\\\\"details\\\\\\\\\\\\\\\": {\\\\\\\\\\\\\\\"selectedColumn\\\\\\\\\\\\\\\": \\\\\\\\\\\\\\\"anaemia\\\\\\\\\\\\\\\"}}, \\\\\\\\\\\\\\\"typeProperty\\\\\\\\\\\\\\\": 2}, {\\\\\\\\\\\\\\\"column\\\\\\\\\\\\\\\": {\\\\\\\\\\\\\\\"type\\\\\\\\\\\\\\\": 2, \\\\\\\\\\\\\\\"details\\\\\\\\\\\\\\\": {\\\\\\\\\\\\\\\"selectedColumn\\\\\\\\\\\\\\\": \\\\\\\\\\\\\\\"creatinine_phosphokinase\\\\\\\\\\\\\\\"}}, \\\\\\\\\\\\\\\"typeProperty\\\\\\\\\\\\\\\": 2}, {\\\\\\\\\\\\\\\"column\\\\\\\\\\\\\\\": {\\\\\\\\\\\\\\\"type\\\\\\\\\\\\\\\": 2, \\\\\\\\\\\\\\\"details\\\\\\\\\\\\\\\": {\\\\\\\\\\\\\\\"selectedColumn\\\\\\\\\\\\\\\": \\\\\\\\\\\\\\\"diabetes\\\\\\\\\\\\\\\"}}, \\\\\\\\\\\\\\\"typeProperty\\\\\\\\\\\\\\\": 2}, {\\\\\\\\\\\\\\\"column\\\\\\\\\\\\\\\": {\\\\\\\\\\\\\\\"type\\\\\\\\\\\\\\\": 2, \\\\\\\\\\\\\\\"details\\\\\\\\\\\\\\\": {\\\\\\\\\\\\\\\"selectedColumn\\\\\\\\\\\\\\\": \\\\\\\\\\\\\\\"ejection_fraction\\\\\\\\\\\\\\\"}}, \\\\\\\\\\\\\\\"typeProperty\\\\\\\\\\\\\\\": 2}, {\\\\\\\\\\\\\\\"column\\\\\\\\\\\\\\\": {\\\\\\\\\\\\\\\"type\\\\\\\\\\\\\\\": 2, \\\\\\\\\\\\\\\"details\\\\\\\\\\\\\\\": {\\\\\\\\\\\\\\\"selectedColumn\\\\\\\\\\\\\\\": \\\\\\\\\\\\\\\"high_blood_pressure\\\\\\\\\\\\\\\"}}, \\\\\\\\\\\\\\\"typeProperty\\\\\\\\\\\\\\\": 2}, {\\\\\\\\\\\\\\\"column\\\\\\\\\\\\\\\": {\\\\\\\\\\\\\\\"type\\\\\\\\\\\\\\\": 2, \\\\\\\\\\\\\\\"details\\\\\\\\\\\\\\\": {\\\\\\\\\\\\\\\"selectedColumn\\\\\\\\\\\\\\\": \\\\\\\\\\\\\\\"platelets\\\\\\\\\\\\\\\"}}, \\\\\\\\\\\\\\\"typeProperty\\\\\\\\\\\\\\\": 3}, {\\\\\\\\\\\\\\\"column\\\\\\\\\\\\\\\": {\\\\\\\\\\\\\\\"type\\\\\\\\\\\\\\\": 2, \\\\\\\\\\\\\\\"details\\\\\\\\\\\\\\\": {\\\\\\\\\\\\\\\"selectedColumn\\\\\\\\\\\\\\\": \\\\\\\\\\\\\\\"serum_creatinine\\\\\\\\\\\\\\\"}}, \\\\\\\\\\\\\\\"typeProperty\\\\\\\\\\\\\\\": 3}, {\\\\\\\\\\\\\\\"column\\\\\\\\\\\\\\\": {\\\\\\\\\\\\\\\"type\\\\\\\\\\\\\\\": 2, \\\\\\\\\\\\\\\"details\\\\\\\\\\\\\\\": {\\\\\\\\\\\\\\\"selectedColumn\\\\\\\\\\\\\\\": \\\\\\\\\\\\\\\"serum_sodium\\\\\\\\\\\\\\\"}}, \\\\\\\\\\\\\\\"typeProperty\\\\\\\\\\\\\\\": 2}, {\\\\\\\\\\\\\\\"column\\\\\\\\\\\\\\\": {\\\\\\\\\\\\\\\"type\\\\\\\\\\\\\\\": 2, \\\\\\\\\\\\\\\"details\\\\\\\\\\\\\\\": {\\\\\\\\\\\\\\\"selectedColumn\\\\\\\\\\\\\\\": \\\\\\\\\\\\\\\"sex\\\\\\\\\\\\\\\"}}, \\\\\\\\\\\\\\\"typeProperty\\\\\\\\\\\\\\\": 2}, {\\\\\\\\\\\\\\\"column\\\\\\\\\\\\\\\": {\\\\\\\\\\\\\\\"type\\\\\\\\\\\\\\\": 2, \\\\\\\\\\\\\\\"details\\\\\\\\\\\\\\\": {\\\\\\\\\\\\\\\"selectedColumn\\\\\\\\\\\\\\\": \\\\\\\\\\\\\\\"smoking\\\\\\\\\\\\\\\"}}, \\\\\\\\\\\\\\\"typeProperty\\\\\\\\\\\\\\\": 2}, {\\\\\\\\\\\\\\\"column\\\\\\\\\\\\\\\": {\\\\\\\\\\\\\\\"type\\\\\\\\\\\\\\\": 2, \\\\\\\\\\\\\\\"details\\\\\\\\\\\\\\\": {\\\\\\\\\\\\\\\"selectedColumn\\\\\\\\\\\\\\\": \\\\\\\\\\\\\\\"time\\\\\\\\\\\\\\\"}}, \\\\\\\\\\\\\\\"typeProperty\\\\\\\\\\\\\\\": 2}, {\\\\\\\\\\\\\\\"column\\\\\\\\\\\\\\\": {\\\\\\\\\\\\\\\"type\\\\\\\\\\\\\\\": 2, \\\\\\\\\\\\\\\"details\\\\\\\\\\\\\\\": {\\\\\\\\\\\\\\\"selectedColumn\\\\\\\\\\\\\\\": \\\\\\\\\\\\\\\"DEATH_EVENT\\\\\\\\\\\\\\\"}}, \\\\\\\\\\\\\\\"typeProperty\\\\\\\\\\\\\\\": 2}]}, \\\\\\\\\\\\\\\"localData\\\\\\\\\\\\\\\": {}, \\\\\\\\\\\\\\\"isEnabled\\\\\\\\\\\\\\\": true, \\\\\\\\\\\\\\\"name\\\\\\\\\\\\\\\": null, \\\\\\\\\\\\\\\"annotation\\\\\\\\\\\\\\\": null}], \\\\\\\\\\\\\\\"inspectors\\\\\\\\\\\\\\\": [], \\\\\\\\\\\\\\\"meta\\\\\\\\\\\\\\\": {\\\\\\\\\\\\\\\"savedDatasetId\\\\\\\\\\\\\\\": \\\\\\\\\\\\\\\"0c96782e-0258-4c0a-9dea-9f9c95b361f9\\\\\\\\\\\\\\\", \\\\\\\\\\\\\\\"datasetType\\\\\\\\\\\\\\\": \\\\\\\\\\\\\\\"tabular\\\\\\\\\\\\\\\", \\\\\\\\\\\\\\\"subscriptionId\\\\\\\\\\\\\\\": \\\\\\\\\\\\\\\"9a7511b8-150f-4a58-8528-3e7d50216c31\\\\\\\\\\\\\\\", \\\\\\\\\\\\\\\"workspaceId\\\\\\\\\\\\\\\": \\\\\\\\\\\\\\\"f2bde532-32a8-4947-b904-a185c1249d7c\\\\\\\\\\\\\\\", \\\\\\\\\\\\\\\"workspaceLocation\\\\\\\\\\\\\\\": \\\\\\\\\\\\\\\"southcentralus\\\\\\\\\\\\\\\"}}\\\\\\\", \\\\\\\"activities\\\\\\\": 0}\", \"EnableSubsampling\": null, \"runTemplate\": \"AutoML\", \"azureml.runsource\": \"automl\", \"display_task_type\": \"classification\", \"dependencies_versions\": \"{\\\"azureml-widgets\\\": \\\"1.20.0\\\", \\\"azureml-train\\\": \\\"1.20.0\\\", \\\"azureml-train-restclients-hyperdrive\\\": \\\"1.20.0\\\", \\\"azureml-train-core\\\": \\\"1.20.0\\\", \\\"azureml-train-automl\\\": \\\"1.20.0\\\", \\\"azureml-train-automl-runtime\\\": \\\"1.20.0\\\", \\\"azureml-train-automl-client\\\": \\\"1.20.0\\\", \\\"azureml-tensorboard\\\": \\\"1.20.0\\\", \\\"azureml-telemetry\\\": \\\"1.20.0\\\", \\\"azureml-sdk\\\": \\\"1.20.0\\\", \\\"azureml-samples\\\": \\\"0+unknown\\\", \\\"azureml-pipeline\\\": \\\"1.20.0\\\", \\\"azureml-pipeline-steps\\\": \\\"1.20.0\\\", \\\"azureml-pipeline-core\\\": \\\"1.20.0\\\", \\\"azureml-opendatasets\\\": \\\"1.20.0\\\", \\\"azureml-model-management-sdk\\\": \\\"1.0.1b6.post1\\\", \\\"azureml-mlflow\\\": \\\"1.20.0.post1\\\", \\\"azureml-interpret\\\": \\\"1.20.0\\\", \\\"azureml-explain-model\\\": \\\"1.20.0\\\", \\\"azureml-defaults\\\": \\\"1.20.0\\\", \\\"azureml-dataset-runtime\\\": \\\"1.20.0\\\", \\\"azureml-dataprep\\\": \\\"2.7.3\\\", \\\"azureml-dataprep-rslex\\\": \\\"1.5.0\\\", \\\"azureml-dataprep-native\\\": \\\"27.0.0\\\", \\\"azureml-datadrift\\\": \\\"1.20.0\\\", \\\"azureml-core\\\": \\\"1.20.0\\\", \\\"azureml-contrib-services\\\": \\\"1.20.0\\\", \\\"azureml-contrib-server\\\": \\\"1.20.0\\\", \\\"azureml-contrib-reinforcementlearning\\\": \\\"1.20.0\\\", \\\"azureml-contrib-pipeline-steps\\\": \\\"1.20.0\\\", \\\"azureml-contrib-notebook\\\": \\\"1.20.0\\\", \\\"azureml-contrib-interpret\\\": \\\"1.20.0\\\", \\\"azureml-contrib-gbdt\\\": \\\"1.20.0\\\", \\\"azureml-contrib-fairness\\\": \\\"1.20.0\\\", \\\"azureml-contrib-dataset\\\": \\\"1.20.0\\\", \\\"azureml-cli-common\\\": \\\"1.20.0\\\", \\\"azureml-automl-runtime\\\": \\\"1.20.0\\\", \\\"azureml-automl-core\\\": \\\"1.20.0\\\", \\\"azureml-accel-models\\\": \\\"1.20.0\\\"}\", \"_aml_system_scenario_identification\": \"Remote.Parent\", \"ClientType\": \"SDK\", \"environment_cpu_name\": \"AzureML-AutoML\", \"environment_cpu_label\": \"prod\", \"environment_gpu_name\": \"AzureML-AutoML-GPU\", \"environment_gpu_label\": \"prod\", \"root_attribution\": \"automl\", \"attribution\": \"AutoML\", \"Orchestrator\": \"AutoML\", \"CancelUri\": \"https://southcentralus.experiments.azureml.net/jasmine/v1.0/subscriptions/9a7511b8-150f-4a58-8528-3e7d50216c31/resourceGroups/aml-quickstarts-138775/providers/Microsoft.MachineLearningServices/workspaces/quick-starts-ws-138775/experimentids/6560db26-8fa4-4dc1-abd6-43e083d51108/cancel/AutoML_7f0d0b56-e736-418e-811b-5b2c59d6c18b\", \"ClientSdkVersion\": \"1.21.0\", \"snapshotId\": \"00000000-0000-0000-0000-000000000000\", \"SetupRunId\": \"AutoML_7f0d0b56-e736-418e-811b-5b2c59d6c18b_setup\", \"SetupRunContainerId\": \"dcid.AutoML_7f0d0b56-e736-418e-811b-5b2c59d6c18b_setup\", \"FeaturizationRunJsonPath\": \"featurizer_container.json\", \"FeaturizationRunId\": \"AutoML_7f0d0b56-e736-418e-811b-5b2c59d6c18b_featurize\", \"ProblemInfoJsonString\": \"{\\\"dataset_num_categorical\\\": 0, \\\"is_sparse\\\": false, \\\"subsampling\\\": false, \\\"dataset_classes\\\": 2, \\\"dataset_features\\\": 12, \\\"dataset_samples\\\": 299, \\\"single_frequency_class_detected\\\": false}\", \"ModelExplainRunId\": \"AutoML_7f0d0b56-e736-418e-811b-5b2c59d6c18b_ModelExplain\"}, \"tags\": {\"model_explain_run\": \"best_run\", \"_aml_system_azureml.automlComponent\": \"AutoML\", \"pipeline_id\": \"\", \"score\": \"\", \"predicted_cost\": \"\", \"fit_time\": \"\", \"training_percent\": \"\", \"iteration\": \"\", \"run_preprocessor\": \"\", \"run_algorithm\": \"\", \"dynamic_whitelisting_iterations\": \"<25>;<30>;<34>;\", \"automl_best_child_run_id\": \"AutoML_7f0d0b56-e736-418e-811b-5b2c59d6c18b_36\", \"model_explain_best_run_child_id\": \"AutoML_7f0d0b56-e736-418e-811b-5b2c59d6c18b_36\"}, \"end_time_utc\": \"2021-02-13T10:53:43.411727Z\", \"status\": \"Completed\", \"log_files\": {}, \"log_groups\": [], \"run_duration\": \"0:23:57\"}, \"child_runs\": [{\"run_id\": \"AutoML_7f0d0b56-e736-418e-811b-5b2c59d6c18b_1\", \"run_number\": 7, \"metric\": null, \"status\": \"Completed\", \"run_type\": \"azureml.scriptrun\", \"training_percent\": \"100\", \"start_time\": \"2021-02-13T10:39:32.613648Z\", \"end_time\": \"2021-02-13T10:40:28.791857Z\", \"created_time\": \"2021-02-13T10:38:20.587192Z\", \"created_time_dt\": \"2021-02-13T10:38:20.587192Z\", \"duration\": \"0:02:08\", \"iteration\": \"1\", \"goal\": \"accuracy_max\", \"run_name\": \"MaxAbsScaler, XGBoostClassifier\", \"run_properties\": \"copy=True\", \"primary_metric\": 0.8259322, \"best_metric\": 0.8259322}, {\"run_id\": \"AutoML_7f0d0b56-e736-418e-811b-5b2c59d6c18b_0\", \"run_number\": 8, \"metric\": null, \"status\": \"Completed\", \"run_type\": \"azureml.scriptrun\", \"training_percent\": \"100\", \"start_time\": \"2021-02-13T10:38:31.091459Z\", \"end_time\": \"2021-02-13T10:39:28.376615Z\", \"created_time\": \"2021-02-13T10:38:20.585184Z\", \"created_time_dt\": \"2021-02-13T10:38:20.585184Z\", \"duration\": \"0:01:07\", \"iteration\": \"0\", \"goal\": \"accuracy_max\", \"run_name\": \"MaxAbsScaler, LightGBM\", \"run_properties\": \"copy=True\", \"primary_metric\": 0.8059887, \"best_metric\": 0.8059887}, {\"run_id\": \"AutoML_7f0d0b56-e736-418e-811b-5b2c59d6c18b_3\", \"run_number\": 9, \"metric\": null, \"status\": \"Completed\", \"run_type\": \"azureml.scriptrun\", \"training_percent\": \"100\", \"start_time\": \"2021-02-13T10:40:38.852264Z\", \"end_time\": \"2021-02-13T10:44:21.0769Z\", \"created_time\": \"2021-02-13T10:38:20.598083Z\", \"created_time_dt\": \"2021-02-13T10:38:20.598083Z\", \"duration\": \"0:06:00\", \"iteration\": \"3\", \"goal\": \"accuracy_max\", \"run_name\": \"MinMaxScaler, RandomForest\", \"run_properties\": \"copy=True, feature_range=(0, 1\", \"primary_metric\": 0.83587571, \"best_metric\": 0.83587571}, {\"run_id\": \"AutoML_7f0d0b56-e736-418e-811b-5b2c59d6c18b_2\", \"run_number\": 10, \"metric\": null, \"status\": \"Completed\", \"run_type\": \"azureml.scriptrun\", \"training_percent\": \"100\", \"start_time\": \"2021-02-13T10:40:36.043425Z\", \"end_time\": \"2021-02-13T10:41:30.254996Z\", \"created_time\": \"2021-02-13T10:38:20.591564Z\", \"created_time_dt\": \"2021-02-13T10:38:20.591564Z\", \"duration\": \"0:03:09\", \"iteration\": \"2\", \"goal\": \"accuracy_max\", \"run_name\": \"MinMaxScaler, RandomForest\", \"run_properties\": \"copy=True, feature_range=(0, 1\", \"primary_metric\": 0.82937853, \"best_metric\": 0.82937853}, {\"run_id\": \"AutoML_7f0d0b56-e736-418e-811b-5b2c59d6c18b_4\", \"run_number\": 11, \"metric\": null, \"status\": \"Completed\", \"run_type\": \"azureml.scriptrun\", \"training_percent\": \"100\", \"start_time\": \"2021-02-13T10:40:37.981929Z\", \"end_time\": \"2021-02-13T10:44:17.614626Z\", \"created_time\": \"2021-02-13T10:39:30.635213Z\", \"created_time_dt\": \"2021-02-13T10:39:30.635213Z\", \"duration\": \"0:04:46\", \"iteration\": \"4\", \"goal\": \"accuracy_max\", \"run_name\": \"MinMaxScaler, RandomForest\", \"run_properties\": \"copy=True, feature_range=(0, 1\", \"primary_metric\": 0.82932203, \"best_metric\": 0.83587571}, {\"run_id\": \"AutoML_7f0d0b56-e736-418e-811b-5b2c59d6c18b_5\", \"run_number\": 12, \"metric\": null, \"status\": \"Completed\", \"run_type\": \"azureml.scriptrun\", \"training_percent\": \"100\", \"start_time\": \"2021-02-13T10:40:43.337789Z\", \"end_time\": \"2021-02-13T10:44:22.356698Z\", \"created_time\": \"2021-02-13T10:40:30.96475Z\", \"created_time_dt\": \"2021-02-13T10:40:30.96475Z\", \"duration\": \"0:03:51\", \"iteration\": \"5\", \"goal\": \"accuracy_max\", \"run_name\": \"StandardScalerWrapper, XGBoostClassifier\", \"run_properties\": \"<azureml.automl.runtime.shared.model_wrappers.StandardScalerWrapper object at 0x7f9cbc4ed160\", \"primary_metric\": 0.82920904, \"best_metric\": 0.83587571}, {\"run_id\": \"AutoML_7f0d0b56-e736-418e-811b-5b2c59d6c18b_6\", \"run_number\": 13, \"metric\": null, \"status\": \"Completed\", \"run_type\": \"azureml.scriptrun\", \"training_percent\": \"100\", \"start_time\": \"2021-02-13T10:41:49.939528Z\", \"end_time\": \"2021-02-13T10:42:42.375761Z\", \"created_time\": \"2021-02-13T10:41:35.030375Z\", \"created_time_dt\": \"2021-02-13T10:41:35.030375Z\", \"duration\": \"0:01:07\", \"iteration\": \"6\", \"goal\": \"accuracy_max\", \"run_name\": \"StandardScalerWrapper, RandomForest\", \"run_properties\": \"<azureml.automl.runtime.shared.model_wrappers.StandardScalerWrapper object at 0x7ff08c1b4ef0\", \"primary_metric\": 0.83587571, \"best_metric\": 0.83587571}, {\"run_id\": \"AutoML_7f0d0b56-e736-418e-811b-5b2c59d6c18b_7\", \"run_number\": 14, \"metric\": null, \"status\": \"Completed\", \"run_type\": \"azureml.scriptrun\", \"training_percent\": \"100\", \"start_time\": \"2021-02-13T10:42:57.989304Z\", \"end_time\": \"2021-02-13T10:43:47.411323Z\", \"created_time\": \"2021-02-13T10:42:44.727601Z\", \"created_time_dt\": \"2021-02-13T10:42:44.727601Z\", \"duration\": \"0:01:02\", \"iteration\": \"7\", \"goal\": \"accuracy_max\", \"run_name\": \"MinMaxScaler, SVM\", \"run_properties\": \"copy=True, feature_range=(0, 1\", \"primary_metric\": 0.71242938, \"best_metric\": 0.83587571}, {\"run_id\": \"AutoML_7f0d0b56-e736-418e-811b-5b2c59d6c18b_8\", \"run_number\": 15, \"metric\": null, \"status\": \"Completed\", \"run_type\": \"azureml.scriptrun\", \"training_percent\": \"100\", \"start_time\": \"2021-02-13T10:44:01.080227Z\", \"end_time\": \"2021-02-13T10:44:52.269669Z\", \"created_time\": \"2021-02-13T10:43:49.849872Z\", \"created_time_dt\": \"2021-02-13T10:43:49.849872Z\", \"duration\": \"0:01:02\", \"iteration\": \"8\", \"goal\": \"accuracy_max\", \"run_name\": \"MaxAbsScaler, LightGBM\", \"run_properties\": \"copy=True\", \"primary_metric\": 0.8360452, \"best_metric\": 0.8360452}, {\"run_id\": \"AutoML_7f0d0b56-e736-418e-811b-5b2c59d6c18b_9\", \"run_number\": 16, \"metric\": null, \"status\": \"Completed\", \"run_type\": \"azureml.scriptrun\", \"training_percent\": \"100\", \"start_time\": \"2021-02-13T10:44:31.191445Z\", \"end_time\": \"2021-02-13T10:45:23.216754Z\", \"created_time\": \"2021-02-13T10:44:19.540873Z\", \"created_time_dt\": \"2021-02-13T10:44:19.540873Z\", \"duration\": \"0:01:03\", \"iteration\": \"9\", \"goal\": \"accuracy_max\", \"run_name\": \"SparseNormalizer, XGBoostClassifier\", \"run_properties\": \"<azureml.automl.runtime.shared.model_wrappers.SparseNormalizer object at 0x7f733427ef60\", \"primary_metric\": 0.80937853, \"best_metric\": 0.8360452}, {\"run_id\": \"AutoML_7f0d0b56-e736-418e-811b-5b2c59d6c18b_10\", \"run_number\": 17, \"metric\": null, \"status\": \"Completed\", \"run_type\": \"azureml.scriptrun\", \"training_percent\": \"100\", \"start_time\": \"2021-02-13T10:44:32.699178Z\", \"end_time\": \"2021-02-13T10:45:24.952532Z\", \"created_time\": \"2021-02-13T10:44:22.743011Z\", \"created_time_dt\": \"2021-02-13T10:44:22.743011Z\", \"duration\": \"0:01:02\", \"iteration\": \"10\", \"goal\": \"accuracy_max\", \"run_name\": \"SparseNormalizer, GradientBoosting\", \"run_properties\": \"<azureml.automl.runtime.shared.model_wrappers.SparseNormalizer object at 0x7f35b632a748\", \"primary_metric\": 0.83276836, \"best_metric\": 0.8360452}, {\"run_id\": \"AutoML_7f0d0b56-e736-418e-811b-5b2c59d6c18b_11\", \"run_number\": 18, \"metric\": null, \"status\": \"Completed\", \"run_type\": \"azureml.scriptrun\", \"training_percent\": \"100\", \"start_time\": \"2021-02-13T10:44:35.974846Z\", \"end_time\": \"2021-02-13T10:45:32.205542Z\", \"created_time\": \"2021-02-13T10:44:25.726083Z\", \"created_time_dt\": \"2021-02-13T10:44:25.726083Z\", \"duration\": \"0:01:06\", \"iteration\": \"11\", \"goal\": \"accuracy_max\", \"run_name\": \"StandardScalerWrapper, LightGBM\", \"run_properties\": \"<azureml.automl.runtime.shared.model_wrappers.StandardScalerWrapper object at 0x7efe2e16c128\", \"primary_metric\": 0.83937853, \"best_metric\": 0.83937853}, {\"run_id\": \"AutoML_7f0d0b56-e736-418e-811b-5b2c59d6c18b_12\", \"run_number\": 19, \"metric\": null, \"status\": \"Completed\", \"run_type\": \"azureml.scriptrun\", \"training_percent\": \"100\", \"start_time\": \"2021-02-13T10:45:05.906694Z\", \"end_time\": \"2021-02-13T10:46:01.982968Z\", \"created_time\": \"2021-02-13T10:44:53.986402Z\", \"created_time_dt\": \"2021-02-13T10:44:53.986402Z\", \"duration\": \"0:01:07\", \"iteration\": \"12\", \"goal\": \"accuracy_max\", \"run_name\": \"SparseNormalizer, LightGBM\", \"run_properties\": \"<azureml.automl.runtime.shared.model_wrappers.SparseNormalizer object at 0x7f35be309978\", \"primary_metric\": 0.7360452, \"best_metric\": 0.83937853}, {\"run_id\": \"AutoML_7f0d0b56-e736-418e-811b-5b2c59d6c18b_13\", \"run_number\": 20, \"metric\": null, \"status\": \"Completed\", \"run_type\": \"azureml.scriptrun\", \"training_percent\": \"100\", \"start_time\": \"2021-02-13T10:45:39.023835Z\", \"end_time\": \"2021-02-13T10:46:31.45899Z\", \"created_time\": \"2021-02-13T10:45:25.305438Z\", \"created_time_dt\": \"2021-02-13T10:45:25.305438Z\", \"duration\": \"0:01:06\", \"iteration\": \"13\", \"goal\": \"accuracy_max\", \"run_name\": \"SparseNormalizer, LightGBM\", \"run_properties\": \"<azureml.automl.runtime.shared.model_wrappers.SparseNormalizer object at 0x7f848da2ba90\", \"primary_metric\": 0.83299435, \"best_metric\": 0.83937853}, {\"run_id\": \"AutoML_7f0d0b56-e736-418e-811b-5b2c59d6c18b_14\", \"run_number\": 21, \"metric\": null, \"status\": \"Completed\", \"run_type\": \"azureml.scriptrun\", \"training_percent\": \"100\", \"start_time\": \"2021-02-13T10:45:41.468479Z\", \"end_time\": \"2021-02-13T10:46:34.872517Z\", \"created_time\": \"2021-02-13T10:45:28.805168Z\", \"created_time_dt\": \"2021-02-13T10:45:28.805168Z\", \"duration\": \"0:01:06\", \"iteration\": \"14\", \"goal\": \"accuracy_max\", \"run_name\": \"StandardScalerWrapper, LightGBM\", \"run_properties\": \"<azureml.automl.runtime.shared.model_wrappers.StandardScalerWrapper object at 0x7f4100085d30\", \"primary_metric\": 0.8359322, \"best_metric\": 0.83937853}, {\"run_id\": \"AutoML_7f0d0b56-e736-418e-811b-5b2c59d6c18b_15\", \"run_number\": 22, \"metric\": null, \"status\": \"Completed\", \"run_type\": \"azureml.scriptrun\", \"training_percent\": \"100\", \"start_time\": \"2021-02-13T10:45:45.453439Z\", \"end_time\": \"2021-02-13T10:46:33.531659Z\", \"created_time\": \"2021-02-13T10:45:33.892571Z\", \"created_time_dt\": \"2021-02-13T10:45:33.892571Z\", \"duration\": \"0:00:59\", \"iteration\": \"15\", \"goal\": \"accuracy_max\", \"run_name\": \"StandardScalerWrapper, LightGBM\", \"run_properties\": \"<azureml.automl.runtime.shared.model_wrappers.StandardScalerWrapper object at 0x7f274836b748\", \"primary_metric\": 0.82937853, \"best_metric\": 0.83937853}, {\"run_id\": \"AutoML_7f0d0b56-e736-418e-811b-5b2c59d6c18b_16\", \"run_number\": 23, \"metric\": null, \"status\": \"Completed\", \"run_type\": \"azureml.scriptrun\", \"training_percent\": \"100\", \"start_time\": \"2021-02-13T10:46:14.789946Z\", \"end_time\": \"2021-02-13T10:47:05.210403Z\", \"created_time\": \"2021-02-13T10:46:04.220097Z\", \"created_time_dt\": \"2021-02-13T10:46:04.220097Z\", \"duration\": \"0:01:00\", \"iteration\": \"16\", \"goal\": \"accuracy_max\", \"run_name\": \"SparseNormalizer, XGBoostClassifier\", \"run_properties\": \"<azureml.automl.runtime.shared.model_wrappers.SparseNormalizer object at 0x7feee20e7e48\", \"primary_metric\": 0.83966102, \"best_metric\": 0.83966102}, {\"run_id\": \"AutoML_7f0d0b56-e736-418e-811b-5b2c59d6c18b_17\", \"run_number\": 24, \"metric\": null, \"status\": \"Completed\", \"run_type\": \"azureml.scriptrun\", \"training_percent\": \"100\", \"start_time\": \"2021-02-13T10:46:44.325505Z\", \"end_time\": \"2021-02-13T10:47:48.14489Z\", \"created_time\": \"2021-02-13T10:46:33.821855Z\", \"created_time_dt\": \"2021-02-13T10:46:33.821855Z\", \"duration\": \"0:01:14\", \"iteration\": \"17\", \"goal\": \"accuracy_max\", \"run_name\": \"StandardScalerWrapper, LightGBM\", \"run_properties\": \"<azureml.automl.runtime.shared.model_wrappers.StandardScalerWrapper object at 0x7f518a06fcf8\", \"primary_metric\": 0.83265537, \"best_metric\": 0.83966102}, {\"run_id\": \"AutoML_7f0d0b56-e736-418e-811b-5b2c59d6c18b_18\", \"run_number\": 25, \"metric\": null, \"status\": \"Completed\", \"run_type\": \"azureml.scriptrun\", \"training_percent\": \"100\", \"start_time\": \"2021-02-13T10:46:47.550166Z\", \"end_time\": \"2021-02-13T10:47:52.294932Z\", \"created_time\": \"2021-02-13T10:46:37.284836Z\", \"created_time_dt\": \"2021-02-13T10:46:37.284836Z\", \"duration\": \"0:01:15\", \"iteration\": \"18\", \"goal\": \"accuracy_max\", \"run_name\": \"SparseNormalizer, LightGBM\", \"run_properties\": \"<azureml.automl.runtime.shared.model_wrappers.SparseNormalizer object at 0x7f97895f2be0\", \"primary_metric\": 0.83282486, \"best_metric\": 0.83966102}, {\"run_id\": \"AutoML_7f0d0b56-e736-418e-811b-5b2c59d6c18b_19\", \"run_number\": 26, \"metric\": null, \"status\": \"Completed\", \"run_type\": \"azureml.scriptrun\", \"training_percent\": \"100\", \"start_time\": \"2021-02-13T10:46:49.950875Z\", \"end_time\": \"2021-02-13T10:47:42.198726Z\", \"created_time\": \"2021-02-13T10:46:37.311335Z\", \"created_time_dt\": \"2021-02-13T10:46:37.311335Z\", \"duration\": \"0:01:04\", \"iteration\": \"19\", \"goal\": \"accuracy_max\", \"run_name\": \"SparseNormalizer, XGBoostClassifier\", \"run_properties\": \"<azureml.automl.runtime.shared.model_wrappers.SparseNormalizer object at 0x7f8d659be828\", \"primary_metric\": 0.84282486, \"best_metric\": 0.84282486}, {\"run_id\": \"AutoML_7f0d0b56-e736-418e-811b-5b2c59d6c18b_20\", \"run_number\": 27, \"metric\": null, \"status\": \"Completed\", \"run_type\": \"azureml.scriptrun\", \"training_percent\": \"100\", \"start_time\": \"2021-02-13T10:47:19.27526Z\", \"end_time\": \"2021-02-13T10:48:08.257966Z\", \"created_time\": \"2021-02-13T10:47:06.943884Z\", \"created_time_dt\": \"2021-02-13T10:47:06.943884Z\", \"duration\": \"0:01:01\", \"iteration\": \"20\", \"goal\": \"accuracy_max\", \"run_name\": \"MaxAbsScaler, LightGBM\", \"run_properties\": \"copy=True\", \"primary_metric\": 0.83932203, \"best_metric\": 0.84282486}, {\"run_id\": \"AutoML_7f0d0b56-e736-418e-811b-5b2c59d6c18b_21\", \"run_number\": 28, \"metric\": null, \"status\": \"Completed\", \"run_type\": \"azureml.scriptrun\", \"training_percent\": \"100\", \"start_time\": \"2021-02-13T10:47:58.185765Z\", \"end_time\": \"2021-02-13T10:48:47.879285Z\", \"created_time\": \"2021-02-13T10:47:44.77278Z\", \"created_time_dt\": \"2021-02-13T10:47:44.77278Z\", \"duration\": \"0:01:03\", \"iteration\": \"21\", \"goal\": \"accuracy_max\", \"run_name\": \"StandardScalerWrapper, RandomForest\", \"run_properties\": \"<azureml.automl.runtime.shared.model_wrappers.StandardScalerWrapper object at 0x7f82e1820128\", \"primary_metric\": 0.83265537, \"best_metric\": 0.84282486}, {\"run_id\": \"AutoML_7f0d0b56-e736-418e-811b-5b2c59d6c18b_22\", \"run_number\": 29, \"metric\": null, \"status\": \"Completed\", \"run_type\": \"azureml.scriptrun\", \"training_percent\": \"100\", \"start_time\": \"2021-02-13T10:48:04.193459Z\", \"end_time\": \"2021-02-13T10:48:56.722278Z\", \"created_time\": \"2021-02-13T10:47:50.082064Z\", \"created_time_dt\": \"2021-02-13T10:47:50.082064Z\", \"duration\": \"0:01:06\", \"iteration\": \"22\", \"goal\": \"accuracy_max\", \"run_name\": \"MinMaxScaler, LightGBM\", \"run_properties\": \"copy=True, feature_range=(0, 1\", \"primary_metric\": 0.82581921, \"best_metric\": 0.84282486}, {\"run_id\": \"AutoML_7f0d0b56-e736-418e-811b-5b2c59d6c18b_23\", \"run_number\": 30, \"metric\": null, \"status\": \"Completed\", \"run_type\": \"azureml.scriptrun\", \"training_percent\": \"100\", \"start_time\": \"2021-02-13T10:48:07.366373Z\", \"end_time\": \"2021-02-13T10:49:02.408457Z\", \"created_time\": \"2021-02-13T10:47:54.375001Z\", \"created_time_dt\": \"2021-02-13T10:47:54.375001Z\", \"duration\": \"0:01:08\", \"iteration\": \"23\", \"goal\": \"accuracy_max\", \"run_name\": \"StandardScalerWrapper, XGBoostClassifier\", \"run_properties\": \"<azureml.automl.runtime.shared.model_wrappers.StandardScalerWrapper object at 0x7f2a47037128\", \"primary_metric\": 0.83271186, \"best_metric\": 0.84282486}, {\"run_id\": \"AutoML_7f0d0b56-e736-418e-811b-5b2c59d6c18b_24\", \"run_number\": 31, \"metric\": null, \"status\": \"Completed\", \"run_type\": \"azureml.scriptrun\", \"training_percent\": \"100\", \"start_time\": \"2021-02-13T10:48:20.390542Z\", \"end_time\": \"2021-02-13T10:49:11.304098Z\", \"created_time\": \"2021-02-13T10:48:10.290754Z\", \"created_time_dt\": \"2021-02-13T10:48:10.290754Z\", \"duration\": \"0:01:01\", \"iteration\": \"24\", \"goal\": \"accuracy_max\", \"run_name\": \"MaxAbsScaler, ExtremeRandomTrees\", \"run_properties\": \"copy=True\", \"primary_metric\": 0.82265537, \"best_metric\": 0.84282486}, {\"run_id\": \"AutoML_7f0d0b56-e736-418e-811b-5b2c59d6c18b_25\", \"run_number\": 32, \"metric\": null, \"status\": \"Completed\", \"run_type\": \"azureml.scriptrun\", \"training_percent\": \"100\", \"start_time\": \"2021-02-13T10:49:04.981139Z\", \"end_time\": \"2021-02-13T10:50:01.174919Z\", \"created_time\": \"2021-02-13T10:48:51.420076Z\", \"created_time_dt\": \"2021-02-13T10:48:51.420076Z\", \"duration\": \"0:01:09\", \"iteration\": \"25\", \"goal\": \"accuracy_max\", \"run_name\": \"PCA, XGBoostClassifier\", \"run_properties\": \"copy=True, iterated_power='auto', n_components=0.5542105263157895,\\n    random_state=None, svd_solver='auto', tol=0.0, whiten=False\", \"primary_metric\": 0.67909605, \"best_metric\": 0.84282486}, {\"run_id\": \"AutoML_7f0d0b56-e736-418e-811b-5b2c59d6c18b_26\", \"run_number\": 33, \"metric\": null, \"status\": \"Completed\", \"run_type\": \"azureml.scriptrun\", \"training_percent\": \"100\", \"start_time\": \"2021-02-13T10:49:13.201343Z\", \"end_time\": \"2021-02-13T10:50:08.961707Z\", \"created_time\": \"2021-02-13T10:48:59.149314Z\", \"created_time_dt\": \"2021-02-13T10:48:59.149314Z\", \"duration\": \"0:01:09\", \"iteration\": \"26\", \"goal\": \"accuracy_max\", \"run_name\": \"SparseNormalizer, RandomForest\", \"run_properties\": \"<azureml.automl.runtime.shared.model_wrappers.SparseNormalizer object at 0x7fd0f929f128\", \"primary_metric\": 0.80949153, \"best_metric\": 0.84282486}, {\"run_id\": \"AutoML_7f0d0b56-e736-418e-811b-5b2c59d6c18b_27\", \"run_number\": 34, \"metric\": null, \"status\": \"Completed\", \"run_type\": \"azureml.scriptrun\", \"training_percent\": \"100\", \"start_time\": \"2021-02-13T10:49:15.086952Z\", \"end_time\": \"2021-02-13T10:50:06.521353Z\", \"created_time\": \"2021-02-13T10:49:04.260323Z\", \"created_time_dt\": \"2021-02-13T10:49:04.260323Z\", \"duration\": \"0:01:02\", \"iteration\": \"27\", \"goal\": \"accuracy_max\", \"run_name\": \"StandardScalerWrapper, LightGBM\", \"run_properties\": \"<azureml.automl.runtime.shared.model_wrappers.StandardScalerWrapper object at 0x7fd38c6f1160\", \"primary_metric\": 0.8259887, \"best_metric\": 0.84282486}, {\"run_id\": \"AutoML_7f0d0b56-e736-418e-811b-5b2c59d6c18b_28\", \"run_number\": 35, \"metric\": null, \"status\": \"Completed\", \"run_type\": \"azureml.scriptrun\", \"training_percent\": \"100\", \"start_time\": \"2021-02-13T10:49:27.099238Z\", \"end_time\": \"2021-02-13T10:50:22.013485Z\", \"created_time\": \"2021-02-13T10:49:13.12913Z\", \"created_time_dt\": \"2021-02-13T10:49:13.12913Z\", \"duration\": \"0:01:08\", \"iteration\": \"28\", \"goal\": \"accuracy_max\", \"run_name\": \"SparseNormalizer, LightGBM\", \"run_properties\": \"<azureml.automl.runtime.shared.model_wrappers.SparseNormalizer object at 0x7fa3f297f320\", \"primary_metric\": 0.82276836, \"best_metric\": 0.84282486}, {\"run_id\": \"AutoML_7f0d0b56-e736-418e-811b-5b2c59d6c18b_29\", \"run_number\": 36, \"metric\": null, \"status\": \"Completed\", \"run_type\": \"azureml.scriptrun\", \"training_percent\": \"100\", \"start_time\": \"2021-02-13T10:50:22.461859Z\", \"end_time\": \"2021-02-13T10:51:12.193403Z\", \"created_time\": \"2021-02-13T10:50:04.614022Z\", \"created_time_dt\": \"2021-02-13T10:50:04.614022Z\", \"duration\": \"0:01:07\", \"iteration\": \"29\", \"goal\": \"accuracy_max\", \"run_name\": \"StandardScalerWrapper, LightGBM\", \"run_properties\": \"<azureml.automl.runtime.shared.model_wrappers.StandardScalerWrapper object at 0x7f24de02dc88\", \"primary_metric\": 0.84271186, \"best_metric\": 0.84282486}, {\"run_id\": \"AutoML_7f0d0b56-e736-418e-811b-5b2c59d6c18b_31\", \"run_number\": 37, \"metric\": null, \"status\": \"Completed\", \"run_type\": \"azureml.scriptrun\", \"training_percent\": \"100\", \"start_time\": \"2021-02-13T10:50:23.70977Z\", \"end_time\": \"2021-02-13T10:51:14.090724Z\", \"created_time\": \"2021-02-13T10:50:12.522678Z\", \"created_time_dt\": \"2021-02-13T10:50:12.522678Z\", \"duration\": \"0:01:01\", \"iteration\": \"31\", \"goal\": \"accuracy_max\", \"run_name\": \"MaxAbsScaler, LightGBM\", \"run_properties\": \"copy=True\", \"primary_metric\": 0.8259322, \"best_metric\": 0.84282486}, {\"run_id\": \"AutoML_7f0d0b56-e736-418e-811b-5b2c59d6c18b_30\", \"run_number\": 38, \"metric\": null, \"status\": \"Completed\", \"run_type\": \"azureml.scriptrun\", \"training_percent\": \"100\", \"start_time\": \"2021-02-13T10:50:24.839639Z\", \"end_time\": \"2021-02-13T10:51:10.700731Z\", \"created_time\": \"2021-02-13T10:50:12.665448Z\", \"created_time_dt\": \"2021-02-13T10:50:12.665448Z\", \"duration\": \"0:00:58\", \"iteration\": \"30\", \"goal\": \"accuracy_max\", \"run_name\": \"SparseNormalizer, XGBoostClassifier\", \"run_properties\": \"<azureml.automl.runtime.shared.model_wrappers.SparseNormalizer object at 0x7f8caaad2b00\", \"primary_metric\": 0.67909605, \"best_metric\": 0.84282486}, {\"run_id\": \"AutoML_7f0d0b56-e736-418e-811b-5b2c59d6c18b_32\", \"run_number\": 39, \"metric\": null, \"status\": \"Completed\", \"run_type\": \"azureml.scriptrun\", \"training_percent\": \"100\", \"start_time\": \"2021-02-13T10:50:36.976006Z\", \"end_time\": \"2021-02-13T10:51:26.341681Z\", \"created_time\": \"2021-02-13T10:50:24.078719Z\", \"created_time_dt\": \"2021-02-13T10:50:24.078719Z\", \"duration\": \"0:01:02\", \"iteration\": \"32\", \"goal\": \"accuracy_max\", \"run_name\": \"StandardScalerWrapper, LightGBM\", \"run_properties\": \"<azureml.automl.runtime.shared.model_wrappers.StandardScalerWrapper object at 0x7f00960fbcf8\", \"primary_metric\": 0.8159322, \"best_metric\": 0.84282486}, {\"run_id\": \"AutoML_7f0d0b56-e736-418e-811b-5b2c59d6c18b_33\", \"run_number\": 40, \"metric\": null, \"status\": \"Canceled\", \"run_type\": \"azureml.scriptrun\", \"training_percent\": \"100\", \"start_time\": \"2021-02-13T10:51:24.420484Z\", \"end_time\": \"2021-02-13T10:51:34.159962Z\", \"created_time\": \"2021-02-13T10:51:12.698132Z\", \"created_time_dt\": \"2021-02-13T10:51:12.698132Z\", \"duration\": \"0:00:21\", \"iteration\": \"33\", \"goal\": null, \"run_name\": \"Canceled\", \"run_properties\": null}, {\"run_id\": \"AutoML_7f0d0b56-e736-418e-811b-5b2c59d6c18b_34\", \"run_number\": 41, \"metric\": null, \"status\": \"Canceled\", \"run_type\": \"azureml.scriptrun\", \"training_percent\": \"100\", \"start_time\": \"2021-02-13T10:51:18.138843Z\", \"end_time\": \"2021-02-13T10:51:36.841276Z\", \"created_time\": \"2021-02-13T10:51:18.138843Z\", \"created_time_dt\": \"2021-02-13T10:51:18.138843Z\", \"duration\": \"0:00:18\", \"iteration\": \"34\", \"goal\": null, \"run_name\": \"Canceled\", \"run_properties\": null}, {\"run_id\": \"AutoML_7f0d0b56-e736-418e-811b-5b2c59d6c18b_35\", \"run_number\": 42, \"metric\": null, \"status\": \"Canceled\", \"run_type\": \"azureml.scriptrun\", \"training_percent\": \"100\", \"start_time\": \"2021-02-13T10:51:18.131331Z\", \"end_time\": \"2021-02-13T10:51:33.836994Z\", \"created_time\": \"2021-02-13T10:51:18.131331Z\", \"created_time_dt\": \"2021-02-13T10:51:18.131331Z\", \"duration\": \"0:00:15\", \"iteration\": \"35\", \"goal\": null, \"run_name\": \"Canceled\", \"run_properties\": null}, {\"run_id\": \"AutoML_7f0d0b56-e736-418e-811b-5b2c59d6c18b_36\", \"run_number\": 43, \"metric\": null, \"status\": \"Completed\", \"run_type\": \"azureml.scriptrun\", \"training_percent\": \"100\", \"start_time\": \"2021-02-13T10:51:48.591664Z\", \"end_time\": \"2021-02-13T10:53:27.465652Z\", \"created_time\": \"2021-02-13T10:51:37.936874Z\", \"created_time_dt\": \"2021-02-13T10:51:37.936874Z\", \"duration\": \"0:01:49\", \"iteration\": \"36\", \"goal\": \"accuracy_max\", \"run_name\": \"VotingEnsemble\", \"run_properties\": \"classification_labels=None,\\n                              estimators=[('19',\\n                                           Pipeline(memory=None,\\n                                                    steps=[('sparsenormalizer',\\n                                                            <azureml.automl.runtime.shared.model_wrappers.SparseNormalizer object at 0x7fe64f383278>\", \"primary_metric\": 0.86960452, \"best_metric\": 0.86960452}], \"children_metrics\": {\"categories\": [0], \"series\": {\"AUC_weighted\": [{\"categories\": [\"0\", \"1\", \"2\", \"3\", \"4\", \"5\", \"6\", \"7\", \"8\", \"9\", \"10\", \"11\", \"12\", \"13\", \"14\", \"15\", \"16\", \"17\", \"18\", \"19\", \"20\", \"21\", \"22\", \"23\", \"24\", \"25\", \"26\", \"27\", \"28\", \"29\", \"30\", \"31\", \"32\", \"36\"], \"mode\": \"markers\", \"name\": \"AUC_weighted\", \"stepped\": false, \"type\": \"scatter\", \"data\": [0.8811331210778885, 0.8929591177556293, 0.9057600590623845, 0.910358711701735, 0.9018382705795498, 0.8993975406053896, 0.9103462532299741, 0.7394446982281285, 0.9007161314138058, 0.8592381875230715, 0.8897914590254707, 0.9038673864894795, 0.8303234588409006, 0.8876433877814691, 0.8993758767072719, 0.9030714977851606, 0.8876623292727943, 0.904734242340347, 0.9017715023994095, 0.8967295358065707, 0.8962162006275378, 0.9016755260243633, 0.8913758305647841, 0.8954322051495017, 0.8738411083425619, 0.5, 0.8870026301218161, 0.8958020256552233, 0.8821171442414174, 0.9007611895533408, 0.5, 0.8912267441860464, 0.8986199012550757, 0.9130143964562569]}, {\"categories\": [\"0\", \"1\", \"2\", \"3\", \"4\", \"5\", \"6\", \"7\", \"8\", \"9\", \"10\", \"11\", \"12\", \"13\", \"14\", \"15\", \"16\", \"17\", \"18\", \"19\", \"20\", \"21\", \"22\", \"23\", \"24\", \"25\", \"26\", \"27\", \"28\", \"29\", \"30\", \"31\", \"32\", \"36\"], \"mode\": \"lines\", \"name\": \"AUC_weighted_max\", \"stepped\": true, \"type\": \"scatter\", \"data\": [0.8811331210778885, 0.8929591177556293, 0.9057600590623845, 0.910358711701735, 0.910358711701735, 0.910358711701735, 0.910358711701735, 0.910358711701735, 0.910358711701735, 0.910358711701735, 0.910358711701735, 0.910358711701735, 0.910358711701735, 0.910358711701735, 0.910358711701735, 0.910358711701735, 0.910358711701735, 0.910358711701735, 0.910358711701735, 0.910358711701735, 0.910358711701735, 0.910358711701735, 0.910358711701735, 0.910358711701735, 0.910358711701735, 0.910358711701735, 0.910358711701735, 0.910358711701735, 0.910358711701735, 0.910358711701735, 0.910358711701735, 0.910358711701735, 0.910358711701735, 0.9130143964562569]}], \"recall_score_micro\": [{\"categories\": [\"0\", \"1\", \"2\", \"3\", \"4\", \"5\", \"6\", \"7\", \"8\", \"9\", \"10\", \"11\", \"12\", \"13\", \"14\", \"15\", \"16\", \"17\", \"18\", \"19\", \"20\", \"21\", \"22\", \"23\", \"24\", \"25\", \"26\", \"27\", \"28\", \"29\", \"30\", \"31\", \"32\", \"36\"], \"mode\": \"markers\", \"name\": \"recall_score_micro\", \"stepped\": false, \"type\": \"scatter\", \"data\": [0.8059887005649717, 0.8259322033898304, 0.8293785310734464, 0.8358757062146893, 0.8293220338983049, 0.8292090395480226, 0.8358757062146893, 0.7124293785310735, 0.836045197740113, 0.8093785310734465, 0.8327683615819209, 0.8393785310734463, 0.736045197740113, 0.8329943502824859, 0.8359322033898305, 0.8293785310734464, 0.8396610169491525, 0.8326553672316385, 0.8328248587570621, 0.8428248587570621, 0.8393220338983051, 0.8326553672316385, 0.8258192090395481, 0.8327118644067797, 0.8226553672316383, 0.67909604519774, 0.8094915254237289, 0.8259887005649718, 0.822768361581921, 0.8427118644067797, 0.67909604519774, 0.8259322033898305, 0.8159322033898304, 0.8696045197740112]}, {\"categories\": [\"0\", \"1\", \"2\", \"3\", \"4\", \"5\", \"6\", \"7\", \"8\", \"9\", \"10\", \"11\", \"12\", \"13\", \"14\", \"15\", \"16\", \"17\", \"18\", \"19\", \"20\", \"21\", \"22\", \"23\", \"24\", \"25\", \"26\", \"27\", \"28\", \"29\", \"30\", \"31\", \"32\", \"36\"], \"mode\": \"lines\", \"name\": \"recall_score_micro_max\", \"stepped\": true, \"type\": \"scatter\", \"data\": [0.8059887005649717, 0.8259322033898304, 0.8293785310734464, 0.8358757062146893, 0.8358757062146893, 0.8358757062146893, 0.8358757062146893, 0.8358757062146893, 0.836045197740113, 0.836045197740113, 0.836045197740113, 0.8393785310734463, 0.8393785310734463, 0.8393785310734463, 0.8393785310734463, 0.8393785310734463, 0.8396610169491525, 0.8396610169491525, 0.8396610169491525, 0.8428248587570621, 0.8428248587570621, 0.8428248587570621, 0.8428248587570621, 0.8428248587570621, 0.8428248587570621, 0.8428248587570621, 0.8428248587570621, 0.8428248587570621, 0.8428248587570621, 0.8428248587570621, 0.8428248587570621, 0.8428248587570621, 0.8428248587570621, 0.8696045197740112]}], \"accuracy\": [{\"categories\": [\"0\", \"1\", \"2\", \"3\", \"4\", \"5\", \"6\", \"7\", \"8\", \"9\", \"10\", \"11\", \"12\", \"13\", \"14\", \"15\", \"16\", \"17\", \"18\", \"19\", \"20\", \"21\", \"22\", \"23\", \"24\", \"25\", \"26\", \"27\", \"28\", \"29\", \"30\", \"31\", \"32\", \"36\"], \"mode\": \"markers\", \"name\": \"accuracy\", \"stepped\": false, \"type\": \"scatter\", \"data\": [0.8059887005649717, 0.8259322033898304, 0.8293785310734464, 0.8358757062146893, 0.8293220338983049, 0.8292090395480226, 0.8358757062146893, 0.7124293785310735, 0.836045197740113, 0.8093785310734465, 0.8327683615819209, 0.8393785310734463, 0.736045197740113, 0.8329943502824859, 0.8359322033898305, 0.8293785310734464, 0.8396610169491525, 0.8326553672316385, 0.8328248587570621, 0.8428248587570621, 0.8393220338983051, 0.8326553672316385, 0.8258192090395481, 0.8327118644067797, 0.8226553672316383, 0.67909604519774, 0.8094915254237289, 0.8259887005649718, 0.822768361581921, 0.8427118644067797, 0.67909604519774, 0.8259322033898305, 0.8159322033898304, 0.8696045197740112]}, {\"categories\": [\"0\", \"1\", \"2\", \"3\", \"4\", \"5\", \"6\", \"7\", \"8\", \"9\", \"10\", \"11\", \"12\", \"13\", \"14\", \"15\", \"16\", \"17\", \"18\", \"19\", \"20\", \"21\", \"22\", \"23\", \"24\", \"25\", \"26\", \"27\", \"28\", \"29\", \"30\", \"31\", \"32\", \"36\"], \"mode\": \"lines\", \"name\": \"accuracy_max\", \"stepped\": true, \"type\": \"scatter\", \"data\": [0.8059887005649717, 0.8259322033898304, 0.8293785310734464, 0.8358757062146893, 0.8358757062146893, 0.8358757062146893, 0.8358757062146893, 0.8358757062146893, 0.836045197740113, 0.836045197740113, 0.836045197740113, 0.8393785310734463, 0.8393785310734463, 0.8393785310734463, 0.8393785310734463, 0.8393785310734463, 0.8396610169491525, 0.8396610169491525, 0.8396610169491525, 0.8428248587570621, 0.8428248587570621, 0.8428248587570621, 0.8428248587570621, 0.8428248587570621, 0.8428248587570621, 0.8428248587570621, 0.8428248587570621, 0.8428248587570621, 0.8428248587570621, 0.8428248587570621, 0.8428248587570621, 0.8428248587570621, 0.8428248587570621, 0.8696045197740112]}], \"precision_score_weighted\": [{\"categories\": [\"0\", \"1\", \"2\", \"3\", \"4\", \"5\", \"6\", \"7\", \"8\", \"9\", \"10\", \"11\", \"12\", \"13\", \"14\", \"15\", \"16\", \"17\", \"18\", \"19\", \"20\", \"21\", \"22\", \"23\", \"24\", \"25\", \"26\", \"27\", \"28\", \"29\", \"30\", \"31\", \"32\", \"36\"], \"mode\": \"markers\", \"name\": \"precision_score_weighted\", \"stepped\": false, \"type\": \"scatter\", \"data\": [0.8237683758533973, 0.8403871377947292, 0.8399489324235088, 0.8518895833849032, 0.8459119096909802, 0.8442227406246958, 0.850205203790337, 0.7252623260618144, 0.8474662566886314, 0.8196810460480322, 0.844838986827007, 0.851090309907162, 0.7792163027878148, 0.8531774663897151, 0.846878931884459, 0.8431885337243926, 0.8486564553883307, 0.8439344285644792, 0.8480004451721669, 0.85496495312597, 0.8535895535280444, 0.8460310286072998, 0.8389565389712773, 0.842401668742981, 0.8382775331671242, 0.4689005075169971, 0.8235663667966758, 0.8405605348874341, 0.8329864734391421, 0.8516944888136038, 0.4689005075169971, 0.8411203384524709, 0.8273280086885976, 0.8823379253880681]}, {\"categories\": [\"0\", \"1\", \"2\", \"3\", \"4\", \"5\", \"6\", \"7\", \"8\", \"9\", \"10\", \"11\", \"12\", \"13\", \"14\", \"15\", \"16\", \"17\", \"18\", \"19\", \"20\", \"21\", \"22\", \"23\", \"24\", \"25\", \"26\", \"27\", \"28\", \"29\", \"30\", \"31\", \"32\", \"36\"], \"mode\": \"lines\", \"name\": \"precision_score_weighted_max\", \"stepped\": true, \"type\": \"scatter\", \"data\": [0.8237683758533973, 0.8403871377947292, 0.8403871377947292, 0.8518895833849032, 0.8518895833849032, 0.8518895833849032, 0.8518895833849032, 0.8518895833849032, 0.8518895833849032, 0.8518895833849032, 0.8518895833849032, 0.8518895833849032, 0.8518895833849032, 0.8531774663897151, 0.8531774663897151, 0.8531774663897151, 0.8531774663897151, 0.8531774663897151, 0.8531774663897151, 0.85496495312597, 0.85496495312597, 0.85496495312597, 0.85496495312597, 0.85496495312597, 0.85496495312597, 0.85496495312597, 0.85496495312597, 0.85496495312597, 0.85496495312597, 0.85496495312597, 0.85496495312597, 0.85496495312597, 0.85496495312597, 0.8823379253880681]}], \"precision_score_micro\": [{\"categories\": [\"0\", \"1\", \"2\", \"3\", \"4\", \"5\", \"6\", \"7\", \"8\", \"9\", \"10\", \"11\", \"12\", \"13\", \"14\", \"15\", \"16\", \"17\", \"18\", \"19\", \"20\", \"21\", \"22\", \"23\", \"24\", \"25\", \"26\", \"27\", \"28\", \"29\", \"30\", \"31\", \"32\", \"36\"], \"mode\": \"markers\", \"name\": \"precision_score_micro\", \"stepped\": false, \"type\": \"scatter\", \"data\": [0.8059887005649717, 0.8259322033898304, 0.8293785310734464, 0.8358757062146893, 0.8293220338983049, 0.8292090395480226, 0.8358757062146893, 0.7124293785310735, 0.836045197740113, 0.8093785310734465, 0.8327683615819209, 0.8393785310734463, 0.736045197740113, 0.8329943502824859, 0.8359322033898305, 0.8293785310734464, 0.8396610169491525, 0.8326553672316385, 0.8328248587570621, 0.8428248587570621, 0.8393220338983051, 0.8326553672316385, 0.8258192090395481, 0.8327118644067797, 0.8226553672316383, 0.67909604519774, 0.8094915254237289, 0.8259887005649718, 0.822768361581921, 0.8427118644067797, 0.67909604519774, 0.8259322033898305, 0.8159322033898304, 0.8696045197740112]}, {\"categories\": [\"0\", \"1\", \"2\", \"3\", \"4\", \"5\", \"6\", \"7\", \"8\", \"9\", \"10\", \"11\", \"12\", \"13\", \"14\", \"15\", \"16\", \"17\", \"18\", \"19\", \"20\", \"21\", \"22\", \"23\", \"24\", \"25\", \"26\", \"27\", \"28\", \"29\", \"30\", \"31\", \"32\", \"36\"], \"mode\": \"lines\", \"name\": \"precision_score_micro_max\", \"stepped\": true, \"type\": \"scatter\", \"data\": [0.8059887005649717, 0.8259322033898304, 0.8293785310734464, 0.8358757062146893, 0.8358757062146893, 0.8358757062146893, 0.8358757062146893, 0.8358757062146893, 0.836045197740113, 0.836045197740113, 0.836045197740113, 0.8393785310734463, 0.8393785310734463, 0.8393785310734463, 0.8393785310734463, 0.8393785310734463, 0.8396610169491525, 0.8396610169491525, 0.8396610169491525, 0.8428248587570621, 0.8428248587570621, 0.8428248587570621, 0.8428248587570621, 0.8428248587570621, 0.8428248587570621, 0.8428248587570621, 0.8428248587570621, 0.8428248587570621, 0.8428248587570621, 0.8428248587570621, 0.8428248587570621, 0.8428248587570621, 0.8428248587570621, 0.8696045197740112]}], \"norm_macro_recall\": [{\"categories\": [\"0\", \"1\", \"2\", \"3\", \"4\", \"5\", \"6\", \"7\", \"8\", \"9\", \"10\", \"11\", \"12\", \"13\", \"14\", \"15\", \"16\", \"17\", \"18\", \"19\", \"20\", \"21\", \"22\", \"23\", \"24\", \"25\", \"26\", \"27\", \"28\", \"29\", \"30\", \"31\", \"32\", \"36\"], \"mode\": \"markers\", \"name\": \"norm_macro_recall\", \"stepped\": false, \"type\": \"scatter\", \"data\": [0.5520418050941306, 0.6120251937984496, 0.6128156146179402, 0.5991085271317831, 0.6251287375415282, 0.6223740310077519, 0.6417787929125139, 0.25652270210409744, 0.6055024916943521, 0.5205024916943521, 0.551531007751938, 0.6116846622369877, 0.275952380952381, 0.6086821705426356, 0.620485880398671, 0.6041846622369877, 0.6215310077519379, 0.6000179955703212, 0.6036143410852712, 0.6406215393133998, 0.6417954042081948, 0.6116763565891473, 0.5832156699889259, 0.5830024916943521, 0.6208347176079735, 0.0, 0.5867441860465116, 0.5995334994462901, 0.5988870431893687, 0.6268037098560354, 0.0, 0.5998823366555925, 0.5367441860465115, 0.6752893133997786]}, {\"categories\": [\"0\", \"1\", \"2\", \"3\", \"4\", \"5\", \"6\", \"7\", \"8\", \"9\", \"10\", \"11\", \"12\", \"13\", \"14\", \"15\", \"16\", \"17\", \"18\", \"19\", \"20\", \"21\", \"22\", \"23\", \"24\", \"25\", \"26\", \"27\", \"28\", \"29\", \"30\", \"31\", \"32\", \"36\"], \"mode\": \"lines\", \"name\": \"norm_macro_recall_max\", \"stepped\": true, \"type\": \"scatter\", \"data\": [0.5520418050941306, 0.6120251937984496, 0.6128156146179402, 0.6128156146179402, 0.6251287375415282, 0.6251287375415282, 0.6417787929125139, 0.6417787929125139, 0.6417787929125139, 0.6417787929125139, 0.6417787929125139, 0.6417787929125139, 0.6417787929125139, 0.6417787929125139, 0.6417787929125139, 0.6417787929125139, 0.6417787929125139, 0.6417787929125139, 0.6417787929125139, 0.6417787929125139, 0.6417954042081948, 0.6417954042081948, 0.6417954042081948, 0.6417954042081948, 0.6417954042081948, 0.6417954042081948, 0.6417954042081948, 0.6417954042081948, 0.6417954042081948, 0.6417954042081948, 0.6417954042081948, 0.6417954042081948, 0.6417954042081948, 0.6752893133997786]}], \"f1_score_micro\": [{\"categories\": [\"0\", \"1\", \"2\", \"3\", \"4\", \"5\", \"6\", \"7\", \"8\", \"9\", \"10\", \"11\", \"12\", \"13\", \"14\", \"15\", \"16\", \"17\", \"18\", \"19\", \"20\", \"21\", \"22\", \"23\", \"24\", \"25\", \"26\", \"27\", \"28\", \"29\", \"30\", \"31\", \"32\", \"36\"], \"mode\": \"markers\", \"name\": \"f1_score_micro\", \"stepped\": false, \"type\": \"scatter\", \"data\": [0.8059887005649718, 0.8259322033898304, 0.8293785310734464, 0.8358757062146893, 0.8293220338983049, 0.8292090395480226, 0.8358757062146893, 0.7124293785310735, 0.836045197740113, 0.8093785310734465, 0.8327683615819209, 0.8393785310734463, 0.736045197740113, 0.8329943502824859, 0.8359322033898305, 0.8293785310734464, 0.8396610169491525, 0.8326553672316385, 0.8328248587570621, 0.8428248587570621, 0.8393220338983051, 0.8326553672316385, 0.8258192090395481, 0.8327118644067797, 0.8226553672316385, 0.67909604519774, 0.8094915254237289, 0.8259887005649718, 0.822768361581921, 0.8427118644067797, 0.67909604519774, 0.8259322033898305, 0.8159322033898304, 0.8696045197740112]}, {\"categories\": [\"0\", \"1\", \"2\", \"3\", \"4\", \"5\", \"6\", \"7\", \"8\", \"9\", \"10\", \"11\", \"12\", \"13\", \"14\", \"15\", \"16\", \"17\", \"18\", \"19\", \"20\", \"21\", \"22\", \"23\", \"24\", \"25\", \"26\", \"27\", \"28\", \"29\", \"30\", \"31\", \"32\", \"36\"], \"mode\": \"lines\", \"name\": \"f1_score_micro_max\", \"stepped\": true, \"type\": \"scatter\", \"data\": [0.8059887005649718, 0.8259322033898304, 0.8293785310734464, 0.8358757062146893, 0.8358757062146893, 0.8358757062146893, 0.8358757062146893, 0.8358757062146893, 0.836045197740113, 0.836045197740113, 0.836045197740113, 0.8393785310734463, 0.8393785310734463, 0.8393785310734463, 0.8393785310734463, 0.8393785310734463, 0.8396610169491525, 0.8396610169491525, 0.8396610169491525, 0.8428248587570621, 0.8428248587570621, 0.8428248587570621, 0.8428248587570621, 0.8428248587570621, 0.8428248587570621, 0.8428248587570621, 0.8428248587570621, 0.8428248587570621, 0.8428248587570621, 0.8428248587570621, 0.8428248587570621, 0.8428248587570621, 0.8428248587570621, 0.8696045197740112]}], \"AUC_micro\": [{\"categories\": [\"0\", \"1\", \"2\", \"3\", \"4\", \"5\", \"6\", \"7\", \"8\", \"9\", \"10\", \"11\", \"12\", \"13\", \"14\", \"15\", \"16\", \"17\", \"18\", \"19\", \"20\", \"21\", \"22\", \"23\", \"24\", \"25\", \"26\", \"27\", \"28\", \"29\", \"30\", \"31\", \"32\", \"36\"], \"mode\": \"markers\", \"name\": \"AUC_micro\", \"stepped\": false, \"type\": \"scatter\", \"data\": [0.8880105014523284, 0.8999905678444892, 0.9111890421015671, 0.9095314085990616, 0.9061125953589325, 0.9059331130901083, 0.9132284624469342, 0.7809203294072585, 0.9043063295987743, 0.8762564716396948, 0.8990779150308021, 0.9028295987742986, 0.8328210603594114, 0.8939478119314372, 0.9100803089789012, 0.9083671039611861, 0.8995741166331512, 0.9082023364933448, 0.9071681349548341, 0.9045807718088671, 0.9082602700373457, 0.908491046634109, 0.8982897155989658, 0.9025456446104249, 0.8845731909732197, 0.6790960451977401, 0.8947374636917871, 0.9028481119729325, 0.8964440135337867, 0.9057574132592805, 0.6790960451977401, 0.89749388745252, 0.901777362826774, 0.916415525551406]}, {\"categories\": [\"0\", \"1\", \"2\", \"3\", \"4\", \"5\", \"6\", \"7\", \"8\", \"9\", \"10\", \"11\", \"12\", \"13\", \"14\", \"15\", \"16\", \"17\", \"18\", \"19\", \"20\", \"21\", \"22\", \"23\", \"24\", \"25\", \"26\", \"27\", \"28\", \"29\", \"30\", \"31\", \"32\", \"36\"], \"mode\": \"lines\", \"name\": \"AUC_micro_max\", \"stepped\": true, \"type\": \"scatter\", \"data\": [0.8880105014523284, 0.8999905678444892, 0.9111890421015671, 0.9111890421015671, 0.9111890421015671, 0.9111890421015671, 0.9132284624469342, 0.9132284624469342, 0.9132284624469342, 0.9132284624469342, 0.9132284624469342, 0.9132284624469342, 0.9132284624469342, 0.9132284624469342, 0.9132284624469342, 0.9132284624469342, 0.9132284624469342, 0.9132284624469342, 0.9132284624469342, 0.9132284624469342, 0.9132284624469342, 0.9132284624469342, 0.9132284624469342, 0.9132284624469342, 0.9132284624469342, 0.9132284624469342, 0.9132284624469342, 0.9132284624469342, 0.9132284624469342, 0.9132284624469342, 0.9132284624469342, 0.9132284624469342, 0.9132284624469342, 0.916415525551406]}], \"recall_score_macro\": [{\"categories\": [\"0\", \"1\", \"2\", \"3\", \"4\", \"5\", \"6\", \"7\", \"8\", \"9\", \"10\", \"11\", \"12\", \"13\", \"14\", \"15\", \"16\", \"17\", \"18\", \"19\", \"20\", \"21\", \"22\", \"23\", \"24\", \"25\", \"26\", \"27\", \"28\", \"29\", \"30\", \"31\", \"32\", \"36\"], \"mode\": \"markers\", \"name\": \"recall_score_macro\", \"stepped\": false, \"type\": \"scatter\", \"data\": [0.7760209025470652, 0.8060125968992248, 0.8064078073089702, 0.7995542635658914, 0.812564368770764, 0.8111870155038761, 0.820889396456257, 0.6282613510520487, 0.8027512458471762, 0.7602512458471761, 0.775765503875969, 0.8058423311184939, 0.6379761904761905, 0.8043410852713178, 0.8102429401993355, 0.8020923311184939, 0.810765503875969, 0.8000089977851607, 0.8018071705426356, 0.8203107696566999, 0.8208977021040976, 0.8058381782945737, 0.7916078349944629, 0.7915012458471761, 0.8104173588039867, 0.5, 0.7933720930232557, 0.7997667497231451, 0.7994435215946842, 0.8134018549280178, 0.5, 0.7999411683277963, 0.7683720930232558, 0.8376446566998894]}, {\"categories\": [\"0\", \"1\", \"2\", \"3\", \"4\", \"5\", \"6\", \"7\", \"8\", \"9\", \"10\", \"11\", \"12\", \"13\", \"14\", \"15\", \"16\", \"17\", \"18\", \"19\", \"20\", \"21\", \"22\", \"23\", \"24\", \"25\", \"26\", \"27\", \"28\", \"29\", \"30\", \"31\", \"32\", \"36\"], \"mode\": \"lines\", \"name\": \"recall_score_macro_max\", \"stepped\": true, \"type\": \"scatter\", \"data\": [0.7760209025470652, 0.8060125968992248, 0.8064078073089702, 0.8064078073089702, 0.812564368770764, 0.812564368770764, 0.820889396456257, 0.820889396456257, 0.820889396456257, 0.820889396456257, 0.820889396456257, 0.820889396456257, 0.820889396456257, 0.820889396456257, 0.820889396456257, 0.820889396456257, 0.820889396456257, 0.820889396456257, 0.820889396456257, 0.820889396456257, 0.8208977021040976, 0.8208977021040976, 0.8208977021040976, 0.8208977021040976, 0.8208977021040976, 0.8208977021040976, 0.8208977021040976, 0.8208977021040976, 0.8208977021040976, 0.8208977021040976, 0.8208977021040976, 0.8208977021040976, 0.8208977021040976, 0.8376446566998894]}], \"recall_score_weighted\": [{\"categories\": [\"0\", \"1\", \"2\", \"3\", \"4\", \"5\", \"6\", \"7\", \"8\", \"9\", \"10\", \"11\", \"12\", \"13\", \"14\", \"15\", \"16\", \"17\", \"18\", \"19\", \"20\", \"21\", \"22\", \"23\", \"24\", \"25\", \"26\", \"27\", \"28\", \"29\", \"30\", \"31\", \"32\", \"36\"], \"mode\": \"markers\", \"name\": \"recall_score_weighted\", \"stepped\": false, \"type\": \"scatter\", \"data\": [0.8059887005649717, 0.8259322033898304, 0.8293785310734464, 0.8358757062146893, 0.8293220338983049, 0.8292090395480226, 0.8358757062146893, 0.7124293785310735, 0.836045197740113, 0.8093785310734465, 0.8327683615819209, 0.8393785310734463, 0.736045197740113, 0.8329943502824859, 0.8359322033898305, 0.8293785310734464, 0.8396610169491525, 0.8326553672316385, 0.8328248587570621, 0.8428248587570621, 0.8393220338983051, 0.8326553672316385, 0.8258192090395481, 0.8327118644067797, 0.8226553672316383, 0.67909604519774, 0.8094915254237289, 0.8259887005649718, 0.822768361581921, 0.8427118644067797, 0.67909604519774, 0.8259322033898305, 0.8159322033898304, 0.8696045197740112]}, {\"categories\": [\"0\", \"1\", \"2\", \"3\", \"4\", \"5\", \"6\", \"7\", \"8\", \"9\", \"10\", \"11\", \"12\", \"13\", \"14\", \"15\", \"16\", \"17\", \"18\", \"19\", \"20\", \"21\", \"22\", \"23\", \"24\", \"25\", \"26\", \"27\", \"28\", \"29\", \"30\", \"31\", \"32\", \"36\"], \"mode\": \"lines\", \"name\": \"recall_score_weighted_max\", \"stepped\": true, \"type\": \"scatter\", \"data\": [0.8059887005649717, 0.8259322033898304, 0.8293785310734464, 0.8358757062146893, 0.8358757062146893, 0.8358757062146893, 0.8358757062146893, 0.8358757062146893, 0.836045197740113, 0.836045197740113, 0.836045197740113, 0.8393785310734463, 0.8393785310734463, 0.8393785310734463, 0.8393785310734463, 0.8393785310734463, 0.8396610169491525, 0.8396610169491525, 0.8396610169491525, 0.8428248587570621, 0.8428248587570621, 0.8428248587570621, 0.8428248587570621, 0.8428248587570621, 0.8428248587570621, 0.8428248587570621, 0.8428248587570621, 0.8428248587570621, 0.8428248587570621, 0.8428248587570621, 0.8428248587570621, 0.8428248587570621, 0.8428248587570621, 0.8696045197740112]}], \"f1_score_macro\": [{\"categories\": [\"0\", \"1\", \"2\", \"3\", \"4\", \"5\", \"6\", \"7\", \"8\", \"9\", \"10\", \"11\", \"12\", \"13\", \"14\", \"15\", \"16\", \"17\", \"18\", \"19\", \"20\", \"21\", \"22\", \"23\", \"24\", \"25\", \"26\", \"27\", \"28\", \"29\", \"30\", \"31\", \"32\", \"36\"], \"mode\": \"markers\", \"name\": \"f1_score_macro\", \"stepped\": false, \"type\": \"scatter\", \"data\": [0.7682096405971308, 0.7972526241921125, 0.7980839204053888, 0.7989244736862469, 0.801462663733812, 0.8015226511707578, 0.8078645590580932, 0.6187172200441265, 0.8008627271016635, 0.7611013563473851, 0.7868853300841225, 0.8045872420707253, 0.6252048522662619, 0.8017629707082936, 0.8041452963424476, 0.7956235504288897, 0.8095790583685322, 0.7983400661454317, 0.7977064698505035, 0.813587247677674, 0.809938664413892, 0.8001229167158567, 0.7874431191599796, 0.794854593019428, 0.7950291441442847, 0.40276783177038933, 0.7797007771682161, 0.7923949521161324, 0.793025148678909, 0.8121820243388067, 0.40276783177038933, 0.792472349259193, 0.7733497506413967, 0.8420130918883105]}, {\"categories\": [\"0\", \"1\", \"2\", \"3\", \"4\", \"5\", \"6\", \"7\", \"8\", \"9\", \"10\", \"11\", \"12\", \"13\", \"14\", \"15\", \"16\", \"17\", \"18\", \"19\", \"20\", \"21\", \"22\", \"23\", \"24\", \"25\", \"26\", \"27\", \"28\", \"29\", \"30\", \"31\", \"32\", \"36\"], \"mode\": \"lines\", \"name\": \"f1_score_macro_max\", \"stepped\": true, \"type\": \"scatter\", \"data\": [0.7682096405971308, 0.7972526241921125, 0.7980839204053888, 0.7989244736862469, 0.801462663733812, 0.8015226511707578, 0.8078645590580932, 0.8078645590580932, 0.8078645590580932, 0.8078645590580932, 0.8078645590580932, 0.8078645590580932, 0.8078645590580932, 0.8078645590580932, 0.8078645590580932, 0.8078645590580932, 0.8095790583685322, 0.8095790583685322, 0.8095790583685322, 0.813587247677674, 0.813587247677674, 0.813587247677674, 0.813587247677674, 0.813587247677674, 0.813587247677674, 0.813587247677674, 0.813587247677674, 0.813587247677674, 0.813587247677674, 0.813587247677674, 0.813587247677674, 0.813587247677674, 0.813587247677674, 0.8420130918883105]}], \"balanced_accuracy\": [{\"categories\": [\"0\", \"1\", \"2\", \"3\", \"4\", \"5\", \"6\", \"7\", \"8\", \"9\", \"10\", \"11\", \"12\", \"13\", \"14\", \"15\", \"16\", \"17\", \"18\", \"19\", \"20\", \"21\", \"22\", \"23\", \"24\", \"25\", \"26\", \"27\", \"28\", \"29\", \"30\", \"31\", \"32\", \"36\"], \"mode\": \"markers\", \"name\": \"balanced_accuracy\", \"stepped\": false, \"type\": \"scatter\", \"data\": [0.7760209025470652, 0.8060125968992248, 0.8064078073089702, 0.7995542635658914, 0.812564368770764, 0.8111870155038761, 0.820889396456257, 0.6282613510520487, 0.8027512458471762, 0.7602512458471761, 0.775765503875969, 0.8058423311184939, 0.6379761904761905, 0.8043410852713178, 0.8102429401993355, 0.8020923311184939, 0.810765503875969, 0.8000089977851607, 0.8018071705426356, 0.8203107696566999, 0.8208977021040976, 0.8058381782945737, 0.7916078349944629, 0.7915012458471761, 0.8104173588039867, 0.5, 0.7933720930232557, 0.7997667497231451, 0.7994435215946842, 0.8134018549280178, 0.5, 0.7999411683277963, 0.7683720930232558, 0.8376446566998894]}, {\"categories\": [\"0\", \"1\", \"2\", \"3\", \"4\", \"5\", \"6\", \"7\", \"8\", \"9\", \"10\", \"11\", \"12\", \"13\", \"14\", \"15\", \"16\", \"17\", \"18\", \"19\", \"20\", \"21\", \"22\", \"23\", \"24\", \"25\", \"26\", \"27\", \"28\", \"29\", \"30\", \"31\", \"32\", \"36\"], \"mode\": \"lines\", \"name\": \"balanced_accuracy_max\", \"stepped\": true, \"type\": \"scatter\", \"data\": [0.7760209025470652, 0.8060125968992248, 0.8064078073089702, 0.8064078073089702, 0.812564368770764, 0.812564368770764, 0.820889396456257, 0.820889396456257, 0.820889396456257, 0.820889396456257, 0.820889396456257, 0.820889396456257, 0.820889396456257, 0.820889396456257, 0.820889396456257, 0.820889396456257, 0.820889396456257, 0.820889396456257, 0.820889396456257, 0.820889396456257, 0.8208977021040976, 0.8208977021040976, 0.8208977021040976, 0.8208977021040976, 0.8208977021040976, 0.8208977021040976, 0.8208977021040976, 0.8208977021040976, 0.8208977021040976, 0.8208977021040976, 0.8208977021040976, 0.8208977021040976, 0.8208977021040976, 0.8376446566998894]}], \"AUC_macro\": [{\"categories\": [\"0\", \"1\", \"2\", \"3\", \"4\", \"5\", \"6\", \"7\", \"8\", \"9\", \"10\", \"11\", \"12\", \"13\", \"14\", \"15\", \"16\", \"17\", \"18\", \"19\", \"20\", \"21\", \"22\", \"23\", \"24\", \"25\", \"26\", \"27\", \"28\", \"29\", \"30\", \"31\", \"32\", \"36\"], \"mode\": \"markers\", \"name\": \"AUC_macro\", \"stepped\": false, \"type\": \"scatter\", \"data\": [0.8811331210778885, 0.8929591177556295, 0.9057600590623845, 0.910358711701735, 0.9018382705795498, 0.8993975406053896, 0.9103462532299741, 0.7394446982281285, 0.9007161314138058, 0.8592381875230715, 0.8897914590254707, 0.9038673864894795, 0.8303234588409006, 0.8876433877814691, 0.8993758767072719, 0.9030714977851606, 0.8876623292727943, 0.9047342423403469, 0.9017715023994095, 0.8967295358065707, 0.8962162006275378, 0.9016755260243633, 0.8913758305647841, 0.8954322051495017, 0.8738411083425618, 0.5, 0.8870026301218161, 0.8958020256552233, 0.8821171442414174, 0.9007611895533408, 0.5, 0.8912267441860464, 0.8986199012550756, 0.913014396456257]}, {\"categories\": [\"0\", \"1\", \"2\", \"3\", \"4\", \"5\", \"6\", \"7\", \"8\", \"9\", \"10\", \"11\", \"12\", \"13\", \"14\", \"15\", \"16\", \"17\", \"18\", \"19\", \"20\", \"21\", \"22\", \"23\", \"24\", \"25\", \"26\", \"27\", \"28\", \"29\", \"30\", \"31\", \"32\", \"36\"], \"mode\": \"lines\", \"name\": \"AUC_macro_max\", \"stepped\": true, \"type\": \"scatter\", \"data\": [0.8811331210778885, 0.8929591177556295, 0.9057600590623845, 0.910358711701735, 0.910358711701735, 0.910358711701735, 0.910358711701735, 0.910358711701735, 0.910358711701735, 0.910358711701735, 0.910358711701735, 0.910358711701735, 0.910358711701735, 0.910358711701735, 0.910358711701735, 0.910358711701735, 0.910358711701735, 0.910358711701735, 0.910358711701735, 0.910358711701735, 0.910358711701735, 0.910358711701735, 0.910358711701735, 0.910358711701735, 0.910358711701735, 0.910358711701735, 0.910358711701735, 0.910358711701735, 0.910358711701735, 0.910358711701735, 0.910358711701735, 0.910358711701735, 0.910358711701735, 0.913014396456257]}], \"precision_score_macro\": [{\"categories\": [\"0\", \"1\", \"2\", \"3\", \"4\", \"5\", \"6\", \"7\", \"8\", \"9\", \"10\", \"11\", \"12\", \"13\", \"14\", \"15\", \"16\", \"17\", \"18\", \"19\", \"20\", \"21\", \"22\", \"23\", \"24\", \"25\", \"26\", \"27\", \"28\", \"29\", \"30\", \"31\", \"32\", \"36\"], \"mode\": \"markers\", \"name\": \"precision_score_macro\", \"stepped\": false, \"type\": \"scatter\", \"data\": [0.7889041743265773, 0.8086642059265495, 0.8007922077922078, 0.8282564344292556, 0.8089700544162864, 0.8117421039020638, 0.8082875615016878, 0.6828788742703836, 0.8225492456976522, 0.7842618251313904, 0.8315430560954965, 0.8250551121712085, 0.7693400768179093, 0.8298263723233414, 0.8145703390812086, 0.8122532189273273, 0.824308208922212, 0.8190090010719058, 0.8210411445279867, 0.8243305305805306, 0.8160166627672428, 0.8148560354374308, 0.8057890901369162, 0.821192643029795, 0.7960248637174665, 0.33954802259887, 0.7819482641541464, 0.8079716098099119, 0.8006616986036503, 0.8266548527288224, 0.33954802259887, 0.8082151597778886, 0.8033704973748508, 0.8732408890805944]}, {\"categories\": [\"0\", \"1\", \"2\", \"3\", \"4\", \"5\", \"6\", \"7\", \"8\", \"9\", \"10\", \"11\", \"12\", \"13\", \"14\", \"15\", \"16\", \"17\", \"18\", \"19\", \"20\", \"21\", \"22\", \"23\", \"24\", \"25\", \"26\", \"27\", \"28\", \"29\", \"30\", \"31\", \"32\", \"36\"], \"mode\": \"lines\", \"name\": \"precision_score_macro_max\", \"stepped\": true, \"type\": \"scatter\", \"data\": [0.7889041743265773, 0.8086642059265495, 0.8086642059265495, 0.8282564344292556, 0.8282564344292556, 0.8282564344292556, 0.8282564344292556, 0.8282564344292556, 0.8282564344292556, 0.8282564344292556, 0.8315430560954965, 0.8315430560954965, 0.8315430560954965, 0.8315430560954965, 0.8315430560954965, 0.8315430560954965, 0.8315430560954965, 0.8315430560954965, 0.8315430560954965, 0.8315430560954965, 0.8315430560954965, 0.8315430560954965, 0.8315430560954965, 0.8315430560954965, 0.8315430560954965, 0.8315430560954965, 0.8315430560954965, 0.8315430560954965, 0.8315430560954965, 0.8315430560954965, 0.8315430560954965, 0.8315430560954965, 0.8315430560954965, 0.8732408890805944]}], \"average_precision_score_macro\": [{\"categories\": [\"0\", \"1\", \"2\", \"3\", \"4\", \"5\", \"6\", \"7\", \"8\", \"9\", \"10\", \"11\", \"12\", \"13\", \"14\", \"15\", \"16\", \"17\", \"18\", \"19\", \"20\", \"21\", \"22\", \"23\", \"24\", \"25\", \"26\", \"27\", \"28\", \"29\", \"30\", \"31\", \"32\", \"36\"], \"mode\": \"markers\", \"name\": \"average_precision_score_macro\", \"stepped\": false, \"type\": \"scatter\", \"data\": [0.8655792376041671, 0.8826936933050062, 0.8941129224325817, 0.8965446399729308, 0.8864524525702968, 0.8863406309713591, 0.8994643366856601, 0.7188984079516562, 0.8927065503562506, 0.8329476717741734, 0.8806331187462986, 0.8964114768327522, 0.799425832504898, 0.8756968477195303, 0.886186271898217, 0.8895679089778662, 0.8728899332889071, 0.8949484146327167, 0.8846801667087874, 0.8769719789256565, 0.8817539776811163, 0.8841789135431846, 0.8797178719490375, 0.8841759266110877, 0.8677619378842143, 0.5, 0.8616113933105701, 0.8848161829304576, 0.8756267033409042, 0.8902608167649451, 0.5, 0.8800749885844473, 0.8858515100406625, 0.8946453712173341]}, {\"categories\": [\"0\", \"1\", \"2\", \"3\", \"4\", \"5\", \"6\", \"7\", \"8\", \"9\", \"10\", \"11\", \"12\", \"13\", \"14\", \"15\", \"16\", \"17\", \"18\", \"19\", \"20\", \"21\", \"22\", \"23\", \"24\", \"25\", \"26\", \"27\", \"28\", \"29\", \"30\", \"31\", \"32\", \"36\"], \"mode\": \"lines\", \"name\": \"average_precision_score_macro_max\", \"stepped\": true, \"type\": \"scatter\", \"data\": [0.8655792376041671, 0.8826936933050062, 0.8941129224325817, 0.8965446399729308, 0.8965446399729308, 0.8965446399729308, 0.8994643366856601, 0.8994643366856601, 0.8994643366856601, 0.8994643366856601, 0.8994643366856601, 0.8994643366856601, 0.8994643366856601, 0.8994643366856601, 0.8994643366856601, 0.8994643366856601, 0.8994643366856601, 0.8994643366856601, 0.8994643366856601, 0.8994643366856601, 0.8994643366856601, 0.8994643366856601, 0.8994643366856601, 0.8994643366856601, 0.8994643366856601, 0.8994643366856601, 0.8994643366856601, 0.8994643366856601, 0.8994643366856601, 0.8994643366856601, 0.8994643366856601, 0.8994643366856601, 0.8994643366856601, 0.8994643366856601]}], \"log_loss\": [{\"categories\": [\"0\", \"1\", \"2\", \"3\", \"4\", \"5\", \"6\", \"7\", \"8\", \"9\", \"10\", \"11\", \"12\", \"13\", \"14\", \"15\", \"16\", \"17\", \"18\", \"19\", \"20\", \"21\", \"22\", \"23\", \"24\", \"25\", \"26\", \"27\", \"28\", \"29\", \"30\", \"31\", \"32\", \"36\"], \"mode\": \"markers\", \"name\": \"log_loss\", \"stepped\": false, \"type\": \"scatter\", \"data\": [0.5282491261622873, 0.43217688137359717, 0.3800016490733309, 0.4018299699508274, 0.3939787553507176, 0.39041766099384756, 0.37643443023711715, 0.5861483921536597, 0.4270372037872674, 0.4899611430866921, 0.40971538175121547, 0.41773726522789173, 0.5184056250785269, 0.41472333246893617, 0.38014360930661495, 0.40490375309255955, 0.4049669611121631, 0.3997407425109225, 0.3907823102788081, 0.40814244815430384, 0.3842864910334153, 0.39004287996443965, 0.40717289120536987, 0.4329821181628268, 0.48493412608879877, 0.6376274277662424, 0.44436938815543725, 0.3972856227638352, 0.41769897671843975, 0.38567402038643145, 0.6376477250700765, 0.4287118142649476, 0.40283210236564937, 0.3824770658891571]}, {\"categories\": [\"0\", \"1\", \"2\", \"3\", \"4\", \"5\", \"6\", \"7\", \"8\", \"9\", \"10\", \"11\", \"12\", \"13\", \"14\", \"15\", \"16\", \"17\", \"18\", \"19\", \"20\", \"21\", \"22\", \"23\", \"24\", \"25\", \"26\", \"27\", \"28\", \"29\", \"30\", \"31\", \"32\", \"36\"], \"mode\": \"lines\", \"name\": \"log_loss_min\", \"stepped\": true, \"type\": \"scatter\", \"data\": [0.5282491261622873, 0.43217688137359717, 0.3800016490733309, 0.3800016490733309, 0.3800016490733309, 0.3800016490733309, 0.37643443023711715, 0.37643443023711715, 0.37643443023711715, 0.37643443023711715, 0.37643443023711715, 0.37643443023711715, 0.37643443023711715, 0.37643443023711715, 0.37643443023711715, 0.37643443023711715, 0.37643443023711715, 0.37643443023711715, 0.37643443023711715, 0.37643443023711715, 0.37643443023711715, 0.37643443023711715, 0.37643443023711715, 0.37643443023711715, 0.37643443023711715, 0.37643443023711715, 0.37643443023711715, 0.37643443023711715, 0.37643443023711715, 0.37643443023711715, 0.37643443023711715, 0.37643443023711715, 0.37643443023711715, 0.37643443023711715]}], \"average_precision_score_micro\": [{\"categories\": [\"0\", \"1\", \"2\", \"3\", \"4\", \"5\", \"6\", \"7\", \"8\", \"9\", \"10\", \"11\", \"12\", \"13\", \"14\", \"15\", \"16\", \"17\", \"18\", \"19\", \"20\", \"21\", \"22\", \"23\", \"24\", \"25\", \"26\", \"27\", \"28\", \"29\", \"30\", \"31\", \"32\", \"36\"], \"mode\": \"markers\", \"name\": \"average_precision_score_micro\", \"stepped\": false, \"type\": \"scatter\", \"data\": [0.887958292631032, 0.9018582931163117, 0.913597211294151, 0.9129740568830911, 0.9090714709046568, 0.9070399029519134, 0.9141842312532793, 0.7593987981561737, 0.9050682649126307, 0.8723071880091318, 0.9007602735216385, 0.9051419512979809, 0.8377483843872803, 0.893386848713541, 0.9123668417883678, 0.9106439853092263, 0.8958867734484735, 0.9111581298001014, 0.909343539667695, 0.9022976553417721, 0.9076155939413614, 0.9103138109069189, 0.9003310666452334, 0.8984293833786829, 0.8790288739405275, 0.6293524849181271, 0.8955621509978711, 0.900515285408836, 0.896155754809396, 0.9071181413680535, 0.6293524849181271, 0.8995017219243936, 0.905079276175085, 0.9181731752467938]}, {\"categories\": [\"0\", \"1\", \"2\", \"3\", \"4\", \"5\", \"6\", \"7\", \"8\", \"9\", \"10\", \"11\", \"12\", \"13\", \"14\", \"15\", \"16\", \"17\", \"18\", \"19\", \"20\", \"21\", \"22\", \"23\", \"24\", \"25\", \"26\", \"27\", \"28\", \"29\", \"30\", \"31\", \"32\", \"36\"], \"mode\": \"lines\", \"name\": \"average_precision_score_micro_max\", \"stepped\": true, \"type\": \"scatter\", \"data\": [0.887958292631032, 0.9018582931163117, 0.913597211294151, 0.913597211294151, 0.913597211294151, 0.913597211294151, 0.9141842312532793, 0.9141842312532793, 0.9141842312532793, 0.9141842312532793, 0.9141842312532793, 0.9141842312532793, 0.9141842312532793, 0.9141842312532793, 0.9141842312532793, 0.9141842312532793, 0.9141842312532793, 0.9141842312532793, 0.9141842312532793, 0.9141842312532793, 0.9141842312532793, 0.9141842312532793, 0.9141842312532793, 0.9141842312532793, 0.9141842312532793, 0.9141842312532793, 0.9141842312532793, 0.9141842312532793, 0.9141842312532793, 0.9141842312532793, 0.9141842312532793, 0.9141842312532793, 0.9141842312532793, 0.9181731752467938]}], \"weighted_accuracy\": [{\"categories\": [\"0\", \"1\", \"2\", \"3\", \"4\", \"5\", \"6\", \"7\", \"8\", \"9\", \"10\", \"11\", \"12\", \"13\", \"14\", \"15\", \"16\", \"17\", \"18\", \"19\", \"20\", \"21\", \"22\", \"23\", \"24\", \"25\", \"26\", \"27\", \"28\", \"29\", \"30\", \"31\", \"32\", \"36\"], \"mode\": \"markers\", \"name\": \"weighted_accuracy\", \"stepped\": false, \"type\": \"scatter\", \"data\": [0.8252063202764133, 0.8406325321291572, 0.843927620832875, 0.8616717729573911, 0.8400107722991661, 0.842547021440321, 0.8461913039320788, 0.7695242910482673, 0.8593695682548554, 0.8396048623725025, 0.8706183520640931, 0.8618238554329096, 0.8032567402089587, 0.8533820798830117, 0.8533932371426699, 0.8488826789623214, 0.8586782896708176, 0.8552056261934704, 0.8547947975103691, 0.8586830699403972, 0.8521676350442643, 0.8518945134062286, 0.8486908853802804, 0.8603107447254438, 0.8315037546012878, 0.7971865900207855, 0.8194989743317083, 0.8447971682734853, 0.8389793048701624, 0.8629205064827099, 0.7971865900207855, 0.8447116575846492, 0.8462833886250358, 0.8909894276000188]}, {\"categories\": [\"0\", \"1\", \"2\", \"3\", \"4\", \"5\", \"6\", \"7\", \"8\", \"9\", \"10\", \"11\", \"12\", \"13\", \"14\", \"15\", \"16\", \"17\", \"18\", \"19\", \"20\", \"21\", \"22\", \"23\", \"24\", \"25\", \"26\", \"27\", \"28\", \"29\", \"30\", \"31\", \"32\", \"36\"], \"mode\": \"lines\", \"name\": \"weighted_accuracy_max\", \"stepped\": true, \"type\": \"scatter\", \"data\": [0.8252063202764133, 0.8406325321291572, 0.843927620832875, 0.8616717729573911, 0.8616717729573911, 0.8616717729573911, 0.8616717729573911, 0.8616717729573911, 0.8616717729573911, 0.8616717729573911, 0.8706183520640931, 0.8706183520640931, 0.8706183520640931, 0.8706183520640931, 0.8706183520640931, 0.8706183520640931, 0.8706183520640931, 0.8706183520640931, 0.8706183520640931, 0.8706183520640931, 0.8706183520640931, 0.8706183520640931, 0.8706183520640931, 0.8706183520640931, 0.8706183520640931, 0.8706183520640931, 0.8706183520640931, 0.8706183520640931, 0.8706183520640931, 0.8706183520640931, 0.8706183520640931, 0.8706183520640931, 0.8706183520640931, 0.8909894276000188]}], \"f1_score_weighted\": [{\"categories\": [\"0\", \"1\", \"2\", \"3\", \"4\", \"5\", \"6\", \"7\", \"8\", \"9\", \"10\", \"11\", \"12\", \"13\", \"14\", \"15\", \"16\", \"17\", \"18\", \"19\", \"20\", \"21\", \"22\", \"23\", \"24\", \"25\", \"26\", \"27\", \"28\", \"29\", \"30\", \"31\", \"32\", \"36\"], \"mode\": \"markers\", \"name\": \"f1_score_weighted\", \"stepped\": false, \"type\": \"scatter\", \"data\": [0.8014398448329555, 0.8237396450256732, 0.8298779085640946, 0.8302155503570379, 0.8290461784960381, 0.8274397969523084, 0.83738020402428, 0.6867648896774883, 0.8308443109274345, 0.8039757220257486, 0.8242534345489758, 0.8348561535740927, 0.6920924975909098, 0.8295428462047711, 0.8336645884115846, 0.8256093670697467, 0.8366627045139088, 0.8277041636824469, 0.8288155855840393, 0.8409246292610295, 0.8389906631831122, 0.8299555457773595, 0.8217851646732107, 0.8267330740257194, 0.8237015999640633, 0.5526564268547016, 0.8094619296322311, 0.8226509762953478, 0.8213484238126512, 0.8396915004931366, 0.5526564268547016, 0.8228035204758083, 0.8100721363461434, 0.8639828127526371]}, {\"categories\": [\"0\", \"1\", \"2\", \"3\", \"4\", \"5\", \"6\", \"7\", \"8\", \"9\", \"10\", \"11\", \"12\", \"13\", \"14\", \"15\", \"16\", \"17\", \"18\", \"19\", \"20\", \"21\", \"22\", \"23\", \"24\", \"25\", \"26\", \"27\", \"28\", \"29\", \"30\", \"31\", \"32\", \"36\"], \"mode\": \"lines\", \"name\": \"f1_score_weighted_max\", \"stepped\": true, \"type\": \"scatter\", \"data\": [0.8014398448329555, 0.8237396450256732, 0.8298779085640946, 0.8302155503570379, 0.8302155503570379, 0.8302155503570379, 0.83738020402428, 0.83738020402428, 0.83738020402428, 0.83738020402428, 0.83738020402428, 0.83738020402428, 0.83738020402428, 0.83738020402428, 0.83738020402428, 0.83738020402428, 0.83738020402428, 0.83738020402428, 0.83738020402428, 0.8409246292610295, 0.8409246292610295, 0.8409246292610295, 0.8409246292610295, 0.8409246292610295, 0.8409246292610295, 0.8409246292610295, 0.8409246292610295, 0.8409246292610295, 0.8409246292610295, 0.8409246292610295, 0.8409246292610295, 0.8409246292610295, 0.8409246292610295, 0.8639828127526371]}], \"average_precision_score_weighted\": [{\"categories\": [\"0\", \"1\", \"2\", \"3\", \"4\", \"5\", \"6\", \"7\", \"8\", \"9\", \"10\", \"11\", \"12\", \"13\", \"14\", \"15\", \"16\", \"17\", \"18\", \"19\", \"20\", \"21\", \"22\", \"23\", \"24\", \"25\", \"26\", \"27\", \"28\", \"29\", \"30\", \"31\", \"32\", \"36\"], \"mode\": \"markers\", \"name\": \"average_precision_score_weighted\", \"stepped\": false, \"type\": \"scatter\", \"data\": [0.8955370396295249, 0.9103506263314479, 0.9198500519287218, 0.9221111913824703, 0.9138170924741426, 0.9115960592961319, 0.9222220537144119, 0.7678656616487051, 0.9150735346975256, 0.8720059756545379, 0.9056983952851507, 0.9186509252906317, 0.8458920762759519, 0.9027199794815131, 0.9136145644126434, 0.9159062069514639, 0.8977687189620761, 0.9181596860653727, 0.9126795621828252, 0.9065973036793696, 0.909186918285673, 0.9111664003813147, 0.90765002884149, 0.9060200443651156, 0.892853354107362, 0.5796089246385138, 0.8958447753126156, 0.9079991704121314, 0.9001116593439453, 0.9140577786432731, 0.5796089246385138, 0.9058489002643999, 0.9125615434000881, 0.9207461462475868]}, {\"categories\": [\"0\", \"1\", \"2\", \"3\", \"4\", \"5\", \"6\", \"7\", \"8\", \"9\", \"10\", \"11\", \"12\", \"13\", \"14\", \"15\", \"16\", \"17\", \"18\", \"19\", \"20\", \"21\", \"22\", \"23\", \"24\", \"25\", \"26\", \"27\", \"28\", \"29\", \"30\", \"31\", \"32\", \"36\"], \"mode\": \"lines\", \"name\": \"average_precision_score_weighted_max\", \"stepped\": true, \"type\": \"scatter\", \"data\": [0.8955370396295249, 0.9103506263314479, 0.9198500519287218, 0.9221111913824703, 0.9221111913824703, 0.9221111913824703, 0.9222220537144119, 0.9222220537144119, 0.9222220537144119, 0.9222220537144119, 0.9222220537144119, 0.9222220537144119, 0.9222220537144119, 0.9222220537144119, 0.9222220537144119, 0.9222220537144119, 0.9222220537144119, 0.9222220537144119, 0.9222220537144119, 0.9222220537144119, 0.9222220537144119, 0.9222220537144119, 0.9222220537144119, 0.9222220537144119, 0.9222220537144119, 0.9222220537144119, 0.9222220537144119, 0.9222220537144119, 0.9222220537144119, 0.9222220537144119, 0.9222220537144119, 0.9222220537144119, 0.9222220537144119, 0.9222220537144119]}], \"matthews_correlation\": [{\"categories\": [\"0\", \"1\", \"2\", \"3\", \"4\", \"5\", \"6\", \"7\", \"8\", \"9\", \"10\", \"11\", \"12\", \"13\", \"14\", \"15\", \"16\", \"17\", \"18\", \"19\", \"20\", \"21\", \"22\", \"23\", \"24\", \"25\", \"26\", \"27\", \"28\", \"29\", \"30\", \"31\", \"32\", \"36\"], \"mode\": \"markers\", \"name\": \"matthews_correlation\", \"stepped\": false, \"type\": \"scatter\", \"data\": [0.5628617041183437, 0.6132552509330647, 0.6064922619280162, 0.6250821664942069, 0.6205184791964953, 0.6215097393692328, 0.6280830151374787, 0.30144558801333055, 0.6234116153494524, 0.5428697166604373, 0.6036935223357873, 0.6293673494859856, 0.37006932289245953, 0.6311991764150848, 0.6237258896556207, 0.6124918481848944, 0.6341138679482298, 0.6174019003823129, 0.6199983476431427, 0.6433536089283469, 0.6355841418216359, 0.6191237810022828, 0.5957241248143661, 0.6109833255302364, 0.6050794936326243, 0.0, 0.5744552609270261, 0.6059057302075374, 0.599278759091019, 0.6391290444654225, 0.0, 0.6062964382413781, 0.5695742102119717, 0.7082603007554998]}, {\"categories\": [\"0\", \"1\", \"2\", \"3\", \"4\", \"5\", \"6\", \"7\", \"8\", \"9\", \"10\", \"11\", \"12\", \"13\", \"14\", \"15\", \"16\", \"17\", \"18\", \"19\", \"20\", \"21\", \"22\", \"23\", \"24\", \"25\", \"26\", \"27\", \"28\", \"29\", \"30\", \"31\", \"32\", \"36\"], \"mode\": \"lines\", \"name\": \"matthews_correlation_max\", \"stepped\": true, \"type\": \"scatter\", \"data\": [0.5628617041183437, 0.6132552509330647, 0.6132552509330647, 0.6250821664942069, 0.6250821664942069, 0.6250821664942069, 0.6280830151374787, 0.6280830151374787, 0.6280830151374787, 0.6280830151374787, 0.6280830151374787, 0.6293673494859856, 0.6293673494859856, 0.6311991764150848, 0.6311991764150848, 0.6311991764150848, 0.6341138679482298, 0.6341138679482298, 0.6341138679482298, 0.6433536089283469, 0.6433536089283469, 0.6433536089283469, 0.6433536089283469, 0.6433536089283469, 0.6433536089283469, 0.6433536089283469, 0.6433536089283469, 0.6433536089283469, 0.6433536089283469, 0.6433536089283469, 0.6433536089283469, 0.6433536089283469, 0.6433536089283469, 0.7082603007554998]}]}, \"metricName\": null, \"primaryMetricName\": \"accuracy\", \"showLegend\": false}, \"run_metrics\": [{\"name\": \"experiment_status\", \"run_id\": \"AutoML_7f0d0b56-e736-418e-811b-5b2c59d6c18b\", \"categories\": [0, 1, 2, 3, 4, 5, 6, 7, 8, 9, 10, 11, 12, 13], \"series\": [{\"data\": [\"DatasetEvaluation\", \"FeaturesGeneration\", \"DatasetFeaturization\", \"DatasetFeaturizationCompleted\", \"DatasetCrossValidationSplit\", \"ModelSelection\", \"BestRunExplainModel\", \"ModelExplanationDataSetSetup\", \"PickSurrogateModel\", \"EngineeredFeatureExplanations\", \"EngineeredFeatureExplanations\", \"RawFeaturesExplanations\", \"RawFeaturesExplanations\", \"BestRunExplainModel\"]}]}, {\"name\": \"experiment_status_description\", \"run_id\": \"AutoML_7f0d0b56-e736-418e-811b-5b2c59d6c18b\", \"categories\": [0, 1, 2, 3, 4, 5, 6, 7, 8, 9, 10, 11, 12, 13], \"series\": [{\"data\": [\"Gathering dataset statistics.\", \"Generating features for the dataset.\", \"Beginning to fit featurizers and featurize the dataset.\", \"Completed fit featurizers and featurizing the dataset.\", \"Generating individually featurized CV splits.\", \"Beginning model selection.\", \"Best run model explanations started\", \"Model explanations data setup completed\", \"Choosing LightGBM as the surrogate model for explanations\", \"Computation of engineered features started\", \"Computation of engineered features completed\", \"Computation of raw features started\", \"Computation of raw features completed\", \"Best run model explanations completed\"]}]}, {\"name\": \"precision_score_macro\", \"run_id\": \"AutoML_7f0d0b56-e736-418e-811b-5b2c59d6c18b\", \"categories\": [0], \"series\": [{\"data\": [0.8732408890805944]}]}, {\"name\": \"precision_score_weighted\", \"run_id\": \"AutoML_7f0d0b56-e736-418e-811b-5b2c59d6c18b\", \"categories\": [0], \"series\": [{\"data\": [0.8823379253880681]}]}, {\"name\": \"precision_score_micro\", \"run_id\": \"AutoML_7f0d0b56-e736-418e-811b-5b2c59d6c18b\", \"categories\": [0], \"series\": [{\"data\": [0.8696045197740112]}]}, {\"name\": \"weighted_accuracy\", \"run_id\": \"AutoML_7f0d0b56-e736-418e-811b-5b2c59d6c18b\", \"categories\": [0], \"series\": [{\"data\": [0.8909894276000188]}]}, {\"name\": \"log_loss\", \"run_id\": \"AutoML_7f0d0b56-e736-418e-811b-5b2c59d6c18b\", \"categories\": [0], \"series\": [{\"data\": [0.3824770658891571]}]}, {\"name\": \"average_precision_score_macro\", \"run_id\": \"AutoML_7f0d0b56-e736-418e-811b-5b2c59d6c18b\", \"categories\": [0], \"series\": [{\"data\": [0.8946453712173341]}]}, {\"name\": \"recall_score_micro\", \"run_id\": \"AutoML_7f0d0b56-e736-418e-811b-5b2c59d6c18b\", \"categories\": [0], \"series\": [{\"data\": [0.8696045197740112]}]}, {\"name\": \"matthews_correlation\", \"run_id\": \"AutoML_7f0d0b56-e736-418e-811b-5b2c59d6c18b\", \"categories\": [0], \"series\": [{\"data\": [0.7082603007554998]}]}, {\"name\": \"accuracy\", \"run_id\": \"AutoML_7f0d0b56-e736-418e-811b-5b2c59d6c18b\", \"categories\": [0], \"series\": [{\"data\": [0.8696045197740112]}]}, {\"name\": \"AUC_macro\", \"run_id\": \"AutoML_7f0d0b56-e736-418e-811b-5b2c59d6c18b\", \"categories\": [0], \"series\": [{\"data\": [0.913014396456257]}]}, {\"name\": \"norm_macro_recall\", \"run_id\": \"AutoML_7f0d0b56-e736-418e-811b-5b2c59d6c18b\", \"categories\": [0], \"series\": [{\"data\": [0.6752893133997786]}]}, {\"name\": \"balanced_accuracy\", \"run_id\": \"AutoML_7f0d0b56-e736-418e-811b-5b2c59d6c18b\", \"categories\": [0], \"series\": [{\"data\": [0.8376446566998894]}]}, {\"name\": \"f1_score_micro\", \"run_id\": \"AutoML_7f0d0b56-e736-418e-811b-5b2c59d6c18b\", \"categories\": [0], \"series\": [{\"data\": [0.8696045197740112]}]}, {\"name\": \"f1_score_macro\", \"run_id\": \"AutoML_7f0d0b56-e736-418e-811b-5b2c59d6c18b\", \"categories\": [0], \"series\": [{\"data\": [0.8420130918883105]}]}, {\"name\": \"recall_score_macro\", \"run_id\": \"AutoML_7f0d0b56-e736-418e-811b-5b2c59d6c18b\", \"categories\": [0], \"series\": [{\"data\": [0.8376446566998894]}]}, {\"name\": \"AUC_micro\", \"run_id\": \"AutoML_7f0d0b56-e736-418e-811b-5b2c59d6c18b\", \"categories\": [0], \"series\": [{\"data\": [0.916415525551406]}]}, {\"name\": \"AUC_weighted\", \"run_id\": \"AutoML_7f0d0b56-e736-418e-811b-5b2c59d6c18b\", \"categories\": [0], \"series\": [{\"data\": [0.9130143964562569]}]}, {\"name\": \"average_precision_score_micro\", \"run_id\": \"AutoML_7f0d0b56-e736-418e-811b-5b2c59d6c18b\", \"categories\": [0], \"series\": [{\"data\": [0.9181731752467938]}]}, {\"name\": \"f1_score_weighted\", \"run_id\": \"AutoML_7f0d0b56-e736-418e-811b-5b2c59d6c18b\", \"categories\": [0], \"series\": [{\"data\": [0.8639828127526371]}]}, {\"name\": \"recall_score_weighted\", \"run_id\": \"AutoML_7f0d0b56-e736-418e-811b-5b2c59d6c18b\", \"categories\": [0], \"series\": [{\"data\": [0.8696045197740112]}]}, {\"name\": \"average_precision_score_weighted\", \"run_id\": \"AutoML_7f0d0b56-e736-418e-811b-5b2c59d6c18b\", \"categories\": [0], \"series\": [{\"data\": [0.9207461462475868]}]}], \"run_logs\": \"\\nRun is completed.\", \"graph\": {}, \"widget_settings\": {\"childWidgetDisplay\": \"popup\", \"send_telemetry\": false, \"log_level\": \"INFO\", \"sdk_version\": \"1.20.0\"}, \"loading\": false}"
     },
     "metadata": {},
     "output_type": "display_data"
    },
    {
     "name": "stdout",
     "output_type": "stream",
     "text": [
      "\n",
      "Current status: FeaturesGeneration. Generating features for the dataset.\n",
      "Current status: ModelSelection. Beginning model selection.\n",
      "\n",
      "****************************************************************************************************\n",
      "DATA GUARDRAILS: \n",
      "\n",
      "TYPE:         Class balancing detection\n",
      "STATUS:       PASSED\n",
      "DESCRIPTION:  Your inputs were analyzed, and all classes are balanced in your training data.\n",
      "              Learn more about imbalanced data: https://aka.ms/AutomatedMLImbalancedData\n",
      "\n",
      "****************************************************************************************************\n",
      "\n",
      "TYPE:         Missing feature values imputation\n",
      "STATUS:       PASSED\n",
      "DESCRIPTION:  No feature missing values were detected in the training data.\n",
      "              Learn more about missing value imputation: https://aka.ms/AutomatedMLFeaturization\n",
      "\n",
      "****************************************************************************************************\n",
      "\n",
      "TYPE:         High cardinality feature detection\n",
      "STATUS:       PASSED\n",
      "DESCRIPTION:  Your inputs were analyzed, and no high cardinality features were detected.\n",
      "              Learn more about high cardinality feature handling: https://aka.ms/AutomatedMLFeaturization\n",
      "\n",
      "****************************************************************************************************\n",
      "\n",
      "****************************************************************************************************\n",
      "ITERATION: The iteration being evaluated.\n",
      "PIPELINE: A summary description of the pipeline being evaluated.\n",
      "DURATION: Time taken for the current iteration.\n",
      "METRIC: The result of computing score on the fitted pipeline.\n",
      "BEST: The best observed score thus far.\n",
      "****************************************************************************************************\n",
      "\n",
      " ITERATION   PIPELINE                                       DURATION      METRIC      BEST\n",
      "         0   MaxAbsScaler LightGBM                          0:00:57       0.8060    0.8060\n",
      "         1   MaxAbsScaler XGBoostClassifier                 0:00:56       0.8259    0.8259\n",
      "         2   MinMaxScaler RandomForest                      0:00:54       0.8294    0.8294\n",
      "         6   StandardScalerWrapper RandomForest             0:00:52       0.8359    0.8359\n",
      "         7   MinMaxScaler SVM                               0:00:49       0.7124    0.8359\n",
      "         4   MinMaxScaler RandomForest                      0:03:40       0.8293    0.8359\n",
      "         3   MinMaxScaler RandomForest                      0:03:42       0.8359    0.8359\n",
      "         5   StandardScalerWrapper XGBoostClassifier        0:03:39       0.8292    0.8359\n",
      "         8   MaxAbsScaler LightGBM                          0:00:51       0.8360    0.8360\n",
      "        10   SparseNormalizer GradientBoosting              0:00:52       0.8328    0.8360\n",
      "         9   SparseNormalizer XGBoostClassifier             0:00:52       0.8094    0.8360\n",
      "        11   StandardScalerWrapper LightGBM                 0:00:56       0.8394    0.8394\n",
      "        12   SparseNormalizer LightGBM                      0:00:56       0.7360    0.8394\n",
      "        13   SparseNormalizer LightGBM                      0:00:52       0.8330    0.8394\n",
      "        14   StandardScalerWrapper LightGBM                 0:00:53       0.8359    0.8394\n",
      "        15   StandardScalerWrapper LightGBM                 0:00:48       0.8294    0.8394\n",
      "        16   SparseNormalizer XGBoostClassifier             0:00:50       0.8397    0.8397\n",
      "        17   StandardScalerWrapper LightGBM                 0:01:04       0.8327    0.8397\n",
      "        19   SparseNormalizer XGBoostClassifier             0:00:52       0.8428    0.8428\n",
      "        18   SparseNormalizer LightGBM                      0:01:05       0.8328    0.8428\n",
      "        20   MaxAbsScaler LightGBM                          0:00:49       0.8393    0.8428\n",
      "        21   StandardScalerWrapper RandomForest             0:00:50       0.8327    0.8428\n",
      "        22   MinMaxScaler LightGBM                          0:00:53       0.8258    0.8428\n",
      "        23   StandardScalerWrapper XGBoostClassifier        0:00:55       0.8327    0.8428\n",
      "        24   MaxAbsScaler ExtremeRandomTrees                0:00:51       0.8227    0.8428\n",
      "        25   PCA XGBoostClassifier                          0:00:56       0.6791    0.8428\n",
      "        26   SparseNormalizer RandomForest                  0:00:56       0.8095    0.8428\n",
      "        27   StandardScalerWrapper LightGBM                 0:00:51       0.8260    0.8428\n",
      "        28   SparseNormalizer LightGBM                      0:00:55       0.8228    0.8428\n",
      "        29   StandardScalerWrapper LightGBM                 0:00:50       0.8427    0.8428\n",
      "        30   SparseNormalizer XGBoostClassifier             0:00:46       0.6791    0.8428\n",
      "        31   MaxAbsScaler LightGBM                          0:00:50       0.8259    0.8428\n",
      "        32   StandardScalerWrapper LightGBM                 0:00:49       0.8159    0.8428\n",
      "        33                                                  0:00:10          nan    0.8428\n",
      "        34                                                  0:00:19          nan    0.8428\n",
      "        35                                                  0:00:16          nan    0.8428\n",
      "        36    VotingEnsemble                                0:01:39       0.8696    0.8696\n"
     ]
    },
    {
     "data": {
      "text/plain": [
       "{'runId': 'AutoML_7f0d0b56-e736-418e-811b-5b2c59d6c18b',\n",
       " 'target': 'capstone-cluster',\n",
       " 'status': 'Completed',\n",
       " 'startTimeUtc': '2021-02-13T10:30:06.269658Z',\n",
       " 'endTimeUtc': '2021-02-13T10:53:43.411727Z',\n",
       " 'properties': {'num_iterations': '1000',\n",
       "  'training_type': 'TrainFull',\n",
       "  'acquisition_function': 'EI',\n",
       "  'primary_metric': 'accuracy',\n",
       "  'train_split': '0',\n",
       "  'acquisition_parameter': '0',\n",
       "  'num_cross_validation': '5',\n",
       "  'target': 'capstone-cluster',\n",
       "  'AMLSettingsJsonString': '{\"path\":null,\"name\":\"automl_heart_failure_prediction\",\"subscription_id\":\"9a7511b8-150f-4a58-8528-3e7d50216c31\",\"resource_group\":\"aml-quickstarts-138775\",\"workspace_name\":\"quick-starts-ws-138775\",\"region\":\"southcentralus\",\"compute_target\":\"capstone-cluster\",\"spark_service\":null,\"azure_service\":\"remote\",\"many_models\":false,\"pipeline_fetch_max_batch_size\":1,\"iterations\":1000,\"primary_metric\":\"accuracy\",\"task_type\":\"classification\",\"data_script\":null,\"validation_size\":0.0,\"n_cross_validations\":5,\"y_min\":null,\"y_max\":null,\"num_classes\":null,\"featurization\":\"auto\",\"_ignore_package_version_incompatibilities\":false,\"is_timeseries\":false,\"max_cores_per_iteration\":1,\"max_concurrent_iterations\":4,\"iteration_timeout_minutes\":null,\"mem_in_mb\":null,\"enforce_time_on_windows\":false,\"experiment_timeout_minutes\":30,\"experiment_exit_score\":null,\"whitelist_models\":null,\"blacklist_algos\":[\"TensorFlowLinearClassifier\",\"TensorFlowDNN\"],\"supported_models\":[\"MultinomialNaiveBayes\",\"LogisticRegression\",\"LightGBM\",\"DecisionTree\",\"TensorFlowDNN\",\"KNN\",\"ExtremeRandomTrees\",\"GradientBoosting\",\"LinearSVM\",\"AveragedPerceptronClassifier\",\"BernoulliNaiveBayes\",\"RandomForest\",\"SGD\",\"XGBoostClassifier\",\"TensorFlowLinearClassifier\",\"SVM\"],\"auto_blacklist\":true,\"blacklist_samples_reached\":false,\"exclude_nan_labels\":true,\"verbosity\":20,\"_debug_log\":\"azureml_automl.log\",\"show_warnings\":false,\"model_explainability\":true,\"service_url\":null,\"sdk_url\":null,\"sdk_packages\":null,\"enable_onnx_compatible_models\":true,\"enable_split_onnx_featurizer_estimator_models\":false,\"vm_type\":\"STANDARD_D2_V2\",\"telemetry_verbosity\":20,\"send_telemetry\":true,\"enable_dnn\":false,\"scenario\":\"SDK-1.13.0\",\"environment_label\":null,\"force_text_dnn\":false,\"enable_feature_sweeping\":false,\"enable_early_stopping\":true,\"early_stopping_n_iters\":10,\"metrics\":null,\"enable_ensembling\":true,\"enable_stack_ensembling\":false,\"ensemble_iterations\":15,\"enable_tf\":false,\"enable_subsampling\":null,\"subsample_seed\":null,\"enable_nimbusml\":false,\"enable_streaming\":false,\"force_streaming\":false,\"track_child_runs\":true,\"allowed_private_models\":[],\"label_column_name\":\"DEATH_EVENT\",\"weight_column_name\":null,\"cv_split_column_names\":null,\"enable_local_managed\":false,\"_local_managed_run_id\":null,\"cost_mode\":1,\"lag_length\":0,\"metric_operation\":\"maximize\",\"preprocess\":true}',\n",
       "  'DataPrepJsonString': '{\\\\\"training_data\\\\\": \\\\\"{\\\\\\\\\\\\\"blocks\\\\\\\\\\\\\": [{\\\\\\\\\\\\\"id\\\\\\\\\\\\\": \\\\\\\\\\\\\"aa523fcd-b697-4fc8-87f1-b016c14e6399\\\\\\\\\\\\\", \\\\\\\\\\\\\"type\\\\\\\\\\\\\": \\\\\\\\\\\\\"Microsoft.DPrep.GetDatastoreFilesBlock\\\\\\\\\\\\\", \\\\\\\\\\\\\"arguments\\\\\\\\\\\\\": {\\\\\\\\\\\\\"datastores\\\\\\\\\\\\\": [{\\\\\\\\\\\\\"datastoreName\\\\\\\\\\\\\": \\\\\\\\\\\\\"workspaceblobstore\\\\\\\\\\\\\", \\\\\\\\\\\\\"path\\\\\\\\\\\\\": \\\\\\\\\\\\\"UI/02-13-2021_084413_UTC/heart_failure_clinical_records_dataset.csv\\\\\\\\\\\\\", \\\\\\\\\\\\\"resourceGroup\\\\\\\\\\\\\": \\\\\\\\\\\\\"aml-quickstarts-138775\\\\\\\\\\\\\", \\\\\\\\\\\\\"subscription\\\\\\\\\\\\\": \\\\\\\\\\\\\"9a7511b8-150f-4a58-8528-3e7d50216c31\\\\\\\\\\\\\", \\\\\\\\\\\\\"workspaceName\\\\\\\\\\\\\": \\\\\\\\\\\\\"quick-starts-ws-138775\\\\\\\\\\\\\"}]}, \\\\\\\\\\\\\"localData\\\\\\\\\\\\\": {}, \\\\\\\\\\\\\"isEnabled\\\\\\\\\\\\\": true, \\\\\\\\\\\\\"name\\\\\\\\\\\\\": null, \\\\\\\\\\\\\"annotation\\\\\\\\\\\\\": null}, {\\\\\\\\\\\\\"id\\\\\\\\\\\\\": \\\\\\\\\\\\\"c2b2ce48-990c-45ae-9d30-a0cdb67c79b4\\\\\\\\\\\\\", \\\\\\\\\\\\\"type\\\\\\\\\\\\\": \\\\\\\\\\\\\"Microsoft.DPrep.ParseDelimitedBlock\\\\\\\\\\\\\", \\\\\\\\\\\\\"arguments\\\\\\\\\\\\\": {\\\\\\\\\\\\\"columnHeadersMode\\\\\\\\\\\\\": 1, \\\\\\\\\\\\\"fileEncoding\\\\\\\\\\\\\": 0, \\\\\\\\\\\\\"handleQuotedLineBreaks\\\\\\\\\\\\\": false, \\\\\\\\\\\\\"preview\\\\\\\\\\\\\": false, \\\\\\\\\\\\\"separator\\\\\\\\\\\\\": \\\\\\\\\\\\\",\\\\\\\\\\\\\", \\\\\\\\\\\\\"skipRows\\\\\\\\\\\\\": 0, \\\\\\\\\\\\\"skipRowsMode\\\\\\\\\\\\\": 0}, \\\\\\\\\\\\\"localData\\\\\\\\\\\\\": {}, \\\\\\\\\\\\\"isEnabled\\\\\\\\\\\\\": true, \\\\\\\\\\\\\"name\\\\\\\\\\\\\": null, \\\\\\\\\\\\\"annotation\\\\\\\\\\\\\": null}, {\\\\\\\\\\\\\"id\\\\\\\\\\\\\": \\\\\\\\\\\\\"f1e7afbf-86d6-47d0-b0df-7a83116d1940\\\\\\\\\\\\\", \\\\\\\\\\\\\"type\\\\\\\\\\\\\": \\\\\\\\\\\\\"Microsoft.DPrep.DropColumnsBlock\\\\\\\\\\\\\", \\\\\\\\\\\\\"arguments\\\\\\\\\\\\\": {\\\\\\\\\\\\\"columns\\\\\\\\\\\\\": {\\\\\\\\\\\\\"type\\\\\\\\\\\\\": 0, \\\\\\\\\\\\\"details\\\\\\\\\\\\\": {\\\\\\\\\\\\\"selectedColumns\\\\\\\\\\\\\": [\\\\\\\\\\\\\"Path\\\\\\\\\\\\\"]}}}, \\\\\\\\\\\\\"localData\\\\\\\\\\\\\": {}, \\\\\\\\\\\\\"isEnabled\\\\\\\\\\\\\": true, \\\\\\\\\\\\\"name\\\\\\\\\\\\\": null, \\\\\\\\\\\\\"annotation\\\\\\\\\\\\\": null}, {\\\\\\\\\\\\\"id\\\\\\\\\\\\\": \\\\\\\\\\\\\"fd8bf91a-0b1a-4ff9-8d02-b666ba0cd5f8\\\\\\\\\\\\\", \\\\\\\\\\\\\"type\\\\\\\\\\\\\": \\\\\\\\\\\\\"Microsoft.DPrep.SetColumnTypesBlock\\\\\\\\\\\\\", \\\\\\\\\\\\\"arguments\\\\\\\\\\\\\": {\\\\\\\\\\\\\"columnConversion\\\\\\\\\\\\\": [{\\\\\\\\\\\\\"column\\\\\\\\\\\\\": {\\\\\\\\\\\\\"type\\\\\\\\\\\\\": 2, \\\\\\\\\\\\\"details\\\\\\\\\\\\\": {\\\\\\\\\\\\\"selectedColumn\\\\\\\\\\\\\": \\\\\\\\\\\\\"Path\\\\\\\\\\\\\"}}, \\\\\\\\\\\\\"typeProperty\\\\\\\\\\\\\": 0}, {\\\\\\\\\\\\\"column\\\\\\\\\\\\\": {\\\\\\\\\\\\\"type\\\\\\\\\\\\\": 2, \\\\\\\\\\\\\"details\\\\\\\\\\\\\": {\\\\\\\\\\\\\"selectedColumn\\\\\\\\\\\\\": \\\\\\\\\\\\\"age\\\\\\\\\\\\\"}}, \\\\\\\\\\\\\"typeProperty\\\\\\\\\\\\\": 3}, {\\\\\\\\\\\\\"column\\\\\\\\\\\\\": {\\\\\\\\\\\\\"type\\\\\\\\\\\\\": 2, \\\\\\\\\\\\\"details\\\\\\\\\\\\\": {\\\\\\\\\\\\\"selectedColumn\\\\\\\\\\\\\": \\\\\\\\\\\\\"anaemia\\\\\\\\\\\\\"}}, \\\\\\\\\\\\\"typeProperty\\\\\\\\\\\\\": 2}, {\\\\\\\\\\\\\"column\\\\\\\\\\\\\": {\\\\\\\\\\\\\"type\\\\\\\\\\\\\": 2, \\\\\\\\\\\\\"details\\\\\\\\\\\\\": {\\\\\\\\\\\\\"selectedColumn\\\\\\\\\\\\\": \\\\\\\\\\\\\"creatinine_phosphokinase\\\\\\\\\\\\\"}}, \\\\\\\\\\\\\"typeProperty\\\\\\\\\\\\\": 2}, {\\\\\\\\\\\\\"column\\\\\\\\\\\\\": {\\\\\\\\\\\\\"type\\\\\\\\\\\\\": 2, \\\\\\\\\\\\\"details\\\\\\\\\\\\\": {\\\\\\\\\\\\\"selectedColumn\\\\\\\\\\\\\": \\\\\\\\\\\\\"diabetes\\\\\\\\\\\\\"}}, \\\\\\\\\\\\\"typeProperty\\\\\\\\\\\\\": 2}, {\\\\\\\\\\\\\"column\\\\\\\\\\\\\": {\\\\\\\\\\\\\"type\\\\\\\\\\\\\": 2, \\\\\\\\\\\\\"details\\\\\\\\\\\\\": {\\\\\\\\\\\\\"selectedColumn\\\\\\\\\\\\\": \\\\\\\\\\\\\"ejection_fraction\\\\\\\\\\\\\"}}, \\\\\\\\\\\\\"typeProperty\\\\\\\\\\\\\": 2}, {\\\\\\\\\\\\\"column\\\\\\\\\\\\\": {\\\\\\\\\\\\\"type\\\\\\\\\\\\\": 2, \\\\\\\\\\\\\"details\\\\\\\\\\\\\": {\\\\\\\\\\\\\"selectedColumn\\\\\\\\\\\\\": \\\\\\\\\\\\\"high_blood_pressure\\\\\\\\\\\\\"}}, \\\\\\\\\\\\\"typeProperty\\\\\\\\\\\\\": 2}, {\\\\\\\\\\\\\"column\\\\\\\\\\\\\": {\\\\\\\\\\\\\"type\\\\\\\\\\\\\": 2, \\\\\\\\\\\\\"details\\\\\\\\\\\\\": {\\\\\\\\\\\\\"selectedColumn\\\\\\\\\\\\\": \\\\\\\\\\\\\"platelets\\\\\\\\\\\\\"}}, \\\\\\\\\\\\\"typeProperty\\\\\\\\\\\\\": 3}, {\\\\\\\\\\\\\"column\\\\\\\\\\\\\": {\\\\\\\\\\\\\"type\\\\\\\\\\\\\": 2, \\\\\\\\\\\\\"details\\\\\\\\\\\\\": {\\\\\\\\\\\\\"selectedColumn\\\\\\\\\\\\\": \\\\\\\\\\\\\"serum_creatinine\\\\\\\\\\\\\"}}, \\\\\\\\\\\\\"typeProperty\\\\\\\\\\\\\": 3}, {\\\\\\\\\\\\\"column\\\\\\\\\\\\\": {\\\\\\\\\\\\\"type\\\\\\\\\\\\\": 2, \\\\\\\\\\\\\"details\\\\\\\\\\\\\": {\\\\\\\\\\\\\"selectedColumn\\\\\\\\\\\\\": \\\\\\\\\\\\\"serum_sodium\\\\\\\\\\\\\"}}, \\\\\\\\\\\\\"typeProperty\\\\\\\\\\\\\": 2}, {\\\\\\\\\\\\\"column\\\\\\\\\\\\\": {\\\\\\\\\\\\\"type\\\\\\\\\\\\\": 2, \\\\\\\\\\\\\"details\\\\\\\\\\\\\": {\\\\\\\\\\\\\"selectedColumn\\\\\\\\\\\\\": \\\\\\\\\\\\\"sex\\\\\\\\\\\\\"}}, \\\\\\\\\\\\\"typeProperty\\\\\\\\\\\\\": 2}, {\\\\\\\\\\\\\"column\\\\\\\\\\\\\": {\\\\\\\\\\\\\"type\\\\\\\\\\\\\": 2, \\\\\\\\\\\\\"details\\\\\\\\\\\\\": {\\\\\\\\\\\\\"selectedColumn\\\\\\\\\\\\\": \\\\\\\\\\\\\"smoking\\\\\\\\\\\\\"}}, \\\\\\\\\\\\\"typeProperty\\\\\\\\\\\\\": 2}, {\\\\\\\\\\\\\"column\\\\\\\\\\\\\": {\\\\\\\\\\\\\"type\\\\\\\\\\\\\": 2, \\\\\\\\\\\\\"details\\\\\\\\\\\\\": {\\\\\\\\\\\\\"selectedColumn\\\\\\\\\\\\\": \\\\\\\\\\\\\"time\\\\\\\\\\\\\"}}, \\\\\\\\\\\\\"typeProperty\\\\\\\\\\\\\": 2}, {\\\\\\\\\\\\\"column\\\\\\\\\\\\\": {\\\\\\\\\\\\\"type\\\\\\\\\\\\\": 2, \\\\\\\\\\\\\"details\\\\\\\\\\\\\": {\\\\\\\\\\\\\"selectedColumn\\\\\\\\\\\\\": \\\\\\\\\\\\\"DEATH_EVENT\\\\\\\\\\\\\"}}, \\\\\\\\\\\\\"typeProperty\\\\\\\\\\\\\": 2}]}, \\\\\\\\\\\\\"localData\\\\\\\\\\\\\": {}, \\\\\\\\\\\\\"isEnabled\\\\\\\\\\\\\": true, \\\\\\\\\\\\\"name\\\\\\\\\\\\\": null, \\\\\\\\\\\\\"annotation\\\\\\\\\\\\\": null}], \\\\\\\\\\\\\"inspectors\\\\\\\\\\\\\": [], \\\\\\\\\\\\\"meta\\\\\\\\\\\\\": {\\\\\\\\\\\\\"savedDatasetId\\\\\\\\\\\\\": \\\\\\\\\\\\\"0c96782e-0258-4c0a-9dea-9f9c95b361f9\\\\\\\\\\\\\", \\\\\\\\\\\\\"datasetType\\\\\\\\\\\\\": \\\\\\\\\\\\\"tabular\\\\\\\\\\\\\", \\\\\\\\\\\\\"subscriptionId\\\\\\\\\\\\\": \\\\\\\\\\\\\"9a7511b8-150f-4a58-8528-3e7d50216c31\\\\\\\\\\\\\", \\\\\\\\\\\\\"workspaceId\\\\\\\\\\\\\": \\\\\\\\\\\\\"f2bde532-32a8-4947-b904-a185c1249d7c\\\\\\\\\\\\\", \\\\\\\\\\\\\"workspaceLocation\\\\\\\\\\\\\": \\\\\\\\\\\\\"southcentralus\\\\\\\\\\\\\"}}\\\\\", \\\\\"activities\\\\\": 0}',\n",
       "  'EnableSubsampling': None,\n",
       "  'runTemplate': 'AutoML',\n",
       "  'azureml.runsource': 'automl',\n",
       "  'display_task_type': 'classification',\n",
       "  'dependencies_versions': '{\"azureml-widgets\": \"1.20.0\", \"azureml-train\": \"1.20.0\", \"azureml-train-restclients-hyperdrive\": \"1.20.0\", \"azureml-train-core\": \"1.20.0\", \"azureml-train-automl\": \"1.20.0\", \"azureml-train-automl-runtime\": \"1.20.0\", \"azureml-train-automl-client\": \"1.20.0\", \"azureml-tensorboard\": \"1.20.0\", \"azureml-telemetry\": \"1.20.0\", \"azureml-sdk\": \"1.20.0\", \"azureml-samples\": \"0+unknown\", \"azureml-pipeline\": \"1.20.0\", \"azureml-pipeline-steps\": \"1.20.0\", \"azureml-pipeline-core\": \"1.20.0\", \"azureml-opendatasets\": \"1.20.0\", \"azureml-model-management-sdk\": \"1.0.1b6.post1\", \"azureml-mlflow\": \"1.20.0.post1\", \"azureml-interpret\": \"1.20.0\", \"azureml-explain-model\": \"1.20.0\", \"azureml-defaults\": \"1.20.0\", \"azureml-dataset-runtime\": \"1.20.0\", \"azureml-dataprep\": \"2.7.3\", \"azureml-dataprep-rslex\": \"1.5.0\", \"azureml-dataprep-native\": \"27.0.0\", \"azureml-datadrift\": \"1.20.0\", \"azureml-core\": \"1.20.0\", \"azureml-contrib-services\": \"1.20.0\", \"azureml-contrib-server\": \"1.20.0\", \"azureml-contrib-reinforcementlearning\": \"1.20.0\", \"azureml-contrib-pipeline-steps\": \"1.20.0\", \"azureml-contrib-notebook\": \"1.20.0\", \"azureml-contrib-interpret\": \"1.20.0\", \"azureml-contrib-gbdt\": \"1.20.0\", \"azureml-contrib-fairness\": \"1.20.0\", \"azureml-contrib-dataset\": \"1.20.0\", \"azureml-cli-common\": \"1.20.0\", \"azureml-automl-runtime\": \"1.20.0\", \"azureml-automl-core\": \"1.20.0\", \"azureml-accel-models\": \"1.20.0\"}',\n",
       "  '_aml_system_scenario_identification': 'Remote.Parent',\n",
       "  'ClientType': 'SDK',\n",
       "  'environment_cpu_name': 'AzureML-AutoML',\n",
       "  'environment_cpu_label': 'prod',\n",
       "  'environment_gpu_name': 'AzureML-AutoML-GPU',\n",
       "  'environment_gpu_label': 'prod',\n",
       "  'root_attribution': 'automl',\n",
       "  'attribution': 'AutoML',\n",
       "  'Orchestrator': 'AutoML',\n",
       "  'CancelUri': 'https://southcentralus.experiments.azureml.net/jasmine/v1.0/subscriptions/9a7511b8-150f-4a58-8528-3e7d50216c31/resourceGroups/aml-quickstarts-138775/providers/Microsoft.MachineLearningServices/workspaces/quick-starts-ws-138775/experimentids/6560db26-8fa4-4dc1-abd6-43e083d51108/cancel/AutoML_7f0d0b56-e736-418e-811b-5b2c59d6c18b',\n",
       "  'ClientSdkVersion': '1.21.0',\n",
       "  'snapshotId': '00000000-0000-0000-0000-000000000000',\n",
       "  'SetupRunId': 'AutoML_7f0d0b56-e736-418e-811b-5b2c59d6c18b_setup',\n",
       "  'SetupRunContainerId': 'dcid.AutoML_7f0d0b56-e736-418e-811b-5b2c59d6c18b_setup',\n",
       "  'FeaturizationRunJsonPath': 'featurizer_container.json',\n",
       "  'FeaturizationRunId': 'AutoML_7f0d0b56-e736-418e-811b-5b2c59d6c18b_featurize',\n",
       "  'ProblemInfoJsonString': '{\"dataset_num_categorical\": 0, \"is_sparse\": false, \"subsampling\": false, \"dataset_classes\": 2, \"dataset_features\": 12, \"dataset_samples\": 299, \"single_frequency_class_detected\": false}',\n",
       "  'ModelExplainRunId': 'AutoML_7f0d0b56-e736-418e-811b-5b2c59d6c18b_ModelExplain'},\n",
       " 'inputDatasets': [{'dataset': {'id': '0c96782e-0258-4c0a-9dea-9f9c95b361f9'}, 'consumptionDetails': {'type': 'RunInput', 'inputName': 'training_data', 'mechanism': 'Direct'}}],\n",
       " 'outputDatasets': [],\n",
       " 'logFiles': {},\n",
       " 'submittedBy': 'ODL_User 138775'}"
      ]
     },
     "execution_count": 10,
     "metadata": {},
     "output_type": "execute_result"
    }
   ],
   "source": [
    "from azureml.widgets import RunDetails\n",
    "RunDetails(remote_run).show()\n",
    "\n",
    "remote_run.wait_for_completion(show_output=True)"
   ]
  },
  {
   "cell_type": "markdown",
   "metadata": {},
   "source": [
    "## Best Model\n",
    "\n",
    "Get the best model from the automl experiments and display all the properties of the model."
   ]
  },
  {
   "cell_type": "code",
   "execution_count": 11,
   "metadata": {
    "gather": {
     "logged": 1612988291119
    },
    "jupyter": {
     "outputs_hidden": false,
     "source_hidden": false
    },
    "nteract": {
     "transient": {
      "deleting": false
     }
    }
   },
   "outputs": [
    {
     "name": "stderr",
     "output_type": "stream",
     "text": [
      "WARNING:root:The version of the SDK does not match the version the model was trained on.\n",
      "WARNING:root:The consistency in the result may not be guaranteed.\n",
      "WARNING:root:Package:azureml-automl-core, training version:1.21.0, current version:1.20.0\n",
      "Package:azureml-automl-runtime, training version:1.21.0, current version:1.20.0\n",
      "Package:azureml-core, training version:1.21.0.post1, current version:1.20.0\n",
      "Package:azureml-dataprep, training version:2.8.2, current version:2.7.3\n",
      "Package:azureml-dataprep-native, training version:28.0.0, current version:27.0.0\n",
      "Package:azureml-dataprep-rslex, training version:1.6.0, current version:1.5.0\n",
      "Package:azureml-dataset-runtime, training version:1.21.0, current version:1.20.0\n",
      "Package:azureml-defaults, training version:1.21.0, current version:1.20.0\n",
      "Package:azureml-interpret, training version:1.21.0, current version:1.20.0\n",
      "Package:azureml-pipeline-core, training version:1.21.0, current version:1.20.0\n",
      "Package:azureml-telemetry, training version:1.21.0, current version:1.20.0\n",
      "Package:azureml-train-automl-client, training version:1.21.0, current version:1.20.0\n",
      "Package:azureml-train-automl-runtime, training version:1.21.0, current version:1.20.0\n",
      "WARNING:root:Please ensure the version of your local conda dependencies match the version on which your model was trained in order to properly retrieve your model.\n"
     ]
    }
   ],
   "source": [
    "automl_best_run, automl_fitted_model = remote_run.get_output()"
   ]
  },
  {
   "cell_type": "code",
   "execution_count": 12,
   "metadata": {
    "gather": {
     "logged": 1612982851959
    }
   },
   "outputs": [
    {
     "data": {
      "text/plain": [
       "{'precision_score_macro': 0.8732408890805944,\n",
       " 'f1_score_macro': 0.8420130918883105,\n",
       " 'recall_score_weighted': 0.8696045197740112,\n",
       " 'AUC_micro': 0.916415525551406,\n",
       " 'average_precision_score_weighted': 0.9207461462475868,\n",
       " 'AUC_weighted': 0.9130143964562569,\n",
       " 'recall_score_macro': 0.8376446566998894,\n",
       " 'average_precision_score_micro': 0.9181731752467938,\n",
       " 'balanced_accuracy': 0.8376446566998894,\n",
       " 'f1_score_micro': 0.8696045197740112,\n",
       " 'average_precision_score_macro': 0.8946453712173341,\n",
       " 'precision_score_weighted': 0.8823379253880681,\n",
       " 'accuracy': 0.8696045197740112,\n",
       " 'weighted_accuracy': 0.8909894276000188,\n",
       " 'norm_macro_recall': 0.6752893133997786,\n",
       " 'recall_score_micro': 0.8696045197740112,\n",
       " 'matthews_correlation': 0.7082603007554998,\n",
       " 'f1_score_weighted': 0.8639828127526371,\n",
       " 'AUC_macro': 0.913014396456257,\n",
       " 'precision_score_micro': 0.8696045197740112,\n",
       " 'log_loss': 0.3824770658891571,\n",
       " 'confusion_matrix': 'aml://artifactId/ExperimentRun/dcid.AutoML_7f0d0b56-e736-418e-811b-5b2c59d6c18b_36/confusion_matrix',\n",
       " 'accuracy_table': 'aml://artifactId/ExperimentRun/dcid.AutoML_7f0d0b56-e736-418e-811b-5b2c59d6c18b_36/accuracy_table'}"
      ]
     },
     "execution_count": 12,
     "metadata": {},
     "output_type": "execute_result"
    }
   ],
   "source": [
    "automl_best_run.get_metrics()"
   ]
  },
  {
   "cell_type": "code",
   "execution_count": 13,
   "metadata": {
    "gather": {
     "logged": 1612982864390
    }
   },
   "outputs": [
    {
     "name": "stdout",
     "output_type": "stream",
     "text": [
      "Run(Experiment: automl_heart_failure_prediction,\n",
      "Id: AutoML_7f0d0b56-e736-418e-811b-5b2c59d6c18b_36,\n",
      "Type: azureml.scriptrun,\n",
      "Status: Completed)\n"
     ]
    }
   ],
   "source": [
    "print(automl_best_run)"
   ]
  },
  {
   "cell_type": "code",
   "execution_count": 14,
   "metadata": {
    "gather": {
     "logged": 1612982869417
    }
   },
   "outputs": [
    {
     "name": "stdout",
     "output_type": "stream",
     "text": [
      "Pipeline(memory=None,\n",
      "         steps=[('datatransformer',\n",
      "                 DataTransformer(enable_dnn=None, enable_feature_sweeping=None,\n",
      "                                 feature_sweeping_config=None,\n",
      "                                 feature_sweeping_timeout=None,\n",
      "                                 featurization_config=None, force_text_dnn=None,\n",
      "                                 is_cross_validation=None,\n",
      "                                 is_onnx_compatible=None, logger=None,\n",
      "                                 observer=None, task=None, working_dir=None)),\n",
      "                ('prefittedsoftvotingclassifier',...\n",
      "                                                                                                min_child_weight=2,\n",
      "                                                                                                min_split_gain=0,\n",
      "                                                                                                n_estimators=25,\n",
      "                                                                                                n_jobs=1,\n",
      "                                                                                                num_leaves=128,\n",
      "                                                                                                objective=None,\n",
      "                                                                                                random_state=None,\n",
      "                                                                                                reg_alpha=0.6842105263157894,\n",
      "                                                                                                reg_lambda=0.9473684210526315,\n",
      "                                                                                                silent=True,\n",
      "                                                                                                subsample=0.9405263157894738,\n",
      "                                                                                                subsample_for_bin=200000,\n",
      "                                                                                                subsample_freq=0,\n",
      "                                                                                                verbose=-10))],\n",
      "                                                                     verbose=False))],\n",
      "                                               flatten_transform=None,\n",
      "                                               weights=[0.2, 0.1, 0.1, 0.2, 0.1,\n",
      "                                                        0.1, 0.1, 0.1]))],\n",
      "         verbose=False)\n"
     ]
    }
   ],
   "source": [
    "print(automl_fitted_model)"
   ]
  },
  {
   "cell_type": "code",
   "execution_count": 15,
   "metadata": {
    "gather": {
     "logged": 1612982878939
    }
   },
   "outputs": [
    {
     "data": {
      "text/plain": [
       "['output/best-automl.pkl']"
      ]
     },
     "execution_count": 15,
     "metadata": {},
     "output_type": "execute_result"
    }
   ],
   "source": [
    "# Retrieve and save your best automl model.\n",
    "\n",
    "os.makedirs('output', exist_ok=True)\n",
    "\n",
    "joblib.dump(value = automl_fitted_model, filename = 'output/best-automl.pkl')"
   ]
  },
  {
   "cell_type": "code",
   "execution_count": 16,
   "metadata": {
    "gather": {
     "logged": 1612728442620
    },
    "jupyter": {
     "outputs_hidden": false,
     "source_hidden": false
    },
    "nteract": {
     "transient": {
      "deleting": false
     }
    }
   },
   "outputs": [
    {
     "name": "stdout",
     "output_type": "stream",
     "text": [
      "Registering model automl-best-model\n"
     ]
    }
   ],
   "source": [
    "model = Model.register(workspace = ws,\n",
    "                        model_path = 'output/best-automl.pkl',\n",
    "                        model_name = 'automl-best-model')\n",
    "\n",
    "automl_best_run.download_file(constants.CONDA_ENV_FILE_PATH, 'my-conda-env.yml')"
   ]
  },
  {
   "cell_type": "markdown",
   "metadata": {},
   "source": [
    "## Model Deployment\n",
    "\n",
    "Register the model, create an inference config and deploy the model as a web service."
   ]
  },
  {
   "cell_type": "code",
   "execution_count": 17,
   "metadata": {
    "gather": {
     "logged": 1612729545664
    }
   },
   "outputs": [
    {
     "name": "stdout",
     "output_type": "stream",
     "text": [
      "Tips: You can try get_logs(): https://aka.ms/debugimage#dockerlog or local deployment: https://aka.ms/debugimage#debug-locally to debug if deployment takes longer than 10 minutes.\n",
      "Running...............................................................................................................................................................................................................................................................\n",
      "Succeeded\n",
      "ACI service creation operation finished, operation \"Succeeded\"\n"
     ]
    }
   ],
   "source": [
    "env = Environment.from_conda_specification('my-conda-env', 'my-conda-env.yml')\n",
    "\n",
    "inference_config = InferenceConfig(entry_script='score.py', environment=env)\n",
    "\n",
    "aci_config = AciWebservice.deploy_configuration(cpu_cores = 1, \n",
    "                                                memory_gb = 1,\n",
    "                                                auth_enabled = True, \n",
    "                                                enable_app_insights = True,\n",
    "                                                tags = {'name':'Heart failure prediction'},\n",
    "                                                description='Heart failure prediction model')\n",
    "\n",
    "service = model.deploy(workspace = ws, \n",
    "                       name = 'predict-heart-failure', \n",
    "                       models = [model], \n",
    "                       inference_config = inference_config,\n",
    "                       deployment_config = aci_config)\n",
    "\n",
    "service.wait_for_deployment(show_output=True)"
   ]
  },
  {
   "cell_type": "code",
   "execution_count": 18,
   "metadata": {
    "gather": {
     "logged": 1612729545977
    }
   },
   "outputs": [
    {
     "name": "stdout",
     "output_type": "stream",
     "text": [
      "Healthy\n"
     ]
    }
   ],
   "source": [
    "print(service.state)"
   ]
  },
  {
   "cell_type": "code",
   "execution_count": null,
   "metadata": {
    "gather": {
     "logged": 1612729552754
    }
   },
   "outputs": [],
   "source": [
    "# print(\"scoring URI: \" + service.scoring_uri)\n",
    "\n",
    "# print(\"Swagger URI: \" + service.swagger_uri)\n",
    "\n",
    "# print(\"Authetication Key: \" + service.get_keys()[0])"
   ]
  },
  {
   "cell_type": "markdown",
   "metadata": {
    "collapsed": true,
    "gather": {
     "logged": 1598431657736
    },
    "jupyter": {
     "outputs_hidden": false,
     "source_hidden": false
    },
    "nteract": {
     "transient": {
      "deleting": false
     }
    }
   },
   "source": [
    "## Send a request to the web service you deployed to test it."
   ]
  },
  {
   "cell_type": "code",
   "execution_count": 21,
   "metadata": {
    "gather": {
     "logged": 1612729826957
    },
    "jupyter": {
     "outputs_hidden": false,
     "source_hidden": false
    },
    "nteract": {
     "transient": {
      "deleting": false
     }
    }
   },
   "outputs": [
    {
     "name": "stdout",
     "output_type": "stream",
     "text": [
      "[1, 0]\n"
     ]
    }
   ],
   "source": [
    "import requests\n",
    "import json\n",
    "\n",
    "scoringuri = service.scoring_uri\n",
    "key = service.get_keys()[0]\n",
    "\n",
    "data= { \"data\":\n",
    "       [\n",
    "           {\n",
    "               'age': 74,\n",
    "               'anaemia': 1,\n",
    "               'creatinine_phosphokinase': 1618,\n",
    "               'diabetes': 1,\n",
    "               'ejection_fraction': 27,\n",
    "               'high_blood_pressure': 1,\n",
    "               'platelets': 275095,\n",
    "               'serum_creatinine': 2.3,\n",
    "               'serum_sodium': 133,\n",
    "               'sex': 0,\n",
    "               'smoking': 0,\n",
    "               'time': 9\n",
    "               \n",
    "           },\n",
    "           {\n",
    "               'age': 46,\n",
    "               'anaemia': 0,\n",
    "               'creatinine_phosphokinase': 800,\n",
    "               'diabetes': 0,\n",
    "               'ejection_fraction': 48,\n",
    "               'high_blood_pressure': 1,\n",
    "               'platelets': 259000,\n",
    "               'serum_creatinine': 1.79,\n",
    "               'serum_sodium': 135,\n",
    "               'sex': 1,\n",
    "               'smoking': 0,\n",
    "               'time': 107\n",
    "           }\n",
    "       ]\n",
    "    }\n",
    "input_data = json.dumps(data)\n",
    "\n",
    "headers = {'Content-Type': 'application/json'}\n",
    "headers['Authorization'] = f'Bearer {key}'\n",
    "\n",
    "response = requests.post(scoringuri, input_data, headers = headers)\n",
    "print(response.text)"
   ]
  },
  {
   "cell_type": "markdown",
   "metadata": {},
   "source": [
    "## Convert model to ONNX format"
   ]
  },
  {
   "cell_type": "code",
   "execution_count": 20,
   "metadata": {},
   "outputs": [],
   "source": [
    "from azureml.automl.runtime.onnx_convert import OnnxConverter\n",
    "\n",
    "automl_best_run_onnx, automl_fitted_model_onnx = remote_run.get_output(return_onnx_model=True)\n",
    "\n",
    "OnnxConverter.save_onnx_model(automl_fitted_model_onnx, './output/best_automl_model.onnx')"
   ]
  },
  {
   "cell_type": "markdown",
   "metadata": {
    "collapsed": true,
    "gather": {
     "logged": 1598432765711
    },
    "jupyter": {
     "outputs_hidden": false,
     "source_hidden": false
    },
    "nteract": {
     "transient": {
      "deleting": false
     }
    }
   },
   "source": [
    "## Print the logs of the web service and delete the service"
   ]
  },
  {
   "cell_type": "code",
   "execution_count": 22,
   "metadata": {
    "gather": {
     "logged": 1612729854945
    },
    "jupyter": {
     "outputs_hidden": false,
     "source_hidden": false
    },
    "nteract": {
     "transient": {
      "deleting": false
     }
    }
   },
   "outputs": [
    {
     "name": "stdout",
     "output_type": "stream",
     "text": [
      "/usr/sbin/nginx: /azureml-envs/azureml_7785023fceb74e4facc1b1a577b1faf9/lib/libcrypto.so.1.0.0: no version information available (required by /usr/sbin/nginx)\n",
      "/usr/sbin/nginx: /azureml-envs/azureml_7785023fceb74e4facc1b1a577b1faf9/lib/libcrypto.so.1.0.0: no version information available (required by /usr/sbin/nginx)\n",
      "/usr/sbin/nginx: /azureml-envs/azureml_7785023fceb74e4facc1b1a577b1faf9/lib/libssl.so.1.0.0: no version information available (required by /usr/sbin/nginx)\n",
      "/usr/sbin/nginx: /azureml-envs/azureml_7785023fceb74e4facc1b1a577b1faf9/lib/libssl.so.1.0.0: no version information available (required by /usr/sbin/nginx)\n",
      "/usr/sbin/nginx: /azureml-envs/azureml_7785023fceb74e4facc1b1a577b1faf9/lib/libssl.so.1.0.0: no version information available (required by /usr/sbin/nginx)\n",
      "2021-02-13T11:17:48,254299238+00:00 - iot-server/run \n",
      "2021-02-13T11:17:48,254782057+00:00 - rsyslog/run \n",
      "2021-02-13T11:17:48,256454021+00:00 - nginx/run \n",
      "2021-02-13T11:17:48,257948179+00:00 - gunicorn/run \n",
      "rsyslogd: /azureml-envs/azureml_7785023fceb74e4facc1b1a577b1faf9/lib/libuuid.so.1: no version information available (required by rsyslogd)\n",
      "EdgeHubConnectionString and IOTEDGE_IOTHUBHOSTNAME are not set. Exiting...\n",
      "2021-02-13T11:17:48,431569649+00:00 - iot-server/finish 1 0\n",
      "2021-02-13T11:17:48,433238913+00:00 - Exit code 1 is normal. Not restarting iot-server.\n",
      "Starting gunicorn 19.9.0\n",
      "Listening at: http://127.0.0.1:31311 (13)\n",
      "Using worker: sync\n",
      "worker timeout is set to 300\n",
      "Booting worker with pid: 41\n",
      "SPARK_HOME not set. Skipping PySpark Initialization.\n",
      "Generating new fontManager, this may take some time...\n",
      "Initializing logger\n",
      "2021-02-13 11:17:51,379 | root | INFO | Starting up app insights client\n",
      "2021-02-13 11:17:51,380 | root | INFO | Starting up request id generator\n",
      "2021-02-13 11:17:51,380 | root | INFO | Starting up app insight hooks\n",
      "2021-02-13 11:17:51,380 | root | INFO | Invoking user's init function\n",
      "2021-02-13 11:17:53,519 | root | INFO | Users's init has completed successfully\n",
      "/azureml-envs/azureml_7785023fceb74e4facc1b1a577b1faf9/lib/python3.6/site-packages/sklearn/externals/joblib/__init__.py:15: FutureWarning: sklearn.externals.joblib is deprecated in 0.21 and will be removed in 0.23. Please import this functionality directly from joblib, which can be installed with: pip install joblib. If this warning is raised when loading pickled models, you may need to re-serialize those models with scikit-learn 0.21+.\n",
      "  warnings.warn(msg, category=FutureWarning)\n",
      "2021-02-13 11:17:53,523 | root | INFO | Skipping middleware: dbg_model_info as it's not enabled.\n",
      "2021-02-13 11:17:53,523 | root | INFO | Skipping middleware: dbg_resource_usage as it's not enabled.\n",
      "2021-02-13 11:17:53,524 | root | INFO | Scoring timeout is found from os.environ: 60000 ms\n",
      "2021-02-13 11:18:03,102 | root | INFO | Swagger file not present\n",
      "2021-02-13 11:18:03,102 | root | INFO | 404\n",
      "127.0.0.1 - - [13/Feb/2021:11:18:03 +0000] \"GET /swagger.json HTTP/1.0\" 404 19 \"-\" \"Go-http-client/1.1\"\n",
      "2021-02-13 11:18:08,024 | root | INFO | Swagger file not present\n",
      "2021-02-13 11:18:08,025 | root | INFO | 404\n",
      "127.0.0.1 - - [13/Feb/2021:11:18:08 +0000] \"GET /swagger.json HTTP/1.0\" 404 19 \"-\" \"Go-http-client/1.1\"\n",
      "2021-02-13 11:23:27,502 | root | INFO | Swagger file not present\n",
      "2021-02-13 11:23:27,502 | root | INFO | 404\n",
      "127.0.0.1 - - [13/Feb/2021:11:23:27 +0000] \"GET /swagger.json HTTP/1.0\" 404 19 \"-\" \"Go-http-client/1.1\"\n",
      "2021-02-13 11:26:04,564 | root | INFO | Swagger file not present\n",
      "2021-02-13 11:26:04,564 | root | INFO | 404\n",
      "127.0.0.1 - - [13/Feb/2021:11:26:04 +0000] \"GET /swagger.json HTTP/1.0\" 404 19 \"-\" \"Go-http-client/1.1\"\n",
      "2021-02-13 11:31:05,249 | root | INFO | Swagger file not present\n",
      "2021-02-13 11:31:05,249 | root | INFO | 404\n",
      "127.0.0.1 - - [13/Feb/2021:11:31:05 +0000] \"GET /swagger.json HTTP/1.0\" 404 19 \"-\" \"Go-http-client/1.1\"\n",
      "2021-02-13 11:32:46,220 | root | INFO | Validation Request Content-Type\n",
      "2021-02-13 11:32:46,220 | root | INFO | Scoring Timer is set to 60.0 seconds\n",
      "2021-02-13 11:32:46,314 | root | INFO | 200\n",
      "127.0.0.1 - - [13/Feb/2021:11:32:46 +0000] \"POST /score HTTP/1.0\" 200 6 \"-\" \"python-requests/2.25.1\"\n",
      "\n"
     ]
    }
   ],
   "source": [
    "print(service.get_logs())"
   ]
  },
  {
   "cell_type": "code",
   "execution_count": 23,
   "metadata": {},
   "outputs": [],
   "source": [
    "service.delete()"
   ]
  },
  {
   "cell_type": "code",
   "execution_count": null,
   "metadata": {},
   "outputs": [],
   "source": []
  }
 ],
 "metadata": {
  "kernel_info": {
   "name": "python3"
  },
  "kernelspec": {
   "display_name": "Python 3",
   "language": "python",
   "name": "python3"
  },
  "language_info": {
   "codemirror_mode": {
    "name": "ipython",
    "version": 3
   },
   "file_extension": ".py",
   "mimetype": "text/x-python",
   "name": "python",
   "nbconvert_exporter": "python",
   "pygments_lexer": "ipython3",
   "version": "3.6.9"
  },
  "nteract": {
   "version": "nteract-front-end@1.0.0"
  }
 },
 "nbformat": 4,
 "nbformat_minor": 2
}
