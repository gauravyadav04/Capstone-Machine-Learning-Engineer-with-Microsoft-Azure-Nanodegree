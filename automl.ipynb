{
  "cells": [
    {
      "cell_type": "markdown",
      "source": [
        "# Automated ML\n",
        "\n",
        "TODO: Import Dependencies. In the cell below, import all the dependencies that you will need to complete the project."
      ],
      "metadata": {}
    },
    {
      "cell_type": "code",
      "source": [
        "import logging\n",
        "import os\n",
        "import csv\n",
        "\n",
        "from matplotlib import pyplot as plt\n",
        "import numpy as np\n",
        "import pandas as pd\n",
        "from sklearn import datasets\n",
        "import pkg_resources\n",
        "\n",
        "import azureml.core\n",
        "from azureml.core.model import Model\n",
        "from azureml.core.experiment import Experiment\n",
        "from azureml.core.workspace import Workspace\n",
        "from azureml.train.automl import AutoMLConfig\n",
        "from azureml.core.dataset import Dataset\n",
        "\n",
        "from azureml.pipeline.steps import AutoMLStep\n",
        "from azureml.automl.core.shared import constants\n",
        "from azureml.core.environment import Environment\n",
        "from azureml.core.model import InferenceConfig\n",
        "from azureml.core.webservice import LocalWebservice, AciWebservice\n",
        "\n",
        "\n",
        "import joblib\n",
        "\n",
        "# Check core SDK version number\n",
        "print(\"SDK version:\", azureml.core.VERSION)"
      ],
      "outputs": [
        {
          "output_type": "stream",
          "name": "stdout",
          "text": [
            "SDK version: 1.20.0\n"
          ]
        }
      ],
      "execution_count": 20,
      "metadata": {
        "gather": {
          "logged": 1612986439624
        },
        "jupyter": {
          "outputs_hidden": false,
          "source_hidden": false
        },
        "nteract": {
          "transient": {
            "deleting": false
          }
        }
      }
    },
    {
      "cell_type": "code",
      "source": [
        "!pip install --upgrade --upgrade-strategy eager azureml-sdk\r\n"
      ],
      "outputs": [
        {
          "output_type": "stream",
          "name": "stdout",
          "text": [
            "Collecting azureml-sdk\n",
            "  Downloading azureml_sdk-1.22.0-py3-none-any.whl (4.4 kB)\n",
            "Collecting azureml-dataset-runtime[fuse]~=1.22.0\n",
            "  Downloading azureml_dataset_runtime-1.22.0-py3-none-any.whl (3.4 kB)\n",
            "Collecting azureml-train~=1.22.0\n",
            "  Downloading azureml_train-1.22.0-py3-none-any.whl (3.3 kB)\n",
            "Collecting azureml-pipeline~=1.22.0\n",
            "  Downloading azureml_pipeline-1.22.0-py3-none-any.whl (3.7 kB)\n",
            "Collecting azureml-core~=1.22.0\n",
            "  Downloading azureml_core-1.22.0-py3-none-any.whl (2.1 MB)\n",
            "\u001b[K     |████████████████████████████████| 2.1 MB 7.9 MB/s eta 0:00:01\n",
            "\u001b[?25hCollecting azureml-train-automl-client~=1.22.0\n",
            "  Downloading azureml_train_automl_client-1.22.0-py3-none-any.whl (116 kB)\n",
            "\u001b[K     |████████████████████████████████| 116 kB 36.4 MB/s eta 0:00:01\n",
            "\u001b[?25hCollecting numpy!=1.19.3; sys_platform == \"linux\"\n",
            "  Downloading numpy-1.19.5-cp36-cp36m-manylinux2010_x86_64.whl (14.8 MB)\n",
            "\u001b[K     |████████████████████████████████| 14.8 MB 31.4 MB/s eta 0:00:01\n",
            "\u001b[?25hRequirement already up-to-date: pyarrow<2.0.0,>=0.17.0 in /anaconda/envs/azureml_py36/lib/python3.6/site-packages (from azureml-dataset-runtime[fuse]~=1.22.0->azureml-sdk) (1.0.1)\n",
            "Collecting azureml-dataprep<2.10.0a,>=2.9.0a\n",
            "  Downloading azureml_dataprep-2.9.1-py3-none-any.whl (39.4 MB)\n",
            "\u001b[K     |████████████████████████████████| 39.4 MB 73.8 MB/s eta 0:00:01\n",
            "\u001b[?25hRequirement already up-to-date: fusepy<4.0.0,>=3.0.1; extra == \"fuse\" in /anaconda/envs/azureml_py36/lib/python3.6/site-packages (from azureml-dataset-runtime[fuse]~=1.22.0->azureml-sdk) (3.0.1)\n",
            "Collecting azureml-train-core~=1.22.0\n",
            "  Downloading azureml_train_core-1.22.0-py3-none-any.whl (8.6 MB)\n",
            "\u001b[K     |████████████████████████████████| 8.6 MB 54.2 MB/s eta 0:00:01\n",
            "\u001b[?25hCollecting azureml-pipeline-steps~=1.22.0\n",
            "  Downloading azureml_pipeline_steps-1.22.0-py3-none-any.whl (67 kB)\n",
            "\u001b[K     |████████████████████████████████| 67 kB 4.6 MB/s  eta 0:00:01\n",
            "\u001b[?25hCollecting azureml-pipeline-core~=1.22.0\n",
            "  Downloading azureml_pipeline_core-1.22.0-py3-none-any.whl (308 kB)\n",
            "\u001b[K     |████████████████████████████████| 308 kB 51.4 MB/s eta 0:00:01\n",
            "\u001b[?25hCollecting PyJWT<3.0.0\n",
            "  Downloading PyJWT-2.0.1-py3-none-any.whl (15 kB)\n",
            "Requirement already up-to-date: ndg-httpsclient in /anaconda/envs/azureml_py36/lib/python3.6/site-packages (from azureml-core~=1.22.0->azureml-sdk) (0.5.1)\n",
            "Requirement already up-to-date: ruamel.yaml>=0.15.35 in /anaconda/envs/azureml_py36/lib/python3.6/site-packages (from azureml-core~=1.22.0->azureml-sdk) (0.16.12)\n",
            "Requirement already up-to-date: azure-mgmt-containerregistry>=2.0.0 in /anaconda/envs/azureml_py36/lib/python3.6/site-packages (from azureml-core~=1.22.0->azureml-sdk) (2.8.0)\n",
            "Requirement already up-to-date: azure-mgmt-storage<16.0.0,>=1.5.0 in /anaconda/envs/azureml_py36/lib/python3.6/site-packages (from azureml-core~=1.22.0->azureml-sdk) (11.2.0)\n",
            "Requirement already up-to-date: contextlib2 in /anaconda/envs/azureml_py36/lib/python3.6/site-packages (from azureml-core~=1.22.0->azureml-sdk) (0.6.0.post1)\n",
            "Requirement already up-to-date: requests>=2.19.1 in /anaconda/envs/azureml_py36/lib/python3.6/site-packages (from azureml-core~=1.22.0->azureml-sdk) (2.25.1)\n",
            "Requirement already up-to-date: python-dateutil>=2.7.3 in /anaconda/envs/azureml_py36/lib/python3.6/site-packages (from azureml-core~=1.22.0->azureml-sdk) (2.8.1)\n",
            "Requirement already up-to-date: azure-mgmt-keyvault<7.0.0,>=0.40.0 in /anaconda/envs/azureml_py36/lib/python3.6/site-packages (from azureml-core~=1.22.0->azureml-sdk) (2.2.0)\n",
            "Requirement already up-to-date: msrestazure>=0.4.33 in /anaconda/envs/azureml_py36/lib/python3.6/site-packages (from azureml-core~=1.22.0->azureml-sdk) (0.6.4)\n",
            "Requirement already up-to-date: jmespath in /anaconda/envs/azureml_py36/lib/python3.6/site-packages (from azureml-core~=1.22.0->azureml-sdk) (0.10.0)\n",
            "Collecting cryptography!=1.9,!=2.0.*,!=2.1.*,!=2.2.*\n",
            "  Downloading cryptography-3.4.4-cp36-abi3-manylinux2014_x86_64.whl (3.2 MB)\n",
            "\u001b[K     |████████████████████████████████| 3.2 MB 59.5 MB/s eta 0:00:01\n",
            "\u001b[?25hCollecting SecretStorage\n",
            "  Downloading SecretStorage-3.3.1-py3-none-any.whl (15 kB)\n",
            "Requirement already up-to-date: backports.tempfile in /anaconda/envs/azureml_py36/lib/python3.6/site-packages (from azureml-core~=1.22.0->azureml-sdk) (1.0)\n",
            "Requirement already up-to-date: docker in /anaconda/envs/azureml_py36/lib/python3.6/site-packages (from azureml-core~=1.22.0->azureml-sdk) (4.4.1)\n",
            "Requirement already up-to-date: azure-mgmt-authorization<1.0.0,>=0.40.0 in /anaconda/envs/azureml_py36/lib/python3.6/site-packages (from azureml-core~=1.22.0->azureml-sdk) (0.61.0)\n",
            "Collecting pyopenssl<21.0.0\n",
            "  Downloading pyOpenSSL-20.0.1-py2.py3-none-any.whl (54 kB)\n",
            "\u001b[K     |████████████████████████████████| 54 kB 1.8 MB/s  eta 0:00:01\n",
            "\u001b[?25hRequirement already up-to-date: azure-graphrbac<1.0.0,>=0.40.0 in /anaconda/envs/azureml_py36/lib/python3.6/site-packages (from azureml-core~=1.22.0->azureml-sdk) (0.61.1)\n",
            "Collecting urllib3>=1.23\n",
            "  Downloading urllib3-1.26.3-py2.py3-none-any.whl (137 kB)\n",
            "\u001b[K     |████████████████████████████████| 137 kB 78.1 MB/s eta 0:00:01\n",
            "\u001b[?25hCollecting pytz\n",
            "  Downloading pytz-2021.1-py2.py3-none-any.whl (510 kB)\n",
            "\u001b[K     |████████████████████████████████| 510 kB 74.0 MB/s eta 0:00:01\n",
            "\u001b[?25hCollecting jsonpickle\n",
            "  Downloading jsonpickle-2.0.0-py2.py3-none-any.whl (37 kB)\n",
            "Requirement already up-to-date: pathspec in /anaconda/envs/azureml_py36/lib/python3.6/site-packages (from azureml-core~=1.22.0->azureml-sdk) (0.8.1)\n",
            "Requirement already up-to-date: azure-common>=1.1.12 in /anaconda/envs/azureml_py36/lib/python3.6/site-packages (from azureml-core~=1.22.0->azureml-sdk) (1.1.26)\n",
            "Collecting adal>=1.2.0\n",
            "  Downloading adal-1.2.6-py2.py3-none-any.whl (55 kB)\n",
            "\u001b[K     |████████████████████████████████| 55 kB 2.3 MB/s  eta 0:00:01\n",
            "\u001b[?25hRequirement already up-to-date: azure-mgmt-resource<15.0.0,>=1.2.1 in /anaconda/envs/azureml_py36/lib/python3.6/site-packages (from azureml-core~=1.22.0->azureml-sdk) (12.0.0)\n",
            "Collecting msrest>=0.5.1\n",
            "  Downloading msrest-0.6.21-py2.py3-none-any.whl (85 kB)\n",
            "\u001b[K     |████████████████████████████████| 85 kB 2.4 MB/s  eta 0:00:01\n",
            "\u001b[?25hCollecting azureml-telemetry~=1.22.0\n",
            "  Downloading azureml_telemetry-1.22.0-py3-none-any.whl (30 kB)\n",
            "Collecting azureml-automl-core~=1.22.0\n",
            "  Downloading azureml_automl_core-1.22.0-py3-none-any.whl (197 kB)\n",
            "\u001b[K     |████████████████████████████████| 197 kB 52.0 MB/s eta 0:00:01\n",
            "\u001b[?25hRequirement already up-to-date: azure-identity<1.5.0,>=1.2.0 in /anaconda/envs/azureml_py36/lib/python3.6/site-packages (from azureml-dataprep<2.10.0a,>=2.9.0a->azureml-dataset-runtime[fuse]~=1.22.0->azureml-sdk) (1.4.1)\n",
            "Requirement already up-to-date: dotnetcore2<3.0.0,>=2.1.14 in /anaconda/envs/azureml_py36/lib/python3.6/site-packages (from azureml-dataprep<2.10.0a,>=2.9.0a->azureml-dataset-runtime[fuse]~=1.22.0->azureml-sdk) (2.1.20)\n",
            "Collecting azureml-dataprep-native<30.0.0,>=29.0.0\n",
            "  Downloading azureml_dataprep_native-29.0.0-cp36-cp36m-manylinux1_x86_64.whl (1.3 MB)\n",
            "\u001b[K     |████████████████████████████████| 1.3 MB 43.8 MB/s eta 0:00:01\n",
            "\u001b[?25hCollecting azureml-dataprep-rslex<1.8.0a,>=1.7.0dev0\n",
            "  Downloading azureml_dataprep_rslex-1.7.0-cp36-cp36m-manylinux2010_x86_64.whl (8.5 MB)\n",
            "\u001b[K     |████████████████████████████████| 8.5 MB 49.9 MB/s eta 0:00:01\n",
            "\u001b[?25hRequirement already up-to-date: cloudpickle<2.0.0,>=1.1.0 in /anaconda/envs/azureml_py36/lib/python3.6/site-packages (from azureml-dataprep<2.10.0a,>=2.9.0a->azureml-dataset-runtime[fuse]~=1.22.0->azureml-sdk) (1.6.0)\n",
            "Collecting azureml-train-restclients-hyperdrive~=1.22.0\n",
            "  Downloading azureml_train_restclients_hyperdrive-1.22.0-py3-none-any.whl (19 kB)\n",
            "Requirement already up-to-date: pyasn1>=0.1.1 in /anaconda/envs/azureml_py36/lib/python3.6/site-packages (from ndg-httpsclient->azureml-core~=1.22.0->azureml-sdk) (0.4.8)\n",
            "Requirement already up-to-date: ruamel.yaml.clib>=0.1.2; platform_python_implementation == \"CPython\" and python_version < \"3.9\" in /anaconda/envs/azureml_py36/lib/python3.6/site-packages (from ruamel.yaml>=0.15.35->azureml-core~=1.22.0->azureml-sdk) (0.2.2)\n",
            "Requirement already up-to-date: idna<3,>=2.5 in /anaconda/envs/azureml_py36/lib/python3.6/site-packages (from requests>=2.19.1->azureml-core~=1.22.0->azureml-sdk) (2.10)\n",
            "Requirement already up-to-date: chardet<5,>=3.0.2 in /anaconda/envs/azureml_py36/lib/python3.6/site-packages (from requests>=2.19.1->azureml-core~=1.22.0->azureml-sdk) (4.0.0)\n",
            "Requirement already up-to-date: certifi>=2017.4.17 in /anaconda/envs/azureml_py36/lib/python3.6/site-packages (from requests>=2.19.1->azureml-core~=1.22.0->azureml-sdk) (2020.12.5)\n",
            "Requirement already up-to-date: six>=1.5 in /anaconda/envs/azureml_py36/lib/python3.6/site-packages (from python-dateutil>=2.7.3->azureml-core~=1.22.0->azureml-sdk) (1.15.0)\n",
            "Requirement already up-to-date: cffi>=1.12 in /anaconda/envs/azureml_py36/lib/python3.6/site-packages (from cryptography!=1.9,!=2.0.*,!=2.1.*,!=2.2.*->azureml-core~=1.22.0->azureml-sdk) (1.14.4)\n",
            "Requirement already up-to-date: jeepney>=0.6 in /anaconda/envs/azureml_py36/lib/python3.6/site-packages (from SecretStorage->azureml-core~=1.22.0->azureml-sdk) (0.6.0)\n",
            "Requirement already up-to-date: backports.weakref in /anaconda/envs/azureml_py36/lib/python3.6/site-packages (from backports.tempfile->azureml-core~=1.22.0->azureml-sdk) (1.0.post1)\n",
            "Requirement already up-to-date: websocket-client>=0.32.0 in /anaconda/envs/azureml_py36/lib/python3.6/site-packages (from docker->azureml-core~=1.22.0->azureml-sdk) (0.57.0)\n",
            "Collecting importlib-metadata; python_version < \"3.8\"\n",
            "  Downloading importlib_metadata-3.4.0-py3-none-any.whl (10 kB)\n",
            "Requirement already up-to-date: requests-oauthlib>=0.5.0 in /anaconda/envs/azureml_py36/lib/python3.6/site-packages (from msrest>=0.5.1->azureml-core~=1.22.0->azureml-sdk) (1.3.0)\n",
            "Requirement already up-to-date: isodate>=0.6.0 in /anaconda/envs/azureml_py36/lib/python3.6/site-packages (from msrest>=0.5.1->azureml-core~=1.22.0->azureml-sdk) (0.6.0)\n",
            "Requirement already up-to-date: applicationinsights in /anaconda/envs/azureml_py36/lib/python3.6/site-packages (from azureml-telemetry~=1.22.0->azureml-train-automl-client~=1.22.0->azureml-sdk) (0.11.9)\n",
            "Requirement already up-to-date: msal-extensions~=0.2.2 in /anaconda/envs/azureml_py36/lib/python3.6/site-packages (from azure-identity<1.5.0,>=1.2.0->azureml-dataprep<2.10.0a,>=2.9.0a->azureml-dataset-runtime[fuse]~=1.22.0->azureml-sdk) (0.2.2)\n",
            "Collecting azure-core<2.0.0,>=1.0.0\n",
            "  Downloading azure_core-1.11.0-py2.py3-none-any.whl (127 kB)\n",
            "\u001b[K     |████████████████████████████████| 127 kB 55.4 MB/s eta 0:00:01\n",
            "\u001b[?25hCollecting msal<2.0.0,>=1.3.0\n",
            "  Downloading msal-1.9.0-py2.py3-none-any.whl (59 kB)\n",
            "\u001b[K     |████████████████████████████████| 59 kB 4.7 MB/s  eta 0:00:01\n",
            "\u001b[?25hRequirement already up-to-date: distro>=1.2.0 in /anaconda/envs/azureml_py36/lib/python3.6/site-packages (from dotnetcore2<3.0.0,>=2.1.14->azureml-dataprep<2.10.0a,>=2.9.0a->azureml-dataset-runtime[fuse]~=1.22.0->azureml-sdk) (1.5.0)\n",
            "Requirement already up-to-date: pycparser in /anaconda/envs/azureml_py36/lib/python3.6/site-packages (from cffi>=1.12->cryptography!=1.9,!=2.0.*,!=2.1.*,!=2.2.*->azureml-core~=1.22.0->azureml-sdk) (2.20)\n",
            "Requirement already up-to-date: zipp>=0.5 in /anaconda/envs/azureml_py36/lib/python3.6/site-packages (from importlib-metadata; python_version < \"3.8\"->jsonpickle->azureml-core~=1.22.0->azureml-sdk) (3.4.0)\n",
            "Requirement already up-to-date: typing-extensions>=3.6.4; python_version < \"3.8\" in /anaconda/envs/azureml_py36/lib/python3.6/site-packages (from importlib-metadata; python_version < \"3.8\"->jsonpickle->azureml-core~=1.22.0->azureml-sdk) (3.7.4.3)\n",
            "Requirement already up-to-date: oauthlib>=3.0.0 in /anaconda/envs/azureml_py36/lib/python3.6/site-packages (from requests-oauthlib>=0.5.0->msrest>=0.5.1->azureml-core~=1.22.0->azureml-sdk) (3.1.0)\n",
            "Requirement already up-to-date: portalocker~=1.0; platform_system != \"Windows\" in /anaconda/envs/azureml_py36/lib/python3.6/site-packages (from msal-extensions~=0.2.2->azure-identity<1.5.0,>=1.2.0->azureml-dataprep<2.10.0a,>=2.9.0a->azureml-dataset-runtime[fuse]~=1.22.0->azureml-sdk) (1.7.1)\n",
            "\u001b[31mERROR: tensorflow 2.4.0 has requirement grpcio~=1.32.0, but you'll have grpcio 1.34.0 which is incompatible.\u001b[0m\n",
            "\u001b[31mERROR: tensorflow-gpu 2.1.0 has requirement gast==0.2.2, but you'll have gast 0.3.3 which is incompatible.\u001b[0m\n",
            "\u001b[31mERROR: tensorflow-gpu 2.1.0 has requirement scipy==1.4.1; python_version >= \"3\", but you'll have scipy 1.5.2 which is incompatible.\u001b[0m\n",
            "\u001b[31mERROR: tensorflow-gpu 2.1.0 has requirement tensorboard<2.2.0,>=2.1.0, but you'll have tensorboard 2.4.0 which is incompatible.\u001b[0m\n",
            "\u001b[31mERROR: tensorflow-gpu 2.1.0 has requirement tensorflow-estimator<2.2.0,>=2.1.0rc0, but you'll have tensorflow-estimator 2.4.0 which is incompatible.\u001b[0m\n",
            "\u001b[31mERROR: botocore 1.18.18 has requirement urllib3<1.26,>=1.20; python_version != \"3.4\", but you'll have urllib3 1.26.3 which is incompatible.\u001b[0m\n",
            "\u001b[31mERROR: bokeh 2.2.3 has requirement pillow>=7.1.0, but you'll have pillow 6.2.1 which is incompatible.\u001b[0m\n",
            "\u001b[31mERROR: azureml-widgets 1.20.0 has requirement azureml-core~=1.20.0, but you'll have azureml-core 1.22.0 which is incompatible.\u001b[0m\n",
            "\u001b[31mERROR: azureml-widgets 1.20.0 has requirement azureml-telemetry~=1.20.0, but you'll have azureml-telemetry 1.22.0 which is incompatible.\u001b[0m\n",
            "\u001b[31mERROR: azureml-train-automl 1.20.0 has requirement azureml-automl-core~=1.20.0, but you'll have azureml-automl-core 1.22.0 which is incompatible.\u001b[0m\n",
            "\u001b[31mERROR: azureml-train-automl 1.20.0 has requirement azureml-dataset-runtime[fuse,pandas]~=1.20.0, but you'll have azureml-dataset-runtime 1.22.0 which is incompatible.\u001b[0m\n",
            "\u001b[31mERROR: azureml-train-automl 1.20.0 has requirement azureml-train-automl-client~=1.20.0, but you'll have azureml-train-automl-client 1.22.0 which is incompatible.\u001b[0m\n",
            "\u001b[31mERROR: azureml-train-automl-runtime 1.20.0 has requirement azureml-automl-core~=1.20.0, but you'll have azureml-automl-core 1.22.0 which is incompatible.\u001b[0m\n",
            "\u001b[31mERROR: azureml-train-automl-runtime 1.20.0 has requirement azureml-core~=1.20.0, but you'll have azureml-core 1.22.0 which is incompatible.\u001b[0m\n",
            "\u001b[31mERROR: azureml-train-automl-runtime 1.20.0 has requirement azureml-dataset-runtime[fuse,pandas]~=1.20.0, but you'll have azureml-dataset-runtime 1.22.0 which is incompatible.\u001b[0m\n",
            "\u001b[31mERROR: azureml-train-automl-runtime 1.20.0 has requirement azureml-telemetry~=1.20.0, but you'll have azureml-telemetry 1.22.0 which is incompatible.\u001b[0m\n",
            "\u001b[31mERROR: azureml-train-automl-runtime 1.20.0 has requirement azureml-train-automl-client~=1.20.0, but you'll have azureml-train-automl-client 1.22.0 which is incompatible.\u001b[0m\n",
            "\u001b[31mERROR: azureml-train-automl-runtime 1.20.0 has requirement numpy<1.19.0,>=1.16.0, but you'll have numpy 1.19.5 which is incompatible.\u001b[0m\n",
            "\u001b[31mERROR: azureml-tensorboard 1.20.0 has requirement azureml-core~=1.20.0, but you'll have azureml-core 1.22.0 which is incompatible.\u001b[0m\n",
            "\u001b[31mERROR: azureml-opendatasets 1.20.0 has requirement azureml-core~=1.20.0, but you'll have azureml-core 1.22.0 which is incompatible.\u001b[0m\n",
            "\u001b[31mERROR: azureml-opendatasets 1.20.0 has requirement azureml-dataset-runtime[fuse,pandas]~=1.20.0, but you'll have azureml-dataset-runtime 1.22.0 which is incompatible.\u001b[0m\n",
            "\u001b[31mERROR: azureml-opendatasets 1.20.0 has requirement azureml-telemetry~=1.20.0, but you'll have azureml-telemetry 1.22.0 which is incompatible.\u001b[0m\n",
            "\u001b[31mERROR: azureml-opendatasets 1.20.0 has requirement numpy<=1.19.0,>=1.16.0, but you'll have numpy 1.19.5 which is incompatible.\u001b[0m\n",
            "\u001b[31mERROR: azureml-opendatasets 1.20.0 has requirement scipy<=1.4.1,>=1.0.0, but you'll have scipy 1.5.2 which is incompatible.\u001b[0m\n",
            "\u001b[31mERROR: azureml-mlflow 1.20.0.post1 has requirement azureml-core~=1.20.0, but you'll have azureml-core 1.22.0 which is incompatible.\u001b[0m\n",
            "\u001b[31mERROR: azureml-interpret 1.20.0 has requirement azureml-core~=1.20.0, but you'll have azureml-core 1.22.0 which is incompatible.\u001b[0m\n",
            "\u001b[31mERROR: azureml-defaults 1.20.0 has requirement azureml-core~=1.20.0, but you'll have azureml-core 1.22.0 which is incompatible.\u001b[0m\n",
            "\u001b[31mERROR: azureml-defaults 1.20.0 has requirement azureml-dataset-runtime[fuse]~=1.20.0, but you'll have azureml-dataset-runtime 1.22.0 which is incompatible.\u001b[0m\n",
            "\u001b[31mERROR: azureml-datadrift 1.20.0 has requirement azureml-core~=1.20.0, but you'll have azureml-core 1.22.0 which is incompatible.\u001b[0m\n",
            "\u001b[31mERROR: azureml-datadrift 1.20.0 has requirement azureml-dataset-runtime[fuse,pandas]~=1.20.0, but you'll have azureml-dataset-runtime 1.22.0 which is incompatible.\u001b[0m\n",
            "\u001b[31mERROR: azureml-datadrift 1.20.0 has requirement azureml-pipeline-core~=1.20.0, but you'll have azureml-pipeline-core 1.22.0 which is incompatible.\u001b[0m\n",
            "\u001b[31mERROR: azureml-datadrift 1.20.0 has requirement azureml-telemetry~=1.20.0, but you'll have azureml-telemetry 1.22.0 which is incompatible.\u001b[0m\n",
            "\u001b[31mERROR: azureml-contrib-services 1.20.0 has requirement azureml-core~=1.20.0, but you'll have azureml-core 1.22.0 which is incompatible.\u001b[0m\n",
            "\u001b[31mERROR: azureml-contrib-server 1.20.0 has requirement azureml-core~=1.20.0, but you'll have azureml-core 1.22.0 which is incompatible.\u001b[0m\n",
            "\u001b[31mERROR: azureml-contrib-reinforcementlearning 1.20.0 has requirement azureml-core~=1.20.0, but you'll have azureml-core 1.22.0 which is incompatible.\u001b[0m\n",
            "\u001b[31mERROR: azureml-contrib-reinforcementlearning 1.20.0 has requirement azureml-train-core~=1.20.0, but you'll have azureml-train-core 1.22.0 which is incompatible.\u001b[0m\n",
            "\u001b[31mERROR: azureml-contrib-pipeline-steps 1.20.0 has requirement azureml-core~=1.20.0, but you'll have azureml-core 1.22.0 which is incompatible.\u001b[0m\n",
            "\u001b[31mERROR: azureml-contrib-pipeline-steps 1.20.0 has requirement azureml-dataset-runtime~=1.20.0, but you'll have azureml-dataset-runtime 1.22.0 which is incompatible.\u001b[0m\n",
            "\u001b[31mERROR: azureml-contrib-pipeline-steps 1.20.0 has requirement azureml-pipeline-core~=1.20.0, but you'll have azureml-pipeline-core 1.22.0 which is incompatible.\u001b[0m\n",
            "\u001b[31mERROR: azureml-contrib-notebook 1.20.0 has requirement azureml-core~=1.20.0, but you'll have azureml-core 1.22.0 which is incompatible.\u001b[0m\n",
            "\u001b[31mERROR: azureml-contrib-notebook 1.20.0 has requirement azureml-pipeline-core~=1.20.0, but you'll have azureml-pipeline-core 1.22.0 which is incompatible.\u001b[0m\n",
            "\u001b[31mERROR: azureml-contrib-gbdt 1.20.0 has requirement azureml-core~=1.20.0, but you'll have azureml-core 1.22.0 which is incompatible.\u001b[0m\n",
            "\u001b[31mERROR: azureml-contrib-gbdt 1.20.0 has requirement azureml-train-core~=1.20.0, but you'll have azureml-train-core 1.22.0 which is incompatible.\u001b[0m\n",
            "\u001b[31mERROR: azureml-contrib-fairness 1.20.0 has requirement azureml-core~=1.20.0, but you'll have azureml-core 1.22.0 which is incompatible.\u001b[0m\n",
            "\u001b[31mERROR: azureml-contrib-dataset 1.20.0 has requirement azureml-core~=1.20.0, but you'll have azureml-core 1.22.0 which is incompatible.\u001b[0m\n",
            "\u001b[31mERROR: azureml-contrib-dataset 1.20.0 has requirement azureml-dataset-runtime[fuse,pandas]~=1.20.0, but you'll have azureml-dataset-runtime 1.22.0 which is incompatible.\u001b[0m\n",
            "\u001b[31mERROR: azureml-cli-common 1.20.0 has requirement azureml-core~=1.20.0, but you'll have azureml-core 1.22.0 which is incompatible.\u001b[0m\n",
            "\u001b[31mERROR: azureml-cli-common 1.20.0 has requirement azureml-pipeline-core~=1.20.0, but you'll have azureml-pipeline-core 1.22.0 which is incompatible.\u001b[0m\n",
            "\u001b[31mERROR: azureml-cli-common 1.20.0 has requirement azureml-train-core~=1.20.0; python_version >= \"3.5\", but you'll have azureml-train-core 1.22.0 which is incompatible.\u001b[0m\n",
            "\u001b[31mERROR: azureml-automl-runtime 1.20.0 has requirement azureml-automl-core~=1.20.0, but you'll have azureml-automl-core 1.22.0 which is incompatible.\u001b[0m\n",
            "\u001b[31mERROR: azureml-automl-runtime 1.20.0 has requirement azureml-dataset-runtime[fuse,pandas]~=1.20.0, but you'll have azureml-dataset-runtime 1.22.0 which is incompatible.\u001b[0m\n",
            "\u001b[31mERROR: azureml-automl-runtime 1.20.0 has requirement numpy<1.19.0,>=1.16.0, but you'll have numpy 1.19.5 which is incompatible.\u001b[0m\n",
            "\u001b[31mERROR: azureml-accel-models 1.20.0 has requirement azureml-core~=1.20.0, but you'll have azureml-core 1.22.0 which is incompatible.\u001b[0m\n",
            "\u001b[31mERROR: azure-cli 2.17.1 has requirement azure-graphrbac~=0.60.0, but you'll have azure-graphrbac 0.61.1 which is incompatible.\u001b[0m\n",
            "\u001b[31mERROR: azure-cli 2.17.1 has requirement azure-mgmt-containerregistry==3.0.0rc16, but you'll have azure-mgmt-containerregistry 2.8.0 which is incompatible.\u001b[0m\n",
            "\u001b[31mERROR: azure-cli 2.17.1 has requirement azure-mgmt-keyvault==8.0.0, but you'll have azure-mgmt-keyvault 2.2.0 which is incompatible.\u001b[0m\n",
            "\u001b[31mERROR: azure-cli 2.17.1 has requirement azure-mgmt-resource==10.3.0, but you'll have azure-mgmt-resource 12.0.0 which is incompatible.\u001b[0m\n",
            "\u001b[31mERROR: azure-cli 2.17.1 has requirement azure-mgmt-storage~=16.0.0, but you'll have azure-mgmt-storage 11.2.0 which is incompatible.\u001b[0m\n",
            "\u001b[31mERROR: azure-cli 2.17.1 has requirement cryptography<3.0.0,>=2.3.1, but you'll have cryptography 3.4.4 which is incompatible.\u001b[0m\n",
            "\u001b[31mERROR: azure-cli 2.17.1 has requirement pytz==2019.1, but you'll have pytz 2021.1 which is incompatible.\u001b[0m\n",
            "\u001b[31mERROR: azure-cli 2.17.1 has requirement websocket-client~=0.56.0, but you'll have websocket-client 0.57.0 which is incompatible.\u001b[0m\n",
            "\u001b[31mERROR: azure-cli-core 2.17.1 has requirement msal~=1.0.0, but you'll have msal 1.9.0 which is incompatible.\u001b[0m\n",
            "\u001b[31mERROR: azure-cli-core 2.17.1 has requirement msal-extensions~=0.1.3, but you'll have msal-extensions 0.2.2 which is incompatible.\u001b[0m\n",
            "Installing collected packages: numpy, azureml-dataprep-native, azureml-dataprep-rslex, azureml-dataprep, azureml-dataset-runtime, PyJWT, cryptography, SecretStorage, pyopenssl, urllib3, pytz, importlib-metadata, jsonpickle, adal, msrest, azureml-core, azureml-telemetry, azureml-train-restclients-hyperdrive, azureml-train-core, azureml-train, azureml-automl-core, azureml-train-automl-client, azureml-pipeline-core, azureml-pipeline-steps, azureml-pipeline, azureml-sdk, azure-core, msal\n",
            "  Attempting uninstall: numpy\n",
            "    Found existing installation: numpy 1.18.5\n",
            "    Uninstalling numpy-1.18.5:\n",
            "      Successfully uninstalled numpy-1.18.5\n",
            "  Attempting uninstall: azureml-dataprep-native\n",
            "    Found existing installation: azureml-dataprep-native 27.0.0\n",
            "    Uninstalling azureml-dataprep-native-27.0.0:\n",
            "      Successfully uninstalled azureml-dataprep-native-27.0.0\n",
            "  Attempting uninstall: azureml-dataprep-rslex\n",
            "    Found existing installation: azureml-dataprep-rslex 1.5.0\n",
            "    Uninstalling azureml-dataprep-rslex-1.5.0:\n",
            "      Successfully uninstalled azureml-dataprep-rslex-1.5.0\n",
            "  Attempting uninstall: azureml-dataprep\n",
            "    Found existing installation: azureml-dataprep 2.7.3\n",
            "    Uninstalling azureml-dataprep-2.7.3:\n",
            "      Successfully uninstalled azureml-dataprep-2.7.3\n",
            "  Attempting uninstall: azureml-dataset-runtime\n",
            "    Found existing installation: azureml-dataset-runtime 1.20.0\n",
            "    Uninstalling azureml-dataset-runtime-1.20.0:\n",
            "      Successfully uninstalled azureml-dataset-runtime-1.20.0\n",
            "  Attempting uninstall: PyJWT\n",
            "    Found existing installation: PyJWT 1.7.1\n",
            "    Uninstalling PyJWT-1.7.1:\n",
            "      Successfully uninstalled PyJWT-1.7.1\n",
            "  Attempting uninstall: cryptography\n",
            "    Found existing installation: cryptography 3.3.1\n",
            "    Uninstalling cryptography-3.3.1:\n",
            "      Successfully uninstalled cryptography-3.3.1\n",
            "  Attempting uninstall: SecretStorage\n",
            "    Found existing installation: SecretStorage 3.3.0\n",
            "    Uninstalling SecretStorage-3.3.0:\n",
            "      Successfully uninstalled SecretStorage-3.3.0\n",
            "  Attempting uninstall: pyopenssl\n",
            "    Found existing installation: pyOpenSSL 19.1.0\n",
            "    Uninstalling pyOpenSSL-19.1.0:\n",
            "      Successfully uninstalled pyOpenSSL-19.1.0\n",
            "  Attempting uninstall: urllib3\n",
            "    Found existing installation: urllib3 1.25.11\n",
            "    Uninstalling urllib3-1.25.11:\n",
            "      Successfully uninstalled urllib3-1.25.11\n",
            "  Attempting uninstall: pytz\n",
            "    Found existing installation: pytz 2020.5\n",
            "    Uninstalling pytz-2020.5:\n",
            "      Successfully uninstalled pytz-2020.5\n",
            "  Attempting uninstall: importlib-metadata\n",
            "    Found existing installation: importlib-metadata 3.3.0\n",
            "    Uninstalling importlib-metadata-3.3.0:\n",
            "      Successfully uninstalled importlib-metadata-3.3.0\n",
            "  Attempting uninstall: jsonpickle\n",
            "    Found existing installation: jsonpickle 1.4.2\n",
            "    Uninstalling jsonpickle-1.4.2:\n",
            "      Successfully uninstalled jsonpickle-1.4.2\n",
            "  Attempting uninstall: adal\n",
            "    Found existing installation: adal 1.2.5\n",
            "    Uninstalling adal-1.2.5:\n",
            "      Successfully uninstalled adal-1.2.5\n",
            "  Attempting uninstall: msrest\n",
            "    Found existing installation: msrest 0.6.19\n",
            "    Uninstalling msrest-0.6.19:\n",
            "      Successfully uninstalled msrest-0.6.19\n",
            "  Attempting uninstall: azureml-core\n",
            "    Found existing installation: azureml-core 1.20.0\n",
            "    Uninstalling azureml-core-1.20.0:\n",
            "      Successfully uninstalled azureml-core-1.20.0\n",
            "  Attempting uninstall: azureml-telemetry\n",
            "    Found existing installation: azureml-telemetry 1.20.0\n",
            "    Uninstalling azureml-telemetry-1.20.0:\n",
            "      Successfully uninstalled azureml-telemetry-1.20.0\n",
            "  Attempting uninstall: azureml-train-restclients-hyperdrive\n",
            "    Found existing installation: azureml-train-restclients-hyperdrive 1.20.0\n",
            "    Uninstalling azureml-train-restclients-hyperdrive-1.20.0:\n",
            "      Successfully uninstalled azureml-train-restclients-hyperdrive-1.20.0\n",
            "  Attempting uninstall: azureml-train-core\n",
            "    Found existing installation: azureml-train-core 1.20.0\n",
            "    Uninstalling azureml-train-core-1.20.0:\n",
            "      Successfully uninstalled azureml-train-core-1.20.0\n",
            "  Attempting uninstall: azureml-train\n",
            "    Found existing installation: azureml-train 1.20.0\n",
            "    Uninstalling azureml-train-1.20.0:\n",
            "      Successfully uninstalled azureml-train-1.20.0\n",
            "  Attempting uninstall: azureml-automl-core\n",
            "    Found existing installation: azureml-automl-core 1.20.0\n",
            "    Uninstalling azureml-automl-core-1.20.0:\n",
            "      Successfully uninstalled azureml-automl-core-1.20.0\n",
            "  Attempting uninstall: azureml-train-automl-client\n",
            "    Found existing installation: azureml-train-automl-client 1.20.0\n",
            "    Uninstalling azureml-train-automl-client-1.20.0:\n",
            "      Successfully uninstalled azureml-train-automl-client-1.20.0\n",
            "  Attempting uninstall: azureml-pipeline-core\n",
            "    Found existing installation: azureml-pipeline-core 1.20.0\n",
            "    Uninstalling azureml-pipeline-core-1.20.0:\n",
            "      Successfully uninstalled azureml-pipeline-core-1.20.0\n",
            "  Attempting uninstall: azureml-pipeline-steps\n",
            "    Found existing installation: azureml-pipeline-steps 1.20.0\n",
            "    Uninstalling azureml-pipeline-steps-1.20.0:\n",
            "      Successfully uninstalled azureml-pipeline-steps-1.20.0\n",
            "  Attempting uninstall: azureml-pipeline\n",
            "    Found existing installation: azureml-pipeline 1.20.0\n",
            "    Uninstalling azureml-pipeline-1.20.0:\n",
            "      Successfully uninstalled azureml-pipeline-1.20.0\n",
            "  Attempting uninstall: azureml-sdk\n",
            "    Found existing installation: azureml-sdk 1.20.0\n",
            "    Uninstalling azureml-sdk-1.20.0:\n",
            "      Successfully uninstalled azureml-sdk-1.20.0\n",
            "  Attempting uninstall: azure-core\n",
            "    Found existing installation: azure-core 1.9.0\n",
            "    Uninstalling azure-core-1.9.0:\n",
            "      Successfully uninstalled azure-core-1.9.0\n",
            "  Attempting uninstall: msal\n",
            "    Found existing installation: msal 1.8.0\n",
            "    Uninstalling msal-1.8.0:\n",
            "      Successfully uninstalled msal-1.8.0\n",
            "Successfully installed PyJWT-2.0.1 SecretStorage-3.3.1 adal-1.2.6 azure-core-1.11.0 azureml-automl-core-1.22.0 azureml-core-1.22.0 azureml-dataprep-2.9.1 azureml-dataprep-native-29.0.0 azureml-dataprep-rslex-1.7.0 azureml-dataset-runtime-1.22.0 azureml-pipeline-1.22.0 azureml-pipeline-core-1.22.0 azureml-pipeline-steps-1.22.0 azureml-sdk-1.22.0 azureml-telemetry-1.22.0 azureml-train-1.22.0 azureml-train-automl-client-1.22.0 azureml-train-core-1.22.0 azureml-train-restclients-hyperdrive-1.22.0 cryptography-3.4.4 importlib-metadata-3.4.0 jsonpickle-2.0.0 msal-1.9.0 msrest-0.6.21 numpy-1.19.5 pyopenssl-20.0.1 pytz-2021.1 urllib3-1.26.3\n"
          ]
        }
      ],
      "execution_count": 16,
      "metadata": {
        "collapsed": true,
        "jupyter": {
          "source_hidden": false,
          "outputs_hidden": false
        },
        "nteract": {
          "transient": {
            "deleting": false
          }
        }
      }
    },
    {
      "cell_type": "code",
      "source": [
        "!pip install --upgrade azureml-sdk[au]"
      ],
      "outputs": [
        {
          "output_type": "stream",
          "name": "stdout",
          "text": [
            "Requirement already up-to-date: azureml-sdk[au] in /anaconda/envs/azureml_py36/lib/python3.6/site-packages (1.22.0)\n",
            "\u001b[33m  WARNING: azureml-sdk 1.22.0 does not provide the extra 'au'\u001b[0m\n",
            "Requirement already satisfied, skipping upgrade: azureml-train~=1.22.0 in /anaconda/envs/azureml_py36/lib/python3.6/site-packages (from azureml-sdk[au]) (1.22.0)\n",
            "Requirement already satisfied, skipping upgrade: azureml-train-automl-client~=1.22.0 in /anaconda/envs/azureml_py36/lib/python3.6/site-packages (from azureml-sdk[au]) (1.22.0)\n",
            "Requirement already satisfied, skipping upgrade: azureml-dataset-runtime[fuse]~=1.22.0 in /anaconda/envs/azureml_py36/lib/python3.6/site-packages (from azureml-sdk[au]) (1.22.0)\n",
            "Requirement already satisfied, skipping upgrade: azureml-core~=1.22.0 in /anaconda/envs/azureml_py36/lib/python3.6/site-packages (from azureml-sdk[au]) (1.22.0)\n",
            "Requirement already satisfied, skipping upgrade: azureml-pipeline~=1.22.0 in /anaconda/envs/azureml_py36/lib/python3.6/site-packages (from azureml-sdk[au]) (1.22.0)\n",
            "Requirement already satisfied, skipping upgrade: azureml-train-core~=1.22.0 in /anaconda/envs/azureml_py36/lib/python3.6/site-packages (from azureml-train~=1.22.0->azureml-sdk[au]) (1.22.0)\n",
            "Requirement already satisfied, skipping upgrade: azureml-automl-core~=1.22.0 in /anaconda/envs/azureml_py36/lib/python3.6/site-packages (from azureml-train-automl-client~=1.22.0->azureml-sdk[au]) (1.22.0)\n",
            "Requirement already satisfied, skipping upgrade: azureml-telemetry~=1.22.0 in /anaconda/envs/azureml_py36/lib/python3.6/site-packages (from azureml-train-automl-client~=1.22.0->azureml-sdk[au]) (1.22.0)\n",
            "Requirement already satisfied, skipping upgrade: numpy!=1.19.3; sys_platform == \"linux\" in /anaconda/envs/azureml_py36/lib/python3.6/site-packages (from azureml-dataset-runtime[fuse]~=1.22.0->azureml-sdk[au]) (1.19.5)\n",
            "Requirement already satisfied, skipping upgrade: azureml-dataprep<2.10.0a,>=2.9.0a in /anaconda/envs/azureml_py36/lib/python3.6/site-packages (from azureml-dataset-runtime[fuse]~=1.22.0->azureml-sdk[au]) (2.9.1)\n",
            "Requirement already satisfied, skipping upgrade: pyarrow<2.0.0,>=0.17.0 in /anaconda/envs/azureml_py36/lib/python3.6/site-packages (from azureml-dataset-runtime[fuse]~=1.22.0->azureml-sdk[au]) (1.0.1)\n",
            "Requirement already satisfied, skipping upgrade: fusepy<4.0.0,>=3.0.1; extra == \"fuse\" in /anaconda/envs/azureml_py36/lib/python3.6/site-packages (from azureml-dataset-runtime[fuse]~=1.22.0->azureml-sdk[au]) (3.0.1)\n",
            "Requirement already satisfied, skipping upgrade: pyopenssl<21.0.0 in /anaconda/envs/azureml_py36/lib/python3.6/site-packages (from azureml-core~=1.22.0->azureml-sdk[au]) (20.0.1)\n",
            "Requirement already satisfied, skipping upgrade: azure-mgmt-authorization<1.0.0,>=0.40.0 in /anaconda/envs/azureml_py36/lib/python3.6/site-packages (from azureml-core~=1.22.0->azureml-sdk[au]) (0.61.0)\n",
            "Requirement already satisfied, skipping upgrade: pathspec in /anaconda/envs/azureml_py36/lib/python3.6/site-packages (from azureml-core~=1.22.0->azureml-sdk[au]) (0.8.1)\n",
            "Requirement already satisfied, skipping upgrade: azure-graphrbac<1.0.0,>=0.40.0 in /anaconda/envs/azureml_py36/lib/python3.6/site-packages (from azureml-core~=1.22.0->azureml-sdk[au]) (0.61.1)\n",
            "Requirement already satisfied, skipping upgrade: PyJWT<3.0.0 in /anaconda/envs/azureml_py36/lib/python3.6/site-packages (from azureml-core~=1.22.0->azureml-sdk[au]) (2.0.1)\n",
            "Requirement already satisfied, skipping upgrade: pytz in /anaconda/envs/azureml_py36/lib/python3.6/site-packages (from azureml-core~=1.22.0->azureml-sdk[au]) (2021.1)\n",
            "Requirement already satisfied, skipping upgrade: python-dateutil>=2.7.3 in /anaconda/envs/azureml_py36/lib/python3.6/site-packages (from azureml-core~=1.22.0->azureml-sdk[au]) (2.8.1)\n",
            "Requirement already satisfied, skipping upgrade: azure-common>=1.1.12 in /anaconda/envs/azureml_py36/lib/python3.6/site-packages (from azureml-core~=1.22.0->azureml-sdk[au]) (1.1.26)\n",
            "Requirement already satisfied, skipping upgrade: requests>=2.19.1 in /anaconda/envs/azureml_py36/lib/python3.6/site-packages (from azureml-core~=1.22.0->azureml-sdk[au]) (2.25.1)\n",
            "Requirement already satisfied, skipping upgrade: msrestazure>=0.4.33 in /anaconda/envs/azureml_py36/lib/python3.6/site-packages (from azureml-core~=1.22.0->azureml-sdk[au]) (0.6.4)\n",
            "Requirement already satisfied, skipping upgrade: azure-mgmt-containerregistry>=2.0.0 in /anaconda/envs/azureml_py36/lib/python3.6/site-packages (from azureml-core~=1.22.0->azureml-sdk[au]) (2.8.0)\n",
            "Requirement already satisfied, skipping upgrade: azure-mgmt-resource<15.0.0,>=1.2.1 in /anaconda/envs/azureml_py36/lib/python3.6/site-packages (from azureml-core~=1.22.0->azureml-sdk[au]) (12.0.0)\n",
            "Requirement already satisfied, skipping upgrade: msrest>=0.5.1 in /anaconda/envs/azureml_py36/lib/python3.6/site-packages (from azureml-core~=1.22.0->azureml-sdk[au]) (0.6.21)\n",
            "Requirement already satisfied, skipping upgrade: contextlib2 in /anaconda/envs/azureml_py36/lib/python3.6/site-packages (from azureml-core~=1.22.0->azureml-sdk[au]) (0.6.0.post1)\n",
            "Requirement already satisfied, skipping upgrade: jsonpickle in /anaconda/envs/azureml_py36/lib/python3.6/site-packages (from azureml-core~=1.22.0->azureml-sdk[au]) (2.0.0)\n",
            "Requirement already satisfied, skipping upgrade: SecretStorage in /anaconda/envs/azureml_py36/lib/python3.6/site-packages (from azureml-core~=1.22.0->azureml-sdk[au]) (3.3.1)\n",
            "Requirement already satisfied, skipping upgrade: ruamel.yaml>=0.15.35 in /anaconda/envs/azureml_py36/lib/python3.6/site-packages (from azureml-core~=1.22.0->azureml-sdk[au]) (0.16.12)\n",
            "Requirement already satisfied, skipping upgrade: adal>=1.2.0 in /anaconda/envs/azureml_py36/lib/python3.6/site-packages (from azureml-core~=1.22.0->azureml-sdk[au]) (1.2.6)\n",
            "Requirement already satisfied, skipping upgrade: cryptography!=1.9,!=2.0.*,!=2.1.*,!=2.2.* in /anaconda/envs/azureml_py36/lib/python3.6/site-packages (from azureml-core~=1.22.0->azureml-sdk[au]) (3.4.4)\n",
            "Requirement already satisfied, skipping upgrade: backports.tempfile in /anaconda/envs/azureml_py36/lib/python3.6/site-packages (from azureml-core~=1.22.0->azureml-sdk[au]) (1.0)\n",
            "Requirement already satisfied, skipping upgrade: azure-mgmt-storage<16.0.0,>=1.5.0 in /anaconda/envs/azureml_py36/lib/python3.6/site-packages (from azureml-core~=1.22.0->azureml-sdk[au]) (11.2.0)\n",
            "Requirement already satisfied, skipping upgrade: docker in /anaconda/envs/azureml_py36/lib/python3.6/site-packages (from azureml-core~=1.22.0->azureml-sdk[au]) (4.4.1)\n",
            "Requirement already satisfied, skipping upgrade: ndg-httpsclient in /anaconda/envs/azureml_py36/lib/python3.6/site-packages (from azureml-core~=1.22.0->azureml-sdk[au]) (0.5.1)\n",
            "Requirement already satisfied, skipping upgrade: jmespath in /anaconda/envs/azureml_py36/lib/python3.6/site-packages (from azureml-core~=1.22.0->azureml-sdk[au]) (0.10.0)\n",
            "Requirement already satisfied, skipping upgrade: urllib3>=1.23 in /anaconda/envs/azureml_py36/lib/python3.6/site-packages (from azureml-core~=1.22.0->azureml-sdk[au]) (1.26.3)\n",
            "Requirement already satisfied, skipping upgrade: azure-mgmt-keyvault<7.0.0,>=0.40.0 in /anaconda/envs/azureml_py36/lib/python3.6/site-packages (from azureml-core~=1.22.0->azureml-sdk[au]) (2.2.0)\n",
            "Requirement already satisfied, skipping upgrade: azureml-pipeline-core~=1.22.0 in /anaconda/envs/azureml_py36/lib/python3.6/site-packages (from azureml-pipeline~=1.22.0->azureml-sdk[au]) (1.22.0)\n",
            "Requirement already satisfied, skipping upgrade: azureml-pipeline-steps~=1.22.0 in /anaconda/envs/azureml_py36/lib/python3.6/site-packages (from azureml-pipeline~=1.22.0->azureml-sdk[au]) (1.22.0)\n",
            "Requirement already satisfied, skipping upgrade: azureml-train-restclients-hyperdrive~=1.22.0 in /anaconda/envs/azureml_py36/lib/python3.6/site-packages (from azureml-train-core~=1.22.0->azureml-train~=1.22.0->azureml-sdk[au]) (1.22.0)\n",
            "Requirement already satisfied, skipping upgrade: applicationinsights in /anaconda/envs/azureml_py36/lib/python3.6/site-packages (from azureml-telemetry~=1.22.0->azureml-train-automl-client~=1.22.0->azureml-sdk[au]) (0.11.9)\n",
            "Requirement already satisfied, skipping upgrade: cloudpickle<2.0.0,>=1.1.0 in /anaconda/envs/azureml_py36/lib/python3.6/site-packages (from azureml-dataprep<2.10.0a,>=2.9.0a->azureml-dataset-runtime[fuse]~=1.22.0->azureml-sdk[au]) (1.6.0)\n",
            "Requirement already satisfied, skipping upgrade: dotnetcore2<3.0.0,>=2.1.14 in /anaconda/envs/azureml_py36/lib/python3.6/site-packages (from azureml-dataprep<2.10.0a,>=2.9.0a->azureml-dataset-runtime[fuse]~=1.22.0->azureml-sdk[au]) (2.1.20)\n",
            "Requirement already satisfied, skipping upgrade: azure-identity<1.5.0,>=1.2.0 in /anaconda/envs/azureml_py36/lib/python3.6/site-packages (from azureml-dataprep<2.10.0a,>=2.9.0a->azureml-dataset-runtime[fuse]~=1.22.0->azureml-sdk[au]) (1.4.1)\n",
            "Requirement already satisfied, skipping upgrade: azureml-dataprep-rslex<1.8.0a,>=1.7.0dev0 in /anaconda/envs/azureml_py36/lib/python3.6/site-packages (from azureml-dataprep<2.10.0a,>=2.9.0a->azureml-dataset-runtime[fuse]~=1.22.0->azureml-sdk[au]) (1.7.0)\n",
            "Requirement already satisfied, skipping upgrade: azureml-dataprep-native<30.0.0,>=29.0.0 in /anaconda/envs/azureml_py36/lib/python3.6/site-packages (from azureml-dataprep<2.10.0a,>=2.9.0a->azureml-dataset-runtime[fuse]~=1.22.0->azureml-sdk[au]) (29.0.0)\n",
            "Requirement already satisfied, skipping upgrade: six>=1.5.2 in /anaconda/envs/azureml_py36/lib/python3.6/site-packages (from pyopenssl<21.0.0->azureml-core~=1.22.0->azureml-sdk[au]) (1.15.0)\n",
            "Requirement already satisfied, skipping upgrade: idna<3,>=2.5 in /anaconda/envs/azureml_py36/lib/python3.6/site-packages (from requests>=2.19.1->azureml-core~=1.22.0->azureml-sdk[au]) (2.10)\n",
            "Requirement already satisfied, skipping upgrade: certifi>=2017.4.17 in /anaconda/envs/azureml_py36/lib/python3.6/site-packages (from requests>=2.19.1->azureml-core~=1.22.0->azureml-sdk[au]) (2020.12.5)\n",
            "Requirement already satisfied, skipping upgrade: chardet<5,>=3.0.2 in /anaconda/envs/azureml_py36/lib/python3.6/site-packages (from requests>=2.19.1->azureml-core~=1.22.0->azureml-sdk[au]) (4.0.0)\n",
            "Requirement already satisfied, skipping upgrade: requests-oauthlib>=0.5.0 in /anaconda/envs/azureml_py36/lib/python3.6/site-packages (from msrest>=0.5.1->azureml-core~=1.22.0->azureml-sdk[au]) (1.3.0)\n",
            "Requirement already satisfied, skipping upgrade: isodate>=0.6.0 in /anaconda/envs/azureml_py36/lib/python3.6/site-packages (from msrest>=0.5.1->azureml-core~=1.22.0->azureml-sdk[au]) (0.6.0)\n",
            "Requirement already satisfied, skipping upgrade: importlib-metadata; python_version < \"3.8\" in /anaconda/envs/azureml_py36/lib/python3.6/site-packages (from jsonpickle->azureml-core~=1.22.0->azureml-sdk[au]) (3.4.0)\n",
            "Requirement already satisfied, skipping upgrade: jeepney>=0.6 in /anaconda/envs/azureml_py36/lib/python3.6/site-packages (from SecretStorage->azureml-core~=1.22.0->azureml-sdk[au]) (0.6.0)\n",
            "Requirement already satisfied, skipping upgrade: ruamel.yaml.clib>=0.1.2; platform_python_implementation == \"CPython\" and python_version < \"3.9\" in /anaconda/envs/azureml_py36/lib/python3.6/site-packages (from ruamel.yaml>=0.15.35->azureml-core~=1.22.0->azureml-sdk[au]) (0.2.2)\n",
            "Requirement already satisfied, skipping upgrade: cffi>=1.12 in /anaconda/envs/azureml_py36/lib/python3.6/site-packages (from cryptography!=1.9,!=2.0.*,!=2.1.*,!=2.2.*->azureml-core~=1.22.0->azureml-sdk[au]) (1.14.4)\n",
            "Requirement already satisfied, skipping upgrade: backports.weakref in /anaconda/envs/azureml_py36/lib/python3.6/site-packages (from backports.tempfile->azureml-core~=1.22.0->azureml-sdk[au]) (1.0.post1)\n",
            "Requirement already satisfied, skipping upgrade: websocket-client>=0.32.0 in /anaconda/envs/azureml_py36/lib/python3.6/site-packages (from docker->azureml-core~=1.22.0->azureml-sdk[au]) (0.57.0)\n",
            "Requirement already satisfied, skipping upgrade: pyasn1>=0.1.1 in /anaconda/envs/azureml_py36/lib/python3.6/site-packages (from ndg-httpsclient->azureml-core~=1.22.0->azureml-sdk[au]) (0.4.8)\n",
            "Requirement already satisfied, skipping upgrade: distro>=1.2.0 in /anaconda/envs/azureml_py36/lib/python3.6/site-packages (from dotnetcore2<3.0.0,>=2.1.14->azureml-dataprep<2.10.0a,>=2.9.0a->azureml-dataset-runtime[fuse]~=1.22.0->azureml-sdk[au]) (1.5.0)\n",
            "Requirement already satisfied, skipping upgrade: msal<2.0.0,>=1.3.0 in /anaconda/envs/azureml_py36/lib/python3.6/site-packages (from azure-identity<1.5.0,>=1.2.0->azureml-dataprep<2.10.0a,>=2.9.0a->azureml-dataset-runtime[fuse]~=1.22.0->azureml-sdk[au]) (1.9.0)\n",
            "Requirement already satisfied, skipping upgrade: msal-extensions~=0.2.2 in /anaconda/envs/azureml_py36/lib/python3.6/site-packages (from azure-identity<1.5.0,>=1.2.0->azureml-dataprep<2.10.0a,>=2.9.0a->azureml-dataset-runtime[fuse]~=1.22.0->azureml-sdk[au]) (0.2.2)\n",
            "Requirement already satisfied, skipping upgrade: azure-core<2.0.0,>=1.0.0 in /anaconda/envs/azureml_py36/lib/python3.6/site-packages (from azure-identity<1.5.0,>=1.2.0->azureml-dataprep<2.10.0a,>=2.9.0a->azureml-dataset-runtime[fuse]~=1.22.0->azureml-sdk[au]) (1.11.0)\n",
            "Requirement already satisfied, skipping upgrade: oauthlib>=3.0.0 in /anaconda/envs/azureml_py36/lib/python3.6/site-packages (from requests-oauthlib>=0.5.0->msrest>=0.5.1->azureml-core~=1.22.0->azureml-sdk[au]) (3.1.0)\n",
            "Requirement already satisfied, skipping upgrade: typing-extensions>=3.6.4; python_version < \"3.8\" in /anaconda/envs/azureml_py36/lib/python3.6/site-packages (from importlib-metadata; python_version < \"3.8\"->jsonpickle->azureml-core~=1.22.0->azureml-sdk[au]) (3.7.4.3)\n",
            "Requirement already satisfied, skipping upgrade: zipp>=0.5 in /anaconda/envs/azureml_py36/lib/python3.6/site-packages (from importlib-metadata; python_version < \"3.8\"->jsonpickle->azureml-core~=1.22.0->azureml-sdk[au]) (3.4.0)\n",
            "Requirement already satisfied, skipping upgrade: pycparser in /anaconda/envs/azureml_py36/lib/python3.6/site-packages (from cffi>=1.12->cryptography!=1.9,!=2.0.*,!=2.1.*,!=2.2.*->azureml-core~=1.22.0->azureml-sdk[au]) (2.20)\n",
            "Requirement already satisfied, skipping upgrade: portalocker~=1.0; platform_system != \"Windows\" in /anaconda/envs/azureml_py36/lib/python3.6/site-packages (from msal-extensions~=0.2.2->azure-identity<1.5.0,>=1.2.0->azureml-dataprep<2.10.0a,>=2.9.0a->azureml-dataset-runtime[fuse]~=1.22.0->azureml-sdk[au]) (1.7.1)\n"
          ]
        }
      ],
      "execution_count": 17,
      "metadata": {
        "collapsed": true,
        "jupyter": {
          "source_hidden": false,
          "outputs_hidden": false
        },
        "nteract": {
          "transient": {
            "deleting": false
          }
        }
      }
    },
    {
      "cell_type": "markdown",
      "source": [
        "## Dataset - Heart Failure Clinical Records Dataset\n",
        "\n",
        "### Overview\n",
        "Cardiovascular diseases (CVDs) are the number 1 cause of death globally, taking an estimated 17.9 million lives each year, which accounts for 31% of all deaths worlwide.\n",
        "Heart failure is a common event caused by CVDs and this dataset contains 12 features that can be used to predict mortality by heart failure.\n",
        "\n",
        "Most cardiovascular diseases can be prevented by addressing behavioural risk factors such as tobacco use, unhealthy diet and obesity, physical inactivity and harmful use of alcohol using population-wide strategies.\n",
        "\n",
        "People with cardiovascular disease or who are at high cardiovascular risk (due to the presence of one or more risk factors such as hypertension, diabetes, hyperlipidaemia or already established disease) need early detection and management wherein a machine learning model can be of great help.\n",
        "\n",
        "### Objective\n",
        "Train a model to predict whether the person with Cardiovascular disease will survive or not"
      ],
      "metadata": {}
    },
    {
      "cell_type": "code",
      "source": [
        "# Initialize Workspace\n",
        "ws = Workspace.from_config()\n",
        "print(ws.name, ws.resource_group, ws.location, ws.subscription_id, sep = '\\n')\n",
        "\n",
        "# choose a name for experiment\n",
        "experiment_name = 'automl_heart_failure_prediction'\n",
        "project_folder = './automl'\n",
        "\n",
        "experiment=Experiment(ws, experiment_name)"
      ],
      "outputs": [
        {
          "output_type": "stream",
          "name": "stdout",
          "text": [
            "quick-starts-ws-138424\n",
            "aml-quickstarts-138424\n",
            "southcentralus\n",
            "d4ad7261-832d-46b2-b093-22156001df5b\n"
          ]
        }
      ],
      "execution_count": 21,
      "metadata": {
        "gather": {
          "logged": 1612986453505
        },
        "jupyter": {
          "outputs_hidden": false,
          "source_hidden": false
        },
        "nteract": {
          "transient": {
            "deleting": false
          }
        }
      }
    },
    {
      "cell_type": "code",
      "source": [
        "print('Workspace name: ' + ws.name, \n",
        "      'Azure region: ' + ws.location, \n",
        "      'Subscription id: ' + ws.subscription_id, \n",
        "      'Resource group: ' + ws.resource_group, sep = '\\n')"
      ],
      "outputs": [
        {
          "output_type": "stream",
          "name": "stdout",
          "text": [
            "Workspace name: quick-starts-ws-138424\n",
            "Azure region: southcentralus\n",
            "Subscription id: d4ad7261-832d-46b2-b093-22156001df5b\n",
            "Resource group: aml-quickstarts-138424\n"
          ]
        }
      ],
      "execution_count": 22,
      "metadata": {
        "gather": {
          "logged": 1612986458151
        },
        "jupyter": {
          "outputs_hidden": false,
          "source_hidden": false
        },
        "nteract": {
          "transient": {
            "deleting": false
          }
        }
      }
    },
    {
      "cell_type": "markdown",
      "source": [
        "## Create or Attach an AmlCompute cluster"
      ],
      "metadata": {}
    },
    {
      "cell_type": "code",
      "source": [
        "from azureml.core.compute import AmlCompute\n",
        "from azureml.core.compute import ComputeTarget\n",
        "from azureml.core.compute_target import ComputeTargetException\n",
        "\n",
        "compute_cluster_name = \"capstone-cluster\"\n",
        "\n",
        "# Verify that cluster does not exist already\n",
        "try:\n",
        "    compute_target = ComputeTarget(workspace = ws, name = compute_cluster_name)\n",
        "    print('Found existing cluster, use it.')\n",
        "    \n",
        "except ComputeTargetException:\n",
        "    compute_config = AmlCompute.provisioning_configuration(vm_size='STANDARD_D2_V2',# for GPU, use \"STANDARD_NC6\"\n",
        "                                                           #vm_priority = 'lowpriority', # optional\n",
        "                                                           max_nodes=4)\n",
        "    compute_target = ComputeTarget.create(ws, compute_cluster_name, compute_config)\n",
        "\n",
        "compute_target.wait_for_completion(show_output=True, min_node_count = 1, timeout_in_minutes = 10)\n",
        "# For a more detailed view of current AmlCompute status, use get_status()."
      ],
      "outputs": [
        {
          "output_type": "stream",
          "name": "stdout",
          "text": [
            "Creating\n",
            "Succeeded.................................................................................................................\n",
            "AmlCompute wait for completion finished\n",
            "\n",
            "Wait timeout has been reached\n",
            "Current provisioning state of AmlCompute is \"Succeeded\" and current node count is \"0\"\n"
          ]
        }
      ],
      "execution_count": 4,
      "metadata": {
        "gather": {
          "logged": 1612980431355
        }
      }
    },
    {
      "cell_type": "markdown",
      "source": [
        "## Data"
      ],
      "metadata": {}
    },
    {
      "cell_type": "code",
      "source": [
        "dataset = Dataset.get_by_name(ws, name='Heart_Failure_Clinical_Records_Dataset')\n",
        "\n",
        "df = dataset.to_pandas_dataframe()\n",
        "\n",
        "df.head()"
      ],
      "outputs": [
        {
          "output_type": "execute_result",
          "execution_count": 5,
          "data": {
            "text/plain": "    age  anaemia  creatinine_phosphokinase  diabetes  ejection_fraction  \\\n0  75.0        0                       582         0                 20   \n1  55.0        0                      7861         0                 38   \n2  65.0        0                       146         0                 20   \n3  50.0        1                       111         0                 20   \n4  65.0        1                       160         1                 20   \n\n   high_blood_pressure  platelets  serum_creatinine  serum_sodium  sex  \\\n0                    1  265000.00               1.9           130    1   \n1                    0  263358.03               1.1           136    1   \n2                    0  162000.00               1.3           129    1   \n3                    0  210000.00               1.9           137    1   \n4                    0  327000.00               2.7           116    0   \n\n   smoking  time  DEATH_EVENT  \n0        0     4            1  \n1        0     6            1  \n2        1     7            1  \n3        0     7            1  \n4        0     8            1  ",
            "text/html": "<div>\n<style scoped>\n    .dataframe tbody tr th:only-of-type {\n        vertical-align: middle;\n    }\n\n    .dataframe tbody tr th {\n        vertical-align: top;\n    }\n\n    .dataframe thead th {\n        text-align: right;\n    }\n</style>\n<table border=\"1\" class=\"dataframe\">\n  <thead>\n    <tr style=\"text-align: right;\">\n      <th></th>\n      <th>age</th>\n      <th>anaemia</th>\n      <th>creatinine_phosphokinase</th>\n      <th>diabetes</th>\n      <th>ejection_fraction</th>\n      <th>high_blood_pressure</th>\n      <th>platelets</th>\n      <th>serum_creatinine</th>\n      <th>serum_sodium</th>\n      <th>sex</th>\n      <th>smoking</th>\n      <th>time</th>\n      <th>DEATH_EVENT</th>\n    </tr>\n  </thead>\n  <tbody>\n    <tr>\n      <th>0</th>\n      <td>75.0</td>\n      <td>0</td>\n      <td>582</td>\n      <td>0</td>\n      <td>20</td>\n      <td>1</td>\n      <td>265000.00</td>\n      <td>1.9</td>\n      <td>130</td>\n      <td>1</td>\n      <td>0</td>\n      <td>4</td>\n      <td>1</td>\n    </tr>\n    <tr>\n      <th>1</th>\n      <td>55.0</td>\n      <td>0</td>\n      <td>7861</td>\n      <td>0</td>\n      <td>38</td>\n      <td>0</td>\n      <td>263358.03</td>\n      <td>1.1</td>\n      <td>136</td>\n      <td>1</td>\n      <td>0</td>\n      <td>6</td>\n      <td>1</td>\n    </tr>\n    <tr>\n      <th>2</th>\n      <td>65.0</td>\n      <td>0</td>\n      <td>146</td>\n      <td>0</td>\n      <td>20</td>\n      <td>0</td>\n      <td>162000.00</td>\n      <td>1.3</td>\n      <td>129</td>\n      <td>1</td>\n      <td>1</td>\n      <td>7</td>\n      <td>1</td>\n    </tr>\n    <tr>\n      <th>3</th>\n      <td>50.0</td>\n      <td>1</td>\n      <td>111</td>\n      <td>0</td>\n      <td>20</td>\n      <td>0</td>\n      <td>210000.00</td>\n      <td>1.9</td>\n      <td>137</td>\n      <td>1</td>\n      <td>0</td>\n      <td>7</td>\n      <td>1</td>\n    </tr>\n    <tr>\n      <th>4</th>\n      <td>65.0</td>\n      <td>1</td>\n      <td>160</td>\n      <td>1</td>\n      <td>20</td>\n      <td>0</td>\n      <td>327000.00</td>\n      <td>2.7</td>\n      <td>116</td>\n      <td>0</td>\n      <td>0</td>\n      <td>8</td>\n      <td>1</td>\n    </tr>\n  </tbody>\n</table>\n</div>"
          },
          "metadata": {}
        }
      ],
      "execution_count": 5,
      "metadata": {
        "gather": {
          "logged": 1612980439457
        }
      }
    },
    {
      "cell_type": "code",
      "source": [
        "df.describe()"
      ],
      "outputs": [
        {
          "output_type": "execute_result",
          "execution_count": 6,
          "data": {
            "text/plain": "              age     anaemia  creatinine_phosphokinase    diabetes  \\\ncount  299.000000  299.000000                299.000000  299.000000   \nmean    60.833893    0.431438                581.839465    0.418060   \nstd     11.894809    0.496107                970.287881    0.494067   \nmin     40.000000    0.000000                 23.000000    0.000000   \n25%     51.000000    0.000000                116.500000    0.000000   \n50%     60.000000    0.000000                250.000000    0.000000   \n75%     70.000000    1.000000                582.000000    1.000000   \nmax     95.000000    1.000000               7861.000000    1.000000   \n\n       ejection_fraction  high_blood_pressure      platelets  \\\ncount         299.000000           299.000000     299.000000   \nmean           38.083612             0.351171  263358.029264   \nstd            11.834841             0.478136   97804.236869   \nmin            14.000000             0.000000   25100.000000   \n25%            30.000000             0.000000  212500.000000   \n50%            38.000000             0.000000  262000.000000   \n75%            45.000000             1.000000  303500.000000   \nmax            80.000000             1.000000  850000.000000   \n\n       serum_creatinine  serum_sodium         sex    smoking        time  \\\ncount         299.00000    299.000000  299.000000  299.00000  299.000000   \nmean            1.39388    136.625418    0.648829    0.32107  130.260870   \nstd             1.03451      4.412477    0.478136    0.46767   77.614208   \nmin             0.50000    113.000000    0.000000    0.00000    4.000000   \n25%             0.90000    134.000000    0.000000    0.00000   73.000000   \n50%             1.10000    137.000000    1.000000    0.00000  115.000000   \n75%             1.40000    140.000000    1.000000    1.00000  203.000000   \nmax             9.40000    148.000000    1.000000    1.00000  285.000000   \n\n       DEATH_EVENT  \ncount    299.00000  \nmean       0.32107  \nstd        0.46767  \nmin        0.00000  \n25%        0.00000  \n50%        0.00000  \n75%        1.00000  \nmax        1.00000  ",
            "text/html": "<div>\n<style scoped>\n    .dataframe tbody tr th:only-of-type {\n        vertical-align: middle;\n    }\n\n    .dataframe tbody tr th {\n        vertical-align: top;\n    }\n\n    .dataframe thead th {\n        text-align: right;\n    }\n</style>\n<table border=\"1\" class=\"dataframe\">\n  <thead>\n    <tr style=\"text-align: right;\">\n      <th></th>\n      <th>age</th>\n      <th>anaemia</th>\n      <th>creatinine_phosphokinase</th>\n      <th>diabetes</th>\n      <th>ejection_fraction</th>\n      <th>high_blood_pressure</th>\n      <th>platelets</th>\n      <th>serum_creatinine</th>\n      <th>serum_sodium</th>\n      <th>sex</th>\n      <th>smoking</th>\n      <th>time</th>\n      <th>DEATH_EVENT</th>\n    </tr>\n  </thead>\n  <tbody>\n    <tr>\n      <th>count</th>\n      <td>299.000000</td>\n      <td>299.000000</td>\n      <td>299.000000</td>\n      <td>299.000000</td>\n      <td>299.000000</td>\n      <td>299.000000</td>\n      <td>299.000000</td>\n      <td>299.00000</td>\n      <td>299.000000</td>\n      <td>299.000000</td>\n      <td>299.00000</td>\n      <td>299.000000</td>\n      <td>299.00000</td>\n    </tr>\n    <tr>\n      <th>mean</th>\n      <td>60.833893</td>\n      <td>0.431438</td>\n      <td>581.839465</td>\n      <td>0.418060</td>\n      <td>38.083612</td>\n      <td>0.351171</td>\n      <td>263358.029264</td>\n      <td>1.39388</td>\n      <td>136.625418</td>\n      <td>0.648829</td>\n      <td>0.32107</td>\n      <td>130.260870</td>\n      <td>0.32107</td>\n    </tr>\n    <tr>\n      <th>std</th>\n      <td>11.894809</td>\n      <td>0.496107</td>\n      <td>970.287881</td>\n      <td>0.494067</td>\n      <td>11.834841</td>\n      <td>0.478136</td>\n      <td>97804.236869</td>\n      <td>1.03451</td>\n      <td>4.412477</td>\n      <td>0.478136</td>\n      <td>0.46767</td>\n      <td>77.614208</td>\n      <td>0.46767</td>\n    </tr>\n    <tr>\n      <th>min</th>\n      <td>40.000000</td>\n      <td>0.000000</td>\n      <td>23.000000</td>\n      <td>0.000000</td>\n      <td>14.000000</td>\n      <td>0.000000</td>\n      <td>25100.000000</td>\n      <td>0.50000</td>\n      <td>113.000000</td>\n      <td>0.000000</td>\n      <td>0.00000</td>\n      <td>4.000000</td>\n      <td>0.00000</td>\n    </tr>\n    <tr>\n      <th>25%</th>\n      <td>51.000000</td>\n      <td>0.000000</td>\n      <td>116.500000</td>\n      <td>0.000000</td>\n      <td>30.000000</td>\n      <td>0.000000</td>\n      <td>212500.000000</td>\n      <td>0.90000</td>\n      <td>134.000000</td>\n      <td>0.000000</td>\n      <td>0.00000</td>\n      <td>73.000000</td>\n      <td>0.00000</td>\n    </tr>\n    <tr>\n      <th>50%</th>\n      <td>60.000000</td>\n      <td>0.000000</td>\n      <td>250.000000</td>\n      <td>0.000000</td>\n      <td>38.000000</td>\n      <td>0.000000</td>\n      <td>262000.000000</td>\n      <td>1.10000</td>\n      <td>137.000000</td>\n      <td>1.000000</td>\n      <td>0.00000</td>\n      <td>115.000000</td>\n      <td>0.00000</td>\n    </tr>\n    <tr>\n      <th>75%</th>\n      <td>70.000000</td>\n      <td>1.000000</td>\n      <td>582.000000</td>\n      <td>1.000000</td>\n      <td>45.000000</td>\n      <td>1.000000</td>\n      <td>303500.000000</td>\n      <td>1.40000</td>\n      <td>140.000000</td>\n      <td>1.000000</td>\n      <td>1.00000</td>\n      <td>203.000000</td>\n      <td>1.00000</td>\n    </tr>\n    <tr>\n      <th>max</th>\n      <td>95.000000</td>\n      <td>1.000000</td>\n      <td>7861.000000</td>\n      <td>1.000000</td>\n      <td>80.000000</td>\n      <td>1.000000</td>\n      <td>850000.000000</td>\n      <td>9.40000</td>\n      <td>148.000000</td>\n      <td>1.000000</td>\n      <td>1.00000</td>\n      <td>285.000000</td>\n      <td>1.00000</td>\n    </tr>\n  </tbody>\n</table>\n</div>"
          },
          "metadata": {}
        }
      ],
      "execution_count": 6,
      "metadata": {
        "gather": {
          "logged": 1612980464627
        }
      }
    },
    {
      "cell_type": "markdown",
      "source": [
        "## AutoML Configuration\n",
        "\n",
        "TODO: Explain why you chose the automl settings and cofiguration you used below."
      ],
      "metadata": {}
    },
    {
      "cell_type": "code",
      "source": [
        "if \"automl\" not in os.listdir():\n",
        "    os.mkdir(\"./automl\")\n",
        "\n",
        "# TODO: Put your automl settings here\n",
        "automl_settings = {\"experiment_timeout_minutes\": 30,\n",
        "    \"max_concurrent_iterations\": 4,\n",
        "    \"max_cores_per_iteration\": -1,\n",
        "    \"n_cross_validations\": 5,\n",
        "    \"primary_metric\" : 'accuracy'}\n",
        "\n",
        "# TODO: Put your automl config here\n",
        "automl_config = AutoMLConfig(compute_target = compute_target,\n",
        "                             task = \"classification\",\n",
        "                             training_data = dataset,\n",
        "                             label_column_name = \"DEATH_EVENT\",\n",
        "                             path = project_folder,\n",
        "                             enable_early_stopping = True,\n",
        "                             enable_onnx_compatible_models = True,\n",
        "                             featurization = 'auto',\n",
        "                             debug_log = \"automl_errors.log\",\n",
        "                             **automl_settings)"
      ],
      "outputs": [],
      "execution_count": 23,
      "metadata": {
        "gather": {
          "logged": 1612986467940
        },
        "jupyter": {
          "outputs_hidden": false,
          "source_hidden": false
        },
        "nteract": {
          "transient": {
            "deleting": false
          }
        }
      }
    },
    {
      "cell_type": "code",
      "source": [
        "# TODO: Submit your experiment\n",
        "remote_run = experiment.submit(automl_config)"
      ],
      "outputs": [
        {
          "output_type": "stream",
          "name": "stdout",
          "text": [
            "Running on remote.\n"
          ]
        }
      ],
      "execution_count": 24,
      "metadata": {
        "gather": {
          "logged": 1612986475851
        },
        "jupyter": {
          "outputs_hidden": false,
          "source_hidden": false
        },
        "nteract": {
          "transient": {
            "deleting": false
          }
        }
      }
    },
    {
      "cell_type": "markdown",
      "source": [
        "## Run Details\n",
        "\n",
        "OPTIONAL: Write about the different models trained and their performance. Why do you think some models did better than others?\n",
        "\n",
        "TODO: In the cell below, use the `RunDetails` widget to show the different experiments."
      ],
      "metadata": {}
    },
    {
      "cell_type": "code",
      "source": [
        "from azureml.widgets import RunDetails\n",
        "RunDetails(remote_run).show()\n",
        "\n",
        "remote_run.wait_for_completion(show_output=True)"
      ],
      "outputs": [
        {
          "output_type": "display_data",
          "data": {
            "text/plain": "_AutoMLWidget(widget_settings={'childWidgetDisplay': 'popup', 'send_telemetry': False, 'log_level': 'INFO', 's…",
            "application/vnd.jupyter.widget-view+json": {
              "version_major": 2,
              "version_minor": 0,
              "model_id": "ae85bff6a1a54b0285517db83b0729f6"
            }
          },
          "metadata": {}
        },
        {
          "output_type": "display_data",
          "data": {
            "application/aml.mini.widget.v1": "{\"status\": \"Completed\", \"workbench_run_details_uri\": \"https://ml.azure.com/experiments/automl_heart_failure_prediction/runs/AutoML_270ccba5-71fb-4b17-8fb5-5af529d9f8d4?wsid=/subscriptions/d4ad7261-832d-46b2-b093-22156001df5b/resourcegroups/aml-quickstarts-138424/workspaces/quick-starts-ws-138424\", \"run_id\": \"AutoML_270ccba5-71fb-4b17-8fb5-5af529d9f8d4\", \"run_properties\": {\"run_id\": \"AutoML_270ccba5-71fb-4b17-8fb5-5af529d9f8d4\", \"created_utc\": \"2021-02-10T19:47:54.06623Z\", \"properties\": {\"num_iterations\": \"1000\", \"training_type\": \"TrainFull\", \"acquisition_function\": \"EI\", \"primary_metric\": \"accuracy\", \"train_split\": \"0\", \"acquisition_parameter\": \"0\", \"num_cross_validation\": \"5\", \"target\": \"capstone-cluster\", \"AMLSettingsJsonString\": \"{\\\"path\\\":null,\\\"name\\\":\\\"automl_heart_failure_prediction\\\",\\\"subscription_id\\\":\\\"d4ad7261-832d-46b2-b093-22156001df5b\\\",\\\"resource_group\\\":\\\"aml-quickstarts-138424\\\",\\\"workspace_name\\\":\\\"quick-starts-ws-138424\\\",\\\"region\\\":\\\"southcentralus\\\",\\\"compute_target\\\":\\\"capstone-cluster\\\",\\\"spark_service\\\":null,\\\"azure_service\\\":\\\"remote\\\",\\\"many_models\\\":false,\\\"pipeline_fetch_max_batch_size\\\":1,\\\"iterations\\\":1000,\\\"primary_metric\\\":\\\"accuracy\\\",\\\"task_type\\\":\\\"classification\\\",\\\"data_script\\\":null,\\\"validation_size\\\":0.0,\\\"n_cross_validations\\\":5,\\\"y_min\\\":null,\\\"y_max\\\":null,\\\"num_classes\\\":null,\\\"featurization\\\":\\\"auto\\\",\\\"_ignore_package_version_incompatibilities\\\":false,\\\"is_timeseries\\\":false,\\\"max_cores_per_iteration\\\":-1,\\\"max_concurrent_iterations\\\":4,\\\"iteration_timeout_minutes\\\":null,\\\"mem_in_mb\\\":null,\\\"enforce_time_on_windows\\\":false,\\\"experiment_timeout_minutes\\\":30,\\\"experiment_exit_score\\\":null,\\\"whitelist_models\\\":null,\\\"blacklist_algos\\\":[\\\"TensorFlowLinearClassifier\\\",\\\"TensorFlowDNN\\\"],\\\"supported_models\\\":[\\\"LightGBM\\\",\\\"TensorFlowDNN\\\",\\\"LogisticRegression\\\",\\\"TensorFlowLinearClassifier\\\",\\\"LinearSVM\\\",\\\"DecisionTree\\\",\\\"SVM\\\",\\\"BernoulliNaiveBayes\\\",\\\"AveragedPerceptronClassifier\\\",\\\"RandomForest\\\",\\\"XGBoostClassifier\\\",\\\"GradientBoosting\\\",\\\"MultinomialNaiveBayes\\\",\\\"ExtremeRandomTrees\\\",\\\"SGD\\\",\\\"KNN\\\"],\\\"auto_blacklist\\\":true,\\\"blacklist_samples_reached\\\":false,\\\"exclude_nan_labels\\\":true,\\\"verbosity\\\":20,\\\"_debug_log\\\":\\\"azureml_automl.log\\\",\\\"show_warnings\\\":false,\\\"model_explainability\\\":true,\\\"service_url\\\":null,\\\"sdk_url\\\":null,\\\"sdk_packages\\\":null,\\\"enable_onnx_compatible_models\\\":true,\\\"enable_split_onnx_featurizer_estimator_models\\\":false,\\\"vm_type\\\":\\\"STANDARD_D2_V2\\\",\\\"telemetry_verbosity\\\":20,\\\"send_telemetry\\\":true,\\\"enable_dnn\\\":false,\\\"scenario\\\":\\\"SDK-1.13.0\\\",\\\"environment_label\\\":null,\\\"force_text_dnn\\\":false,\\\"enable_feature_sweeping\\\":false,\\\"enable_early_stopping\\\":true,\\\"early_stopping_n_iters\\\":10,\\\"metrics\\\":null,\\\"enable_ensembling\\\":true,\\\"enable_stack_ensembling\\\":false,\\\"ensemble_iterations\\\":15,\\\"enable_tf\\\":false,\\\"enable_subsampling\\\":null,\\\"subsample_seed\\\":null,\\\"enable_nimbusml\\\":false,\\\"enable_streaming\\\":false,\\\"force_streaming\\\":false,\\\"track_child_runs\\\":true,\\\"allowed_private_models\\\":[],\\\"label_column_name\\\":\\\"DEATH_EVENT\\\",\\\"weight_column_name\\\":null,\\\"cv_split_column_names\\\":null,\\\"enable_local_managed\\\":false,\\\"_local_managed_run_id\\\":null,\\\"cost_mode\\\":1,\\\"lag_length\\\":0,\\\"metric_operation\\\":\\\"maximize\\\",\\\"preprocess\\\":true}\", \"DataPrepJsonString\": \"{\\\\\\\"training_data\\\\\\\": \\\\\\\"{\\\\\\\\\\\\\\\"blocks\\\\\\\\\\\\\\\": [{\\\\\\\\\\\\\\\"id\\\\\\\\\\\\\\\": \\\\\\\\\\\\\\\"dce12839-b3c7-4258-8006-ad12b8c4611e\\\\\\\\\\\\\\\", \\\\\\\\\\\\\\\"type\\\\\\\\\\\\\\\": \\\\\\\\\\\\\\\"Microsoft.DPrep.GetDatastoreFilesBlock\\\\\\\\\\\\\\\", \\\\\\\\\\\\\\\"arguments\\\\\\\\\\\\\\\": {\\\\\\\\\\\\\\\"datastores\\\\\\\\\\\\\\\": [{\\\\\\\\\\\\\\\"datastoreName\\\\\\\\\\\\\\\": \\\\\\\\\\\\\\\"workspaceblobstore\\\\\\\\\\\\\\\", \\\\\\\\\\\\\\\"path\\\\\\\\\\\\\\\": \\\\\\\\\\\\\\\"UI/02-10-2021_055800_UTC/heart_failure_clinical_records_dataset.csv\\\\\\\\\\\\\\\", \\\\\\\\\\\\\\\"resourceGroup\\\\\\\\\\\\\\\": \\\\\\\\\\\\\\\"aml-quickstarts-138424\\\\\\\\\\\\\\\", \\\\\\\\\\\\\\\"subscription\\\\\\\\\\\\\\\": \\\\\\\\\\\\\\\"d4ad7261-832d-46b2-b093-22156001df5b\\\\\\\\\\\\\\\", \\\\\\\\\\\\\\\"workspaceName\\\\\\\\\\\\\\\": \\\\\\\\\\\\\\\"quick-starts-ws-138424\\\\\\\\\\\\\\\"}]}, \\\\\\\\\\\\\\\"localData\\\\\\\\\\\\\\\": {}, \\\\\\\\\\\\\\\"isEnabled\\\\\\\\\\\\\\\": true, \\\\\\\\\\\\\\\"name\\\\\\\\\\\\\\\": null, \\\\\\\\\\\\\\\"annotation\\\\\\\\\\\\\\\": null}, {\\\\\\\\\\\\\\\"id\\\\\\\\\\\\\\\": \\\\\\\\\\\\\\\"63084521-81b2-433e-bc2e-3d429a496fa7\\\\\\\\\\\\\\\", \\\\\\\\\\\\\\\"type\\\\\\\\\\\\\\\": \\\\\\\\\\\\\\\"Microsoft.DPrep.ParseDelimitedBlock\\\\\\\\\\\\\\\", \\\\\\\\\\\\\\\"arguments\\\\\\\\\\\\\\\": {\\\\\\\\\\\\\\\"columnHeadersMode\\\\\\\\\\\\\\\": 1, \\\\\\\\\\\\\\\"fileEncoding\\\\\\\\\\\\\\\": 0, \\\\\\\\\\\\\\\"handleQuotedLineBreaks\\\\\\\\\\\\\\\": false, \\\\\\\\\\\\\\\"preview\\\\\\\\\\\\\\\": false, \\\\\\\\\\\\\\\"separator\\\\\\\\\\\\\\\": \\\\\\\\\\\\\\\",\\\\\\\\\\\\\\\", \\\\\\\\\\\\\\\"skipRows\\\\\\\\\\\\\\\": 0, \\\\\\\\\\\\\\\"skipRowsMode\\\\\\\\\\\\\\\": 0}, \\\\\\\\\\\\\\\"localData\\\\\\\\\\\\\\\": {}, \\\\\\\\\\\\\\\"isEnabled\\\\\\\\\\\\\\\": true, \\\\\\\\\\\\\\\"name\\\\\\\\\\\\\\\": null, \\\\\\\\\\\\\\\"annotation\\\\\\\\\\\\\\\": null}, {\\\\\\\\\\\\\\\"id\\\\\\\\\\\\\\\": \\\\\\\\\\\\\\\"3b7cc75b-02e7-47ce-9fb7-2d815101a356\\\\\\\\\\\\\\\", \\\\\\\\\\\\\\\"type\\\\\\\\\\\\\\\": \\\\\\\\\\\\\\\"Microsoft.DPrep.DropColumnsBlock\\\\\\\\\\\\\\\", \\\\\\\\\\\\\\\"arguments\\\\\\\\\\\\\\\": {\\\\\\\\\\\\\\\"columns\\\\\\\\\\\\\\\": {\\\\\\\\\\\\\\\"type\\\\\\\\\\\\\\\": 0, \\\\\\\\\\\\\\\"details\\\\\\\\\\\\\\\": {\\\\\\\\\\\\\\\"selectedColumns\\\\\\\\\\\\\\\": [\\\\\\\\\\\\\\\"Path\\\\\\\\\\\\\\\"]}}}, \\\\\\\\\\\\\\\"localData\\\\\\\\\\\\\\\": {}, \\\\\\\\\\\\\\\"isEnabled\\\\\\\\\\\\\\\": true, \\\\\\\\\\\\\\\"name\\\\\\\\\\\\\\\": null, \\\\\\\\\\\\\\\"annotation\\\\\\\\\\\\\\\": null}, {\\\\\\\\\\\\\\\"id\\\\\\\\\\\\\\\": \\\\\\\\\\\\\\\"f259a683-2b48-4d06-9faa-40bd25aae48c\\\\\\\\\\\\\\\", \\\\\\\\\\\\\\\"type\\\\\\\\\\\\\\\": \\\\\\\\\\\\\\\"Microsoft.DPrep.SetColumnTypesBlock\\\\\\\\\\\\\\\", \\\\\\\\\\\\\\\"arguments\\\\\\\\\\\\\\\": {\\\\\\\\\\\\\\\"columnConversion\\\\\\\\\\\\\\\": [{\\\\\\\\\\\\\\\"column\\\\\\\\\\\\\\\": {\\\\\\\\\\\\\\\"type\\\\\\\\\\\\\\\": 2, \\\\\\\\\\\\\\\"details\\\\\\\\\\\\\\\": {\\\\\\\\\\\\\\\"selectedColumn\\\\\\\\\\\\\\\": \\\\\\\\\\\\\\\"Path\\\\\\\\\\\\\\\"}}, \\\\\\\\\\\\\\\"typeProperty\\\\\\\\\\\\\\\": 0}, {\\\\\\\\\\\\\\\"column\\\\\\\\\\\\\\\": {\\\\\\\\\\\\\\\"type\\\\\\\\\\\\\\\": 2, \\\\\\\\\\\\\\\"details\\\\\\\\\\\\\\\": {\\\\\\\\\\\\\\\"selectedColumn\\\\\\\\\\\\\\\": \\\\\\\\\\\\\\\"age\\\\\\\\\\\\\\\"}}, \\\\\\\\\\\\\\\"typeProperty\\\\\\\\\\\\\\\": 3}, {\\\\\\\\\\\\\\\"column\\\\\\\\\\\\\\\": {\\\\\\\\\\\\\\\"type\\\\\\\\\\\\\\\": 2, \\\\\\\\\\\\\\\"details\\\\\\\\\\\\\\\": {\\\\\\\\\\\\\\\"selectedColumn\\\\\\\\\\\\\\\": \\\\\\\\\\\\\\\"anaemia\\\\\\\\\\\\\\\"}}, \\\\\\\\\\\\\\\"typeProperty\\\\\\\\\\\\\\\": 2}, {\\\\\\\\\\\\\\\"column\\\\\\\\\\\\\\\": {\\\\\\\\\\\\\\\"type\\\\\\\\\\\\\\\": 2, \\\\\\\\\\\\\\\"details\\\\\\\\\\\\\\\": {\\\\\\\\\\\\\\\"selectedColumn\\\\\\\\\\\\\\\": \\\\\\\\\\\\\\\"creatinine_phosphokinase\\\\\\\\\\\\\\\"}}, \\\\\\\\\\\\\\\"typeProperty\\\\\\\\\\\\\\\": 2}, {\\\\\\\\\\\\\\\"column\\\\\\\\\\\\\\\": {\\\\\\\\\\\\\\\"type\\\\\\\\\\\\\\\": 2, \\\\\\\\\\\\\\\"details\\\\\\\\\\\\\\\": {\\\\\\\\\\\\\\\"selectedColumn\\\\\\\\\\\\\\\": \\\\\\\\\\\\\\\"diabetes\\\\\\\\\\\\\\\"}}, \\\\\\\\\\\\\\\"typeProperty\\\\\\\\\\\\\\\": 2}, {\\\\\\\\\\\\\\\"column\\\\\\\\\\\\\\\": {\\\\\\\\\\\\\\\"type\\\\\\\\\\\\\\\": 2, \\\\\\\\\\\\\\\"details\\\\\\\\\\\\\\\": {\\\\\\\\\\\\\\\"selectedColumn\\\\\\\\\\\\\\\": \\\\\\\\\\\\\\\"ejection_fraction\\\\\\\\\\\\\\\"}}, \\\\\\\\\\\\\\\"typeProperty\\\\\\\\\\\\\\\": 2}, {\\\\\\\\\\\\\\\"column\\\\\\\\\\\\\\\": {\\\\\\\\\\\\\\\"type\\\\\\\\\\\\\\\": 2, \\\\\\\\\\\\\\\"details\\\\\\\\\\\\\\\": {\\\\\\\\\\\\\\\"selectedColumn\\\\\\\\\\\\\\\": \\\\\\\\\\\\\\\"high_blood_pressure\\\\\\\\\\\\\\\"}}, \\\\\\\\\\\\\\\"typeProperty\\\\\\\\\\\\\\\": 2}, {\\\\\\\\\\\\\\\"column\\\\\\\\\\\\\\\": {\\\\\\\\\\\\\\\"type\\\\\\\\\\\\\\\": 2, \\\\\\\\\\\\\\\"details\\\\\\\\\\\\\\\": {\\\\\\\\\\\\\\\"selectedColumn\\\\\\\\\\\\\\\": \\\\\\\\\\\\\\\"platelets\\\\\\\\\\\\\\\"}}, \\\\\\\\\\\\\\\"typeProperty\\\\\\\\\\\\\\\": 3}, {\\\\\\\\\\\\\\\"column\\\\\\\\\\\\\\\": {\\\\\\\\\\\\\\\"type\\\\\\\\\\\\\\\": 2, \\\\\\\\\\\\\\\"details\\\\\\\\\\\\\\\": {\\\\\\\\\\\\\\\"selectedColumn\\\\\\\\\\\\\\\": \\\\\\\\\\\\\\\"serum_creatinine\\\\\\\\\\\\\\\"}}, \\\\\\\\\\\\\\\"typeProperty\\\\\\\\\\\\\\\": 3}, {\\\\\\\\\\\\\\\"column\\\\\\\\\\\\\\\": {\\\\\\\\\\\\\\\"type\\\\\\\\\\\\\\\": 2, \\\\\\\\\\\\\\\"details\\\\\\\\\\\\\\\": {\\\\\\\\\\\\\\\"selectedColumn\\\\\\\\\\\\\\\": \\\\\\\\\\\\\\\"serum_sodium\\\\\\\\\\\\\\\"}}, \\\\\\\\\\\\\\\"typeProperty\\\\\\\\\\\\\\\": 2}, {\\\\\\\\\\\\\\\"column\\\\\\\\\\\\\\\": {\\\\\\\\\\\\\\\"type\\\\\\\\\\\\\\\": 2, \\\\\\\\\\\\\\\"details\\\\\\\\\\\\\\\": {\\\\\\\\\\\\\\\"selectedColumn\\\\\\\\\\\\\\\": \\\\\\\\\\\\\\\"sex\\\\\\\\\\\\\\\"}}, \\\\\\\\\\\\\\\"typeProperty\\\\\\\\\\\\\\\": 2}, {\\\\\\\\\\\\\\\"column\\\\\\\\\\\\\\\": {\\\\\\\\\\\\\\\"type\\\\\\\\\\\\\\\": 2, \\\\\\\\\\\\\\\"details\\\\\\\\\\\\\\\": {\\\\\\\\\\\\\\\"selectedColumn\\\\\\\\\\\\\\\": \\\\\\\\\\\\\\\"smoking\\\\\\\\\\\\\\\"}}, \\\\\\\\\\\\\\\"typeProperty\\\\\\\\\\\\\\\": 2}, {\\\\\\\\\\\\\\\"column\\\\\\\\\\\\\\\": {\\\\\\\\\\\\\\\"type\\\\\\\\\\\\\\\": 2, \\\\\\\\\\\\\\\"details\\\\\\\\\\\\\\\": {\\\\\\\\\\\\\\\"selectedColumn\\\\\\\\\\\\\\\": \\\\\\\\\\\\\\\"time\\\\\\\\\\\\\\\"}}, \\\\\\\\\\\\\\\"typeProperty\\\\\\\\\\\\\\\": 2}, {\\\\\\\\\\\\\\\"column\\\\\\\\\\\\\\\": {\\\\\\\\\\\\\\\"type\\\\\\\\\\\\\\\": 2, \\\\\\\\\\\\\\\"details\\\\\\\\\\\\\\\": {\\\\\\\\\\\\\\\"selectedColumn\\\\\\\\\\\\\\\": \\\\\\\\\\\\\\\"DEATH_EVENT\\\\\\\\\\\\\\\"}}, \\\\\\\\\\\\\\\"typeProperty\\\\\\\\\\\\\\\": 2}]}, \\\\\\\\\\\\\\\"localData\\\\\\\\\\\\\\\": {}, \\\\\\\\\\\\\\\"isEnabled\\\\\\\\\\\\\\\": true, \\\\\\\\\\\\\\\"name\\\\\\\\\\\\\\\": null, \\\\\\\\\\\\\\\"annotation\\\\\\\\\\\\\\\": null}], \\\\\\\\\\\\\\\"inspectors\\\\\\\\\\\\\\\": [], \\\\\\\\\\\\\\\"meta\\\\\\\\\\\\\\\": {\\\\\\\\\\\\\\\"savedDatasetId\\\\\\\\\\\\\\\": \\\\\\\\\\\\\\\"4d34969d-c0ee-47ea-96bd-1109d0c0cacc\\\\\\\\\\\\\\\", \\\\\\\\\\\\\\\"datasetType\\\\\\\\\\\\\\\": \\\\\\\\\\\\\\\"tabular\\\\\\\\\\\\\\\", \\\\\\\\\\\\\\\"subscriptionId\\\\\\\\\\\\\\\": \\\\\\\\\\\\\\\"d4ad7261-832d-46b2-b093-22156001df5b\\\\\\\\\\\\\\\", \\\\\\\\\\\\\\\"workspaceId\\\\\\\\\\\\\\\": \\\\\\\\\\\\\\\"6aa208b7-0db5-47b8-babd-fc41cc401d8d\\\\\\\\\\\\\\\", \\\\\\\\\\\\\\\"workspaceLocation\\\\\\\\\\\\\\\": \\\\\\\\\\\\\\\"southcentralus\\\\\\\\\\\\\\\"}}\\\\\\\", \\\\\\\"activities\\\\\\\": 0}\", \"EnableSubsampling\": null, \"runTemplate\": \"AutoML\", \"azureml.runsource\": \"automl\", \"display_task_type\": \"classification\", \"dependencies_versions\": \"{\\\"azureml-widgets\\\": \\\"1.20.0\\\", \\\"azureml-train\\\": \\\"1.20.0\\\", \\\"azureml-train-restclients-hyperdrive\\\": \\\"1.20.0\\\", \\\"azureml-train-core\\\": \\\"1.20.0\\\", \\\"azureml-train-automl\\\": \\\"1.20.0\\\", \\\"azureml-train-automl-runtime\\\": \\\"1.20.0\\\", \\\"azureml-train-automl-client\\\": \\\"1.20.0\\\", \\\"azureml-tensorboard\\\": \\\"1.20.0\\\", \\\"azureml-telemetry\\\": \\\"1.20.0\\\", \\\"azureml-sdk\\\": \\\"1.20.0\\\", \\\"azureml-samples\\\": \\\"0+unknown\\\", \\\"azureml-pipeline\\\": \\\"1.20.0\\\", \\\"azureml-pipeline-steps\\\": \\\"1.20.0\\\", \\\"azureml-pipeline-core\\\": \\\"1.20.0\\\", \\\"azureml-opendatasets\\\": \\\"1.20.0\\\", \\\"azureml-model-management-sdk\\\": \\\"1.0.1b6.post1\\\", \\\"azureml-mlflow\\\": \\\"1.20.0.post1\\\", \\\"azureml-interpret\\\": \\\"1.20.0\\\", \\\"azureml-explain-model\\\": \\\"1.20.0\\\", \\\"azureml-defaults\\\": \\\"1.20.0\\\", \\\"azureml-dataset-runtime\\\": \\\"1.20.0\\\", \\\"azureml-dataprep\\\": \\\"2.7.3\\\", \\\"azureml-dataprep-rslex\\\": \\\"1.5.0\\\", \\\"azureml-dataprep-native\\\": \\\"27.0.0\\\", \\\"azureml-datadrift\\\": \\\"1.20.0\\\", \\\"azureml-core\\\": \\\"1.20.0\\\", \\\"azureml-contrib-services\\\": \\\"1.20.0\\\", \\\"azureml-contrib-server\\\": \\\"1.20.0\\\", \\\"azureml-contrib-reinforcementlearning\\\": \\\"1.20.0\\\", \\\"azureml-contrib-pipeline-steps\\\": \\\"1.20.0\\\", \\\"azureml-contrib-notebook\\\": \\\"1.20.0\\\", \\\"azureml-contrib-interpret\\\": \\\"1.20.0\\\", \\\"azureml-contrib-gbdt\\\": \\\"1.20.0\\\", \\\"azureml-contrib-fairness\\\": \\\"1.20.0\\\", \\\"azureml-contrib-dataset\\\": \\\"1.20.0\\\", \\\"azureml-cli-common\\\": \\\"1.20.0\\\", \\\"azureml-automl-runtime\\\": \\\"1.20.0\\\", \\\"azureml-automl-core\\\": \\\"1.20.0\\\", \\\"azureml-accel-models\\\": \\\"1.20.0\\\"}\", \"_aml_system_scenario_identification\": \"Remote.Parent\", \"ClientType\": \"SDK\", \"environment_cpu_name\": \"AzureML-AutoML\", \"environment_cpu_label\": \"prod\", \"environment_gpu_name\": \"AzureML-AutoML-GPU\", \"environment_gpu_label\": \"prod\", \"root_attribution\": \"automl\", \"attribution\": \"AutoML\", \"Orchestrator\": \"AutoML\", \"CancelUri\": \"https://southcentralus.experiments.azureml.net/jasmine/v1.0/subscriptions/d4ad7261-832d-46b2-b093-22156001df5b/resourceGroups/aml-quickstarts-138424/providers/Microsoft.MachineLearningServices/workspaces/quick-starts-ws-138424/experimentids/64b34ce8-7dab-4138-b2ad-4165f9889eb4/cancel/AutoML_270ccba5-71fb-4b17-8fb5-5af529d9f8d4\", \"ClientSdkVersion\": \"1.21.0\", \"snapshotId\": \"00000000-0000-0000-0000-000000000000\", \"SetupRunId\": \"AutoML_270ccba5-71fb-4b17-8fb5-5af529d9f8d4_setup\", \"SetupRunContainerId\": \"dcid.AutoML_270ccba5-71fb-4b17-8fb5-5af529d9f8d4_setup\", \"FeaturizationRunJsonPath\": \"featurizer_container.json\", \"FeaturizationRunId\": \"AutoML_270ccba5-71fb-4b17-8fb5-5af529d9f8d4_featurize\", \"ProblemInfoJsonString\": \"{\\\"dataset_num_categorical\\\": 0, \\\"is_sparse\\\": false, \\\"subsampling\\\": false, \\\"dataset_classes\\\": 2, \\\"dataset_features\\\": 12, \\\"dataset_samples\\\": 299, \\\"single_frequency_class_detected\\\": false}\", \"ModelExplainRunId\": \"AutoML_270ccba5-71fb-4b17-8fb5-5af529d9f8d4_ModelExplain\"}, \"tags\": {\"model_explain_run\": \"best_run\", \"_aml_system_azureml.automlComponent\": \"AutoML\", \"pipeline_id\": \"\", \"score\": \"\", \"predicted_cost\": \"\", \"fit_time\": \"\", \"training_percent\": \"\", \"iteration\": \"\", \"run_preprocessor\": \"\", \"run_algorithm\": \"\", \"dynamic_whitelisting_iterations\": \"<25>;<30>;<35>;\", \"automl_best_child_run_id\": \"AutoML_270ccba5-71fb-4b17-8fb5-5af529d9f8d4_36\", \"model_explain_best_run_child_id\": \"AutoML_270ccba5-71fb-4b17-8fb5-5af529d9f8d4_36\"}, \"end_time_utc\": \"2021-02-10T20:09:26.424105Z\", \"status\": \"Completed\", \"log_files\": {}, \"log_groups\": [], \"run_duration\": \"0:21:32\"}, \"child_runs\": [{\"run_id\": \"AutoML_270ccba5-71fb-4b17-8fb5-5af529d9f8d4_0\", \"run_number\": 49, \"metric\": null, \"status\": \"Completed\", \"run_type\": \"azureml.scriptrun\", \"training_percent\": \"100\", \"start_time\": \"2021-02-10T19:54:47.492174Z\", \"end_time\": \"2021-02-10T19:59:12.187537Z\", \"created_time\": \"2021-02-10T19:52:07.129353Z\", \"created_time_dt\": \"2021-02-10T19:52:07.129353Z\", \"duration\": \"0:07:05\", \"iteration\": \"0\", \"goal\": \"accuracy_max\", \"run_name\": \"MaxAbsScaler, LightGBM\", \"run_properties\": \"copy=True\", \"primary_metric\": 0.8059887, \"best_metric\": 0.8059887}, {\"run_id\": \"AutoML_270ccba5-71fb-4b17-8fb5-5af529d9f8d4_1\", \"run_number\": 50, \"metric\": null, \"status\": \"Completed\", \"run_type\": \"azureml.scriptrun\", \"training_percent\": \"100\", \"start_time\": \"2021-02-10T19:52:17.971906Z\", \"end_time\": \"2021-02-10T19:53:11.950873Z\", \"created_time\": \"2021-02-10T19:52:07.141298Z\", \"created_time_dt\": \"2021-02-10T19:52:07.141298Z\", \"duration\": \"0:01:04\", \"iteration\": \"1\", \"goal\": \"accuracy_max\", \"run_name\": \"MaxAbsScaler, XGBoostClassifier\", \"run_properties\": \"copy=True\", \"primary_metric\": 0.8259322, \"best_metric\": 0.8259322}, {\"run_id\": \"AutoML_270ccba5-71fb-4b17-8fb5-5af529d9f8d4_3\", \"run_number\": 51, \"metric\": null, \"status\": \"Completed\", \"run_type\": \"azureml.scriptrun\", \"training_percent\": \"100\", \"start_time\": \"2021-02-10T19:54:16.010688Z\", \"end_time\": \"2021-02-10T19:55:14.142447Z\", \"created_time\": \"2021-02-10T19:52:07.146061Z\", \"created_time_dt\": \"2021-02-10T19:52:07.146061Z\", \"duration\": \"0:03:06\", \"iteration\": \"3\", \"goal\": \"accuracy_max\", \"run_name\": \"MinMaxScaler, RandomForest\", \"run_properties\": \"copy=True, feature_range=(0, 1\", \"primary_metric\": 0.80587571, \"best_metric\": 0.83937853}, {\"run_id\": \"AutoML_270ccba5-71fb-4b17-8fb5-5af529d9f8d4_2\", \"run_number\": 52, \"metric\": null, \"status\": \"Completed\", \"run_type\": \"azureml.scriptrun\", \"training_percent\": \"100\", \"start_time\": \"2021-02-10T19:53:18.443846Z\", \"end_time\": \"2021-02-10T19:54:11.33294Z\", \"created_time\": \"2021-02-10T19:52:07.176619Z\", \"created_time_dt\": \"2021-02-10T19:52:07.176619Z\", \"duration\": \"0:02:04\", \"iteration\": \"2\", \"goal\": \"accuracy_max\", \"run_name\": \"MinMaxScaler, RandomForest\", \"run_properties\": \"copy=True, feature_range=(0, 1\", \"primary_metric\": 0.83937853, \"best_metric\": 0.83937853}, {\"run_id\": \"AutoML_270ccba5-71fb-4b17-8fb5-5af529d9f8d4_4\", \"run_number\": 53, \"metric\": null, \"status\": \"Completed\", \"run_type\": \"azureml.scriptrun\", \"training_percent\": \"100\", \"start_time\": \"2021-02-10T19:54:43.813091Z\", \"end_time\": \"2021-02-10T19:58:12.721851Z\", \"created_time\": \"2021-02-10T19:53:13.975115Z\", \"created_time_dt\": \"2021-02-10T19:53:13.975115Z\", \"duration\": \"0:04:58\", \"iteration\": \"4\", \"goal\": \"accuracy_max\", \"run_name\": \"MinMaxScaler, RandomForest\", \"run_properties\": \"copy=True, feature_range=(0, 1\", \"primary_metric\": 0.8459887, \"best_metric\": 0.8459887}, {\"run_id\": \"AutoML_270ccba5-71fb-4b17-8fb5-5af529d9f8d4_5\", \"run_number\": 54, \"metric\": null, \"status\": \"Completed\", \"run_type\": \"azureml.scriptrun\", \"training_percent\": \"100\", \"start_time\": \"2021-02-10T19:55:15.368282Z\", \"end_time\": \"2021-02-10T19:56:09.079516Z\", \"created_time\": \"2021-02-10T19:54:14.664961Z\", \"created_time_dt\": \"2021-02-10T19:54:14.664961Z\", \"duration\": \"0:01:54\", \"iteration\": \"5\", \"goal\": \"accuracy_max\", \"run_name\": \"MaxAbsScaler, LogisticRegression\", \"run_properties\": \"copy=True\", \"primary_metric\": 0.81937853, \"best_metric\": 0.8459887}, {\"run_id\": \"AutoML_270ccba5-71fb-4b17-8fb5-5af529d9f8d4_6\", \"run_number\": 55, \"metric\": null, \"status\": \"Completed\", \"run_type\": \"azureml.scriptrun\", \"training_percent\": \"100\", \"start_time\": \"2021-02-10T19:56:10.719687Z\", \"end_time\": \"2021-02-10T19:57:09.972667Z\", \"created_time\": \"2021-02-10T19:55:16.560615Z\", \"created_time_dt\": \"2021-02-10T19:55:16.560615Z\", \"duration\": \"0:01:53\", \"iteration\": \"6\", \"goal\": \"accuracy_max\", \"run_name\": \"MinMaxScaler, SVM\", \"run_properties\": \"copy=True, feature_range=(0, 1\", \"primary_metric\": 0.71242938, \"best_metric\": 0.8459887}, {\"run_id\": \"AutoML_270ccba5-71fb-4b17-8fb5-5af529d9f8d4_7\", \"run_number\": 56, \"metric\": null, \"status\": \"Completed\", \"run_type\": \"azureml.scriptrun\", \"training_percent\": \"100\", \"start_time\": \"2021-02-10T19:57:12.097183Z\", \"end_time\": \"2021-02-10T19:58:09.377656Z\", \"created_time\": \"2021-02-10T19:56:11.335041Z\", \"created_time_dt\": \"2021-02-10T19:56:11.335041Z\", \"duration\": \"0:01:58\", \"iteration\": \"7\", \"goal\": \"accuracy_max\", \"run_name\": \"SparseNormalizer, XGBoostClassifier\", \"run_properties\": \"<azureml.automl.runtime.shared.model_wrappers.SparseNormalizer object at 0x7fef2aa730f0\", \"primary_metric\": 0.80937853, \"best_metric\": 0.8459887}, {\"run_id\": \"AutoML_270ccba5-71fb-4b17-8fb5-5af529d9f8d4_8\", \"run_number\": 57, \"metric\": null, \"status\": \"Completed\", \"run_type\": \"azureml.scriptrun\", \"training_percent\": \"100\", \"start_time\": \"2021-02-10T19:58:09.306831Z\", \"end_time\": \"2021-02-10T19:59:05.375035Z\", \"created_time\": \"2021-02-10T19:57:12.088425Z\", \"created_time_dt\": \"2021-02-10T19:57:12.088425Z\", \"duration\": \"0:01:53\", \"iteration\": \"8\", \"goal\": \"accuracy_max\", \"run_name\": \"MaxAbsScaler, GradientBoosting\", \"run_properties\": \"copy=True\", \"primary_metric\": 0.82937853, \"best_metric\": 0.8459887}, {\"run_id\": \"AutoML_270ccba5-71fb-4b17-8fb5-5af529d9f8d4_9\", \"run_number\": 58, \"metric\": null, \"status\": \"Completed\", \"run_type\": \"azureml.scriptrun\", \"training_percent\": \"100\", \"start_time\": \"2021-02-10T19:58:25.52105Z\", \"end_time\": \"2021-02-10T19:59:23.423848Z\", \"created_time\": \"2021-02-10T19:58:12.000626Z\", \"created_time_dt\": \"2021-02-10T19:58:12.000626Z\", \"duration\": \"0:01:11\", \"iteration\": \"9\", \"goal\": \"accuracy_max\", \"run_name\": \"StandardScalerWrapper, RandomForest\", \"run_properties\": \"<azureml.automl.runtime.shared.model_wrappers.StandardScalerWrapper object at 0x7f1176460e48\", \"primary_metric\": 0.82276836, \"best_metric\": 0.8459887}, {\"run_id\": \"AutoML_270ccba5-71fb-4b17-8fb5-5af529d9f8d4_10\", \"run_number\": 59, \"metric\": null, \"status\": \"Completed\", \"run_type\": \"azureml.scriptrun\", \"training_percent\": \"100\", \"start_time\": \"2021-02-10T19:59:05.715428Z\", \"end_time\": \"2021-02-10T19:59:59.238756Z\", \"created_time\": \"2021-02-10T19:58:16.601675Z\", \"created_time_dt\": \"2021-02-10T19:58:16.601675Z\", \"duration\": \"0:01:42\", \"iteration\": \"10\", \"goal\": \"accuracy_max\", \"run_name\": \"MaxAbsScaler, LightGBM\", \"run_properties\": \"copy=True\", \"primary_metric\": 0.83610169, \"best_metric\": 0.8459887}, {\"run_id\": \"AutoML_270ccba5-71fb-4b17-8fb5-5af529d9f8d4_11\", \"run_number\": 60, \"metric\": null, \"status\": \"Completed\", \"run_type\": \"azureml.scriptrun\", \"training_percent\": \"100\", \"start_time\": \"2021-02-10T19:59:18.03168Z\", \"end_time\": \"2021-02-10T20:00:12.028114Z\", \"created_time\": \"2021-02-10T19:59:07.15015Z\", \"created_time_dt\": \"2021-02-10T19:59:07.15015Z\", \"duration\": \"0:01:04\", \"iteration\": \"11\", \"goal\": \"accuracy_max\", \"run_name\": \"SparseNormalizer, LightGBM\", \"run_properties\": \"<azureml.automl.runtime.shared.model_wrappers.SparseNormalizer object at 0x7fbb52b28400\", \"primary_metric\": 0.83966102, \"best_metric\": 0.8459887}, {\"run_id\": \"AutoML_270ccba5-71fb-4b17-8fb5-5af529d9f8d4_12\", \"run_number\": 61, \"metric\": null, \"status\": \"Completed\", \"run_type\": \"azureml.scriptrun\", \"training_percent\": \"100\", \"start_time\": \"2021-02-10T19:59:27.2075Z\", \"end_time\": \"2021-02-10T20:00:19.892386Z\", \"created_time\": \"2021-02-10T19:59:13.996498Z\", \"created_time_dt\": \"2021-02-10T19:59:13.996498Z\", \"duration\": \"0:01:05\", \"iteration\": \"12\", \"goal\": \"accuracy_max\", \"run_name\": \"RobustScaler, ExtremeRandomTrees\", \"run_properties\": \"copy=True, quantile_range=[25, 75], with_centering=True,\\n             with_scaling=False\", \"primary_metric\": 0.85288136, \"best_metric\": 0.85288136}, {\"run_id\": \"AutoML_270ccba5-71fb-4b17-8fb5-5af529d9f8d4_13\", \"run_number\": 62, \"metric\": null, \"status\": \"Completed\", \"run_type\": \"azureml.scriptrun\", \"training_percent\": \"100\", \"start_time\": \"2021-02-10T20:00:03.639982Z\", \"end_time\": \"2021-02-10T20:00:58.312169Z\", \"created_time\": \"2021-02-10T19:59:25.337917Z\", \"created_time_dt\": \"2021-02-10T19:59:25.337917Z\", \"duration\": \"0:01:32\", \"iteration\": \"13\", \"goal\": \"accuracy_max\", \"run_name\": \"StandardScalerWrapper, LightGBM\", \"run_properties\": \"<azureml.automl.runtime.shared.model_wrappers.StandardScalerWrapper object at 0x7f56f03718d0\", \"primary_metric\": 0.8160452, \"best_metric\": 0.85288136}, {\"run_id\": \"AutoML_270ccba5-71fb-4b17-8fb5-5af529d9f8d4_14\", \"run_number\": 63, \"metric\": null, \"status\": \"Completed\", \"run_type\": \"azureml.scriptrun\", \"training_percent\": \"100\", \"start_time\": \"2021-02-10T20:00:17.289825Z\", \"end_time\": \"2021-02-10T20:01:10.976518Z\", \"created_time\": \"2021-02-10T20:00:01.056716Z\", \"created_time_dt\": \"2021-02-10T20:00:01.056716Z\", \"duration\": \"0:01:09\", \"iteration\": \"14\", \"goal\": \"accuracy_max\", \"run_name\": \"MaxAbsScaler, LightGBM\", \"run_properties\": \"copy=True\", \"primary_metric\": 0.82271186, \"best_metric\": 0.85288136}, {\"run_id\": \"AutoML_270ccba5-71fb-4b17-8fb5-5af529d9f8d4_15\", \"run_number\": 64, \"metric\": null, \"status\": \"Completed\", \"run_type\": \"azureml.scriptrun\", \"training_percent\": \"100\", \"start_time\": \"2021-02-10T20:00:25.130252Z\", \"end_time\": \"2021-02-10T20:01:28.353272Z\", \"created_time\": \"2021-02-10T20:00:14.031179Z\", \"created_time_dt\": \"2021-02-10T20:00:14.031179Z\", \"duration\": \"0:01:14\", \"iteration\": \"15\", \"goal\": \"accuracy_max\", \"run_name\": \"MinMaxScaler, LightGBM\", \"run_properties\": \"copy=True, feature_range=(0, 1\", \"primary_metric\": 0.81615819, \"best_metric\": 0.85288136}, {\"run_id\": \"AutoML_270ccba5-71fb-4b17-8fb5-5af529d9f8d4_16\", \"run_number\": 65, \"metric\": null, \"status\": \"Completed\", \"run_type\": \"azureml.scriptrun\", \"training_percent\": \"100\", \"start_time\": \"2021-02-10T20:01:04.119379Z\", \"end_time\": \"2021-02-10T20:01:59.353712Z\", \"created_time\": \"2021-02-10T20:00:21.91824Z\", \"created_time_dt\": \"2021-02-10T20:00:21.91824Z\", \"duration\": \"0:01:37\", \"iteration\": \"16\", \"goal\": \"accuracy_max\", \"run_name\": \"RobustScaler, ExtremeRandomTrees\", \"run_properties\": \"copy=True, quantile_range=[25, 75], with_centering=True,\\n             with_scaling=False\", \"primary_metric\": 0.85954802, \"best_metric\": 0.85954802}, {\"run_id\": \"AutoML_270ccba5-71fb-4b17-8fb5-5af529d9f8d4_17\", \"run_number\": 66, \"metric\": null, \"status\": \"Completed\", \"run_type\": \"azureml.scriptrun\", \"training_percent\": \"100\", \"start_time\": \"2021-02-10T20:01:15.571956Z\", \"end_time\": \"2021-02-10T20:02:07.617547Z\", \"created_time\": \"2021-02-10T20:01:00.540647Z\", \"created_time_dt\": \"2021-02-10T20:01:00.540647Z\", \"duration\": \"0:01:07\", \"iteration\": \"17\", \"goal\": \"accuracy_max\", \"run_name\": \"SparseNormalizer, XGBoostClassifier\", \"run_properties\": \"<azureml.automl.runtime.shared.model_wrappers.SparseNormalizer object at 0x7f6df18f75f8\", \"primary_metric\": 0.85293785, \"best_metric\": 0.85954802}, {\"run_id\": \"AutoML_270ccba5-71fb-4b17-8fb5-5af529d9f8d4_18\", \"run_number\": 67, \"metric\": null, \"status\": \"Completed\", \"run_type\": \"azureml.scriptrun\", \"training_percent\": \"100\", \"start_time\": \"2021-02-10T20:01:33.553333Z\", \"end_time\": \"2021-02-10T20:02:31.80114Z\", \"created_time\": \"2021-02-10T20:01:12.726998Z\", \"created_time_dt\": \"2021-02-10T20:01:12.726998Z\", \"duration\": \"0:01:19\", \"iteration\": \"18\", \"goal\": \"accuracy_max\", \"run_name\": \"TruncatedSVDWrapper, XGBoostClassifier\", \"run_properties\": \"n_components=0.6036842105263158, random_state=None\", \"primary_metric\": 0.78570621, \"best_metric\": 0.85954802}, {\"run_id\": \"AutoML_270ccba5-71fb-4b17-8fb5-5af529d9f8d4_19\", \"run_number\": 68, \"metric\": null, \"status\": \"Completed\", \"run_type\": \"azureml.scriptrun\", \"training_percent\": \"100\", \"start_time\": \"2021-02-10T20:02:01.122706Z\", \"end_time\": \"2021-02-10T20:02:53.605608Z\", \"created_time\": \"2021-02-10T20:01:30.087917Z\", \"created_time_dt\": \"2021-02-10T20:01:30.087917Z\", \"duration\": \"0:01:23\", \"iteration\": \"19\", \"goal\": \"accuracy_max\", \"run_name\": \"MaxAbsScaler, LightGBM\", \"run_properties\": \"copy=True\", \"primary_metric\": 0.80271186, \"best_metric\": 0.85954802}, {\"run_id\": \"AutoML_270ccba5-71fb-4b17-8fb5-5af529d9f8d4_20\", \"run_number\": 69, \"metric\": null, \"status\": \"Completed\", \"run_type\": \"azureml.scriptrun\", \"training_percent\": \"100\", \"start_time\": \"2021-02-10T20:02:13.898418Z\", \"end_time\": \"2021-02-10T20:03:09.694333Z\", \"created_time\": \"2021-02-10T20:02:01.199075Z\", \"created_time_dt\": \"2021-02-10T20:02:01.199075Z\", \"duration\": \"0:01:08\", \"iteration\": \"20\", \"goal\": \"accuracy_max\", \"run_name\": \"StandardScalerWrapper, ExtremeRandomTrees\", \"run_properties\": \"<azureml.automl.runtime.shared.model_wrappers.StandardScalerWrapper object at 0x7f5b09494dd8\", \"primary_metric\": 0.79932203, \"best_metric\": 0.85954802}, {\"run_id\": \"AutoML_270ccba5-71fb-4b17-8fb5-5af529d9f8d4_21\", \"run_number\": 70, \"metric\": null, \"status\": \"Completed\", \"run_type\": \"azureml.scriptrun\", \"training_percent\": \"100\", \"start_time\": \"2021-02-10T20:02:34.600366Z\", \"end_time\": \"2021-02-10T20:03:27.531535Z\", \"created_time\": \"2021-02-10T20:02:09.3622Z\", \"created_time_dt\": \"2021-02-10T20:02:09.3622Z\", \"duration\": \"0:01:18\", \"iteration\": \"21\", \"goal\": \"accuracy_max\", \"run_name\": \"SparseNormalizer, XGBoostClassifier\", \"run_properties\": \"<azureml.automl.runtime.shared.model_wrappers.SparseNormalizer object at 0x7f60b6f2bf98\", \"primary_metric\": 0.84960452, \"best_metric\": 0.85954802}, {\"run_id\": \"AutoML_270ccba5-71fb-4b17-8fb5-5af529d9f8d4_22\", \"run_number\": 71, \"metric\": null, \"status\": \"Completed\", \"run_type\": \"azureml.scriptrun\", \"training_percent\": \"100\", \"start_time\": \"2021-02-10T20:02:58.138209Z\", \"end_time\": \"2021-02-10T20:03:58.418444Z\", \"created_time\": \"2021-02-10T20:02:33.755478Z\", \"created_time_dt\": \"2021-02-10T20:02:33.755478Z\", \"duration\": \"0:01:24\", \"iteration\": \"22\", \"goal\": \"accuracy_max\", \"run_name\": \"SparseNormalizer, XGBoostClassifier\", \"run_properties\": \"<azureml.automl.runtime.shared.model_wrappers.SparseNormalizer object at 0x7f1b8c1fbe48\", \"primary_metric\": 0.83282486, \"best_metric\": 0.85954802}, {\"run_id\": \"AutoML_270ccba5-71fb-4b17-8fb5-5af529d9f8d4_23\", \"run_number\": 72, \"metric\": null, \"status\": \"Completed\", \"run_type\": \"azureml.scriptrun\", \"training_percent\": \"100\", \"start_time\": \"2021-02-10T20:03:13.089444Z\", \"end_time\": \"2021-02-10T20:04:10.6342Z\", \"created_time\": \"2021-02-10T20:02:55.457316Z\", \"created_time_dt\": \"2021-02-10T20:02:55.457316Z\", \"duration\": \"0:01:15\", \"iteration\": \"23\", \"goal\": \"accuracy_max\", \"run_name\": \"StandardScalerWrapper, LightGBM\", \"run_properties\": \"<azureml.automl.runtime.shared.model_wrappers.StandardScalerWrapper object at 0x7fe63ead4e10\", \"primary_metric\": 0.8359322, \"best_metric\": 0.85954802}, {\"run_id\": \"AutoML_270ccba5-71fb-4b17-8fb5-5af529d9f8d4_24\", \"run_number\": 73, \"metric\": null, \"status\": \"Completed\", \"run_type\": \"azureml.scriptrun\", \"training_percent\": \"100\", \"start_time\": \"2021-02-10T20:03:31.794926Z\", \"end_time\": \"2021-02-10T20:04:22.47011Z\", \"created_time\": \"2021-02-10T20:03:11.52138Z\", \"created_time_dt\": \"2021-02-10T20:03:11.52138Z\", \"duration\": \"0:01:10\", \"iteration\": \"24\", \"goal\": \"accuracy_max\", \"run_name\": \"StandardScalerWrapper, LightGBM\", \"run_properties\": \"<azureml.automl.runtime.shared.model_wrappers.StandardScalerWrapper object at 0x7f73202ec748\", \"primary_metric\": 0.8360452, \"best_metric\": 0.85954802}, {\"run_id\": \"AutoML_270ccba5-71fb-4b17-8fb5-5af529d9f8d4_25\", \"run_number\": 74, \"metric\": null, \"status\": \"Completed\", \"run_type\": \"azureml.scriptrun\", \"training_percent\": \"100\", \"start_time\": \"2021-02-10T20:04:02.04135Z\", \"end_time\": \"2021-02-10T20:04:57.210716Z\", \"created_time\": \"2021-02-10T20:03:30.388234Z\", \"created_time_dt\": \"2021-02-10T20:03:30.388234Z\", \"duration\": \"0:01:26\", \"iteration\": \"25\", \"goal\": \"accuracy_max\", \"run_name\": \"StandardScalerWrapper, ExtremeRandomTrees\", \"run_properties\": \"<azureml.automl.runtime.shared.model_wrappers.StandardScalerWrapper object at 0x7f2a417055f8\", \"primary_metric\": 0.67909605, \"best_metric\": 0.85954802}, {\"run_id\": \"AutoML_270ccba5-71fb-4b17-8fb5-5af529d9f8d4_26\", \"run_number\": 75, \"metric\": null, \"status\": \"Completed\", \"run_type\": \"azureml.scriptrun\", \"training_percent\": \"100\", \"start_time\": \"2021-02-10T20:04:15.066773Z\", \"end_time\": \"2021-02-10T20:05:11.385055Z\", \"created_time\": \"2021-02-10T20:04:00.563173Z\", \"created_time_dt\": \"2021-02-10T20:04:00.563173Z\", \"duration\": \"0:01:10\", \"iteration\": \"26\", \"goal\": \"accuracy_max\", \"run_name\": \"MaxAbsScaler, LightGBM\", \"run_properties\": \"copy=True\", \"primary_metric\": 0.77254237, \"best_metric\": 0.85954802}, {\"run_id\": \"AutoML_270ccba5-71fb-4b17-8fb5-5af529d9f8d4_27\", \"run_number\": 76, \"metric\": null, \"status\": \"Completed\", \"run_type\": \"azureml.scriptrun\", \"training_percent\": \"100\", \"start_time\": \"2021-02-10T20:04:27.638245Z\", \"end_time\": \"2021-02-10T20:05:19.671558Z\", \"created_time\": \"2021-02-10T20:04:12.722818Z\", \"created_time_dt\": \"2021-02-10T20:04:12.722818Z\", \"duration\": \"0:01:06\", \"iteration\": \"27\", \"goal\": \"accuracy_max\", \"run_name\": \"StandardScalerWrapper, XGBoostClassifier\", \"run_properties\": \"<azureml.automl.runtime.shared.model_wrappers.StandardScalerWrapper object at 0x7f47d716db70\", \"primary_metric\": 0.8360452, \"best_metric\": 0.85954802}, {\"run_id\": \"AutoML_270ccba5-71fb-4b17-8fb5-5af529d9f8d4_28\", \"run_number\": 77, \"metric\": null, \"status\": \"Completed\", \"run_type\": \"azureml.scriptrun\", \"training_percent\": \"100\", \"start_time\": \"2021-02-10T20:04:58.680688Z\", \"end_time\": \"2021-02-10T20:06:02.258144Z\", \"created_time\": \"2021-02-10T20:04:24.459145Z\", \"created_time_dt\": \"2021-02-10T20:04:24.459145Z\", \"duration\": \"0:01:37\", \"iteration\": \"28\", \"goal\": \"accuracy_max\", \"run_name\": \"SparseNormalizer, XGBoostClassifier\", \"run_properties\": \"<azureml.automl.runtime.shared.model_wrappers.SparseNormalizer object at 0x7f5ff86f7a90\", \"primary_metric\": 0.82949153, \"best_metric\": 0.85954802}, {\"run_id\": \"AutoML_270ccba5-71fb-4b17-8fb5-5af529d9f8d4_29\", \"run_number\": 78, \"metric\": null, \"status\": \"Completed\", \"run_type\": \"azureml.scriptrun\", \"training_percent\": \"100\", \"start_time\": \"2021-02-10T20:05:15.616138Z\", \"end_time\": \"2021-02-10T20:06:15.64395Z\", \"created_time\": \"2021-02-10T20:04:58.98748Z\", \"created_time_dt\": \"2021-02-10T20:04:58.98748Z\", \"duration\": \"0:01:16\", \"iteration\": \"29\", \"goal\": \"accuracy_max\", \"run_name\": \"StandardScalerWrapper, RandomForest\", \"run_properties\": \"<azureml.automl.runtime.shared.model_wrappers.StandardScalerWrapper object at 0x7f9405dfd390\", \"primary_metric\": 0.8159322, \"best_metric\": 0.85954802}, {\"run_id\": \"AutoML_270ccba5-71fb-4b17-8fb5-5af529d9f8d4_30\", \"run_number\": 79, \"metric\": null, \"status\": \"Completed\", \"run_type\": \"azureml.scriptrun\", \"training_percent\": \"100\", \"start_time\": \"2021-02-10T20:05:26.737332Z\", \"end_time\": \"2021-02-10T20:06:28.517554Z\", \"created_time\": \"2021-02-10T20:05:14.178403Z\", \"created_time_dt\": \"2021-02-10T20:05:14.178403Z\", \"duration\": \"0:01:14\", \"iteration\": \"30\", \"goal\": \"accuracy_max\", \"run_name\": \"StandardScalerWrapper, ExtremeRandomTrees\", \"run_properties\": \"<azureml.automl.runtime.shared.model_wrappers.StandardScalerWrapper object at 0x7f4cea775f60\", \"primary_metric\": 0.43898305, \"best_metric\": 0.85954802}, {\"run_id\": \"AutoML_270ccba5-71fb-4b17-8fb5-5af529d9f8d4_31\", \"run_number\": 80, \"metric\": null, \"status\": \"Completed\", \"run_type\": \"azureml.scriptrun\", \"training_percent\": \"100\", \"start_time\": \"2021-02-10T20:06:04.45329Z\", \"end_time\": \"2021-02-10T20:07:11.847645Z\", \"created_time\": \"2021-02-10T20:05:22.088005Z\", \"created_time_dt\": \"2021-02-10T20:05:22.088005Z\", \"duration\": \"0:01:49\", \"iteration\": \"31\", \"goal\": \"accuracy_max\", \"run_name\": \"MaxAbsScaler, RandomForest\", \"run_properties\": \"copy=True\", \"primary_metric\": 0.81242938, \"best_metric\": 0.85954802}, {\"run_id\": \"AutoML_270ccba5-71fb-4b17-8fb5-5af529d9f8d4_32\", \"run_number\": 81, \"metric\": null, \"status\": \"Completed\", \"run_type\": \"azureml.scriptrun\", \"training_percent\": \"100\", \"start_time\": \"2021-02-10T20:06:21.98645Z\", \"end_time\": \"2021-02-10T20:07:15.665474Z\", \"created_time\": \"2021-02-10T20:06:04.188805Z\", \"created_time_dt\": \"2021-02-10T20:06:04.188805Z\", \"duration\": \"0:01:11\", \"iteration\": \"32\", \"goal\": \"accuracy_max\", \"run_name\": \"StandardScalerWrapper, XGBoostClassifier\", \"run_properties\": \"<azureml.automl.runtime.shared.model_wrappers.StandardScalerWrapper object at 0x7fc4cd55b630\", \"primary_metric\": 0.8159322, \"best_metric\": 0.85954802}, {\"run_id\": \"AutoML_270ccba5-71fb-4b17-8fb5-5af529d9f8d4_33\", \"run_number\": 82, \"metric\": null, \"status\": \"Canceled\", \"run_type\": \"azureml.scriptrun\", \"training_percent\": \"100\", \"start_time\": \"2021-02-10T20:06:32.834476Z\", \"end_time\": \"2021-02-10T20:07:25.324972Z\", \"created_time\": \"2021-02-10T20:06:17.522082Z\", \"created_time_dt\": \"2021-02-10T20:06:17.522082Z\", \"duration\": \"0:01:07\", \"iteration\": \"33\", \"goal\": \"accuracy_max\", \"run_name\": \"RobustScaler, RandomForest\", \"run_properties\": \"copy=True, quantile_range=[10, 90], with_centering=False,\\n             with_scaling=False\", \"primary_metric\": 0.8259887, \"best_metric\": 0.85954802}, {\"run_id\": \"AutoML_270ccba5-71fb-4b17-8fb5-5af529d9f8d4_34\", \"run_number\": 83, \"metric\": null, \"status\": \"Canceled\", \"run_type\": \"azureml.scriptrun\", \"training_percent\": \"100\", \"start_time\": \"2021-02-10T20:07:15.872244Z\", \"end_time\": \"2021-02-10T20:07:26.633161Z\", \"created_time\": \"2021-02-10T20:06:30.390474Z\", \"created_time_dt\": \"2021-02-10T20:06:30.390474Z\", \"duration\": \"0:00:56\", \"iteration\": \"34\", \"goal\": null, \"run_name\": \"Canceled\", \"run_properties\": null}, {\"run_id\": \"AutoML_270ccba5-71fb-4b17-8fb5-5af529d9f8d4_35\", \"run_number\": 84, \"metric\": null, \"status\": \"Canceled\", \"run_type\": \"azureml.scriptrun\", \"training_percent\": \"100\", \"start_time\": \"2021-02-10T20:07:14.779327Z\", \"end_time\": \"2021-02-10T20:07:32.928521Z\", \"created_time\": \"2021-02-10T20:07:14.779327Z\", \"created_time_dt\": \"2021-02-10T20:07:14.779327Z\", \"duration\": \"0:00:18\", \"iteration\": \"35\", \"goal\": null, \"run_name\": \"Canceled\", \"run_properties\": null}, {\"run_id\": \"AutoML_270ccba5-71fb-4b17-8fb5-5af529d9f8d4_36\", \"run_number\": 85, \"metric\": null, \"status\": \"Completed\", \"run_type\": \"azureml.scriptrun\", \"training_percent\": \"100\", \"start_time\": \"2021-02-10T20:07:46.660327Z\", \"end_time\": \"2021-02-10T20:09:19.12371Z\", \"created_time\": \"2021-02-10T20:07:33.988186Z\", \"created_time_dt\": \"2021-02-10T20:07:33.988186Z\", \"duration\": \"0:01:45\", \"iteration\": \"36\", \"goal\": \"accuracy_max\", \"run_name\": \"VotingEnsemble\", \"run_properties\": \"classification_labels=None,\\n                              estimators=[('16',\\n                                           Pipeline(memory=None,\\n                                                    steps=[('robustscaler',\\n                                                            RobustScaler(copy=True,\\n                                                                         quantile_range=[25,\\n                                                                                         75],\\n                                                                         with_centering=True,\\n                                                                         with_scaling=False\", \"primary_metric\": 0.87966102, \"best_metric\": 0.87966102}], \"children_metrics\": {\"categories\": [0], \"series\": {\"precision_score_micro\": [{\"categories\": [\"0\", \"1\", \"2\", \"3\", \"4\", \"5\", \"6\", \"7\", \"8\", \"9\", \"10\", \"11\", \"12\", \"13\", \"14\", \"15\", \"16\", \"17\", \"18\", \"19\", \"20\", \"21\", \"22\", \"23\", \"24\", \"25\", \"26\", \"27\", \"28\", \"29\", \"30\", \"31\", \"32\", \"33\", \"36\"], \"mode\": \"markers\", \"name\": \"precision_score_micro\", \"stepped\": false, \"type\": \"scatter\", \"data\": [0.8059887005649717, 0.8259322033898304, 0.8393785310734463, 0.8058757062146892, 0.8459887005649718, 0.8193785310734463, 0.7124293785310734, 0.8093785310734465, 0.8293785310734464, 0.822768361581921, 0.8361016949152542, 0.8396610169491525, 0.8528813559322034, 0.8160451977401131, 0.8227118644067797, 0.8161581920903955, 0.85954802259887, 0.8529378531073446, 0.7857062146892655, 0.8027118644067797, 0.7993220338983051, 0.8496045197740113, 0.8328248587570621, 0.8359322033898305, 0.836045197740113, 0.67909604519774, 0.7725423728813559, 0.836045197740113, 0.8294915254237288, 0.8159322033898306, 0.4389830508474576, 0.8124293785310733, 0.8159322033898304, 0.8259887005649718, 0.8796610169491526]}, {\"categories\": [\"0\", \"1\", \"2\", \"3\", \"4\", \"5\", \"6\", \"7\", \"8\", \"9\", \"10\", \"11\", \"12\", \"13\", \"14\", \"15\", \"16\", \"17\", \"18\", \"19\", \"20\", \"21\", \"22\", \"23\", \"24\", \"25\", \"26\", \"27\", \"28\", \"29\", \"30\", \"31\", \"32\", \"33\", \"36\"], \"mode\": \"lines\", \"name\": \"precision_score_micro_max\", \"stepped\": true, \"type\": \"scatter\", \"data\": [0.8059887005649717, 0.8259322033898304, 0.8393785310734463, 0.8393785310734463, 0.8459887005649718, 0.8459887005649718, 0.8459887005649718, 0.8459887005649718, 0.8459887005649718, 0.8459887005649718, 0.8459887005649718, 0.8459887005649718, 0.8528813559322034, 0.8528813559322034, 0.8528813559322034, 0.8528813559322034, 0.85954802259887, 0.85954802259887, 0.85954802259887, 0.85954802259887, 0.85954802259887, 0.85954802259887, 0.85954802259887, 0.85954802259887, 0.85954802259887, 0.85954802259887, 0.85954802259887, 0.85954802259887, 0.85954802259887, 0.85954802259887, 0.85954802259887, 0.85954802259887, 0.85954802259887, 0.85954802259887, 0.8796610169491526]}], \"f1_score_micro\": [{\"categories\": [\"0\", \"1\", \"2\", \"3\", \"4\", \"5\", \"6\", \"7\", \"8\", \"9\", \"10\", \"11\", \"12\", \"13\", \"14\", \"15\", \"16\", \"17\", \"18\", \"19\", \"20\", \"21\", \"22\", \"23\", \"24\", \"25\", \"26\", \"27\", \"28\", \"29\", \"30\", \"31\", \"32\", \"33\", \"36\"], \"mode\": \"markers\", \"name\": \"f1_score_micro\", \"stepped\": false, \"type\": \"scatter\", \"data\": [0.8059887005649718, 0.8259322033898304, 0.8393785310734463, 0.8058757062146892, 0.8459887005649718, 0.8193785310734464, 0.7124293785310734, 0.8093785310734465, 0.8293785310734464, 0.822768361581921, 0.8361016949152542, 0.8396610169491525, 0.8528813559322034, 0.8160451977401131, 0.8227118644067797, 0.8161581920903955, 0.85954802259887, 0.8529378531073446, 0.7857062146892655, 0.8027118644067798, 0.7993220338983051, 0.8496045197740113, 0.8328248587570621, 0.8359322033898305, 0.836045197740113, 0.67909604519774, 0.772542372881356, 0.836045197740113, 0.8294915254237288, 0.8159322033898306, 0.4389830508474576, 0.8124293785310736, 0.8159322033898306, 0.8259887005649718, 0.8796610169491526]}, {\"categories\": [\"0\", \"1\", \"2\", \"3\", \"4\", \"5\", \"6\", \"7\", \"8\", \"9\", \"10\", \"11\", \"12\", \"13\", \"14\", \"15\", \"16\", \"17\", \"18\", \"19\", \"20\", \"21\", \"22\", \"23\", \"24\", \"25\", \"26\", \"27\", \"28\", \"29\", \"30\", \"31\", \"32\", \"33\", \"36\"], \"mode\": \"lines\", \"name\": \"f1_score_micro_max\", \"stepped\": true, \"type\": \"scatter\", \"data\": [0.8059887005649718, 0.8259322033898304, 0.8393785310734463, 0.8393785310734463, 0.8459887005649718, 0.8459887005649718, 0.8459887005649718, 0.8459887005649718, 0.8459887005649718, 0.8459887005649718, 0.8459887005649718, 0.8459887005649718, 0.8528813559322034, 0.8528813559322034, 0.8528813559322034, 0.8528813559322034, 0.85954802259887, 0.85954802259887, 0.85954802259887, 0.85954802259887, 0.85954802259887, 0.85954802259887, 0.85954802259887, 0.85954802259887, 0.85954802259887, 0.85954802259887, 0.85954802259887, 0.85954802259887, 0.85954802259887, 0.85954802259887, 0.85954802259887, 0.85954802259887, 0.85954802259887, 0.85954802259887, 0.8796610169491526]}], \"recall_score_micro\": [{\"categories\": [\"0\", \"1\", \"2\", \"3\", \"4\", \"5\", \"6\", \"7\", \"8\", \"9\", \"10\", \"11\", \"12\", \"13\", \"14\", \"15\", \"16\", \"17\", \"18\", \"19\", \"20\", \"21\", \"22\", \"23\", \"24\", \"25\", \"26\", \"27\", \"28\", \"29\", \"30\", \"31\", \"32\", \"33\", \"36\"], \"mode\": \"markers\", \"name\": \"recall_score_micro\", \"stepped\": false, \"type\": \"scatter\", \"data\": [0.8059887005649717, 0.8259322033898304, 0.8393785310734463, 0.8058757062146892, 0.8459887005649718, 0.8193785310734463, 0.7124293785310734, 0.8093785310734465, 0.8293785310734464, 0.822768361581921, 0.8361016949152542, 0.8396610169491525, 0.8528813559322034, 0.8160451977401131, 0.8227118644067797, 0.8161581920903955, 0.85954802259887, 0.8529378531073446, 0.7857062146892655, 0.8027118644067797, 0.7993220338983051, 0.8496045197740113, 0.8328248587570621, 0.8359322033898305, 0.836045197740113, 0.67909604519774, 0.7725423728813559, 0.836045197740113, 0.8294915254237288, 0.8159322033898306, 0.4389830508474576, 0.8124293785310733, 0.8159322033898304, 0.8259887005649718, 0.8796610169491526]}, {\"categories\": [\"0\", \"1\", \"2\", \"3\", \"4\", \"5\", \"6\", \"7\", \"8\", \"9\", \"10\", \"11\", \"12\", \"13\", \"14\", \"15\", \"16\", \"17\", \"18\", \"19\", \"20\", \"21\", \"22\", \"23\", \"24\", \"25\", \"26\", \"27\", \"28\", \"29\", \"30\", \"31\", \"32\", \"33\", \"36\"], \"mode\": \"lines\", \"name\": \"recall_score_micro_max\", \"stepped\": true, \"type\": \"scatter\", \"data\": [0.8059887005649717, 0.8259322033898304, 0.8393785310734463, 0.8393785310734463, 0.8459887005649718, 0.8459887005649718, 0.8459887005649718, 0.8459887005649718, 0.8459887005649718, 0.8459887005649718, 0.8459887005649718, 0.8459887005649718, 0.8528813559322034, 0.8528813559322034, 0.8528813559322034, 0.8528813559322034, 0.85954802259887, 0.85954802259887, 0.85954802259887, 0.85954802259887, 0.85954802259887, 0.85954802259887, 0.85954802259887, 0.85954802259887, 0.85954802259887, 0.85954802259887, 0.85954802259887, 0.85954802259887, 0.85954802259887, 0.85954802259887, 0.85954802259887, 0.85954802259887, 0.85954802259887, 0.85954802259887, 0.8796610169491526]}], \"AUC_macro\": [{\"categories\": [\"0\", \"1\", \"2\", \"3\", \"4\", \"5\", \"6\", \"7\", \"8\", \"9\", \"10\", \"11\", \"12\", \"13\", \"14\", \"15\", \"16\", \"17\", \"18\", \"19\", \"20\", \"21\", \"22\", \"23\", \"24\", \"25\", \"26\", \"27\", \"28\", \"29\", \"30\", \"31\", \"32\", \"33\", \"36\"], \"mode\": \"markers\", \"name\": \"AUC_macro\", \"stepped\": false, \"type\": \"scatter\", \"data\": [0.8811331210778885, 0.8929591177556295, 0.9077096714654853, 0.8888372093023257, 0.9116485557401255, 0.8712067644887412, 0.7394446982281285, 0.8592381875230715, 0.91124838501292, 0.9040887320044296, 0.8947244716685123, 0.8717731404577334, 0.904032991878922, 0.8939186277224069, 0.8944861803248431, 0.8967023348098928, 0.889111180324843, 0.901608688630491, 0.8644148440383905, 0.8853673288113694, 0.8808249584717608, 0.8940481035437431, 0.8706157022886675, 0.903203442229605, 0.9047333425618309, 0.523110465116279, 0.8699184662236987, 0.9037229143595423, 0.8766325904392765, 0.8876306985972684, 0.5343178986710964, 0.9017544988925803, 0.9005219984311553, 0.9036477251753414, 0.9167644656699888]}, {\"categories\": [\"0\", \"1\", \"2\", \"3\", \"4\", \"5\", \"6\", \"7\", \"8\", \"9\", \"10\", \"11\", \"12\", \"13\", \"14\", \"15\", \"16\", \"17\", \"18\", \"19\", \"20\", \"21\", \"22\", \"23\", \"24\", \"25\", \"26\", \"27\", \"28\", \"29\", \"30\", \"31\", \"32\", \"33\", \"36\"], \"mode\": \"lines\", \"name\": \"AUC_macro_max\", \"stepped\": true, \"type\": \"scatter\", \"data\": [0.8811331210778885, 0.8929591177556295, 0.9077096714654853, 0.9077096714654853, 0.9116485557401255, 0.9116485557401255, 0.9116485557401255, 0.9116485557401255, 0.9116485557401255, 0.9116485557401255, 0.9116485557401255, 0.9116485557401255, 0.9116485557401255, 0.9116485557401255, 0.9116485557401255, 0.9116485557401255, 0.9116485557401255, 0.9116485557401255, 0.9116485557401255, 0.9116485557401255, 0.9116485557401255, 0.9116485557401255, 0.9116485557401255, 0.9116485557401255, 0.9116485557401255, 0.9116485557401255, 0.9116485557401255, 0.9116485557401255, 0.9116485557401255, 0.9116485557401255, 0.9116485557401255, 0.9116485557401255, 0.9116485557401255, 0.9116485557401255, 0.9167644656699888]}], \"weighted_accuracy\": [{\"categories\": [\"0\", \"1\", \"2\", \"3\", \"4\", \"5\", \"6\", \"7\", \"8\", \"9\", \"10\", \"11\", \"12\", \"13\", \"14\", \"15\", \"16\", \"17\", \"18\", \"19\", \"20\", \"21\", \"22\", \"23\", \"24\", \"25\", \"26\", \"27\", \"28\", \"29\", \"30\", \"31\", \"32\", \"33\", \"36\"], \"mode\": \"markers\", \"name\": \"weighted_accuracy\", \"stepped\": false, \"type\": \"scatter\", \"data\": [0.8252063202764133, 0.8406325321291572, 0.8564780286066039, 0.836581011720687, 0.8586479404407591, 0.8382420305140954, 0.7735242910482674, 0.8396048623725025, 0.8478238554329096, 0.8466693770523154, 0.8617924131458651, 0.8664075775392452, 0.8834692375762657, 0.8499213641944703, 0.8492918309652493, 0.8613333959821501, 0.892975734711937, 0.8747645447265153, 0.8003185700572454, 0.8359612739636877, 0.8557532180677541, 0.876880803619453, 0.8501628547746847, 0.8526332262121, 0.8588042475897723, 0.7971865900207855, 0.821911895979883, 0.8596284710844799, 0.8734496548750877, 0.8354338409948303, 0.3841389517781341, 0.8135854395906724, 0.832711657584649, 0.842991858538972, 0.9017121064304477]}, {\"categories\": [\"0\", \"1\", \"2\", \"3\", \"4\", \"5\", \"6\", \"7\", \"8\", \"9\", \"10\", \"11\", \"12\", \"13\", \"14\", \"15\", \"16\", \"17\", \"18\", \"19\", \"20\", \"21\", \"22\", \"23\", \"24\", \"25\", \"26\", \"27\", \"28\", \"29\", \"30\", \"31\", \"32\", \"33\", \"36\"], \"mode\": \"lines\", \"name\": \"weighted_accuracy_max\", \"stepped\": true, \"type\": \"scatter\", \"data\": [0.8252063202764133, 0.8406325321291572, 0.8564780286066039, 0.8564780286066039, 0.8586479404407591, 0.8586479404407591, 0.8586479404407591, 0.8586479404407591, 0.8586479404407591, 0.8586479404407591, 0.8617924131458651, 0.8664075775392452, 0.8834692375762657, 0.8834692375762657, 0.8834692375762657, 0.8834692375762657, 0.892975734711937, 0.892975734711937, 0.892975734711937, 0.892975734711937, 0.892975734711937, 0.892975734711937, 0.892975734711937, 0.892975734711937, 0.892975734711937, 0.892975734711937, 0.892975734711937, 0.892975734711937, 0.892975734711937, 0.892975734711937, 0.892975734711937, 0.892975734711937, 0.892975734711937, 0.892975734711937, 0.9017121064304477]}], \"average_precision_score_weighted\": [{\"categories\": [\"0\", \"1\", \"2\", \"3\", \"4\", \"5\", \"6\", \"7\", \"8\", \"9\", \"10\", \"11\", \"12\", \"13\", \"14\", \"15\", \"16\", \"17\", \"18\", \"19\", \"20\", \"21\", \"22\", \"23\", \"24\", \"25\", \"26\", \"27\", \"28\", \"29\", \"30\", \"31\", \"32\", \"33\", \"36\"], \"mode\": \"markers\", \"name\": \"average_precision_score_weighted\", \"stepped\": false, \"type\": \"scatter\", \"data\": [0.8955370396295249, 0.9103506263314479, 0.9230636385092705, 0.8990181492950964, 0.9286074358393901, 0.8898321190303407, 0.7675970413800848, 0.8720059756545379, 0.9243458366443538, 0.9184440330728186, 0.9035422125960622, 0.8903337469011363, 0.9148552011948826, 0.9058607560878091, 0.9082759875657913, 0.9128183909604417, 0.9040360554180532, 0.9164284778689664, 0.8817717694091864, 0.8753573638077337, 0.8960789367058778, 0.9044364305652293, 0.874042313423946, 0.9139653737579273, 0.9217775357960536, 0.5890789502096726, 0.8844109893634432, 0.9164666173936918, 0.8933427416813494, 0.90239752808873, 0.6076752148765852, 0.9106703611834515, 0.9110290106486051, 0.9161145379663365, 0.9271222539913655]}, {\"categories\": [\"0\", \"1\", \"2\", \"3\", \"4\", \"5\", \"6\", \"7\", \"8\", \"9\", \"10\", \"11\", \"12\", \"13\", \"14\", \"15\", \"16\", \"17\", \"18\", \"19\", \"20\", \"21\", \"22\", \"23\", \"24\", \"25\", \"26\", \"27\", \"28\", \"29\", \"30\", \"31\", \"32\", \"33\", \"36\"], \"mode\": \"lines\", \"name\": \"average_precision_score_weighted_max\", \"stepped\": true, \"type\": \"scatter\", \"data\": [0.8955370396295249, 0.9103506263314479, 0.9230636385092705, 0.9230636385092705, 0.9286074358393901, 0.9286074358393901, 0.9286074358393901, 0.9286074358393901, 0.9286074358393901, 0.9286074358393901, 0.9286074358393901, 0.9286074358393901, 0.9286074358393901, 0.9286074358393901, 0.9286074358393901, 0.9286074358393901, 0.9286074358393901, 0.9286074358393901, 0.9286074358393901, 0.9286074358393901, 0.9286074358393901, 0.9286074358393901, 0.9286074358393901, 0.9286074358393901, 0.9286074358393901, 0.9286074358393901, 0.9286074358393901, 0.9286074358393901, 0.9286074358393901, 0.9286074358393901, 0.9286074358393901, 0.9286074358393901, 0.9286074358393901, 0.9286074358393901, 0.9286074358393901]}], \"recall_score_weighted\": [{\"categories\": [\"0\", \"1\", \"2\", \"3\", \"4\", \"5\", \"6\", \"7\", \"8\", \"9\", \"10\", \"11\", \"12\", \"13\", \"14\", \"15\", \"16\", \"17\", \"18\", \"19\", \"20\", \"21\", \"22\", \"23\", \"24\", \"25\", \"26\", \"27\", \"28\", \"29\", \"30\", \"31\", \"32\", \"33\", \"36\"], \"mode\": \"markers\", \"name\": \"recall_score_weighted\", \"stepped\": false, \"type\": \"scatter\", \"data\": [0.8059887005649717, 0.8259322033898304, 0.8393785310734463, 0.8058757062146892, 0.8459887005649718, 0.8193785310734463, 0.7124293785310734, 0.8093785310734465, 0.8293785310734464, 0.822768361581921, 0.8361016949152542, 0.8396610169491525, 0.8528813559322034, 0.8160451977401131, 0.8227118644067797, 0.8161581920903955, 0.85954802259887, 0.8529378531073446, 0.7857062146892655, 0.8027118644067797, 0.7993220338983051, 0.8496045197740113, 0.8328248587570621, 0.8359322033898305, 0.836045197740113, 0.67909604519774, 0.7725423728813559, 0.836045197740113, 0.8294915254237288, 0.8159322033898306, 0.4389830508474576, 0.8124293785310733, 0.8159322033898304, 0.8259887005649718, 0.8796610169491526]}, {\"categories\": [\"0\", \"1\", \"2\", \"3\", \"4\", \"5\", \"6\", \"7\", \"8\", \"9\", \"10\", \"11\", \"12\", \"13\", \"14\", \"15\", \"16\", \"17\", \"18\", \"19\", \"20\", \"21\", \"22\", \"23\", \"24\", \"25\", \"26\", \"27\", \"28\", \"29\", \"30\", \"31\", \"32\", \"33\", \"36\"], \"mode\": \"lines\", \"name\": \"recall_score_weighted_max\", \"stepped\": true, \"type\": \"scatter\", \"data\": [0.8059887005649717, 0.8259322033898304, 0.8393785310734463, 0.8393785310734463, 0.8459887005649718, 0.8459887005649718, 0.8459887005649718, 0.8459887005649718, 0.8459887005649718, 0.8459887005649718, 0.8459887005649718, 0.8459887005649718, 0.8528813559322034, 0.8528813559322034, 0.8528813559322034, 0.8528813559322034, 0.85954802259887, 0.85954802259887, 0.85954802259887, 0.85954802259887, 0.85954802259887, 0.85954802259887, 0.85954802259887, 0.85954802259887, 0.85954802259887, 0.85954802259887, 0.85954802259887, 0.85954802259887, 0.85954802259887, 0.85954802259887, 0.85954802259887, 0.85954802259887, 0.85954802259887, 0.85954802259887, 0.8796610169491526]}], \"f1_score_weighted\": [{\"categories\": [\"0\", \"1\", \"2\", \"3\", \"4\", \"5\", \"6\", \"7\", \"8\", \"9\", \"10\", \"11\", \"12\", \"13\", \"14\", \"15\", \"16\", \"17\", \"18\", \"19\", \"20\", \"21\", \"22\", \"23\", \"24\", \"25\", \"26\", \"27\", \"28\", \"29\", \"30\", \"31\", \"32\", \"33\", \"36\"], \"mode\": \"markers\", \"name\": \"f1_score_weighted\", \"stepped\": false, \"type\": \"scatter\", \"data\": [0.8014398448329555, 0.8237396450256732, 0.8375803784256524, 0.7977585820572682, 0.8455077091206947, 0.8163913408842424, 0.6824076821129142, 0.8039757220257486, 0.8257017252418803, 0.8192043439957803, 0.829729010672971, 0.8345018297586654, 0.8453109091445373, 0.8041176153746544, 0.8163705118888149, 0.8021759951947371, 0.850950698670282, 0.8477579650357031, 0.7855505822782327, 0.7888122775759685, 0.7771483488227856, 0.8445786473037667, 0.8311719316514949, 0.8327763367973816, 0.8313588742694881, 0.5526564268547016, 0.7491890072216397, 0.830193893641739, 0.8178387864370572, 0.8129790502681494, 0.33083345076888254, 0.8178371349306879, 0.8134425111147989, 0.8243960971047961, 0.8744137742963474]}, {\"categories\": [\"0\", \"1\", \"2\", \"3\", \"4\", \"5\", \"6\", \"7\", \"8\", \"9\", \"10\", \"11\", \"12\", \"13\", \"14\", \"15\", \"16\", \"17\", \"18\", \"19\", \"20\", \"21\", \"22\", \"23\", \"24\", \"25\", \"26\", \"27\", \"28\", \"29\", \"30\", \"31\", \"32\", \"33\", \"36\"], \"mode\": \"lines\", \"name\": \"f1_score_weighted_max\", \"stepped\": true, \"type\": \"scatter\", \"data\": [0.8014398448329555, 0.8237396450256732, 0.8375803784256524, 0.8375803784256524, 0.8455077091206947, 0.8455077091206947, 0.8455077091206947, 0.8455077091206947, 0.8455077091206947, 0.8455077091206947, 0.8455077091206947, 0.8455077091206947, 0.8455077091206947, 0.8455077091206947, 0.8455077091206947, 0.8455077091206947, 0.850950698670282, 0.850950698670282, 0.850950698670282, 0.850950698670282, 0.850950698670282, 0.850950698670282, 0.850950698670282, 0.850950698670282, 0.850950698670282, 0.850950698670282, 0.850950698670282, 0.850950698670282, 0.850950698670282, 0.850950698670282, 0.850950698670282, 0.850950698670282, 0.850950698670282, 0.850950698670282, 0.8744137742963474]}], \"average_precision_score_micro\": [{\"categories\": [\"0\", \"1\", \"2\", \"3\", \"4\", \"5\", \"6\", \"7\", \"8\", \"9\", \"10\", \"11\", \"12\", \"13\", \"14\", \"15\", \"16\", \"17\", \"18\", \"19\", \"20\", \"21\", \"22\", \"23\", \"24\", \"25\", \"26\", \"27\", \"28\", \"29\", \"30\", \"31\", \"32\", \"33\", \"36\"], \"mode\": \"markers\", \"name\": \"average_precision_score_micro\", \"stepped\": false, \"type\": \"scatter\", \"data\": [0.887958292631032, 0.9018582931163117, 0.9166732781172492, 0.893192599776323, 0.921447697960259, 0.8829783407777722, 0.7603114541586632, 0.8723071880091318, 0.9187568775118375, 0.9130164071634249, 0.8947393757454654, 0.8891245719246047, 0.9062479100591597, 0.8877787967043064, 0.8986011001070772, 0.9000157462971572, 0.8974851149939109, 0.9088859396896039, 0.8871484071330882, 0.8717751211308231, 0.8799728289805222, 0.9026020432426062, 0.8772028692325972, 0.9077829381471568, 0.9084312841664032, 0.6445048798316375, 0.8771143508582618, 0.9049639619944767, 0.8867021740415936, 0.8952472262477389, 0.5290876820790223, 0.8966137935008867, 0.9026069386368162, 0.9119304822896203, 0.9204467481124698]}, {\"categories\": [\"0\", \"1\", \"2\", \"3\", \"4\", \"5\", \"6\", \"7\", \"8\", \"9\", \"10\", \"11\", \"12\", \"13\", \"14\", \"15\", \"16\", \"17\", \"18\", \"19\", \"20\", \"21\", \"22\", \"23\", \"24\", \"25\", \"26\", \"27\", \"28\", \"29\", \"30\", \"31\", \"32\", \"33\", \"36\"], \"mode\": \"lines\", \"name\": \"average_precision_score_micro_max\", \"stepped\": true, \"type\": \"scatter\", \"data\": [0.887958292631032, 0.9018582931163117, 0.9166732781172492, 0.9166732781172492, 0.921447697960259, 0.921447697960259, 0.921447697960259, 0.921447697960259, 0.921447697960259, 0.921447697960259, 0.921447697960259, 0.921447697960259, 0.921447697960259, 0.921447697960259, 0.921447697960259, 0.921447697960259, 0.921447697960259, 0.921447697960259, 0.921447697960259, 0.921447697960259, 0.921447697960259, 0.921447697960259, 0.921447697960259, 0.921447697960259, 0.921447697960259, 0.921447697960259, 0.921447697960259, 0.921447697960259, 0.921447697960259, 0.921447697960259, 0.921447697960259, 0.921447697960259, 0.921447697960259, 0.921447697960259, 0.921447697960259]}], \"precision_score_macro\": [{\"categories\": [\"0\", \"1\", \"2\", \"3\", \"4\", \"5\", \"6\", \"7\", \"8\", \"9\", \"10\", \"11\", \"12\", \"13\", \"14\", \"15\", \"16\", \"17\", \"18\", \"19\", \"20\", \"21\", \"22\", \"23\", \"24\", \"25\", \"26\", \"27\", \"28\", \"29\", \"30\", \"31\", \"32\", \"33\", \"36\"], \"mode\": \"markers\", \"name\": \"precision_score_macro\", \"stepped\": false, \"type\": \"scatter\", \"data\": [0.7889041743265773, 0.8086642059265495, 0.8185727029618899, 0.7888548335714999, 0.8252287874214594, 0.8055789861717418, 0.6791575955491049, 0.7842618251313904, 0.811438597107325, 0.8046826423856099, 0.8284479624983364, 0.8400404555761698, 0.8604216073781291, 0.8145149307214524, 0.8086308004896555, 0.8309955634427684, 0.8793558234888158, 0.8531708482691057, 0.7521632110099962, 0.7998373741915941, 0.8220804716397708, 0.848492463658258, 0.8099373650408876, 0.8195815096875213, 0.8232166384340298, 0.33954802259887, 0.7726294135784599, 0.8273228335313828, 0.8463668671768877, 0.7954661516717589, 0.3106382832853421, 0.7811653355258008, 0.7964868367530314, 0.8039264827123068, 0.8919036703986553]}, {\"categories\": [\"0\", \"1\", \"2\", \"3\", \"4\", \"5\", \"6\", \"7\", \"8\", \"9\", \"10\", \"11\", \"12\", \"13\", \"14\", \"15\", \"16\", \"17\", \"18\", \"19\", \"20\", \"21\", \"22\", \"23\", \"24\", \"25\", \"26\", \"27\", \"28\", \"29\", \"30\", \"31\", \"32\", \"33\", \"36\"], \"mode\": \"lines\", \"name\": \"precision_score_macro_max\", \"stepped\": true, \"type\": \"scatter\", \"data\": [0.7889041743265773, 0.8086642059265495, 0.8185727029618899, 0.8185727029618899, 0.8252287874214594, 0.8252287874214594, 0.8252287874214594, 0.8252287874214594, 0.8252287874214594, 0.8252287874214594, 0.8284479624983364, 0.8400404555761698, 0.8604216073781291, 0.8604216073781291, 0.8604216073781291, 0.8604216073781291, 0.8793558234888158, 0.8793558234888158, 0.8793558234888158, 0.8793558234888158, 0.8793558234888158, 0.8793558234888158, 0.8793558234888158, 0.8793558234888158, 0.8793558234888158, 0.8793558234888158, 0.8793558234888158, 0.8793558234888158, 0.8793558234888158, 0.8793558234888158, 0.8793558234888158, 0.8793558234888158, 0.8793558234888158, 0.8793558234888158, 0.8919036703986553]}], \"accuracy\": [{\"categories\": [\"0\", \"1\", \"2\", \"3\", \"4\", \"5\", \"6\", \"7\", \"8\", \"9\", \"10\", \"11\", \"12\", \"13\", \"14\", \"15\", \"16\", \"17\", \"18\", \"19\", \"20\", \"21\", \"22\", \"23\", \"24\", \"25\", \"26\", \"27\", \"28\", \"29\", \"30\", \"31\", \"32\", \"33\", \"36\"], \"mode\": \"markers\", \"name\": \"accuracy\", \"stepped\": false, \"type\": \"scatter\", \"data\": [0.8059887005649717, 0.8259322033898304, 0.8393785310734463, 0.8058757062146892, 0.8459887005649718, 0.8193785310734463, 0.7124293785310734, 0.8093785310734465, 0.8293785310734464, 0.822768361581921, 0.8361016949152542, 0.8396610169491525, 0.8528813559322034, 0.8160451977401131, 0.8227118644067797, 0.8161581920903955, 0.85954802259887, 0.8529378531073446, 0.7857062146892655, 0.8027118644067797, 0.7993220338983051, 0.8496045197740113, 0.8328248587570621, 0.8359322033898305, 0.836045197740113, 0.67909604519774, 0.7725423728813559, 0.836045197740113, 0.8294915254237288, 0.8159322033898306, 0.4389830508474576, 0.8124293785310733, 0.8159322033898304, 0.8259887005649718, 0.8796610169491526]}, {\"categories\": [\"0\", \"1\", \"2\", \"3\", \"4\", \"5\", \"6\", \"7\", \"8\", \"9\", \"10\", \"11\", \"12\", \"13\", \"14\", \"15\", \"16\", \"17\", \"18\", \"19\", \"20\", \"21\", \"22\", \"23\", \"24\", \"25\", \"26\", \"27\", \"28\", \"29\", \"30\", \"31\", \"32\", \"33\", \"36\"], \"mode\": \"lines\", \"name\": \"accuracy_max\", \"stepped\": true, \"type\": \"scatter\", \"data\": [0.8059887005649717, 0.8259322033898304, 0.8393785310734463, 0.8393785310734463, 0.8459887005649718, 0.8459887005649718, 0.8459887005649718, 0.8459887005649718, 0.8459887005649718, 0.8459887005649718, 0.8459887005649718, 0.8459887005649718, 0.8528813559322034, 0.8528813559322034, 0.8528813559322034, 0.8528813559322034, 0.85954802259887, 0.85954802259887, 0.85954802259887, 0.85954802259887, 0.85954802259887, 0.85954802259887, 0.85954802259887, 0.85954802259887, 0.85954802259887, 0.85954802259887, 0.85954802259887, 0.85954802259887, 0.85954802259887, 0.85954802259887, 0.85954802259887, 0.85954802259887, 0.85954802259887, 0.85954802259887, 0.8796610169491526]}], \"average_precision_score_macro\": [{\"categories\": [\"0\", \"1\", \"2\", \"3\", \"4\", \"5\", \"6\", \"7\", \"8\", \"9\", \"10\", \"11\", \"12\", \"13\", \"14\", \"15\", \"16\", \"17\", \"18\", \"19\", \"20\", \"21\", \"22\", \"23\", \"24\", \"25\", \"26\", \"27\", \"28\", \"29\", \"30\", \"31\", \"32\", \"33\", \"36\"], \"mode\": \"markers\", \"name\": \"average_precision_score_macro\", \"stepped\": false, \"type\": \"scatter\", \"data\": [0.8655792376041671, 0.8826936933050062, 0.9028573844518558, 0.865350562211348, 0.9042045580685633, 0.8547187703287061, 0.7184794519077, 0.8329476717741734, 0.9010180423811356, 0.8933089759941637, 0.8814867324927583, 0.8603944969051482, 0.8922767716656326, 0.8821896413678351, 0.8832141638196495, 0.8878516927812372, 0.8805893718539757, 0.8937666507227071, 0.8325002756801471, 0.8349810331652406, 0.868873077605755, 0.8802531433544377, 0.841342753381442, 0.8900063129165934, 0.9002226498880077, 0.5129883983986746, 0.8521117916789566, 0.897397513505806, 0.8644567912835168, 0.8698533160892913, 0.5278680683602963, 0.8856995915158213, 0.8829224733696327, 0.8891725774805769, 0.9057358444229306]}, {\"categories\": [\"0\", \"1\", \"2\", \"3\", \"4\", \"5\", \"6\", \"7\", \"8\", \"9\", \"10\", \"11\", \"12\", \"13\", \"14\", \"15\", \"16\", \"17\", \"18\", \"19\", \"20\", \"21\", \"22\", \"23\", \"24\", \"25\", \"26\", \"27\", \"28\", \"29\", \"30\", \"31\", \"32\", \"33\", \"36\"], \"mode\": \"lines\", \"name\": \"average_precision_score_macro_max\", \"stepped\": true, \"type\": \"scatter\", \"data\": [0.8655792376041671, 0.8826936933050062, 0.9028573844518558, 0.9028573844518558, 0.9042045580685633, 0.9042045580685633, 0.9042045580685633, 0.9042045580685633, 0.9042045580685633, 0.9042045580685633, 0.9042045580685633, 0.9042045580685633, 0.9042045580685633, 0.9042045580685633, 0.9042045580685633, 0.9042045580685633, 0.9042045580685633, 0.9042045580685633, 0.9042045580685633, 0.9042045580685633, 0.9042045580685633, 0.9042045580685633, 0.9042045580685633, 0.9042045580685633, 0.9042045580685633, 0.9042045580685633, 0.9042045580685633, 0.9042045580685633, 0.9042045580685633, 0.9042045580685633, 0.9042045580685633, 0.9042045580685633, 0.9042045580685633, 0.9042045580685633, 0.9057358444229306]}], \"balanced_accuracy\": [{\"categories\": [\"0\", \"1\", \"2\", \"3\", \"4\", \"5\", \"6\", \"7\", \"8\", \"9\", \"10\", \"11\", \"12\", \"13\", \"14\", \"15\", \"16\", \"17\", \"18\", \"19\", \"20\", \"21\", \"22\", \"23\", \"24\", \"25\", \"26\", \"27\", \"28\", \"29\", \"30\", \"31\", \"32\", \"33\", \"36\"], \"mode\": \"markers\", \"name\": \"balanced_accuracy\", \"stepped\": false, \"type\": \"scatter\", \"data\": [0.7760209025470652, 0.8060125968992248, 0.8138482834994465, 0.7632786544850498, 0.8267607973421928, 0.7931976744186047, 0.6232613510520487, 0.7602512458471761, 0.800842331118494, 0.7863863510520487, 0.8004298172757476, 0.8022916666666667, 0.8088946566998892, 0.7672155315614617, 0.7833464839424142, 0.7494601328903654, 0.8087202380952381, 0.8220196566998894, 0.7649370155038759, 0.7578107696566999, 0.7190434662236989, 0.8112458471760797, 0.8063524363233666, 0.8120245016611296, 0.8041756644518273, 0.5, 0.7019179125138427, 0.8026875692137321, 0.7636863233665558, 0.7893500830564785, 0.5251661129568106, 0.8095120431893686, 0.7924411683277963, 0.8019096068660023, 0.8466666666666667]}, {\"categories\": [\"0\", \"1\", \"2\", \"3\", \"4\", \"5\", \"6\", \"7\", \"8\", \"9\", \"10\", \"11\", \"12\", \"13\", \"14\", \"15\", \"16\", \"17\", \"18\", \"19\", \"20\", \"21\", \"22\", \"23\", \"24\", \"25\", \"26\", \"27\", \"28\", \"29\", \"30\", \"31\", \"32\", \"33\", \"36\"], \"mode\": \"lines\", \"name\": \"balanced_accuracy_max\", \"stepped\": true, \"type\": \"scatter\", \"data\": [0.7760209025470652, 0.8060125968992248, 0.8138482834994465, 0.8138482834994465, 0.8267607973421928, 0.8267607973421928, 0.8267607973421928, 0.8267607973421928, 0.8267607973421928, 0.8267607973421928, 0.8267607973421928, 0.8267607973421928, 0.8267607973421928, 0.8267607973421928, 0.8267607973421928, 0.8267607973421928, 0.8267607973421928, 0.8267607973421928, 0.8267607973421928, 0.8267607973421928, 0.8267607973421928, 0.8267607973421928, 0.8267607973421928, 0.8267607973421928, 0.8267607973421928, 0.8267607973421928, 0.8267607973421928, 0.8267607973421928, 0.8267607973421928, 0.8267607973421928, 0.8267607973421928, 0.8267607973421928, 0.8267607973421928, 0.8267607973421928, 0.8466666666666667]}], \"log_loss\": [{\"categories\": [\"0\", \"1\", \"2\", \"3\", \"4\", \"5\", \"6\", \"7\", \"8\", \"9\", \"10\", \"11\", \"12\", \"13\", \"14\", \"15\", \"16\", \"17\", \"18\", \"19\", \"20\", \"21\", \"22\", \"23\", \"24\", \"25\", \"26\", \"27\", \"28\", \"29\", \"30\", \"31\", \"32\", \"33\", \"36\"], \"mode\": \"markers\", \"name\": \"log_loss\", \"stepped\": false, \"type\": \"scatter\", \"data\": [0.5282491261622873, 0.43217688137359717, 0.3765820151597668, 0.41361172391309464, 0.37763751902878334, 0.4408552974022011, 0.5826796948985005, 0.4899611430866921, 0.3719514244023545, 0.40358321741333236, 0.41762545290110076, 0.42185935955113446, 0.40811526155184463, 0.4727004574854833, 0.43492009909813784, 0.4331556229669603, 0.4185912276500492, 0.39311041505349414, 0.4403505547874193, 0.48738617928676964, 0.47014864854212207, 0.38995629857272407, 0.47391762159455303, 0.38626091602586216, 0.4224834037609237, 0.6379619972074047, 0.4765235258872666, 0.4205545022672602, 0.4525433331839519, 0.43354618809597645, 0.6910708319036647, 0.4611341782417675, 0.4611190908155908, 0.37367182142516886, 0.3948454749869423]}, {\"categories\": [\"0\", \"1\", \"2\", \"3\", \"4\", \"5\", \"6\", \"7\", \"8\", \"9\", \"10\", \"11\", \"12\", \"13\", \"14\", \"15\", \"16\", \"17\", \"18\", \"19\", \"20\", \"21\", \"22\", \"23\", \"24\", \"25\", \"26\", \"27\", \"28\", \"29\", \"30\", \"31\", \"32\", \"33\", \"36\"], \"mode\": \"lines\", \"name\": \"log_loss_min\", \"stepped\": true, \"type\": \"scatter\", \"data\": [0.5282491261622873, 0.43217688137359717, 0.3765820151597668, 0.3765820151597668, 0.3765820151597668, 0.3765820151597668, 0.3765820151597668, 0.3765820151597668, 0.3719514244023545, 0.3719514244023545, 0.3719514244023545, 0.3719514244023545, 0.3719514244023545, 0.3719514244023545, 0.3719514244023545, 0.3719514244023545, 0.3719514244023545, 0.3719514244023545, 0.3719514244023545, 0.3719514244023545, 0.3719514244023545, 0.3719514244023545, 0.3719514244023545, 0.3719514244023545, 0.3719514244023545, 0.3719514244023545, 0.3719514244023545, 0.3719514244023545, 0.3719514244023545, 0.3719514244023545, 0.3719514244023545, 0.3719514244023545, 0.3719514244023545, 0.3719514244023545, 0.3719514244023545]}], \"precision_score_weighted\": [{\"categories\": [\"0\", \"1\", \"2\", \"3\", \"4\", \"5\", \"6\", \"7\", \"8\", \"9\", \"10\", \"11\", \"12\", \"13\", \"14\", \"15\", \"16\", \"17\", \"18\", \"19\", \"20\", \"21\", \"22\", \"23\", \"24\", \"25\", \"26\", \"27\", \"28\", \"29\", \"30\", \"31\", \"32\", \"33\", \"36\"], \"mode\": \"markers\", \"name\": \"precision_score_weighted\", \"stepped\": false, \"type\": \"scatter\", \"data\": [0.8237683758533973, 0.8403871377947292, 0.8466609643235579, 0.8173978676942237, 0.859770172925551, 0.84162284278695, 0.7217436225431109, 0.8196810460480322, 0.8428483764020704, 0.8327730805929887, 0.8494755963588559, 0.8552541982723583, 0.865471139439452, 0.8315673124386462, 0.8345278185862874, 0.8351820421085817, 0.8749960384317486, 0.8721608882857931, 0.8023521160608039, 0.8226124253630431, 0.8224101430825357, 0.8634172995690739, 0.842140254999236, 0.8505201170953148, 0.8482415480204721, 0.4689005075169971, 0.785256364556316, 0.8488710831877853, 0.8455307914899441, 0.832886059136861, 0.2984685167496733, 0.8361859718283858, 0.8326596079121511, 0.8390169483833351, 0.8966259388449416]}, {\"categories\": [\"0\", \"1\", \"2\", \"3\", \"4\", \"5\", \"6\", \"7\", \"8\", \"9\", \"10\", \"11\", \"12\", \"13\", \"14\", \"15\", \"16\", \"17\", \"18\", \"19\", \"20\", \"21\", \"22\", \"23\", \"24\", \"25\", \"26\", \"27\", \"28\", \"29\", \"30\", \"31\", \"32\", \"33\", \"36\"], \"mode\": \"lines\", \"name\": \"precision_score_weighted_max\", \"stepped\": true, \"type\": \"scatter\", \"data\": [0.8237683758533973, 0.8403871377947292, 0.8466609643235579, 0.8466609643235579, 0.859770172925551, 0.859770172925551, 0.859770172925551, 0.859770172925551, 0.859770172925551, 0.859770172925551, 0.859770172925551, 0.859770172925551, 0.865471139439452, 0.865471139439452, 0.865471139439452, 0.865471139439452, 0.8749960384317486, 0.8749960384317486, 0.8749960384317486, 0.8749960384317486, 0.8749960384317486, 0.8749960384317486, 0.8749960384317486, 0.8749960384317486, 0.8749960384317486, 0.8749960384317486, 0.8749960384317486, 0.8749960384317486, 0.8749960384317486, 0.8749960384317486, 0.8749960384317486, 0.8749960384317486, 0.8749960384317486, 0.8749960384317486, 0.8966259388449416]}], \"f1_score_macro\": [{\"categories\": [\"0\", \"1\", \"2\", \"3\", \"4\", \"5\", \"6\", \"7\", \"8\", \"9\", \"10\", \"11\", \"12\", \"13\", \"14\", \"15\", \"16\", \"17\", \"18\", \"19\", \"20\", \"21\", \"22\", \"23\", \"24\", \"25\", \"26\", \"27\", \"28\", \"29\", \"30\", \"31\", \"32\", \"33\", \"36\"], \"mode\": \"markers\", \"name\": \"f1_score_macro\", \"stepped\": false, \"type\": \"scatter\", \"data\": [0.7682096405971308, 0.7972526241921125, 0.8104490130145017, 0.7609357050349594, 0.818052925165988, 0.7832239620952504, 0.6109899460442939, 0.7611013563473851, 0.7952483173311329, 0.7861109037161669, 0.8003403748498062, 0.8054017500529944, 0.8185389642295096, 0.7695891912830867, 0.7829825235508252, 0.7625919451180303, 0.8233692429309911, 0.8207655578522399, 0.748277435862037, 0.7522535529567671, 0.7281247920751881, 0.8161275803155832, 0.8013796753188039, 0.8047193590678777, 0.8021870321831066, 0.40276783177038933, 0.7039563639868793, 0.802086202953971, 0.7809596984576304, 0.7794986428792511, 0.3508919123204838, 0.786985810450525, 0.7827043394911832, 0.7940363987137193, 0.8533586706251939]}, {\"categories\": [\"0\", \"1\", \"2\", \"3\", \"4\", \"5\", \"6\", \"7\", \"8\", \"9\", \"10\", \"11\", \"12\", \"13\", \"14\", \"15\", \"16\", \"17\", \"18\", \"19\", \"20\", \"21\", \"22\", \"23\", \"24\", \"25\", \"26\", \"27\", \"28\", \"29\", \"30\", \"31\", \"32\", \"33\", \"36\"], \"mode\": \"lines\", \"name\": \"f1_score_macro_max\", \"stepped\": true, \"type\": \"scatter\", \"data\": [0.7682096405971308, 0.7972526241921125, 0.8104490130145017, 0.8104490130145017, 0.818052925165988, 0.818052925165988, 0.818052925165988, 0.818052925165988, 0.818052925165988, 0.818052925165988, 0.818052925165988, 0.818052925165988, 0.8185389642295096, 0.8185389642295096, 0.8185389642295096, 0.8185389642295096, 0.8233692429309911, 0.8233692429309911, 0.8233692429309911, 0.8233692429309911, 0.8233692429309911, 0.8233692429309911, 0.8233692429309911, 0.8233692429309911, 0.8233692429309911, 0.8233692429309911, 0.8233692429309911, 0.8233692429309911, 0.8233692429309911, 0.8233692429309911, 0.8233692429309911, 0.8233692429309911, 0.8233692429309911, 0.8233692429309911, 0.8533586706251939]}], \"matthews_correlation\": [{\"categories\": [\"0\", \"1\", \"2\", \"3\", \"4\", \"5\", \"6\", \"7\", \"8\", \"9\", \"10\", \"11\", \"12\", \"13\", \"14\", \"15\", \"16\", \"17\", \"18\", \"19\", \"20\", \"21\", \"22\", \"23\", \"24\", \"25\", \"26\", \"27\", \"28\", \"29\", \"30\", \"31\", \"32\", \"33\", \"36\"], \"mode\": \"markers\", \"name\": \"matthews_correlation\", \"stepped\": false, \"type\": \"scatter\", \"data\": [0.5628617041183437, 0.6132552509330647, 0.6318569274234418, 0.5495332253359989, 0.6509728512009312, 0.5957921987579933, 0.2920654955538039, 0.5428697166604373, 0.6107628480520115, 0.5896191659296236, 0.6264987055555082, 0.6384352579269081, 0.6657373742842722, 0.577377585520883, 0.589881704532164, 0.5731686693141919, 0.6817139686928744, 0.6714823349474599, 0.5154115452026498, 0.551473312050151, 0.5274509843861234, 0.6568903004948619, 0.6154995949020211, 0.6299505179818075, 0.625642094524869, 0.0, 0.4662204355869578, 0.6279938389599077, 0.6035132646292753, 0.5825213357137159, 0.04956565335540283, 0.5893249091281116, 0.587052521587701, 0.6045413305308027, 0.7347964692477312]}, {\"categories\": [\"0\", \"1\", \"2\", \"3\", \"4\", \"5\", \"6\", \"7\", \"8\", \"9\", \"10\", \"11\", \"12\", \"13\", \"14\", \"15\", \"16\", \"17\", \"18\", \"19\", \"20\", \"21\", \"22\", \"23\", \"24\", \"25\", \"26\", \"27\", \"28\", \"29\", \"30\", \"31\", \"32\", \"33\", \"36\"], \"mode\": \"lines\", \"name\": \"matthews_correlation_max\", \"stepped\": true, \"type\": \"scatter\", \"data\": [0.5628617041183437, 0.6132552509330647, 0.6318569274234418, 0.6318569274234418, 0.6509728512009312, 0.6509728512009312, 0.6509728512009312, 0.6509728512009312, 0.6509728512009312, 0.6509728512009312, 0.6509728512009312, 0.6509728512009312, 0.6657373742842722, 0.6657373742842722, 0.6657373742842722, 0.6657373742842722, 0.6817139686928744, 0.6817139686928744, 0.6817139686928744, 0.6817139686928744, 0.6817139686928744, 0.6817139686928744, 0.6817139686928744, 0.6817139686928744, 0.6817139686928744, 0.6817139686928744, 0.6817139686928744, 0.6817139686928744, 0.6817139686928744, 0.6817139686928744, 0.6817139686928744, 0.6817139686928744, 0.6817139686928744, 0.6817139686928744, 0.7347964692477312]}], \"AUC_micro\": [{\"categories\": [\"0\", \"1\", \"2\", \"3\", \"4\", \"5\", \"6\", \"7\", \"8\", \"9\", \"10\", \"11\", \"12\", \"13\", \"14\", \"15\", \"16\", \"17\", \"18\", \"19\", \"20\", \"21\", \"22\", \"23\", \"24\", \"25\", \"26\", \"27\", \"28\", \"29\", \"30\", \"31\", \"32\", \"33\", \"36\"], \"mode\": \"markers\", \"name\": \"AUC_micro\", \"stepped\": false, \"type\": \"scatter\", \"data\": [0.8880105014523284, 0.8999905678444892, 0.9138167672124868, 0.8875556193941716, 0.9182726228095375, 0.8820522997861406, 0.7812334817581156, 0.8762564716396948, 0.916791598838137, 0.9088200868205177, 0.8985708129847744, 0.8897393628906125, 0.9054046091480737, 0.8864027259089022, 0.8994706182769958, 0.8947004372945194, 0.8973742219668678, 0.9075014682881675, 0.8799810878100163, 0.8780171566280442, 0.8736819240958855, 0.9057792460659453, 0.8846429825401385, 0.907773564429123, 0.9064492483002968, 0.6855519167544448, 0.8703295987742987, 0.9059587442944237, 0.8835038462766127, 0.8934032046985221, 0.45112691116856596, 0.901044718950493, 0.9038970283124261, 0.9095822081777267, 0.9182735484694693]}, {\"categories\": [\"0\", \"1\", \"2\", \"3\", \"4\", \"5\", \"6\", \"7\", \"8\", \"9\", \"10\", \"11\", \"12\", \"13\", \"14\", \"15\", \"16\", \"17\", \"18\", \"19\", \"20\", \"21\", \"22\", \"23\", \"24\", \"25\", \"26\", \"27\", \"28\", \"29\", \"30\", \"31\", \"32\", \"33\", \"36\"], \"mode\": \"lines\", \"name\": \"AUC_micro_max\", \"stepped\": true, \"type\": \"scatter\", \"data\": [0.8880105014523284, 0.8999905678444892, 0.9138167672124868, 0.9138167672124868, 0.9182726228095375, 0.9182726228095375, 0.9182726228095375, 0.9182726228095375, 0.9182726228095375, 0.9182726228095375, 0.9182726228095375, 0.9182726228095375, 0.9182726228095375, 0.9182726228095375, 0.9182726228095375, 0.9182726228095375, 0.9182726228095375, 0.9182726228095375, 0.9182726228095375, 0.9182726228095375, 0.9182726228095375, 0.9182726228095375, 0.9182726228095375, 0.9182726228095375, 0.9182726228095375, 0.9182726228095375, 0.9182726228095375, 0.9182726228095375, 0.9182726228095375, 0.9182726228095375, 0.9182726228095375, 0.9182726228095375, 0.9182726228095375, 0.9182726228095375, 0.9182735484694693]}], \"recall_score_macro\": [{\"categories\": [\"0\", \"1\", \"2\", \"3\", \"4\", \"5\", \"6\", \"7\", \"8\", \"9\", \"10\", \"11\", \"12\", \"13\", \"14\", \"15\", \"16\", \"17\", \"18\", \"19\", \"20\", \"21\", \"22\", \"23\", \"24\", \"25\", \"26\", \"27\", \"28\", \"29\", \"30\", \"31\", \"32\", \"33\", \"36\"], \"mode\": \"markers\", \"name\": \"recall_score_macro\", \"stepped\": false, \"type\": \"scatter\", \"data\": [0.7760209025470652, 0.8060125968992248, 0.8138482834994465, 0.7632786544850498, 0.8267607973421928, 0.7931976744186047, 0.6232613510520487, 0.7602512458471761, 0.800842331118494, 0.7863863510520487, 0.8004298172757476, 0.8022916666666667, 0.8088946566998892, 0.7672155315614617, 0.7833464839424142, 0.7494601328903654, 0.8087202380952381, 0.8220196566998894, 0.7649370155038759, 0.7578107696566999, 0.7190434662236989, 0.8112458471760797, 0.8063524363233666, 0.8120245016611296, 0.8041756644518273, 0.5, 0.7019179125138427, 0.8026875692137321, 0.7636863233665558, 0.7893500830564785, 0.5251661129568106, 0.8095120431893686, 0.7924411683277963, 0.8019096068660023, 0.8466666666666667]}, {\"categories\": [\"0\", \"1\", \"2\", \"3\", \"4\", \"5\", \"6\", \"7\", \"8\", \"9\", \"10\", \"11\", \"12\", \"13\", \"14\", \"15\", \"16\", \"17\", \"18\", \"19\", \"20\", \"21\", \"22\", \"23\", \"24\", \"25\", \"26\", \"27\", \"28\", \"29\", \"30\", \"31\", \"32\", \"33\", \"36\"], \"mode\": \"lines\", \"name\": \"recall_score_macro_max\", \"stepped\": true, \"type\": \"scatter\", \"data\": [0.7760209025470652, 0.8060125968992248, 0.8138482834994465, 0.8138482834994465, 0.8267607973421928, 0.8267607973421928, 0.8267607973421928, 0.8267607973421928, 0.8267607973421928, 0.8267607973421928, 0.8267607973421928, 0.8267607973421928, 0.8267607973421928, 0.8267607973421928, 0.8267607973421928, 0.8267607973421928, 0.8267607973421928, 0.8267607973421928, 0.8267607973421928, 0.8267607973421928, 0.8267607973421928, 0.8267607973421928, 0.8267607973421928, 0.8267607973421928, 0.8267607973421928, 0.8267607973421928, 0.8267607973421928, 0.8267607973421928, 0.8267607973421928, 0.8267607973421928, 0.8267607973421928, 0.8267607973421928, 0.8267607973421928, 0.8267607973421928, 0.8466666666666667]}], \"AUC_weighted\": [{\"categories\": [\"0\", \"1\", \"2\", \"3\", \"4\", \"5\", \"6\", \"7\", \"8\", \"9\", \"10\", \"11\", \"12\", \"13\", \"14\", \"15\", \"16\", \"17\", \"18\", \"19\", \"20\", \"21\", \"22\", \"23\", \"24\", \"25\", \"26\", \"27\", \"28\", \"29\", \"30\", \"31\", \"32\", \"33\", \"36\"], \"mode\": \"markers\", \"name\": \"AUC_weighted\", \"stepped\": false, \"type\": \"scatter\", \"data\": [0.8811331210778885, 0.8929591177556293, 0.9077096714654853, 0.8888372093023257, 0.9116485557401255, 0.8712067644887412, 0.7394446982281285, 0.8592381875230715, 0.9112483850129198, 0.9040887320044295, 0.8947244716685123, 0.8717731404577334, 0.904032991878922, 0.8939186277224067, 0.8944861803248431, 0.8967023348098928, 0.889111180324843, 0.9016086886304908, 0.8644148440383905, 0.8853673288113695, 0.8808249584717608, 0.8940481035437431, 0.8706157022886675, 0.903203442229605, 0.9047333425618309, 0.523110465116279, 0.8699184662236987, 0.9037229143595423, 0.8766325904392765, 0.8876306985972683, 0.5343178986710962, 0.9017544988925803, 0.9005219984311553, 0.9036477251753414, 0.9167644656699888]}, {\"categories\": [\"0\", \"1\", \"2\", \"3\", \"4\", \"5\", \"6\", \"7\", \"8\", \"9\", \"10\", \"11\", \"12\", \"13\", \"14\", \"15\", \"16\", \"17\", \"18\", \"19\", \"20\", \"21\", \"22\", \"23\", \"24\", \"25\", \"26\", \"27\", \"28\", \"29\", \"30\", \"31\", \"32\", \"33\", \"36\"], \"mode\": \"lines\", \"name\": \"AUC_weighted_max\", \"stepped\": true, \"type\": \"scatter\", \"data\": [0.8811331210778885, 0.8929591177556293, 0.9077096714654853, 0.9077096714654853, 0.9116485557401255, 0.9116485557401255, 0.9116485557401255, 0.9116485557401255, 0.9116485557401255, 0.9116485557401255, 0.9116485557401255, 0.9116485557401255, 0.9116485557401255, 0.9116485557401255, 0.9116485557401255, 0.9116485557401255, 0.9116485557401255, 0.9116485557401255, 0.9116485557401255, 0.9116485557401255, 0.9116485557401255, 0.9116485557401255, 0.9116485557401255, 0.9116485557401255, 0.9116485557401255, 0.9116485557401255, 0.9116485557401255, 0.9116485557401255, 0.9116485557401255, 0.9116485557401255, 0.9116485557401255, 0.9116485557401255, 0.9116485557401255, 0.9116485557401255, 0.9167644656699888]}], \"norm_macro_recall\": [{\"categories\": [\"0\", \"1\", \"2\", \"3\", \"4\", \"5\", \"6\", \"7\", \"8\", \"9\", \"10\", \"11\", \"12\", \"13\", \"14\", \"15\", \"16\", \"17\", \"18\", \"19\", \"20\", \"21\", \"22\", \"23\", \"24\", \"25\", \"26\", \"27\", \"28\", \"29\", \"30\", \"31\", \"32\", \"33\", \"36\"], \"mode\": \"markers\", \"name\": \"norm_macro_recall\", \"stepped\": false, \"type\": \"scatter\", \"data\": [0.5520418050941306, 0.6120251937984496, 0.6276965669988925, 0.5265573089700997, 0.6535215946843854, 0.5863953488372092, 0.24652270210409744, 0.5205024916943521, 0.6016846622369878, 0.5727727021040974, 0.6008596345514949, 0.6045833333333335, 0.6177893133997785, 0.5344310631229235, 0.5666929678848283, 0.4989202657807309, 0.6174404761904763, 0.6440393133997786, 0.529874031007752, 0.5156215393133998, 0.43808693244739755, 0.6224916943521595, 0.6127048726467331, 0.6240490033222592, 0.6083513289036546, 0.0, 0.4038358250276854, 0.605375138427464, 0.5273726467331119, 0.5787001661129569, 0.05178571428571428, 0.6190240863787375, 0.5848823366555925, 0.6038192137320044, 0.6933333333333334]}, {\"categories\": [\"0\", \"1\", \"2\", \"3\", \"4\", \"5\", \"6\", \"7\", \"8\", \"9\", \"10\", \"11\", \"12\", \"13\", \"14\", \"15\", \"16\", \"17\", \"18\", \"19\", \"20\", \"21\", \"22\", \"23\", \"24\", \"25\", \"26\", \"27\", \"28\", \"29\", \"30\", \"31\", \"32\", \"33\", \"36\"], \"mode\": \"lines\", \"name\": \"norm_macro_recall_max\", \"stepped\": true, \"type\": \"scatter\", \"data\": [0.5520418050941306, 0.6120251937984496, 0.6276965669988925, 0.6276965669988925, 0.6535215946843854, 0.6535215946843854, 0.6535215946843854, 0.6535215946843854, 0.6535215946843854, 0.6535215946843854, 0.6535215946843854, 0.6535215946843854, 0.6535215946843854, 0.6535215946843854, 0.6535215946843854, 0.6535215946843854, 0.6535215946843854, 0.6535215946843854, 0.6535215946843854, 0.6535215946843854, 0.6535215946843854, 0.6535215946843854, 0.6535215946843854, 0.6535215946843854, 0.6535215946843854, 0.6535215946843854, 0.6535215946843854, 0.6535215946843854, 0.6535215946843854, 0.6535215946843854, 0.6535215946843854, 0.6535215946843854, 0.6535215946843854, 0.6535215946843854, 0.6933333333333334]}]}, \"metricName\": null, \"primaryMetricName\": \"accuracy\", \"showLegend\": false}, \"run_metrics\": [{\"name\": \"experiment_status\", \"run_id\": \"AutoML_270ccba5-71fb-4b17-8fb5-5af529d9f8d4\", \"categories\": [0, 1, 2, 3, 4, 5, 6, 7, 8, 9, 10, 11, 12, 13], \"series\": [{\"data\": [\"DatasetEvaluation\", \"FeaturesGeneration\", \"DatasetFeaturization\", \"DatasetFeaturizationCompleted\", \"DatasetCrossValidationSplit\", \"ModelSelection\", \"BestRunExplainModel\", \"ModelExplanationDataSetSetup\", \"PickSurrogateModel\", \"EngineeredFeatureExplanations\", \"EngineeredFeatureExplanations\", \"RawFeaturesExplanations\", \"RawFeaturesExplanations\", \"BestRunExplainModel\"]}]}, {\"name\": \"experiment_status_description\", \"run_id\": \"AutoML_270ccba5-71fb-4b17-8fb5-5af529d9f8d4\", \"categories\": [0, 1, 2, 3, 4, 5, 6, 7, 8, 9, 10, 11, 12, 13], \"series\": [{\"data\": [\"Gathering dataset statistics.\", \"Generating features for the dataset.\", \"Beginning to fit featurizers and featurize the dataset.\", \"Completed fit featurizers and featurizing the dataset.\", \"Generating individually featurized CV splits.\", \"Beginning model selection.\", \"Best run model explanations started\", \"Model explanations data setup completed\", \"Choosing LightGBM as the surrogate model for explanations\", \"Computation of engineered features started\", \"Computation of engineered features completed\", \"Computation of raw features started\", \"Computation of raw features completed\", \"Best run model explanations completed\"]}]}, {\"name\": \"AUC_weighted\", \"run_id\": \"AutoML_270ccba5-71fb-4b17-8fb5-5af529d9f8d4\", \"categories\": [0], \"series\": [{\"data\": [0.9167644656699888]}]}, {\"name\": \"f1_score_macro\", \"run_id\": \"AutoML_270ccba5-71fb-4b17-8fb5-5af529d9f8d4\", \"categories\": [0], \"series\": [{\"data\": [0.8533586706251939]}]}, {\"name\": \"precision_score_micro\", \"run_id\": \"AutoML_270ccba5-71fb-4b17-8fb5-5af529d9f8d4\", \"categories\": [0], \"series\": [{\"data\": [0.8796610169491526]}]}, {\"name\": \"AUC_macro\", \"run_id\": \"AutoML_270ccba5-71fb-4b17-8fb5-5af529d9f8d4\", \"categories\": [0], \"series\": [{\"data\": [0.9167644656699888]}]}, {\"name\": \"precision_score_weighted\", \"run_id\": \"AutoML_270ccba5-71fb-4b17-8fb5-5af529d9f8d4\", \"categories\": [0], \"series\": [{\"data\": [0.8966259388449416]}]}, {\"name\": \"recall_score_macro\", \"run_id\": \"AutoML_270ccba5-71fb-4b17-8fb5-5af529d9f8d4\", \"categories\": [0], \"series\": [{\"data\": [0.8466666666666667]}]}, {\"name\": \"f1_score_micro\", \"run_id\": \"AutoML_270ccba5-71fb-4b17-8fb5-5af529d9f8d4\", \"categories\": [0], \"series\": [{\"data\": [0.8796610169491526]}]}, {\"name\": \"f1_score_weighted\", \"run_id\": \"AutoML_270ccba5-71fb-4b17-8fb5-5af529d9f8d4\", \"categories\": [0], \"series\": [{\"data\": [0.8744137742963474]}]}, {\"name\": \"norm_macro_recall\", \"run_id\": \"AutoML_270ccba5-71fb-4b17-8fb5-5af529d9f8d4\", \"categories\": [0], \"series\": [{\"data\": [0.6933333333333334]}]}, {\"name\": \"log_loss\", \"run_id\": \"AutoML_270ccba5-71fb-4b17-8fb5-5af529d9f8d4\", \"categories\": [0], \"series\": [{\"data\": [0.3948454749869423]}]}, {\"name\": \"average_precision_score_weighted\", \"run_id\": \"AutoML_270ccba5-71fb-4b17-8fb5-5af529d9f8d4\", \"categories\": [0], \"series\": [{\"data\": [0.9271222539913655]}]}, {\"name\": \"precision_score_macro\", \"run_id\": \"AutoML_270ccba5-71fb-4b17-8fb5-5af529d9f8d4\", \"categories\": [0], \"series\": [{\"data\": [0.8919036703986553]}]}, {\"name\": \"recall_score_micro\", \"run_id\": \"AutoML_270ccba5-71fb-4b17-8fb5-5af529d9f8d4\", \"categories\": [0], \"series\": [{\"data\": [0.8796610169491526]}]}, {\"name\": \"AUC_micro\", \"run_id\": \"AutoML_270ccba5-71fb-4b17-8fb5-5af529d9f8d4\", \"categories\": [0], \"series\": [{\"data\": [0.9182735484694693]}]}, {\"name\": \"accuracy\", \"run_id\": \"AutoML_270ccba5-71fb-4b17-8fb5-5af529d9f8d4\", \"categories\": [0], \"series\": [{\"data\": [0.8796610169491526]}]}, {\"name\": \"weighted_accuracy\", \"run_id\": \"AutoML_270ccba5-71fb-4b17-8fb5-5af529d9f8d4\", \"categories\": [0], \"series\": [{\"data\": [0.9017121064304477]}]}, {\"name\": \"balanced_accuracy\", \"run_id\": \"AutoML_270ccba5-71fb-4b17-8fb5-5af529d9f8d4\", \"categories\": [0], \"series\": [{\"data\": [0.8466666666666667]}]}, {\"name\": \"matthews_correlation\", \"run_id\": \"AutoML_270ccba5-71fb-4b17-8fb5-5af529d9f8d4\", \"categories\": [0], \"series\": [{\"data\": [0.7347964692477312]}]}, {\"name\": \"recall_score_weighted\", \"run_id\": \"AutoML_270ccba5-71fb-4b17-8fb5-5af529d9f8d4\", \"categories\": [0], \"series\": [{\"data\": [0.8796610169491526]}]}, {\"name\": \"average_precision_score_macro\", \"run_id\": \"AutoML_270ccba5-71fb-4b17-8fb5-5af529d9f8d4\", \"categories\": [0], \"series\": [{\"data\": [0.9057358444229306]}]}, {\"name\": \"average_precision_score_micro\", \"run_id\": \"AutoML_270ccba5-71fb-4b17-8fb5-5af529d9f8d4\", \"categories\": [0], \"series\": [{\"data\": [0.9204467481124698]}]}], \"run_logs\": \"\\nRun is completed.\", \"graph\": {}, \"widget_settings\": {\"childWidgetDisplay\": \"popup\", \"send_telemetry\": false, \"log_level\": \"INFO\", \"sdk_version\": \"1.20.0\"}, \"loading\": false}"
          },
          "metadata": {}
        },
        {
          "output_type": "stream",
          "name": "stdout",
          "text": [
            "\n",
            "Current status: FeaturesGeneration. Generating features for the dataset.\n",
            "Current status: DatasetCrossValidationSplit. Generating individually featurized CV splits.\n",
            "Current status: ModelSelection. Beginning model selection.\n",
            "\n",
            "****************************************************************************************************\n",
            "DATA GUARDRAILS: \n",
            "\n",
            "TYPE:         Class balancing detection\n",
            "STATUS:       PASSED\n",
            "DESCRIPTION:  Your inputs were analyzed, and all classes are balanced in your training data.\n",
            "              Learn more about imbalanced data: https://aka.ms/AutomatedMLImbalancedData\n",
            "\n",
            "****************************************************************************************************\n",
            "\n",
            "TYPE:         Missing feature values imputation\n",
            "STATUS:       PASSED\n",
            "DESCRIPTION:  No feature missing values were detected in the training data.\n",
            "              Learn more about missing value imputation: https://aka.ms/AutomatedMLFeaturization\n",
            "\n",
            "****************************************************************************************************\n",
            "\n",
            "TYPE:         High cardinality feature detection\n",
            "STATUS:       PASSED\n",
            "DESCRIPTION:  Your inputs were analyzed, and no high cardinality features were detected.\n",
            "              Learn more about high cardinality feature handling: https://aka.ms/AutomatedMLFeaturization\n",
            "\n",
            "****************************************************************************************************\n",
            "\n",
            "****************************************************************************************************\n",
            "ITERATION: The iteration being evaluated.\n",
            "PIPELINE: A summary description of the pipeline being evaluated.\n",
            "DURATION: Time taken for the current iteration.\n",
            "METRIC: The result of computing score on the fitted pipeline.\n",
            "BEST: The best observed score thus far.\n",
            "****************************************************************************************************\n",
            "\n",
            " ITERATION   PIPELINE                                       DURATION      METRIC      BEST\n",
            "         1   MaxAbsScaler XGBoostClassifier                 0:00:54       0.8259    0.8259\n",
            "         2   MinMaxScaler RandomForest                      0:00:53       0.8394    0.8394\n",
            "         3   MinMaxScaler RandomForest                      0:00:58       0.8059    0.8394\n",
            "         5   MaxAbsScaler LogisticRegression                0:00:54       0.8194    0.8394\n",
            "         6   MinMaxScaler SVM                               0:00:59       0.7124    0.8394\n",
            "         4   MinMaxScaler RandomForest                      0:03:29       0.8460    0.8460\n",
            "         7   SparseNormalizer XGBoostClassifier             0:00:57       0.8094    0.8460\n",
            "         0   MaxAbsScaler LightGBM                          0:04:25       0.8060    0.8460\n",
            "         8   MaxAbsScaler GradientBoosting                  0:00:56       0.8294    0.8460\n",
            "         9   StandardScalerWrapper RandomForest             0:00:58       0.8228    0.8460\n",
            "        10   MaxAbsScaler LightGBM                          0:00:54       0.8361    0.8460\n",
            "        11   SparseNormalizer LightGBM                      0:00:54       0.8397    0.8460\n",
            "        12   RobustScaler ExtremeRandomTrees                0:00:53       0.8529    0.8529\n",
            "        13   StandardScalerWrapper LightGBM                 0:00:55       0.8160    0.8529\n",
            "        14   MaxAbsScaler LightGBM                          0:00:54       0.8227    0.8529\n",
            "        15   MinMaxScaler LightGBM                          0:01:03       0.8162    0.8529\n",
            "        16   RobustScaler ExtremeRandomTrees                0:00:55       0.8595    0.8595\n",
            "        17   SparseNormalizer XGBoostClassifier             0:00:52       0.8529    0.8595\n",
            "        18   TruncatedSVDWrapper XGBoostClassifier          0:00:58       0.7857    0.8595\n",
            "        19   MaxAbsScaler LightGBM                          0:00:52       0.8027    0.8595\n",
            "        20   StandardScalerWrapper ExtremeRandomTrees       0:00:56       0.7993    0.8595\n",
            "        21   SparseNormalizer XGBoostClassifier             0:00:53       0.8496    0.8595\n",
            "        22   SparseNormalizer XGBoostClassifier             0:01:00       0.8328    0.8595\n",
            "        23   StandardScalerWrapper LightGBM                 0:00:58       0.8359    0.8595\n",
            "        24   StandardScalerWrapper LightGBM                 0:00:51       0.8360    0.8595\n",
            "        25   StandardScalerWrapper ExtremeRandomTrees       0:00:55       0.6791    0.8595\n",
            "        26   MaxAbsScaler LightGBM                          0:00:56       0.7725    0.8595\n",
            "        27   StandardScalerWrapper XGBoostClassifier        0:00:52       0.8360    0.8595\n",
            "        28   SparseNormalizer XGBoostClassifier             0:01:04       0.8295    0.8595\n",
            "        29   StandardScalerWrapper RandomForest             0:01:00       0.8159    0.8595\n",
            "        30   StandardScalerWrapper ExtremeRandomTrees       0:01:02       0.4390    0.8595\n",
            "        31   MaxAbsScaler RandomForest                      0:01:07       0.8124    0.8595\n",
            "        32   StandardScalerWrapper XGBoostClassifier        0:00:54       0.8159    0.8595\n",
            "        33   RobustScaler RandomForest                      0:00:52       0.8260    0.8595\n",
            "        34                                                  0:00:11          nan    0.8595\n",
            "        35                                                  0:00:18          nan    0.8595\n",
            "        36    VotingEnsemble                                0:01:32       0.8797    0.8797\n"
          ]
        },
        {
          "output_type": "execute_result",
          "execution_count": 25,
          "data": {
            "text/plain": "{'runId': 'AutoML_270ccba5-71fb-4b17-8fb5-5af529d9f8d4',\n 'target': 'capstone-cluster',\n 'status': 'Completed',\n 'startTimeUtc': '2021-02-10T19:48:09.212101Z',\n 'endTimeUtc': '2021-02-10T20:09:26.424105Z',\n 'properties': {'num_iterations': '1000',\n  'training_type': 'TrainFull',\n  'acquisition_function': 'EI',\n  'primary_metric': 'accuracy',\n  'train_split': '0',\n  'acquisition_parameter': '0',\n  'num_cross_validation': '5',\n  'target': 'capstone-cluster',\n  'AMLSettingsJsonString': '{\"path\":null,\"name\":\"automl_heart_failure_prediction\",\"subscription_id\":\"d4ad7261-832d-46b2-b093-22156001df5b\",\"resource_group\":\"aml-quickstarts-138424\",\"workspace_name\":\"quick-starts-ws-138424\",\"region\":\"southcentralus\",\"compute_target\":\"capstone-cluster\",\"spark_service\":null,\"azure_service\":\"remote\",\"many_models\":false,\"pipeline_fetch_max_batch_size\":1,\"iterations\":1000,\"primary_metric\":\"accuracy\",\"task_type\":\"classification\",\"data_script\":null,\"validation_size\":0.0,\"n_cross_validations\":5,\"y_min\":null,\"y_max\":null,\"num_classes\":null,\"featurization\":\"auto\",\"_ignore_package_version_incompatibilities\":false,\"is_timeseries\":false,\"max_cores_per_iteration\":-1,\"max_concurrent_iterations\":4,\"iteration_timeout_minutes\":null,\"mem_in_mb\":null,\"enforce_time_on_windows\":false,\"experiment_timeout_minutes\":30,\"experiment_exit_score\":null,\"whitelist_models\":null,\"blacklist_algos\":[\"TensorFlowLinearClassifier\",\"TensorFlowDNN\"],\"supported_models\":[\"LightGBM\",\"TensorFlowDNN\",\"LogisticRegression\",\"TensorFlowLinearClassifier\",\"LinearSVM\",\"DecisionTree\",\"SVM\",\"BernoulliNaiveBayes\",\"AveragedPerceptronClassifier\",\"RandomForest\",\"XGBoostClassifier\",\"GradientBoosting\",\"MultinomialNaiveBayes\",\"ExtremeRandomTrees\",\"SGD\",\"KNN\"],\"auto_blacklist\":true,\"blacklist_samples_reached\":false,\"exclude_nan_labels\":true,\"verbosity\":20,\"_debug_log\":\"azureml_automl.log\",\"show_warnings\":false,\"model_explainability\":true,\"service_url\":null,\"sdk_url\":null,\"sdk_packages\":null,\"enable_onnx_compatible_models\":true,\"enable_split_onnx_featurizer_estimator_models\":false,\"vm_type\":\"STANDARD_D2_V2\",\"telemetry_verbosity\":20,\"send_telemetry\":true,\"enable_dnn\":false,\"scenario\":\"SDK-1.13.0\",\"environment_label\":null,\"force_text_dnn\":false,\"enable_feature_sweeping\":false,\"enable_early_stopping\":true,\"early_stopping_n_iters\":10,\"metrics\":null,\"enable_ensembling\":true,\"enable_stack_ensembling\":false,\"ensemble_iterations\":15,\"enable_tf\":false,\"enable_subsampling\":null,\"subsample_seed\":null,\"enable_nimbusml\":false,\"enable_streaming\":false,\"force_streaming\":false,\"track_child_runs\":true,\"allowed_private_models\":[],\"label_column_name\":\"DEATH_EVENT\",\"weight_column_name\":null,\"cv_split_column_names\":null,\"enable_local_managed\":false,\"_local_managed_run_id\":null,\"cost_mode\":1,\"lag_length\":0,\"metric_operation\":\"maximize\",\"preprocess\":true}',\n  'DataPrepJsonString': '{\\\\\"training_data\\\\\": \\\\\"{\\\\\\\\\\\\\"blocks\\\\\\\\\\\\\": [{\\\\\\\\\\\\\"id\\\\\\\\\\\\\": \\\\\\\\\\\\\"dce12839-b3c7-4258-8006-ad12b8c4611e\\\\\\\\\\\\\", \\\\\\\\\\\\\"type\\\\\\\\\\\\\": \\\\\\\\\\\\\"Microsoft.DPrep.GetDatastoreFilesBlock\\\\\\\\\\\\\", \\\\\\\\\\\\\"arguments\\\\\\\\\\\\\": {\\\\\\\\\\\\\"datastores\\\\\\\\\\\\\": [{\\\\\\\\\\\\\"datastoreName\\\\\\\\\\\\\": \\\\\\\\\\\\\"workspaceblobstore\\\\\\\\\\\\\", \\\\\\\\\\\\\"path\\\\\\\\\\\\\": \\\\\\\\\\\\\"UI/02-10-2021_055800_UTC/heart_failure_clinical_records_dataset.csv\\\\\\\\\\\\\", \\\\\\\\\\\\\"resourceGroup\\\\\\\\\\\\\": \\\\\\\\\\\\\"aml-quickstarts-138424\\\\\\\\\\\\\", \\\\\\\\\\\\\"subscription\\\\\\\\\\\\\": \\\\\\\\\\\\\"d4ad7261-832d-46b2-b093-22156001df5b\\\\\\\\\\\\\", \\\\\\\\\\\\\"workspaceName\\\\\\\\\\\\\": \\\\\\\\\\\\\"quick-starts-ws-138424\\\\\\\\\\\\\"}]}, \\\\\\\\\\\\\"localData\\\\\\\\\\\\\": {}, \\\\\\\\\\\\\"isEnabled\\\\\\\\\\\\\": true, \\\\\\\\\\\\\"name\\\\\\\\\\\\\": null, \\\\\\\\\\\\\"annotation\\\\\\\\\\\\\": null}, {\\\\\\\\\\\\\"id\\\\\\\\\\\\\": \\\\\\\\\\\\\"63084521-81b2-433e-bc2e-3d429a496fa7\\\\\\\\\\\\\", \\\\\\\\\\\\\"type\\\\\\\\\\\\\": \\\\\\\\\\\\\"Microsoft.DPrep.ParseDelimitedBlock\\\\\\\\\\\\\", \\\\\\\\\\\\\"arguments\\\\\\\\\\\\\": {\\\\\\\\\\\\\"columnHeadersMode\\\\\\\\\\\\\": 1, \\\\\\\\\\\\\"fileEncoding\\\\\\\\\\\\\": 0, \\\\\\\\\\\\\"handleQuotedLineBreaks\\\\\\\\\\\\\": false, \\\\\\\\\\\\\"preview\\\\\\\\\\\\\": false, \\\\\\\\\\\\\"separator\\\\\\\\\\\\\": \\\\\\\\\\\\\",\\\\\\\\\\\\\", \\\\\\\\\\\\\"skipRows\\\\\\\\\\\\\": 0, \\\\\\\\\\\\\"skipRowsMode\\\\\\\\\\\\\": 0}, \\\\\\\\\\\\\"localData\\\\\\\\\\\\\": {}, \\\\\\\\\\\\\"isEnabled\\\\\\\\\\\\\": true, \\\\\\\\\\\\\"name\\\\\\\\\\\\\": null, \\\\\\\\\\\\\"annotation\\\\\\\\\\\\\": null}, {\\\\\\\\\\\\\"id\\\\\\\\\\\\\": \\\\\\\\\\\\\"3b7cc75b-02e7-47ce-9fb7-2d815101a356\\\\\\\\\\\\\", \\\\\\\\\\\\\"type\\\\\\\\\\\\\": \\\\\\\\\\\\\"Microsoft.DPrep.DropColumnsBlock\\\\\\\\\\\\\", \\\\\\\\\\\\\"arguments\\\\\\\\\\\\\": {\\\\\\\\\\\\\"columns\\\\\\\\\\\\\": {\\\\\\\\\\\\\"type\\\\\\\\\\\\\": 0, \\\\\\\\\\\\\"details\\\\\\\\\\\\\": {\\\\\\\\\\\\\"selectedColumns\\\\\\\\\\\\\": [\\\\\\\\\\\\\"Path\\\\\\\\\\\\\"]}}}, \\\\\\\\\\\\\"localData\\\\\\\\\\\\\": {}, \\\\\\\\\\\\\"isEnabled\\\\\\\\\\\\\": true, \\\\\\\\\\\\\"name\\\\\\\\\\\\\": null, \\\\\\\\\\\\\"annotation\\\\\\\\\\\\\": null}, {\\\\\\\\\\\\\"id\\\\\\\\\\\\\": \\\\\\\\\\\\\"f259a683-2b48-4d06-9faa-40bd25aae48c\\\\\\\\\\\\\", \\\\\\\\\\\\\"type\\\\\\\\\\\\\": \\\\\\\\\\\\\"Microsoft.DPrep.SetColumnTypesBlock\\\\\\\\\\\\\", \\\\\\\\\\\\\"arguments\\\\\\\\\\\\\": {\\\\\\\\\\\\\"columnConversion\\\\\\\\\\\\\": [{\\\\\\\\\\\\\"column\\\\\\\\\\\\\": {\\\\\\\\\\\\\"type\\\\\\\\\\\\\": 2, \\\\\\\\\\\\\"details\\\\\\\\\\\\\": {\\\\\\\\\\\\\"selectedColumn\\\\\\\\\\\\\": \\\\\\\\\\\\\"Path\\\\\\\\\\\\\"}}, \\\\\\\\\\\\\"typeProperty\\\\\\\\\\\\\": 0}, {\\\\\\\\\\\\\"column\\\\\\\\\\\\\": {\\\\\\\\\\\\\"type\\\\\\\\\\\\\": 2, \\\\\\\\\\\\\"details\\\\\\\\\\\\\": {\\\\\\\\\\\\\"selectedColumn\\\\\\\\\\\\\": \\\\\\\\\\\\\"age\\\\\\\\\\\\\"}}, \\\\\\\\\\\\\"typeProperty\\\\\\\\\\\\\": 3}, {\\\\\\\\\\\\\"column\\\\\\\\\\\\\": {\\\\\\\\\\\\\"type\\\\\\\\\\\\\": 2, \\\\\\\\\\\\\"details\\\\\\\\\\\\\": {\\\\\\\\\\\\\"selectedColumn\\\\\\\\\\\\\": \\\\\\\\\\\\\"anaemia\\\\\\\\\\\\\"}}, \\\\\\\\\\\\\"typeProperty\\\\\\\\\\\\\": 2}, {\\\\\\\\\\\\\"column\\\\\\\\\\\\\": {\\\\\\\\\\\\\"type\\\\\\\\\\\\\": 2, \\\\\\\\\\\\\"details\\\\\\\\\\\\\": {\\\\\\\\\\\\\"selectedColumn\\\\\\\\\\\\\": \\\\\\\\\\\\\"creatinine_phosphokinase\\\\\\\\\\\\\"}}, \\\\\\\\\\\\\"typeProperty\\\\\\\\\\\\\": 2}, {\\\\\\\\\\\\\"column\\\\\\\\\\\\\": {\\\\\\\\\\\\\"type\\\\\\\\\\\\\": 2, \\\\\\\\\\\\\"details\\\\\\\\\\\\\": {\\\\\\\\\\\\\"selectedColumn\\\\\\\\\\\\\": \\\\\\\\\\\\\"diabetes\\\\\\\\\\\\\"}}, \\\\\\\\\\\\\"typeProperty\\\\\\\\\\\\\": 2}, {\\\\\\\\\\\\\"column\\\\\\\\\\\\\": {\\\\\\\\\\\\\"type\\\\\\\\\\\\\": 2, \\\\\\\\\\\\\"details\\\\\\\\\\\\\": {\\\\\\\\\\\\\"selectedColumn\\\\\\\\\\\\\": \\\\\\\\\\\\\"ejection_fraction\\\\\\\\\\\\\"}}, \\\\\\\\\\\\\"typeProperty\\\\\\\\\\\\\": 2}, {\\\\\\\\\\\\\"column\\\\\\\\\\\\\": {\\\\\\\\\\\\\"type\\\\\\\\\\\\\": 2, \\\\\\\\\\\\\"details\\\\\\\\\\\\\": {\\\\\\\\\\\\\"selectedColumn\\\\\\\\\\\\\": \\\\\\\\\\\\\"high_blood_pressure\\\\\\\\\\\\\"}}, \\\\\\\\\\\\\"typeProperty\\\\\\\\\\\\\": 2}, {\\\\\\\\\\\\\"column\\\\\\\\\\\\\": {\\\\\\\\\\\\\"type\\\\\\\\\\\\\": 2, \\\\\\\\\\\\\"details\\\\\\\\\\\\\": {\\\\\\\\\\\\\"selectedColumn\\\\\\\\\\\\\": \\\\\\\\\\\\\"platelets\\\\\\\\\\\\\"}}, \\\\\\\\\\\\\"typeProperty\\\\\\\\\\\\\": 3}, {\\\\\\\\\\\\\"column\\\\\\\\\\\\\": {\\\\\\\\\\\\\"type\\\\\\\\\\\\\": 2, \\\\\\\\\\\\\"details\\\\\\\\\\\\\": {\\\\\\\\\\\\\"selectedColumn\\\\\\\\\\\\\": \\\\\\\\\\\\\"serum_creatinine\\\\\\\\\\\\\"}}, \\\\\\\\\\\\\"typeProperty\\\\\\\\\\\\\": 3}, {\\\\\\\\\\\\\"column\\\\\\\\\\\\\": {\\\\\\\\\\\\\"type\\\\\\\\\\\\\": 2, \\\\\\\\\\\\\"details\\\\\\\\\\\\\": {\\\\\\\\\\\\\"selectedColumn\\\\\\\\\\\\\": \\\\\\\\\\\\\"serum_sodium\\\\\\\\\\\\\"}}, \\\\\\\\\\\\\"typeProperty\\\\\\\\\\\\\": 2}, {\\\\\\\\\\\\\"column\\\\\\\\\\\\\": {\\\\\\\\\\\\\"type\\\\\\\\\\\\\": 2, \\\\\\\\\\\\\"details\\\\\\\\\\\\\": {\\\\\\\\\\\\\"selectedColumn\\\\\\\\\\\\\": \\\\\\\\\\\\\"sex\\\\\\\\\\\\\"}}, \\\\\\\\\\\\\"typeProperty\\\\\\\\\\\\\": 2}, {\\\\\\\\\\\\\"column\\\\\\\\\\\\\": {\\\\\\\\\\\\\"type\\\\\\\\\\\\\": 2, \\\\\\\\\\\\\"details\\\\\\\\\\\\\": {\\\\\\\\\\\\\"selectedColumn\\\\\\\\\\\\\": \\\\\\\\\\\\\"smoking\\\\\\\\\\\\\"}}, \\\\\\\\\\\\\"typeProperty\\\\\\\\\\\\\": 2}, {\\\\\\\\\\\\\"column\\\\\\\\\\\\\": {\\\\\\\\\\\\\"type\\\\\\\\\\\\\": 2, \\\\\\\\\\\\\"details\\\\\\\\\\\\\": {\\\\\\\\\\\\\"selectedColumn\\\\\\\\\\\\\": \\\\\\\\\\\\\"time\\\\\\\\\\\\\"}}, \\\\\\\\\\\\\"typeProperty\\\\\\\\\\\\\": 2}, {\\\\\\\\\\\\\"column\\\\\\\\\\\\\": {\\\\\\\\\\\\\"type\\\\\\\\\\\\\": 2, \\\\\\\\\\\\\"details\\\\\\\\\\\\\": {\\\\\\\\\\\\\"selectedColumn\\\\\\\\\\\\\": \\\\\\\\\\\\\"DEATH_EVENT\\\\\\\\\\\\\"}}, \\\\\\\\\\\\\"typeProperty\\\\\\\\\\\\\": 2}]}, \\\\\\\\\\\\\"localData\\\\\\\\\\\\\": {}, \\\\\\\\\\\\\"isEnabled\\\\\\\\\\\\\": true, \\\\\\\\\\\\\"name\\\\\\\\\\\\\": null, \\\\\\\\\\\\\"annotation\\\\\\\\\\\\\": null}], \\\\\\\\\\\\\"inspectors\\\\\\\\\\\\\": [], \\\\\\\\\\\\\"meta\\\\\\\\\\\\\": {\\\\\\\\\\\\\"savedDatasetId\\\\\\\\\\\\\": \\\\\\\\\\\\\"4d34969d-c0ee-47ea-96bd-1109d0c0cacc\\\\\\\\\\\\\", \\\\\\\\\\\\\"datasetType\\\\\\\\\\\\\": \\\\\\\\\\\\\"tabular\\\\\\\\\\\\\", \\\\\\\\\\\\\"subscriptionId\\\\\\\\\\\\\": \\\\\\\\\\\\\"d4ad7261-832d-46b2-b093-22156001df5b\\\\\\\\\\\\\", \\\\\\\\\\\\\"workspaceId\\\\\\\\\\\\\": \\\\\\\\\\\\\"6aa208b7-0db5-47b8-babd-fc41cc401d8d\\\\\\\\\\\\\", \\\\\\\\\\\\\"workspaceLocation\\\\\\\\\\\\\": \\\\\\\\\\\\\"southcentralus\\\\\\\\\\\\\"}}\\\\\", \\\\\"activities\\\\\": 0}',\n  'EnableSubsampling': None,\n  'runTemplate': 'AutoML',\n  'azureml.runsource': 'automl',\n  'display_task_type': 'classification',\n  'dependencies_versions': '{\"azureml-widgets\": \"1.20.0\", \"azureml-train\": \"1.20.0\", \"azureml-train-restclients-hyperdrive\": \"1.20.0\", \"azureml-train-core\": \"1.20.0\", \"azureml-train-automl\": \"1.20.0\", \"azureml-train-automl-runtime\": \"1.20.0\", \"azureml-train-automl-client\": \"1.20.0\", \"azureml-tensorboard\": \"1.20.0\", \"azureml-telemetry\": \"1.20.0\", \"azureml-sdk\": \"1.20.0\", \"azureml-samples\": \"0+unknown\", \"azureml-pipeline\": \"1.20.0\", \"azureml-pipeline-steps\": \"1.20.0\", \"azureml-pipeline-core\": \"1.20.0\", \"azureml-opendatasets\": \"1.20.0\", \"azureml-model-management-sdk\": \"1.0.1b6.post1\", \"azureml-mlflow\": \"1.20.0.post1\", \"azureml-interpret\": \"1.20.0\", \"azureml-explain-model\": \"1.20.0\", \"azureml-defaults\": \"1.20.0\", \"azureml-dataset-runtime\": \"1.20.0\", \"azureml-dataprep\": \"2.7.3\", \"azureml-dataprep-rslex\": \"1.5.0\", \"azureml-dataprep-native\": \"27.0.0\", \"azureml-datadrift\": \"1.20.0\", \"azureml-core\": \"1.20.0\", \"azureml-contrib-services\": \"1.20.0\", \"azureml-contrib-server\": \"1.20.0\", \"azureml-contrib-reinforcementlearning\": \"1.20.0\", \"azureml-contrib-pipeline-steps\": \"1.20.0\", \"azureml-contrib-notebook\": \"1.20.0\", \"azureml-contrib-interpret\": \"1.20.0\", \"azureml-contrib-gbdt\": \"1.20.0\", \"azureml-contrib-fairness\": \"1.20.0\", \"azureml-contrib-dataset\": \"1.20.0\", \"azureml-cli-common\": \"1.20.0\", \"azureml-automl-runtime\": \"1.20.0\", \"azureml-automl-core\": \"1.20.0\", \"azureml-accel-models\": \"1.20.0\"}',\n  '_aml_system_scenario_identification': 'Remote.Parent',\n  'ClientType': 'SDK',\n  'environment_cpu_name': 'AzureML-AutoML',\n  'environment_cpu_label': 'prod',\n  'environment_gpu_name': 'AzureML-AutoML-GPU',\n  'environment_gpu_label': 'prod',\n  'root_attribution': 'automl',\n  'attribution': 'AutoML',\n  'Orchestrator': 'AutoML',\n  'CancelUri': 'https://southcentralus.experiments.azureml.net/jasmine/v1.0/subscriptions/d4ad7261-832d-46b2-b093-22156001df5b/resourceGroups/aml-quickstarts-138424/providers/Microsoft.MachineLearningServices/workspaces/quick-starts-ws-138424/experimentids/64b34ce8-7dab-4138-b2ad-4165f9889eb4/cancel/AutoML_270ccba5-71fb-4b17-8fb5-5af529d9f8d4',\n  'ClientSdkVersion': '1.21.0',\n  'snapshotId': '00000000-0000-0000-0000-000000000000',\n  'SetupRunId': 'AutoML_270ccba5-71fb-4b17-8fb5-5af529d9f8d4_setup',\n  'SetupRunContainerId': 'dcid.AutoML_270ccba5-71fb-4b17-8fb5-5af529d9f8d4_setup',\n  'FeaturizationRunJsonPath': 'featurizer_container.json',\n  'FeaturizationRunId': 'AutoML_270ccba5-71fb-4b17-8fb5-5af529d9f8d4_featurize',\n  'ProblemInfoJsonString': '{\"dataset_num_categorical\": 0, \"is_sparse\": false, \"subsampling\": false, \"dataset_classes\": 2, \"dataset_features\": 12, \"dataset_samples\": 299, \"single_frequency_class_detected\": false}',\n  'ModelExplainRunId': 'AutoML_270ccba5-71fb-4b17-8fb5-5af529d9f8d4_ModelExplain'},\n 'inputDatasets': [{'dataset': {'id': '4d34969d-c0ee-47ea-96bd-1109d0c0cacc'}, 'consumptionDetails': {'type': 'RunInput', 'inputName': 'training_data', 'mechanism': 'Direct'}}],\n 'outputDatasets': [],\n 'logFiles': {},\n 'submittedBy': 'ODL_User 138424'}"
          },
          "metadata": {}
        }
      ],
      "execution_count": 25,
      "metadata": {
        "gather": {
          "logged": 1612987778649
        },
        "jupyter": {
          "outputs_hidden": false,
          "source_hidden": false
        },
        "nteract": {
          "transient": {
            "deleting": false
          }
        }
      }
    },
    {
      "cell_type": "markdown",
      "source": [
        "## Best Model\n",
        "\n",
        "TODO: In the cell below, get the best model from the automl experiments and display all the properties of the model.\n",
        "\n"
      ],
      "metadata": {}
    },
    {
      "cell_type": "code",
      "source": [
        "automl_best_run, automl_fitted_model = remote_run.get_output()"
      ],
      "outputs": [
        {
          "output_type": "stream",
          "name": "stderr",
          "text": [
            "WARNING:root:The version of the SDK does not match the version the model was trained on.\n",
            "WARNING:root:The consistency in the result may not be guaranteed.\n",
            "WARNING:root:Package:azureml-automl-core, training version:1.21.0, current version:1.20.0\n",
            "Package:azureml-automl-runtime, training version:1.21.0, current version:1.20.0\n",
            "Package:azureml-core, training version:1.21.0.post1, current version:1.20.0\n",
            "Package:azureml-dataprep, training version:2.8.2, current version:2.7.3\n",
            "Package:azureml-dataprep-native, training version:28.0.0, current version:27.0.0\n",
            "Package:azureml-dataprep-rslex, training version:1.6.0, current version:1.5.0\n",
            "Package:azureml-dataset-runtime, training version:1.21.0, current version:1.20.0\n",
            "Package:azureml-defaults, training version:1.21.0, current version:1.20.0\n",
            "Package:azureml-interpret, training version:1.21.0, current version:1.20.0\n",
            "Package:azureml-pipeline-core, training version:1.21.0, current version:1.20.0\n",
            "Package:azureml-telemetry, training version:1.21.0, current version:1.20.0\n",
            "Package:azureml-train-automl-client, training version:1.21.0, current version:1.20.0\n",
            "Package:azureml-train-automl-runtime, training version:1.21.0, current version:1.20.0\n",
            "WARNING:root:Please ensure the version of your local conda dependencies match the version on which your model was trained in order to properly retrieve your model.\n"
          ]
        }
      ],
      "execution_count": 26,
      "metadata": {
        "gather": {
          "logged": 1612988291119
        },
        "jupyter": {
          "outputs_hidden": false,
          "source_hidden": false
        },
        "nteract": {
          "transient": {
            "deleting": false
          }
        }
      }
    },
    {
      "cell_type": "code",
      "source": [
        "automl_best_run.get_metrics()"
      ],
      "outputs": [
        {
          "output_type": "execute_result",
          "execution_count": 12,
          "data": {
            "text/plain": "{'weighted_accuracy': 0.8948878829357401,\n 'accuracy': 0.8729943502824857,\n 'average_precision_score_weighted': 0.9188315370388708,\n 'recall_score_weighted': 0.8729943502824857,\n 'log_loss': 0.4008378969198042,\n 'recall_score_macro': 0.8406547619047618,\n 'norm_macro_recall': 0.6813095238095238,\n 'precision_score_weighted': 0.8888081411601852,\n 'matthews_correlation': 0.7164373911036155,\n 'AUC_micro': 0.9093846595805802,\n 'average_precision_score_macro': 0.8928923112535376,\n 'precision_score_micro': 0.8729943502824857,\n 'balanced_accuracy': 0.8406547619047618,\n 'recall_score_micro': 0.8729943502824857,\n 'AUC_macro': 0.9071186323366556,\n 'f1_score_macro': 0.8454978813925156,\n 'f1_score_weighted': 0.8686457684935259,\n 'precision_score_macro': 0.8792484729409553,\n 'f1_score_micro': 0.8729943502824857,\n 'AUC_weighted': 0.9071186323366556,\n 'average_precision_score_micro': 0.9107464445964266,\n 'accuracy_table': 'aml://artifactId/ExperimentRun/dcid.AutoML_1aee9085-8e3d-4289-ac2c-cd4ea9378c2b_36/accuracy_table',\n 'confusion_matrix': 'aml://artifactId/ExperimentRun/dcid.AutoML_1aee9085-8e3d-4289-ac2c-cd4ea9378c2b_36/confusion_matrix'}"
          },
          "metadata": {}
        }
      ],
      "execution_count": 12,
      "metadata": {
        "gather": {
          "logged": 1612982851959
        }
      }
    },
    {
      "cell_type": "code",
      "source": [
        "print(automl_best_run)"
      ],
      "outputs": [
        {
          "output_type": "stream",
          "name": "stdout",
          "text": [
            "Run(Experiment: automl_heart_failure_prediction,\n",
            "Id: AutoML_1aee9085-8e3d-4289-ac2c-cd4ea9378c2b_36,\n",
            "Type: azureml.scriptrun,\n",
            "Status: Completed)\n"
          ]
        }
      ],
      "execution_count": 13,
      "metadata": {
        "gather": {
          "logged": 1612982864390
        }
      }
    },
    {
      "cell_type": "code",
      "source": [
        "print(automl_fitted_model)"
      ],
      "outputs": [
        {
          "output_type": "stream",
          "name": "stdout",
          "text": [
            "Pipeline(memory=None,\n",
            "         steps=[('datatransformer',\n",
            "                 DataTransformer(enable_dnn=None, enable_feature_sweeping=None,\n",
            "                                 feature_sweeping_config=None,\n",
            "                                 feature_sweeping_timeout=None,\n",
            "                                 featurization_config=None, force_text_dnn=None,\n",
            "                                 is_cross_validation=None,\n",
            "                                 is_onnx_compatible=None, logger=None,\n",
            "                                 observer=None, task=None, working_dir=None)),\n",
            "                ('prefittedsoftvotingclassifier',...\n",
            "                                                                                                    min_impurity_split=None,\n",
            "                                                                                                    min_samples_leaf=0.01,\n",
            "                                                                                                    min_samples_split=0.01,\n",
            "                                                                                                    min_weight_fraction_leaf=0.0,\n",
            "                                                                                                    n_estimators=25,\n",
            "                                                                                                    n_jobs=-1,\n",
            "                                                                                                    oob_score=True,\n",
            "                                                                                                    random_state=None,\n",
            "                                                                                                    verbose=0,\n",
            "                                                                                                    warm_start=False))],\n",
            "                                                                     verbose=False))],\n",
            "                                               flatten_transform=None,\n",
            "                                               weights=[0.1111111111111111,\n",
            "                                                        0.4444444444444444,\n",
            "                                                        0.1111111111111111,\n",
            "                                                        0.1111111111111111,\n",
            "                                                        0.1111111111111111,\n",
            "                                                        0.1111111111111111]))],\n",
            "         verbose=False)\n"
          ]
        }
      ],
      "execution_count": 14,
      "metadata": {
        "gather": {
          "logged": 1612982869417
        }
      }
    },
    {
      "cell_type": "code",
      "source": [
        "# Retrieve and save your best automl model.\n",
        "\n",
        "os.makedirs('output', exist_ok=True)\n",
        "\n",
        "joblib.dump(value = automl_fitted_model, filename = 'output/best-automl.pkl')\n",
        "\n",
        "# from azureml.automl.runtime.onnx_convert import OnnxConverter\n",
        "\n",
        "# automl_best_run_onnx, automl_fitted_model_onnx = remote_run.get_output(return_onnx_model=True)\n",
        "\n",
        "# OnnxConverter.save_onnx_model(automl_fitted_model_onnx, './outputs/best_automl_model.onnx')"
      ],
      "outputs": [
        {
          "output_type": "execute_result",
          "execution_count": 15,
          "data": {
            "text/plain": "['output/best-automl.pkl']"
          },
          "metadata": {}
        }
      ],
      "execution_count": 15,
      "metadata": {
        "gather": {
          "logged": 1612982878939
        }
      }
    },
    {
      "cell_type": "markdown",
      "source": [
        "## Model Deployment\n",
        "\n",
        "Remember you have to deploy only one of the two models you trained.. Perform the steps in the rest of this notebook only if you wish to deploy this model.\n",
        "\n",
        "TODO: In the cell below, register the model, create an inference config and deploy the model as a web service."
      ],
      "metadata": {}
    },
    {
      "cell_type": "code",
      "source": [
        "model = Model.register(workspace = ws,\n",
        "                        model_path = 'output/best-automl.pkl',\n",
        "                        model_name = 'automl-best-model')\n",
        "\n",
        "automl_best_run.download_file(constants.CONDA_ENV_FILE_PATH, 'automl-env.yml')"
      ],
      "outputs": [
        {
          "output_type": "stream",
          "name": "stdout",
          "text": [
            "Registering model automl-best-model\n"
          ]
        }
      ],
      "execution_count": 22,
      "metadata": {
        "gather": {
          "logged": 1612728442620
        },
        "jupyter": {
          "outputs_hidden": false,
          "source_hidden": false
        },
        "nteract": {
          "transient": {
            "deleting": false
          }
        }
      }
    },
    {
      "cell_type": "code",
      "source": [
        "env = Environment.from_conda_specification('automl-env', 'automl-env.yml')\n",
        "\n",
        "inference_config = InferenceConfig(entry_script='score.py', environment=env)\n",
        "\n",
        "aci_config = AciWebservice.deploy_configuration(cpu_cores = 1, \n",
        "                                                memory_gb = 1,\n",
        "                                                auth_enabled = True, \n",
        "                                                enable_app_insights = True,\n",
        "                                                tags = {'name':'Heart failure prediction'},\n",
        "                                                description='Heart failure prediction model')\n",
        "\n",
        "service = model.deploy(workspace = ws, \n",
        "                       name = 'predict-heart-failure', \n",
        "                       models = [model], \n",
        "                       inference_config = inference_config,\n",
        "                       deployment_config = aci_config)\n",
        "\n",
        "service.wait_for_deployment(show_output=True)"
      ],
      "outputs": [
        {
          "output_type": "stream",
          "name": "stdout",
          "text": [
            "Tips: You can try get_logs(): https://aka.ms/debugimage#dockerlog or local deployment: https://aka.ms/debugimage#debug-locally to debug if deployment takes longer than 10 minutes.\n",
            "Running.................................................................................................................................................................\n",
            "Succeeded\n",
            "ACI service creation operation finished, operation \"Succeeded\"\n"
          ]
        }
      ],
      "execution_count": 25,
      "metadata": {
        "gather": {
          "logged": 1612729545664
        }
      }
    },
    {
      "cell_type": "code",
      "source": [
        "print(service.state)"
      ],
      "outputs": [
        {
          "output_type": "stream",
          "name": "stdout",
          "text": [
            "Healthy\n"
          ]
        }
      ],
      "execution_count": 26,
      "metadata": {
        "gather": {
          "logged": 1612729545977
        }
      }
    },
    {
      "cell_type": "code",
      "source": [
        "print(\"scoring URI: \" + service.scoring_uri)\n",
        "\n",
        "print(\"Swagger URI: \" + service.swagger_uri)\n",
        "\n",
        "print(\"Authetication Key: \" + service.get_keys()[0])"
      ],
      "outputs": [
        {
          "output_type": "stream",
          "name": "stdout",
          "text": [
            "scoring URI: http://b762ce8c-7573-4fb2-9bcf-91c961842760.southcentralus.azurecontainer.io/score\n",
            "Swagger URI: http://b762ce8c-7573-4fb2-9bcf-91c961842760.southcentralus.azurecontainer.io/swagger.json\n",
            "Authetication Key: HQYLGtvgYnFHhH0zSl7pH47deh2q5p5k\n"
          ]
        }
      ],
      "execution_count": 27,
      "metadata": {
        "gather": {
          "logged": 1612729552754
        }
      }
    },
    {
      "cell_type": "markdown",
      "source": [
        "TODO: In the cell below, send a request to the web service you deployed to test it."
      ],
      "metadata": {
        "collapsed": true,
        "gather": {
          "logged": 1598431657736
        },
        "jupyter": {
          "outputs_hidden": false,
          "source_hidden": false
        },
        "nteract": {
          "transient": {
            "deleting": false
          }
        }
      }
    },
    {
      "cell_type": "code",
      "source": [
        "import requests\n",
        "import json\n",
        "\n",
        "scoringuri = service.scoring_uri\n",
        "key = service.get_keys()[0]\n",
        "\n",
        "data= { \"data\":\n",
        "       [\n",
        "           {\n",
        "               'age': 74,\n",
        "               'anaemia': 1,\n",
        "               'creatinine_phosphokinase': 1618,\n",
        "               'diabetes': 1,\n",
        "               'ejection_fraction': 27,\n",
        "               'high_blood_pressure': 1,\n",
        "               'platelets': 275095,\n",
        "               'serum_creatinine': 2.3,\n",
        "               'serum_sodium': 133,\n",
        "               'sex': 0,\n",
        "               'smoking': 0,\n",
        "               'time': 9\n",
        "               \n",
        "           },\n",
        "           {\n",
        "               'age': 46,\n",
        "               'anaemia': 0,\n",
        "               'creatinine_phosphokinase': 800,\n",
        "               'diabetes': 0,\n",
        "               'ejection_fraction': 48,\n",
        "               'high_blood_pressure': 1,\n",
        "               'platelets': 259000,\n",
        "               'serum_creatinine': 1.79,\n",
        "               'serum_sodium': 135,\n",
        "               'sex': 1,\n",
        "               'smoking': 0,\n",
        "               'time': 107\n",
        "           }\n",
        "       ]\n",
        "    }\n",
        "input_data = json.dumps(data)\n",
        "\n",
        "headers = {'Content-Type': 'application/json'}\n",
        "headers['Authorization'] = f'Bearer {key}'\n",
        "\n",
        "response = requests.post(scoringuri, input_data, headers = headers)\n",
        "print(response.text)"
      ],
      "outputs": [
        {
          "output_type": "stream",
          "name": "stdout",
          "text": [
            "[1, 0]\n"
          ]
        }
      ],
      "execution_count": 34,
      "metadata": {
        "gather": {
          "logged": 1612729826957
        },
        "jupyter": {
          "outputs_hidden": false,
          "source_hidden": false
        },
        "nteract": {
          "transient": {
            "deleting": false
          }
        }
      }
    },
    {
      "cell_type": "markdown",
      "source": [
        "TODO: In the cell below, print the logs of the web service and delete the service"
      ],
      "metadata": {
        "collapsed": true,
        "gather": {
          "logged": 1598432765711
        },
        "jupyter": {
          "outputs_hidden": false,
          "source_hidden": false
        },
        "nteract": {
          "transient": {
            "deleting": false
          }
        }
      }
    },
    {
      "cell_type": "code",
      "source": [
        "print(service.get_logs())"
      ],
      "outputs": [
        {
          "output_type": "stream",
          "name": "stdout",
          "text": [
            "2021-02-07T20:25:17,812603938+00:00 - rsyslog/run \n",
            "2021-02-07T20:25:17,814253949+00:00 - iot-server/run \n",
            "2021-02-07T20:25:17,816836521+00:00 - nginx/run \n",
            "2021-02-07T20:25:17,818142208+00:00 - gunicorn/run \n",
            "/usr/sbin/nginx: /azureml-envs/azureml_7785023fceb74e4facc1b1a577b1faf9/lib/libcrypto.so.1.0.0: no version information available (required by /usr/sbin/nginx)\n",
            "/usr/sbin/nginx: /azureml-envs/azureml_7785023fceb74e4facc1b1a577b1faf9/lib/libcrypto.so.1.0.0: no version information available (required by /usr/sbin/nginx)\n",
            "/usr/sbin/nginx: /azureml-envs/azureml_7785023fceb74e4facc1b1a577b1faf9/lib/libssl.so.1.0.0: no version information available (required by /usr/sbin/nginx)\n",
            "/usr/sbin/nginx: /azureml-envs/azureml_7785023fceb74e4facc1b1a577b1faf9/lib/libssl.so.1.0.0: no version information available (required by /usr/sbin/nginx)\n",
            "/usr/sbin/nginx: /azureml-envs/azureml_7785023fceb74e4facc1b1a577b1faf9/lib/libssl.so.1.0.0: no version information available (required by /usr/sbin/nginx)\n",
            "rsyslogd: /azureml-envs/azureml_7785023fceb74e4facc1b1a577b1faf9/lib/libuuid.so.1: no version information available (required by rsyslogd)\n",
            "EdgeHubConnectionString and IOTEDGE_IOTHUBHOSTNAME are not set. Exiting...\n",
            "2021-02-07T20:25:18,034259146+00:00 - iot-server/finish 1 0\n",
            "2021-02-07T20:25:18,036685008+00:00 - Exit code 1 is normal. Not restarting iot-server.\n",
            "Starting gunicorn 19.9.0\n",
            "Listening at: http://127.0.0.1:31311 (15)\n",
            "Using worker: sync\n",
            "worker timeout is set to 300\n",
            "Booting worker with pid: 43\n",
            "SPARK_HOME not set. Skipping PySpark Initialization.\n",
            "Generating new fontManager, this may take some time...\n",
            "Initializing logger\n",
            "2021-02-07 20:25:20,259 | root | INFO | Starting up app insights client\n",
            "2021-02-07 20:25:20,259 | root | INFO | Starting up request id generator\n",
            "2021-02-07 20:25:20,259 | root | INFO | Starting up app insight hooks\n",
            "2021-02-07 20:25:20,260 | root | INFO | Invoking user's init function\n",
            "2021-02-07 20:25:21,146 | root | INFO | Users's init has completed successfully\n",
            "/azureml-envs/azureml_7785023fceb74e4facc1b1a577b1faf9/lib/python3.6/site-packages/sklearn/externals/joblib/__init__.py:15: FutureWarning: sklearn.externals.joblib is deprecated in 0.21 and will be removed in 0.23. Please import this functionality directly from joblib, which can be installed with: pip install joblib. If this warning is raised when loading pickled models, you may need to re-serialize those models with scikit-learn 0.21+.\n",
            "  warnings.warn(msg, category=FutureWarning)\n",
            "2021-02-07 20:25:21,150 | root | INFO | Skipping middleware: dbg_model_info as it's not enabled.\n",
            "2021-02-07 20:25:21,150 | root | INFO | Skipping middleware: dbg_resource_usage as it's not enabled.\n",
            "2021-02-07 20:25:21,151 | root | INFO | Scoring timeout is found from os.environ: 60000 ms\n",
            "2021-02-07 20:25:40,011 | root | INFO | Swagger file not present\n",
            "2021-02-07 20:25:40,011 | root | INFO | 404\n",
            "127.0.0.1 - - [07/Feb/2021:20:25:40 +0000] \"GET /swagger.json HTTP/1.0\" 404 19 \"-\" \"Go-http-client/1.1\"\n",
            "2021-02-07 20:25:45,536 | root | INFO | Swagger file not present\n",
            "2021-02-07 20:25:45,536 | root | INFO | 404\n",
            "127.0.0.1 - - [07/Feb/2021:20:25:45 +0000] \"GET /swagger.json HTTP/1.0\" 404 19 \"-\" \"Go-http-client/1.1\"\n",
            "2021-02-07 20:26:07,230 | root | INFO | Validation Request Content-Type\n",
            "2021-02-07 20:26:07,231 | root | INFO | Scoring Timer is set to 60.0 seconds\n",
            "2021-02-07 20:26:07,288 | root | INFO | 200\n",
            "127.0.0.1 - - [07/Feb/2021:20:26:07 +0000] \"POST /score HTTP/1.0\" 200 6 \"-\" \"python-requests/2.25.1\"\n",
            "2021-02-07 20:26:36,394 | root | INFO | Validation Request Content-Type\n",
            "2021-02-07 20:26:36,394 | root | INFO | Scoring Timer is set to 60.0 seconds\n",
            "2021-02-07 20:26:36,453 | root | INFO | 200\n",
            "127.0.0.1 - - [07/Feb/2021:20:26:36 +0000] \"POST /score HTTP/1.0\" 200 6 \"-\" \"python-requests/2.25.1\"\n",
            "2021-02-07 20:26:47,373 | root | INFO | Validation Request Content-Type\n",
            "2021-02-07 20:26:47,374 | root | INFO | Scoring Timer is set to 60.0 seconds\n",
            "2021-02-07 20:26:47,432 | root | INFO | 200\n",
            "127.0.0.1 - - [07/Feb/2021:20:26:47 +0000] \"POST /score HTTP/1.0\" 200 6 \"-\" \"python-requests/2.25.1\"\n",
            "2021-02-07 20:27:09,427 | root | INFO | Validation Request Content-Type\n",
            "2021-02-07 20:27:09,427 | root | INFO | Scoring Timer is set to 60.0 seconds\n",
            "2021-02-07 20:27:09,485 | root | INFO | 200\n",
            "127.0.0.1 - - [07/Feb/2021:20:27:09 +0000] \"POST /score HTTP/1.0\" 200 6 \"-\" \"python-requests/2.25.1\"\n",
            "2021-02-07 20:27:37,082 | root | INFO | Validation Request Content-Type\n",
            "2021-02-07 20:27:37,082 | root | INFO | Scoring Timer is set to 60.0 seconds\n",
            "2021-02-07 20:27:37,140 | root | INFO | 200\n",
            "127.0.0.1 - - [07/Feb/2021:20:27:37 +0000] \"POST /score HTTP/1.0\" 200 6 \"-\" \"python-requests/2.25.1\"\n",
            "2021-02-07 20:27:43,940 | root | INFO | Validation Request Content-Type\n",
            "2021-02-07 20:27:43,940 | root | INFO | Scoring Timer is set to 60.0 seconds\n",
            "2021-02-07 20:27:43,992 | root | INFO | 200\n",
            "127.0.0.1 - - [07/Feb/2021:20:27:43 +0000] \"POST /score HTTP/1.0\" 200 6 \"-\" \"python-requests/2.25.1\"\n",
            "2021-02-07 20:30:26,843 | root | INFO | Validation Request Content-Type\n",
            "2021-02-07 20:30:26,843 | root | INFO | Scoring Timer is set to 60.0 seconds\n",
            "2021-02-07 20:30:26,901 | root | INFO | 200\n",
            "127.0.0.1 - - [07/Feb/2021:20:30:26 +0000] \"POST /score HTTP/1.0\" 200 6 \"-\" \"python-requests/2.25.1\"\n",
            "\n"
          ]
        }
      ],
      "execution_count": 35,
      "metadata": {
        "jupyter": {
          "outputs_hidden": false,
          "source_hidden": false
        },
        "nteract": {
          "transient": {
            "deleting": false
          }
        },
        "gather": {
          "logged": 1612729854945
        }
      }
    },
    {
      "cell_type": "code",
      "source": [
        "service.delete()"
      ],
      "outputs": [],
      "execution_count": 1,
      "metadata": {}
    },
    {
      "cell_type": "code",
      "source": [],
      "outputs": [],
      "execution_count": 2,
      "metadata": {}
    }
  ],
  "metadata": {
    "kernel_info": {
      "name": "python3"
    },
    "kernelspec": {
      "name": "python3",
      "language": "python",
      "display_name": "Python 3"
    },
    "language_info": {
      "name": "python",
      "version": "3.6.9",
      "mimetype": "text/x-python",
      "codemirror_mode": {
        "name": "ipython",
        "version": 3
      },
      "pygments_lexer": "ipython3",
      "nbconvert_exporter": "python",
      "file_extension": ".py"
    },
    "nteract": {
      "version": "nteract-front-end@1.0.0"
    }
  },
  "nbformat": 4,
  "nbformat_minor": 2
}