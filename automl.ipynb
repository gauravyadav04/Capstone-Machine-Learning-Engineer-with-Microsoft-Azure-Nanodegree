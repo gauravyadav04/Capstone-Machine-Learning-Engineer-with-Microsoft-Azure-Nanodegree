{
  "cells": [
    {
      "cell_type": "markdown",
      "source": [
        "# Automated ML\n",
        "\n",
        "TODO: Import Dependencies. In the cell below, import all the dependencies that you will need to complete the project."
      ],
      "metadata": {}
    },
    {
      "cell_type": "code",
      "source": [
        "import logging\n",
        "import os\n",
        "import csv\n",
        "\n",
        "from matplotlib import pyplot as plt\n",
        "import numpy as np\n",
        "import pandas as pd\n",
        "from sklearn import datasets\n",
        "import pkg_resources\n",
        "\n",
        "import azureml.core\n",
        "from azureml.core.model import Model\n",
        "from azureml.core.experiment import Experiment\n",
        "from azureml.core.workspace import Workspace\n",
        "from azureml.train.automl import AutoMLConfig\n",
        "from azureml.core.dataset import Dataset\n",
        "\n",
        "from azureml.pipeline.steps import AutoMLStep\n",
        "from azureml.automl.core.shared import constants\n",
        "from azureml.core.environment import Environment\n",
        "from azureml.core.model import InferenceConfig\n",
        "from azureml.core.webservice import LocalWebservice, AciWebservice\n",
        "\n",
        "\n",
        "import joblib\n",
        "\n",
        "# Check core SDK version number\n",
        "print(\"SDK version:\", azureml.core.VERSION)"
      ],
      "outputs": [
        {
          "output_type": "stream",
          "name": "stdout",
          "text": [
            "SDK version: 1.20.0\n"
          ]
        }
      ],
      "execution_count": 24,
      "metadata": {
        "gather": {
          "logged": 1612728696996
        },
        "jupyter": {
          "outputs_hidden": false,
          "source_hidden": false
        },
        "nteract": {
          "transient": {
            "deleting": false
          }
        }
      }
    },
    {
      "cell_type": "markdown",
      "source": [
        "## Dataset - Heart Failure Clinical Records Dataset\n",
        "\n",
        "### Overview\n",
        "Cardiovascular diseases (CVDs) are the number 1 cause of death globally, taking an estimated 17.9 million lives each year, which accounts for 31% of all deaths worlwide.\n",
        "Heart failure is a common event caused by CVDs and this dataset contains 12 features that can be used to predict mortality by heart failure.\n",
        "\n",
        "Most cardiovascular diseases can be prevented by addressing behavioural risk factors such as tobacco use, unhealthy diet and obesity, physical inactivity and harmful use of alcohol using population-wide strategies.\n",
        "\n",
        "People with cardiovascular disease or who are at high cardiovascular risk (due to the presence of one or more risk factors such as hypertension, diabetes, hyperlipidaemia or already established disease) need early detection and management wherein a machine learning model can be of great help.\n",
        "\n",
        "### Objective\n",
        "Train a model to predict whether the person with Cardiovascular disease will survive or not"
      ],
      "metadata": {}
    },
    {
      "cell_type": "code",
      "source": [
        "# Initialize Workspace\n",
        "ws = Workspace.from_config()\n",
        "print(ws.name, ws.resource_group, ws.location, ws.subscription_id, sep = '\\n')\n",
        "\n",
        "# choose a name for experiment\n",
        "experiment_name = 'automl_heart_failure_prediction'\n",
        "project_folder = './automl'\n",
        "\n",
        "experiment=Experiment(ws, experiment_name)"
      ],
      "outputs": [
        {
          "output_type": "stream",
          "name": "stdout",
          "text": [
            "Performing interactive authentication. Please follow the instructions on the terminal.\n",
            "To sign in, use a web browser to open the page https://microsoft.com/devicelogin and enter the code RY8R5XUQY to authenticate.\n",
            "You have logged in. Now let us find all the subscriptions to which you have access...\n",
            "Interactive authentication successfully completed.\n",
            "quick-starts-ws-137970\n",
            "aml-quickstarts-137970\n",
            "southcentralus\n",
            "a24a24d5-8d87-4c8a-99b6-91ed2d2df51f\n"
          ]
        }
      ],
      "execution_count": 2,
      "metadata": {
        "gather": {
          "logged": 1612725718184
        },
        "jupyter": {
          "outputs_hidden": false,
          "source_hidden": false
        },
        "nteract": {
          "transient": {
            "deleting": false
          }
        }
      }
    },
    {
      "cell_type": "code",
      "source": [
        "print('Workspace name: ' + ws.name, \n",
        "      'Azure region: ' + ws.location, \n",
        "      'Subscription id: ' + ws.subscription_id, \n",
        "      'Resource group: ' + ws.resource_group, sep = '\\n')"
      ],
      "outputs": [
        {
          "output_type": "stream",
          "name": "stdout",
          "text": [
            "Workspace name: quick-starts-ws-137970\n",
            "Azure region: southcentralus\n",
            "Subscription id: a24a24d5-8d87-4c8a-99b6-91ed2d2df51f\n",
            "Resource group: aml-quickstarts-137970\n"
          ]
        }
      ],
      "execution_count": 3,
      "metadata": {
        "gather": {
          "logged": 1612725725371
        },
        "jupyter": {
          "outputs_hidden": false,
          "source_hidden": false
        },
        "nteract": {
          "transient": {
            "deleting": false
          }
        }
      }
    },
    {
      "cell_type": "markdown",
      "source": [
        "## Create or Attach an AmlCompute cluster"
      ],
      "metadata": {}
    },
    {
      "cell_type": "code",
      "source": [
        "from azureml.core.compute import AmlCompute\n",
        "from azureml.core.compute import ComputeTarget\n",
        "from azureml.core.compute_target import ComputeTargetException\n",
        "\n",
        "compute_cluster_name = \"capstone-cluster\"\n",
        "\n",
        "# Verify that cluster does not exist already\n",
        "try:\n",
        "    compute_target = ComputeTarget(workspace = ws, name = compute_cluster_name)\n",
        "    print('Found existing cluster, use it.')\n",
        "    \n",
        "except ComputeTargetException:\n",
        "    compute_config = AmlCompute.provisioning_configuration(vm_size='STANDARD_D2_V2',# for GPU, use \"STANDARD_NC6\"\n",
        "                                                           #vm_priority = 'lowpriority', # optional\n",
        "                                                           max_nodes=4)\n",
        "    compute_target = ComputeTarget.create(ws, compute_cluster_name, compute_config)\n",
        "\n",
        "compute_target.wait_for_completion(show_output=True, min_node_count = 1, timeout_in_minutes = 10)\n",
        "# For a more detailed view of current AmlCompute status, use get_status()."
      ],
      "outputs": [
        {
          "output_type": "stream",
          "name": "stdout",
          "text": [
            "Creating\n",
            "Succeeded.................................................................................................................\n",
            "AmlCompute wait for completion finished\n",
            "\n",
            "Wait timeout has been reached\n",
            "Current provisioning state of AmlCompute is \"Succeeded\" and current node count is \"0\"\n"
          ]
        }
      ],
      "execution_count": 4,
      "metadata": {
        "gather": {
          "logged": 1612726336934
        }
      }
    },
    {
      "cell_type": "markdown",
      "source": [
        "## Data"
      ],
      "metadata": {}
    },
    {
      "cell_type": "code",
      "source": [
        "dataset = Dataset.get_by_name(ws, name='Heart_Failure_Clinical_Records_Dataset')\n",
        "\n",
        "df = dataset.to_pandas_dataframe()\n",
        "\n",
        "df.head()"
      ],
      "outputs": [
        {
          "output_type": "execute_result",
          "execution_count": 5,
          "data": {
            "text/plain": "    age  anaemia  creatinine_phosphokinase  diabetes  ejection_fraction  \\\n0  75.0        0                       582         0                 20   \n1  55.0        0                      7861         0                 38   \n2  65.0        0                       146         0                 20   \n3  50.0        1                       111         0                 20   \n4  65.0        1                       160         1                 20   \n\n   high_blood_pressure  platelets  serum_creatinine  serum_sodium  sex  \\\n0                    1  265000.00               1.9           130    1   \n1                    0  263358.03               1.1           136    1   \n2                    0  162000.00               1.3           129    1   \n3                    0  210000.00               1.9           137    1   \n4                    0  327000.00               2.7           116    0   \n\n   smoking  time  DEATH_EVENT  \n0        0     4            1  \n1        0     6            1  \n2        1     7            1  \n3        0     7            1  \n4        0     8            1  ",
            "text/html": "<div>\n<style scoped>\n    .dataframe tbody tr th:only-of-type {\n        vertical-align: middle;\n    }\n\n    .dataframe tbody tr th {\n        vertical-align: top;\n    }\n\n    .dataframe thead th {\n        text-align: right;\n    }\n</style>\n<table border=\"1\" class=\"dataframe\">\n  <thead>\n    <tr style=\"text-align: right;\">\n      <th></th>\n      <th>age</th>\n      <th>anaemia</th>\n      <th>creatinine_phosphokinase</th>\n      <th>diabetes</th>\n      <th>ejection_fraction</th>\n      <th>high_blood_pressure</th>\n      <th>platelets</th>\n      <th>serum_creatinine</th>\n      <th>serum_sodium</th>\n      <th>sex</th>\n      <th>smoking</th>\n      <th>time</th>\n      <th>DEATH_EVENT</th>\n    </tr>\n  </thead>\n  <tbody>\n    <tr>\n      <th>0</th>\n      <td>75.0</td>\n      <td>0</td>\n      <td>582</td>\n      <td>0</td>\n      <td>20</td>\n      <td>1</td>\n      <td>265000.00</td>\n      <td>1.9</td>\n      <td>130</td>\n      <td>1</td>\n      <td>0</td>\n      <td>4</td>\n      <td>1</td>\n    </tr>\n    <tr>\n      <th>1</th>\n      <td>55.0</td>\n      <td>0</td>\n      <td>7861</td>\n      <td>0</td>\n      <td>38</td>\n      <td>0</td>\n      <td>263358.03</td>\n      <td>1.1</td>\n      <td>136</td>\n      <td>1</td>\n      <td>0</td>\n      <td>6</td>\n      <td>1</td>\n    </tr>\n    <tr>\n      <th>2</th>\n      <td>65.0</td>\n      <td>0</td>\n      <td>146</td>\n      <td>0</td>\n      <td>20</td>\n      <td>0</td>\n      <td>162000.00</td>\n      <td>1.3</td>\n      <td>129</td>\n      <td>1</td>\n      <td>1</td>\n      <td>7</td>\n      <td>1</td>\n    </tr>\n    <tr>\n      <th>3</th>\n      <td>50.0</td>\n      <td>1</td>\n      <td>111</td>\n      <td>0</td>\n      <td>20</td>\n      <td>0</td>\n      <td>210000.00</td>\n      <td>1.9</td>\n      <td>137</td>\n      <td>1</td>\n      <td>0</td>\n      <td>7</td>\n      <td>1</td>\n    </tr>\n    <tr>\n      <th>4</th>\n      <td>65.0</td>\n      <td>1</td>\n      <td>160</td>\n      <td>1</td>\n      <td>20</td>\n      <td>0</td>\n      <td>327000.00</td>\n      <td>2.7</td>\n      <td>116</td>\n      <td>0</td>\n      <td>0</td>\n      <td>8</td>\n      <td>1</td>\n    </tr>\n  </tbody>\n</table>\n</div>"
          },
          "metadata": {}
        }
      ],
      "execution_count": 5,
      "metadata": {
        "gather": {
          "logged": 1612726342779
        }
      }
    },
    {
      "cell_type": "code",
      "source": [
        "df.describe()"
      ],
      "outputs": [
        {
          "output_type": "execute_result",
          "execution_count": 6,
          "data": {
            "text/plain": "              age     anaemia  creatinine_phosphokinase    diabetes  \\\ncount  299.000000  299.000000                299.000000  299.000000   \nmean    60.833893    0.431438                581.839465    0.418060   \nstd     11.894809    0.496107                970.287881    0.494067   \nmin     40.000000    0.000000                 23.000000    0.000000   \n25%     51.000000    0.000000                116.500000    0.000000   \n50%     60.000000    0.000000                250.000000    0.000000   \n75%     70.000000    1.000000                582.000000    1.000000   \nmax     95.000000    1.000000               7861.000000    1.000000   \n\n       ejection_fraction  high_blood_pressure      platelets  \\\ncount         299.000000           299.000000     299.000000   \nmean           38.083612             0.351171  263358.029264   \nstd            11.834841             0.478136   97804.236869   \nmin            14.000000             0.000000   25100.000000   \n25%            30.000000             0.000000  212500.000000   \n50%            38.000000             0.000000  262000.000000   \n75%            45.000000             1.000000  303500.000000   \nmax            80.000000             1.000000  850000.000000   \n\n       serum_creatinine  serum_sodium         sex    smoking        time  \\\ncount         299.00000    299.000000  299.000000  299.00000  299.000000   \nmean            1.39388    136.625418    0.648829    0.32107  130.260870   \nstd             1.03451      4.412477    0.478136    0.46767   77.614208   \nmin             0.50000    113.000000    0.000000    0.00000    4.000000   \n25%             0.90000    134.000000    0.000000    0.00000   73.000000   \n50%             1.10000    137.000000    1.000000    0.00000  115.000000   \n75%             1.40000    140.000000    1.000000    1.00000  203.000000   \nmax             9.40000    148.000000    1.000000    1.00000  285.000000   \n\n       DEATH_EVENT  \ncount    299.00000  \nmean       0.32107  \nstd        0.46767  \nmin        0.00000  \n25%        0.00000  \n50%        0.00000  \n75%        1.00000  \nmax        1.00000  ",
            "text/html": "<div>\n<style scoped>\n    .dataframe tbody tr th:only-of-type {\n        vertical-align: middle;\n    }\n\n    .dataframe tbody tr th {\n        vertical-align: top;\n    }\n\n    .dataframe thead th {\n        text-align: right;\n    }\n</style>\n<table border=\"1\" class=\"dataframe\">\n  <thead>\n    <tr style=\"text-align: right;\">\n      <th></th>\n      <th>age</th>\n      <th>anaemia</th>\n      <th>creatinine_phosphokinase</th>\n      <th>diabetes</th>\n      <th>ejection_fraction</th>\n      <th>high_blood_pressure</th>\n      <th>platelets</th>\n      <th>serum_creatinine</th>\n      <th>serum_sodium</th>\n      <th>sex</th>\n      <th>smoking</th>\n      <th>time</th>\n      <th>DEATH_EVENT</th>\n    </tr>\n  </thead>\n  <tbody>\n    <tr>\n      <th>count</th>\n      <td>299.000000</td>\n      <td>299.000000</td>\n      <td>299.000000</td>\n      <td>299.000000</td>\n      <td>299.000000</td>\n      <td>299.000000</td>\n      <td>299.000000</td>\n      <td>299.00000</td>\n      <td>299.000000</td>\n      <td>299.000000</td>\n      <td>299.00000</td>\n      <td>299.000000</td>\n      <td>299.00000</td>\n    </tr>\n    <tr>\n      <th>mean</th>\n      <td>60.833893</td>\n      <td>0.431438</td>\n      <td>581.839465</td>\n      <td>0.418060</td>\n      <td>38.083612</td>\n      <td>0.351171</td>\n      <td>263358.029264</td>\n      <td>1.39388</td>\n      <td>136.625418</td>\n      <td>0.648829</td>\n      <td>0.32107</td>\n      <td>130.260870</td>\n      <td>0.32107</td>\n    </tr>\n    <tr>\n      <th>std</th>\n      <td>11.894809</td>\n      <td>0.496107</td>\n      <td>970.287881</td>\n      <td>0.494067</td>\n      <td>11.834841</td>\n      <td>0.478136</td>\n      <td>97804.236869</td>\n      <td>1.03451</td>\n      <td>4.412477</td>\n      <td>0.478136</td>\n      <td>0.46767</td>\n      <td>77.614208</td>\n      <td>0.46767</td>\n    </tr>\n    <tr>\n      <th>min</th>\n      <td>40.000000</td>\n      <td>0.000000</td>\n      <td>23.000000</td>\n      <td>0.000000</td>\n      <td>14.000000</td>\n      <td>0.000000</td>\n      <td>25100.000000</td>\n      <td>0.50000</td>\n      <td>113.000000</td>\n      <td>0.000000</td>\n      <td>0.00000</td>\n      <td>4.000000</td>\n      <td>0.00000</td>\n    </tr>\n    <tr>\n      <th>25%</th>\n      <td>51.000000</td>\n      <td>0.000000</td>\n      <td>116.500000</td>\n      <td>0.000000</td>\n      <td>30.000000</td>\n      <td>0.000000</td>\n      <td>212500.000000</td>\n      <td>0.90000</td>\n      <td>134.000000</td>\n      <td>0.000000</td>\n      <td>0.00000</td>\n      <td>73.000000</td>\n      <td>0.00000</td>\n    </tr>\n    <tr>\n      <th>50%</th>\n      <td>60.000000</td>\n      <td>0.000000</td>\n      <td>250.000000</td>\n      <td>0.000000</td>\n      <td>38.000000</td>\n      <td>0.000000</td>\n      <td>262000.000000</td>\n      <td>1.10000</td>\n      <td>137.000000</td>\n      <td>1.000000</td>\n      <td>0.00000</td>\n      <td>115.000000</td>\n      <td>0.00000</td>\n    </tr>\n    <tr>\n      <th>75%</th>\n      <td>70.000000</td>\n      <td>1.000000</td>\n      <td>582.000000</td>\n      <td>1.000000</td>\n      <td>45.000000</td>\n      <td>1.000000</td>\n      <td>303500.000000</td>\n      <td>1.40000</td>\n      <td>140.000000</td>\n      <td>1.000000</td>\n      <td>1.00000</td>\n      <td>203.000000</td>\n      <td>1.00000</td>\n    </tr>\n    <tr>\n      <th>max</th>\n      <td>95.000000</td>\n      <td>1.000000</td>\n      <td>7861.000000</td>\n      <td>1.000000</td>\n      <td>80.000000</td>\n      <td>1.000000</td>\n      <td>850000.000000</td>\n      <td>9.40000</td>\n      <td>148.000000</td>\n      <td>1.000000</td>\n      <td>1.00000</td>\n      <td>285.000000</td>\n      <td>1.00000</td>\n    </tr>\n  </tbody>\n</table>\n</div>"
          },
          "metadata": {}
        }
      ],
      "execution_count": 6,
      "metadata": {
        "gather": {
          "logged": 1612726352708
        }
      }
    },
    {
      "cell_type": "markdown",
      "source": [
        "## AutoML Configuration\n",
        "\n",
        "TODO: Explain why you chose the automl settings and cofiguration you used below."
      ],
      "metadata": {}
    },
    {
      "cell_type": "code",
      "source": [
        "if \"automl\" not in os.listdir():\n",
        "    os.mkdir(\"./automl\")\n",
        "\n",
        "# TODO: Put your automl settings here\n",
        "automl_settings = {\"experiment_timeout_minutes\": 30,\n",
        "    \"max_concurrent_iterations\": 4,\n",
        "    \"n_cross_validations\":5,\n",
        "    \"primary_metric\" : 'accuracy'}\n",
        "\n",
        "# TODO: Put your automl config here\n",
        "automl_config = AutoMLConfig(compute_target=compute_target,\n",
        "                             task = \"classification\",\n",
        "                             training_data = dataset,\n",
        "                             label_column_name = \"DEATH_EVENT\",\n",
        "                             path = project_folder,\n",
        "                             enable_early_stopping = True,\n",
        "                             featurization= 'auto',\n",
        "                             debug_log = \"automl_errors.log\",\n",
        "                             **automl_settings)"
      ],
      "outputs": [],
      "execution_count": 7,
      "metadata": {
        "gather": {
          "logged": 1612726419476
        },
        "jupyter": {
          "outputs_hidden": false,
          "source_hidden": false
        },
        "nteract": {
          "transient": {
            "deleting": false
          }
        }
      }
    },
    {
      "cell_type": "code",
      "source": [
        "# TODO: Submit your experiment\n",
        "remote_run = experiment.submit(automl_config)"
      ],
      "outputs": [
        {
          "output_type": "stream",
          "name": "stdout",
          "text": [
            "Running on remote.\n"
          ]
        }
      ],
      "execution_count": 8,
      "metadata": {
        "gather": {
          "logged": 1612726429682
        },
        "jupyter": {
          "outputs_hidden": false,
          "source_hidden": false
        },
        "nteract": {
          "transient": {
            "deleting": false
          }
        }
      }
    },
    {
      "cell_type": "markdown",
      "source": [
        "## Run Details\n",
        "\n",
        "OPTIONAL: Write about the different models trained and their performance. Why do you think some models did better than others?\n",
        "\n",
        "TODO: In the cell below, use the `RunDetails` widget to show the different experiments."
      ],
      "metadata": {}
    },
    {
      "cell_type": "code",
      "source": [
        "from azureml.widgets import RunDetails\n",
        "RunDetails(remote_run).show()\n",
        "\n",
        "remote_run.wait_for_completion(show_output=True)"
      ],
      "outputs": [
        {
          "output_type": "display_data",
          "data": {
            "text/plain": "_AutoMLWidget(widget_settings={'childWidgetDisplay': 'popup', 'send_telemetry': False, 'log_level': 'INFO', 's…",
            "application/vnd.jupyter.widget-view+json": {
              "version_major": 2,
              "version_minor": 0,
              "model_id": "a79690dd4c2c4bd68b8831ff669b37da"
            }
          },
          "metadata": {}
        },
        {
          "output_type": "display_data",
          "data": {
            "application/aml.mini.widget.v1": "{\"status\": \"Completed\", \"workbench_run_details_uri\": \"https://ml.azure.com/experiments/automl_heart_failure_prediction/runs/AutoML_85117436-7ff3-40ec-b495-51c91b3eb1e8?wsid=/subscriptions/a24a24d5-8d87-4c8a-99b6-91ed2d2df51f/resourcegroups/aml-quickstarts-137970/workspaces/quick-starts-ws-137970\", \"run_id\": \"AutoML_85117436-7ff3-40ec-b495-51c91b3eb1e8\", \"run_properties\": {\"run_id\": \"AutoML_85117436-7ff3-40ec-b495-51c91b3eb1e8\", \"created_utc\": \"2021-02-07T19:33:48.528575Z\", \"properties\": {\"num_iterations\": \"1000\", \"training_type\": \"TrainFull\", \"acquisition_function\": \"EI\", \"primary_metric\": \"accuracy\", \"train_split\": \"0\", \"acquisition_parameter\": \"0\", \"num_cross_validation\": \"5\", \"target\": \"capstone-cluster\", \"AMLSettingsJsonString\": \"{\\\"path\\\":null,\\\"name\\\":\\\"automl_heart_failure_prediction\\\",\\\"subscription_id\\\":\\\"a24a24d5-8d87-4c8a-99b6-91ed2d2df51f\\\",\\\"resource_group\\\":\\\"aml-quickstarts-137970\\\",\\\"workspace_name\\\":\\\"quick-starts-ws-137970\\\",\\\"region\\\":\\\"southcentralus\\\",\\\"compute_target\\\":\\\"capstone-cluster\\\",\\\"spark_service\\\":null,\\\"azure_service\\\":\\\"remote\\\",\\\"many_models\\\":false,\\\"pipeline_fetch_max_batch_size\\\":1,\\\"iterations\\\":1000,\\\"primary_metric\\\":\\\"accuracy\\\",\\\"task_type\\\":\\\"classification\\\",\\\"data_script\\\":null,\\\"validation_size\\\":0.0,\\\"n_cross_validations\\\":5,\\\"y_min\\\":null,\\\"y_max\\\":null,\\\"num_classes\\\":null,\\\"featurization\\\":\\\"auto\\\",\\\"_ignore_package_version_incompatibilities\\\":false,\\\"is_timeseries\\\":false,\\\"max_cores_per_iteration\\\":1,\\\"max_concurrent_iterations\\\":4,\\\"iteration_timeout_minutes\\\":null,\\\"mem_in_mb\\\":null,\\\"enforce_time_on_windows\\\":false,\\\"experiment_timeout_minutes\\\":30,\\\"experiment_exit_score\\\":null,\\\"whitelist_models\\\":null,\\\"blacklist_algos\\\":[\\\"TensorFlowLinearClassifier\\\",\\\"TensorFlowDNN\\\"],\\\"supported_models\\\":[\\\"AveragedPerceptronClassifier\\\",\\\"LinearSVM\\\",\\\"DecisionTree\\\",\\\"BernoulliNaiveBayes\\\",\\\"TensorFlowLinearClassifier\\\",\\\"MultinomialNaiveBayes\\\",\\\"SVM\\\",\\\"SGD\\\",\\\"ExtremeRandomTrees\\\",\\\"RandomForest\\\",\\\"XGBoostClassifier\\\",\\\"KNN\\\",\\\"GradientBoosting\\\",\\\"LightGBM\\\",\\\"LogisticRegression\\\",\\\"TensorFlowDNN\\\"],\\\"auto_blacklist\\\":true,\\\"blacklist_samples_reached\\\":false,\\\"exclude_nan_labels\\\":true,\\\"verbosity\\\":20,\\\"_debug_log\\\":\\\"azureml_automl.log\\\",\\\"show_warnings\\\":false,\\\"model_explainability\\\":true,\\\"service_url\\\":null,\\\"sdk_url\\\":null,\\\"sdk_packages\\\":null,\\\"enable_onnx_compatible_models\\\":false,\\\"enable_split_onnx_featurizer_estimator_models\\\":false,\\\"vm_type\\\":\\\"STANDARD_D2_V2\\\",\\\"telemetry_verbosity\\\":20,\\\"send_telemetry\\\":true,\\\"enable_dnn\\\":false,\\\"scenario\\\":\\\"SDK-1.13.0\\\",\\\"environment_label\\\":null,\\\"force_text_dnn\\\":false,\\\"enable_feature_sweeping\\\":true,\\\"enable_early_stopping\\\":true,\\\"early_stopping_n_iters\\\":10,\\\"metrics\\\":null,\\\"enable_ensembling\\\":true,\\\"enable_stack_ensembling\\\":true,\\\"ensemble_iterations\\\":15,\\\"enable_tf\\\":false,\\\"enable_subsampling\\\":null,\\\"subsample_seed\\\":null,\\\"enable_nimbusml\\\":false,\\\"enable_streaming\\\":false,\\\"force_streaming\\\":false,\\\"track_child_runs\\\":true,\\\"allowed_private_models\\\":[],\\\"label_column_name\\\":\\\"DEATH_EVENT\\\",\\\"weight_column_name\\\":null,\\\"cv_split_column_names\\\":null,\\\"enable_local_managed\\\":false,\\\"_local_managed_run_id\\\":null,\\\"cost_mode\\\":1,\\\"lag_length\\\":0,\\\"metric_operation\\\":\\\"maximize\\\",\\\"preprocess\\\":true}\", \"DataPrepJsonString\": \"{\\\\\\\"training_data\\\\\\\": \\\\\\\"{\\\\\\\\\\\\\\\"blocks\\\\\\\\\\\\\\\": [{\\\\\\\\\\\\\\\"id\\\\\\\\\\\\\\\": \\\\\\\\\\\\\\\"4a49e797-912f-4914-938d-e81c809366b4\\\\\\\\\\\\\\\", \\\\\\\\\\\\\\\"type\\\\\\\\\\\\\\\": \\\\\\\\\\\\\\\"Microsoft.DPrep.GetDatastoreFilesBlock\\\\\\\\\\\\\\\", \\\\\\\\\\\\\\\"arguments\\\\\\\\\\\\\\\": {\\\\\\\\\\\\\\\"datastores\\\\\\\\\\\\\\\": [{\\\\\\\\\\\\\\\"datastoreName\\\\\\\\\\\\\\\": \\\\\\\\\\\\\\\"workspaceblobstore\\\\\\\\\\\\\\\", \\\\\\\\\\\\\\\"path\\\\\\\\\\\\\\\": \\\\\\\\\\\\\\\"UI/02-07-2021_071807_UTC/heart_failure_clinical_records_dataset.csv\\\\\\\\\\\\\\\", \\\\\\\\\\\\\\\"resourceGroup\\\\\\\\\\\\\\\": \\\\\\\\\\\\\\\"aml-quickstarts-137970\\\\\\\\\\\\\\\", \\\\\\\\\\\\\\\"subscription\\\\\\\\\\\\\\\": \\\\\\\\\\\\\\\"a24a24d5-8d87-4c8a-99b6-91ed2d2df51f\\\\\\\\\\\\\\\", \\\\\\\\\\\\\\\"workspaceName\\\\\\\\\\\\\\\": \\\\\\\\\\\\\\\"quick-starts-ws-137970\\\\\\\\\\\\\\\"}]}, \\\\\\\\\\\\\\\"localData\\\\\\\\\\\\\\\": {}, \\\\\\\\\\\\\\\"isEnabled\\\\\\\\\\\\\\\": true, \\\\\\\\\\\\\\\"name\\\\\\\\\\\\\\\": null, \\\\\\\\\\\\\\\"annotation\\\\\\\\\\\\\\\": null}, {\\\\\\\\\\\\\\\"id\\\\\\\\\\\\\\\": \\\\\\\\\\\\\\\"035e6729-cae5-430d-9b30-e288de50429a\\\\\\\\\\\\\\\", \\\\\\\\\\\\\\\"type\\\\\\\\\\\\\\\": \\\\\\\\\\\\\\\"Microsoft.DPrep.ParseDelimitedBlock\\\\\\\\\\\\\\\", \\\\\\\\\\\\\\\"arguments\\\\\\\\\\\\\\\": {\\\\\\\\\\\\\\\"columnHeadersMode\\\\\\\\\\\\\\\": 1, \\\\\\\\\\\\\\\"fileEncoding\\\\\\\\\\\\\\\": 0, \\\\\\\\\\\\\\\"handleQuotedLineBreaks\\\\\\\\\\\\\\\": false, \\\\\\\\\\\\\\\"preview\\\\\\\\\\\\\\\": false, \\\\\\\\\\\\\\\"separator\\\\\\\\\\\\\\\": \\\\\\\\\\\\\\\",\\\\\\\\\\\\\\\", \\\\\\\\\\\\\\\"skipRows\\\\\\\\\\\\\\\": 0, \\\\\\\\\\\\\\\"skipRowsMode\\\\\\\\\\\\\\\": 0}, \\\\\\\\\\\\\\\"localData\\\\\\\\\\\\\\\": {}, \\\\\\\\\\\\\\\"isEnabled\\\\\\\\\\\\\\\": true, \\\\\\\\\\\\\\\"name\\\\\\\\\\\\\\\": null, \\\\\\\\\\\\\\\"annotation\\\\\\\\\\\\\\\": null}, {\\\\\\\\\\\\\\\"id\\\\\\\\\\\\\\\": \\\\\\\\\\\\\\\"5b847973-55fa-4193-8530-d33389eff70a\\\\\\\\\\\\\\\", \\\\\\\\\\\\\\\"type\\\\\\\\\\\\\\\": \\\\\\\\\\\\\\\"Microsoft.DPrep.DropColumnsBlock\\\\\\\\\\\\\\\", \\\\\\\\\\\\\\\"arguments\\\\\\\\\\\\\\\": {\\\\\\\\\\\\\\\"columns\\\\\\\\\\\\\\\": {\\\\\\\\\\\\\\\"type\\\\\\\\\\\\\\\": 0, \\\\\\\\\\\\\\\"details\\\\\\\\\\\\\\\": {\\\\\\\\\\\\\\\"selectedColumns\\\\\\\\\\\\\\\": [\\\\\\\\\\\\\\\"Path\\\\\\\\\\\\\\\"]}}}, \\\\\\\\\\\\\\\"localData\\\\\\\\\\\\\\\": {}, \\\\\\\\\\\\\\\"isEnabled\\\\\\\\\\\\\\\": true, \\\\\\\\\\\\\\\"name\\\\\\\\\\\\\\\": null, \\\\\\\\\\\\\\\"annotation\\\\\\\\\\\\\\\": null}, {\\\\\\\\\\\\\\\"id\\\\\\\\\\\\\\\": \\\\\\\\\\\\\\\"0d5f8964-0c53-4167-b188-2578db9f73ef\\\\\\\\\\\\\\\", \\\\\\\\\\\\\\\"type\\\\\\\\\\\\\\\": \\\\\\\\\\\\\\\"Microsoft.DPrep.SetColumnTypesBlock\\\\\\\\\\\\\\\", \\\\\\\\\\\\\\\"arguments\\\\\\\\\\\\\\\": {\\\\\\\\\\\\\\\"columnConversion\\\\\\\\\\\\\\\": [{\\\\\\\\\\\\\\\"column\\\\\\\\\\\\\\\": {\\\\\\\\\\\\\\\"type\\\\\\\\\\\\\\\": 2, \\\\\\\\\\\\\\\"details\\\\\\\\\\\\\\\": {\\\\\\\\\\\\\\\"selectedColumn\\\\\\\\\\\\\\\": \\\\\\\\\\\\\\\"Path\\\\\\\\\\\\\\\"}}, \\\\\\\\\\\\\\\"typeProperty\\\\\\\\\\\\\\\": 0}, {\\\\\\\\\\\\\\\"column\\\\\\\\\\\\\\\": {\\\\\\\\\\\\\\\"type\\\\\\\\\\\\\\\": 2, \\\\\\\\\\\\\\\"details\\\\\\\\\\\\\\\": {\\\\\\\\\\\\\\\"selectedColumn\\\\\\\\\\\\\\\": \\\\\\\\\\\\\\\"age\\\\\\\\\\\\\\\"}}, \\\\\\\\\\\\\\\"typeProperty\\\\\\\\\\\\\\\": 3}, {\\\\\\\\\\\\\\\"column\\\\\\\\\\\\\\\": {\\\\\\\\\\\\\\\"type\\\\\\\\\\\\\\\": 2, \\\\\\\\\\\\\\\"details\\\\\\\\\\\\\\\": {\\\\\\\\\\\\\\\"selectedColumn\\\\\\\\\\\\\\\": \\\\\\\\\\\\\\\"anaemia\\\\\\\\\\\\\\\"}}, \\\\\\\\\\\\\\\"typeProperty\\\\\\\\\\\\\\\": 2}, {\\\\\\\\\\\\\\\"column\\\\\\\\\\\\\\\": {\\\\\\\\\\\\\\\"type\\\\\\\\\\\\\\\": 2, \\\\\\\\\\\\\\\"details\\\\\\\\\\\\\\\": {\\\\\\\\\\\\\\\"selectedColumn\\\\\\\\\\\\\\\": \\\\\\\\\\\\\\\"creatinine_phosphokinase\\\\\\\\\\\\\\\"}}, \\\\\\\\\\\\\\\"typeProperty\\\\\\\\\\\\\\\": 2}, {\\\\\\\\\\\\\\\"column\\\\\\\\\\\\\\\": {\\\\\\\\\\\\\\\"type\\\\\\\\\\\\\\\": 2, \\\\\\\\\\\\\\\"details\\\\\\\\\\\\\\\": {\\\\\\\\\\\\\\\"selectedColumn\\\\\\\\\\\\\\\": \\\\\\\\\\\\\\\"diabetes\\\\\\\\\\\\\\\"}}, \\\\\\\\\\\\\\\"typeProperty\\\\\\\\\\\\\\\": 2}, {\\\\\\\\\\\\\\\"column\\\\\\\\\\\\\\\": {\\\\\\\\\\\\\\\"type\\\\\\\\\\\\\\\": 2, \\\\\\\\\\\\\\\"details\\\\\\\\\\\\\\\": {\\\\\\\\\\\\\\\"selectedColumn\\\\\\\\\\\\\\\": \\\\\\\\\\\\\\\"ejection_fraction\\\\\\\\\\\\\\\"}}, \\\\\\\\\\\\\\\"typeProperty\\\\\\\\\\\\\\\": 2}, {\\\\\\\\\\\\\\\"column\\\\\\\\\\\\\\\": {\\\\\\\\\\\\\\\"type\\\\\\\\\\\\\\\": 2, \\\\\\\\\\\\\\\"details\\\\\\\\\\\\\\\": {\\\\\\\\\\\\\\\"selectedColumn\\\\\\\\\\\\\\\": \\\\\\\\\\\\\\\"high_blood_pressure\\\\\\\\\\\\\\\"}}, \\\\\\\\\\\\\\\"typeProperty\\\\\\\\\\\\\\\": 2}, {\\\\\\\\\\\\\\\"column\\\\\\\\\\\\\\\": {\\\\\\\\\\\\\\\"type\\\\\\\\\\\\\\\": 2, \\\\\\\\\\\\\\\"details\\\\\\\\\\\\\\\": {\\\\\\\\\\\\\\\"selectedColumn\\\\\\\\\\\\\\\": \\\\\\\\\\\\\\\"platelets\\\\\\\\\\\\\\\"}}, \\\\\\\\\\\\\\\"typeProperty\\\\\\\\\\\\\\\": 3}, {\\\\\\\\\\\\\\\"column\\\\\\\\\\\\\\\": {\\\\\\\\\\\\\\\"type\\\\\\\\\\\\\\\": 2, \\\\\\\\\\\\\\\"details\\\\\\\\\\\\\\\": {\\\\\\\\\\\\\\\"selectedColumn\\\\\\\\\\\\\\\": \\\\\\\\\\\\\\\"serum_creatinine\\\\\\\\\\\\\\\"}}, \\\\\\\\\\\\\\\"typeProperty\\\\\\\\\\\\\\\": 3}, {\\\\\\\\\\\\\\\"column\\\\\\\\\\\\\\\": {\\\\\\\\\\\\\\\"type\\\\\\\\\\\\\\\": 2, \\\\\\\\\\\\\\\"details\\\\\\\\\\\\\\\": {\\\\\\\\\\\\\\\"selectedColumn\\\\\\\\\\\\\\\": \\\\\\\\\\\\\\\"serum_sodium\\\\\\\\\\\\\\\"}}, \\\\\\\\\\\\\\\"typeProperty\\\\\\\\\\\\\\\": 2}, {\\\\\\\\\\\\\\\"column\\\\\\\\\\\\\\\": {\\\\\\\\\\\\\\\"type\\\\\\\\\\\\\\\": 2, \\\\\\\\\\\\\\\"details\\\\\\\\\\\\\\\": {\\\\\\\\\\\\\\\"selectedColumn\\\\\\\\\\\\\\\": \\\\\\\\\\\\\\\"sex\\\\\\\\\\\\\\\"}}, \\\\\\\\\\\\\\\"typeProperty\\\\\\\\\\\\\\\": 2}, {\\\\\\\\\\\\\\\"column\\\\\\\\\\\\\\\": {\\\\\\\\\\\\\\\"type\\\\\\\\\\\\\\\": 2, \\\\\\\\\\\\\\\"details\\\\\\\\\\\\\\\": {\\\\\\\\\\\\\\\"selectedColumn\\\\\\\\\\\\\\\": \\\\\\\\\\\\\\\"smoking\\\\\\\\\\\\\\\"}}, \\\\\\\\\\\\\\\"typeProperty\\\\\\\\\\\\\\\": 2}, {\\\\\\\\\\\\\\\"column\\\\\\\\\\\\\\\": {\\\\\\\\\\\\\\\"type\\\\\\\\\\\\\\\": 2, \\\\\\\\\\\\\\\"details\\\\\\\\\\\\\\\": {\\\\\\\\\\\\\\\"selectedColumn\\\\\\\\\\\\\\\": \\\\\\\\\\\\\\\"time\\\\\\\\\\\\\\\"}}, \\\\\\\\\\\\\\\"typeProperty\\\\\\\\\\\\\\\": 2}, {\\\\\\\\\\\\\\\"column\\\\\\\\\\\\\\\": {\\\\\\\\\\\\\\\"type\\\\\\\\\\\\\\\": 2, \\\\\\\\\\\\\\\"details\\\\\\\\\\\\\\\": {\\\\\\\\\\\\\\\"selectedColumn\\\\\\\\\\\\\\\": \\\\\\\\\\\\\\\"DEATH_EVENT\\\\\\\\\\\\\\\"}}, \\\\\\\\\\\\\\\"typeProperty\\\\\\\\\\\\\\\": 2}]}, \\\\\\\\\\\\\\\"localData\\\\\\\\\\\\\\\": {}, \\\\\\\\\\\\\\\"isEnabled\\\\\\\\\\\\\\\": true, \\\\\\\\\\\\\\\"name\\\\\\\\\\\\\\\": null, \\\\\\\\\\\\\\\"annotation\\\\\\\\\\\\\\\": null}], \\\\\\\\\\\\\\\"inspectors\\\\\\\\\\\\\\\": [], \\\\\\\\\\\\\\\"meta\\\\\\\\\\\\\\\": {\\\\\\\\\\\\\\\"savedDatasetId\\\\\\\\\\\\\\\": \\\\\\\\\\\\\\\"4a965a07-c0f6-46c6-b517-30f3542fb897\\\\\\\\\\\\\\\", \\\\\\\\\\\\\\\"datasetType\\\\\\\\\\\\\\\": \\\\\\\\\\\\\\\"tabular\\\\\\\\\\\\\\\", \\\\\\\\\\\\\\\"subscriptionId\\\\\\\\\\\\\\\": \\\\\\\\\\\\\\\"a24a24d5-8d87-4c8a-99b6-91ed2d2df51f\\\\\\\\\\\\\\\", \\\\\\\\\\\\\\\"workspaceId\\\\\\\\\\\\\\\": \\\\\\\\\\\\\\\"6a7154b2-7056-46a4-957f-9541e2489c83\\\\\\\\\\\\\\\", \\\\\\\\\\\\\\\"workspaceLocation\\\\\\\\\\\\\\\": \\\\\\\\\\\\\\\"southcentralus\\\\\\\\\\\\\\\"}}\\\\\\\", \\\\\\\"activities\\\\\\\": 0}\", \"EnableSubsampling\": null, \"runTemplate\": \"AutoML\", \"azureml.runsource\": \"automl\", \"display_task_type\": \"classification\", \"dependencies_versions\": \"{\\\"azureml-widgets\\\": \\\"1.20.0\\\", \\\"azureml-train\\\": \\\"1.20.0\\\", \\\"azureml-train-restclients-hyperdrive\\\": \\\"1.20.0\\\", \\\"azureml-train-core\\\": \\\"1.20.0\\\", \\\"azureml-train-automl\\\": \\\"1.20.0\\\", \\\"azureml-train-automl-runtime\\\": \\\"1.20.0\\\", \\\"azureml-train-automl-client\\\": \\\"1.20.0\\\", \\\"azureml-tensorboard\\\": \\\"1.20.0\\\", \\\"azureml-telemetry\\\": \\\"1.20.0\\\", \\\"azureml-sdk\\\": \\\"1.20.0\\\", \\\"azureml-samples\\\": \\\"0+unknown\\\", \\\"azureml-pipeline\\\": \\\"1.20.0\\\", \\\"azureml-pipeline-steps\\\": \\\"1.20.0\\\", \\\"azureml-pipeline-core\\\": \\\"1.20.0\\\", \\\"azureml-opendatasets\\\": \\\"1.20.0\\\", \\\"azureml-model-management-sdk\\\": \\\"1.0.1b6.post1\\\", \\\"azureml-mlflow\\\": \\\"1.20.0.post1\\\", \\\"azureml-interpret\\\": \\\"1.20.0\\\", \\\"azureml-explain-model\\\": \\\"1.20.0\\\", \\\"azureml-defaults\\\": \\\"1.20.0\\\", \\\"azureml-dataset-runtime\\\": \\\"1.20.0\\\", \\\"azureml-dataprep\\\": \\\"2.7.3\\\", \\\"azureml-dataprep-rslex\\\": \\\"1.5.0\\\", \\\"azureml-dataprep-native\\\": \\\"27.0.0\\\", \\\"azureml-datadrift\\\": \\\"1.20.0\\\", \\\"azureml-core\\\": \\\"1.20.0\\\", \\\"azureml-contrib-services\\\": \\\"1.20.0\\\", \\\"azureml-contrib-server\\\": \\\"1.20.0\\\", \\\"azureml-contrib-reinforcementlearning\\\": \\\"1.20.0\\\", \\\"azureml-contrib-pipeline-steps\\\": \\\"1.20.0\\\", \\\"azureml-contrib-notebook\\\": \\\"1.20.0\\\", \\\"azureml-contrib-interpret\\\": \\\"1.20.0\\\", \\\"azureml-contrib-gbdt\\\": \\\"1.20.0\\\", \\\"azureml-contrib-fairness\\\": \\\"1.20.0\\\", \\\"azureml-contrib-dataset\\\": \\\"1.20.0\\\", \\\"azureml-cli-common\\\": \\\"1.20.0\\\", \\\"azureml-automl-runtime\\\": \\\"1.20.0\\\", \\\"azureml-automl-core\\\": \\\"1.20.0\\\", \\\"azureml-accel-models\\\": \\\"1.20.0\\\"}\", \"_aml_system_scenario_identification\": \"Remote.Parent\", \"ClientType\": \"SDK\", \"environment_cpu_name\": \"AzureML-AutoML\", \"environment_cpu_label\": \"prod\", \"environment_gpu_name\": \"AzureML-AutoML-GPU\", \"environment_gpu_label\": \"prod\", \"root_attribution\": \"automl\", \"attribution\": \"AutoML\", \"Orchestrator\": \"AutoML\", \"CancelUri\": \"https://southcentralus.experiments.azureml.net/jasmine/v1.0/subscriptions/a24a24d5-8d87-4c8a-99b6-91ed2d2df51f/resourceGroups/aml-quickstarts-137970/providers/Microsoft.MachineLearningServices/workspaces/quick-starts-ws-137970/experimentids/539d8646-380c-4407-a767-39a1f9ed0078/cancel/AutoML_85117436-7ff3-40ec-b495-51c91b3eb1e8\", \"ClientSdkVersion\": \"1.21.0\", \"snapshotId\": \"00000000-0000-0000-0000-000000000000\", \"SetupRunId\": \"AutoML_85117436-7ff3-40ec-b495-51c91b3eb1e8_setup\", \"SetupRunContainerId\": \"dcid.AutoML_85117436-7ff3-40ec-b495-51c91b3eb1e8_setup\", \"FeaturizationRunJsonPath\": \"featurizer_container.json\", \"FeaturizationRunId\": \"AutoML_85117436-7ff3-40ec-b495-51c91b3eb1e8_featurize\", \"ProblemInfoJsonString\": \"{\\\"dataset_num_categorical\\\": 0, \\\"is_sparse\\\": false, \\\"subsampling\\\": false, \\\"dataset_classes\\\": 2, \\\"dataset_features\\\": 12, \\\"dataset_samples\\\": 299, \\\"single_frequency_class_detected\\\": false}\", \"ModelExplainRunId\": \"AutoML_85117436-7ff3-40ec-b495-51c91b3eb1e8_ModelExplain\"}, \"tags\": {\"model_explain_run\": \"best_run\", \"_aml_system_azureml.automlComponent\": \"AutoML\", \"pipeline_id\": \"\", \"score\": \"\", \"predicted_cost\": \"\", \"fit_time\": \"\", \"training_percent\": \"\", \"iteration\": \"\", \"run_preprocessor\": \"\", \"run_algorithm\": \"\", \"dynamic_whitelisting_iterations\": \"<25>;<30>;\", \"automl_best_child_run_id\": \"AutoML_85117436-7ff3-40ec-b495-51c91b3eb1e8_35\", \"model_explain_best_run_child_id\": \"AutoML_85117436-7ff3-40ec-b495-51c91b3eb1e8_35\"}, \"end_time_utc\": \"2021-02-07T19:56:15.222984Z\", \"status\": \"Completed\", \"log_files\": {}, \"log_groups\": [], \"run_duration\": \"0:22:26\"}, \"child_runs\": [{\"run_id\": \"AutoML_85117436-7ff3-40ec-b495-51c91b3eb1e8_1\", \"run_number\": 5, \"metric\": null, \"status\": \"Failed\", \"run_type\": null, \"training_percent\": \"100\", \"start_time\": \"2021-02-07T19:41:48.442333Z\", \"end_time\": \"2021-02-07T19:41:49.613911Z\", \"created_time\": \"2021-02-07T19:41:48.442333Z\", \"created_time_dt\": \"2021-02-07T19:41:48.442333Z\", \"duration\": \"0:00:01\", \"iteration\": \"1\", \"goal\": null, \"run_name\": \"Failed\", \"run_properties\": null}, {\"run_id\": \"AutoML_85117436-7ff3-40ec-b495-51c91b3eb1e8_0\", \"run_number\": 6, \"metric\": null, \"status\": \"Completed\", \"run_type\": \"azureml.scriptrun\", \"training_percent\": \"100\", \"start_time\": \"2021-02-07T19:43:02.897724Z\", \"end_time\": \"2021-02-07T19:43:51.809237Z\", \"created_time\": \"2021-02-07T19:41:48.445465Z\", \"created_time_dt\": \"2021-02-07T19:41:48.445465Z\", \"duration\": \"0:02:03\", \"iteration\": \"0\", \"goal\": \"accuracy_max\", \"run_name\": \"MaxAbsScaler, LightGBM\", \"run_properties\": \"copy=True\", \"primary_metric\": 0.8059887, \"best_metric\": 0.8059887}, {\"run_id\": \"AutoML_85117436-7ff3-40ec-b495-51c91b3eb1e8_2\", \"run_number\": 7, \"metric\": null, \"status\": \"Completed\", \"run_type\": \"azureml.scriptrun\", \"training_percent\": \"100\", \"start_time\": \"2021-02-07T19:42:02.702495Z\", \"end_time\": \"2021-02-07T19:42:59.699434Z\", \"created_time\": \"2021-02-07T19:41:48.947643Z\", \"created_time_dt\": \"2021-02-07T19:41:48.947643Z\", \"duration\": \"0:01:10\", \"iteration\": \"2\", \"goal\": \"accuracy_max\", \"run_name\": \"MinMaxScaler, RandomForest\", \"run_properties\": \"copy=True, feature_range=(0, 1\", \"primary_metric\": 0.85288136, \"best_metric\": 0.85288136}, {\"run_id\": \"AutoML_85117436-7ff3-40ec-b495-51c91b3eb1e8_3\", \"run_number\": 8, \"metric\": null, \"status\": \"Completed\", \"run_type\": \"azureml.scriptrun\", \"training_percent\": \"100\", \"start_time\": \"2021-02-07T19:43:57.792694Z\", \"end_time\": \"2021-02-07T19:44:49.740009Z\", \"created_time\": \"2021-02-07T19:41:48.441041Z\", \"created_time_dt\": \"2021-02-07T19:41:48.441041Z\", \"duration\": \"0:03:01\", \"iteration\": \"3\", \"goal\": \"accuracy_max\", \"run_name\": \"MinMaxScaler, RandomForest\", \"run_properties\": \"copy=True, feature_range=(0, 1\", \"primary_metric\": 0.83937853, \"best_metric\": 0.85288136}, {\"run_id\": \"AutoML_85117436-7ff3-40ec-b495-51c91b3eb1e8_4\", \"run_number\": 9, \"metric\": null, \"status\": \"Completed\", \"run_type\": \"azureml.scriptrun\", \"training_percent\": \"100\", \"start_time\": \"2021-02-07T19:43:57.191257Z\", \"end_time\": \"2021-02-07T19:47:20.4391Z\", \"created_time\": \"2021-02-07T19:41:58.487331Z\", \"created_time_dt\": \"2021-02-07T19:41:58.487331Z\", \"duration\": \"0:05:21\", \"iteration\": \"4\", \"goal\": \"accuracy_max\", \"run_name\": \"MinMaxScaler, RandomForest\", \"run_properties\": \"copy=True, feature_range=(0, 1\", \"primary_metric\": 0.8359887, \"best_metric\": 0.85288136}, {\"run_id\": \"AutoML_85117436-7ff3-40ec-b495-51c91b3eb1e8_5\", \"run_number\": 10, \"metric\": null, \"status\": \"Completed\", \"run_type\": \"azureml.scriptrun\", \"training_percent\": \"100\", \"start_time\": \"2021-02-07T19:43:56.98514Z\", \"end_time\": \"2021-02-07T19:47:23.834126Z\", \"created_time\": \"2021-02-07T19:43:03.315313Z\", \"created_time_dt\": \"2021-02-07T19:43:03.315313Z\", \"duration\": \"0:04:20\", \"iteration\": \"5\", \"goal\": \"accuracy_max\", \"run_name\": \"SparseNormalizer, XGBoostClassifier\", \"run_properties\": \"<azureml.automl.runtime.shared.model_wrappers.SparseNormalizer object at 0x7f62e6454828\", \"primary_metric\": 0.84282486, \"best_metric\": 0.85288136}, {\"run_id\": \"AutoML_85117436-7ff3-40ec-b495-51c91b3eb1e8_6\", \"run_number\": 11, \"metric\": null, \"status\": \"Completed\", \"run_type\": \"azureml.scriptrun\", \"training_percent\": \"100\", \"start_time\": \"2021-02-07T19:44:07.597388Z\", \"end_time\": \"2021-02-07T19:47:33.48062Z\", \"created_time\": \"2021-02-07T19:43:55.128687Z\", \"created_time_dt\": \"2021-02-07T19:43:55.128687Z\", \"duration\": \"0:03:38\", \"iteration\": \"6\", \"goal\": \"accuracy_max\", \"run_name\": \"RobustScaler, ExtremeRandomTrees\", \"run_properties\": \"copy=True, quantile_range=[25, 75], with_centering=False,\\n             with_scaling=False\", \"primary_metric\": 0.84282486, \"best_metric\": 0.85288136}, {\"run_id\": \"AutoML_85117436-7ff3-40ec-b495-51c91b3eb1e8_7\", \"run_number\": 12, \"metric\": null, \"status\": \"Completed\", \"run_type\": \"azureml.scriptrun\", \"training_percent\": \"100\", \"start_time\": \"2021-02-07T19:45:03.948811Z\", \"end_time\": \"2021-02-07T19:45:52.225274Z\", \"created_time\": \"2021-02-07T19:44:51.80487Z\", \"created_time_dt\": \"2021-02-07T19:44:51.80487Z\", \"duration\": \"0:01:00\", \"iteration\": \"7\", \"goal\": \"accuracy_max\", \"run_name\": \"MinMaxScaler, SVM\", \"run_properties\": \"copy=True, feature_range=(0, 1\", \"primary_metric\": 0.71576271, \"best_metric\": 0.85288136}, {\"run_id\": \"AutoML_85117436-7ff3-40ec-b495-51c91b3eb1e8_8\", \"run_number\": 13, \"metric\": null, \"status\": \"Completed\", \"run_type\": \"azureml.scriptrun\", \"training_percent\": \"100\", \"start_time\": \"2021-02-07T19:46:07.551934Z\", \"end_time\": \"2021-02-07T19:47:00.207398Z\", \"created_time\": \"2021-02-07T19:45:55.403041Z\", \"created_time_dt\": \"2021-02-07T19:45:55.403041Z\", \"duration\": \"0:01:04\", \"iteration\": \"8\", \"goal\": \"accuracy_max\", \"run_name\": \"MaxAbsScaler, GradientBoosting\", \"run_properties\": \"copy=True\", \"primary_metric\": 0.8259887, \"best_metric\": 0.85288136}, {\"run_id\": \"AutoML_85117436-7ff3-40ec-b495-51c91b3eb1e8_9\", \"run_number\": 14, \"metric\": null, \"status\": \"Completed\", \"run_type\": \"azureml.scriptrun\", \"training_percent\": \"100\", \"start_time\": \"2021-02-07T19:47:17.736458Z\", \"end_time\": \"2021-02-07T19:48:09.731338Z\", \"created_time\": \"2021-02-07T19:47:03.015577Z\", \"created_time_dt\": \"2021-02-07T19:47:03.015577Z\", \"duration\": \"0:01:06\", \"iteration\": \"9\", \"goal\": \"accuracy_max\", \"run_name\": \"SparseNormalizer, LightGBM\", \"run_properties\": \"<azureml.automl.runtime.shared.model_wrappers.SparseNormalizer object at 0x7f1f868e3748\", \"primary_metric\": 0.7360452, \"best_metric\": 0.85288136}, {\"run_id\": \"AutoML_85117436-7ff3-40ec-b495-51c91b3eb1e8_10\", \"run_number\": 15, \"metric\": null, \"status\": \"Completed\", \"run_type\": \"azureml.scriptrun\", \"training_percent\": \"100\", \"start_time\": \"2021-02-07T19:47:33.688429Z\", \"end_time\": \"2021-02-07T19:48:24.244065Z\", \"created_time\": \"2021-02-07T19:47:22.656366Z\", \"created_time_dt\": \"2021-02-07T19:47:22.656366Z\", \"duration\": \"0:01:01\", \"iteration\": \"10\", \"goal\": \"accuracy_max\", \"run_name\": \"StandardScalerWrapper, RandomForest\", \"run_properties\": \"<azureml.automl.runtime.shared.model_wrappers.StandardScalerWrapper object at 0x7fd172956438\", \"primary_metric\": 0.84282486, \"best_metric\": 0.85288136}, {\"run_id\": \"AutoML_85117436-7ff3-40ec-b495-51c91b3eb1e8_11\", \"run_number\": 16, \"metric\": null, \"status\": \"Completed\", \"run_type\": \"azureml.scriptrun\", \"training_percent\": \"100\", \"start_time\": \"2021-02-07T19:47:39.391777Z\", \"end_time\": \"2021-02-07T19:48:27.743166Z\", \"created_time\": \"2021-02-07T19:47:27.258407Z\", \"created_time_dt\": \"2021-02-07T19:47:27.258407Z\", \"duration\": \"0:01:00\", \"iteration\": \"11\", \"goal\": \"accuracy_max\", \"run_name\": \"RobustScaler, GradientBoosting\", \"run_properties\": \"copy=True, quantile_range=[25, 75], with_centering=False,\\n             with_scaling=False\", \"primary_metric\": 0.84949153, \"best_metric\": 0.85288136}, {\"run_id\": \"AutoML_85117436-7ff3-40ec-b495-51c91b3eb1e8_12\", \"run_number\": 17, \"metric\": null, \"status\": \"Completed\", \"run_type\": \"azureml.scriptrun\", \"training_percent\": \"100\", \"start_time\": \"2021-02-07T19:47:49.084122Z\", \"end_time\": \"2021-02-07T19:48:37.330805Z\", \"created_time\": \"2021-02-07T19:47:36.335248Z\", \"created_time_dt\": \"2021-02-07T19:47:36.335248Z\", \"duration\": \"0:01:00\", \"iteration\": \"12\", \"goal\": \"accuracy_max\", \"run_name\": \"SparseNormalizer, XGBoostClassifier\", \"run_properties\": \"<azureml.automl.runtime.shared.model_wrappers.SparseNormalizer object at 0x7fb4182d1a58\", \"primary_metric\": 0.80937853, \"best_metric\": 0.85288136}, {\"run_id\": \"AutoML_85117436-7ff3-40ec-b495-51c91b3eb1e8_13\", \"run_number\": 18, \"metric\": null, \"status\": \"Completed\", \"run_type\": \"azureml.scriptrun\", \"training_percent\": \"100\", \"start_time\": \"2021-02-07T19:48:26.231798Z\", \"end_time\": \"2021-02-07T19:49:11.368072Z\", \"created_time\": \"2021-02-07T19:48:12.948707Z\", \"created_time_dt\": \"2021-02-07T19:48:12.948707Z\", \"duration\": \"0:00:58\", \"iteration\": \"13\", \"goal\": \"accuracy_max\", \"run_name\": \"StandardScalerWrapper, RandomForest\", \"run_properties\": \"<azureml.automl.runtime.shared.model_wrappers.StandardScalerWrapper object at 0x7fd6e737f668\", \"primary_metric\": 0.83271186, \"best_metric\": 0.85288136}, {\"run_id\": \"AutoML_85117436-7ff3-40ec-b495-51c91b3eb1e8_14\", \"run_number\": 19, \"metric\": null, \"status\": \"Completed\", \"run_type\": \"azureml.scriptrun\", \"training_percent\": \"100\", \"start_time\": \"2021-02-07T19:48:40.714483Z\", \"end_time\": \"2021-02-07T19:49:36.021342Z\", \"created_time\": \"2021-02-07T19:48:27.022541Z\", \"created_time_dt\": \"2021-02-07T19:48:27.022541Z\", \"duration\": \"0:01:08\", \"iteration\": \"14\", \"goal\": \"accuracy_max\", \"run_name\": \"RobustScaler, ExtremeRandomTrees\", \"run_properties\": \"copy=True, quantile_range=[25, 75], with_centering=True,\\n             with_scaling=False\", \"primary_metric\": 0.85615819, \"best_metric\": 0.85615819}, {\"run_id\": \"AutoML_85117436-7ff3-40ec-b495-51c91b3eb1e8_15\", \"run_number\": 20, \"metric\": null, \"status\": \"Completed\", \"run_type\": \"azureml.scriptrun\", \"training_percent\": \"100\", \"start_time\": \"2021-02-07T19:48:48.384932Z\", \"end_time\": \"2021-02-07T19:49:43.753904Z\", \"created_time\": \"2021-02-07T19:48:33.359555Z\", \"created_time_dt\": \"2021-02-07T19:48:33.359555Z\", \"duration\": \"0:01:10\", \"iteration\": \"15\", \"goal\": \"accuracy_max\", \"run_name\": \"MaxAbsScaler, LightGBM\", \"run_properties\": \"copy=True\", \"primary_metric\": 0.8460452, \"best_metric\": 0.85615819}, {\"run_id\": \"AutoML_85117436-7ff3-40ec-b495-51c91b3eb1e8_16\", \"run_number\": 21, \"metric\": null, \"status\": \"Completed\", \"run_type\": \"azureml.scriptrun\", \"training_percent\": \"100\", \"start_time\": \"2021-02-07T19:48:50.914581Z\", \"end_time\": \"2021-02-07T19:49:38.444997Z\", \"created_time\": \"2021-02-07T19:48:40.611927Z\", \"created_time_dt\": \"2021-02-07T19:48:40.611927Z\", \"duration\": \"0:00:57\", \"iteration\": \"16\", \"goal\": \"accuracy_max\", \"run_name\": \"SparseNormalizer, XGBoostClassifier\", \"run_properties\": \"<azureml.automl.runtime.shared.model_wrappers.SparseNormalizer object at 0x7f5efc048208\", \"primary_metric\": 0.84293785, \"best_metric\": 0.85615819}, {\"run_id\": \"AutoML_85117436-7ff3-40ec-b495-51c91b3eb1e8_17\", \"run_number\": 22, \"metric\": null, \"status\": \"Completed\", \"run_type\": \"azureml.scriptrun\", \"training_percent\": \"100\", \"start_time\": \"2021-02-07T19:49:26.172512Z\", \"end_time\": \"2021-02-07T19:50:12.323901Z\", \"created_time\": \"2021-02-07T19:49:14.069814Z\", \"created_time_dt\": \"2021-02-07T19:49:14.069814Z\", \"duration\": \"0:00:58\", \"iteration\": \"17\", \"goal\": \"accuracy_max\", \"run_name\": \"SparseNormalizer, XGBoostClassifier\", \"run_properties\": \"<azureml.automl.runtime.shared.model_wrappers.SparseNormalizer object at 0x7f2f4879ea20\", \"primary_metric\": 0.84615819, \"best_metric\": 0.85615819}, {\"run_id\": \"AutoML_85117436-7ff3-40ec-b495-51c91b3eb1e8_18\", \"run_number\": 23, \"metric\": null, \"status\": \"Completed\", \"run_type\": \"azureml.scriptrun\", \"training_percent\": \"100\", \"start_time\": \"2021-02-07T19:49:52.25917Z\", \"end_time\": \"2021-02-07T19:50:40.184223Z\", \"created_time\": \"2021-02-07T19:49:39.973813Z\", \"created_time_dt\": \"2021-02-07T19:49:39.973813Z\", \"duration\": \"0:01:00\", \"iteration\": \"18\", \"goal\": \"accuracy_max\", \"run_name\": \"RobustScaler, LightGBM\", \"run_properties\": \"copy=True, quantile_range=[10, 90], with_centering=False,\\n             with_scaling=False\", \"primary_metric\": 0.78282486, \"best_metric\": 0.85615819}, {\"run_id\": \"AutoML_85117436-7ff3-40ec-b495-51c91b3eb1e8_19\", \"run_number\": 24, \"metric\": null, \"status\": \"Completed\", \"run_type\": \"azureml.scriptrun\", \"training_percent\": \"100\", \"start_time\": \"2021-02-07T19:49:57.06317Z\", \"end_time\": \"2021-02-07T19:50:45.093546Z\", \"created_time\": \"2021-02-07T19:49:44.126627Z\", \"created_time_dt\": \"2021-02-07T19:49:44.126627Z\", \"duration\": \"0:01:00\", \"iteration\": \"19\", \"goal\": \"accuracy_max\", \"run_name\": \"RobustScaler, LightGBM\", \"run_properties\": \"copy=True, quantile_range=[10, 90], with_centering=True,\\n             with_scaling=False\", \"primary_metric\": 0.7659322, \"best_metric\": 0.85615819}, {\"run_id\": \"AutoML_85117436-7ff3-40ec-b495-51c91b3eb1e8_20\", \"run_number\": 25, \"metric\": null, \"status\": \"Completed\", \"run_type\": \"azureml.scriptrun\", \"training_percent\": \"100\", \"start_time\": \"2021-02-07T19:50:02.612688Z\", \"end_time\": \"2021-02-07T19:50:58.063052Z\", \"created_time\": \"2021-02-07T19:49:48.939697Z\", \"created_time_dt\": \"2021-02-07T19:49:48.939697Z\", \"duration\": \"0:01:09\", \"iteration\": \"20\", \"goal\": \"accuracy_max\", \"run_name\": \"SparseNormalizer, XGBoostClassifier\", \"run_properties\": \"<azureml.automl.runtime.shared.model_wrappers.SparseNormalizer object at 0x7f84f9df1e80\", \"primary_metric\": 0.82282486, \"best_metric\": 0.85615819}, {\"run_id\": \"AutoML_85117436-7ff3-40ec-b495-51c91b3eb1e8_21\", \"run_number\": 26, \"metric\": null, \"status\": \"Completed\", \"run_type\": \"azureml.scriptrun\", \"training_percent\": \"100\", \"start_time\": \"2021-02-07T19:50:27.028256Z\", \"end_time\": \"2021-02-07T19:51:20.467897Z\", \"created_time\": \"2021-02-07T19:50:14.819291Z\", \"created_time_dt\": \"2021-02-07T19:50:14.819291Z\", \"duration\": \"0:01:05\", \"iteration\": \"21\", \"goal\": \"accuracy_max\", \"run_name\": \"SparseNormalizer, XGBoostClassifier\", \"run_properties\": \"<azureml.automl.runtime.shared.model_wrappers.SparseNormalizer object at 0x7f8745da9e80\", \"primary_metric\": 0.83276836, \"best_metric\": 0.85615819}, {\"run_id\": \"AutoML_85117436-7ff3-40ec-b495-51c91b3eb1e8_22\", \"run_number\": 27, \"metric\": null, \"status\": \"Completed\", \"run_type\": \"azureml.scriptrun\", \"training_percent\": \"100\", \"start_time\": \"2021-02-07T19:50:54.856231Z\", \"end_time\": \"2021-02-07T19:51:44.269508Z\", \"created_time\": \"2021-02-07T19:50:42.654086Z\", \"created_time_dt\": \"2021-02-07T19:50:42.654086Z\", \"duration\": \"0:01:01\", \"iteration\": \"22\", \"goal\": \"accuracy_max\", \"run_name\": \"RobustScaler, ExtremeRandomTrees\", \"run_properties\": \"copy=True, quantile_range=[25, 75], with_centering=True,\\n             with_scaling=False\", \"primary_metric\": 0.84949153, \"best_metric\": 0.85615819}, {\"run_id\": \"AutoML_85117436-7ff3-40ec-b495-51c91b3eb1e8_23\", \"run_number\": 28, \"metric\": null, \"status\": \"Completed\", \"run_type\": \"azureml.scriptrun\", \"training_percent\": \"100\", \"start_time\": \"2021-02-07T19:50:59.52662Z\", \"end_time\": \"2021-02-07T19:51:48.137206Z\", \"created_time\": \"2021-02-07T19:50:47.304829Z\", \"created_time_dt\": \"2021-02-07T19:50:47.304829Z\", \"duration\": \"0:01:00\", \"iteration\": \"23\", \"goal\": \"accuracy_max\", \"run_name\": \"SparseNormalizer, LightGBM\", \"run_properties\": \"<azureml.automl.runtime.shared.model_wrappers.SparseNormalizer object at 0x7f45377da978\", \"primary_metric\": 0.84621469, \"best_metric\": 0.85615819}, {\"run_id\": \"AutoML_85117436-7ff3-40ec-b495-51c91b3eb1e8_24\", \"run_number\": 29, \"metric\": null, \"status\": \"Completed\", \"run_type\": \"azureml.scriptrun\", \"training_percent\": \"100\", \"start_time\": \"2021-02-07T19:51:13.369937Z\", \"end_time\": \"2021-02-07T19:51:59.825818Z\", \"created_time\": \"2021-02-07T19:51:00.412624Z\", \"created_time_dt\": \"2021-02-07T19:51:00.412624Z\", \"duration\": \"0:00:59\", \"iteration\": \"24\", \"goal\": \"accuracy_max\", \"run_name\": \"MinMaxScaler, LightGBM\", \"run_properties\": \"copy=True, feature_range=(0, 1\", \"primary_metric\": 0.82932203, \"best_metric\": 0.85615819}, {\"run_id\": \"AutoML_85117436-7ff3-40ec-b495-51c91b3eb1e8_25\", \"run_number\": 30, \"metric\": null, \"status\": \"Completed\", \"run_type\": \"azureml.scriptrun\", \"training_percent\": \"100\", \"start_time\": \"2021-02-07T19:51:35.226716Z\", \"end_time\": \"2021-02-07T19:52:26.973432Z\", \"created_time\": \"2021-02-07T19:51:23.695332Z\", \"created_time_dt\": \"2021-02-07T19:51:23.695332Z\", \"duration\": \"0:01:03\", \"iteration\": \"25\", \"goal\": \"accuracy_max\", \"run_name\": \"StandardScalerWrapper, ExtremeRandomTrees\", \"run_properties\": \"<azureml.automl.runtime.shared.model_wrappers.StandardScalerWrapper object at 0x7f4d9f75f4e0\", \"primary_metric\": 0.37757062, \"best_metric\": 0.85615819}, {\"run_id\": \"AutoML_85117436-7ff3-40ec-b495-51c91b3eb1e8_26\", \"run_number\": 31, \"metric\": null, \"status\": \"Completed\", \"run_type\": \"azureml.scriptrun\", \"training_percent\": \"100\", \"start_time\": \"2021-02-07T19:51:58.311172Z\", \"end_time\": \"2021-02-07T19:52:50.628268Z\", \"created_time\": \"2021-02-07T19:51:46.542968Z\", \"created_time_dt\": \"2021-02-07T19:51:46.542968Z\", \"duration\": \"0:01:04\", \"iteration\": \"26\", \"goal\": \"accuracy_max\", \"run_name\": \"MaxAbsScaler, ExtremeRandomTrees\", \"run_properties\": \"copy=True\", \"primary_metric\": 0.80937853, \"best_metric\": 0.85615819}, {\"run_id\": \"AutoML_85117436-7ff3-40ec-b495-51c91b3eb1e8_27\", \"run_number\": 32, \"metric\": null, \"status\": \"Completed\", \"run_type\": \"azureml.scriptrun\", \"training_percent\": \"100\", \"start_time\": \"2021-02-07T19:52:01.692493Z\", \"end_time\": \"2021-02-07T19:52:50.552593Z\", \"created_time\": \"2021-02-07T19:51:50.771023Z\", \"created_time_dt\": \"2021-02-07T19:51:50.771023Z\", \"duration\": \"0:00:59\", \"iteration\": \"27\", \"goal\": \"accuracy_max\", \"run_name\": \"StandardScalerWrapper, ExtremeRandomTrees\", \"run_properties\": \"<azureml.automl.runtime.shared.model_wrappers.StandardScalerWrapper object at 0x7fe1ad256a20\", \"primary_metric\": 0.84282486, \"best_metric\": 0.85615819}, {\"run_id\": \"AutoML_85117436-7ff3-40ec-b495-51c91b3eb1e8_28\", \"run_number\": 33, \"metric\": null, \"status\": \"Completed\", \"run_type\": \"azureml.scriptrun\", \"training_percent\": \"100\", \"start_time\": \"2021-02-07T19:52:14.378938Z\", \"end_time\": \"2021-02-07T19:53:00.636439Z\", \"created_time\": \"2021-02-07T19:52:02.023031Z\", \"created_time_dt\": \"2021-02-07T19:52:02.023031Z\", \"duration\": \"0:00:58\", \"iteration\": \"28\", \"goal\": \"accuracy_max\", \"run_name\": \"StandardScalerWrapper, RandomForest\", \"run_properties\": \"<azureml.automl.runtime.shared.model_wrappers.StandardScalerWrapper object at 0x7f8477e7a9e8\", \"primary_metric\": 0.80570621, \"best_metric\": 0.85615819}, {\"run_id\": \"AutoML_85117436-7ff3-40ec-b495-51c91b3eb1e8_29\", \"run_number\": 34, \"metric\": null, \"status\": \"Completed\", \"run_type\": \"azureml.scriptrun\", \"training_percent\": \"100\", \"start_time\": \"2021-02-07T19:52:43.012084Z\", \"end_time\": \"2021-02-07T19:53:32.309925Z\", \"created_time\": \"2021-02-07T19:52:29.323849Z\", \"created_time_dt\": \"2021-02-07T19:52:29.323849Z\", \"duration\": \"0:01:02\", \"iteration\": \"29\", \"goal\": \"accuracy_max\", \"run_name\": \"StandardScalerWrapper, XGBoostClassifier\", \"run_properties\": \"<azureml.automl.runtime.shared.model_wrappers.StandardScalerWrapper object at 0x7f0497918940\", \"primary_metric\": 0.83937853, \"best_metric\": 0.85615819}, {\"run_id\": \"AutoML_85117436-7ff3-40ec-b495-51c91b3eb1e8_30\", \"run_number\": 35, \"metric\": null, \"status\": \"Completed\", \"run_type\": \"azureml.scriptrun\", \"training_percent\": \"100\", \"start_time\": \"2021-02-07T19:53:06.543111Z\", \"end_time\": \"2021-02-07T19:53:56.608389Z\", \"created_time\": \"2021-02-07T19:52:53.762466Z\", \"created_time_dt\": \"2021-02-07T19:52:53.762466Z\", \"duration\": \"0:01:02\", \"iteration\": \"30\", \"goal\": \"accuracy_max\", \"run_name\": \"StandardScalerWrapper, ExtremeRandomTrees\", \"run_properties\": \"<azureml.automl.runtime.shared.model_wrappers.StandardScalerWrapper object at 0x7fbd2ca055f8\", \"primary_metric\": 0.84615819, \"best_metric\": 0.85615819}, {\"run_id\": \"AutoML_85117436-7ff3-40ec-b495-51c91b3eb1e8_31\", \"run_number\": 36, \"metric\": null, \"status\": \"Completed\", \"run_type\": \"azureml.scriptrun\", \"training_percent\": \"100\", \"start_time\": \"2021-02-07T19:53:06.966469Z\", \"end_time\": \"2021-02-07T19:53:58.358574Z\", \"created_time\": \"2021-02-07T19:52:53.901407Z\", \"created_time_dt\": \"2021-02-07T19:52:53.901407Z\", \"duration\": \"0:01:04\", \"iteration\": \"31\", \"goal\": \"accuracy_max\", \"run_name\": \"StandardScalerWrapper, LightGBM\", \"run_properties\": \"<azureml.automl.runtime.shared.model_wrappers.StandardScalerWrapper object at 0x7f231041b9e8\", \"primary_metric\": 0.83610169, \"best_metric\": 0.85615819}, {\"run_id\": \"AutoML_85117436-7ff3-40ec-b495-51c91b3eb1e8_32\", \"run_number\": 37, \"metric\": null, \"status\": \"Completed\", \"run_type\": \"azureml.scriptrun\", \"training_percent\": \"100\", \"start_time\": \"2021-02-07T19:53:14.468556Z\", \"end_time\": \"2021-02-07T19:54:01.954778Z\", \"created_time\": \"2021-02-07T19:53:02.803721Z\", \"created_time_dt\": \"2021-02-07T19:53:02.803721Z\", \"duration\": \"0:00:59\", \"iteration\": \"32\", \"goal\": \"accuracy_max\", \"run_name\": \"StandardScalerWrapper, XGBoostClassifier\", \"run_properties\": \"<azureml.automl.runtime.shared.model_wrappers.StandardScalerWrapper object at 0x7fb5fdac5eb8\", \"primary_metric\": 0.83271186, \"best_metric\": 0.85615819}, {\"run_id\": \"AutoML_85117436-7ff3-40ec-b495-51c91b3eb1e8_33\", \"run_number\": 38, \"metric\": null, \"status\": \"Canceled\", \"run_type\": \"azureml.scriptrun\", \"training_percent\": \"100\", \"start_time\": \"2021-02-07T19:53:47.896957Z\", \"end_time\": \"2021-02-07T19:54:10.245361Z\", \"created_time\": \"2021-02-07T19:53:34.737051Z\", \"created_time_dt\": \"2021-02-07T19:53:34.737051Z\", \"duration\": \"0:00:35\", \"iteration\": \"33\", \"goal\": null, \"run_name\": \"Canceled\", \"run_properties\": null}, {\"run_id\": \"AutoML_85117436-7ff3-40ec-b495-51c91b3eb1e8_34\", \"run_number\": 39, \"metric\": null, \"status\": \"Canceled\", \"run_type\": \"azureml.scriptrun\", \"training_percent\": \"100\", \"start_time\": \"2021-02-07T19:53:58.972279Z\", \"end_time\": \"2021-02-07T19:54:17.776801Z\", \"created_time\": \"2021-02-07T19:53:58.972279Z\", \"created_time_dt\": \"2021-02-07T19:53:58.972279Z\", \"duration\": \"0:00:18\", \"iteration\": \"34\", \"goal\": null, \"run_name\": \"Canceled\", \"run_properties\": null}, {\"run_id\": \"AutoML_85117436-7ff3-40ec-b495-51c91b3eb1e8_35\", \"run_number\": 40, \"metric\": null, \"status\": \"Completed\", \"run_type\": \"azureml.scriptrun\", \"training_percent\": \"100\", \"start_time\": \"2021-02-07T19:54:32.272849Z\", \"end_time\": \"2021-02-07T19:56:05.882923Z\", \"created_time\": \"2021-02-07T19:54:19.2579Z\", \"created_time_dt\": \"2021-02-07T19:54:19.2579Z\", \"duration\": \"0:01:46\", \"iteration\": \"35\", \"goal\": \"accuracy_max\", \"run_name\": \"VotingEnsemble\", \"run_properties\": \"classification_labels=None,\\n                              estimators=[('14',\\n                                           Pipeline(memory=None,\\n                                                    steps=[('robustscaler',\\n                                                            RobustScaler(copy=True,\\n                                                                         quantile_range=[25,\\n                                                                                         75],\\n                                                                         with_centering=True,\\n                                                                         with_scaling=False\", \"primary_metric\": 0.87299435, \"best_metric\": 0.87299435}, {\"run_id\": \"AutoML_85117436-7ff3-40ec-b495-51c91b3eb1e8_36\", \"run_number\": 41, \"metric\": null, \"status\": \"Completed\", \"run_type\": \"azureml.scriptrun\", \"training_percent\": \"100\", \"start_time\": \"2021-02-07T19:54:34.35523Z\", \"end_time\": \"2021-02-07T19:55:54.117879Z\", \"created_time\": \"2021-02-07T19:54:19.383266Z\", \"created_time_dt\": \"2021-02-07T19:54:19.383266Z\", \"duration\": \"0:01:34\", \"iteration\": \"36\", \"goal\": \"accuracy_max\", \"run_name\": \"StackEnsemble\", \"run_properties\": \"base_learners=[('14',\\n                                        Pipeline(memory=None,\\n                                                 steps=[('robustscaler',\\n                                                         RobustScaler(copy=True,\\n                                                                      quantile_range=[25,\\n                                                                                      75],\\n                                                                      with_centering=True,\\n                                                                      with_scaling=False\", \"primary_metric\": 0.85293785, \"best_metric\": 0.87299435}], \"children_metrics\": {\"categories\": [0], \"series\": {\"AUC_macro\": [{\"categories\": [\"0\", \"2\", \"3\", \"4\", \"5\", \"6\", \"7\", \"8\", \"9\", \"10\", \"11\", \"12\", \"13\", \"14\", \"15\", \"16\", \"17\", \"18\", \"19\", \"20\", \"21\", \"22\", \"23\", \"24\", \"25\", \"26\", \"27\", \"28\", \"29\", \"30\", \"31\", \"32\", \"35\", \"36\"], \"mode\": \"markers\", \"name\": \"AUC_macro\", \"stepped\": false, \"type\": \"scatter\", \"data\": [0.8811331210778885, 0.8983745385751198, 0.9144017395717977, 0.9161339516426725, 0.8873670865633073, 0.8982470238095239, 0.7394446982281285, 0.9051816860465116, 0.8303234588409006, 0.897371746954596, 0.907922157622739, 0.8592381875230715, 0.8957692529531194, 0.8981141103728312, 0.9042281976744185, 0.8979113602805462, 0.8944780592469547, 0.8896257613510521, 0.8827188768918421, 0.8974649317091178, 0.8880440430047989, 0.8864086378737541, 0.893063030638612, 0.8977091408268734, 0.5155232558139534, 0.8835078442229605, 0.894734103912883, 0.9087946428571427, 0.877265711517165, 0.8996865310077519, 0.8906933370247323, 0.8954322051495017, 0.9175381598375785, 0.9186790328534513]}, {\"categories\": [\"0\", \"2\", \"3\", \"4\", \"5\", \"6\", \"7\", \"8\", \"9\", \"10\", \"11\", \"12\", \"13\", \"14\", \"15\", \"16\", \"17\", \"18\", \"19\", \"20\", \"21\", \"22\", \"23\", \"24\", \"25\", \"26\", \"27\", \"28\", \"29\", \"30\", \"31\", \"32\", \"35\", \"36\"], \"mode\": \"lines\", \"name\": \"AUC_macro_max\", \"stepped\": true, \"type\": \"scatter\", \"data\": [0.8811331210778885, 0.8983745385751198, 0.9144017395717977, 0.9161339516426725, 0.9161339516426725, 0.9161339516426725, 0.9161339516426725, 0.9161339516426725, 0.9161339516426725, 0.9161339516426725, 0.9161339516426725, 0.9161339516426725, 0.9161339516426725, 0.9161339516426725, 0.9161339516426725, 0.9161339516426725, 0.9161339516426725, 0.9161339516426725, 0.9161339516426725, 0.9161339516426725, 0.9161339516426725, 0.9161339516426725, 0.9161339516426725, 0.9161339516426725, 0.9161339516426725, 0.9161339516426725, 0.9161339516426725, 0.9161339516426725, 0.9161339516426725, 0.9161339516426725, 0.9161339516426725, 0.9161339516426725, 0.9175381598375785, 0.9186790328534513]}], \"recall_score_macro\": [{\"categories\": [\"0\", \"2\", \"3\", \"4\", \"5\", \"6\", \"7\", \"8\", \"9\", \"10\", \"11\", \"12\", \"13\", \"14\", \"15\", \"16\", \"17\", \"18\", \"19\", \"20\", \"21\", \"22\", \"23\", \"24\", \"25\", \"26\", \"27\", \"28\", \"29\", \"30\", \"31\", \"32\", \"35\", \"36\"], \"mode\": \"markers\", \"name\": \"recall_score_macro\", \"stepped\": false, \"type\": \"scatter\", \"data\": [0.7760209025470652, 0.8199916943521594, 0.7964756367663345, 0.8227429401993355, 0.8092988648947952, 0.8144815891472869, 0.6136780177187153, 0.7999453211517163, 0.6379761904761905, 0.8080530177187153, 0.8086524086378738, 0.7602512458471761, 0.8121518549280179, 0.8097279900332225, 0.8090607696566998, 0.8138946566998893, 0.8053488372093023, 0.6851785714285714, 0.6677893133997784, 0.7757101328903655, 0.7944774363233665, 0.7997279900332226, 0.8072279900332227, 0.8072667497231452, 0.51, 0.7944435215946843, 0.8258506367663344, 0.8086108803986711, 0.8015012458471761, 0.810140503875969, 0.8015012458471761, 0.7915012458471761, 0.8399702380952381, 0.8263946566998893]}, {\"categories\": [\"0\", \"2\", \"3\", \"4\", \"5\", \"6\", \"7\", \"8\", \"9\", \"10\", \"11\", \"12\", \"13\", \"14\", \"15\", \"16\", \"17\", \"18\", \"19\", \"20\", \"21\", \"22\", \"23\", \"24\", \"25\", \"26\", \"27\", \"28\", \"29\", \"30\", \"31\", \"32\", \"35\", \"36\"], \"mode\": \"lines\", \"name\": \"recall_score_macro_max\", \"stepped\": true, \"type\": \"scatter\", \"data\": [0.7760209025470652, 0.8199916943521594, 0.8199916943521594, 0.8227429401993355, 0.8227429401993355, 0.8227429401993355, 0.8227429401993355, 0.8227429401993355, 0.8227429401993355, 0.8227429401993355, 0.8227429401993355, 0.8227429401993355, 0.8227429401993355, 0.8227429401993355, 0.8227429401993355, 0.8227429401993355, 0.8227429401993355, 0.8227429401993355, 0.8227429401993355, 0.8227429401993355, 0.8227429401993355, 0.8227429401993355, 0.8227429401993355, 0.8227429401993355, 0.8227429401993355, 0.8227429401993355, 0.8258506367663344, 0.8258506367663344, 0.8258506367663344, 0.8258506367663344, 0.8258506367663344, 0.8258506367663344, 0.8399702380952381, 0.8399702380952381]}], \"precision_score_macro\": [{\"categories\": [\"0\", \"2\", \"3\", \"4\", \"5\", \"6\", \"7\", \"8\", \"9\", \"10\", \"11\", \"12\", \"13\", \"14\", \"15\", \"16\", \"17\", \"18\", \"19\", \"20\", \"21\", \"22\", \"23\", \"24\", \"25\", \"26\", \"27\", \"28\", \"29\", \"30\", \"31\", \"32\", \"35\", \"36\"], \"mode\": \"markers\", \"name\": \"precision_score_macro\", \"stepped\": false, \"type\": \"scatter\", \"data\": [0.7889041743265773, 0.8388289753981244, 0.8433872767354437, 0.8161569012382965, 0.8224477665517336, 0.8319784139938777, 0.6932988918837975, 0.8084154221127189, 0.7693400768179093, 0.83099621185279, 0.8451421531994452, 0.7842618251313904, 0.8109943293095467, 0.8680007529193619, 0.8355654079460381, 0.8368138262703478, 0.8425044946309667, 0.8374109686609685, 0.8031773549900233, 0.8248523629448281, 0.813319429287016, 0.86250447688957, 0.8459006211180125, 0.8102113202492373, 0.23806255651649702, 0.7843571517162128, 0.8203292781626208, 0.7784258508620494, 0.8272640716012234, 0.8439855310951337, 0.8255238812747884, 0.821192643029795, 0.8825869002123199, 0.8488413067462295]}, {\"categories\": [\"0\", \"2\", \"3\", \"4\", \"5\", \"6\", \"7\", \"8\", \"9\", \"10\", \"11\", \"12\", \"13\", \"14\", \"15\", \"16\", \"17\", \"18\", \"19\", \"20\", \"21\", \"22\", \"23\", \"24\", \"25\", \"26\", \"27\", \"28\", \"29\", \"30\", \"31\", \"32\", \"35\", \"36\"], \"mode\": \"lines\", \"name\": \"precision_score_macro_max\", \"stepped\": true, \"type\": \"scatter\", \"data\": [0.7889041743265773, 0.8388289753981244, 0.8433872767354437, 0.8433872767354437, 0.8433872767354437, 0.8433872767354437, 0.8433872767354437, 0.8433872767354437, 0.8433872767354437, 0.8433872767354437, 0.8451421531994452, 0.8451421531994452, 0.8451421531994452, 0.8680007529193619, 0.8680007529193619, 0.8680007529193619, 0.8680007529193619, 0.8680007529193619, 0.8680007529193619, 0.8680007529193619, 0.8680007529193619, 0.8680007529193619, 0.8680007529193619, 0.8680007529193619, 0.8680007529193619, 0.8680007529193619, 0.8680007529193619, 0.8680007529193619, 0.8680007529193619, 0.8680007529193619, 0.8680007529193619, 0.8680007529193619, 0.8825869002123199, 0.8825869002123199]}], \"recall_score_weighted\": [{\"categories\": [\"0\", \"2\", \"3\", \"4\", \"5\", \"6\", \"7\", \"8\", \"9\", \"10\", \"11\", \"12\", \"13\", \"14\", \"15\", \"16\", \"17\", \"18\", \"19\", \"20\", \"21\", \"22\", \"23\", \"24\", \"25\", \"26\", \"27\", \"28\", \"29\", \"30\", \"31\", \"32\", \"35\", \"36\"], \"mode\": \"markers\", \"name\": \"recall_score_weighted\", \"stepped\": false, \"type\": \"scatter\", \"data\": [0.8059887005649717, 0.8528813559322034, 0.8393785310734463, 0.8359887005649718, 0.8428248587570621, 0.8428248587570621, 0.7157627118644068, 0.8259887005649718, 0.736045197740113, 0.8428248587570621, 0.8494915254237287, 0.8093785310734465, 0.8327118644067797, 0.8561581920903955, 0.8460451977401131, 0.8429378531073446, 0.8461581920903954, 0.7828248587570622, 0.7659322033898305, 0.8228248587570622, 0.8327683615819209, 0.8494915254237287, 0.8462146892655367, 0.8293220338983052, 0.37757062146892656, 0.8093785310734465, 0.8428248587570621, 0.8057062146892655, 0.8393785310734463, 0.8461581920903953, 0.8361016949152542, 0.8327118644067797, 0.8729943502824857, 0.8529378531073446]}, {\"categories\": [\"0\", \"2\", \"3\", \"4\", \"5\", \"6\", \"7\", \"8\", \"9\", \"10\", \"11\", \"12\", \"13\", \"14\", \"15\", \"16\", \"17\", \"18\", \"19\", \"20\", \"21\", \"22\", \"23\", \"24\", \"25\", \"26\", \"27\", \"28\", \"29\", \"30\", \"31\", \"32\", \"35\", \"36\"], \"mode\": \"lines\", \"name\": \"recall_score_weighted_max\", \"stepped\": true, \"type\": \"scatter\", \"data\": [0.8059887005649717, 0.8528813559322034, 0.8528813559322034, 0.8528813559322034, 0.8528813559322034, 0.8528813559322034, 0.8528813559322034, 0.8528813559322034, 0.8528813559322034, 0.8528813559322034, 0.8528813559322034, 0.8528813559322034, 0.8528813559322034, 0.8561581920903955, 0.8561581920903955, 0.8561581920903955, 0.8561581920903955, 0.8561581920903955, 0.8561581920903955, 0.8561581920903955, 0.8561581920903955, 0.8561581920903955, 0.8561581920903955, 0.8561581920903955, 0.8561581920903955, 0.8561581920903955, 0.8561581920903955, 0.8561581920903955, 0.8561581920903955, 0.8561581920903955, 0.8561581920903955, 0.8561581920903955, 0.8729943502824857, 0.8729943502824857]}], \"accuracy\": [{\"categories\": [\"0\", \"2\", \"3\", \"4\", \"5\", \"6\", \"7\", \"8\", \"9\", \"10\", \"11\", \"12\", \"13\", \"14\", \"15\", \"16\", \"17\", \"18\", \"19\", \"20\", \"21\", \"22\", \"23\", \"24\", \"25\", \"26\", \"27\", \"28\", \"29\", \"30\", \"31\", \"32\", \"35\", \"36\"], \"mode\": \"markers\", \"name\": \"accuracy\", \"stepped\": false, \"type\": \"scatter\", \"data\": [0.8059887005649717, 0.8528813559322034, 0.8393785310734463, 0.8359887005649718, 0.8428248587570621, 0.8428248587570621, 0.7157627118644068, 0.8259887005649718, 0.736045197740113, 0.8428248587570621, 0.8494915254237287, 0.8093785310734465, 0.8327118644067797, 0.8561581920903955, 0.8460451977401131, 0.8429378531073446, 0.8461581920903954, 0.7828248587570622, 0.7659322033898305, 0.8228248587570622, 0.8327683615819209, 0.8494915254237287, 0.8462146892655367, 0.8293220338983052, 0.37757062146892656, 0.8093785310734465, 0.8428248587570621, 0.8057062146892655, 0.8393785310734463, 0.8461581920903953, 0.8361016949152542, 0.8327118644067797, 0.8729943502824857, 0.8529378531073446]}, {\"categories\": [\"0\", \"2\", \"3\", \"4\", \"5\", \"6\", \"7\", \"8\", \"9\", \"10\", \"11\", \"12\", \"13\", \"14\", \"15\", \"16\", \"17\", \"18\", \"19\", \"20\", \"21\", \"22\", \"23\", \"24\", \"25\", \"26\", \"27\", \"28\", \"29\", \"30\", \"31\", \"32\", \"35\", \"36\"], \"mode\": \"lines\", \"name\": \"accuracy_max\", \"stepped\": true, \"type\": \"scatter\", \"data\": [0.8059887005649717, 0.8528813559322034, 0.8528813559322034, 0.8528813559322034, 0.8528813559322034, 0.8528813559322034, 0.8528813559322034, 0.8528813559322034, 0.8528813559322034, 0.8528813559322034, 0.8528813559322034, 0.8528813559322034, 0.8528813559322034, 0.8561581920903955, 0.8561581920903955, 0.8561581920903955, 0.8561581920903955, 0.8561581920903955, 0.8561581920903955, 0.8561581920903955, 0.8561581920903955, 0.8561581920903955, 0.8561581920903955, 0.8561581920903955, 0.8561581920903955, 0.8561581920903955, 0.8561581920903955, 0.8561581920903955, 0.8561581920903955, 0.8561581920903955, 0.8561581920903955, 0.8561581920903955, 0.8729943502824857, 0.8729943502824857]}], \"recall_score_micro\": [{\"categories\": [\"0\", \"2\", \"3\", \"4\", \"5\", \"6\", \"7\", \"8\", \"9\", \"10\", \"11\", \"12\", \"13\", \"14\", \"15\", \"16\", \"17\", \"18\", \"19\", \"20\", \"21\", \"22\", \"23\", \"24\", \"25\", \"26\", \"27\", \"28\", \"29\", \"30\", \"31\", \"32\", \"35\", \"36\"], \"mode\": \"markers\", \"name\": \"recall_score_micro\", \"stepped\": false, \"type\": \"scatter\", \"data\": [0.8059887005649717, 0.8528813559322034, 0.8393785310734463, 0.8359887005649718, 0.8428248587570621, 0.8428248587570621, 0.7157627118644068, 0.8259887005649718, 0.736045197740113, 0.8428248587570621, 0.8494915254237287, 0.8093785310734465, 0.8327118644067797, 0.8561581920903955, 0.8460451977401131, 0.8429378531073446, 0.8461581920903954, 0.7828248587570622, 0.7659322033898305, 0.8228248587570622, 0.8327683615819209, 0.8494915254237287, 0.8462146892655367, 0.8293220338983052, 0.37757062146892656, 0.8093785310734465, 0.8428248587570621, 0.8057062146892655, 0.8393785310734463, 0.8461581920903953, 0.8361016949152542, 0.8327118644067797, 0.8729943502824857, 0.8529378531073446]}, {\"categories\": [\"0\", \"2\", \"3\", \"4\", \"5\", \"6\", \"7\", \"8\", \"9\", \"10\", \"11\", \"12\", \"13\", \"14\", \"15\", \"16\", \"17\", \"18\", \"19\", \"20\", \"21\", \"22\", \"23\", \"24\", \"25\", \"26\", \"27\", \"28\", \"29\", \"30\", \"31\", \"32\", \"35\", \"36\"], \"mode\": \"lines\", \"name\": \"recall_score_micro_max\", \"stepped\": true, \"type\": \"scatter\", \"data\": [0.8059887005649717, 0.8528813559322034, 0.8528813559322034, 0.8528813559322034, 0.8528813559322034, 0.8528813559322034, 0.8528813559322034, 0.8528813559322034, 0.8528813559322034, 0.8528813559322034, 0.8528813559322034, 0.8528813559322034, 0.8528813559322034, 0.8561581920903955, 0.8561581920903955, 0.8561581920903955, 0.8561581920903955, 0.8561581920903955, 0.8561581920903955, 0.8561581920903955, 0.8561581920903955, 0.8561581920903955, 0.8561581920903955, 0.8561581920903955, 0.8561581920903955, 0.8561581920903955, 0.8561581920903955, 0.8561581920903955, 0.8561581920903955, 0.8561581920903955, 0.8561581920903955, 0.8561581920903955, 0.8729943502824857, 0.8729943502824857]}], \"average_precision_score_macro\": [{\"categories\": [\"0\", \"2\", \"3\", \"4\", \"5\", \"6\", \"7\", \"8\", \"9\", \"10\", \"11\", \"12\", \"13\", \"14\", \"15\", \"16\", \"17\", \"18\", \"19\", \"20\", \"21\", \"22\", \"23\", \"24\", \"25\", \"26\", \"27\", \"28\", \"29\", \"30\", \"31\", \"32\", \"35\", \"36\"], \"mode\": \"markers\", \"name\": \"average_precision_score_macro\", \"stepped\": false, \"type\": \"scatter\", \"data\": [0.8655792376041671, 0.8802396366613984, 0.898666477794189, 0.8983293709552115, 0.8786579420127492, 0.8918565277646241, 0.7186142324259727, 0.8985701815314066, 0.799425832504898, 0.8857650351272348, 0.8979151235895728, 0.8329476717741734, 0.8705448826707087, 0.8897332888154679, 0.8949398558279773, 0.8703823470225807, 0.8827141677722498, 0.8784589484531675, 0.8669814541700814, 0.8738698705256456, 0.8728164922211705, 0.8764926610726242, 0.8809497611659742, 0.8866673487636181, 0.5077903541743417, 0.8722107072568764, 0.8851081303126408, 0.8992879890420798, 0.837948679090571, 0.8876176699065799, 0.8819556674146056, 0.8841759266110877, 0.9048322035366674, 0.9059467524476318]}, {\"categories\": [\"0\", \"2\", \"3\", \"4\", \"5\", \"6\", \"7\", \"8\", \"9\", \"10\", \"11\", \"12\", \"13\", \"14\", \"15\", \"16\", \"17\", \"18\", \"19\", \"20\", \"21\", \"22\", \"23\", \"24\", \"25\", \"26\", \"27\", \"28\", \"29\", \"30\", \"31\", \"32\", \"35\", \"36\"], \"mode\": \"lines\", \"name\": \"average_precision_score_macro_max\", \"stepped\": true, \"type\": \"scatter\", \"data\": [0.8655792376041671, 0.8802396366613984, 0.898666477794189, 0.898666477794189, 0.898666477794189, 0.898666477794189, 0.898666477794189, 0.898666477794189, 0.898666477794189, 0.898666477794189, 0.898666477794189, 0.898666477794189, 0.898666477794189, 0.898666477794189, 0.898666477794189, 0.898666477794189, 0.898666477794189, 0.898666477794189, 0.898666477794189, 0.898666477794189, 0.898666477794189, 0.898666477794189, 0.898666477794189, 0.898666477794189, 0.898666477794189, 0.898666477794189, 0.898666477794189, 0.8992879890420798, 0.8992879890420798, 0.8992879890420798, 0.8992879890420798, 0.8992879890420798, 0.9048322035366674, 0.9059467524476318]}], \"f1_score_macro\": [{\"categories\": [\"0\", \"2\", \"3\", \"4\", \"5\", \"6\", \"7\", \"8\", \"9\", \"10\", \"11\", \"12\", \"13\", \"14\", \"15\", \"16\", \"17\", \"18\", \"19\", \"20\", \"21\", \"22\", \"23\", \"24\", \"25\", \"26\", \"27\", \"28\", \"29\", \"30\", \"31\", \"32\", \"35\", \"36\"], \"mode\": \"markers\", \"name\": \"f1_score_macro\", \"stepped\": false, \"type\": \"scatter\", \"data\": [0.7682096405971308, 0.8226584262112036, 0.8000022248516224, 0.8087458555080289, 0.809390400884902, 0.8127679564934173, 0.607716498208941, 0.7915876299912983, 0.6252048522662619, 0.810651819733382, 0.8137371116537784, 0.7611013563473851, 0.8017475914297849, 0.8214168772724776, 0.8136400838443922, 0.8109772755518655, 0.8101538122371454, 0.6954283489899218, 0.6706996613073369, 0.7768327327539442, 0.7958654704230824, 0.8124670101227522, 0.8108496983686244, 0.7972080905726279, 0.2997633581007075, 0.7789567940576309, 0.8140908331639658, 0.782754568897077, 0.8031633221593509, 0.8143592195392418, 0.8013715046110628, 0.794854593019428, 0.8460326632991864, 0.822709003554215]}, {\"categories\": [\"0\", \"2\", \"3\", \"4\", \"5\", \"6\", \"7\", \"8\", \"9\", \"10\", \"11\", \"12\", \"13\", \"14\", \"15\", \"16\", \"17\", \"18\", \"19\", \"20\", \"21\", \"22\", \"23\", \"24\", \"25\", \"26\", \"27\", \"28\", \"29\", \"30\", \"31\", \"32\", \"35\", \"36\"], \"mode\": \"lines\", \"name\": \"f1_score_macro_max\", \"stepped\": true, \"type\": \"scatter\", \"data\": [0.7682096405971308, 0.8226584262112036, 0.8226584262112036, 0.8226584262112036, 0.8226584262112036, 0.8226584262112036, 0.8226584262112036, 0.8226584262112036, 0.8226584262112036, 0.8226584262112036, 0.8226584262112036, 0.8226584262112036, 0.8226584262112036, 0.8226584262112036, 0.8226584262112036, 0.8226584262112036, 0.8226584262112036, 0.8226584262112036, 0.8226584262112036, 0.8226584262112036, 0.8226584262112036, 0.8226584262112036, 0.8226584262112036, 0.8226584262112036, 0.8226584262112036, 0.8226584262112036, 0.8226584262112036, 0.8226584262112036, 0.8226584262112036, 0.8226584262112036, 0.8226584262112036, 0.8226584262112036, 0.8460326632991864, 0.8460326632991864]}], \"norm_macro_recall\": [{\"categories\": [\"0\", \"2\", \"3\", \"4\", \"5\", \"6\", \"7\", \"8\", \"9\", \"10\", \"11\", \"12\", \"13\", \"14\", \"15\", \"16\", \"17\", \"18\", \"19\", \"20\", \"21\", \"22\", \"23\", \"24\", \"25\", \"26\", \"27\", \"28\", \"29\", \"30\", \"31\", \"32\", \"35\", \"36\"], \"mode\": \"markers\", \"name\": \"norm_macro_recall\", \"stepped\": false, \"type\": \"scatter\", \"data\": [0.5520418050941306, 0.6399833887043189, 0.592951273532669, 0.6454858803986709, 0.6185977297895903, 0.6289631782945737, 0.22735603543743074, 0.5998906423034329, 0.275952380952381, 0.6161060354374308, 0.6173048172757475, 0.5205024916943521, 0.6243037098560353, 0.6194559800664452, 0.6181215393133997, 0.6277893133997786, 0.6106976744186047, 0.37035714285714283, 0.3355786267995571, 0.5514202657807308, 0.5889548726467331, 0.5994559800664453, 0.6144559800664452, 0.6145334994462901, 0.020000000000000018, 0.5888870431893688, 0.6517012735326688, 0.6172217607973421, 0.6030024916943522, 0.620281007751938, 0.6030024916943522, 0.5830024916943521, 0.6799404761904763, 0.6527893133997785]}, {\"categories\": [\"0\", \"2\", \"3\", \"4\", \"5\", \"6\", \"7\", \"8\", \"9\", \"10\", \"11\", \"12\", \"13\", \"14\", \"15\", \"16\", \"17\", \"18\", \"19\", \"20\", \"21\", \"22\", \"23\", \"24\", \"25\", \"26\", \"27\", \"28\", \"29\", \"30\", \"31\", \"32\", \"35\", \"36\"], \"mode\": \"lines\", \"name\": \"norm_macro_recall_max\", \"stepped\": true, \"type\": \"scatter\", \"data\": [0.5520418050941306, 0.6399833887043189, 0.6399833887043189, 0.6454858803986709, 0.6454858803986709, 0.6454858803986709, 0.6454858803986709, 0.6454858803986709, 0.6454858803986709, 0.6454858803986709, 0.6454858803986709, 0.6454858803986709, 0.6454858803986709, 0.6454858803986709, 0.6454858803986709, 0.6454858803986709, 0.6454858803986709, 0.6454858803986709, 0.6454858803986709, 0.6454858803986709, 0.6454858803986709, 0.6454858803986709, 0.6454858803986709, 0.6454858803986709, 0.6454858803986709, 0.6454858803986709, 0.6517012735326688, 0.6517012735326688, 0.6517012735326688, 0.6517012735326688, 0.6517012735326688, 0.6517012735326688, 0.6799404761904763, 0.6799404761904763]}], \"log_loss\": [{\"categories\": [\"0\", \"2\", \"3\", \"4\", \"5\", \"6\", \"7\", \"8\", \"9\", \"10\", \"11\", \"12\", \"13\", \"14\", \"15\", \"16\", \"17\", \"18\", \"19\", \"20\", \"21\", \"22\", \"23\", \"24\", \"25\", \"26\", \"27\", \"28\", \"29\", \"30\", \"31\", \"32\", \"35\", \"36\"], \"mode\": \"markers\", \"name\": \"log_loss\", \"stepped\": false, \"type\": \"scatter\", \"data\": [0.5282491261622873, 0.388018473950755, 0.3826944272697129, 0.38376426735565633, 0.4057467521585977, 0.40106607547714185, 0.5817838366204624, 0.3759266279496746, 0.5184056250785269, 0.4050625125163858, 0.38433895931436013, 0.4899611430866921, 0.38649067583513425, 0.4108616081748761, 0.4249549102616344, 0.4005910240067803, 0.39424331638853444, 0.4849891849008321, 0.49801622531538586, 0.39622241912559064, 0.4110133539009667, 0.41966094827995243, 0.42475415144911965, 0.39131707117541703, 0.6949878407968496, 0.48233457347774156, 0.4560106285364059, 0.4566183556870067, 0.4733839279378659, 0.39512651168156493, 0.43199461094092906, 0.4329821181628268, 0.3842550753224467, 0.38638831967521503]}, {\"categories\": [\"0\", \"2\", \"3\", \"4\", \"5\", \"6\", \"7\", \"8\", \"9\", \"10\", \"11\", \"12\", \"13\", \"14\", \"15\", \"16\", \"17\", \"18\", \"19\", \"20\", \"21\", \"22\", \"23\", \"24\", \"25\", \"26\", \"27\", \"28\", \"29\", \"30\", \"31\", \"32\", \"35\", \"36\"], \"mode\": \"lines\", \"name\": \"log_loss_min\", \"stepped\": true, \"type\": \"scatter\", \"data\": [0.5282491261622873, 0.388018473950755, 0.3826944272697129, 0.3826944272697129, 0.3826944272697129, 0.3826944272697129, 0.3826944272697129, 0.3759266279496746, 0.3759266279496746, 0.3759266279496746, 0.3759266279496746, 0.3759266279496746, 0.3759266279496746, 0.3759266279496746, 0.3759266279496746, 0.3759266279496746, 0.3759266279496746, 0.3759266279496746, 0.3759266279496746, 0.3759266279496746, 0.3759266279496746, 0.3759266279496746, 0.3759266279496746, 0.3759266279496746, 0.3759266279496746, 0.3759266279496746, 0.3759266279496746, 0.3759266279496746, 0.3759266279496746, 0.3759266279496746, 0.3759266279496746, 0.3759266279496746, 0.3759266279496746, 0.3759266279496746]}], \"AUC_weighted\": [{\"categories\": [\"0\", \"2\", \"3\", \"4\", \"5\", \"6\", \"7\", \"8\", \"9\", \"10\", \"11\", \"12\", \"13\", \"14\", \"15\", \"16\", \"17\", \"18\", \"19\", \"20\", \"21\", \"22\", \"23\", \"24\", \"25\", \"26\", \"27\", \"28\", \"29\", \"30\", \"31\", \"32\", \"35\", \"36\"], \"mode\": \"markers\", \"name\": \"AUC_weighted\", \"stepped\": false, \"type\": \"scatter\", \"data\": [0.8811331210778885, 0.8983745385751198, 0.9144017395717976, 0.9161339516426725, 0.8873670865633075, 0.8982470238095239, 0.7394446982281285, 0.9051816860465116, 0.8303234588409006, 0.8973717469545957, 0.907922157622739, 0.8592381875230715, 0.8957692529531194, 0.8981141103728312, 0.9042281976744185, 0.8979113602805462, 0.8944780592469546, 0.8896257613510521, 0.8827188768918421, 0.8974649317091178, 0.8880440430047989, 0.8864086378737541, 0.893063030638612, 0.8977091408268734, 0.5155232558139534, 0.8835078442229605, 0.894734103912883, 0.9087946428571427, 0.877265711517165, 0.8996865310077519, 0.8906933370247323, 0.8954322051495017, 0.9175381598375782, 0.9186790328534513]}, {\"categories\": [\"0\", \"2\", \"3\", \"4\", \"5\", \"6\", \"7\", \"8\", \"9\", \"10\", \"11\", \"12\", \"13\", \"14\", \"15\", \"16\", \"17\", \"18\", \"19\", \"20\", \"21\", \"22\", \"23\", \"24\", \"25\", \"26\", \"27\", \"28\", \"29\", \"30\", \"31\", \"32\", \"35\", \"36\"], \"mode\": \"lines\", \"name\": \"AUC_weighted_max\", \"stepped\": true, \"type\": \"scatter\", \"data\": [0.8811331210778885, 0.8983745385751198, 0.9144017395717976, 0.9161339516426725, 0.9161339516426725, 0.9161339516426725, 0.9161339516426725, 0.9161339516426725, 0.9161339516426725, 0.9161339516426725, 0.9161339516426725, 0.9161339516426725, 0.9161339516426725, 0.9161339516426725, 0.9161339516426725, 0.9161339516426725, 0.9161339516426725, 0.9161339516426725, 0.9161339516426725, 0.9161339516426725, 0.9161339516426725, 0.9161339516426725, 0.9161339516426725, 0.9161339516426725, 0.9161339516426725, 0.9161339516426725, 0.9161339516426725, 0.9161339516426725, 0.9161339516426725, 0.9161339516426725, 0.9161339516426725, 0.9161339516426725, 0.9175381598375782, 0.9186790328534513]}], \"precision_score_weighted\": [{\"categories\": [\"0\", \"2\", \"3\", \"4\", \"5\", \"6\", \"7\", \"8\", \"9\", \"10\", \"11\", \"12\", \"13\", \"14\", \"15\", \"16\", \"17\", \"18\", \"19\", \"20\", \"21\", \"22\", \"23\", \"24\", \"25\", \"26\", \"27\", \"28\", \"29\", \"30\", \"31\", \"32\", \"35\", \"36\"], \"mode\": \"markers\", \"name\": \"precision_score_weighted\", \"stepped\": false, \"type\": \"scatter\", \"data\": [0.8237683758533973, 0.8590028328578635, 0.8566702880455821, 0.8530752806515517, 0.8508335778133362, 0.854785772469325, 0.7236857824097991, 0.8419543698341124, 0.7792163027878148, 0.8509257262025421, 0.8603634456336771, 0.8196810460480322, 0.8475541765722312, 0.868704209301694, 0.8531691259234815, 0.8587403824375084, 0.8595500654174952, 0.8195201764128317, 0.7972357830392003, 0.8454421284857526, 0.8412099723283661, 0.8624215928959587, 0.8599504041361079, 0.8449252615884892, 0.20896043110540496, 0.8278981365541511, 0.8583027833745313, 0.8355899734896939, 0.8493857957271078, 0.8580895892860317, 0.8480247880963226, 0.842401668742981, 0.8876404315985645, 0.8699795220731431]}, {\"categories\": [\"0\", \"2\", \"3\", \"4\", \"5\", \"6\", \"7\", \"8\", \"9\", \"10\", \"11\", \"12\", \"13\", \"14\", \"15\", \"16\", \"17\", \"18\", \"19\", \"20\", \"21\", \"22\", \"23\", \"24\", \"25\", \"26\", \"27\", \"28\", \"29\", \"30\", \"31\", \"32\", \"35\", \"36\"], \"mode\": \"lines\", \"name\": \"precision_score_weighted_max\", \"stepped\": true, \"type\": \"scatter\", \"data\": [0.8237683758533973, 0.8590028328578635, 0.8590028328578635, 0.8590028328578635, 0.8590028328578635, 0.8590028328578635, 0.8590028328578635, 0.8590028328578635, 0.8590028328578635, 0.8590028328578635, 0.8603634456336771, 0.8603634456336771, 0.8603634456336771, 0.868704209301694, 0.868704209301694, 0.868704209301694, 0.868704209301694, 0.868704209301694, 0.868704209301694, 0.868704209301694, 0.868704209301694, 0.868704209301694, 0.868704209301694, 0.868704209301694, 0.868704209301694, 0.868704209301694, 0.868704209301694, 0.868704209301694, 0.868704209301694, 0.868704209301694, 0.868704209301694, 0.868704209301694, 0.8876404315985645, 0.8876404315985645]}], \"f1_score_micro\": [{\"categories\": [\"0\", \"2\", \"3\", \"4\", \"5\", \"6\", \"7\", \"8\", \"9\", \"10\", \"11\", \"12\", \"13\", \"14\", \"15\", \"16\", \"17\", \"18\", \"19\", \"20\", \"21\", \"22\", \"23\", \"24\", \"25\", \"26\", \"27\", \"28\", \"29\", \"30\", \"31\", \"32\", \"35\", \"36\"], \"mode\": \"markers\", \"name\": \"f1_score_micro\", \"stepped\": false, \"type\": \"scatter\", \"data\": [0.8059887005649718, 0.8528813559322034, 0.8393785310734463, 0.8359887005649718, 0.8428248587570621, 0.8428248587570621, 0.7157627118644068, 0.8259887005649718, 0.736045197740113, 0.8428248587570621, 0.8494915254237287, 0.8093785310734465, 0.8327118644067797, 0.8561581920903955, 0.8460451977401131, 0.8429378531073446, 0.8461581920903954, 0.7828248587570622, 0.7659322033898305, 0.8228248587570622, 0.8327683615819209, 0.8494915254237287, 0.8462146892655367, 0.8293220338983052, 0.37757062146892656, 0.8093785310734465, 0.8428248587570621, 0.8057062146892655, 0.8393785310734463, 0.8461581920903953, 0.8361016949152542, 0.8327118644067797, 0.8729943502824857, 0.8529378531073446]}, {\"categories\": [\"0\", \"2\", \"3\", \"4\", \"5\", \"6\", \"7\", \"8\", \"9\", \"10\", \"11\", \"12\", \"13\", \"14\", \"15\", \"16\", \"17\", \"18\", \"19\", \"20\", \"21\", \"22\", \"23\", \"24\", \"25\", \"26\", \"27\", \"28\", \"29\", \"30\", \"31\", \"32\", \"35\", \"36\"], \"mode\": \"lines\", \"name\": \"f1_score_micro_max\", \"stepped\": true, \"type\": \"scatter\", \"data\": [0.8059887005649718, 0.8528813559322034, 0.8528813559322034, 0.8528813559322034, 0.8528813559322034, 0.8528813559322034, 0.8528813559322034, 0.8528813559322034, 0.8528813559322034, 0.8528813559322034, 0.8528813559322034, 0.8528813559322034, 0.8528813559322034, 0.8561581920903955, 0.8561581920903955, 0.8561581920903955, 0.8561581920903955, 0.8561581920903955, 0.8561581920903955, 0.8561581920903955, 0.8561581920903955, 0.8561581920903955, 0.8561581920903955, 0.8561581920903955, 0.8561581920903955, 0.8561581920903955, 0.8561581920903955, 0.8561581920903955, 0.8561581920903955, 0.8561581920903955, 0.8561581920903955, 0.8561581920903955, 0.8729943502824857, 0.8729943502824857]}], \"precision_score_micro\": [{\"categories\": [\"0\", \"2\", \"3\", \"4\", \"5\", \"6\", \"7\", \"8\", \"9\", \"10\", \"11\", \"12\", \"13\", \"14\", \"15\", \"16\", \"17\", \"18\", \"19\", \"20\", \"21\", \"22\", \"23\", \"24\", \"25\", \"26\", \"27\", \"28\", \"29\", \"30\", \"31\", \"32\", \"35\", \"36\"], \"mode\": \"markers\", \"name\": \"precision_score_micro\", \"stepped\": false, \"type\": \"scatter\", \"data\": [0.8059887005649717, 0.8528813559322034, 0.8393785310734463, 0.8359887005649718, 0.8428248587570621, 0.8428248587570621, 0.7157627118644068, 0.8259887005649718, 0.736045197740113, 0.8428248587570621, 0.8494915254237287, 0.8093785310734465, 0.8327118644067797, 0.8561581920903955, 0.8460451977401131, 0.8429378531073446, 0.8461581920903954, 0.7828248587570622, 0.7659322033898305, 0.8228248587570622, 0.8327683615819209, 0.8494915254237287, 0.8462146892655367, 0.8293220338983052, 0.37757062146892656, 0.8093785310734465, 0.8428248587570621, 0.8057062146892655, 0.8393785310734463, 0.8461581920903953, 0.8361016949152542, 0.8327118644067797, 0.8729943502824857, 0.8529378531073446]}, {\"categories\": [\"0\", \"2\", \"3\", \"4\", \"5\", \"6\", \"7\", \"8\", \"9\", \"10\", \"11\", \"12\", \"13\", \"14\", \"15\", \"16\", \"17\", \"18\", \"19\", \"20\", \"21\", \"22\", \"23\", \"24\", \"25\", \"26\", \"27\", \"28\", \"29\", \"30\", \"31\", \"32\", \"35\", \"36\"], \"mode\": \"lines\", \"name\": \"precision_score_micro_max\", \"stepped\": true, \"type\": \"scatter\", \"data\": [0.8059887005649717, 0.8528813559322034, 0.8528813559322034, 0.8528813559322034, 0.8528813559322034, 0.8528813559322034, 0.8528813559322034, 0.8528813559322034, 0.8528813559322034, 0.8528813559322034, 0.8528813559322034, 0.8528813559322034, 0.8528813559322034, 0.8561581920903955, 0.8561581920903955, 0.8561581920903955, 0.8561581920903955, 0.8561581920903955, 0.8561581920903955, 0.8561581920903955, 0.8561581920903955, 0.8561581920903955, 0.8561581920903955, 0.8561581920903955, 0.8561581920903955, 0.8561581920903955, 0.8561581920903955, 0.8561581920903955, 0.8561581920903955, 0.8561581920903955, 0.8561581920903955, 0.8561581920903955, 0.8729943502824857, 0.8729943502824857]}], \"average_precision_score_weighted\": [{\"categories\": [\"0\", \"2\", \"3\", \"4\", \"5\", \"6\", \"7\", \"8\", \"9\", \"10\", \"11\", \"12\", \"13\", \"14\", \"15\", \"16\", \"17\", \"18\", \"19\", \"20\", \"21\", \"22\", \"23\", \"24\", \"25\", \"26\", \"27\", \"28\", \"29\", \"30\", \"31\", \"32\", \"35\", \"36\"], \"mode\": \"markers\", \"name\": \"average_precision_score_weighted\", \"stepped\": false, \"type\": \"scatter\", \"data\": [0.8955370396295249, 0.9101284942442263, 0.9234074431678787, 0.9250907521817663, 0.905034988094851, 0.9137301810074672, 0.7676902863525574, 0.9205022545240114, 0.8458920762759519, 0.9115984017864707, 0.920032860412579, 0.8720059756545379, 0.903825886740897, 0.913003038385721, 0.9182639428948713, 0.9042876098201482, 0.9085203702370863, 0.9027295052958386, 0.8990671903385158, 0.9089115070864834, 0.8996577363836538, 0.90075211005732, 0.906134722236349, 0.9114889021122602, 0.5870303223965092, 0.8975026399349881, 0.9085231470606396, 0.9223767840951961, 0.8719859993097812, 0.9130819016757954, 0.9057894515886135, 0.9060200443651156, 0.927591818820497, 0.928450294697282]}, {\"categories\": [\"0\", \"2\", \"3\", \"4\", \"5\", \"6\", \"7\", \"8\", \"9\", \"10\", \"11\", \"12\", \"13\", \"14\", \"15\", \"16\", \"17\", \"18\", \"19\", \"20\", \"21\", \"22\", \"23\", \"24\", \"25\", \"26\", \"27\", \"28\", \"29\", \"30\", \"31\", \"32\", \"35\", \"36\"], \"mode\": \"lines\", \"name\": \"average_precision_score_weighted_max\", \"stepped\": true, \"type\": \"scatter\", \"data\": [0.8955370396295249, 0.9101284942442263, 0.9234074431678787, 0.9250907521817663, 0.9250907521817663, 0.9250907521817663, 0.9250907521817663, 0.9250907521817663, 0.9250907521817663, 0.9250907521817663, 0.9250907521817663, 0.9250907521817663, 0.9250907521817663, 0.9250907521817663, 0.9250907521817663, 0.9250907521817663, 0.9250907521817663, 0.9250907521817663, 0.9250907521817663, 0.9250907521817663, 0.9250907521817663, 0.9250907521817663, 0.9250907521817663, 0.9250907521817663, 0.9250907521817663, 0.9250907521817663, 0.9250907521817663, 0.9250907521817663, 0.9250907521817663, 0.9250907521817663, 0.9250907521817663, 0.9250907521817663, 0.927591818820497, 0.928450294697282]}], \"f1_score_weighted\": [{\"categories\": [\"0\", \"2\", \"3\", \"4\", \"5\", \"6\", \"7\", \"8\", \"9\", \"10\", \"11\", \"12\", \"13\", \"14\", \"15\", \"16\", \"17\", \"18\", \"19\", \"20\", \"21\", \"22\", \"23\", \"24\", \"25\", \"26\", \"27\", \"28\", \"29\", \"30\", \"31\", \"32\", \"35\", \"36\"], \"mode\": \"markers\", \"name\": \"f1_score_weighted\", \"stepped\": false, \"type\": \"scatter\", \"data\": [0.8014398448329555, 0.8499404896086868, 0.8297172400437438, 0.8351178783623417, 0.8405655843695568, 0.8390789473805758, 0.6816896644106021, 0.8219325339770815, 0.6920924975909098, 0.8386570910646924, 0.8430920227153749, 0.8039757220257486, 0.8314324644608048, 0.8478659546996994, 0.8414895456242963, 0.8383859995716654, 0.8404266222721967, 0.7496145898483952, 0.7286214043860831, 0.8137297699171275, 0.8293207502954869, 0.84046304303031, 0.8396707170022832, 0.8264522757674648, 0.2508126163923591, 0.8097536224514158, 0.8435174441536601, 0.8121434520521367, 0.8337762918263184, 0.8408746427793684, 0.8308159120176024, 0.8267330740257194, 0.8672342871168602, 0.8485613208191027]}, {\"categories\": [\"0\", \"2\", \"3\", \"4\", \"5\", \"6\", \"7\", \"8\", \"9\", \"10\", \"11\", \"12\", \"13\", \"14\", \"15\", \"16\", \"17\", \"18\", \"19\", \"20\", \"21\", \"22\", \"23\", \"24\", \"25\", \"26\", \"27\", \"28\", \"29\", \"30\", \"31\", \"32\", \"35\", \"36\"], \"mode\": \"lines\", \"name\": \"f1_score_weighted_max\", \"stepped\": true, \"type\": \"scatter\", \"data\": [0.8014398448329555, 0.8499404896086868, 0.8499404896086868, 0.8499404896086868, 0.8499404896086868, 0.8499404896086868, 0.8499404896086868, 0.8499404896086868, 0.8499404896086868, 0.8499404896086868, 0.8499404896086868, 0.8499404896086868, 0.8499404896086868, 0.8499404896086868, 0.8499404896086868, 0.8499404896086868, 0.8499404896086868, 0.8499404896086868, 0.8499404896086868, 0.8499404896086868, 0.8499404896086868, 0.8499404896086868, 0.8499404896086868, 0.8499404896086868, 0.8499404896086868, 0.8499404896086868, 0.8499404896086868, 0.8499404896086868, 0.8499404896086868, 0.8499404896086868, 0.8499404896086868, 0.8499404896086868, 0.8672342871168602, 0.8672342871168602]}], \"average_precision_score_micro\": [{\"categories\": [\"0\", \"2\", \"3\", \"4\", \"5\", \"6\", \"7\", \"8\", \"9\", \"10\", \"11\", \"12\", \"13\", \"14\", \"15\", \"16\", \"17\", \"18\", \"19\", \"20\", \"21\", \"22\", \"23\", \"24\", \"25\", \"26\", \"27\", \"28\", \"29\", \"30\", \"31\", \"32\", \"35\", \"36\"], \"mode\": \"markers\", \"name\": \"average_precision_score_micro\", \"stepped\": false, \"type\": \"scatter\", \"data\": [0.887958292631032, 0.9102273512649809, 0.9137079438456768, 0.9164632850843368, 0.897904668591808, 0.9084436423674573, 0.7642577372779671, 0.9117641061325086, 0.8377483843872803, 0.9072377921025832, 0.9091471921085447, 0.8723071880091318, 0.9062152573855233, 0.9060683010432126, 0.909216697909528, 0.9026007491297514, 0.9042447745018253, 0.873901049972404, 0.8766683090034386, 0.9044458223285808, 0.8965090567765113, 0.8951201528793895, 0.9000224430720667, 0.9051320090457612, 0.47061766827267804, 0.8866724516292489, 0.8998780359710497, 0.9063544463233171, 0.8704098153013918, 0.9075129289565578, 0.8978341700643646, 0.8984293833786829, 0.9197613825109109, 0.9100699715351498]}, {\"categories\": [\"0\", \"2\", \"3\", \"4\", \"5\", \"6\", \"7\", \"8\", \"9\", \"10\", \"11\", \"12\", \"13\", \"14\", \"15\", \"16\", \"17\", \"18\", \"19\", \"20\", \"21\", \"22\", \"23\", \"24\", \"25\", \"26\", \"27\", \"28\", \"29\", \"30\", \"31\", \"32\", \"35\", \"36\"], \"mode\": \"lines\", \"name\": \"average_precision_score_micro_max\", \"stepped\": true, \"type\": \"scatter\", \"data\": [0.887958292631032, 0.9102273512649809, 0.9137079438456768, 0.9164632850843368, 0.9164632850843368, 0.9164632850843368, 0.9164632850843368, 0.9164632850843368, 0.9164632850843368, 0.9164632850843368, 0.9164632850843368, 0.9164632850843368, 0.9164632850843368, 0.9164632850843368, 0.9164632850843368, 0.9164632850843368, 0.9164632850843368, 0.9164632850843368, 0.9164632850843368, 0.9164632850843368, 0.9164632850843368, 0.9164632850843368, 0.9164632850843368, 0.9164632850843368, 0.9164632850843368, 0.9164632850843368, 0.9164632850843368, 0.9164632850843368, 0.9164632850843368, 0.9164632850843368, 0.9164632850843368, 0.9164632850843368, 0.9197613825109109, 0.9197613825109109]}], \"matthews_correlation\": [{\"categories\": [\"0\", \"2\", \"3\", \"4\", \"5\", \"6\", \"7\", \"8\", \"9\", \"10\", \"11\", \"12\", \"13\", \"14\", \"15\", \"16\", \"17\", \"18\", \"19\", \"20\", \"21\", \"22\", \"23\", \"24\", \"25\", \"26\", \"27\", \"28\", \"29\", \"30\", \"31\", \"32\", \"35\", \"36\"], \"mode\": \"markers\", \"name\": \"matthews_correlation\", \"stepped\": false, \"type\": \"scatter\", \"data\": [0.5628617041183437, 0.6577698197456543, 0.6355670651138497, 0.6372060727768355, 0.631091389877947, 0.6449463844649168, 0.29393285163834626, 0.6064673088642788, 0.37006932289245953, 0.6378018339806368, 0.6513395851695426, 0.5428697166604373, 0.6215849204632912, 0.6733697034632289, 0.6434829400534046, 0.6476747744796524, 0.6451955059526496, 0.4971790607440004, 0.4472452299373761, 0.5944741037596385, 0.606839730266081, 0.6575507377412014, 0.649556463408713, 0.6156390388766951, 0.020922631238637655, 0.5772030028718749, 0.6443927206712503, 0.5855217052043441, 0.6271103105643536, 0.6518011477348625, 0.6251022832698401, 0.6109833255302364, 0.7189991168025636, 0.6721322932587004]}, {\"categories\": [\"0\", \"2\", \"3\", \"4\", \"5\", \"6\", \"7\", \"8\", \"9\", \"10\", \"11\", \"12\", \"13\", \"14\", \"15\", \"16\", \"17\", \"18\", \"19\", \"20\", \"21\", \"22\", \"23\", \"24\", \"25\", \"26\", \"27\", \"28\", \"29\", \"30\", \"31\", \"32\", \"35\", \"36\"], \"mode\": \"lines\", \"name\": \"matthews_correlation_max\", \"stepped\": true, \"type\": \"scatter\", \"data\": [0.5628617041183437, 0.6577698197456543, 0.6577698197456543, 0.6577698197456543, 0.6577698197456543, 0.6577698197456543, 0.6577698197456543, 0.6577698197456543, 0.6577698197456543, 0.6577698197456543, 0.6577698197456543, 0.6577698197456543, 0.6577698197456543, 0.6733697034632289, 0.6733697034632289, 0.6733697034632289, 0.6733697034632289, 0.6733697034632289, 0.6733697034632289, 0.6733697034632289, 0.6733697034632289, 0.6733697034632289, 0.6733697034632289, 0.6733697034632289, 0.6733697034632289, 0.6733697034632289, 0.6733697034632289, 0.6733697034632289, 0.6733697034632289, 0.6733697034632289, 0.6733697034632289, 0.6733697034632289, 0.7189991168025636, 0.7189991168025636]}], \"balanced_accuracy\": [{\"categories\": [\"0\", \"2\", \"3\", \"4\", \"5\", \"6\", \"7\", \"8\", \"9\", \"10\", \"11\", \"12\", \"13\", \"14\", \"15\", \"16\", \"17\", \"18\", \"19\", \"20\", \"21\", \"22\", \"23\", \"24\", \"25\", \"26\", \"27\", \"28\", \"29\", \"30\", \"31\", \"32\", \"35\", \"36\"], \"mode\": \"markers\", \"name\": \"balanced_accuracy\", \"stepped\": false, \"type\": \"scatter\", \"data\": [0.7760209025470652, 0.8199916943521594, 0.7964756367663345, 0.8227429401993355, 0.8092988648947952, 0.8144815891472869, 0.6136780177187153, 0.7999453211517163, 0.6379761904761905, 0.8080530177187153, 0.8086524086378738, 0.7602512458471761, 0.8121518549280179, 0.8097279900332225, 0.8090607696566998, 0.8138946566998893, 0.8053488372093023, 0.6851785714285714, 0.6677893133997784, 0.7757101328903655, 0.7944774363233665, 0.7997279900332226, 0.8072279900332227, 0.8072667497231452, 0.51, 0.7944435215946843, 0.8258506367663344, 0.8086108803986711, 0.8015012458471761, 0.810140503875969, 0.8015012458471761, 0.7915012458471761, 0.8399702380952381, 0.8263946566998893]}, {\"categories\": [\"0\", \"2\", \"3\", \"4\", \"5\", \"6\", \"7\", \"8\", \"9\", \"10\", \"11\", \"12\", \"13\", \"14\", \"15\", \"16\", \"17\", \"18\", \"19\", \"20\", \"21\", \"22\", \"23\", \"24\", \"25\", \"26\", \"27\", \"28\", \"29\", \"30\", \"31\", \"32\", \"35\", \"36\"], \"mode\": \"lines\", \"name\": \"balanced_accuracy_max\", \"stepped\": true, \"type\": \"scatter\", \"data\": [0.7760209025470652, 0.8199916943521594, 0.8199916943521594, 0.8227429401993355, 0.8227429401993355, 0.8227429401993355, 0.8227429401993355, 0.8227429401993355, 0.8227429401993355, 0.8227429401993355, 0.8227429401993355, 0.8227429401993355, 0.8227429401993355, 0.8227429401993355, 0.8227429401993355, 0.8227429401993355, 0.8227429401993355, 0.8227429401993355, 0.8227429401993355, 0.8227429401993355, 0.8227429401993355, 0.8227429401993355, 0.8227429401993355, 0.8227429401993355, 0.8227429401993355, 0.8227429401993355, 0.8258506367663344, 0.8258506367663344, 0.8258506367663344, 0.8258506367663344, 0.8258506367663344, 0.8258506367663344, 0.8399702380952381, 0.8399702380952381]}], \"weighted_accuracy\": [{\"categories\": [\"0\", \"2\", \"3\", \"4\", \"5\", \"6\", \"7\", \"8\", \"9\", \"10\", \"11\", \"12\", \"13\", \"14\", \"15\", \"16\", \"17\", \"18\", \"19\", \"20\", \"21\", \"22\", \"23\", \"24\", \"25\", \"26\", \"27\", \"28\", \"29\", \"30\", \"31\", \"32\", \"35\", \"36\"], \"mode\": \"markers\", \"name\": \"weighted_accuracy\", \"stepped\": false, \"type\": \"scatter\", \"data\": [0.8252063202764133, 0.8737541685162494, 0.8691231589182035, 0.8459722506958347, 0.863741199386866, 0.8619941827276391, 0.7843086047737575, 0.84264099961133, 0.8032567402089587, 0.8670915278603821, 0.8764817661031159, 0.8396048623725025, 0.8471558006003571, 0.8878706161799638, 0.8714073957752442, 0.8632247217176658, 0.8731189342447088, 0.8482943439246929, 0.8329659895236341, 0.8535686900997972, 0.8571236642303697, 0.8838706161799637, 0.8736261003213637, 0.8447971682734853, 0.29681340997921457, 0.8196944089640565, 0.8547757201213575, 0.8029346082367532, 0.8643107447254437, 0.870481072020173, 0.8608897582786085, 0.8603107447254438, 0.8950749382888548, 0.8712247217176656]}, {\"categories\": [\"0\", \"2\", \"3\", \"4\", \"5\", \"6\", \"7\", \"8\", \"9\", \"10\", \"11\", \"12\", \"13\", \"14\", \"15\", \"16\", \"17\", \"18\", \"19\", \"20\", \"21\", \"22\", \"23\", \"24\", \"25\", \"26\", \"27\", \"28\", \"29\", \"30\", \"31\", \"32\", \"35\", \"36\"], \"mode\": \"lines\", \"name\": \"weighted_accuracy_max\", \"stepped\": true, \"type\": \"scatter\", \"data\": [0.8252063202764133, 0.8737541685162494, 0.8737541685162494, 0.8737541685162494, 0.8737541685162494, 0.8737541685162494, 0.8737541685162494, 0.8737541685162494, 0.8737541685162494, 0.8737541685162494, 0.8764817661031159, 0.8764817661031159, 0.8764817661031159, 0.8878706161799638, 0.8878706161799638, 0.8878706161799638, 0.8878706161799638, 0.8878706161799638, 0.8878706161799638, 0.8878706161799638, 0.8878706161799638, 0.8878706161799638, 0.8878706161799638, 0.8878706161799638, 0.8878706161799638, 0.8878706161799638, 0.8878706161799638, 0.8878706161799638, 0.8878706161799638, 0.8878706161799638, 0.8878706161799638, 0.8878706161799638, 0.8950749382888548, 0.8950749382888548]}], \"AUC_micro\": [{\"categories\": [\"0\", \"2\", \"3\", \"4\", \"5\", \"6\", \"7\", \"8\", \"9\", \"10\", \"11\", \"12\", \"13\", \"14\", \"15\", \"16\", \"17\", \"18\", \"19\", \"20\", \"21\", \"22\", \"23\", \"24\", \"25\", \"26\", \"27\", \"28\", \"29\", \"30\", \"31\", \"32\", \"35\", \"36\"], \"mode\": \"markers\", \"name\": \"AUC_micro\", \"stepped\": false, \"type\": \"scatter\", \"data\": [0.8880105014523284, 0.9122716652302978, 0.9106776469086151, 0.9143837179609946, 0.8986486801366146, 0.9106690925340738, 0.7840642056880206, 0.9115508634172811, 0.8328210603594114, 0.9060223754349005, 0.9132341440837562, 0.8762564716396948, 0.9052759424175683, 0.9041980593060742, 0.9068671039611861, 0.9041391681828339, 0.9027768680775001, 0.8692911360081714, 0.8660447029908391, 0.8994345175396598, 0.8993466756040729, 0.8938305403938843, 0.9001282517795015, 0.9046491589262345, 0.3681427910242906, 0.891436432698139, 0.902903667528488, 0.9037778575760477, 0.8866092757509018, 0.9065793513996617, 0.8983120271952505, 0.9025456446104249, 0.9182507580835647, 0.9093865587794057]}, {\"categories\": [\"0\", \"2\", \"3\", \"4\", \"5\", \"6\", \"7\", \"8\", \"9\", \"10\", \"11\", \"12\", \"13\", \"14\", \"15\", \"16\", \"17\", \"18\", \"19\", \"20\", \"21\", \"22\", \"23\", \"24\", \"25\", \"26\", \"27\", \"28\", \"29\", \"30\", \"31\", \"32\", \"35\", \"36\"], \"mode\": \"lines\", \"name\": \"AUC_micro_max\", \"stepped\": true, \"type\": \"scatter\", \"data\": [0.8880105014523284, 0.9122716652302978, 0.9122716652302978, 0.9143837179609946, 0.9143837179609946, 0.9143837179609946, 0.9143837179609946, 0.9143837179609946, 0.9143837179609946, 0.9143837179609946, 0.9143837179609946, 0.9143837179609946, 0.9143837179609946, 0.9143837179609946, 0.9143837179609946, 0.9143837179609946, 0.9143837179609946, 0.9143837179609946, 0.9143837179609946, 0.9143837179609946, 0.9143837179609946, 0.9143837179609946, 0.9143837179609946, 0.9143837179609946, 0.9143837179609946, 0.9143837179609946, 0.9143837179609946, 0.9143837179609946, 0.9143837179609946, 0.9143837179609946, 0.9143837179609946, 0.9143837179609946, 0.9182507580835647, 0.9182507580835647]}]}, \"metricName\": null, \"primaryMetricName\": \"accuracy\", \"showLegend\": false}, \"run_metrics\": [{\"name\": \"experiment_status\", \"run_id\": \"AutoML_85117436-7ff3-40ec-b495-51c91b3eb1e8\", \"categories\": [0, 1, 2, 3, 4, 5, 6, 7, 8, 9, 10, 11, 12, 13], \"series\": [{\"data\": [\"DatasetEvaluation\", \"FeaturesGeneration\", \"DatasetFeaturization\", \"DatasetFeaturizationCompleted\", \"DatasetCrossValidationSplit\", \"ModelSelection\", \"BestRunExplainModel\", \"ModelExplanationDataSetSetup\", \"PickSurrogateModel\", \"EngineeredFeatureExplanations\", \"EngineeredFeatureExplanations\", \"RawFeaturesExplanations\", \"RawFeaturesExplanations\", \"BestRunExplainModel\"]}]}, {\"name\": \"experiment_status_description\", \"run_id\": \"AutoML_85117436-7ff3-40ec-b495-51c91b3eb1e8\", \"categories\": [0, 1, 2, 3, 4, 5, 6, 7, 8, 9, 10, 11, 12, 13], \"series\": [{\"data\": [\"Gathering dataset statistics.\", \"Generating features for the dataset.\", \"Beginning to fit featurizers and featurize the dataset.\", \"Completed fit featurizers and featurizing the dataset.\", \"Generating individually featurized CV splits.\", \"Beginning model selection.\", \"Best run model explanations started\", \"Model explanations data setup completed\", \"Choosing LightGBM as the surrogate model for explanations\", \"Computation of engineered features started\", \"Computation of engineered features completed\", \"Computation of raw features started\", \"Computation of raw features completed\", \"Best run model explanations completed\"]}]}, {\"name\": \"precision_score_micro\", \"run_id\": \"AutoML_85117436-7ff3-40ec-b495-51c91b3eb1e8\", \"categories\": [0], \"series\": [{\"data\": [0.8729943502824857]}]}, {\"name\": \"recall_score_micro\", \"run_id\": \"AutoML_85117436-7ff3-40ec-b495-51c91b3eb1e8\", \"categories\": [0], \"series\": [{\"data\": [0.8729943502824857]}]}, {\"name\": \"AUC_weighted\", \"run_id\": \"AutoML_85117436-7ff3-40ec-b495-51c91b3eb1e8\", \"categories\": [0], \"series\": [{\"data\": [0.9175381598375782]}]}, {\"name\": \"f1_score_weighted\", \"run_id\": \"AutoML_85117436-7ff3-40ec-b495-51c91b3eb1e8\", \"categories\": [0], \"series\": [{\"data\": [0.8672342871168602]}]}, {\"name\": \"f1_score_micro\", \"run_id\": \"AutoML_85117436-7ff3-40ec-b495-51c91b3eb1e8\", \"categories\": [0], \"series\": [{\"data\": [0.8729943502824857]}]}, {\"name\": \"AUC_macro\", \"run_id\": \"AutoML_85117436-7ff3-40ec-b495-51c91b3eb1e8\", \"categories\": [0], \"series\": [{\"data\": [0.9175381598375785]}]}, {\"name\": \"accuracy\", \"run_id\": \"AutoML_85117436-7ff3-40ec-b495-51c91b3eb1e8\", \"categories\": [0], \"series\": [{\"data\": [0.8729943502824857]}]}, {\"name\": \"precision_score_weighted\", \"run_id\": \"AutoML_85117436-7ff3-40ec-b495-51c91b3eb1e8\", \"categories\": [0], \"series\": [{\"data\": [0.8876404315985645]}]}, {\"name\": \"balanced_accuracy\", \"run_id\": \"AutoML_85117436-7ff3-40ec-b495-51c91b3eb1e8\", \"categories\": [0], \"series\": [{\"data\": [0.8399702380952381]}]}, {\"name\": \"AUC_micro\", \"run_id\": \"AutoML_85117436-7ff3-40ec-b495-51c91b3eb1e8\", \"categories\": [0], \"series\": [{\"data\": [0.9182507580835647]}]}, {\"name\": \"matthews_correlation\", \"run_id\": \"AutoML_85117436-7ff3-40ec-b495-51c91b3eb1e8\", \"categories\": [0], \"series\": [{\"data\": [0.7189991168025636]}]}, {\"name\": \"norm_macro_recall\", \"run_id\": \"AutoML_85117436-7ff3-40ec-b495-51c91b3eb1e8\", \"categories\": [0], \"series\": [{\"data\": [0.6799404761904763]}]}, {\"name\": \"average_precision_score_micro\", \"run_id\": \"AutoML_85117436-7ff3-40ec-b495-51c91b3eb1e8\", \"categories\": [0], \"series\": [{\"data\": [0.9197613825109109]}]}, {\"name\": \"weighted_accuracy\", \"run_id\": \"AutoML_85117436-7ff3-40ec-b495-51c91b3eb1e8\", \"categories\": [0], \"series\": [{\"data\": [0.8950749382888548]}]}, {\"name\": \"average_precision_score_weighted\", \"run_id\": \"AutoML_85117436-7ff3-40ec-b495-51c91b3eb1e8\", \"categories\": [0], \"series\": [{\"data\": [0.927591818820497]}]}, {\"name\": \"recall_score_weighted\", \"run_id\": \"AutoML_85117436-7ff3-40ec-b495-51c91b3eb1e8\", \"categories\": [0], \"series\": [{\"data\": [0.8729943502824857]}]}, {\"name\": \"recall_score_macro\", \"run_id\": \"AutoML_85117436-7ff3-40ec-b495-51c91b3eb1e8\", \"categories\": [0], \"series\": [{\"data\": [0.8399702380952381]}]}, {\"name\": \"f1_score_macro\", \"run_id\": \"AutoML_85117436-7ff3-40ec-b495-51c91b3eb1e8\", \"categories\": [0], \"series\": [{\"data\": [0.8460326632991864]}]}, {\"name\": \"average_precision_score_macro\", \"run_id\": \"AutoML_85117436-7ff3-40ec-b495-51c91b3eb1e8\", \"categories\": [0], \"series\": [{\"data\": [0.9048322035366674]}]}, {\"name\": \"precision_score_macro\", \"run_id\": \"AutoML_85117436-7ff3-40ec-b495-51c91b3eb1e8\", \"categories\": [0], \"series\": [{\"data\": [0.8825869002123199]}]}, {\"name\": \"log_loss\", \"run_id\": \"AutoML_85117436-7ff3-40ec-b495-51c91b3eb1e8\", \"categories\": [0], \"series\": [{\"data\": [0.3842550753224467]}]}], \"run_logs\": \"\\nRun is completed.\", \"graph\": {}, \"widget_settings\": {\"childWidgetDisplay\": \"popup\", \"send_telemetry\": false, \"log_level\": \"INFO\", \"sdk_version\": \"1.20.0\"}, \"loading\": false}"
          },
          "metadata": {}
        },
        {
          "output_type": "stream",
          "name": "stdout",
          "text": [
            "\n",
            "Current status: FeaturesGeneration. Generating features for the dataset.\n",
            "Current status: ModelSelection. Beginning model selection.\n",
            "\n",
            "****************************************************************************************************\n",
            "DATA GUARDRAILS: \n",
            "\n",
            "TYPE:         Class balancing detection\n",
            "STATUS:       PASSED\n",
            "DESCRIPTION:  Your inputs were analyzed, and all classes are balanced in your training data.\n",
            "              Learn more about imbalanced data: https://aka.ms/AutomatedMLImbalancedData\n",
            "\n",
            "****************************************************************************************************\n",
            "\n",
            "TYPE:         Missing feature values imputation\n",
            "STATUS:       PASSED\n",
            "DESCRIPTION:  No feature missing values were detected in the training data.\n",
            "              Learn more about missing value imputation: https://aka.ms/AutomatedMLFeaturization\n",
            "\n",
            "****************************************************************************************************\n",
            "\n",
            "TYPE:         High cardinality feature detection\n",
            "STATUS:       PASSED\n",
            "DESCRIPTION:  Your inputs were analyzed, and no high cardinality features were detected.\n",
            "              Learn more about high cardinality feature handling: https://aka.ms/AutomatedMLFeaturization\n",
            "\n",
            "****************************************************************************************************\n",
            "\n",
            "****************************************************************************************************\n",
            "ITERATION: The iteration being evaluated.\n",
            "PIPELINE: A summary description of the pipeline being evaluated.\n",
            "DURATION: Time taken for the current iteration.\n",
            "METRIC: The result of computing score on the fitted pipeline.\n",
            "BEST: The best observed score thus far.\n",
            "****************************************************************************************************\n",
            "\n",
            " ITERATION   PIPELINE                                       DURATION      METRIC      BEST\n",
            "         1                                                  0:00:01          nan       nan\n",
            "ERROR: {\n",
            "    \"additional_properties\": {},\n",
            "    \"error\": {\n",
            "        \"additional_properties\": {\n",
            "            \"debugInfo\": null\n",
            "        },\n",
            "        \"code\": \"UserError\",\n",
            "        \"severity\": null,\n",
            "        \"message\": \"Unable to find snapshot with id: 2bc192e6-0f75-400b-b490-3d3737e937d2\",\n",
            "        \"message_format\": null,\n",
            "        \"message_parameters\": null,\n",
            "        \"reference_code\": null,\n",
            "        \"details_uri\": null,\n",
            "        \"target\": null,\n",
            "        \"details\": [],\n",
            "        \"inner_error\": {\n",
            "            \"additional_properties\": {},\n",
            "            \"code\": \"NotFoundError\",\n",
            "            \"inner_error\": null\n",
            "        }\n",
            "    },\n",
            "    \"correlation\": {\n",
            "        \"operation\": \"b578e3d274de33419dc81e1d31e69bba\",\n",
            "        \"request\": \"f04dc1cf6b8c3c4a\"\n",
            "    },\n",
            "    \"environment\": \"southcentralus\",\n",
            "    \"location\": \"southcentralus\",\n",
            "    \"time\": {},\n",
            "    \"component_name\": \"project\"\n",
            "}\n",
            "         2   MinMaxScaler RandomForest                      0:00:57       0.8529    0.8529\n",
            "         0   MaxAbsScaler LightGBM                          0:00:49       0.8060    0.8529\n",
            "         3   MinMaxScaler RandomForest                      0:00:52       0.8394    0.8529\n",
            "         7   MinMaxScaler SVM                               0:00:48       0.7158    0.8529\n",
            "         8   MaxAbsScaler GradientBoosting                  0:00:53       0.8260    0.8529\n",
            "         4   MinMaxScaler RandomForest                      0:03:23       0.8360    0.8529\n",
            "         5   SparseNormalizer XGBoostClassifier             0:03:27       0.8428    0.8529\n",
            "         6   RobustScaler ExtremeRandomTrees                0:03:26       0.8428    0.8529\n",
            "         9   SparseNormalizer LightGBM                      0:00:52       0.7360    0.8529\n",
            "        10   StandardScalerWrapper RandomForest             0:00:51       0.8428    0.8529\n",
            "        11   RobustScaler GradientBoosting                  0:00:48       0.8495    0.8529\n",
            "        12   SparseNormalizer XGBoostClassifier             0:00:48       0.8094    0.8529\n",
            "        13   StandardScalerWrapper RandomForest             0:00:45       0.8327    0.8529\n",
            "        14   RobustScaler ExtremeRandomTrees                0:00:55       0.8562    0.8562\n",
            "        16   SparseNormalizer XGBoostClassifier             0:00:48       0.8429    0.8562\n",
            "        15   MaxAbsScaler LightGBM                          0:00:55       0.8460    0.8562\n",
            "        17   SparseNormalizer XGBoostClassifier             0:00:46       0.8462    0.8562\n",
            "        18   RobustScaler LightGBM                          0:00:48       0.7828    0.8562\n",
            "        19   RobustScaler LightGBM                          0:00:48       0.7659    0.8562\n",
            "        20   SparseNormalizer XGBoostClassifier             0:00:55       0.8228    0.8562\n",
            "        21   SparseNormalizer XGBoostClassifier             0:00:53       0.8328    0.8562\n",
            "        22   RobustScaler ExtremeRandomTrees                0:00:49       0.8495    0.8562\n",
            "        23   SparseNormalizer LightGBM                      0:00:49       0.8462    0.8562\n",
            "        24   MinMaxScaler LightGBM                          0:00:46       0.8293    0.8562\n",
            "        25   StandardScalerWrapper ExtremeRandomTrees       0:00:52       0.3776    0.8562\n",
            "        26   MaxAbsScaler ExtremeRandomTrees                0:00:52       0.8094    0.8562\n",
            "        27   StandardScalerWrapper ExtremeRandomTrees       0:00:49       0.8428    0.8562\n",
            "        28   StandardScalerWrapper RandomForest             0:00:46       0.8057    0.8562\n",
            "        29   StandardScalerWrapper XGBoostClassifier        0:00:49       0.8394    0.8562\n",
            "        30   StandardScalerWrapper ExtremeRandomTrees       0:00:50       0.8462    0.8562\n",
            "        31   StandardScalerWrapper LightGBM                 0:00:51       0.8361    0.8562\n",
            "        32   StandardScalerWrapper XGBoostClassifier        0:00:47       0.8327    0.8562\n",
            "        33                                                  0:00:22          nan    0.8562\n",
            "        34                                                  0:00:19          nan    0.8562\n",
            "        36    StackEnsemble                                 0:01:20       0.8529    0.8562\n",
            "        35    VotingEnsemble                                0:01:34       0.8730    0.8730\n"
          ]
        },
        {
          "output_type": "execute_result",
          "execution_count": 9,
          "data": {
            "text/plain": "{'runId': 'AutoML_85117436-7ff3-40ec-b495-51c91b3eb1e8',\n 'target': 'capstone-cluster',\n 'status': 'Completed',\n 'startTimeUtc': '2021-02-07T19:34:03.129963Z',\n 'endTimeUtc': '2021-02-07T19:56:15.222984Z',\n 'properties': {'num_iterations': '1000',\n  'training_type': 'TrainFull',\n  'acquisition_function': 'EI',\n  'primary_metric': 'accuracy',\n  'train_split': '0',\n  'acquisition_parameter': '0',\n  'num_cross_validation': '5',\n  'target': 'capstone-cluster',\n  'AMLSettingsJsonString': '{\"path\":null,\"name\":\"automl_heart_failure_prediction\",\"subscription_id\":\"a24a24d5-8d87-4c8a-99b6-91ed2d2df51f\",\"resource_group\":\"aml-quickstarts-137970\",\"workspace_name\":\"quick-starts-ws-137970\",\"region\":\"southcentralus\",\"compute_target\":\"capstone-cluster\",\"spark_service\":null,\"azure_service\":\"remote\",\"many_models\":false,\"pipeline_fetch_max_batch_size\":1,\"iterations\":1000,\"primary_metric\":\"accuracy\",\"task_type\":\"classification\",\"data_script\":null,\"validation_size\":0.0,\"n_cross_validations\":5,\"y_min\":null,\"y_max\":null,\"num_classes\":null,\"featurization\":\"auto\",\"_ignore_package_version_incompatibilities\":false,\"is_timeseries\":false,\"max_cores_per_iteration\":1,\"max_concurrent_iterations\":4,\"iteration_timeout_minutes\":null,\"mem_in_mb\":null,\"enforce_time_on_windows\":false,\"experiment_timeout_minutes\":30,\"experiment_exit_score\":null,\"whitelist_models\":null,\"blacklist_algos\":[\"TensorFlowLinearClassifier\",\"TensorFlowDNN\"],\"supported_models\":[\"AveragedPerceptronClassifier\",\"LinearSVM\",\"DecisionTree\",\"BernoulliNaiveBayes\",\"TensorFlowLinearClassifier\",\"MultinomialNaiveBayes\",\"SVM\",\"SGD\",\"ExtremeRandomTrees\",\"RandomForest\",\"XGBoostClassifier\",\"KNN\",\"GradientBoosting\",\"LightGBM\",\"LogisticRegression\",\"TensorFlowDNN\"],\"auto_blacklist\":true,\"blacklist_samples_reached\":false,\"exclude_nan_labels\":true,\"verbosity\":20,\"_debug_log\":\"azureml_automl.log\",\"show_warnings\":false,\"model_explainability\":true,\"service_url\":null,\"sdk_url\":null,\"sdk_packages\":null,\"enable_onnx_compatible_models\":false,\"enable_split_onnx_featurizer_estimator_models\":false,\"vm_type\":\"STANDARD_D2_V2\",\"telemetry_verbosity\":20,\"send_telemetry\":true,\"enable_dnn\":false,\"scenario\":\"SDK-1.13.0\",\"environment_label\":null,\"force_text_dnn\":false,\"enable_feature_sweeping\":true,\"enable_early_stopping\":true,\"early_stopping_n_iters\":10,\"metrics\":null,\"enable_ensembling\":true,\"enable_stack_ensembling\":true,\"ensemble_iterations\":15,\"enable_tf\":false,\"enable_subsampling\":null,\"subsample_seed\":null,\"enable_nimbusml\":false,\"enable_streaming\":false,\"force_streaming\":false,\"track_child_runs\":true,\"allowed_private_models\":[],\"label_column_name\":\"DEATH_EVENT\",\"weight_column_name\":null,\"cv_split_column_names\":null,\"enable_local_managed\":false,\"_local_managed_run_id\":null,\"cost_mode\":1,\"lag_length\":0,\"metric_operation\":\"maximize\",\"preprocess\":true}',\n  'DataPrepJsonString': '{\\\\\"training_data\\\\\": \\\\\"{\\\\\\\\\\\\\"blocks\\\\\\\\\\\\\": [{\\\\\\\\\\\\\"id\\\\\\\\\\\\\": \\\\\\\\\\\\\"4a49e797-912f-4914-938d-e81c809366b4\\\\\\\\\\\\\", \\\\\\\\\\\\\"type\\\\\\\\\\\\\": \\\\\\\\\\\\\"Microsoft.DPrep.GetDatastoreFilesBlock\\\\\\\\\\\\\", \\\\\\\\\\\\\"arguments\\\\\\\\\\\\\": {\\\\\\\\\\\\\"datastores\\\\\\\\\\\\\": [{\\\\\\\\\\\\\"datastoreName\\\\\\\\\\\\\": \\\\\\\\\\\\\"workspaceblobstore\\\\\\\\\\\\\", \\\\\\\\\\\\\"path\\\\\\\\\\\\\": \\\\\\\\\\\\\"UI/02-07-2021_071807_UTC/heart_failure_clinical_records_dataset.csv\\\\\\\\\\\\\", \\\\\\\\\\\\\"resourceGroup\\\\\\\\\\\\\": \\\\\\\\\\\\\"aml-quickstarts-137970\\\\\\\\\\\\\", \\\\\\\\\\\\\"subscription\\\\\\\\\\\\\": \\\\\\\\\\\\\"a24a24d5-8d87-4c8a-99b6-91ed2d2df51f\\\\\\\\\\\\\", \\\\\\\\\\\\\"workspaceName\\\\\\\\\\\\\": \\\\\\\\\\\\\"quick-starts-ws-137970\\\\\\\\\\\\\"}]}, \\\\\\\\\\\\\"localData\\\\\\\\\\\\\": {}, \\\\\\\\\\\\\"isEnabled\\\\\\\\\\\\\": true, \\\\\\\\\\\\\"name\\\\\\\\\\\\\": null, \\\\\\\\\\\\\"annotation\\\\\\\\\\\\\": null}, {\\\\\\\\\\\\\"id\\\\\\\\\\\\\": \\\\\\\\\\\\\"035e6729-cae5-430d-9b30-e288de50429a\\\\\\\\\\\\\", \\\\\\\\\\\\\"type\\\\\\\\\\\\\": \\\\\\\\\\\\\"Microsoft.DPrep.ParseDelimitedBlock\\\\\\\\\\\\\", \\\\\\\\\\\\\"arguments\\\\\\\\\\\\\": {\\\\\\\\\\\\\"columnHeadersMode\\\\\\\\\\\\\": 1, \\\\\\\\\\\\\"fileEncoding\\\\\\\\\\\\\": 0, \\\\\\\\\\\\\"handleQuotedLineBreaks\\\\\\\\\\\\\": false, \\\\\\\\\\\\\"preview\\\\\\\\\\\\\": false, \\\\\\\\\\\\\"separator\\\\\\\\\\\\\": \\\\\\\\\\\\\",\\\\\\\\\\\\\", \\\\\\\\\\\\\"skipRows\\\\\\\\\\\\\": 0, \\\\\\\\\\\\\"skipRowsMode\\\\\\\\\\\\\": 0}, \\\\\\\\\\\\\"localData\\\\\\\\\\\\\": {}, \\\\\\\\\\\\\"isEnabled\\\\\\\\\\\\\": true, \\\\\\\\\\\\\"name\\\\\\\\\\\\\": null, \\\\\\\\\\\\\"annotation\\\\\\\\\\\\\": null}, {\\\\\\\\\\\\\"id\\\\\\\\\\\\\": \\\\\\\\\\\\\"5b847973-55fa-4193-8530-d33389eff70a\\\\\\\\\\\\\", \\\\\\\\\\\\\"type\\\\\\\\\\\\\": \\\\\\\\\\\\\"Microsoft.DPrep.DropColumnsBlock\\\\\\\\\\\\\", \\\\\\\\\\\\\"arguments\\\\\\\\\\\\\": {\\\\\\\\\\\\\"columns\\\\\\\\\\\\\": {\\\\\\\\\\\\\"type\\\\\\\\\\\\\": 0, \\\\\\\\\\\\\"details\\\\\\\\\\\\\": {\\\\\\\\\\\\\"selectedColumns\\\\\\\\\\\\\": [\\\\\\\\\\\\\"Path\\\\\\\\\\\\\"]}}}, \\\\\\\\\\\\\"localData\\\\\\\\\\\\\": {}, \\\\\\\\\\\\\"isEnabled\\\\\\\\\\\\\": true, \\\\\\\\\\\\\"name\\\\\\\\\\\\\": null, \\\\\\\\\\\\\"annotation\\\\\\\\\\\\\": null}, {\\\\\\\\\\\\\"id\\\\\\\\\\\\\": \\\\\\\\\\\\\"0d5f8964-0c53-4167-b188-2578db9f73ef\\\\\\\\\\\\\", \\\\\\\\\\\\\"type\\\\\\\\\\\\\": \\\\\\\\\\\\\"Microsoft.DPrep.SetColumnTypesBlock\\\\\\\\\\\\\", \\\\\\\\\\\\\"arguments\\\\\\\\\\\\\": {\\\\\\\\\\\\\"columnConversion\\\\\\\\\\\\\": [{\\\\\\\\\\\\\"column\\\\\\\\\\\\\": {\\\\\\\\\\\\\"type\\\\\\\\\\\\\": 2, \\\\\\\\\\\\\"details\\\\\\\\\\\\\": {\\\\\\\\\\\\\"selectedColumn\\\\\\\\\\\\\": \\\\\\\\\\\\\"Path\\\\\\\\\\\\\"}}, \\\\\\\\\\\\\"typeProperty\\\\\\\\\\\\\": 0}, {\\\\\\\\\\\\\"column\\\\\\\\\\\\\": {\\\\\\\\\\\\\"type\\\\\\\\\\\\\": 2, \\\\\\\\\\\\\"details\\\\\\\\\\\\\": {\\\\\\\\\\\\\"selectedColumn\\\\\\\\\\\\\": \\\\\\\\\\\\\"age\\\\\\\\\\\\\"}}, \\\\\\\\\\\\\"typeProperty\\\\\\\\\\\\\": 3}, {\\\\\\\\\\\\\"column\\\\\\\\\\\\\": {\\\\\\\\\\\\\"type\\\\\\\\\\\\\": 2, \\\\\\\\\\\\\"details\\\\\\\\\\\\\": {\\\\\\\\\\\\\"selectedColumn\\\\\\\\\\\\\": \\\\\\\\\\\\\"anaemia\\\\\\\\\\\\\"}}, \\\\\\\\\\\\\"typeProperty\\\\\\\\\\\\\": 2}, {\\\\\\\\\\\\\"column\\\\\\\\\\\\\": {\\\\\\\\\\\\\"type\\\\\\\\\\\\\": 2, \\\\\\\\\\\\\"details\\\\\\\\\\\\\": {\\\\\\\\\\\\\"selectedColumn\\\\\\\\\\\\\": \\\\\\\\\\\\\"creatinine_phosphokinase\\\\\\\\\\\\\"}}, \\\\\\\\\\\\\"typeProperty\\\\\\\\\\\\\": 2}, {\\\\\\\\\\\\\"column\\\\\\\\\\\\\": {\\\\\\\\\\\\\"type\\\\\\\\\\\\\": 2, \\\\\\\\\\\\\"details\\\\\\\\\\\\\": {\\\\\\\\\\\\\"selectedColumn\\\\\\\\\\\\\": \\\\\\\\\\\\\"diabetes\\\\\\\\\\\\\"}}, \\\\\\\\\\\\\"typeProperty\\\\\\\\\\\\\": 2}, {\\\\\\\\\\\\\"column\\\\\\\\\\\\\": {\\\\\\\\\\\\\"type\\\\\\\\\\\\\": 2, \\\\\\\\\\\\\"details\\\\\\\\\\\\\": {\\\\\\\\\\\\\"selectedColumn\\\\\\\\\\\\\": \\\\\\\\\\\\\"ejection_fraction\\\\\\\\\\\\\"}}, \\\\\\\\\\\\\"typeProperty\\\\\\\\\\\\\": 2}, {\\\\\\\\\\\\\"column\\\\\\\\\\\\\": {\\\\\\\\\\\\\"type\\\\\\\\\\\\\": 2, \\\\\\\\\\\\\"details\\\\\\\\\\\\\": {\\\\\\\\\\\\\"selectedColumn\\\\\\\\\\\\\": \\\\\\\\\\\\\"high_blood_pressure\\\\\\\\\\\\\"}}, \\\\\\\\\\\\\"typeProperty\\\\\\\\\\\\\": 2}, {\\\\\\\\\\\\\"column\\\\\\\\\\\\\": {\\\\\\\\\\\\\"type\\\\\\\\\\\\\": 2, \\\\\\\\\\\\\"details\\\\\\\\\\\\\": {\\\\\\\\\\\\\"selectedColumn\\\\\\\\\\\\\": \\\\\\\\\\\\\"platelets\\\\\\\\\\\\\"}}, \\\\\\\\\\\\\"typeProperty\\\\\\\\\\\\\": 3}, {\\\\\\\\\\\\\"column\\\\\\\\\\\\\": {\\\\\\\\\\\\\"type\\\\\\\\\\\\\": 2, \\\\\\\\\\\\\"details\\\\\\\\\\\\\": {\\\\\\\\\\\\\"selectedColumn\\\\\\\\\\\\\": \\\\\\\\\\\\\"serum_creatinine\\\\\\\\\\\\\"}}, \\\\\\\\\\\\\"typeProperty\\\\\\\\\\\\\": 3}, {\\\\\\\\\\\\\"column\\\\\\\\\\\\\": {\\\\\\\\\\\\\"type\\\\\\\\\\\\\": 2, \\\\\\\\\\\\\"details\\\\\\\\\\\\\": {\\\\\\\\\\\\\"selectedColumn\\\\\\\\\\\\\": \\\\\\\\\\\\\"serum_sodium\\\\\\\\\\\\\"}}, \\\\\\\\\\\\\"typeProperty\\\\\\\\\\\\\": 2}, {\\\\\\\\\\\\\"column\\\\\\\\\\\\\": {\\\\\\\\\\\\\"type\\\\\\\\\\\\\": 2, \\\\\\\\\\\\\"details\\\\\\\\\\\\\": {\\\\\\\\\\\\\"selectedColumn\\\\\\\\\\\\\": \\\\\\\\\\\\\"sex\\\\\\\\\\\\\"}}, \\\\\\\\\\\\\"typeProperty\\\\\\\\\\\\\": 2}, {\\\\\\\\\\\\\"column\\\\\\\\\\\\\": {\\\\\\\\\\\\\"type\\\\\\\\\\\\\": 2, \\\\\\\\\\\\\"details\\\\\\\\\\\\\": {\\\\\\\\\\\\\"selectedColumn\\\\\\\\\\\\\": \\\\\\\\\\\\\"smoking\\\\\\\\\\\\\"}}, \\\\\\\\\\\\\"typeProperty\\\\\\\\\\\\\": 2}, {\\\\\\\\\\\\\"column\\\\\\\\\\\\\": {\\\\\\\\\\\\\"type\\\\\\\\\\\\\": 2, \\\\\\\\\\\\\"details\\\\\\\\\\\\\": {\\\\\\\\\\\\\"selectedColumn\\\\\\\\\\\\\": \\\\\\\\\\\\\"time\\\\\\\\\\\\\"}}, \\\\\\\\\\\\\"typeProperty\\\\\\\\\\\\\": 2}, {\\\\\\\\\\\\\"column\\\\\\\\\\\\\": {\\\\\\\\\\\\\"type\\\\\\\\\\\\\": 2, \\\\\\\\\\\\\"details\\\\\\\\\\\\\": {\\\\\\\\\\\\\"selectedColumn\\\\\\\\\\\\\": \\\\\\\\\\\\\"DEATH_EVENT\\\\\\\\\\\\\"}}, \\\\\\\\\\\\\"typeProperty\\\\\\\\\\\\\": 2}]}, \\\\\\\\\\\\\"localData\\\\\\\\\\\\\": {}, \\\\\\\\\\\\\"isEnabled\\\\\\\\\\\\\": true, \\\\\\\\\\\\\"name\\\\\\\\\\\\\": null, \\\\\\\\\\\\\"annotation\\\\\\\\\\\\\": null}], \\\\\\\\\\\\\"inspectors\\\\\\\\\\\\\": [], \\\\\\\\\\\\\"meta\\\\\\\\\\\\\": {\\\\\\\\\\\\\"savedDatasetId\\\\\\\\\\\\\": \\\\\\\\\\\\\"4a965a07-c0f6-46c6-b517-30f3542fb897\\\\\\\\\\\\\", \\\\\\\\\\\\\"datasetType\\\\\\\\\\\\\": \\\\\\\\\\\\\"tabular\\\\\\\\\\\\\", \\\\\\\\\\\\\"subscriptionId\\\\\\\\\\\\\": \\\\\\\\\\\\\"a24a24d5-8d87-4c8a-99b6-91ed2d2df51f\\\\\\\\\\\\\", \\\\\\\\\\\\\"workspaceId\\\\\\\\\\\\\": \\\\\\\\\\\\\"6a7154b2-7056-46a4-957f-9541e2489c83\\\\\\\\\\\\\", \\\\\\\\\\\\\"workspaceLocation\\\\\\\\\\\\\": \\\\\\\\\\\\\"southcentralus\\\\\\\\\\\\\"}}\\\\\", \\\\\"activities\\\\\": 0}',\n  'EnableSubsampling': None,\n  'runTemplate': 'AutoML',\n  'azureml.runsource': 'automl',\n  'display_task_type': 'classification',\n  'dependencies_versions': '{\"azureml-widgets\": \"1.20.0\", \"azureml-train\": \"1.20.0\", \"azureml-train-restclients-hyperdrive\": \"1.20.0\", \"azureml-train-core\": \"1.20.0\", \"azureml-train-automl\": \"1.20.0\", \"azureml-train-automl-runtime\": \"1.20.0\", \"azureml-train-automl-client\": \"1.20.0\", \"azureml-tensorboard\": \"1.20.0\", \"azureml-telemetry\": \"1.20.0\", \"azureml-sdk\": \"1.20.0\", \"azureml-samples\": \"0+unknown\", \"azureml-pipeline\": \"1.20.0\", \"azureml-pipeline-steps\": \"1.20.0\", \"azureml-pipeline-core\": \"1.20.0\", \"azureml-opendatasets\": \"1.20.0\", \"azureml-model-management-sdk\": \"1.0.1b6.post1\", \"azureml-mlflow\": \"1.20.0.post1\", \"azureml-interpret\": \"1.20.0\", \"azureml-explain-model\": \"1.20.0\", \"azureml-defaults\": \"1.20.0\", \"azureml-dataset-runtime\": \"1.20.0\", \"azureml-dataprep\": \"2.7.3\", \"azureml-dataprep-rslex\": \"1.5.0\", \"azureml-dataprep-native\": \"27.0.0\", \"azureml-datadrift\": \"1.20.0\", \"azureml-core\": \"1.20.0\", \"azureml-contrib-services\": \"1.20.0\", \"azureml-contrib-server\": \"1.20.0\", \"azureml-contrib-reinforcementlearning\": \"1.20.0\", \"azureml-contrib-pipeline-steps\": \"1.20.0\", \"azureml-contrib-notebook\": \"1.20.0\", \"azureml-contrib-interpret\": \"1.20.0\", \"azureml-contrib-gbdt\": \"1.20.0\", \"azureml-contrib-fairness\": \"1.20.0\", \"azureml-contrib-dataset\": \"1.20.0\", \"azureml-cli-common\": \"1.20.0\", \"azureml-automl-runtime\": \"1.20.0\", \"azureml-automl-core\": \"1.20.0\", \"azureml-accel-models\": \"1.20.0\"}',\n  '_aml_system_scenario_identification': 'Remote.Parent',\n  'ClientType': 'SDK',\n  'environment_cpu_name': 'AzureML-AutoML',\n  'environment_cpu_label': 'prod',\n  'environment_gpu_name': 'AzureML-AutoML-GPU',\n  'environment_gpu_label': 'prod',\n  'root_attribution': 'automl',\n  'attribution': 'AutoML',\n  'Orchestrator': 'AutoML',\n  'CancelUri': 'https://southcentralus.experiments.azureml.net/jasmine/v1.0/subscriptions/a24a24d5-8d87-4c8a-99b6-91ed2d2df51f/resourceGroups/aml-quickstarts-137970/providers/Microsoft.MachineLearningServices/workspaces/quick-starts-ws-137970/experimentids/539d8646-380c-4407-a767-39a1f9ed0078/cancel/AutoML_85117436-7ff3-40ec-b495-51c91b3eb1e8',\n  'ClientSdkVersion': '1.21.0',\n  'snapshotId': '00000000-0000-0000-0000-000000000000',\n  'SetupRunId': 'AutoML_85117436-7ff3-40ec-b495-51c91b3eb1e8_setup',\n  'SetupRunContainerId': 'dcid.AutoML_85117436-7ff3-40ec-b495-51c91b3eb1e8_setup',\n  'FeaturizationRunJsonPath': 'featurizer_container.json',\n  'FeaturizationRunId': 'AutoML_85117436-7ff3-40ec-b495-51c91b3eb1e8_featurize',\n  'ProblemInfoJsonString': '{\"dataset_num_categorical\": 0, \"is_sparse\": false, \"subsampling\": false, \"dataset_classes\": 2, \"dataset_features\": 12, \"dataset_samples\": 299, \"single_frequency_class_detected\": false}',\n  'ModelExplainRunId': 'AutoML_85117436-7ff3-40ec-b495-51c91b3eb1e8_ModelExplain'},\n 'inputDatasets': [{'dataset': {'id': '4a965a07-c0f6-46c6-b517-30f3542fb897'}, 'consumptionDetails': {'type': 'RunInput', 'inputName': 'training_data', 'mechanism': 'Direct'}}],\n 'outputDatasets': [],\n 'logFiles': {},\n 'submittedBy': 'ODL_User 137970'}"
          },
          "metadata": {}
        }
      ],
      "execution_count": 9,
      "metadata": {
        "gather": {
          "logged": 1612727787236
        },
        "jupyter": {
          "outputs_hidden": false,
          "source_hidden": false
        },
        "nteract": {
          "transient": {
            "deleting": false
          }
        }
      }
    },
    {
      "cell_type": "markdown",
      "source": [
        "## Best Model\n",
        "\n",
        "TODO: In the cell below, get the best model from the automl experiments and display all the properties of the model.\n",
        "\n"
      ],
      "metadata": {}
    },
    {
      "cell_type": "code",
      "source": [
        "automl_best_run, automl_fitted_model = remote_run.get_output()"
      ],
      "outputs": [
        {
          "output_type": "stream",
          "name": "stderr",
          "text": [
            "WARNING:root:The version of the SDK does not match the version the model was trained on.\n",
            "WARNING:root:The consistency in the result may not be guaranteed.\n",
            "WARNING:root:Package:azureml-automl-core, training version:1.21.0, current version:1.20.0\n",
            "Package:azureml-automl-runtime, training version:1.21.0, current version:1.20.0\n",
            "Package:azureml-core, training version:1.21.0.post1, current version:1.20.0\n",
            "Package:azureml-dataprep, training version:2.8.2, current version:2.7.3\n",
            "Package:azureml-dataprep-native, training version:28.0.0, current version:27.0.0\n",
            "Package:azureml-dataprep-rslex, training version:1.6.0, current version:1.5.0\n",
            "Package:azureml-dataset-runtime, training version:1.21.0, current version:1.20.0\n",
            "Package:azureml-defaults, training version:1.21.0, current version:1.20.0\n",
            "Package:azureml-interpret, training version:1.21.0, current version:1.20.0\n",
            "Package:azureml-pipeline-core, training version:1.21.0, current version:1.20.0\n",
            "Package:azureml-telemetry, training version:1.21.0, current version:1.20.0\n",
            "Package:azureml-train-automl-client, training version:1.21.0, current version:1.20.0\n",
            "Package:azureml-train-automl-runtime, training version:1.21.0, current version:1.20.0\n",
            "WARNING:root:Please ensure the version of your local conda dependencies match the version on which your model was trained in order to properly retrieve your model.\n"
          ]
        }
      ],
      "execution_count": 10,
      "metadata": {
        "gather": {
          "logged": 1612727832787
        },
        "jupyter": {
          "outputs_hidden": false,
          "source_hidden": false
        },
        "nteract": {
          "transient": {
            "deleting": false
          }
        }
      }
    },
    {
      "cell_type": "code",
      "source": [
        "automl_best_run.get_metrics()"
      ],
      "outputs": [
        {
          "output_type": "execute_result",
          "execution_count": 11,
          "data": {
            "text/plain": "{'log_loss': 0.3842550753224467,\n 'precision_score_macro': 0.8825869002123199,\n 'balanced_accuracy': 0.8399702380952381,\n 'average_precision_score_micro': 0.9197613825109109,\n 'AUC_micro': 0.9182507580835647,\n 'matthews_correlation': 0.7189991168025636,\n 'f1_score_micro': 0.8729943502824857,\n 'precision_score_weighted': 0.8876404315985645,\n 'recall_score_micro': 0.8729943502824857,\n 'AUC_macro': 0.9175381598375785,\n 'AUC_weighted': 0.9175381598375782,\n 'f1_score_weighted': 0.8672342871168602,\n 'accuracy': 0.8729943502824857,\n 'weighted_accuracy': 0.8950749382888548,\n 'average_precision_score_weighted': 0.927591818820497,\n 'recall_score_weighted': 0.8729943502824857,\n 'precision_score_micro': 0.8729943502824857,\n 'norm_macro_recall': 0.6799404761904763,\n 'f1_score_macro': 0.8460326632991864,\n 'average_precision_score_macro': 0.9048322035366674,\n 'recall_score_macro': 0.8399702380952381,\n 'confusion_matrix': 'aml://artifactId/ExperimentRun/dcid.AutoML_85117436-7ff3-40ec-b495-51c91b3eb1e8_35/confusion_matrix',\n 'accuracy_table': 'aml://artifactId/ExperimentRun/dcid.AutoML_85117436-7ff3-40ec-b495-51c91b3eb1e8_35/accuracy_table'}"
          },
          "metadata": {}
        }
      ],
      "execution_count": 11,
      "metadata": {
        "gather": {
          "logged": 1612727888338
        }
      }
    },
    {
      "cell_type": "code",
      "source": [
        "print(automl_best_run)"
      ],
      "outputs": [
        {
          "output_type": "stream",
          "name": "stdout",
          "text": [
            "Run(Experiment: automl_heart_failure_prediction,\n",
            "Id: AutoML_85117436-7ff3-40ec-b495-51c91b3eb1e8_35,\n",
            "Type: azureml.scriptrun,\n",
            "Status: Completed)\n"
          ]
        }
      ],
      "execution_count": 12,
      "metadata": {
        "gather": {
          "logged": 1612727897653
        }
      }
    },
    {
      "cell_type": "code",
      "source": [
        "print(automl_fitted_model)"
      ],
      "outputs": [
        {
          "output_type": "stream",
          "name": "stdout",
          "text": [
            "Pipeline(memory=None,\n",
            "         steps=[('datatransformer',\n",
            "                 DataTransformer(enable_dnn=None, enable_feature_sweeping=None,\n",
            "                                 feature_sweeping_config=None,\n",
            "                                 feature_sweeping_timeout=None,\n",
            "                                 featurization_config=None, force_text_dnn=None,\n",
            "                                 is_cross_validation=None,\n",
            "                                 is_onnx_compatible=None, logger=None,\n",
            "                                 observer=None, task=None, working_dir=None)),\n",
            "                ('prefittedsoftvotingclassifier',...\n",
            "                                                                                               reg_alpha=2.0833333333333335,\n",
            "                                                                                               reg_lambda=0.3125,\n",
            "                                                                                               scale_pos_weight=1,\n",
            "                                                                                               seed=None,\n",
            "                                                                                               silent=None,\n",
            "                                                                                               subsample=1,\n",
            "                                                                                               tree_method='auto',\n",
            "                                                                                               verbose=-10,\n",
            "                                                                                               verbosity=0))],\n",
            "                                                                     verbose=False))],\n",
            "                                               flatten_transform=None,\n",
            "                                               weights=[0.14285714285714285,\n",
            "                                                        0.14285714285714285,\n",
            "                                                        0.14285714285714285,\n",
            "                                                        0.14285714285714285,\n",
            "                                                        0.14285714285714285,\n",
            "                                                        0.14285714285714285,\n",
            "                                                        0.14285714285714285]))],\n",
            "         verbose=False)\n"
          ]
        }
      ],
      "execution_count": 13,
      "metadata": {
        "gather": {
          "logged": 1612727903107
        }
      }
    },
    {
      "cell_type": "code",
      "source": [
        "# Retrieve and save your best automl model.\n",
        "\n",
        "os.makedirs('output', exist_ok=True)\n",
        "\n",
        "joblib.dump(value = automl_fitted_model, filename = 'output/best-automl.pkl')\n",
        "\n",
        "# from azureml.automl.runtime.onnx_convert import OnnxConverter\n",
        "\n",
        "# automl_best_run_onnx, automl_fitted_model_onnx = remote_run.get_output(return_onnx_model=True)\n",
        "\n",
        "# OnnxConverter.save_onnx_model(automl_fitted_model_onnx, './outputs/best_automl_model.onnx')"
      ],
      "outputs": [
        {
          "output_type": "execute_result",
          "execution_count": 18,
          "data": {
            "text/plain": "['output/best-automl.pkl']"
          },
          "metadata": {}
        }
      ],
      "execution_count": 18,
      "metadata": {
        "gather": {
          "logged": 1612728249156
        }
      }
    },
    {
      "cell_type": "code",
      "source": [],
      "outputs": [],
      "execution_count": null,
      "metadata": {}
    },
    {
      "cell_type": "markdown",
      "source": [
        "## Model Deployment\n",
        "\n",
        "Remember you have to deploy only one of the two models you trained.. Perform the steps in the rest of this notebook only if you wish to deploy this model.\n",
        "\n",
        "TODO: In the cell below, register the model, create an inference config and deploy the model as a web service."
      ],
      "metadata": {}
    },
    {
      "cell_type": "code",
      "source": [
        "model = Model.register(workspace = ws,\n",
        "                        model_path = 'output/best-automl.pkl',\n",
        "                        model_name = 'automl-best-model')\n",
        "\n",
        "automl_best_run.download_file(constants.CONDA_ENV_FILE_PATH, 'automl-env.yml')"
      ],
      "outputs": [
        {
          "output_type": "stream",
          "name": "stdout",
          "text": [
            "Registering model automl-best-model\n"
          ]
        }
      ],
      "execution_count": 22,
      "metadata": {
        "gather": {
          "logged": 1612728442620
        },
        "jupyter": {
          "outputs_hidden": false,
          "source_hidden": false
        },
        "nteract": {
          "transient": {
            "deleting": false
          }
        }
      }
    },
    {
      "cell_type": "code",
      "source": [
        "env = Environment.from_conda_specification('automl-env', 'automl-env.yml')\n",
        "\n",
        "inference_config = InferenceConfig(entry_script='score.py', environment=env)\n",
        "\n",
        "aci_config = AciWebservice.deploy_configuration(cpu_cores = 1, \n",
        "                                                memory_gb = 1,\n",
        "                                                auth_enabled = True, \n",
        "                                                enable_app_insights = True,\n",
        "                                                tags = {'name':'Heart failure prediction'},\n",
        "                                                description='Heart failure prediction model')\n",
        "\n",
        "service = model.deploy(workspace = ws, \n",
        "                       name = 'predict-heart-failure', \n",
        "                       models = [model], \n",
        "                       inference_config = inference_config,\n",
        "                       deployment_config = aci_config)\n",
        "\n",
        "service.wait_for_deployment(show_output=True)"
      ],
      "outputs": [
        {
          "output_type": "stream",
          "name": "stdout",
          "text": [
            "Tips: You can try get_logs(): https://aka.ms/debugimage#dockerlog or local deployment: https://aka.ms/debugimage#debug-locally to debug if deployment takes longer than 10 minutes.\n",
            "Running.................................................................................................................................................................\n",
            "Succeeded\n",
            "ACI service creation operation finished, operation \"Succeeded\"\n"
          ]
        }
      ],
      "execution_count": 25,
      "metadata": {
        "gather": {
          "logged": 1612729545664
        }
      }
    },
    {
      "cell_type": "code",
      "source": [
        "print(service.state)"
      ],
      "outputs": [
        {
          "output_type": "stream",
          "name": "stdout",
          "text": [
            "Healthy\n"
          ]
        }
      ],
      "execution_count": 26,
      "metadata": {
        "gather": {
          "logged": 1612729545977
        }
      }
    },
    {
      "cell_type": "code",
      "source": [
        "print(\"scoring URI: \" + service.scoring_uri)\n",
        "\n",
        "print(\"Swagger URI: \" + service.swagger_uri)\n",
        "\n",
        "print(\"Authetication Key: \" + service.get_keys()[0])"
      ],
      "outputs": [
        {
          "output_type": "stream",
          "name": "stdout",
          "text": [
            "scoring URI: http://b762ce8c-7573-4fb2-9bcf-91c961842760.southcentralus.azurecontainer.io/score\n",
            "Swagger URI: http://b762ce8c-7573-4fb2-9bcf-91c961842760.southcentralus.azurecontainer.io/swagger.json\n",
            "Authetication Key: HQYLGtvgYnFHhH0zSl7pH47deh2q5p5k\n"
          ]
        }
      ],
      "execution_count": 27,
      "metadata": {
        "gather": {
          "logged": 1612729552754
        }
      }
    },
    {
      "cell_type": "markdown",
      "source": [
        "TODO: In the cell below, send a request to the web service you deployed to test it."
      ],
      "metadata": {
        "collapsed": true,
        "gather": {
          "logged": 1598431657736
        },
        "jupyter": {
          "outputs_hidden": false,
          "source_hidden": false
        },
        "nteract": {
          "transient": {
            "deleting": false
          }
        }
      }
    },
    {
      "cell_type": "code",
      "source": [
        "import requests\n",
        "import json\n",
        "\n",
        "scoringuri = service.scoring_uri\n",
        "key = service.get_keys()[0]\n",
        "\n",
        "data= { \"data\":\n",
        "       [\n",
        "           {\n",
        "               'age': 74,\n",
        "               'anaemia': 1,\n",
        "               'creatinine_phosphokinase': 1618,\n",
        "               'diabetes': 1,\n",
        "               'ejection_fraction': 27,\n",
        "               'high_blood_pressure': 1,\n",
        "               'platelets': 275095,\n",
        "               'serum_creatinine': 2.3,\n",
        "               'serum_sodium': 133,\n",
        "               'sex': 0,\n",
        "               'smoking': 0,\n",
        "               'time': 9\n",
        "               \n",
        "           },\n",
        "           {\n",
        "               'age': 46,\n",
        "               'anaemia': 0,\n",
        "               'creatinine_phosphokinase': 800,\n",
        "               'diabetes': 0,\n",
        "               'ejection_fraction': 48,\n",
        "               'high_blood_pressure': 1,\n",
        "               'platelets': 259000,\n",
        "               'serum_creatinine': 1.79,\n",
        "               'serum_sodium': 135,\n",
        "               'sex': 1,\n",
        "               'smoking': 0,\n",
        "               'time': 107\n",
        "           }\n",
        "       ]\n",
        "    }\n",
        "input_data = json.dumps(data)\n",
        "\n",
        "headers = {'Content-Type': 'application/json'}\n",
        "headers['Authorization'] = f'Bearer {key}'\n",
        "\n",
        "response = requests.post(scoringuri, input_data, headers = headers)\n",
        "print(response.text)"
      ],
      "outputs": [
        {
          "output_type": "stream",
          "name": "stdout",
          "text": [
            "[1, 0]\n"
          ]
        }
      ],
      "execution_count": 34,
      "metadata": {
        "gather": {
          "logged": 1612729826957
        },
        "jupyter": {
          "outputs_hidden": false,
          "source_hidden": false
        },
        "nteract": {
          "transient": {
            "deleting": false
          }
        }
      }
    },
    {
      "cell_type": "markdown",
      "source": [
        "TODO: In the cell below, print the logs of the web service and delete the service"
      ],
      "metadata": {
        "collapsed": true,
        "gather": {
          "logged": 1598432765711
        },
        "jupyter": {
          "outputs_hidden": false,
          "source_hidden": false
        },
        "nteract": {
          "transient": {
            "deleting": false
          }
        }
      }
    },
    {
      "cell_type": "code",
      "source": [
        "print(service.get_logs())"
      ],
      "outputs": [
        {
          "output_type": "stream",
          "name": "stdout",
          "text": [
            "2021-02-07T20:25:17,812603938+00:00 - rsyslog/run \n",
            "2021-02-07T20:25:17,814253949+00:00 - iot-server/run \n",
            "2021-02-07T20:25:17,816836521+00:00 - nginx/run \n",
            "2021-02-07T20:25:17,818142208+00:00 - gunicorn/run \n",
            "/usr/sbin/nginx: /azureml-envs/azureml_7785023fceb74e4facc1b1a577b1faf9/lib/libcrypto.so.1.0.0: no version information available (required by /usr/sbin/nginx)\n",
            "/usr/sbin/nginx: /azureml-envs/azureml_7785023fceb74e4facc1b1a577b1faf9/lib/libcrypto.so.1.0.0: no version information available (required by /usr/sbin/nginx)\n",
            "/usr/sbin/nginx: /azureml-envs/azureml_7785023fceb74e4facc1b1a577b1faf9/lib/libssl.so.1.0.0: no version information available (required by /usr/sbin/nginx)\n",
            "/usr/sbin/nginx: /azureml-envs/azureml_7785023fceb74e4facc1b1a577b1faf9/lib/libssl.so.1.0.0: no version information available (required by /usr/sbin/nginx)\n",
            "/usr/sbin/nginx: /azureml-envs/azureml_7785023fceb74e4facc1b1a577b1faf9/lib/libssl.so.1.0.0: no version information available (required by /usr/sbin/nginx)\n",
            "rsyslogd: /azureml-envs/azureml_7785023fceb74e4facc1b1a577b1faf9/lib/libuuid.so.1: no version information available (required by rsyslogd)\n",
            "EdgeHubConnectionString and IOTEDGE_IOTHUBHOSTNAME are not set. Exiting...\n",
            "2021-02-07T20:25:18,034259146+00:00 - iot-server/finish 1 0\n",
            "2021-02-07T20:25:18,036685008+00:00 - Exit code 1 is normal. Not restarting iot-server.\n",
            "Starting gunicorn 19.9.0\n",
            "Listening at: http://127.0.0.1:31311 (15)\n",
            "Using worker: sync\n",
            "worker timeout is set to 300\n",
            "Booting worker with pid: 43\n",
            "SPARK_HOME not set. Skipping PySpark Initialization.\n",
            "Generating new fontManager, this may take some time...\n",
            "Initializing logger\n",
            "2021-02-07 20:25:20,259 | root | INFO | Starting up app insights client\n",
            "2021-02-07 20:25:20,259 | root | INFO | Starting up request id generator\n",
            "2021-02-07 20:25:20,259 | root | INFO | Starting up app insight hooks\n",
            "2021-02-07 20:25:20,260 | root | INFO | Invoking user's init function\n",
            "2021-02-07 20:25:21,146 | root | INFO | Users's init has completed successfully\n",
            "/azureml-envs/azureml_7785023fceb74e4facc1b1a577b1faf9/lib/python3.6/site-packages/sklearn/externals/joblib/__init__.py:15: FutureWarning: sklearn.externals.joblib is deprecated in 0.21 and will be removed in 0.23. Please import this functionality directly from joblib, which can be installed with: pip install joblib. If this warning is raised when loading pickled models, you may need to re-serialize those models with scikit-learn 0.21+.\n",
            "  warnings.warn(msg, category=FutureWarning)\n",
            "2021-02-07 20:25:21,150 | root | INFO | Skipping middleware: dbg_model_info as it's not enabled.\n",
            "2021-02-07 20:25:21,150 | root | INFO | Skipping middleware: dbg_resource_usage as it's not enabled.\n",
            "2021-02-07 20:25:21,151 | root | INFO | Scoring timeout is found from os.environ: 60000 ms\n",
            "2021-02-07 20:25:40,011 | root | INFO | Swagger file not present\n",
            "2021-02-07 20:25:40,011 | root | INFO | 404\n",
            "127.0.0.1 - - [07/Feb/2021:20:25:40 +0000] \"GET /swagger.json HTTP/1.0\" 404 19 \"-\" \"Go-http-client/1.1\"\n",
            "2021-02-07 20:25:45,536 | root | INFO | Swagger file not present\n",
            "2021-02-07 20:25:45,536 | root | INFO | 404\n",
            "127.0.0.1 - - [07/Feb/2021:20:25:45 +0000] \"GET /swagger.json HTTP/1.0\" 404 19 \"-\" \"Go-http-client/1.1\"\n",
            "2021-02-07 20:26:07,230 | root | INFO | Validation Request Content-Type\n",
            "2021-02-07 20:26:07,231 | root | INFO | Scoring Timer is set to 60.0 seconds\n",
            "2021-02-07 20:26:07,288 | root | INFO | 200\n",
            "127.0.0.1 - - [07/Feb/2021:20:26:07 +0000] \"POST /score HTTP/1.0\" 200 6 \"-\" \"python-requests/2.25.1\"\n",
            "2021-02-07 20:26:36,394 | root | INFO | Validation Request Content-Type\n",
            "2021-02-07 20:26:36,394 | root | INFO | Scoring Timer is set to 60.0 seconds\n",
            "2021-02-07 20:26:36,453 | root | INFO | 200\n",
            "127.0.0.1 - - [07/Feb/2021:20:26:36 +0000] \"POST /score HTTP/1.0\" 200 6 \"-\" \"python-requests/2.25.1\"\n",
            "2021-02-07 20:26:47,373 | root | INFO | Validation Request Content-Type\n",
            "2021-02-07 20:26:47,374 | root | INFO | Scoring Timer is set to 60.0 seconds\n",
            "2021-02-07 20:26:47,432 | root | INFO | 200\n",
            "127.0.0.1 - - [07/Feb/2021:20:26:47 +0000] \"POST /score HTTP/1.0\" 200 6 \"-\" \"python-requests/2.25.1\"\n",
            "2021-02-07 20:27:09,427 | root | INFO | Validation Request Content-Type\n",
            "2021-02-07 20:27:09,427 | root | INFO | Scoring Timer is set to 60.0 seconds\n",
            "2021-02-07 20:27:09,485 | root | INFO | 200\n",
            "127.0.0.1 - - [07/Feb/2021:20:27:09 +0000] \"POST /score HTTP/1.0\" 200 6 \"-\" \"python-requests/2.25.1\"\n",
            "2021-02-07 20:27:37,082 | root | INFO | Validation Request Content-Type\n",
            "2021-02-07 20:27:37,082 | root | INFO | Scoring Timer is set to 60.0 seconds\n",
            "2021-02-07 20:27:37,140 | root | INFO | 200\n",
            "127.0.0.1 - - [07/Feb/2021:20:27:37 +0000] \"POST /score HTTP/1.0\" 200 6 \"-\" \"python-requests/2.25.1\"\n",
            "2021-02-07 20:27:43,940 | root | INFO | Validation Request Content-Type\n",
            "2021-02-07 20:27:43,940 | root | INFO | Scoring Timer is set to 60.0 seconds\n",
            "2021-02-07 20:27:43,992 | root | INFO | 200\n",
            "127.0.0.1 - - [07/Feb/2021:20:27:43 +0000] \"POST /score HTTP/1.0\" 200 6 \"-\" \"python-requests/2.25.1\"\n",
            "2021-02-07 20:30:26,843 | root | INFO | Validation Request Content-Type\n",
            "2021-02-07 20:30:26,843 | root | INFO | Scoring Timer is set to 60.0 seconds\n",
            "2021-02-07 20:30:26,901 | root | INFO | 200\n",
            "127.0.0.1 - - [07/Feb/2021:20:30:26 +0000] \"POST /score HTTP/1.0\" 200 6 \"-\" \"python-requests/2.25.1\"\n",
            "\n"
          ]
        }
      ],
      "execution_count": 35,
      "metadata": {
        "jupyter": {
          "outputs_hidden": false,
          "source_hidden": false
        },
        "nteract": {
          "transient": {
            "deleting": false
          }
        },
        "gather": {
          "logged": 1612729854945
        }
      }
    },
    {
      "cell_type": "code",
      "source": [
        "service.delete()"
      ],
      "outputs": [],
      "execution_count": 1,
      "metadata": {}
    },
    {
      "cell_type": "code",
      "source": [],
      "outputs": [],
      "execution_count": 2,
      "metadata": {}
    }
  ],
  "metadata": {
    "kernel_info": {
      "name": "python3"
    },
    "kernelspec": {
      "name": "python3",
      "language": "python",
      "display_name": "Python 3"
    },
    "language_info": {
      "name": "python",
      "version": "3.6.9",
      "mimetype": "text/x-python",
      "codemirror_mode": {
        "name": "ipython",
        "version": 3
      },
      "pygments_lexer": "ipython3",
      "nbconvert_exporter": "python",
      "file_extension": ".py"
    },
    "nteract": {
      "version": "nteract-front-end@1.0.0"
    }
  },
  "nbformat": 4,
  "nbformat_minor": 2
}